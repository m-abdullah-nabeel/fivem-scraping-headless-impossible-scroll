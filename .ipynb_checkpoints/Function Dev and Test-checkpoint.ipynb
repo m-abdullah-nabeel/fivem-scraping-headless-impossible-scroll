{
 "cells": [
  {
   "cell_type": "code",
   "execution_count": 1,
   "id": "a4ca7c78",
   "metadata": {},
   "outputs": [],
   "source": [
    "import time\n",
    "from threading import Thread\n",
    "import logging\n",
    "import os\n",
    "from datetime import datetime\n",
    "import re\n",
    "\n",
    "import pandas as pd\n",
    "from selenium import webdriver\n",
    "from selenium.webdriver.common.keys import Keys\n",
    "\n",
    "from selenium.webdriver.chrome.options import Options\n",
    "from selenium.webdriver.chrome.service import Service\n",
    "from selenium.webdriver.common.by import By\n",
    "from selenium.webdriver.support import expected_conditions as EC\n",
    "from selenium.webdriver.support.ui import WebDriverWait, Select\n",
    "from webdriver_manager.chrome import ChromeDriverManager\n",
    "from selenium.common.exceptions import TimeoutException, StaleElementReferenceException\n",
    "from selenium.webdriver.common.action_chains import ActionChains"
   ]
  },
  {
   "cell_type": "code",
   "execution_count": 2,
   "id": "99cf5beb",
   "metadata": {},
   "outputs": [],
   "source": [
    "user_agent = 'Mozilla/5.0 (X11; Linux x86_64) AppleWebKit/537.36 (KHTML, like Gecko) Chrome/60.0.3112.50 Safari/537.36'"
   ]
  },
  {
   "cell_type": "code",
   "execution_count": 3,
   "id": "c9bc4aff",
   "metadata": {},
   "outputs": [],
   "source": [
    "all_links = []"
   ]
  },
  {
   "cell_type": "code",
   "execution_count": 4,
   "id": "18025c00",
   "metadata": {},
   "outputs": [],
   "source": [
    "chrome_options = Options()\n",
    "chrome_options.add_argument('--ignore-certificate-errors')\n",
    "chrome_options.add_argument(f'user-agent={user_agent}')\n",
    "chrome_options.add_argument(\"--disable-session-crashed-bubble\")\n",
    "chrome_options.add_argument(\"--disable-notifications\")\n",
    "chrome_options.add_argument(\"--suppress-message-center-popups\")\n",
    "chrome_options.add_argument(\"--disable-blink-features=AutomationControlled\")\n",
    "chrome_options.add_argument(\"disable-infobars\")\n",
    "# chrome_options.add_argument('--headless')\n",
    "chrome_options.add_argument('--disable-gpu')\n",
    "chrome_options.add_argument('--no-sandbox')\n",
    "chrome_options.add_argument(\"--start-maximized\")\n",
    "chrome_options.add_argument(\"--window-size=1920x1080\")\n",
    "\n",
    "# chrome_options.add_argument(\"--no-first-run\")\n",
    "# chrome_options.add_argument(\"--disable-extensions\")\n",
    "# chrome_options.add_experimental_option(\"excludeSwitches\", [\"enable-automation\", \"enable-logging\"])\n",
    "# chrome_options.add_experimental_option('useAutomationExtension', False)\n",
    "# chrome_options.add_experimental_option(\"excludeSwitches\", [\"enable-logging\", \"test-type\"])"
   ]
  },
  {
   "cell_type": "code",
   "execution_count": 5,
   "id": "dbdc5938",
   "metadata": {},
   "outputs": [],
   "source": [
    "driver = webdriver.Chrome(service=Service(r\"chromedriver.exe\"), options=chrome_options)"
   ]
  },
  {
   "cell_type": "code",
   "execution_count": 6,
   "id": "97bddb12",
   "metadata": {},
   "outputs": [],
   "source": [
    "driver.get('https://servers.fivem.net/servers')"
   ]
  },
  {
   "cell_type": "code",
   "execution_count": 7,
   "id": "c88624cf",
   "metadata": {},
   "outputs": [
    {
     "name": "stdout",
     "output_type": "stream",
     "text": [
      "Waiting for empty box\n"
     ]
    }
   ],
   "source": [
    "print(\"Waiting for empty box\")\n",
    "fsl = WebDriverWait(driver, 60).until(\n",
    "    EC.presence_of_element_located((By.XPATH, \"//servers-list[1]//div[contains(@class, 'cdk-virtual-scroll-content-wrapper')]\"))\n",
    ")\n",
    "# //div[contains(@class, 'cdk-virtual-scroll-content-wrapper')]\n",
    "# //servers-list[1]//div[contains(@class, 'cdk-virtual-scroll-content-wrapper')]"
   ]
  },
  {
   "cell_type": "code",
   "execution_count": 8,
   "id": "5819f7e2",
   "metadata": {},
   "outputs": [
    {
     "name": "stdout",
     "output_type": "stream",
     "text": [
      "<selenium.webdriver.remote.webelement.WebElement (session=\"682fac497a29d6a29a12ada8c54bf01f\", element=\"4C30C0DB36269DE81A183D0DB1669BFF_element_61\")>\n"
     ]
    }
   ],
   "source": [
    "print(fsl)"
   ]
  },
  {
   "cell_type": "code",
   "execution_count": 9,
   "id": "c19cbb8b",
   "metadata": {},
   "outputs": [
    {
     "name": "stdout",
     "output_type": "stream",
     "text": [
      "Waiting for very first servers list / items\n",
      "<selenium.webdriver.remote.webelement.WebElement (session=\"682fac497a29d6a29a12ada8c54bf01f\", element=\"4C30C0DB36269DE81A183D0DB1669BFF_element_112\")> Pt\n",
      "VIP-RP18+┃Immersive Roleplay\n",
      "roleplay rp police drugs\n",
      "33/140\n"
     ]
    }
   ],
   "source": [
    "print(\"Waiting for very first servers list / items\")\n",
    "sname = WebDriverWait(fsl, 60).until(\n",
    "    EC.presence_of_element_located((By.XPATH, \".//*\"))\n",
    ")\n",
    "print(sname, sname.text)"
   ]
  },
  {
   "cell_type": "code",
   "execution_count": 10,
   "id": "fb93c0e6",
   "metadata": {},
   "outputs": [
    {
     "name": "stdout",
     "output_type": "stream",
     "text": [
      "Waiting for list of servers / items\n"
     ]
    }
   ],
   "source": [
    "print(\"Waiting for list of servers / items\")\n",
    "\n",
    "snl = WebDriverWait(fsl, 30).until(\n",
    "    EC.presence_of_all_elements_located((By.XPATH, \"//*/img\"))\n",
    ")"
   ]
  },
  {
   "cell_type": "code",
   "execution_count": 11,
   "id": "95da2405",
   "metadata": {},
   "outputs": [
    {
     "data": {
      "text/plain": [
       "57"
      ]
     },
     "execution_count": 11,
     "metadata": {},
     "output_type": "execute_result"
    }
   ],
   "source": [
    "len(snl)"
   ]
  },
  {
   "cell_type": "code",
   "execution_count": 14,
   "id": "a20f23a1",
   "metadata": {},
   "outputs": [],
   "source": [
    "# create a loop \n",
    "# inside loop take a step size of n\n",
    "# in each step\n",
    "# scrape first nth\n",
    "# then scroll into view nth elemnet"
   ]
  },
  {
   "cell_type": "code",
   "execution_count": 15,
   "id": "47c0c266",
   "metadata": {},
   "outputs": [],
   "source": [
    "# for i in range(0, 100, 10):\n",
    "#     print(i)\n",
    "#     print(f\"scrape from {i} to {i+10}\")\n",
    "#     for j in range(i, i+10): \n",
    "#         print(\"=> \", j)\n",
    "#     print(f\"Scroll into View, element number {i}\")\n"
   ]
  },
  {
   "cell_type": "code",
   "execution_count": 1,
   "id": "97853466",
   "metadata": {},
   "outputs": [
    {
     "name": "stdout",
     "output_type": "stream",
     "text": [
      "1\n",
      "11\n",
      "21\n",
      "31\n",
      "41\n",
      "51\n",
      "61\n",
      "71\n",
      "81\n",
      "91\n"
     ]
    }
   ],
   "source": [
    "for i in range(1, 100, 10):\n",
    "    print(i)\n",
    "    snl = WebDriverWait(fsl, 30).until(\n",
    "        EC.presence_of_all_elements_located((By.XPATH, \"//*/img\"))\n",
    "    )"
   ]
  },
  {
   "cell_type": "code",
   "execution_count": null,
   "id": "1ecf4c5c",
   "metadata": {},
   "outputs": [],
   "source": []
  },
  {
   "cell_type": "code",
   "execution_count": null,
   "id": "f0992b08",
   "metadata": {},
   "outputs": [],
   "source": []
  }
 ],
 "metadata": {
  "kernelspec": {
   "display_name": "Python 3 (ipykernel)",
   "language": "python",
   "name": "python3"
  },
  "language_info": {
   "codemirror_mode": {
    "name": "ipython",
    "version": 3
   },
   "file_extension": ".py",
   "mimetype": "text/x-python",
   "name": "python",
   "nbconvert_exporter": "python",
   "pygments_lexer": "ipython3",
   "version": "3.11.4"
  }
 },
 "nbformat": 4,
 "nbformat_minor": 5
}
