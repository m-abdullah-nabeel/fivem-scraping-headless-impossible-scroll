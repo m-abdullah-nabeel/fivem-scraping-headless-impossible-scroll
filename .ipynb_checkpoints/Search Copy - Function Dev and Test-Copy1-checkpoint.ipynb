{
 "cells": [
  {
   "cell_type": "code",
   "execution_count": 1,
   "id": "a4ca7c78",
   "metadata": {},
   "outputs": [],
   "source": [
    "import time\n",
    "from threading import Thread\n",
    "import logging\n",
    "import os\n",
    "from datetime import datetime\n",
    "import re\n",
    "\n",
    "import pandas as pd\n",
    "from selenium import webdriver\n",
    "from selenium.webdriver.common.keys import Keys\n",
    "\n",
    "from selenium.webdriver.chrome.options import Options\n",
    "from selenium.webdriver.chrome.service import Service\n",
    "from selenium.webdriver.common.by import By\n",
    "from selenium.webdriver.support import expected_conditions as EC\n",
    "from selenium.webdriver.support.ui import WebDriverWait, Select\n",
    "from webdriver_manager.chrome import ChromeDriverManager\n",
    "from selenium.common.exceptions import TimeoutException, StaleElementReferenceException\n",
    "from selenium.webdriver.common.action_chains import ActionChains"
   ]
  },
  {
   "cell_type": "code",
   "execution_count": 2,
   "id": "99cf5beb",
   "metadata": {},
   "outputs": [],
   "source": [
    "user_agent = 'Mozilla/5.0 (X11; Linux x86_64) AppleWebKit/537.36 (KHTML, like Gecko) Chrome/60.0.3112.50 Safari/537.36'"
   ]
  },
  {
   "cell_type": "code",
   "execution_count": 3,
   "id": "c9bc4aff",
   "metadata": {},
   "outputs": [],
   "source": [
    "all_links = set()"
   ]
  },
  {
   "cell_type": "code",
   "execution_count": 4,
   "id": "18025c00",
   "metadata": {},
   "outputs": [],
   "source": [
    "chrome_options = Options()\n",
    "chrome_options.add_argument('--ignore-certificate-errors')\n",
    "chrome_options.add_argument(f'user-agent={user_agent}')\n",
    "chrome_options.add_argument(\"--disable-session-crashed-bubble\")\n",
    "chrome_options.add_argument(\"--disable-notifications\")\n",
    "chrome_options.add_argument(\"--suppress-message-center-popups\")\n",
    "chrome_options.add_argument(\"--disable-blink-features=AutomationControlled\")\n",
    "chrome_options.add_argument(\"disable-infobars\")\n",
    "\n",
    "# chrome_options.add_argument('--headless')\n",
    "chrome_options.add_argument('--disable-gpu')\n",
    "chrome_options.add_argument('--no-sandbox')\n",
    "chrome_options.add_argument(\"--start-maximized\")\n",
    "chrome_options.add_argument(\"--window-size=1920x1080\")\n",
    "\n",
    "# chrome_options.add_argument(\"--no-first-run\")\n",
    "# chrome_options.add_argument(\"--disable-extensions\")\n",
    "# chrome_options.add_experimental_option(\"excludeSwitches\", [\"enable-automation\", \"enable-logging\"])\n",
    "# chrome_options.add_experimental_option('useAutomationExtension', False)\n",
    "# chrome_options.add_experimental_option(\"excludeSwitches\", [\"enable-logging\", \"test-type\"])"
   ]
  },
  {
   "cell_type": "code",
   "execution_count": 5,
   "id": "dbdc5938",
   "metadata": {},
   "outputs": [],
   "source": [
    "driver = webdriver.Chrome(service=Service(r\"chromedriver.exe\"), options=chrome_options)"
   ]
  },
  {
   "cell_type": "code",
   "execution_count": 6,
   "id": "6b8521b1",
   "metadata": {},
   "outputs": [],
   "source": [
    "links = {}"
   ]
  },
  {
   "cell_type": "code",
   "execution_count": 7,
   "id": "4cbbe71f",
   "metadata": {},
   "outputs": [
    {
     "name": "stdout",
     "output_type": "stream",
     "text": [
      "Iteration 0: Scraped a total of 41 loaded servers.\n",
      "The last loaded server text is:  Pt\n",
      "18+ Power RP 3.0 #1 SUPER SERIOUS⚡Super Serious Roleplay Designed to Deliver a High Quality Unique Experience With No Detail Overlooked\n",
      "roleplay rp police drugs\n",
      "36/220\n",
      "These links are obtained in this iteration: \n",
      "{'n495yq', 'zq4ayd', 'r3ma3p', '8qvyrb', '7mqg6v', '3aqr6z', 'br4qab', '6bldk7', '4pyg5q', 'abpzk9', 'q8538p', '5rbl4a', 'e3xz9b', '6b5ro7', 'p555oy', 'jo7jea', 'jggpdk', 'aqqrk5', 'evgyp3', 'x63aoe', 'pkpov5', '7blbde', 'qkzry9', 'bebjjp', 'p4xb68', '8g3ep5', 'zgk8op', 'yk9l85', 'wmpmb9', 'kkjmpr', 'w9am8b', 'gq6q4q', 'yjor85', '5rmd47', 'x43r9m', 'oop8dy', '99vvlm', 'zpxbx9', '4epke8', '6q4glj', 'jklk7k', '8kl7a3'}\n",
      "42\n",
      "0\n",
      "Scrolled to last server.\n",
      "Iteration 1: Scraped a total of 68 loaded servers.\n",
      "The last loaded server text is:  Pt\n",
      "Infinity Roleplay »» WIPE HOJE ««😈space fluxo bahamas cidade santa tokyo distrito bela alta complexo kush foguete pvp comando hype street cancun flow galaxy ha\n",
      "vrp\n",
      "125/2048\n"
     ]
    },
    {
     "ename": "TimeoutException",
     "evalue": "Message: \nStacktrace:\n\tGetHandleVerifier [0x00007FF6241F8EF2+54786]\n\t(No symbol) [0x00007FF624165612]\n\t(No symbol) [0x00007FF62401A64B]\n\t(No symbol) [0x00007FF62405B79C]\n\t(No symbol) [0x00007FF62405B91C]\n\t(No symbol) [0x00007FF6240523AC]\n\t(No symbol) [0x00007FF62407BEAF]\n\t(No symbol) [0x00007FF6240522E6]\n\t(No symbol) [0x00007FF62407C080]\n\t(No symbol) [0x00007FF624094D02]\n\t(No symbol) [0x00007FF62407BC43]\n\t(No symbol) [0x00007FF624050941]\n\t(No symbol) [0x00007FF624051B84]\n\tGetHandleVerifier [0x00007FF624547F52+3524194]\n\tGetHandleVerifier [0x00007FF62459D800+3874576]\n\tGetHandleVerifier [0x00007FF624595D7F+3843215]\n\tGetHandleVerifier [0x00007FF624295086+694166]\n\t(No symbol) [0x00007FF624170A88]\n\t(No symbol) [0x00007FF62416CA94]\n\t(No symbol) [0x00007FF62416CBC2]\n\t(No symbol) [0x00007FF62415CC83]\n\tBaseThreadInitThunk [0x00007FFECC567344+20]\n\tRtlUserThreadStart [0x00007FFECC7426B1+33]\n",
     "output_type": "error",
     "traceback": [
      "\u001b[1;31m---------------------------------------------------------------------------\u001b[0m",
      "\u001b[1;31mTimeoutException\u001b[0m                          Traceback (most recent call last)",
      "Cell \u001b[1;32mIn[7], line 27\u001b[0m\n\u001b[0;32m     21\u001b[0m     iteration_links \u001b[38;5;241m=\u001b[39m \u001b[38;5;28mset\u001b[39m()\n\u001b[0;32m     23\u001b[0m     \u001b[38;5;28;01mfor\u001b[39;00m (i, server) \u001b[38;5;129;01min\u001b[39;00m \u001b[38;5;28menumerate\u001b[39m(servers_loaded):\n\u001b[0;32m     24\u001b[0m \u001b[38;5;66;03m#         images_loaded_server = WebDriverWait(container_list, 30).until(\u001b[39;00m\n\u001b[0;32m     25\u001b[0m \u001b[38;5;66;03m#             EC.presence_of_all_elements_located((By.XPATH, f'.//servers-list-item//img[i]'))\u001b[39;00m\n\u001b[0;32m     26\u001b[0m \u001b[38;5;66;03m#         )\u001b[39;00m\n\u001b[1;32m---> 27\u001b[0m         images_loaded_server \u001b[38;5;241m=\u001b[39m WebDriverWait(servers_loaded[i], \u001b[38;5;241m30\u001b[39m)\u001b[38;5;241m.\u001b[39muntil(\n\u001b[0;32m     28\u001b[0m             EC\u001b[38;5;241m.\u001b[39mpresence_of_element_located((By\u001b[38;5;241m.\u001b[39mXPATH, \u001b[38;5;124mf\u001b[39m\u001b[38;5;124m'\u001b[39m\u001b[38;5;124m.//img\u001b[39m\u001b[38;5;124m'\u001b[39m))\n\u001b[0;32m     29\u001b[0m         )\n\u001b[0;32m     31\u001b[0m         link_pict \u001b[38;5;241m=\u001b[39m images_loaded_server\u001b[38;5;241m.\u001b[39mget_attribute(\u001b[38;5;124m'\u001b[39m\u001b[38;5;124msrc\u001b[39m\u001b[38;5;124m'\u001b[39m)\n\u001b[0;32m     32\u001b[0m         server_id \u001b[38;5;241m=\u001b[39m link_pict\u001b[38;5;241m.\u001b[39msplit(\u001b[38;5;124m'\u001b[39m\u001b[38;5;124m/\u001b[39m\u001b[38;5;124m'\u001b[39m)[\u001b[38;5;241m-\u001b[39m\u001b[38;5;241m2\u001b[39m]\n",
      "File \u001b[1;32m~\\anaconda3\\Lib\\site-packages\\selenium\\webdriver\\support\\wait.py:95\u001b[0m, in \u001b[0;36mWebDriverWait.until\u001b[1;34m(self, method, message)\u001b[0m\n\u001b[0;32m     93\u001b[0m     \u001b[38;5;28;01mif\u001b[39;00m time\u001b[38;5;241m.\u001b[39mmonotonic() \u001b[38;5;241m>\u001b[39m end_time:\n\u001b[0;32m     94\u001b[0m         \u001b[38;5;28;01mbreak\u001b[39;00m\n\u001b[1;32m---> 95\u001b[0m \u001b[38;5;28;01mraise\u001b[39;00m TimeoutException(message, screen, stacktrace)\n",
      "\u001b[1;31mTimeoutException\u001b[0m: Message: \nStacktrace:\n\tGetHandleVerifier [0x00007FF6241F8EF2+54786]\n\t(No symbol) [0x00007FF624165612]\n\t(No symbol) [0x00007FF62401A64B]\n\t(No symbol) [0x00007FF62405B79C]\n\t(No symbol) [0x00007FF62405B91C]\n\t(No symbol) [0x00007FF6240523AC]\n\t(No symbol) [0x00007FF62407BEAF]\n\t(No symbol) [0x00007FF6240522E6]\n\t(No symbol) [0x00007FF62407C080]\n\t(No symbol) [0x00007FF624094D02]\n\t(No symbol) [0x00007FF62407BC43]\n\t(No symbol) [0x00007FF624050941]\n\t(No symbol) [0x00007FF624051B84]\n\tGetHandleVerifier [0x00007FF624547F52+3524194]\n\tGetHandleVerifier [0x00007FF62459D800+3874576]\n\tGetHandleVerifier [0x00007FF624595D7F+3843215]\n\tGetHandleVerifier [0x00007FF624295086+694166]\n\t(No symbol) [0x00007FF624170A88]\n\t(No symbol) [0x00007FF62416CA94]\n\t(No symbol) [0x00007FF62416CBC2]\n\t(No symbol) [0x00007FF62415CC83]\n\tBaseThreadInitThunk [0x00007FFECC567344+20]\n\tRtlUserThreadStart [0x00007FFECC7426B1+33]\n"
     ]
    }
   ],
   "source": [
    "driver.get('https://servers.fivem.net/servers')\n",
    "\n",
    "container_list_xpath = \"//servers-list[1]//div[contains(@class, 'cdk-virtual-scroll-content-wrapper')]\"\n",
    "\n",
    "container_list = WebDriverWait(driver, 30).until(\n",
    "        EC.presence_of_element_located((By.XPATH, container_list_xpath))\n",
    ")\n",
    "        \n",
    "for i in range(10):\n",
    "    servers_loaded = WebDriverWait(container_list, 30).until(\n",
    "        EC.presence_of_all_elements_located((By.XPATH, './/servers-list-item'))\n",
    "    )\n",
    "    servers_loaded_no = len(servers_loaded) - 1\n",
    "    print(f\"Iteration {i}: Scraped a total of {servers_loaded_no} loaded servers.\")\n",
    "    print(\"The last loaded server text is: \", servers_loaded[servers_loaded_no].text)\n",
    "    \n",
    "#     images_servers_loaded = WebDriverWait(container_list, 30).until(\n",
    "#         EC.presence_of_all_elements_located((By.XPATH, './/servers-list-item//img'))\n",
    "#     )\n",
    "    \n",
    "    iteration_links = set()\n",
    "    \n",
    "    for (i, server) in enumerate(servers_loaded):\n",
    "#         images_loaded_server = WebDriverWait(container_list, 30).until(\n",
    "#             EC.presence_of_all_elements_located((By.XPATH, f'.//servers-list-item//img[i]'))\n",
    "#         )\n",
    "        images_loaded_server = WebDriverWait(servers_loaded[i], 30).until(\n",
    "            EC.presence_of_element_located((By.XPATH, f'.//img'))\n",
    "        )\n",
    "\n",
    "        link_pict = images_loaded_server.get_attribute('src')\n",
    "        server_id = link_pict.split('/')[-2]\n",
    "        print(server_id)\n",
    "        iteration_links.add(server_id)\n",
    "    \n",
    "#     iteration_links = {images_servers_loaded[x].get_attribute('src').split('/')[-2] for x in range(servers_loaded_no)}\n",
    "    with open('Backup Links.txt', 'w') as f:\n",
    "        for link in iteration_links:\n",
    "            f.write(link)\n",
    "            f.write('\\n')\n",
    "\n",
    "    print(\"These links are obtained in this iteration: \")\n",
    "    print(iteration_links)\n",
    "    print(len(iteration_links))\n",
    "    all_links.union(iteration_links)\n",
    "    print(len(all_links))\n",
    "        \n",
    "    time.sleep(5)\n",
    "    last_loaded_server = ActionChains(driver)\n",
    "    last_loaded_server.scroll_to_element(servers_loaded[servers_loaded_no]).perform()\n",
    "    print(\"Scrolled to last server.\")\n",
    "\n",
    "with open('All Links.txt', 'w') as f:\n",
    "    for link in all_links:\n",
    "        f.write(link)\n",
    "        f.write('\\n')\n",
    "\n",
    "print(\"Concluded with scraping!!!\")"
   ]
  },
  {
   "cell_type": "code",
   "execution_count": null,
   "id": "cb232ac7",
   "metadata": {},
   "outputs": [],
   "source": []
  },
  {
   "cell_type": "code",
   "execution_count": null,
   "id": "961a9ced",
   "metadata": {},
   "outputs": [],
   "source": []
  },
  {
   "cell_type": "code",
   "execution_count": null,
   "id": "8dbb8492",
   "metadata": {},
   "outputs": [],
   "source": []
  },
  {
   "cell_type": "code",
   "execution_count": null,
   "id": "2a2b8ad7",
   "metadata": {},
   "outputs": [],
   "source": []
  },
  {
   "cell_type": "code",
   "execution_count": null,
   "id": "30526f0b",
   "metadata": {},
   "outputs": [],
   "source": [
    "# driver.get('https://servers.fivem.net/servers')"
   ]
  },
  {
   "cell_type": "code",
   "execution_count": null,
   "id": "1b8f62da",
   "metadata": {},
   "outputs": [],
   "source": [
    "# container_list_xpath = \"//servers-list[1]//div[contains(@class, 'cdk-virtual-scroll-content-wrapper')]\""
   ]
  },
  {
   "cell_type": "code",
   "execution_count": null,
   "id": "25c1513e",
   "metadata": {},
   "outputs": [],
   "source": [
    "# container_list = WebDriverWait(driver, 30).until(\n",
    "#         EC.presence_of_element_located((By.XPATH, container_list_xpath))\n",
    "# )"
   ]
  },
  {
   "cell_type": "code",
   "execution_count": null,
   "id": "dac06c9c",
   "metadata": {},
   "outputs": [],
   "source": [
    "# iteration_links = set()"
   ]
  },
  {
   "cell_type": "code",
   "execution_count": null,
   "id": "8f63e365",
   "metadata": {},
   "outputs": [],
   "source": [
    "# servers_loaded = WebDriverWait(container_list, 30).until(\n",
    "#         EC.presence_of_all_elements_located((By.XPATH, './/servers-list-item'))\n",
    "# )"
   ]
  },
  {
   "cell_type": "code",
   "execution_count": null,
   "id": "e1db02d2",
   "metadata": {},
   "outputs": [],
   "source": [
    "# servers_loaded[1]"
   ]
  },
  {
   "cell_type": "code",
   "execution_count": null,
   "id": "3f1255cc",
   "metadata": {},
   "outputs": [],
   "source": [
    "# img_ele = images_loaded_server = WebDriverWait(servers_loaded[1], 30).until(\n",
    "#     EC.presence_of_element_located((By.XPATH, f'.//img'))\n",
    "# )"
   ]
  },
  {
   "cell_type": "code",
   "execution_count": null,
   "id": "69af9759",
   "metadata": {},
   "outputs": [],
   "source": [
    "# print(img_ele)"
   ]
  },
  {
   "cell_type": "code",
   "execution_count": null,
   "id": "959a82ff",
   "metadata": {},
   "outputs": [],
   "source": [
    "# img_ele.get_attribute('src')"
   ]
  },
  {
   "cell_type": "code",
   "execution_count": null,
   "id": "439ef044",
   "metadata": {},
   "outputs": [],
   "source": []
  },
  {
   "cell_type": "code",
   "execution_count": null,
   "id": "1c458a69",
   "metadata": {},
   "outputs": [],
   "source": []
  },
  {
   "cell_type": "code",
   "execution_count": null,
   "id": "f0ee2cfe",
   "metadata": {},
   "outputs": [],
   "source": [
    "# for (i, server) in enumerate(servers_loaded):\n",
    "#     images_loaded_server = WebDriverWait(server, 30).until(\n",
    "#         EC.presence_of_all_elements_located((By.XPATH, f'.//img[i]'))\n",
    "#     )\n",
    "\n",
    "#     link_pict = images_loaded_server.get_attribute('src')\n",
    "#     print(link_pict)\n",
    "#     server_id = link_pict.split('/')[-2]\n",
    "#     iteration_links.add(server_id)\n"
   ]
  },
  {
   "cell_type": "code",
   "execution_count": null,
   "id": "ad7e1355",
   "metadata": {},
   "outputs": [],
   "source": []
  },
  {
   "cell_type": "code",
   "execution_count": null,
   "id": "dfa3d323",
   "metadata": {},
   "outputs": [],
   "source": [
    "# images_servers_loaded = WebDriverWait(container_list, 30).until(\n",
    "#         EC.presence_of_all_elements_located((By.XPATH, './/servers-list-item//img'))\n",
    "# )\n",
    "# images_servers_loaded[2].get_attribute('src')"
   ]
  },
  {
   "cell_type": "code",
   "execution_count": null,
   "id": "420a33ff",
   "metadata": {},
   "outputs": [],
   "source": [
    "# images_servers_loaded[2].get_attribute('src')"
   ]
  },
  {
   "cell_type": "code",
   "execution_count": null,
   "id": "8d46f598",
   "metadata": {},
   "outputs": [],
   "source": [
    "# servers_loaded_no = len(servers_loaded) - 1\n",
    "# servers_loaded_no"
   ]
  },
  {
   "cell_type": "code",
   "execution_count": null,
   "id": "f8c0f3a5",
   "metadata": {},
   "outputs": [],
   "source": [
    "# servers_loaded[servers_loaded_no].text"
   ]
  },
  {
   "cell_type": "code",
   "execution_count": null,
   "id": "c63b7d5f",
   "metadata": {},
   "outputs": [],
   "source": [
    "# time.sleep(5)\n",
    "# last_loaded_server = ActionChains(driver)\n",
    "# last_loaded_server.scroll_to_element(servers_loaded[servers_loaded_no]).perform()"
   ]
  },
  {
   "cell_type": "code",
   "execution_count": null,
   "id": "21b07449",
   "metadata": {},
   "outputs": [],
   "source": []
  },
  {
   "cell_type": "code",
   "execution_count": null,
   "id": "839d8469",
   "metadata": {},
   "outputs": [],
   "source": []
  }
 ],
 "metadata": {
  "kernelspec": {
   "display_name": "Python 3 (ipykernel)",
   "language": "python",
   "name": "python3"
  },
  "language_info": {
   "codemirror_mode": {
    "name": "ipython",
    "version": 3
   },
   "file_extension": ".py",
   "mimetype": "text/x-python",
   "name": "python",
   "nbconvert_exporter": "python",
   "pygments_lexer": "ipython3",
   "version": "3.11.4"
  }
 },
 "nbformat": 4,
 "nbformat_minor": 5
}
