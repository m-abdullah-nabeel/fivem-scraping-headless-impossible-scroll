{
 "cells": [
  {
   "cell_type": "code",
   "execution_count": 1,
   "id": "a4ca7c78",
   "metadata": {},
   "outputs": [],
   "source": [
    "import time\n",
    "from threading import Thread\n",
    "import logging\n",
    "import os\n",
    "from datetime import datetime\n",
    "import re\n",
    "\n",
    "import pandas as pd\n",
    "from selenium import webdriver\n",
    "from selenium.webdriver.common.keys import Keys\n",
    "\n",
    "from selenium.webdriver.chrome.options import Options\n",
    "from selenium.webdriver.chrome.service import Service\n",
    "from selenium.webdriver.common.by import By\n",
    "from selenium.webdriver.support import expected_conditions as EC\n",
    "from selenium.webdriver.support.ui import WebDriverWait, Select\n",
    "from webdriver_manager.chrome import ChromeDriverManager\n",
    "from selenium.common.exceptions import TimeoutException, StaleElementReferenceException\n",
    "from selenium.webdriver.common.action_chains import ActionChains"
   ]
  },
  {
   "cell_type": "code",
   "execution_count": 2,
   "id": "99cf5beb",
   "metadata": {},
   "outputs": [],
   "source": [
    "user_agent = 'Mozilla/5.0 (X11; Linux x86_64) AppleWebKit/537.36 (KHTML, like Gecko) Chrome/60.0.3112.50 Safari/537.36'"
   ]
  },
  {
   "cell_type": "code",
   "execution_count": 3,
   "id": "c9bc4aff",
   "metadata": {},
   "outputs": [],
   "source": [
    "all_links = []"
   ]
  },
  {
   "cell_type": "code",
   "execution_count": 4,
   "id": "18025c00",
   "metadata": {},
   "outputs": [],
   "source": [
    "chrome_options = Options()\n",
    "chrome_options.add_argument('--ignore-certificate-errors')\n",
    "chrome_options.add_argument(f'user-agent={user_agent}')\n",
    "chrome_options.add_argument(\"--disable-session-crashed-bubble\")\n",
    "chrome_options.add_argument(\"--disable-notifications\")\n",
    "chrome_options.add_argument(\"--suppress-message-center-popups\")\n",
    "chrome_options.add_argument(\"--disable-blink-features=AutomationControlled\")\n",
    "chrome_options.add_argument(\"disable-infobars\")\n",
    "# chrome_options.add_argument('--headless')\n",
    "chrome_options.add_argument('--disable-gpu')\n",
    "chrome_options.add_argument('--no-sandbox')\n",
    "chrome_options.add_argument(\"--start-maximized\")\n",
    "chrome_options.add_argument(\"--window-size=1920x1080\")\n",
    "\n",
    "# chrome_options.add_argument(\"--no-first-run\")\n",
    "# chrome_options.add_argument(\"--disable-extensions\")\n",
    "# chrome_options.add_experimental_option(\"excludeSwitches\", [\"enable-automation\", \"enable-logging\"])\n",
    "# chrome_options.add_experimental_option('useAutomationExtension', False)\n",
    "# chrome_options.add_experimental_option(\"excludeSwitches\", [\"enable-logging\", \"test-type\"])"
   ]
  },
  {
   "cell_type": "code",
   "execution_count": 5,
   "id": "dbdc5938",
   "metadata": {},
   "outputs": [],
   "source": [
    "driver = webdriver.Chrome(service=Service(r\"chromedriver.exe\"), options=chrome_options)"
   ]
  },
  {
   "cell_type": "code",
   "execution_count": 6,
   "id": "97bddb12",
   "metadata": {},
   "outputs": [],
   "source": [
    "driver.get('https://servers.fivem.net/servers')"
   ]
  },
  {
   "cell_type": "code",
   "execution_count": null,
   "id": "b1ab08c8",
   "metadata": {},
   "outputs": [],
   "source": []
  },
  {
   "cell_type": "code",
   "execution_count": 36,
   "id": "4033bd7e",
   "metadata": {},
   "outputs": [],
   "source": [
    "# Get list of containers"
   ]
  },
  {
   "cell_type": "code",
   "execution_count": 41,
   "id": "24aecfdf",
   "metadata": {},
   "outputs": [],
   "source": [
    "container_list_xpath = \"//servers-list[1]//div[contains(@class, 'cdk-virtual-scroll-content-wrapper')]\""
   ]
  },
  {
   "cell_type": "code",
   "execution_count": 42,
   "id": "ae04d50b",
   "metadata": {},
   "outputs": [],
   "source": [
    "container_list = WebDriverWait(driver, 30).until(\n",
    "        EC.presence_of_element_located((By.XPATH, container_list_xpath))\n",
    ")"
   ]
  },
  {
   "cell_type": "code",
   "execution_count": 50,
   "id": "0d3cc5fd",
   "metadata": {},
   "outputs": [],
   "source": [
    "# Get number of loaded server-list-tems in this container"
   ]
  },
  {
   "cell_type": "code",
   "execution_count": 51,
   "id": "0bb8977e",
   "metadata": {},
   "outputs": [
    {
     "data": {
      "text/plain": [
       "42"
      ]
     },
     "execution_count": 51,
     "metadata": {},
     "output_type": "execute_result"
    }
   ],
   "source": [
    "driver.execute_script('return arguments[0].children.length', container_list)"
   ]
  },
  {
   "cell_type": "code",
   "execution_count": 52,
   "id": "bb043940",
   "metadata": {},
   "outputs": [],
   "source": [
    "servers_loaded = WebDriverWait(container_list, 30).until(\n",
    "        EC.presence_of_element_located((By.XPATH, './/servers-list-item'))\n",
    ")"
   ]
  },
  {
   "cell_type": "code",
   "execution_count": 55,
   "id": "902d57ae",
   "metadata": {},
   "outputs": [
    {
     "data": {
      "text/plain": [
       "True"
      ]
     },
     "execution_count": 55,
     "metadata": {},
     "output_type": "execute_result"
    }
   ],
   "source": [
    "servers_loaded.text == t1"
   ]
  },
  {
   "cell_type": "code",
   "execution_count": null,
   "id": "6ce29b69",
   "metadata": {},
   "outputs": [],
   "source": []
  },
  {
   "cell_type": "code",
   "execution_count": null,
   "id": "5075fb4f",
   "metadata": {},
   "outputs": [],
   "source": []
  },
  {
   "cell_type": "code",
   "execution_count": null,
   "id": "6f88470a",
   "metadata": {},
   "outputs": [],
   "source": []
  },
  {
   "cell_type": "code",
   "execution_count": null,
   "id": "276ce9be",
   "metadata": {},
   "outputs": [],
   "source": []
  },
  {
   "cell_type": "code",
   "execution_count": null,
   "id": "241c088d",
   "metadata": {},
   "outputs": [],
   "source": []
  },
  {
   "cell_type": "code",
   "execution_count": null,
   "id": "0b776cb1",
   "metadata": {},
   "outputs": [],
   "source": []
  },
  {
   "cell_type": "code",
   "execution_count": null,
   "id": "0c9f1e24",
   "metadata": {},
   "outputs": [],
   "source": []
  },
  {
   "cell_type": "code",
   "execution_count": null,
   "id": "76ccbbb4",
   "metadata": {},
   "outputs": [],
   "source": []
  },
  {
   "cell_type": "code",
   "execution_count": null,
   "id": "ad80f3d6",
   "metadata": {},
   "outputs": [],
   "source": []
  },
  {
   "cell_type": "code",
   "execution_count": null,
   "id": "1dbece34",
   "metadata": {},
   "outputs": [],
   "source": []
  },
  {
   "cell_type": "code",
   "execution_count": null,
   "id": "84d782d7",
   "metadata": {},
   "outputs": [],
   "source": []
  },
  {
   "cell_type": "code",
   "execution_count": null,
   "id": "171e6f20",
   "metadata": {},
   "outputs": [],
   "source": []
  },
  {
   "cell_type": "code",
   "execution_count": null,
   "id": "4b81b876",
   "metadata": {},
   "outputs": [],
   "source": []
  },
  {
   "cell_type": "code",
   "execution_count": null,
   "id": "808b2ee0",
   "metadata": {},
   "outputs": [],
   "source": []
  },
  {
   "cell_type": "code",
   "execution_count": null,
   "id": "f914a76e",
   "metadata": {},
   "outputs": [],
   "source": []
  },
  {
   "cell_type": "code",
   "execution_count": null,
   "id": "fe161f61",
   "metadata": {},
   "outputs": [],
   "source": []
  },
  {
   "cell_type": "code",
   "execution_count": null,
   "id": "4e054071",
   "metadata": {},
   "outputs": [],
   "source": []
  },
  {
   "cell_type": "code",
   "execution_count": null,
   "id": "d5298711",
   "metadata": {},
   "outputs": [],
   "source": []
  },
  {
   "cell_type": "code",
   "execution_count": null,
   "id": "9ef2cb14",
   "metadata": {},
   "outputs": [],
   "source": []
  },
  {
   "cell_type": "code",
   "execution_count": null,
   "id": "22ac6e98",
   "metadata": {},
   "outputs": [],
   "source": []
  },
  {
   "cell_type": "markdown",
   "id": "ad08e46a",
   "metadata": {},
   "source": [
    "## Search in search bar"
   ]
  },
  {
   "cell_type": "code",
   "execution_count": 7,
   "id": "a0a59c3d",
   "metadata": {},
   "outputs": [],
   "source": [
    "searchbar = WebDriverWait(driver, 30).until(\n",
    "        EC.element_to_be_clickable((By.XPATH, '//*[@id=\"searchBox\"]'))\n",
    "    )"
   ]
  },
  {
   "cell_type": "code",
   "execution_count": 8,
   "id": "89c07989",
   "metadata": {},
   "outputs": [],
   "source": [
    "searchbar.click()"
   ]
  },
  {
   "cell_type": "code",
   "execution_count": 9,
   "id": "725e96ab",
   "metadata": {},
   "outputs": [],
   "source": [
    "searchbar.send_keys(\"spain\", Keys.RETURN)"
   ]
  },
  {
   "cell_type": "code",
   "execution_count": null,
   "id": "09dc92a7",
   "metadata": {},
   "outputs": [],
   "source": []
  },
  {
   "cell_type": "code",
   "execution_count": null,
   "id": "2b330142",
   "metadata": {},
   "outputs": [],
   "source": []
  },
  {
   "cell_type": "code",
   "execution_count": null,
   "id": "efe0c719",
   "metadata": {},
   "outputs": [],
   "source": []
  },
  {
   "cell_type": "markdown",
   "id": "9cba4447",
   "metadata": {},
   "source": [
    "## Test hover"
   ]
  },
  {
   "cell_type": "code",
   "execution_count": 7,
   "id": "367b6eae",
   "metadata": {},
   "outputs": [],
   "source": [
    "hoverXpath = \"/html/body/app-root/div/div[2]/servers/servers-container/div/aside/app-server-filter/div/section[2]/div/div[1]\"\n",
    "checkHover = driver.find_element(By.XPATH, hoverXpath)"
   ]
  },
  {
   "cell_type": "code",
   "execution_count": 8,
   "id": "bbfb3dd9",
   "metadata": {},
   "outputs": [],
   "source": [
    "time.sleep(5)\n",
    "\n",
    "hoverAction = ActionChains(driver)\n",
    "hoverAction.move_to_element(checkHover)\n",
    "hoverAction.perform()"
   ]
  },
  {
   "cell_type": "code",
   "execution_count": null,
   "id": "fd04082a",
   "metadata": {},
   "outputs": [],
   "source": []
  },
  {
   "cell_type": "markdown",
   "id": "1db1de69",
   "metadata": {},
   "source": [
    "## Scroll the list of servers"
   ]
  },
  {
   "cell_type": "code",
   "execution_count": 43,
   "id": "6086a3f4",
   "metadata": {},
   "outputs": [],
   "source": [
    "hoverXpath = \"//cdk-virtual-scroll-viewport[1]\"\n",
    "checkHover = driver.find_element(By.XPATH, hoverXpath)"
   ]
  },
  {
   "cell_type": "code",
   "execution_count": 42,
   "id": "30cfce8f",
   "metadata": {},
   "outputs": [
    {
     "data": {
      "text/plain": [
       "680300"
      ]
     },
     "execution_count": 42,
     "metadata": {},
     "output_type": "execute_result"
    }
   ],
   "source": [
    "driver.execute_script(\"return document.getElementsByTagName('cdk-virtual-scroll-viewport')[0].scrollHeight\")"
   ]
  },
  {
   "cell_type": "code",
   "execution_count": 21,
   "id": "4220b00c",
   "metadata": {},
   "outputs": [
    {
     "name": "stdout",
     "output_type": "stream",
     "text": [
      "Done\n"
     ]
    }
   ],
   "source": [
    "time.sleep(5)\n",
    "\n",
    "hoverAction = ActionChains(driver)\n",
    "hoverAction.move_to_element(checkHover)\n",
    "hoverAction.scroll_by_amount(0, 50)\n",
    "# hoverAction.click()\n",
    "hoverAction.perform()\n",
    "\n",
    "\n",
    "print(\"Done\")"
   ]
  },
  {
   "cell_type": "code",
   "execution_count": null,
   "id": "201a82b3",
   "metadata": {},
   "outputs": [],
   "source": []
  },
  {
   "cell_type": "code",
   "execution_count": null,
   "id": "135f4175",
   "metadata": {},
   "outputs": [],
   "source": []
  },
  {
   "cell_type": "code",
   "execution_count": null,
   "id": "d85543d8",
   "metadata": {},
   "outputs": [],
   "source": []
  },
  {
   "cell_type": "code",
   "execution_count": 7,
   "id": "c88624cf",
   "metadata": {},
   "outputs": [
    {
     "name": "stdout",
     "output_type": "stream",
     "text": [
      "Waiting for empty box\n"
     ]
    }
   ],
   "source": [
    "print(\"Waiting for empty box\")\n",
    "fsl = WebDriverWait(driver, 60).until(\n",
    "    EC.presence_of_element_located((By.XPATH, \"//servers-list[1]//div[contains(@class, 'cdk-virtual-scroll-content-wrapper')]\"))\n",
    ")\n",
    "# //div[contains(@class, 'cdk-virtual-scroll-content-wrapper')]\n",
    "# //servers-list[1]//div[contains(@class, 'cdk-virtual-scroll-content-wrapper')]"
   ]
  },
  {
   "cell_type": "code",
   "execution_count": 8,
   "id": "5819f7e2",
   "metadata": {},
   "outputs": [
    {
     "name": "stdout",
     "output_type": "stream",
     "text": [
      "<selenium.webdriver.remote.webelement.WebElement (session=\"28e824ab6f6dcb1db7bb5343829a5491\", element=\"A57B1675E1114F26773FC2BF7BC1588D_element_59\")>\n"
     ]
    }
   ],
   "source": [
    "print(fsl)"
   ]
  },
  {
   "cell_type": "code",
   "execution_count": 9,
   "id": "c19cbb8b",
   "metadata": {},
   "outputs": [
    {
     "name": "stdout",
     "output_type": "stream",
     "text": [
      "Waiting for very first servers list / items\n",
      "<selenium.webdriver.remote.webelement.WebElement (session=\"28e824ab6f6dcb1db7bb5343829a5491\", element=\"A57B1675E1114F26773FC2BF7BC1588D_element_129\")> Pt\n",
      "←▬⌠Empire RP⌡▬⌠Grand Opening⌡▬⌠Serious RP⌡▬→🔫Serious Nopix Echo Prodigy Lucid PMA Familia Murda Heights NYC vout nodus neon mighetto SOB\n",
      "rp qbcore fivem fun\n",
      "109/200\n"
     ]
    }
   ],
   "source": [
    "print(\"Waiting for very first servers list / items\")\n",
    "sname = WebDriverWait(fsl, 60).until(\n",
    "    EC.presence_of_element_located((By.XPATH, \".//*\"))\n",
    ")\n",
    "print(sname, sname.text)\n",
    "t1 = sname.text"
   ]
  },
  {
   "cell_type": "code",
   "execution_count": 10,
   "id": "e39a206c",
   "metadata": {},
   "outputs": [
    {
     "data": {
      "text/plain": [
       "'Pt\\n←▬⌠Empire RP⌡▬⌠Grand Opening⌡▬⌠Serious RP⌡▬→🔫Serious Nopix Echo Prodigy Lucid PMA Familia Murda Heights NYC vout nodus neon mighetto SOB\\nrp qbcore fivem fun\\n109/200'"
      ]
     },
     "execution_count": 10,
     "metadata": {},
     "output_type": "execute_result"
    }
   ],
   "source": [
    "t1"
   ]
  },
  {
   "cell_type": "code",
   "execution_count": 56,
   "id": "fb93c0e6",
   "metadata": {},
   "outputs": [
    {
     "name": "stdout",
     "output_type": "stream",
     "text": [
      "Waiting for list of servers / items\n"
     ]
    }
   ],
   "source": [
    "print(\"Waiting for list of servers / items\")\n",
    "\n",
    "snl = WebDriverWait(fsl, 30).until(\n",
    "    EC.presence_of_all_elements_located((By.XPATH, \"//*/img\"))\n",
    ")"
   ]
  },
  {
   "cell_type": "code",
   "execution_count": 11,
   "id": "a4e9e3e2",
   "metadata": {},
   "outputs": [
    {
     "name": "stdout",
     "output_type": "stream",
     "text": [
      "Waiting for list of servers / items\n"
     ]
    }
   ],
   "source": [
    "print(\"Waiting for list of servers / items\")\n",
    "\n",
    "snl = WebDriverWait(fsl, 30).until(\n",
    "    EC.presence_of_all_elements_located((By.XPATH, \"//servers-list-item\"))\n",
    ")"
   ]
  },
  {
   "cell_type": "code",
   "execution_count": null,
   "id": "354f3f49",
   "metadata": {},
   "outputs": [],
   "source": []
  },
  {
   "cell_type": "code",
   "execution_count": 12,
   "id": "95da2405",
   "metadata": {},
   "outputs": [
    {
     "data": {
      "text/plain": [
       "58"
      ]
     },
     "execution_count": 12,
     "metadata": {},
     "output_type": "execute_result"
    }
   ],
   "source": [
    "len(snl)"
   ]
  },
  {
   "cell_type": "code",
   "execution_count": 18,
   "id": "e6d54b6a",
   "metadata": {},
   "outputs": [
    {
     "data": {
      "text/plain": [
       "True"
      ]
     },
     "execution_count": 18,
     "metadata": {},
     "output_type": "execute_result"
    }
   ],
   "source": [
    "snl[0].text == t1"
   ]
  },
  {
   "cell_type": "code",
   "execution_count": 23,
   "id": "9b77d970",
   "metadata": {},
   "outputs": [
    {
     "data": {
      "text/plain": [
       "<selenium.webdriver.remote.webelement.WebElement (session=\"28e824ab6f6dcb1db7bb5343829a5491\", element=\"A57B1675E1114F26773FC2BF7BC1588D_element_130\")>"
      ]
     },
     "execution_count": 23,
     "metadata": {},
     "output_type": "execute_result"
    }
   ],
   "source": [
    "snl[1]"
   ]
  },
  {
   "cell_type": "code",
   "execution_count": null,
   "id": "0044c9bb",
   "metadata": {},
   "outputs": [],
   "source": []
  },
  {
   "cell_type": "code",
   "execution_count": null,
   "id": "04c92e49",
   "metadata": {},
   "outputs": [],
   "source": []
  },
  {
   "cell_type": "code",
   "execution_count": 32,
   "id": "df32d0fd",
   "metadata": {},
   "outputs": [
    {
     "name": "stdout",
     "output_type": "stream",
     "text": [
      "testing single server\n",
      "<selenium.webdriver.remote.webelement.WebElement (session=\"28e824ab6f6dcb1db7bb5343829a5491\", element=\"A57B1675E1114F26773FC2BF7BC1588D_element_129\")> Pt\n",
      "←▬⌠Empire RP⌡▬⌠Grand Opening⌡▬⌠Serious RP⌡▬→🔫Serious Nopix Echo Prodigy Lucid PMA Familia Murda Heights NYC vout nodus neon mighetto SOB\n",
      "rp qbcore fivem fun\n",
      "109/200\n"
     ]
    }
   ],
   "source": [
    "print(\"testing single server\")\n",
    "\n",
    "test_snl1 = WebDriverWait(fsl, 60).until(\n",
    "    EC.presence_of_element_located((By.XPATH, \".//*\"))\n",
    ")\n",
    "print(test_snl1, test_snl1.text)\n",
    "t1 = test_snl1.text"
   ]
  },
  {
   "cell_type": "code",
   "execution_count": 33,
   "id": "391eb400",
   "metadata": {},
   "outputs": [
    {
     "data": {
      "text/plain": [
       "<selenium.webdriver.remote.webelement.WebElement (session=\"28e824ab6f6dcb1db7bb5343829a5491\", element=\"A57B1675E1114F26773FC2BF7BC1588D_element_129\")>"
      ]
     },
     "execution_count": 33,
     "metadata": {},
     "output_type": "execute_result"
    }
   ],
   "source": [
    "test_snl1"
   ]
  },
  {
   "cell_type": "code",
   "execution_count": 34,
   "id": "bea6270f",
   "metadata": {},
   "outputs": [
    {
     "data": {
      "text/plain": [
       "True"
      ]
     },
     "execution_count": 34,
     "metadata": {},
     "output_type": "execute_result"
    }
   ],
   "source": [
    "test_snl1.text == t1"
   ]
  },
  {
   "cell_type": "code",
   "execution_count": 35,
   "id": "57729a77",
   "metadata": {},
   "outputs": [
    {
     "ename": "TypeError",
     "evalue": "object of type 'WebElement' has no len()",
     "output_type": "error",
     "traceback": [
      "\u001b[1;31m---------------------------------------------------------------------------\u001b[0m",
      "\u001b[1;31mTypeError\u001b[0m                                 Traceback (most recent call last)",
      "Cell \u001b[1;32mIn[35], line 1\u001b[0m\n\u001b[1;32m----> 1\u001b[0m \u001b[38;5;28mlen\u001b[39m(test_snl1)\n",
      "\u001b[1;31mTypeError\u001b[0m: object of type 'WebElement' has no len()"
     ]
    }
   ],
   "source": [
    "len(test_snl1)"
   ]
  },
  {
   "cell_type": "code",
   "execution_count": null,
   "id": "b70a5c87",
   "metadata": {},
   "outputs": [],
   "source": []
  },
  {
   "cell_type": "code",
   "execution_count": null,
   "id": "215d8ce7",
   "metadata": {},
   "outputs": [],
   "source": [
    "last_loaded_serverAction = ActionChains.scroll_to_element().perform()"
   ]
  },
  {
   "cell_type": "code",
   "execution_count": null,
   "id": "5870a48d",
   "metadata": {},
   "outputs": [],
   "source": []
  },
  {
   "cell_type": "code",
   "execution_count": null,
   "id": "8c4221df",
   "metadata": {},
   "outputs": [],
   "source": []
  },
  {
   "cell_type": "code",
   "execution_count": null,
   "id": "0e6bb127",
   "metadata": {},
   "outputs": [],
   "source": [
    "for i in range(20): \n",
    "    loaded_servers_list = WebDriverWait(fsl, 30).until(\n",
    "        EC.presence_of_all_elements_located((By.XPATH, \"//servers-list-item\"))\n",
    "    )\n",
    "    print()"
   ]
  },
  {
   "cell_type": "code",
   "execution_count": null,
   "id": "4eb12479",
   "metadata": {},
   "outputs": [],
   "source": []
  },
  {
   "cell_type": "code",
   "execution_count": null,
   "id": "326a1f4e",
   "metadata": {},
   "outputs": [],
   "source": []
  },
  {
   "cell_type": "code",
   "execution_count": null,
   "id": "5db24365",
   "metadata": {},
   "outputs": [],
   "source": []
  },
  {
   "cell_type": "code",
   "execution_count": null,
   "id": "6ab6d62b",
   "metadata": {},
   "outputs": [],
   "source": []
  },
  {
   "cell_type": "code",
   "execution_count": null,
   "id": "b16c266c",
   "metadata": {},
   "outputs": [],
   "source": []
  },
  {
   "cell_type": "code",
   "execution_count": null,
   "id": "607b0c50",
   "metadata": {},
   "outputs": [],
   "source": []
  },
  {
   "cell_type": "code",
   "execution_count": null,
   "id": "6ea2e955",
   "metadata": {},
   "outputs": [],
   "source": []
  },
  {
   "cell_type": "code",
   "execution_count": null,
   "id": "3c7a6fbd",
   "metadata": {},
   "outputs": [],
   "source": []
  },
  {
   "cell_type": "code",
   "execution_count": null,
   "id": "7320e26c",
   "metadata": {},
   "outputs": [],
   "source": []
  },
  {
   "cell_type": "code",
   "execution_count": null,
   "id": "7dc8315a",
   "metadata": {},
   "outputs": [],
   "source": []
  },
  {
   "cell_type": "code",
   "execution_count": null,
   "id": "8a381e4e",
   "metadata": {},
   "outputs": [],
   "source": []
  },
  {
   "cell_type": "code",
   "execution_count": null,
   "id": "89cf56e7",
   "metadata": {},
   "outputs": [],
   "source": []
  },
  {
   "cell_type": "code",
   "execution_count": null,
   "id": "b6dc3cae",
   "metadata": {},
   "outputs": [],
   "source": []
  },
  {
   "cell_type": "code",
   "execution_count": null,
   "id": "cc32174f",
   "metadata": {},
   "outputs": [],
   "source": []
  },
  {
   "cell_type": "code",
   "execution_count": 17,
   "id": "a20f23a1",
   "metadata": {},
   "outputs": [],
   "source": [
    "# create a loop \n",
    "# inside loop take a step size of n\n",
    "# in each step\n",
    "# scrape first nth\n",
    "# then scroll into view nth elemnet"
   ]
  },
  {
   "cell_type": "code",
   "execution_count": 18,
   "id": "47c0c266",
   "metadata": {},
   "outputs": [],
   "source": [
    "# for i in range(0, 100, 10):\n",
    "#     print(i)\n",
    "#     print(f\"scrape from {i} to {i+10}\")\n",
    "#     for j in range(i, i+10): \n",
    "#         print(\"=> \", j)\n",
    "#     print(f\"Scroll into View, element number {i}\")\n"
   ]
  },
  {
   "cell_type": "code",
   "execution_count": 19,
   "id": "97853466",
   "metadata": {},
   "outputs": [
    {
     "name": "stdout",
     "output_type": "stream",
     "text": [
      "1\n",
      "11\n",
      "21\n",
      "31\n",
      "41\n",
      "51\n",
      "61\n",
      "71\n",
      "81\n",
      "91\n"
     ]
    }
   ],
   "source": [
    "for i in range(1, 100, 10):\n",
    "    print(i)\n",
    "    snl = WebDriverWait(fsl, 30).until(\n",
    "        EC.presence_of_all_elements_located((By.XPATH, \"//*/img\"))\n",
    "    )"
   ]
  },
  {
   "cell_type": "code",
   "execution_count": null,
   "id": "1ecf4c5c",
   "metadata": {},
   "outputs": [],
   "source": []
  },
  {
   "cell_type": "code",
   "execution_count": null,
   "id": "f0992b08",
   "metadata": {},
   "outputs": [],
   "source": []
  }
 ],
 "metadata": {
  "kernelspec": {
   "display_name": "Python 3 (ipykernel)",
   "language": "python",
   "name": "python3"
  },
  "language_info": {
   "codemirror_mode": {
    "name": "ipython",
    "version": 3
   },
   "file_extension": ".py",
   "mimetype": "text/x-python",
   "name": "python",
   "nbconvert_exporter": "python",
   "pygments_lexer": "ipython3",
   "version": "3.11.4"
  }
 },
 "nbformat": 4,
 "nbformat_minor": 5
}
