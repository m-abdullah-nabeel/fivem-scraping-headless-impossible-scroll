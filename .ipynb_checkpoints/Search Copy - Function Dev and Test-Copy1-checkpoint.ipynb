{
 "cells": [
  {
   "cell_type": "code",
   "execution_count": 1,
   "id": "a4ca7c78",
   "metadata": {},
   "outputs": [],
   "source": [
    "import time\n",
    "from threading import Thread\n",
    "import logging\n",
    "import os\n",
    "from datetime import datetime\n",
    "import re\n",
    "\n",
    "import pandas as pd\n",
    "from selenium import webdriver\n",
    "from selenium.webdriver.common.keys import Keys\n",
    "\n",
    "from selenium.webdriver.chrome.options import Options\n",
    "from selenium.webdriver.chrome.service import Service\n",
    "from selenium.webdriver.common.by import By\n",
    "from selenium.webdriver.support import expected_conditions as EC\n",
    "from selenium.webdriver.support.ui import WebDriverWait, Select\n",
    "from webdriver_manager.chrome import ChromeDriverManager\n",
    "from selenium.common.exceptions import TimeoutException, StaleElementReferenceException\n",
    "from selenium.webdriver.common.action_chains import ActionChains"
   ]
  },
  {
   "cell_type": "code",
   "execution_count": 2,
   "id": "99cf5beb",
   "metadata": {},
   "outputs": [],
   "source": [
    "user_agent = 'Mozilla/5.0 (X11; Linux x86_64) AppleWebKit/537.36 (KHTML, like Gecko) Chrome/60.0.3112.50 Safari/537.36'"
   ]
  },
  {
   "cell_type": "code",
   "execution_count": 3,
   "id": "c9bc4aff",
   "metadata": {},
   "outputs": [],
   "source": [
    "all_links = []"
   ]
  },
  {
   "cell_type": "code",
   "execution_count": 4,
   "id": "18025c00",
   "metadata": {},
   "outputs": [],
   "source": [
    "chrome_options = Options()\n",
    "chrome_options.add_argument('--ignore-certificate-errors')\n",
    "chrome_options.add_argument(f'user-agent={user_agent}')\n",
    "chrome_options.add_argument(\"--disable-session-crashed-bubble\")\n",
    "chrome_options.add_argument(\"--disable-notifications\")\n",
    "chrome_options.add_argument(\"--suppress-message-center-popups\")\n",
    "chrome_options.add_argument(\"--disable-blink-features=AutomationControlled\")\n",
    "chrome_options.add_argument(\"disable-infobars\")\n",
    "# chrome_options.add_argument('--headless')\n",
    "chrome_options.add_argument('--disable-gpu')\n",
    "chrome_options.add_argument('--no-sandbox')\n",
    "chrome_options.add_argument(\"--start-maximized\")\n",
    "chrome_options.add_argument(\"--window-size=1920x1080\")\n",
    "\n",
    "# chrome_options.add_argument(\"--no-first-run\")\n",
    "# chrome_options.add_argument(\"--disable-extensions\")\n",
    "# chrome_options.add_experimental_option(\"excludeSwitches\", [\"enable-automation\", \"enable-logging\"])\n",
    "# chrome_options.add_experimental_option('useAutomationExtension', False)\n",
    "# chrome_options.add_experimental_option(\"excludeSwitches\", [\"enable-logging\", \"test-type\"])"
   ]
  },
  {
   "cell_type": "code",
   "execution_count": 5,
   "id": "dbdc5938",
   "metadata": {},
   "outputs": [],
   "source": [
    "driver = webdriver.Chrome(service=Service(r\"chromedriver.exe\"), options=chrome_options)"
   ]
  },
  {
   "cell_type": "code",
   "execution_count": 11,
   "id": "97bddb12",
   "metadata": {},
   "outputs": [],
   "source": [
    "driver.get('https://servers.fivem.net/servers')"
   ]
  },
  {
   "cell_type": "code",
   "execution_count": null,
   "id": "b1ab08c8",
   "metadata": {},
   "outputs": [],
   "source": []
  },
  {
   "cell_type": "code",
   "execution_count": null,
   "id": "9ef2cb14",
   "metadata": {},
   "outputs": [],
   "source": []
  },
  {
   "cell_type": "code",
   "execution_count": null,
   "id": "22ac6e98",
   "metadata": {},
   "outputs": [],
   "source": []
  },
  {
   "cell_type": "markdown",
   "id": "ad08e46a",
   "metadata": {},
   "source": [
    "## Search in search bar"
   ]
  },
  {
   "cell_type": "code",
   "execution_count": 7,
   "id": "a0a59c3d",
   "metadata": {},
   "outputs": [],
   "source": [
    "searchbar = WebDriverWait(driver, 30).until(\n",
    "        EC.element_to_be_clickable((By.XPATH, '//*[@id=\"searchBox\"]'))\n",
    "    )"
   ]
  },
  {
   "cell_type": "code",
   "execution_count": 8,
   "id": "89c07989",
   "metadata": {},
   "outputs": [],
   "source": [
    "searchbar.click()"
   ]
  },
  {
   "cell_type": "code",
   "execution_count": 9,
   "id": "725e96ab",
   "metadata": {},
   "outputs": [],
   "source": [
    "searchbar.send_keys(\"spain\", Keys.RETURN)"
   ]
  },
  {
   "cell_type": "code",
   "execution_count": null,
   "id": "09dc92a7",
   "metadata": {},
   "outputs": [],
   "source": []
  },
  {
   "cell_type": "code",
   "execution_count": null,
   "id": "2b330142",
   "metadata": {},
   "outputs": [],
   "source": []
  },
  {
   "cell_type": "code",
   "execution_count": null,
   "id": "efe0c719",
   "metadata": {},
   "outputs": [],
   "source": []
  },
  {
   "cell_type": "markdown",
   "id": "9cba4447",
   "metadata": {},
   "source": [
    "## Test hover"
   ]
  },
  {
   "cell_type": "code",
   "execution_count": 7,
   "id": "367b6eae",
   "metadata": {},
   "outputs": [],
   "source": [
    "hoverXpath = \"/html/body/app-root/div/div[2]/servers/servers-container/div/aside/app-server-filter/div/section[2]/div/div[1]\"\n",
    "checkHover = driver.find_element(By.XPATH, hoverXpath)"
   ]
  },
  {
   "cell_type": "code",
   "execution_count": 8,
   "id": "bbfb3dd9",
   "metadata": {},
   "outputs": [],
   "source": [
    "time.sleep(5)\n",
    "\n",
    "hoverAction = ActionChains(driver)\n",
    "hoverAction.move_to_element(checkHover)\n",
    "hoverAction.perform()"
   ]
  },
  {
   "cell_type": "code",
   "execution_count": null,
   "id": "fd04082a",
   "metadata": {},
   "outputs": [],
   "source": []
  },
  {
   "cell_type": "markdown",
   "id": "1db1de69",
   "metadata": {},
   "source": [
    "## Scroll the list of servers"
   ]
  },
  {
   "cell_type": "code",
   "execution_count": 20,
   "id": "6086a3f4",
   "metadata": {},
   "outputs": [],
   "source": [
    "hoverXpath = \"//cdk-virtual-scroll-viewport[1]\"\n",
    "checkHover = driver.find_element(By.XPATH, hoverXpath)"
   ]
  },
  {
   "cell_type": "code",
   "execution_count": 23,
   "id": "7bec417d",
   "metadata": {},
   "outputs": [],
   "source": [
    "x = driver.execute_script(\"arguments[0].scrollHeight;\", checkHover[1])"
   ]
  },
  {
   "cell_type": "code",
   "execution_count": 24,
   "id": "5bac1104",
   "metadata": {},
   "outputs": [],
   "source": [
    "x"
   ]
  },
  {
   "cell_type": "code",
   "execution_count": 21,
   "id": "4220b00c",
   "metadata": {},
   "outputs": [
    {
     "name": "stdout",
     "output_type": "stream",
     "text": [
      "Done\n"
     ]
    }
   ],
   "source": [
    "time.sleep(5)\n",
    "\n",
    "hoverAction = ActionChains(driver)\n",
    "hoverAction.move_to_element(checkHover)\n",
    "hoverAction.scroll_by_amount(0, 50)\n",
    "# hoverAction.click()\n",
    "hoverAction.perform()\n",
    "\n",
    "\n",
    "print(\"Done\")"
   ]
  },
  {
   "cell_type": "code",
   "execution_count": null,
   "id": "201a82b3",
   "metadata": {},
   "outputs": [],
   "source": []
  },
  {
   "cell_type": "code",
   "execution_count": null,
   "id": "135f4175",
   "metadata": {},
   "outputs": [],
   "source": []
  },
  {
   "cell_type": "code",
   "execution_count": null,
   "id": "d85543d8",
   "metadata": {},
   "outputs": [],
   "source": []
  },
  {
   "cell_type": "code",
   "execution_count": 10,
   "id": "c88624cf",
   "metadata": {},
   "outputs": [
    {
     "name": "stdout",
     "output_type": "stream",
     "text": [
      "Waiting for empty box\n"
     ]
    }
   ],
   "source": [
    "print(\"Waiting for empty box\")\n",
    "fsl = WebDriverWait(driver, 60).until(\n",
    "    EC.presence_of_element_located((By.XPATH, \"//servers-list[1]//div[contains(@class, 'cdk-virtual-scroll-content-wrapper')]\"))\n",
    ")\n",
    "# //div[contains(@class, 'cdk-virtual-scroll-content-wrapper')]\n",
    "# //servers-list[1]//div[contains(@class, 'cdk-virtual-scroll-content-wrapper')]"
   ]
  },
  {
   "cell_type": "code",
   "execution_count": 11,
   "id": "5819f7e2",
   "metadata": {},
   "outputs": [
    {
     "name": "stdout",
     "output_type": "stream",
     "text": [
      "<selenium.webdriver.remote.webelement.WebElement (session=\"40f8591ef374f650c720e35f8afd5459\", element=\"51E385158F281E88F8151070A3FB55E6_element_88\")>\n"
     ]
    }
   ],
   "source": [
    "print(fsl)"
   ]
  },
  {
   "cell_type": "code",
   "execution_count": 14,
   "id": "c19cbb8b",
   "metadata": {},
   "outputs": [
    {
     "name": "stdout",
     "output_type": "stream",
     "text": [
      "Waiting for very first servers list / items\n",
      "<selenium.webdriver.remote.webelement.WebElement (session=\"daacc01a29f0ae529f4f1b697ca3a2f2\", element=\"EFF1A34DCF3C136E78DB7BBEBA736687_element_175\")> Pt\n",
      "LAFAMA RP🔥[ [MASCOTAS][ROPA UNICA][EVENTOS Y SORTEOS][CASINO EXCLUSIVO] ]\n",
      "esx roleplay rp drugs\n",
      "189/650\n"
     ]
    }
   ],
   "source": [
    "print(\"Waiting for very first servers list / items\")\n",
    "sname = WebDriverWait(fsl, 60).until(\n",
    "    EC.presence_of_element_located((By.XPATH, \".//*\"))\n",
    ")\n",
    "print(sname, sname.text)"
   ]
  },
  {
   "cell_type": "code",
   "execution_count": 15,
   "id": "fb93c0e6",
   "metadata": {},
   "outputs": [
    {
     "name": "stdout",
     "output_type": "stream",
     "text": [
      "Waiting for list of servers / items\n"
     ]
    }
   ],
   "source": [
    "print(\"Waiting for list of servers / items\")\n",
    "\n",
    "snl = WebDriverWait(fsl, 30).until(\n",
    "    EC.presence_of_all_elements_located((By.XPATH, \"//*/img\"))\n",
    ")"
   ]
  },
  {
   "cell_type": "code",
   "execution_count": 16,
   "id": "95da2405",
   "metadata": {},
   "outputs": [
    {
     "data": {
      "text/plain": [
       "42"
      ]
     },
     "execution_count": 16,
     "metadata": {},
     "output_type": "execute_result"
    }
   ],
   "source": [
    "len(snl)"
   ]
  },
  {
   "cell_type": "code",
   "execution_count": 17,
   "id": "a20f23a1",
   "metadata": {},
   "outputs": [],
   "source": [
    "# create a loop \n",
    "# inside loop take a step size of n\n",
    "# in each step\n",
    "# scrape first nth\n",
    "# then scroll into view nth elemnet"
   ]
  },
  {
   "cell_type": "code",
   "execution_count": 18,
   "id": "47c0c266",
   "metadata": {},
   "outputs": [],
   "source": [
    "# for i in range(0, 100, 10):\n",
    "#     print(i)\n",
    "#     print(f\"scrape from {i} to {i+10}\")\n",
    "#     for j in range(i, i+10): \n",
    "#         print(\"=> \", j)\n",
    "#     print(f\"Scroll into View, element number {i}\")\n"
   ]
  },
  {
   "cell_type": "code",
   "execution_count": 19,
   "id": "97853466",
   "metadata": {},
   "outputs": [
    {
     "name": "stdout",
     "output_type": "stream",
     "text": [
      "1\n",
      "11\n",
      "21\n",
      "31\n",
      "41\n",
      "51\n",
      "61\n",
      "71\n",
      "81\n",
      "91\n"
     ]
    }
   ],
   "source": [
    "for i in range(1, 100, 10):\n",
    "    print(i)\n",
    "    snl = WebDriverWait(fsl, 30).until(\n",
    "        EC.presence_of_all_elements_located((By.XPATH, \"//*/img\"))\n",
    "    )"
   ]
  },
  {
   "cell_type": "code",
   "execution_count": null,
   "id": "1ecf4c5c",
   "metadata": {},
   "outputs": [],
   "source": []
  },
  {
   "cell_type": "code",
   "execution_count": null,
   "id": "f0992b08",
   "metadata": {},
   "outputs": [],
   "source": []
  }
 ],
 "metadata": {
  "kernelspec": {
   "display_name": "Python 3 (ipykernel)",
   "language": "python",
   "name": "python3"
  },
  "language_info": {
   "codemirror_mode": {
    "name": "ipython",
    "version": 3
   },
   "file_extension": ".py",
   "mimetype": "text/x-python",
   "name": "python",
   "nbconvert_exporter": "python",
   "pygments_lexer": "ipython3",
   "version": "3.11.4"
  }
 },
 "nbformat": 4,
 "nbformat_minor": 5
}
