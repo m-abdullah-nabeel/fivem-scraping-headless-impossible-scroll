{
 "cells": [
  {
   "cell_type": "code",
   "execution_count": 1,
   "id": "a4ca7c78",
   "metadata": {},
   "outputs": [],
   "source": [
    "import time\n",
    "from threading import Thread\n",
    "import logging\n",
    "import os\n",
    "from datetime import datetime\n",
    "import re\n",
    "\n",
    "import pandas as pd\n",
    "from selenium import webdriver\n",
    "from selenium.webdriver.common.keys import Keys\n",
    "\n",
    "from selenium.webdriver.chrome.options import Options\n",
    "from selenium.webdriver.chrome.service import Service\n",
    "from selenium.webdriver.common.by import By\n",
    "from selenium.webdriver.support import expected_conditions as EC\n",
    "from selenium.webdriver.support.ui import WebDriverWait, Select\n",
    "from webdriver_manager.chrome import ChromeDriverManager\n",
    "from selenium.common.exceptions import TimeoutException, StaleElementReferenceException\n",
    "from selenium.webdriver.common.action_chains import ActionChains"
   ]
  },
  {
   "cell_type": "code",
   "execution_count": 2,
   "id": "99cf5beb",
   "metadata": {},
   "outputs": [],
   "source": [
    "user_agent = 'Mozilla/5.0 (X11; Linux x86_64) AppleWebKit/537.36 (KHTML, like Gecko) Chrome/60.0.3112.50 Safari/537.36'"
   ]
  },
  {
   "cell_type": "code",
   "execution_count": 3,
   "id": "18025c00",
   "metadata": {},
   "outputs": [],
   "source": [
    "chrome_options = Options()\n",
    "chrome_options.add_argument('--ignore-certificate-errors')\n",
    "chrome_options.add_argument(f'user-agent={user_agent}')\n",
    "chrome_options.add_argument(\"--disable-session-crashed-bubble\")\n",
    "chrome_options.add_argument(\"--disable-notifications\")\n",
    "chrome_options.add_argument(\"--suppress-message-center-popups\")\n",
    "chrome_options.add_argument(\"--no-first-run\")\n",
    "chrome_options.add_argument(\"--disable-extensions\")\n",
    "chrome_options.add_argument(\"--disable-blink-features=AutomationControlled\")\n",
    "chrome_options.add_argument(\"disable-infobars\")\n",
    "# chrome_options.add_argument('--headless')\n",
    "chrome_options.add_argument('--disable-gpu')\n",
    "chrome_options.add_argument('--no-sandbox')\n",
    "chrome_options.add_argument(\"--start-maximized\")\n",
    "chrome_options.add_argument(\"--window-size=1920x1080\")\n",
    "chrome_options.add_experimental_option(\"excludeSwitches\", [\"enable-automation\", \"enable-logging\"])\n",
    "chrome_options.add_experimental_option('useAutomationExtension', False)\n",
    "chrome_options.add_experimental_option(\"excludeSwitches\", [\"enable-logging\", \"test-type\"])"
   ]
  },
  {
   "cell_type": "code",
   "execution_count": 4,
   "id": "dbdc5938",
   "metadata": {},
   "outputs": [],
   "source": [
    "driver = webdriver.Chrome(service=Service(r\"chromedriver.exe\"), options=chrome_options)"
   ]
  },
  {
   "cell_type": "code",
   "execution_count": 5,
   "id": "97bddb12",
   "metadata": {},
   "outputs": [],
   "source": [
    "driver.get('https://servers.fivem.net/servers')"
   ]
  },
  {
   "cell_type": "code",
   "execution_count": 6,
   "id": "c88624cf",
   "metadata": {},
   "outputs": [
    {
     "name": "stdout",
     "output_type": "stream",
     "text": [
      "Waiting for empty box\n"
     ]
    }
   ],
   "source": [
    "print(\"Waiting for empty box\")\n",
    "fsl = WebDriverWait(driver, 60).until(\n",
    "    EC.presence_of_element_located((By.XPATH, \"//servers-list\"))\n",
    ")"
   ]
  },
  {
   "cell_type": "code",
   "execution_count": 7,
   "id": "775bbf53",
   "metadata": {},
   "outputs": [
    {
     "name": "stdout",
     "output_type": "stream",
     "text": [
      "Waiting for servers container scroll div\n"
     ]
    }
   ],
   "source": [
    "print(\"Waiting for servers container scroll div\")\n",
    "sdiv = WebDriverWait(fsl, 60).until(\n",
    "    EC.presence_of_element_located((By.CLASS_NAME, \"cdk-virtual-scroll-content-wrapper\"))\n",
    ")\n"
   ]
  },
  {
   "cell_type": "code",
   "execution_count": 8,
   "id": "c19cbb8b",
   "metadata": {},
   "outputs": [
    {
     "name": "stdout",
     "output_type": "stream",
     "text": [
      "Waiting for very first servers list / items\n"
     ]
    }
   ],
   "source": [
    "print(\"Waiting for very first servers list / items\")\n",
    "sname = WebDriverWait(sdiv, 60).until(\n",
    "    EC.presence_of_element_located((By.XPATH, \".//*\"))\n",
    ")"
   ]
  },
  {
   "cell_type": "code",
   "execution_count": 9,
   "id": "f376f9f0",
   "metadata": {},
   "outputs": [],
   "source": [
    "action_scroll = ActionChains(driver)\n",
    "action_scroll.move_by_offset(400, 100)    \n",
    "# action_scroll.scroll_by_amount(0, 2000)\n",
    "action_scroll.perform()"
   ]
  },
  {
   "cell_type": "code",
   "execution_count": 10,
   "id": "3c8e35ae",
   "metadata": {},
   "outputs": [],
   "source": [
    "action_dn = ActionChains(driver).send_keys(Keys.ARROW_DOWN)"
   ]
  },
  {
   "cell_type": "code",
   "execution_count": 11,
   "id": "41a31165",
   "metadata": {},
   "outputs": [
    {
     "name": "stdout",
     "output_type": "stream",
     "text": [
      "Scrolled Down using keys\n"
     ]
    }
   ],
   "source": [
    "for i in range(50):\n",
    "    action_dn.perform()\n",
    "print(\"Scrolled Down using keys\")"
   ]
  },
  {
   "cell_type": "code",
   "execution_count": null,
   "id": "74023b06",
   "metadata": {},
   "outputs": [],
   "source": []
  },
  {
   "cell_type": "code",
   "execution_count": 12,
   "id": "fb93c0e6",
   "metadata": {},
   "outputs": [
    {
     "name": "stdout",
     "output_type": "stream",
     "text": [
      "Waiting for list of servers / items\n"
     ]
    }
   ],
   "source": [
    "print(\"Waiting for list of servers / items\")\n",
    "\n",
    "snl = WebDriverWait(sdiv, 5).until(\n",
    "    EC.presence_of_all_elements_located((By.XPATH, \".//*\"))\n",
    ")"
   ]
  },
  {
   "cell_type": "code",
   "execution_count": 13,
   "id": "95da2405",
   "metadata": {},
   "outputs": [
    {
     "data": {
      "text/plain": [
       "999"
      ]
     },
     "execution_count": 13,
     "metadata": {},
     "output_type": "execute_result"
    }
   ],
   "source": [
    "len(snl)"
   ]
  },
  {
   "cell_type": "code",
   "execution_count": 14,
   "id": "281d9125",
   "metadata": {},
   "outputs": [
    {
     "data": {
      "text/plain": [
       "<selenium.webdriver.remote.webelement.WebElement (session=\"1efe6c30da29c624f0de2e84761d33d6\", element=\"0DB87BB1DB1448681D3BD710693710D6_element_150\")>"
      ]
     },
     "execution_count": 14,
     "metadata": {},
     "output_type": "execute_result"
    }
   ],
   "source": [
    "snl[20]"
   ]
  },
  {
   "cell_type": "code",
   "execution_count": 16,
   "id": "e386f9e1",
   "metadata": {},
   "outputs": [],
   "source": [
    "# print(\"Waiting for very last server\")\n",
    "# lname = WebDriverWait(sdiv, 60).until(\n",
    "#     EC.presence_of_element_located((By.XPATH, \".//*[100]\"))\n",
    "# )"
   ]
  },
  {
   "cell_type": "code",
   "execution_count": 17,
   "id": "17a690d6",
   "metadata": {},
   "outputs": [],
   "source": [
    "# print(lname.text)\n",
    "# print('23')"
   ]
  },
  {
   "cell_type": "code",
   "execution_count": 18,
   "id": "68701dd5",
   "metadata": {},
   "outputs": [],
   "source": [
    "lname = WebDriverWait(sdiv, 60).until(\n",
    "    EC.presence_of_element_located((By.XPATH, \".//*[40]\"))\n",
    ")\n",
    "\n",
    "# driver.execute_script(\"arguments[0].scrollIntoView();\", lname)\n",
    "\n",
    "mte = ActionChains(driver).scroll_to_element(lname).perform()"
   ]
  },
  {
   "cell_type": "code",
   "execution_count": 37,
   "id": "2b5759f3",
   "metadata": {},
   "outputs": [
    {
     "name": "stdout",
     "output_type": "stream",
     "text": [
      "1\n",
      "Wait...\n",
      "Pt\n",
      "Legacy Roleplay🏆Compete and conquer in Legacy's thrilling competitions.\n",
      "rp police drugs ems\n",
      "130/140\n",
      "81\n",
      "Wait...\n",
      "Pt\n",
      "MercuryRP750k Starting Cash discord.gg/mercury SemiSerious Custom drugs Gang Grizzley district\n",
      "esx roleplay police drugs\n",
      "124/200\n",
      "161\n",
      "Wait...\n"
     ]
    },
    {
     "ename": "TimeoutException",
     "evalue": "Message: \nStacktrace:\n\tGetHandleVerifier [0x00007FF708498EF2+54786]\n\t(No symbol) [0x00007FF708405612]\n\t(No symbol) [0x00007FF7082BA64B]\n\t(No symbol) [0x00007FF7082FB79C]\n\t(No symbol) [0x00007FF7082FB91C]\n\t(No symbol) [0x00007FF7082F23AC]\n\t(No symbol) [0x00007FF70831BEAF]\n\t(No symbol) [0x00007FF7082F22E6]\n\t(No symbol) [0x00007FF70831C080]\n\t(No symbol) [0x00007FF708334D02]\n\t(No symbol) [0x00007FF70831BC43]\n\t(No symbol) [0x00007FF7082F0941]\n\t(No symbol) [0x00007FF7082F1B84]\n\tGetHandleVerifier [0x00007FF7087E7F52+3524194]\n\tGetHandleVerifier [0x00007FF70883D800+3874576]\n\tGetHandleVerifier [0x00007FF708835D7F+3843215]\n\tGetHandleVerifier [0x00007FF708535086+694166]\n\t(No symbol) [0x00007FF708410A88]\n\t(No symbol) [0x00007FF70840CA94]\n\t(No symbol) [0x00007FF70840CBC2]\n\t(No symbol) [0x00007FF7083FCC83]\n\tBaseThreadInitThunk [0x00007FFD6BF17344+20]\n\tRtlUserThreadStart [0x00007FFD6D9826B1+33]\n",
     "output_type": "error",
     "traceback": [
      "\u001b[1;31m---------------------------------------------------------------------------\u001b[0m",
      "\u001b[1;31mTimeoutException\u001b[0m                          Traceback (most recent call last)",
      "Cell \u001b[1;32mIn[37], line 5\u001b[0m\n\u001b[0;32m      3\u001b[0m \u001b[38;5;28mprint\u001b[39m(\u001b[38;5;124m\"\u001b[39m\u001b[38;5;124mWait...\u001b[39m\u001b[38;5;124m\"\u001b[39m)\n\u001b[0;32m      4\u001b[0m time\u001b[38;5;241m.\u001b[39msleep(\u001b[38;5;241m5\u001b[39m)\n\u001b[1;32m----> 5\u001b[0m lname \u001b[38;5;241m=\u001b[39m WebDriverWait(sdiv, \u001b[38;5;241m10\u001b[39m)\u001b[38;5;241m.\u001b[39muntil(\n\u001b[0;32m      6\u001b[0m EC\u001b[38;5;241m.\u001b[39mpresence_of_element_located((By\u001b[38;5;241m.\u001b[39mXPATH, \u001b[38;5;124mf\u001b[39m\u001b[38;5;124m\"\u001b[39m\u001b[38;5;124m.//*[\u001b[39m\u001b[38;5;132;01m{\u001b[39;00mi\u001b[38;5;132;01m}\u001b[39;00m\u001b[38;5;124m]\u001b[39m\u001b[38;5;124m\"\u001b[39m))\n\u001b[0;32m      7\u001b[0m )\n\u001b[0;32m      8\u001b[0m \u001b[38;5;28mprint\u001b[39m(lname\u001b[38;5;241m.\u001b[39mtext)\n\u001b[0;32m     10\u001b[0m driver\u001b[38;5;241m.\u001b[39mexecute_script(\u001b[38;5;124m\"\u001b[39m\u001b[38;5;124marguments[0].scrollIntoView();\u001b[39m\u001b[38;5;124m\"\u001b[39m, lname)\n",
      "File \u001b[1;32m~\\anaconda3\\Lib\\site-packages\\selenium\\webdriver\\support\\wait.py:95\u001b[0m, in \u001b[0;36mWebDriverWait.until\u001b[1;34m(self, method, message)\u001b[0m\n\u001b[0;32m     93\u001b[0m     \u001b[38;5;28;01mif\u001b[39;00m time\u001b[38;5;241m.\u001b[39mmonotonic() \u001b[38;5;241m>\u001b[39m end_time:\n\u001b[0;32m     94\u001b[0m         \u001b[38;5;28;01mbreak\u001b[39;00m\n\u001b[1;32m---> 95\u001b[0m \u001b[38;5;28;01mraise\u001b[39;00m TimeoutException(message, screen, stacktrace)\n",
      "\u001b[1;31mTimeoutException\u001b[0m: Message: \nStacktrace:\n\tGetHandleVerifier [0x00007FF708498EF2+54786]\n\t(No symbol) [0x00007FF708405612]\n\t(No symbol) [0x00007FF7082BA64B]\n\t(No symbol) [0x00007FF7082FB79C]\n\t(No symbol) [0x00007FF7082FB91C]\n\t(No symbol) [0x00007FF7082F23AC]\n\t(No symbol) [0x00007FF70831BEAF]\n\t(No symbol) [0x00007FF7082F22E6]\n\t(No symbol) [0x00007FF70831C080]\n\t(No symbol) [0x00007FF708334D02]\n\t(No symbol) [0x00007FF70831BC43]\n\t(No symbol) [0x00007FF7082F0941]\n\t(No symbol) [0x00007FF7082F1B84]\n\tGetHandleVerifier [0x00007FF7087E7F52+3524194]\n\tGetHandleVerifier [0x00007FF70883D800+3874576]\n\tGetHandleVerifier [0x00007FF708835D7F+3843215]\n\tGetHandleVerifier [0x00007FF708535086+694166]\n\t(No symbol) [0x00007FF708410A88]\n\t(No symbol) [0x00007FF70840CA94]\n\t(No symbol) [0x00007FF70840CBC2]\n\t(No symbol) [0x00007FF7083FCC83]\n\tBaseThreadInitThunk [0x00007FFD6BF17344+20]\n\tRtlUserThreadStart [0x00007FFD6D9826B1+33]\n"
     ]
    }
   ],
   "source": [
    "for i in range(1, 1000, 80): \n",
    "    print(i)\n",
    "    print(\"Wait...\")\n",
    "    time.sleep(5)\n",
    "    lname = WebDriverWait(sdiv, 10).until(\n",
    "    EC.presence_of_element_located((By.XPATH, f\".//*[{i}]\"))\n",
    "    )\n",
    "    print(lname.text)\n",
    "    \n",
    "    driver.execute_script(\"arguments[0].scrollIntoView();\", lname)\n",
    "#     scroll_to_element(lname).\n",
    "    mte = ActionChains(driver).scroll_by_amount(0, 1000).perform()\n",
    "#     move_by_offset(70, 150)."
   ]
  },
  {
   "cell_type": "code",
   "execution_count": null,
   "id": "323fa5d6",
   "metadata": {},
   "outputs": [],
   "source": []
  },
  {
   "cell_type": "code",
   "execution_count": null,
   "id": "98e4d124",
   "metadata": {},
   "outputs": [],
   "source": []
  }
 ],
 "metadata": {
  "kernelspec": {
   "display_name": "Python 3 (ipykernel)",
   "language": "python",
   "name": "python3"
  },
  "language_info": {
   "codemirror_mode": {
    "name": "ipython",
    "version": 3
   },
   "file_extension": ".py",
   "mimetype": "text/x-python",
   "name": "python",
   "nbconvert_exporter": "python",
   "pygments_lexer": "ipython3",
   "version": "3.11.4"
  }
 },
 "nbformat": 4,
 "nbformat_minor": 5
}
