{
 "cells": [
  {
   "cell_type": "code",
   "execution_count": 1,
   "metadata": {
    "id": "wl7FAp2frN8U"
   },
   "outputs": [],
   "source": [
    "import time\n",
    "from threading import Thread\n",
    "import logging\n",
    "import os\n",
    "from datetime import datetime\n",
    "import re\n",
    "\n",
    "import pandas as pd\n",
    "from selenium import webdriver\n",
    "from selenium.webdriver.common.keys import Keys\n",
    "\n",
    "from selenium.webdriver.chrome.options import Options\n",
    "from selenium.webdriver.chrome.service import Service\n",
    "from selenium.webdriver.common.by import By\n",
    "from selenium.webdriver.support import expected_conditions as EC\n",
    "from selenium.webdriver.support.ui import WebDriverWait, Select\n",
    "from webdriver_manager.chrome import ChromeDriverManager\n",
    "from selenium.common.exceptions import TimeoutException, StaleElementReferenceException\n",
    "from selenium.webdriver.common.action_chains import ActionChains"
   ]
  },
  {
   "cell_type": "code",
   "execution_count": 2,
   "metadata": {},
   "outputs": [],
   "source": [
    "user_agent = 'Mozilla/5.0 (X11; Linux x86_64) AppleWebKit/537.36 (KHTML, like Gecko) Chrome/60.0.3112.50 Safari/537.36'"
   ]
  },
  {
   "cell_type": "code",
   "execution_count": 3,
   "metadata": {},
   "outputs": [],
   "source": [
    "chrome_options = Options()\n",
    "chrome_options.add_argument('--ignore-certificate-errors')\n",
    "chrome_options.add_argument(f'user-agent={user_agent}')\n",
    "chrome_options.add_argument(\"--disable-session-crashed-bubble\")\n",
    "chrome_options.add_argument(\"--disable-notifications\")\n",
    "chrome_options.add_argument(\"--suppress-message-center-popups\")\n",
    "chrome_options.add_argument(\"--disable-blink-features=AutomationControlled\")\n",
    "chrome_options.add_argument(\"disable-infobars\")\n",
    "\n",
    "chrome_options.add_argument('--headless')\n",
    "chrome_options.add_argument('--disable-gpu')\n",
    "chrome_options.add_argument('--no-sandbox')\n",
    "chrome_options.add_argument(\"--start-maximized\")\n",
    "chrome_options.add_argument(\"--window-size=1920x1080\")\n",
    "\n",
    "# chrome_options.add_argument(\"--no-first-run\")\n",
    "# chrome_options.add_argument(\"--disable-extensions\")\n",
    "# chrome_options.add_experimental_option(\"excludeSwitches\", [\"enable-automation\", \"enable-logging\"])\n",
    "# chrome_options.add_experimental_option('useAutomationExtension', False)\n",
    "# chrome_options.add_experimental_option(\"excludeSwitches\", [\"enable-logging\", \"test-type\"])"
   ]
  },
  {
   "cell_type": "code",
   "execution_count": 4,
   "metadata": {
    "id": "BYH2rdQXsVPz",
    "scrolled": true
   },
   "outputs": [
    {
     "name": "stdout",
     "output_type": "stream",
     "text": [
      "Done\n"
     ]
    }
   ],
   "source": [
    "CWD = os.path.dirname(os.path.realpath(\"./\"))\n",
    "tdt = datetime.now()\n",
    "td = datetime.now().strftime('%m-%d-%Y')\n",
    "FIVEM_URL = 'https://servers.fivem.net/servers'\n",
    "BASE_URL = 'https://servers.fivem.net/servers/detail/{}'\n",
    "FIVEM_OUTPUT = os.path.join(CWD, 'FiveMScraper.csv')\n",
    "# last_index = 0\n",
    "print(\"Done\")"
   ]
  },
  {
   "cell_type": "code",
   "execution_count": 5,
   "metadata": {},
   "outputs": [
    {
     "name": "stderr",
     "output_type": "stream",
     "text": [
      "\n",
      "--------------------- FiveM Scraper == Started at -> 25-10-2023 09:57:18 PM ---------------------\n",
      "Current Working Directory: C:\\Users\\muham\\Desktop\n",
      "Current Date & Time: 25-10-2023 09:57:18 PM\n",
      "Log File Path: C:\\Users\\muham\\Desktop\\fivem_scraper.log\n",
      "OUTPUT File Path: C:\\Users\\muham\\Desktop\\FiveMScraper.csv\n"
     ]
    }
   ],
   "source": [
    "log_file_path = os.path.join(CWD, f\"fivem_scraper.log\")\n",
    "logger = logging.getLogger(__name__)\n",
    "logger.setLevel(logging.DEBUG)\n",
    "file_handler = logging.FileHandler(filename=log_file_path, mode=\"w\", encoding=\"UTF-8\")\n",
    "file_handler.setFormatter(\n",
    "    logging.Formatter(\"%(asctime)s-%(levelname)s: Func-%(funcName)s : Line-%(lineno)d : %(message)s\"))\n",
    "logger.addHandler(file_handler)\n",
    "logger.addHandler(logging.StreamHandler())\n",
    "logger.debug(f\"\\n{'-' * 21} FiveM Scraper == Started at -> {tdt.strftime('%d-%m-%Y %I:%M:%S %p')} {'-' * 21}\")\n",
    "logger.info(f\"Current Working Directory: {CWD}\")\n",
    "logger.info(f\"Current Date & Time: {tdt.strftime('%d-%m-%Y %I:%M:%S %p')}\")\n",
    "logger.info(f\"Log File Path: {log_file_path}\")\n",
    "logger.info(f\"OUTPUT File Path: {FIVEM_OUTPUT}\")\n",
    "# ------------- Starter Code -------------\n",
    "logging.getLogger('WDM').setLevel(logging.CRITICAL)\n",
    "os.environ['WDM_LOG'] = '0'\n",
    "# DRIVER_PATH = ChromeDriverManager(version=\"114.0.5735.90\").install()\n",
    "# logger.info(f\"Chrome Driver File Path: {log_file_path}\")\n"
   ]
  },
  {
   "cell_type": "code",
   "execution_count": 6,
   "metadata": {},
   "outputs": [],
   "source": [
    "driver = webdriver.Chrome(service=Service(r\"chromedriver.exe\"), options=chrome_options)"
   ]
  },
  {
   "cell_type": "code",
   "execution_count": 7,
   "metadata": {
    "id": "62IdXBqgrW6z"
   },
   "outputs": [],
   "source": [
    "def push_data(data):\n",
    "    if not os.path.exists(FIVEM_OUTPUT):\n",
    "        df = pd.DataFrame(\n",
    "            columns=[\"Server Name\", \"FiveM Server Link\", \"Developer\", \"Game type\", \"Map\", \"OneSync\", \"Language\",\n",
    "                     \"Tags\", \"DLC level\", \"sv_purelevel\", \"Owner\", \"DiscordLink\", \"Extracted_Link\", \"Resources Section\"])\n",
    "        df.loc[df.shape[0]] = data\n",
    "        df.to_csv(FIVEM_OUTPUT, index=False)  # Save as CSV\n",
    "\n",
    "    else:\n",
    "        df = pd.read_csv(FIVEM_OUTPUT)  # Read existing CSV\n",
    "        df.loc[df.shape[0]] = data\n",
    "        df.to_csv(FIVEM_OUTPUT, index=False)  # Save as CSV"
   ]
  },
  {
   "cell_type": "code",
   "execution_count": null,
   "metadata": {},
   "outputs": [],
   "source": []
  },
  {
   "cell_type": "code",
   "execution_count": 8,
   "metadata": {},
   "outputs": [],
   "source": [
    "def fetch_data(server_id):\n",
    "    url = BASE_URL.format(server_id)\n",
    "    logger.info(f\"{url}\")\n",
    "    data = [\"\", \"\", \"\", \"\", \"\", \"\", \"\", \"\", \"\", \"\", \"\", \"\", \"\",\"\"]\n",
    "    \n",
    "    driver.get(url)\n",
    "\n",
    "    try:\n",
    "        data[1] = url\n",
    "        server_name_xpath = '/html/body/app-root/div/div[2]/servers/app-servers-detail/div[2]/div/div[2]/div[1]/div/div[1]'\n",
    "        server_name_element = WebDriverWait(driver, 10).until(EC.presence_of_element_located((By.XPATH, server_name_xpath)))\n",
    "\n",
    "#         server_name_element = driver.find_element(By.XPATH, '(//span)[24]')\n",
    "\n",
    "        server_name = server_name_element.text\n",
    "        print('%%%%%%%%%%%%%%%%%%%%%%%%%%%%%%%%%%%%%%%%%%%%%%%%%%%%%%%%%%%%%%%%%')\n",
    "        print(server_name)\n",
    "        print('%%%%%%%%%%%%%%%%%%%%%%%%%%%%%%%%%%%%%%%%%%%%%%%%%%%%%%%%%%%%%%%%%')\n",
    "        \n",
    "        logger.info(f\"Server Name: {server_name}\")\n",
    "        data[0] = server_name\n",
    "\n",
    "        pattern = r\"discord\\.gg/[a-zA-Z0-9]+(?:\\.[a-zA-Z]+)?\"\n",
    "        links = re.findall(pattern, server_namez)\n",
    "        if links:\n",
    "            print(\"Found link(s):\")\n",
    "            print(links)\n",
    "            data[12] = links\n",
    "        else:\n",
    "            print(\"no links\")\n",
    "            data[12] = \" \"\n",
    "    except:\n",
    "        pass\n",
    "\n",
    "    resource_list = []\n",
    "    resources = WebDriverWait(driver, 60).until(\n",
    "        EC.presence_of_all_elements_located((By.XPATH, '(//ul)[3]/li')))\n",
    "    for resource in resources:\n",
    "        resource_list.append(resource.text)\n",
    "        #logger.info(f\"Resource: {resource.text}\")\n",
    "    data[13] = resource_list\n",
    "    logger.info(f\"Resources: {', '.join(resource_list)}\")        \n",
    "\n",
    "    tags = WebDriverWait(driver, 60).until(\n",
    "        EC.presence_of_all_elements_located((By.XPATH, '(//ul)[2]/li')))\n",
    "\n",
    "    for tag in tags:\n",
    "        key = WebDriverWait(tag, 60).until(\n",
    "            EC.presence_of_element_located((By.XPATH, './span[1]')))\n",
    "\n",
    "        value = WebDriverWait(tag, 60).until(\n",
    "            EC.presence_of_element_located((By.XPATH, './span[2]')))\n",
    "\n",
    "        # [\"Server Name\", \"FiveM Server Link\", \"Resources Section\", \"Game type\", \"Map\", \"OneSync\", \"Language\",\n",
    "        #  \"Tags\", \"DLC level\", \"sv_purelevel\", \"Owner\", \"DiscordLink\", \"Developer\"]\n",
    "        key = key.text\n",
    "        value = value.text\n",
    "        logger.info(f\"{key}: {value}\")\n",
    "        if key == 'Game type':\n",
    "            data[3] = value\n",
    "        elif key == 'OneSync':\n",
    "            data[4] = value\n",
    "        elif key == 'Map':\n",
    "            data[5] = value\n",
    "        elif key == 'Language':\n",
    "            data[6] = value\n",
    "        elif key == 'Tags':\n",
    "            data[7] = value\n",
    "        elif key == 'DLC level':\n",
    "            data[8] = value\n",
    "        elif key == 'sv_purelevel':\n",
    "            data[9] = value\n",
    "        elif key == 'Owner':\n",
    "            data[10] = value\n",
    "        elif key == 'Developer':\n",
    "            data[2] = value\n",
    "        elif key == 'DiscordLink':\n",
    "            data[11] = value\n",
    "        # logger.info(f\"Tag: {tag.text}\")\n",
    "\n",
    "    print(data)\n",
    "    push_data(data)"
   ]
  },
  {
   "cell_type": "code",
   "execution_count": 9,
   "metadata": {},
   "outputs": [],
   "source": [
    "# fetch_data('xdqklg')"
   ]
  },
  {
   "cell_type": "code",
   "execution_count": null,
   "metadata": {},
   "outputs": [],
   "source": []
  },
  {
   "cell_type": "code",
   "execution_count": 10,
   "metadata": {},
   "outputs": [],
   "source": [
    "def scrape_single_servers():\n",
    "    df = pd.read_csv('All Links.txt', sep='\\t', names=['server_id'])\n",
    "    print(\"\"\"\n",
    "    Do you want to provide some custom index to start the script from?\n",
    "    \"\"\")\n",
    "    cindex = input(\"If yes, type y \")\n",
    "    if cindex == 'y':\n",
    "        new_index = int(input(\"Provide a custom index: \"))\n",
    "        df = df[df.index>new_index]\n",
    "        last_index = new_index\n",
    "\n",
    "    for i, item in df.iterrows():\n",
    "        try:\n",
    "            server_input = item['server_id']\n",
    "            print(f\"Scraping server {i}, id is {server_input}\")\n",
    "            print(server_input)\n",
    "            fetch_data(server_input)\n",
    "            print(f\"The last index is: {i}\")\n",
    "        except Exception as Ex:\n",
    "            print(\"An error occured scraping single servers.\")\n",
    "            print(Ex)"
   ]
  },
  {
   "cell_type": "code",
   "execution_count": 11,
   "metadata": {},
   "outputs": [
    {
     "name": "stdout",
     "output_type": "stream",
     "text": [
      "By default, this script scrapes data from start of file to the end.\n"
     ]
    }
   ],
   "source": [
    "print(\"By default, this script scrapes data from start of file to the end.\")\n",
    "# print(f\"The last index previously saved for some data is {last_index}.\")"
   ]
  },
  {
   "cell_type": "code",
   "execution_count": null,
   "metadata": {},
   "outputs": [
    {
     "name": "stdout",
     "output_type": "stream",
     "text": [
      "\n",
      "    Do you want to provide some custom index to start the script from?\n",
      "    \n",
      "If yes, type y \n"
     ]
    },
    {
     "name": "stderr",
     "output_type": "stream",
     "text": [
      "https://servers.fivem.net/servers/detail/39rj68\n"
     ]
    },
    {
     "name": "stdout",
     "output_type": "stream",
     "text": [
      "Scraping server 0, id is 39rj68\n",
      "39rj68\n"
     ]
    },
    {
     "name": "stderr",
     "output_type": "stream",
     "text": [
      "Server Name: Phonk Roleplay\n"
     ]
    },
    {
     "name": "stdout",
     "output_type": "stream",
     "text": [
      "%%%%%%%%%%%%%%%%%%%%%%%%%%%%%%%%%%%%%%%%%%%%%%%%%%%%%%%%%%%%%%%%%\n",
      "Phonk Roleplay\n",
      "%%%%%%%%%%%%%%%%%%%%%%%%%%%%%%%%%%%%%%%%%%%%%%%%%%%%%%%%%%%%%%%%%\n"
     ]
    },
    {
     "name": "stderr",
     "output_type": "stream",
     "text": [
      "Resources: 3dme, angelicxs_flipcar, angelicxs-RandomBox, apex_lawenforcement, apex_lib, as_autoexotic, as_mapdata, assets_base, astudios-penitentiary, bankprops, baseevents, basic-gamemode, bcs_housing, blackeditionflecca, Blips, brofx_villa05, CarryPeople, casino-blackjackKGV, casino-roulette, cc-chat, cfx-gabz-247, cfx-gabz-atom, cfx-gabz-barber, cfx-gabz-bennys, cfx-gabz-binco, cfx-gabz-burgershot, cfx-gabz-fleeca, cfx-gabz-hayes, cfx-gabz-hornys, cfx-gabz-lamesapd, cfx-gabz-mapdata, cfx-gabz-mrpd, cfx-gabz-paletobank, cfx-gabz-paletoliquor, cfx-gabz-paletopd, cfx-gabz-pdm, cfx-gabz-pdprops, cfx-gabz-pillbox, cfx-gabz-ponsonbys, cfx-gabz-prison, cfx-gabz-sandypd, cfx-gabz-scenarios, cfx-gabz-suburban, cfx-gabz-tattoo, cfx-gabz-townhall, cfx-gabz-vbmarket, chat, chesshack, Clothes_Female, Clothes_Male, connectqueue, drugs_creator, Elevators, EMS_forms, ems-hud, europe_roads, example-loadscreen, fiv3devs_blazeit, fivem, fivem-map-skater, gigz_davis_mall_ltd_tebex, hacking, ignite_motorplex, illenium-appearance, interact-sound, jg-advancedgarages, jg-dealerships, jg-scoreboard, jg-textui, jim-bakery, jim-beanmachine, jim-burgershot, jim-consumables, jim-crafting, jim-jobgarage, jim-mechanic, jim-payments, jim-recycle, jim-shops, jim-upnatomhorny, jim-vanillaunicorn, jixel-cluckinbell, jixel-menu, jixel-whitewidow, jpr-crewsystem, jpr-phonesystem, k4mb1-casino, kiiya_tunershop, Knockout, limits, lks_gym, loadscreen, LSPD_forms, lspd-hud, LuxuAdmin, LuxuModules, lvc, map, mapmanager, memorygame, MenuAPI, menuv, mhacking, minigolf_patoche, mk_usedvehicles, mlo-merged, money, money-fountain, money-fountain-example-map, monitor, mrw_minigolf, mt-propspawner, mtc-cityhall, mz-shrooms, mz-skills, nc-progressbar, nui_doorlock, ox_lib, oxmysql, ped_spawner, ped-money-drops, player-data, playernames, pma-voice, PolyZone, ps-dispatch, ps-fuel, ps-hud, ps-mdt, qb-ambulancejob, qb-apartments, qb-arcadeslots, qb-bag, qb-bankrobbery, qb-busjob, qb-car-music, qb-carsteal, qb-cigars, qb-cityhall, qb-commandbinding, qb-core, qb-customs, qb-diving, qb-dmv, qb-doorlock, qb-drawtext, qb-drivingschool, qb-drugdeliveries, qb-fitbit, qb-forklift, qb-garbagejob, qb-grandma, qb-headbag, qb-hostage, qb-hotdogjob, qb-houserobbery, qb-idcard, qb-input, qb-interior, qb-inventory, qb-jewelery, qb-keyminigame, qb-lock, qb-lockpick, qb-management, qb-menu, qb-npcdoc, qb-oxyruns, qb-pawnshop, qb-pilot, qb-pilotjob, qb-policebadge, qb-postaldelivery, qb-printer, qb-prison, qb-radialmenu, qb-radio, qb-recyclejob, qb-rentals, qb-security, qb-sit, qb-skillbar, qb-smallresources, qb-spawn, qb-spawnselector, qb-startergift, qb-stashes, qb-storerobbery, qb-stress, qb-target, qb-tastyeats, qb-taxijob, qb-towjob, qb-trashsearch, qb-tunerchip, qb-uwuplushies, qb-vehiclefailure, qb-vehiclekeys, qb-vehiclerentals, qb-warehouse, qb-weapons, qb-weathersync, RageUI, rahe-boosting, rahe-hackingdevice, rahe-racing, randol_moneywash, rconlog, rcore_casino, rdzk_c_square, Renewed-Weaponscarry, rpemotes, rprogress, rtx_club, rtx_club_mlo, rtx_gym, rtx_notify, rtx_themepark, rtx_themepark_objects, runcode, safecracker, screenshot-basic, shopBrands, SimpleLockpick, sit, SouthernStyledVegetation, spawnmanager, SprinkleCakePop, taysbusinesspack, uj_clearArea, ultra-voltlab, um-multicharacter, utk_fingerprint, utk_hackdependency, var-password, varhack, vespuccibeachhouse, WeaponMeta, webpack, windowscript, wk_wars2x, xsound, yarn, yoru-boardspawn\n",
      "Game type: Freeroam\n",
      "Map: fivem-map-skater\n",
      "OneSync: enabled\n",
      "Language: English (United States)\n",
      "Tags: police, drugs, gangs\n",
      "DLC level: 2944\n",
      "sv_pureLevel: 0\n",
      "can_review: true\n",
      "Owner: S3V3N17\n",
      "https://servers.fivem.net/servers/detail/5z78v7\n"
     ]
    },
    {
     "name": "stdout",
     "output_type": "stream",
     "text": [
      "['Phonk Roleplay', 'https://servers.fivem.net/servers/detail/39rj68', '', 'Freeroam', 'enabled', 'fivem-map-skater', 'English (United States)', 'police, drugs, gangs', '2944', '', 'S3V3N17', '', '', ['3dme', 'angelicxs_flipcar', 'angelicxs-RandomBox', 'apex_lawenforcement', 'apex_lib', 'as_autoexotic', 'as_mapdata', 'assets_base', 'astudios-penitentiary', 'bankprops', 'baseevents', 'basic-gamemode', 'bcs_housing', 'blackeditionflecca', 'Blips', 'brofx_villa05', 'CarryPeople', 'casino-blackjackKGV', 'casino-roulette', 'cc-chat', 'cfx-gabz-247', 'cfx-gabz-atom', 'cfx-gabz-barber', 'cfx-gabz-bennys', 'cfx-gabz-binco', 'cfx-gabz-burgershot', 'cfx-gabz-fleeca', 'cfx-gabz-hayes', 'cfx-gabz-hornys', 'cfx-gabz-lamesapd', 'cfx-gabz-mapdata', 'cfx-gabz-mrpd', 'cfx-gabz-paletobank', 'cfx-gabz-paletoliquor', 'cfx-gabz-paletopd', 'cfx-gabz-pdm', 'cfx-gabz-pdprops', 'cfx-gabz-pillbox', 'cfx-gabz-ponsonbys', 'cfx-gabz-prison', 'cfx-gabz-sandypd', 'cfx-gabz-scenarios', 'cfx-gabz-suburban', 'cfx-gabz-tattoo', 'cfx-gabz-townhall', 'cfx-gabz-vbmarket', 'chat', 'chesshack', 'Clothes_Female', 'Clothes_Male', 'connectqueue', 'drugs_creator', 'Elevators', 'EMS_forms', 'ems-hud', 'europe_roads', 'example-loadscreen', 'fiv3devs_blazeit', 'fivem', 'fivem-map-skater', 'gigz_davis_mall_ltd_tebex', 'hacking', 'ignite_motorplex', 'illenium-appearance', 'interact-sound', 'jg-advancedgarages', 'jg-dealerships', 'jg-scoreboard', 'jg-textui', 'jim-bakery', 'jim-beanmachine', 'jim-burgershot', 'jim-consumables', 'jim-crafting', 'jim-jobgarage', 'jim-mechanic', 'jim-payments', 'jim-recycle', 'jim-shops', 'jim-upnatomhorny', 'jim-vanillaunicorn', 'jixel-cluckinbell', 'jixel-menu', 'jixel-whitewidow', 'jpr-crewsystem', 'jpr-phonesystem', 'k4mb1-casino', 'kiiya_tunershop', 'Knockout', 'limits', 'lks_gym', 'loadscreen', 'LSPD_forms', 'lspd-hud', 'LuxuAdmin', 'LuxuModules', 'lvc', 'map', 'mapmanager', 'memorygame', 'MenuAPI', 'menuv', 'mhacking', 'minigolf_patoche', 'mk_usedvehicles', 'mlo-merged', 'money', 'money-fountain', 'money-fountain-example-map', 'monitor', 'mrw_minigolf', 'mt-propspawner', 'mtc-cityhall', 'mz-shrooms', 'mz-skills', 'nc-progressbar', 'nui_doorlock', 'ox_lib', 'oxmysql', 'ped_spawner', 'ped-money-drops', 'player-data', 'playernames', 'pma-voice', 'PolyZone', 'ps-dispatch', 'ps-fuel', 'ps-hud', 'ps-mdt', 'qb-ambulancejob', 'qb-apartments', 'qb-arcadeslots', 'qb-bag', 'qb-bankrobbery', 'qb-busjob', 'qb-car-music', 'qb-carsteal', 'qb-cigars', 'qb-cityhall', 'qb-commandbinding', 'qb-core', 'qb-customs', 'qb-diving', 'qb-dmv', 'qb-doorlock', 'qb-drawtext', 'qb-drivingschool', 'qb-drugdeliveries', 'qb-fitbit', 'qb-forklift', 'qb-garbagejob', 'qb-grandma', 'qb-headbag', 'qb-hostage', 'qb-hotdogjob', 'qb-houserobbery', 'qb-idcard', 'qb-input', 'qb-interior', 'qb-inventory', 'qb-jewelery', 'qb-keyminigame', 'qb-lock', 'qb-lockpick', 'qb-management', 'qb-menu', 'qb-npcdoc', 'qb-oxyruns', 'qb-pawnshop', 'qb-pilot', 'qb-pilotjob', 'qb-policebadge', 'qb-postaldelivery', 'qb-printer', 'qb-prison', 'qb-radialmenu', 'qb-radio', 'qb-recyclejob', 'qb-rentals', 'qb-security', 'qb-sit', 'qb-skillbar', 'qb-smallresources', 'qb-spawn', 'qb-spawnselector', 'qb-startergift', 'qb-stashes', 'qb-storerobbery', 'qb-stress', 'qb-target', 'qb-tastyeats', 'qb-taxijob', 'qb-towjob', 'qb-trashsearch', 'qb-tunerchip', 'qb-uwuplushies', 'qb-vehiclefailure', 'qb-vehiclekeys', 'qb-vehiclerentals', 'qb-warehouse', 'qb-weapons', 'qb-weathersync', 'RageUI', 'rahe-boosting', 'rahe-hackingdevice', 'rahe-racing', 'randol_moneywash', 'rconlog', 'rcore_casino', 'rdzk_c_square', 'Renewed-Weaponscarry', 'rpemotes', 'rprogress', 'rtx_club', 'rtx_club_mlo', 'rtx_gym', 'rtx_notify', 'rtx_themepark', 'rtx_themepark_objects', 'runcode', 'safecracker', 'screenshot-basic', 'shopBrands', 'SimpleLockpick', 'sit', 'SouthernStyledVegetation', 'spawnmanager', 'SprinkleCakePop', 'taysbusinesspack', 'uj_clearArea', 'ultra-voltlab', 'um-multicharacter', 'utk_fingerprint', 'utk_hackdependency', 'var-password', 'varhack', 'vespuccibeachhouse', 'WeaponMeta', 'webpack', 'windowscript', 'wk_wars2x', 'xsound', 'yarn', 'yoru-boardspawn']]\n",
      "The last index is: 0\n",
      "Scraping server 1, id is 5z78v7\n",
      "5z78v7\n"
     ]
    },
    {
     "name": "stderr",
     "output_type": "stream",
     "text": [
      "Server Name: VeraCity Roleplay - OPEN | 💵 Realistic Economy 💵 | ✨ Authentic Realism ✨ | 🩸 Neutral/Hostile Gangs 🩸 | 💅 E/Girl & Streamer Friendly 📺 | 💎 Casino 💎 | Allowlist Job Paths | Player/Owned Businesses |\n"
     ]
    },
    {
     "name": "stdout",
     "output_type": "stream",
     "text": [
      "%%%%%%%%%%%%%%%%%%%%%%%%%%%%%%%%%%%%%%%%%%%%%%%%%%%%%%%%%%%%%%%%%\n",
      "VeraCity Roleplay - OPEN | 💵 Realistic Economy 💵 | ✨ Authentic Realism ✨ | 🩸 Neutral/Hostile Gangs 🩸 | 💅 E/Girl & Streamer Friendly 📺 | 💎 Casino 💎 | Allowlist Job Paths | Player/Owned Businesses |\n",
      "%%%%%%%%%%%%%%%%%%%%%%%%%%%%%%%%%%%%%%%%%%%%%%%%%%%%%%%%%%%%%%%%%\n"
     ]
    },
    {
     "name": "stderr",
     "output_type": "stream",
     "text": [
      "Resources: 17mov_BuilderJob, 17mov_GruppeSechs, 17mov_Lumberjack, a5-cameramode, AdvancedParking, al_mdt, alca_anim_eat, alca_food, alca_food_pack2, alca_pastries, alca_street_food, alca_wallet, an-policecarmegaphone, angelicxs-policeK9, angelicxs-VINscratch, ap-addonjob, ap-court, ap-documents, ap-government, apache_del_perro_apt, astudios-surfboarding, Az_trailer, baseevents, bcs_housing, bcs_questionare, bctls, BikeHire, blackmarkets, boatdealer, bob74_ipl, brofx_church, brum_ghostenergy, brum_joints, brum_pies, brum_usd, burgershot_props, busclothespack, bzzz_foodpack, bzzz_restaurantfood, bzzz_sweetsnack, c-hunting_shop, cd_dispatch, cd_doorlock, cd_drawtextui, cd_easytime, cd_keymaster, cd_vehiclecontrol, cdn-fuel, cfx_gn_collection, cfx_gn_sandy_mapdata, cfx_gn_scenario, cfx_gn_sheriff_dlc, cfx_gn_sheriff_sandyshores, cfx-gabz-247, cfx-gabz-ammunation, cfx-gabz-atom, cfx-gabz-barber, cfx-gabz-beanmachine, cfx-gabz-bennys, cfx-gabz-binco, cfx-gabz-bowling, cfx-gabz-burgershot, cfx-gabz-carmeet, cfx-gabz-casino, cfx-gabz-catcafe, cfx-gabz-diner, cfx-gabz-esbltd, cfx-gabz-fleeca, cfx-gabz-harmony, cfx-gabz-haters, cfx-gabz-hornys, cfx-gabz-impound, cfx-gabz-lamesapd, cfx-gabz-mapdata, cfx-gabz-mba, cfx-gabz-mrpd, cfx-gabz-ottos, cfx-gabz-pacificbank, cfx-gabz-paletobank, cfx-gabz-paletocamp, cfx-gabz-paletoliquor, cfx-gabz-pdm, cfx-gabz-pdprops, cfx-gabz-pearls, cfx-gabz-pillbox, cfx-gabz-pinkcage, cfx-gabz-pizzeria, cfx-gabz-ponsonbys, cfx-gabz-prison, cfx-gabz-records, cfx-gabz-scenarios, cfx-gabz-studio, cfx-gabz-tattoo, cfx-gabz-townhall, cfx-gabz-triads, cfx-gabz-tuners, cfx-gabz-vagos, cfx-gabz-vbmarket, cfx-gabz-weedcamp, cfx-gabz-yachts, chat, collection_seafood, collection_spoon, collection_wingsandfries, connectqueue, cookies_urbalife, cs-hall, cs-stream, custom, Custom-Weapons, d3MBA-butcherjob, d3MBA-lib, demi-pedmanager, dirk-core, dirk-crafting, dirk-shn, distrtc_nogrip, doctorgarage, DoItDigital_central_gunshop_billboard, don-trafficlights, drc_mugshot, dynasty8, ebu_connect, ebu_defscript, ElectricSkateboard, envi-dumpsterdive, envi-leanprops, envi-prescriptions, extra_drinks, family_pharmacy, fd-grandmas, firesupplyline, FireTools, fiv3devs_risingsun, fiv3devs_vu, fivem-scenes, flight-animals, flybandit_addon_tattoos_pd-ems-pack, flywheels, ForestsOfSA_N, ForestsOfSA_S, fs-dragstrip, fs-sound, gaz_station_v1, ghillie, gravesounds, harrisonspawnshop, hedwig_hunt, iak_wheelchair, illenium-appearance, int_beachmotel, interact, interact-sound, InteractSound, inz-shoulder_swap, J13_Zeus, jay-audio, jg-dealerships, jim-bars, jim-burgershot, jim-catcafe, jim-closedshops, jim-consumables, jim-mining, jim-plates, jim-popsdiner, jim-recycle, jim-vanillaunicorn, jixel-pearlkois, jixel-whitewidow, K4MB1-AllShellsSubPack, k4mb1-miningcave, k4mb1shellstarter, K9_ped, kd_custom-native, kd_hud-event, kd_towtruck, kd_wheellock, keep-afk, keep-bags, keep-harmony, keymaster, kiiya_bayview, kimi_callbacks, Knockout, kq_outfitbag, kq_realoffroad, kq_smash_n_grab, kq_towing2, l2s-projector, lambra-advancedTrucker, lambra-drugTables, lambra-stealWheelsM, LARoads, lb-aidoc, lb-payphone, lb-phone, lb-phone_prop, LEO_Training_Facility, lightfix, ln_catalytic_converters, loaf_lib, loaf_offsetfinder, lunaticstudio_promo001, lvc, m-Insurance, m-MysteryBox, mapmanager, mayansclubhouse, mbt_evo_halloween, md-props, mej_boat, menuv, meta_libs, mh-crutches, mh-elevators, MilosCornerStore, MilosSkatingRing, minty_bcso, mintysast, mk-scoreboard, monitor, mp-vehicleaudio, mrf-hookers, mt-hunting, mt-scrunchie, MugShotBase64, nad_rockstar, natty_props_halloween_pack01%20V.2, no1-pawnshop, null_offroad, NW_fishing, ob_rang, okokBanking, okokBilling, okokChatV2, okokContract, okokGarage, okokNotify, okokRequests, okokTextUI, oulsen_satmap, ox_inventory, ox_inventory_addons, ox_lib, ox_target, oxmysql, oxy3n_dessert, oxy3n_fastfood, oxy3n_freshfood, pablito_pawnshop_paleto, paleto_houses, paletohospital, pd_exhaust_smoke, pd_npc_crime_report, phade-speedsigns, pickle_metaldetector, pier_cafe, PinkCage, pk_graveyard, pma-voice, PolyZone, pressurewasher, pressurewashermodels, ps-buffs, ps-microphone, ps-props, ps-zones, qb-adminmenu, qb-bankrobbery, qb-bbq, qb-busjob, qb-carwash, qb-cityhall, qb-core, qb-drugs, qb-fitbit, qb-garbagejob, qb-hotdogjob, qb-houserobbery, qb-input, qb-interior, qb-jewelery, qb-k9, qb-keyminigame, qb-lapraces, qb-lockpick, qb-management, qb-menu, qb-newsjob, qb-radialmenu, qb-radio, qb-skillbar, qb-smallresources, qb-spawn, qb-streetraces, qb-traphouse, qb-truckrobbery, qb-tunerchip, qb-vehiclefailure, qb-vehiclekeys, qb-vineyard, qb-weed, qb-wheelchair, r14-evidence, r14-smallresources, radio, RageUI, rahe-boombox, randol_multijob, randol_vape, rcore_addon_tattoos_halloween, rcore_addon_tattoos_sons-of-anarchy, rcore_basketball, rcore_basketball_assets, rcore_bowling, rcore_cam, rcore_cam_assets, rcore_casino, rcore_darts, rcore_drunk, rcore_pool, rcore_prison, rcore_prison_models_gabz, rcore_tattoos, RD_Citations, redroom, resource_manager, rockdale-blipdiscovery, RollerIceSkating, rpemotes, rs-frontdesk, rtx_carradio, rtx_carry, rtx_tv, salieris_bar, sandyscrapyard, SAS, scnp25, scnp25_ox, scratchcard, screenshot-basic, serrulata-showers, ShmannCenterWorking, SignProps, sit, slashtires, SmartFires, SmartHose, SmartTaser, smokingMKZ, snipe-menu, snipe-menucards, snipe-printer, soaclubhouse, spawnmanager, speedlimit, spikescript, ST24_int, Station24, surfboard, t1ger_carlift, t1ger_lib, t1ger_mechanicsystem, tad-chopshop, TaserFramework, TaserX2, tc-hostage, tc-wepRecoil, tequila_reconstruction, tgiann-look-talking-player, ThrowBag, thx-moneywash, ti_rcVehicles, ti_scratchIts, ti_stream, ti_utils, top-drive_thru, towhelper, uj_clearArea, uj_digitalden2, Ultra-Ids, um-horrorhouse, um-horrorhouse-mlo, um-loginv3, um-multicharacter, um-prop, um-rodeo, updatedjoshua, vc_secret, vc_sellcryptostick, vc_treasurechests, VC-BCSOK9VEHICLEPACK2, VC-BCSOVEHICLEPACK, vc-towpack, vc-trailerpack, vc-vehicle, vc-vehicle1of1, vc-vehiclebusiness, vc-vehiclegiveaway, vc-vehiclemoto, vc-vehicleother, vc-vehiclesafr, vc-vehicletruck, vcsmokev2, vespucci_ambulance, vinewoodsign, vms_barber, vms_boatschoolv2, vms_documents, vms_driveschool_map, vms_driveschoolv2, vms_flightschoolv2, vms_guidebook, vms_gym, vms_hud, vms_notify, vms_npctalk, vrs-RockPaperScissors, walkshake, wasabi_ambulance, wasabi_bridge, wasabi_halloween, wasabi_police, watchdog, WaterMonitor, webpack, WestonsMansionMLO, Wheel-Saving, whitewidow, wk_wars2x, woosh_coroner, woosh_pd, xsound, yarn, YouTool, zf-dumpster\n",
      "OneSync: enabled\n",
      "Language: English (United States)\n",
      "Tags: qbcore, qb-core, roleplay, serious, jobs, gangs, police, ems, casino, halloween\n",
      "DLC level: 2699\n",
      "sv_pureLevel: 0\n",
      "can_review: true\n",
      "Owner: bluelineparabellum\n",
      "https://servers.fivem.net/servers/detail/83vyav\n"
     ]
    },
    {
     "name": "stdout",
     "output_type": "stream",
     "text": [
      "['VeraCity Roleplay - OPEN | 💵 Realistic Economy 💵 | ✨ Authentic Realism ✨ | 🩸 Neutral/Hostile Gangs 🩸 | 💅 E/Girl & Streamer Friendly 📺 | 💎 Casino 💎 | Allowlist Job Paths | Player/Owned Businesses |', 'https://servers.fivem.net/servers/detail/5z78v7', '', '', 'enabled', '', 'English (United States)', 'qbcore, qb-core, roleplay, serious, jobs, gangs, police, ems, casino, halloween', '2699', '', 'bluelineparabellum', '', '', ['17mov_BuilderJob', '17mov_GruppeSechs', '17mov_Lumberjack', 'a5-cameramode', 'AdvancedParking', 'al_mdt', 'alca_anim_eat', 'alca_food', 'alca_food_pack2', 'alca_pastries', 'alca_street_food', 'alca_wallet', 'an-policecarmegaphone', 'angelicxs-policeK9', 'angelicxs-VINscratch', 'ap-addonjob', 'ap-court', 'ap-documents', 'ap-government', 'apache_del_perro_apt', 'astudios-surfboarding', 'Az_trailer', 'baseevents', 'bcs_housing', 'bcs_questionare', 'bctls', 'BikeHire', 'blackmarkets', 'boatdealer', 'bob74_ipl', 'brofx_church', 'brum_ghostenergy', 'brum_joints', 'brum_pies', 'brum_usd', 'burgershot_props', 'busclothespack', 'bzzz_foodpack', 'bzzz_restaurantfood', 'bzzz_sweetsnack', 'c-hunting_shop', 'cd_dispatch', 'cd_doorlock', 'cd_drawtextui', 'cd_easytime', 'cd_keymaster', 'cd_vehiclecontrol', 'cdn-fuel', 'cfx_gn_collection', 'cfx_gn_sandy_mapdata', 'cfx_gn_scenario', 'cfx_gn_sheriff_dlc', 'cfx_gn_sheriff_sandyshores', 'cfx-gabz-247', 'cfx-gabz-ammunation', 'cfx-gabz-atom', 'cfx-gabz-barber', 'cfx-gabz-beanmachine', 'cfx-gabz-bennys', 'cfx-gabz-binco', 'cfx-gabz-bowling', 'cfx-gabz-burgershot', 'cfx-gabz-carmeet', 'cfx-gabz-casino', 'cfx-gabz-catcafe', 'cfx-gabz-diner', 'cfx-gabz-esbltd', 'cfx-gabz-fleeca', 'cfx-gabz-harmony', 'cfx-gabz-haters', 'cfx-gabz-hornys', 'cfx-gabz-impound', 'cfx-gabz-lamesapd', 'cfx-gabz-mapdata', 'cfx-gabz-mba', 'cfx-gabz-mrpd', 'cfx-gabz-ottos', 'cfx-gabz-pacificbank', 'cfx-gabz-paletobank', 'cfx-gabz-paletocamp', 'cfx-gabz-paletoliquor', 'cfx-gabz-pdm', 'cfx-gabz-pdprops', 'cfx-gabz-pearls', 'cfx-gabz-pillbox', 'cfx-gabz-pinkcage', 'cfx-gabz-pizzeria', 'cfx-gabz-ponsonbys', 'cfx-gabz-prison', 'cfx-gabz-records', 'cfx-gabz-scenarios', 'cfx-gabz-studio', 'cfx-gabz-tattoo', 'cfx-gabz-townhall', 'cfx-gabz-triads', 'cfx-gabz-tuners', 'cfx-gabz-vagos', 'cfx-gabz-vbmarket', 'cfx-gabz-weedcamp', 'cfx-gabz-yachts', 'chat', 'collection_seafood', 'collection_spoon', 'collection_wingsandfries', 'connectqueue', 'cookies_urbalife', 'cs-hall', 'cs-stream', 'custom', 'Custom-Weapons', 'd3MBA-butcherjob', 'd3MBA-lib', 'demi-pedmanager', 'dirk-core', 'dirk-crafting', 'dirk-shn', 'distrtc_nogrip', 'doctorgarage', 'DoItDigital_central_gunshop_billboard', 'don-trafficlights', 'drc_mugshot', 'dynasty8', 'ebu_connect', 'ebu_defscript', 'ElectricSkateboard', 'envi-dumpsterdive', 'envi-leanprops', 'envi-prescriptions', 'extra_drinks', 'family_pharmacy', 'fd-grandmas', 'firesupplyline', 'FireTools', 'fiv3devs_risingsun', 'fiv3devs_vu', 'fivem-scenes', 'flight-animals', 'flybandit_addon_tattoos_pd-ems-pack', 'flywheels', 'ForestsOfSA_N', 'ForestsOfSA_S', 'fs-dragstrip', 'fs-sound', 'gaz_station_v1', 'ghillie', 'gravesounds', 'harrisonspawnshop', 'hedwig_hunt', 'iak_wheelchair', 'illenium-appearance', 'int_beachmotel', 'interact', 'interact-sound', 'InteractSound', 'inz-shoulder_swap', 'J13_Zeus', 'jay-audio', 'jg-dealerships', 'jim-bars', 'jim-burgershot', 'jim-catcafe', 'jim-closedshops', 'jim-consumables', 'jim-mining', 'jim-plates', 'jim-popsdiner', 'jim-recycle', 'jim-vanillaunicorn', 'jixel-pearlkois', 'jixel-whitewidow', 'K4MB1-AllShellsSubPack', 'k4mb1-miningcave', 'k4mb1shellstarter', 'K9_ped', 'kd_custom-native', 'kd_hud-event', 'kd_towtruck', 'kd_wheellock', 'keep-afk', 'keep-bags', 'keep-harmony', 'keymaster', 'kiiya_bayview', 'kimi_callbacks', 'Knockout', 'kq_outfitbag', 'kq_realoffroad', 'kq_smash_n_grab', 'kq_towing2', 'l2s-projector', 'lambra-advancedTrucker', 'lambra-drugTables', 'lambra-stealWheelsM', 'LARoads', 'lb-aidoc', 'lb-payphone', 'lb-phone', 'lb-phone_prop', 'LEO_Training_Facility', 'lightfix', 'ln_catalytic_converters', 'loaf_lib', 'loaf_offsetfinder', 'lunaticstudio_promo001', 'lvc', 'm-Insurance', 'm-MysteryBox', 'mapmanager', 'mayansclubhouse', 'mbt_evo_halloween', 'md-props', 'mej_boat', 'menuv', 'meta_libs', 'mh-crutches', 'mh-elevators', 'MilosCornerStore', 'MilosSkatingRing', 'minty_bcso', 'mintysast', 'mk-scoreboard', 'monitor', 'mp-vehicleaudio', 'mrf-hookers', 'mt-hunting', 'mt-scrunchie', 'MugShotBase64', 'nad_rockstar', 'natty_props_halloween_pack01%20V.2', 'no1-pawnshop', 'null_offroad', 'NW_fishing', 'ob_rang', 'okokBanking', 'okokBilling', 'okokChatV2', 'okokContract', 'okokGarage', 'okokNotify', 'okokRequests', 'okokTextUI', 'oulsen_satmap', 'ox_inventory', 'ox_inventory_addons', 'ox_lib', 'ox_target', 'oxmysql', 'oxy3n_dessert', 'oxy3n_fastfood', 'oxy3n_freshfood', 'pablito_pawnshop_paleto', 'paleto_houses', 'paletohospital', 'pd_exhaust_smoke', 'pd_npc_crime_report', 'phade-speedsigns', 'pickle_metaldetector', 'pier_cafe', 'PinkCage', 'pk_graveyard', 'pma-voice', 'PolyZone', 'pressurewasher', 'pressurewashermodels', 'ps-buffs', 'ps-microphone', 'ps-props', 'ps-zones', 'qb-adminmenu', 'qb-bankrobbery', 'qb-bbq', 'qb-busjob', 'qb-carwash', 'qb-cityhall', 'qb-core', 'qb-drugs', 'qb-fitbit', 'qb-garbagejob', 'qb-hotdogjob', 'qb-houserobbery', 'qb-input', 'qb-interior', 'qb-jewelery', 'qb-k9', 'qb-keyminigame', 'qb-lapraces', 'qb-lockpick', 'qb-management', 'qb-menu', 'qb-newsjob', 'qb-radialmenu', 'qb-radio', 'qb-skillbar', 'qb-smallresources', 'qb-spawn', 'qb-streetraces', 'qb-traphouse', 'qb-truckrobbery', 'qb-tunerchip', 'qb-vehiclefailure', 'qb-vehiclekeys', 'qb-vineyard', 'qb-weed', 'qb-wheelchair', 'r14-evidence', 'r14-smallresources', 'radio', 'RageUI', 'rahe-boombox', 'randol_multijob', 'randol_vape', 'rcore_addon_tattoos_halloween', 'rcore_addon_tattoos_sons-of-anarchy', 'rcore_basketball', 'rcore_basketball_assets', 'rcore_bowling', 'rcore_cam', 'rcore_cam_assets', 'rcore_casino', 'rcore_darts', 'rcore_drunk', 'rcore_pool', 'rcore_prison', 'rcore_prison_models_gabz', 'rcore_tattoos', 'RD_Citations', 'redroom', 'resource_manager', 'rockdale-blipdiscovery', 'RollerIceSkating', 'rpemotes', 'rs-frontdesk', 'rtx_carradio', 'rtx_carry', 'rtx_tv', 'salieris_bar', 'sandyscrapyard', 'SAS', 'scnp25', 'scnp25_ox', 'scratchcard', 'screenshot-basic', 'serrulata-showers', 'ShmannCenterWorking', 'SignProps', 'sit', 'slashtires', 'SmartFires', 'SmartHose', 'SmartTaser', 'smokingMKZ', 'snipe-menu', 'snipe-menucards', 'snipe-printer', 'soaclubhouse', 'spawnmanager', 'speedlimit', 'spikescript', 'ST24_int', 'Station24', 'surfboard', 't1ger_carlift', 't1ger_lib', 't1ger_mechanicsystem', 'tad-chopshop', 'TaserFramework', 'TaserX2', 'tc-hostage', 'tc-wepRecoil', 'tequila_reconstruction', 'tgiann-look-talking-player', 'ThrowBag', 'thx-moneywash', 'ti_rcVehicles', 'ti_scratchIts', 'ti_stream', 'ti_utils', 'top-drive_thru', 'towhelper', 'uj_clearArea', 'uj_digitalden2', 'Ultra-Ids', 'um-horrorhouse', 'um-horrorhouse-mlo', 'um-loginv3', 'um-multicharacter', 'um-prop', 'um-rodeo', 'updatedjoshua', 'vc_secret', 'vc_sellcryptostick', 'vc_treasurechests', 'VC-BCSOK9VEHICLEPACK2', 'VC-BCSOVEHICLEPACK', 'vc-towpack', 'vc-trailerpack', 'vc-vehicle', 'vc-vehicle1of1', 'vc-vehiclebusiness', 'vc-vehiclegiveaway', 'vc-vehiclemoto', 'vc-vehicleother', 'vc-vehiclesafr', 'vc-vehicletruck', 'vcsmokev2', 'vespucci_ambulance', 'vinewoodsign', 'vms_barber', 'vms_boatschoolv2', 'vms_documents', 'vms_driveschool_map', 'vms_driveschoolv2', 'vms_flightschoolv2', 'vms_guidebook', 'vms_gym', 'vms_hud', 'vms_notify', 'vms_npctalk', 'vrs-RockPaperScissors', 'walkshake', 'wasabi_ambulance', 'wasabi_bridge', 'wasabi_halloween', 'wasabi_police', 'watchdog', 'WaterMonitor', 'webpack', 'WestonsMansionMLO', 'Wheel-Saving', 'whitewidow', 'wk_wars2x', 'woosh_coroner', 'woosh_pd', 'xsound', 'yarn', 'YouTool', 'zf-dumpster']]\n",
      "The last index is: 1\n",
      "Scraping server 2, id is 83vyav\n",
      "83vyav\n"
     ]
    },
    {
     "name": "stderr",
     "output_type": "stream",
     "text": [
      "Server Name: [GERMAN] 🩸 NIGHTLIFE ROLEPLAY 💎 × 🔥 100% Custom 🏠 × 🏆 Starkes Anticheat! × 🚀 Fraktionen gesucht! × ⚡ Performance 🔥\n"
     ]
    },
    {
     "name": "stdout",
     "output_type": "stream",
     "text": [
      "%%%%%%%%%%%%%%%%%%%%%%%%%%%%%%%%%%%%%%%%%%%%%%%%%%%%%%%%%%%%%%%%%\n",
      "[GERMAN] 🩸 NIGHTLIFE ROLEPLAY 💎 × 🔥 100% Custom 🏠 × 🏆 Starkes Anticheat! × 🚀 Fraktionen gesucht! × ⚡ Performance 🔥\n",
      "%%%%%%%%%%%%%%%%%%%%%%%%%%%%%%%%%%%%%%%%%%%%%%%%%%%%%%%%%%%%%%%%%\n"
     ]
    },
    {
     "name": "stderr",
     "output_type": "stream",
     "text": [
      "Resources: 1_nightlife_aduty, 1_nightlife_banking, 1_nightlife_bundle, 1_nightlife_calladmin, 1_nightlife_carclear, 1_nightlife_carpack_1, 1_nightlife_carpack_2, 1_nightlife_carshop, 1_nightlife_carshops, 1_nightlife_carsounds, 1_nightlife_changeskin, 1_nightlife_chat, 1_nightlife_chatfix, 1_nightlife_combatlog, 1_nightlife_container, 1_nightlife_deathscreen, 1_nightlife_einreise, 1_nightlife_female, 1_nightlife_ffa, 1_nightlife_fishing, 1_nightlife_fraks, 1_nightlife_garage, 1_nightlife_hud, 1_nightlife_hudcolor, 1_nightlife_juwerobbery, 1_nightlife_kaufvertrag, 1_nightlife_kleidungsladen, 1_nightlife_lifeinvader, 1_nightlife_loadingscreen_halloween, 1_nightlife_lootdrop, 1_nightlife_male, 1_nightlife_maps, 1_nightlife_mlo, 1_nightlife_muscheln, 1_nightlife_nui, 1_nightlife_pd_md_carpack, 1_nightlife_restricteditems, 1_nightlife_shoprobbery, 1_nightlife_taxi, 1_nightlife_TicketSystem, 1_nightlife_tiktok, 1_nightlife_westen, 6067, advanced_drugs_creator, ak4y-caseOpening, AntiStateBagOverflow, b-dmvschool, b-revivestation, bansystem, baseevents, basic-gamemode, BB_Discord, BB_PD, BB_PD_jonas, bob74_ipl, bollard, crips, cron, DDEmotes, DeathCam, doors_creator, dpclothing, EasyAdmin, EclipseHospital, ELS-FiveM, es_extended, esx_addonaccount, esx_addoninventory, esx_ambulancejob, esx_barbershop, esx_basicneeds, esx_billing, esx_context, esx_datastore, esx_identity, esx_license, esx_lscustom, esx_notify, esx_optionalneeds, esx_progressbar, esx_repairkit, esx_service, esx_skin, esx_society, esx_status, esx_textui, esx_truckshop, fibv, FPSBoost, halloween, hillsmansion, inventory, italyroom, JD_logsV3, jobs_creator, jsfour-idcard-master, k13_adminLogs, kn_lightbar, krz_personalmenu, lb-phone, lb-phoneprop, loaf_lib, lodstudios_madrazo_estate, map, molo_airportlite, monitor, msk_core, msk_weaponammo, NativeUILua_Reloaded, nxel_kevlar, oxmysql, pdExtras, playerController, pma_muteondeath, pma-voice, pogressBar2, prison, rconlog, RiP-Boating, RiP-Busdriving, RiP-CarwashV2, RiP-Fraktion, RiP-Fuel, RiP-ImpoundV2, RiP-Postal, RiP-Rental, RiP-Trucker, robberies_creator, rpwr_radioapp, runcode, screenshot-basic, skinchanger, spawnmanager, Terror, vehicles_keys, vSync, WaffenSync, WaveAdmin, WaveShield, webpack, xnTattoos, yarn, yss_distribution, yss_eventSystem, yss_logger, yss_rewards, yss_shop, Zones\n",
      "Game type: ESX Legacy\n",
      "Map: San Andreas\n",
      "OneSync: enabled\n",
      "Language: German (Germany)\n",
      "Tags: german,esx\n",
      "Discord: discord.gg/nightlife\n",
      "DLC level: 2944\n",
      "sv_pureLevel: 0\n",
      "Owner: ServerNightLife\n",
      "https://servers.fivem.net/servers/detail/369l38\n"
     ]
    },
    {
     "name": "stdout",
     "output_type": "stream",
     "text": [
      "['[GERMAN] 🩸 NIGHTLIFE ROLEPLAY 💎 × 🔥 100% Custom 🏠 × 🏆 Starkes Anticheat! × 🚀 Fraktionen gesucht! × ⚡ Performance 🔥', 'https://servers.fivem.net/servers/detail/83vyav', '', 'ESX Legacy', 'enabled', 'San Andreas', 'German (Germany)', 'german,esx', '2944', '', 'ServerNightLife', '', '', ['1_nightlife_aduty', '1_nightlife_banking', '1_nightlife_bundle', '1_nightlife_calladmin', '1_nightlife_carclear', '1_nightlife_carpack_1', '1_nightlife_carpack_2', '1_nightlife_carshop', '1_nightlife_carshops', '1_nightlife_carsounds', '1_nightlife_changeskin', '1_nightlife_chat', '1_nightlife_chatfix', '1_nightlife_combatlog', '1_nightlife_container', '1_nightlife_deathscreen', '1_nightlife_einreise', '1_nightlife_female', '1_nightlife_ffa', '1_nightlife_fishing', '1_nightlife_fraks', '1_nightlife_garage', '1_nightlife_hud', '1_nightlife_hudcolor', '1_nightlife_juwerobbery', '1_nightlife_kaufvertrag', '1_nightlife_kleidungsladen', '1_nightlife_lifeinvader', '1_nightlife_loadingscreen_halloween', '1_nightlife_lootdrop', '1_nightlife_male', '1_nightlife_maps', '1_nightlife_mlo', '1_nightlife_muscheln', '1_nightlife_nui', '1_nightlife_pd_md_carpack', '1_nightlife_restricteditems', '1_nightlife_shoprobbery', '1_nightlife_taxi', '1_nightlife_TicketSystem', '1_nightlife_tiktok', '1_nightlife_westen', '6067', 'advanced_drugs_creator', 'ak4y-caseOpening', 'AntiStateBagOverflow', 'b-dmvschool', 'b-revivestation', 'bansystem', 'baseevents', 'basic-gamemode', 'BB_Discord', 'BB_PD', 'BB_PD_jonas', 'bob74_ipl', 'bollard', 'crips', 'cron', 'DDEmotes', 'DeathCam', 'doors_creator', 'dpclothing', 'EasyAdmin', 'EclipseHospital', 'ELS-FiveM', 'es_extended', 'esx_addonaccount', 'esx_addoninventory', 'esx_ambulancejob', 'esx_barbershop', 'esx_basicneeds', 'esx_billing', 'esx_context', 'esx_datastore', 'esx_identity', 'esx_license', 'esx_lscustom', 'esx_notify', 'esx_optionalneeds', 'esx_progressbar', 'esx_repairkit', 'esx_service', 'esx_skin', 'esx_society', 'esx_status', 'esx_textui', 'esx_truckshop', 'fibv', 'FPSBoost', 'halloween', 'hillsmansion', 'inventory', 'italyroom', 'JD_logsV3', 'jobs_creator', 'jsfour-idcard-master', 'k13_adminLogs', 'kn_lightbar', 'krz_personalmenu', 'lb-phone', 'lb-phoneprop', 'loaf_lib', 'lodstudios_madrazo_estate', 'map', 'molo_airportlite', 'monitor', 'msk_core', 'msk_weaponammo', 'NativeUILua_Reloaded', 'nxel_kevlar', 'oxmysql', 'pdExtras', 'playerController', 'pma_muteondeath', 'pma-voice', 'pogressBar2', 'prison', 'rconlog', 'RiP-Boating', 'RiP-Busdriving', 'RiP-CarwashV2', 'RiP-Fraktion', 'RiP-Fuel', 'RiP-ImpoundV2', 'RiP-Postal', 'RiP-Rental', 'RiP-Trucker', 'robberies_creator', 'rpwr_radioapp', 'runcode', 'screenshot-basic', 'skinchanger', 'spawnmanager', 'Terror', 'vehicles_keys', 'vSync', 'WaffenSync', 'WaveAdmin', 'WaveShield', 'webpack', 'xnTattoos', 'yarn', 'yss_distribution', 'yss_eventSystem', 'yss_logger', 'yss_rewards', 'yss_shop', 'Zones']]\n",
      "The last index is: 2\n",
      "Scraping server 3, id is 369l38\n",
      "369l38\n"
     ]
    },
    {
     "name": "stderr",
     "output_type": "stream",
     "text": [
      "Resources: 8c, 12cls63, 16charger, 17m760i, 18performante, 19GT500, 19s650, 69charger, 99viper, 180sx, 250gtberl, 300sl, 350z, 370z, 458ita, 500gtr, 500w124, 600lt, 600sel, 675lt, 720s, 750li, 911turbos, ae86, agerars, alfav, america, amggt, ap2, as_tequilala, asterion, astonvalk18, atsv, b63s, bahamas, ballasautoshop, ballascustoms, baseevents, basic-gamemode, bbentayga, beanmachine, ben17, bmws, bob74_ipl, brabus700, brabus850, brera, breze_medusa, brnx_cinemadoppler, bronco, bugatti, c63w205, camry18, ccx, celica, cesc21, chargerf8, chiron, chr, church, cityhallv2, civic, classaamg, cobra, containerbunker, count6, CT200h, cyberbar_map, db905, dbx, dealer_map, dienstvoertuigen, digital1, dl2016, dolu_beer, dyc3jeep, dyce911r, dycep7, e_49_beach_garage, e34, e63amg, e78, e400c238, eb110, ed_rockfordh02, ek9, eleanor, ELS-FiveM, eup-stream, everest, evoque, f40, f150, f430sc, families, fgt, fivem-map-skater, focusrs, fpacehm, ftype, fx50s, g65amg, g500, gcom_ss_workshop, gdwrxsti, ghis2, giulia, gl63, golf7r, gs350, gt17, gtv6, hid_weed_lab, hondacivictr, hospital_map, huayra, hypnonema, iak_custom_sign, iak_trash_job, infinitig35, int_carmeet, int_yellowjack, interact-sound, ipl_coke1, ipl_meth1, ipl_money, ipl_weed1, iplLoader, ipls_resource_cayo, is350mod, jes, kiagt, koup, LA-Roads, lc500, LegacyFuel, lossantos, LosSantosPlayboyMansion, lp570, lp610, lp670sv, lp700, lp770, lsc, lumma750, luxury_auto, lx570, m1, m2, m3f80, m4f82, m5f90, m5touring, m6f13, madrazoranch, mafia, Mafia_Hotel, magazls, magazsh, mapmanager, mc12, menuv, mgrantur2010, mgt, mhacking, mlnovitec, modena, monitor, mp4, mqgts, myMapbuilderStandalone, na6, NativeUILua_Reloaded, nismo20, nissantitan17, nlpolitie, nsexrb, okokChat, one77, oxmysql, p1gtr, paletohospital, panamera17turbo, patoche_dealer_weapon, patoche_tiny_garage, patrold, pbmotel, petshop_map, pinkcage_motel, pleb-banners, pleb-bbqsteaks, pleb-cinema, pleb-crash, pleb-kraslot, pleb-meth, pleb-pakketten, pleb-rekening, pleb-rewards, pleb-snowden, pleb-squad, pleb-strippers, pleb-taakstraf, pleb-tattoos, pleb-weedlab, pleb-zitten, pma-voice, PolyZone, por9, prison_canteen, prison_main, prison_meeting, progressbar, ps-ui, q30, qb-adminmenu, qb-ambulancejob, qb-apartments, qb-atms, qb-banking, qb-bankrobbery, qb-busjob, qb-chicken, qb-cityhall, qb-clothing, qb-coke, qb-commandbinding, qb-core, qb-crypto, qb-customs, qb-diving, qb-doorlock, qb-drift, qb-drugs, qb-fitbit, qb-garages, qb-garbagejob, qb-hotdogjob, qb-houserobbery, qb-houses, qb-hud, qb-input, qb-interior, qb-inventory, qb-jewelery, qb-keyminigame, qb-lapraces, qb-loading, qb-lockpick, qb-management, qb-mechanicjob, qb-menu, qb-multicharacter, qb-newsjob, qb-pawnshop, qb-phone, qb-policejob, qb-poolcleaner, qb-radialmenu, qb-radio, qb-recyclejob, qb-rentals, qb-shops, qb-skillbar, qb-smallresources, qb-sound, qb-spawn, qb-storerobbery, qb-streetraces, qb-target, qb-taxijob, qb-thuisbezorgd, qb-traphouse, qb-truckerjob, qb-truckrobbery, qb-tunerchip, qb-vehiclefailure, qb-vehiclekeys, qb-vehiclesales, qb-vehicleshop, qb-vineyard, qb-weapons, qb-weathersync, qb-wiet, quimii_himen, quimii_warehouse, qx56, r33, r50, ram2500, rampj, rc350s, rmodx6, rojo_trinity_billboard, rpemotes, rr12, rrphantom, rrst, rx3, rx7tunable, rx7veilside, s30, s60pole, safecracker, sandymedicalv2, screenshot-basic, senna, sheriffpaleto, skylinec110, slsamg, spawnmanager, splitsides, srt8, ss7, stallone, superleggera, SuperMethLab, supraa90, taycan, tmodel, tr22, trailcat, turbo33, unclejust, uniqx_burgershot, urus, v60, vagosautoshop, vegetation, VehicleTransport, verpi_park_n, vineyard, viper, warehousePort, webpack, white_mansion, wraith, xfr, xj, yarn\n",
      "Game type: Freeroam\n",
      "Map: fivem-map-skater\n",
      "OneSync: enabled\n",
      "Language: Dutch (Netherlands)\n",
      "Tags: default, deployer, qbcore, qb-core\n",
      "DLC level: 2802\n",
      "sv_pureLevel: 0\n",
      "can_review: true\n",
      "Owner: 1mRAAAH\n",
      "https://servers.fivem.net/servers/detail/5rv637\n"
     ]
    },
    {
     "name": "stdout",
     "output_type": "stream",
     "text": [
      "['', 'https://servers.fivem.net/servers/detail/369l38', '', 'Freeroam', 'enabled', 'fivem-map-skater', 'Dutch (Netherlands)', 'default, deployer, qbcore, qb-core', '2802', '', '1mRAAAH', '', '', ['8c', '12cls63', '16charger', '17m760i', '18performante', '19GT500', '19s650', '69charger', '99viper', '180sx', '250gtberl', '300sl', '350z', '370z', '458ita', '500gtr', '500w124', '600lt', '600sel', '675lt', '720s', '750li', '911turbos', 'ae86', 'agerars', 'alfav', 'america', 'amggt', 'ap2', 'as_tequilala', 'asterion', 'astonvalk18', 'atsv', 'b63s', 'bahamas', 'ballasautoshop', 'ballascustoms', 'baseevents', 'basic-gamemode', 'bbentayga', 'beanmachine', 'ben17', 'bmws', 'bob74_ipl', 'brabus700', 'brabus850', 'brera', 'breze_medusa', 'brnx_cinemadoppler', 'bronco', 'bugatti', 'c63w205', 'camry18', 'ccx', 'celica', 'cesc21', 'chargerf8', 'chiron', 'chr', 'church', 'cityhallv2', 'civic', 'classaamg', 'cobra', 'containerbunker', 'count6', 'CT200h', 'cyberbar_map', 'db905', 'dbx', 'dealer_map', 'dienstvoertuigen', 'digital1', 'dl2016', 'dolu_beer', 'dyc3jeep', 'dyce911r', 'dycep7', 'e_49_beach_garage', 'e34', 'e63amg', 'e78', 'e400c238', 'eb110', 'ed_rockfordh02', 'ek9', 'eleanor', 'ELS-FiveM', 'eup-stream', 'everest', 'evoque', 'f40', 'f150', 'f430sc', 'families', 'fgt', 'fivem-map-skater', 'focusrs', 'fpacehm', 'ftype', 'fx50s', 'g65amg', 'g500', 'gcom_ss_workshop', 'gdwrxsti', 'ghis2', 'giulia', 'gl63', 'golf7r', 'gs350', 'gt17', 'gtv6', 'hid_weed_lab', 'hondacivictr', 'hospital_map', 'huayra', 'hypnonema', 'iak_custom_sign', 'iak_trash_job', 'infinitig35', 'int_carmeet', 'int_yellowjack', 'interact-sound', 'ipl_coke1', 'ipl_meth1', 'ipl_money', 'ipl_weed1', 'iplLoader', 'ipls_resource_cayo', 'is350mod', 'jes', 'kiagt', 'koup', 'LA-Roads', 'lc500', 'LegacyFuel', 'lossantos', 'LosSantosPlayboyMansion', 'lp570', 'lp610', 'lp670sv', 'lp700', 'lp770', 'lsc', 'lumma750', 'luxury_auto', 'lx570', 'm1', 'm2', 'm3f80', 'm4f82', 'm5f90', 'm5touring', 'm6f13', 'madrazoranch', 'mafia', 'Mafia_Hotel', 'magazls', 'magazsh', 'mapmanager', 'mc12', 'menuv', 'mgrantur2010', 'mgt', 'mhacking', 'mlnovitec', 'modena', 'monitor', 'mp4', 'mqgts', 'myMapbuilderStandalone', 'na6', 'NativeUILua_Reloaded', 'nismo20', 'nissantitan17', 'nlpolitie', 'nsexrb', 'okokChat', 'one77', 'oxmysql', 'p1gtr', 'paletohospital', 'panamera17turbo', 'patoche_dealer_weapon', 'patoche_tiny_garage', 'patrold', 'pbmotel', 'petshop_map', 'pinkcage_motel', 'pleb-banners', 'pleb-bbqsteaks', 'pleb-cinema', 'pleb-crash', 'pleb-kraslot', 'pleb-meth', 'pleb-pakketten', 'pleb-rekening', 'pleb-rewards', 'pleb-snowden', 'pleb-squad', 'pleb-strippers', 'pleb-taakstraf', 'pleb-tattoos', 'pleb-weedlab', 'pleb-zitten', 'pma-voice', 'PolyZone', 'por9', 'prison_canteen', 'prison_main', 'prison_meeting', 'progressbar', 'ps-ui', 'q30', 'qb-adminmenu', 'qb-ambulancejob', 'qb-apartments', 'qb-atms', 'qb-banking', 'qb-bankrobbery', 'qb-busjob', 'qb-chicken', 'qb-cityhall', 'qb-clothing', 'qb-coke', 'qb-commandbinding', 'qb-core', 'qb-crypto', 'qb-customs', 'qb-diving', 'qb-doorlock', 'qb-drift', 'qb-drugs', 'qb-fitbit', 'qb-garages', 'qb-garbagejob', 'qb-hotdogjob', 'qb-houserobbery', 'qb-houses', 'qb-hud', 'qb-input', 'qb-interior', 'qb-inventory', 'qb-jewelery', 'qb-keyminigame', 'qb-lapraces', 'qb-loading', 'qb-lockpick', 'qb-management', 'qb-mechanicjob', 'qb-menu', 'qb-multicharacter', 'qb-newsjob', 'qb-pawnshop', 'qb-phone', 'qb-policejob', 'qb-poolcleaner', 'qb-radialmenu', 'qb-radio', 'qb-recyclejob', 'qb-rentals', 'qb-shops', 'qb-skillbar', 'qb-smallresources', 'qb-sound', 'qb-spawn', 'qb-storerobbery', 'qb-streetraces', 'qb-target', 'qb-taxijob', 'qb-thuisbezorgd', 'qb-traphouse', 'qb-truckerjob', 'qb-truckrobbery', 'qb-tunerchip', 'qb-vehiclefailure', 'qb-vehiclekeys', 'qb-vehiclesales', 'qb-vehicleshop', 'qb-vineyard', 'qb-weapons', 'qb-weathersync', 'qb-wiet', 'quimii_himen', 'quimii_warehouse', 'qx56', 'r33', 'r50', 'ram2500', 'rampj', 'rc350s', 'rmodx6', 'rojo_trinity_billboard', 'rpemotes', 'rr12', 'rrphantom', 'rrst', 'rx3', 'rx7tunable', 'rx7veilside', 's30', 's60pole', 'safecracker', 'sandymedicalv2', 'screenshot-basic', 'senna', 'sheriffpaleto', 'skylinec110', 'slsamg', 'spawnmanager', 'splitsides', 'srt8', 'ss7', 'stallone', 'superleggera', 'SuperMethLab', 'supraa90', 'taycan', 'tmodel', 'tr22', 'trailcat', 'turbo33', 'unclejust', 'uniqx_burgershot', 'urus', 'v60', 'vagosautoshop', 'vegetation', 'VehicleTransport', 'verpi_park_n', 'vineyard', 'viper', 'warehousePort', 'webpack', 'white_mansion', 'wraith', 'xfr', 'xj', 'yarn']]\n",
      "The last index is: 3\n",
      "Scraping server 4, id is 5rv637\n",
      "5rv637\n"
     ]
    },
    {
     "name": "stderr",
     "output_type": "stream",
     "text": [
      "Server Name: [PORTUGAL] 🌟BRAZUCA CITY PORTUGAL 🌟 ・ ✨ TEMA BRASIL! ・ 💎VIP GRÁTIS ・ 🌈LGBTQ+ ・ 😀+200 FPS ・ 📱PING PT discord.gg/TjXsuKB7xu\n"
     ]
    },
    {
     "name": "stdout",
     "output_type": "stream",
     "text": [
      "%%%%%%%%%%%%%%%%%%%%%%%%%%%%%%%%%%%%%%%%%%%%%%%%%%%%%%%%%%%%%%%%%\n",
      "[PORTUGAL] 🌟BRAZUCA CITY PORTUGAL 🌟 ・ ✨ TEMA BRASIL! ・ 💎VIP GRÁTIS ・ 🌈LGBTQ+ ・ 😀+200 FPS ・ 📱PING PT discord.gg/TjXsuKB7xu\n",
      "%%%%%%%%%%%%%%%%%%%%%%%%%%%%%%%%%%%%%%%%%%%%%%%%%%%%%%%%%%%%%%%%%\n"
     ]
    },
    {
     "name": "stderr",
     "output_type": "stream",
     "text": [
      "Resources: chat, discord-screenshot, gb_arena, gb_arsenal, gb_bank, gb_box, gb_cam, gb_character, gb_core, gb_core_ilegal, gb_death, gb_escola, gb_gamepass, gb_hud, gb_identity, gb_ilegal, gb_motel, gb_notify, gb_register, gb_reward, gb_roubos, gb_routes, gb_spawn, gb_tencode, gb_whitelist, gb_works, hydrus.gg, monitor, MQCU, nyo_modules, oxmysql, pma-listners, pma-voice, safe-zone, schoolBrazuca, screenshot-basic, smartphone, smartphone-jobs, vanillaBrazuca, vrp, vrp_dealership, vrp_fuel, vrp_garages, vrp_hitmarker, vrp_homes, vrp_inventory, vrp_mdt, vrp_notifypush, vrp_radio, vrp_setgroup, vrp_sounds, vrp_streaming, vrp_target, vrp_taskbar, vrpserver, weather, webpack, wolfz-blips, yarn\n",
      "Game type: Roleplay\n",
      "Map: Los Santos\n",
      "OneSync: enabled\n",
      "Language: Portuguese (Portugal)\n",
      "Tags: grupobrazuca,babiloniacity,babilonia,babiloniarp,brasil,br,brazuca,brazucacity,brazucacityrp,rp,paulinho,paulinhooloko,loko,favela,LGBTQ+,whitelist,BR,Roleplay,vrpex,Policia,Paramedico,Trabalho,vrp,Portugues,Carros,vrp\n",
      "DEVs: @grupobrazuca\n",
      "Discord: discord.gg/TjXsuKB7xu\n",
      "Dono: Tio Lulu\n",
      "Site: brazucarppt.hydrus.gg\n",
      "DLC level: 2699\n",
      "sv_pureLevel: 0\n",
      "Owner: Joao_Lazzarini\n",
      "https://servers.fivem.net/servers/detail/oolxgv\n"
     ]
    },
    {
     "name": "stdout",
     "output_type": "stream",
     "text": [
      "['[PORTUGAL] 🌟BRAZUCA CITY PORTUGAL 🌟 ・ ✨ TEMA BRASIL! ・ 💎VIP GRÁTIS ・ 🌈LGBTQ+ ・ 😀+200 FPS ・ 📱PING PT discord.gg/TjXsuKB7xu', 'https://servers.fivem.net/servers/detail/5rv637', '', 'Roleplay', 'enabled', 'Los Santos', 'Portuguese (Portugal)', 'grupobrazuca,babiloniacity,babilonia,babiloniarp,brasil,br,brazuca,brazucacity,brazucacityrp,rp,paulinho,paulinhooloko,loko,favela,LGBTQ+,whitelist,BR,Roleplay,vrpex,Policia,Paramedico,Trabalho,vrp,Portugues,Carros,vrp', '2699', '', 'Joao_Lazzarini', '', '', ['chat', 'discord-screenshot', 'gb_arena', 'gb_arsenal', 'gb_bank', 'gb_box', 'gb_cam', 'gb_character', 'gb_core', 'gb_core_ilegal', 'gb_death', 'gb_escola', 'gb_gamepass', 'gb_hud', 'gb_identity', 'gb_ilegal', 'gb_motel', 'gb_notify', 'gb_register', 'gb_reward', 'gb_roubos', 'gb_routes', 'gb_spawn', 'gb_tencode', 'gb_whitelist', 'gb_works', 'hydrus.gg', 'monitor', 'MQCU', 'nyo_modules', 'oxmysql', 'pma-listners', 'pma-voice', 'safe-zone', 'schoolBrazuca', 'screenshot-basic', 'smartphone', 'smartphone-jobs', 'vanillaBrazuca', 'vrp', 'vrp_dealership', 'vrp_fuel', 'vrp_garages', 'vrp_hitmarker', 'vrp_homes', 'vrp_inventory', 'vrp_mdt', 'vrp_notifypush', 'vrp_radio', 'vrp_setgroup', 'vrp_sounds', 'vrp_streaming', 'vrp_target', 'vrp_taskbar', 'vrpserver', 'weather', 'webpack', 'wolfz-blips', 'yarn']]\n",
      "The last index is: 4\n",
      "Scraping server 5, id is oolxgv\n",
      "oolxgv\n"
     ]
    },
    {
     "name": "stderr",
     "output_type": "stream",
     "text": [
      "Server Name: Vast RP 2.1 Released | discord.gg/D5Jq68n2nt | Inspired!\n"
     ]
    },
    {
     "name": "stdout",
     "output_type": "stream",
     "text": [
      "%%%%%%%%%%%%%%%%%%%%%%%%%%%%%%%%%%%%%%%%%%%%%%%%%%%%%%%%%%%%%%%%%\n",
      "Vast RP 2.1 Released | discord.gg/D5Jq68n2nt | Inspired!\n",
      "%%%%%%%%%%%%%%%%%%%%%%%%%%%%%%%%%%%%%%%%%%%%%%%%%%%%%%%%%%%%%%%%%\n"
     ]
    },
    {
     "name": "stderr",
     "output_type": "stream",
     "text": [
      "Resources: an-engineswap, an-stancer, assets_clothes, bankprops, baseevents, basic-gamemode, bob74_ipl-master, cdn-fuel, cfx-gabz-binco, cfx-gabz-burgershot, cfx-gabz-carmeet, cfx-gabz-catcafe, cfx-gabz-davispd, cfx-gabz-harmony, cfx-gabz-hornys, cfx-gabz-hub, cfx-gabz-mapdata, cfx-gabz-mrpd, cfx-gabz-ottos, cfx-gabz-pdprops, cfx-gabz-pillbox, cfx-gabz-pizzeria, cfx-gabz-ponsonbys, cfx-gabz-prison, cfx-gabz-suburban, cfx-gabz-tuners, cfx-gabz-vu, chat, clothingpackone, clothingpacktwo, ComplaintForm, connectqueue, cqc-mugshot, Custom-Weapons, cvpiv8, dealer_map, dpclothing, dpemotes, ecoboostv6, emsfpiu, eup-stream, fiv3devs_galaxy, fiv3devs_headquarters, fivem-freecam, fivem-map-hipster, fv-vehcontrol, gb-cigarettes, hacking, hacks, hedwig_sheriff, hospital_map, httpmanager, hyayrasound, interact-sound, jaysautosvan, jim-mining, jim-payments, jl-laptop, k4mb1-casino, kevin-sellped, lj-inventory, lux_vehcontrol, mapmanager, memorygame, menuv, menyooStuff, mhacking, mka-lasers, monitor, nspeedo, ox_lib, oxmysql, patoche_shop, pma-voice, pmms, policeheli, PolyZone, prime-elevator, progressbar, ps-adminmenu, ps-camera, ps-dispatch, ps-drugprocessing, ps-housing, ps-hud, ps-mdt, ps-microphone, ps-multijob, ps-objectspawner, ps-props, ps-realtor, ps-ui, qb-ambulancejob, qb-atms, qb-bankrobbery, qb-burgershot, qb-busjob, qb-cityhall, qb-clothing, qb-commandbinding, qb-core, qb-crypto, qb-customs, qb-diamondcasino, qb-diving, qb-djbooth, qb-dongleped, qb-doorlock, qb-drugs, qb-fishing, qb-fitbit, qb-forgery, qb-frontdesk, qb-garages, qb-garbagejob, qb-gunplug, qb-gunrack, qb-hotdogjob, qb-houserobbery, qb-hunting, qb-input, qb-interior, qb-jewellery, qb-keyminigame, qb-lapraces, qb-lift, qb-lockpick, qb-management, qb-mechanicjob, qb-menu, qb-multicharacter, qb-newsjob, qb-pawnshop, qb-phone, qb-policebadge, qb-policejob, qb-powerplant, qb-radialmenu, qb-radio, qb-recyclejob, qb-rentals, qb-scenes, qb-scoreboard, qb-scrapyard, qb-shops, qb-sit, qb-skillbar, qb-smallresources, qb-spawn, qb-spikestrips, qb-starterbox, qb-stashes, qb-storerobbery, qb-target, qb-tattooshop, qb-taxijob, qb-towjob, qb-traphouse, qb-truckerjob, qb-truckrobbery, qb-tunerchip, qb-uWuCafe, qb-uwuplushes, qb-vehiclefailure, qb-vehiclekeys, qb-vehiclesales, qb-vending, qb-vineyard, qb-weapons, qb-weathersync, qb-weed, qb-wheelchair, rahe-racing, randol_paycheck, Randolio-laundry, rb26dett, Renewed-Weaponscarry, rfc_los_santos_airport_fix, rfc_los_santos_customs, rockford_records, safecracker, screenshot-basic, sd-bobcat, solos-chair, solos-payments, spawnmanager, Vast_tequilala, Vast-apartmentshell, Vast-banking, Vast-baybank, Vast-bobcat, Vast-carsounds, Vast-carsounds2, Vast-charger, Vast-charRoom, Vast-compounds, Vast-continental-bunker, Vast-continental-manor, Vast-crosshair, Vast-designerapartment, Vast-digiden, Vast-elitecustoms, Vast-explorer, Vast-hayesMAP, Vast-heli-submix, Vast-loading, Vast-maincars, Vast-map, Vast-MoonMafia, Vast-notify, Vast-oilrig, Vast-raptor, vast-recycle, Vast-secretmoney, Vast-showroom, Vast-taurus, Vast-townhall, Vast-vegetation, Vast-vehicleaudio, Vast-whiteboard, vrp-22m5, vrp-675lt, vrp-clubx, vrp-crafting, vrp-cryptomining, vrp-deliveryrun, vrp-delwb1of1, vrp-f8m4, vrp-f150raptor, vrp-gt86, vrp-k9, vrp-mechanic, vrp-pdcarmegaphone, vrp-pizzathis, vrp-prison, vrp-pursuitmode, vrp-r8hycade, vrp-r32, vrp-rs3, vrp-silvias14, vrp-spartanesca, vrp-teslapd, vrp-ttrs1of1, vrp-upnatomhorny, vrp-VehicleShop, vrpNEW_clothes, vrpNEW_clothes_new, vrpNEW_clothes_props, warmenu, webpack, wheelchair, wk_wars2x, x-radiolist-master, xsound, yarn\n",
      "Game type: Freeroam\n",
      "Map: fivem-map-hipster\n",
      "OneSync: enabled\n",
      "Language: English (United Kingdom)\n",
      "Tags: Roleplay, RP, racing, VastRP, serious, Police, EMS, Inspired, mature, serious\n",
      "DLC level: 2699\n",
      "sv_pureLevel: 0\n",
      "can_review: true\n",
      "Owner: Rau.011\n",
      "https://servers.fivem.net/servers/detail/36ydmo\n"
     ]
    },
    {
     "name": "stdout",
     "output_type": "stream",
     "text": [
      "['Vast RP 2.1 Released | discord.gg/D5Jq68n2nt | Inspired!', 'https://servers.fivem.net/servers/detail/oolxgv', '', 'Freeroam', 'enabled', 'fivem-map-hipster', 'English (United Kingdom)', 'Roleplay, RP, racing, VastRP, serious, Police, EMS, Inspired, mature, serious', '2699', '', 'Rau.011', '', '', ['an-engineswap', 'an-stancer', 'assets_clothes', 'bankprops', 'baseevents', 'basic-gamemode', 'bob74_ipl-master', 'cdn-fuel', 'cfx-gabz-binco', 'cfx-gabz-burgershot', 'cfx-gabz-carmeet', 'cfx-gabz-catcafe', 'cfx-gabz-davispd', 'cfx-gabz-harmony', 'cfx-gabz-hornys', 'cfx-gabz-hub', 'cfx-gabz-mapdata', 'cfx-gabz-mrpd', 'cfx-gabz-ottos', 'cfx-gabz-pdprops', 'cfx-gabz-pillbox', 'cfx-gabz-pizzeria', 'cfx-gabz-ponsonbys', 'cfx-gabz-prison', 'cfx-gabz-suburban', 'cfx-gabz-tuners', 'cfx-gabz-vu', 'chat', 'clothingpackone', 'clothingpacktwo', 'ComplaintForm', 'connectqueue', 'cqc-mugshot', 'Custom-Weapons', 'cvpiv8', 'dealer_map', 'dpclothing', 'dpemotes', 'ecoboostv6', 'emsfpiu', 'eup-stream', 'fiv3devs_galaxy', 'fiv3devs_headquarters', 'fivem-freecam', 'fivem-map-hipster', 'fv-vehcontrol', 'gb-cigarettes', 'hacking', 'hacks', 'hedwig_sheriff', 'hospital_map', 'httpmanager', 'hyayrasound', 'interact-sound', 'jaysautosvan', 'jim-mining', 'jim-payments', 'jl-laptop', 'k4mb1-casino', 'kevin-sellped', 'lj-inventory', 'lux_vehcontrol', 'mapmanager', 'memorygame', 'menuv', 'menyooStuff', 'mhacking', 'mka-lasers', 'monitor', 'nspeedo', 'ox_lib', 'oxmysql', 'patoche_shop', 'pma-voice', 'pmms', 'policeheli', 'PolyZone', 'prime-elevator', 'progressbar', 'ps-adminmenu', 'ps-camera', 'ps-dispatch', 'ps-drugprocessing', 'ps-housing', 'ps-hud', 'ps-mdt', 'ps-microphone', 'ps-multijob', 'ps-objectspawner', 'ps-props', 'ps-realtor', 'ps-ui', 'qb-ambulancejob', 'qb-atms', 'qb-bankrobbery', 'qb-burgershot', 'qb-busjob', 'qb-cityhall', 'qb-clothing', 'qb-commandbinding', 'qb-core', 'qb-crypto', 'qb-customs', 'qb-diamondcasino', 'qb-diving', 'qb-djbooth', 'qb-dongleped', 'qb-doorlock', 'qb-drugs', 'qb-fishing', 'qb-fitbit', 'qb-forgery', 'qb-frontdesk', 'qb-garages', 'qb-garbagejob', 'qb-gunplug', 'qb-gunrack', 'qb-hotdogjob', 'qb-houserobbery', 'qb-hunting', 'qb-input', 'qb-interior', 'qb-jewellery', 'qb-keyminigame', 'qb-lapraces', 'qb-lift', 'qb-lockpick', 'qb-management', 'qb-mechanicjob', 'qb-menu', 'qb-multicharacter', 'qb-newsjob', 'qb-pawnshop', 'qb-phone', 'qb-policebadge', 'qb-policejob', 'qb-powerplant', 'qb-radialmenu', 'qb-radio', 'qb-recyclejob', 'qb-rentals', 'qb-scenes', 'qb-scoreboard', 'qb-scrapyard', 'qb-shops', 'qb-sit', 'qb-skillbar', 'qb-smallresources', 'qb-spawn', 'qb-spikestrips', 'qb-starterbox', 'qb-stashes', 'qb-storerobbery', 'qb-target', 'qb-tattooshop', 'qb-taxijob', 'qb-towjob', 'qb-traphouse', 'qb-truckerjob', 'qb-truckrobbery', 'qb-tunerchip', 'qb-uWuCafe', 'qb-uwuplushes', 'qb-vehiclefailure', 'qb-vehiclekeys', 'qb-vehiclesales', 'qb-vending', 'qb-vineyard', 'qb-weapons', 'qb-weathersync', 'qb-weed', 'qb-wheelchair', 'rahe-racing', 'randol_paycheck', 'Randolio-laundry', 'rb26dett', 'Renewed-Weaponscarry', 'rfc_los_santos_airport_fix', 'rfc_los_santos_customs', 'rockford_records', 'safecracker', 'screenshot-basic', 'sd-bobcat', 'solos-chair', 'solos-payments', 'spawnmanager', 'Vast_tequilala', 'Vast-apartmentshell', 'Vast-banking', 'Vast-baybank', 'Vast-bobcat', 'Vast-carsounds', 'Vast-carsounds2', 'Vast-charger', 'Vast-charRoom', 'Vast-compounds', 'Vast-continental-bunker', 'Vast-continental-manor', 'Vast-crosshair', 'Vast-designerapartment', 'Vast-digiden', 'Vast-elitecustoms', 'Vast-explorer', 'Vast-hayesMAP', 'Vast-heli-submix', 'Vast-loading', 'Vast-maincars', 'Vast-map', 'Vast-MoonMafia', 'Vast-notify', 'Vast-oilrig', 'Vast-raptor', 'vast-recycle', 'Vast-secretmoney', 'Vast-showroom', 'Vast-taurus', 'Vast-townhall', 'Vast-vegetation', 'Vast-vehicleaudio', 'Vast-whiteboard', 'vrp-22m5', 'vrp-675lt', 'vrp-clubx', 'vrp-crafting', 'vrp-cryptomining', 'vrp-deliveryrun', 'vrp-delwb1of1', 'vrp-f8m4', 'vrp-f150raptor', 'vrp-gt86', 'vrp-k9', 'vrp-mechanic', 'vrp-pdcarmegaphone', 'vrp-pizzathis', 'vrp-prison', 'vrp-pursuitmode', 'vrp-r8hycade', 'vrp-r32', 'vrp-rs3', 'vrp-silvias14', 'vrp-spartanesca', 'vrp-teslapd', 'vrp-ttrs1of1', 'vrp-upnatomhorny', 'vrp-VehicleShop', 'vrpNEW_clothes', 'vrpNEW_clothes_new', 'vrpNEW_clothes_props', 'warmenu', 'webpack', 'wheelchair', 'wk_wars2x', 'x-radiolist-master', 'xsound', 'yarn']]\n",
      "The last index is: 5\n",
      "Scraping server 6, id is 36ydmo\n",
      "36ydmo\n"
     ]
    },
    {
     "name": "stderr",
     "output_type": "stream",
     "text": [
      "Server Name: AlGharbia RP - حياكم سيرفر الغربية - Discord.gg/grp2\n"
     ]
    },
    {
     "name": "stdout",
     "output_type": "stream",
     "text": [
      "%%%%%%%%%%%%%%%%%%%%%%%%%%%%%%%%%%%%%%%%%%%%%%%%%%%%%%%%%%%%%%%%%\n",
      "AlGharbia RP - حياكم سيرفر الغربية - Discord.gg/grp2\n",
      "%%%%%%%%%%%%%%%%%%%%%%%%%%%%%%%%%%%%%%%%%%%%%%%%%%%%%%%%%%%%%%%%%\n"
     ]
    },
    {
     "name": "stderr",
     "output_type": "stream",
     "text": [
      "Resources: AlGharbia_Cars, AlGharbia_Maps, AlGharbia_Skins, citizen_v1.1, Ems-Skins, EssaPrimeUniChip, fivem, fivem-map-hipster, Flix-ACE, Flix-AdminPanel, Flix-Alerts, Flix-Cars, Flix-Cinema, Flix-DamageSettings, Flix-EmsPackage, Flix-Garage, Flix-Heros, Flix-Hud, Flix-ID, Flix-Identity, Flix-KillFeed, Flix-Markets, Flix-MiniScript, Flix-PauseMenu, Flix-PhoneCall, flix-playerlist, Flix-Radio, Flix-Scripts, Flix-Skins, Flix-SkinSaver, Flix-WeaponAttachments, Flix-WeaponShop, Flix-ZoneFight, FlixRP, hypnonema, mapmanager, MK3-Discord, NashmiFa3alyat_V3, NashmiQaserBlack_v5, oxmysql, pma-voice, RAM_Menu, spawnmanager, ton16, uae-ad-blue, uae-red-car, vMenu, vrp, vrp_mysql, WS-UAA, WS-UWD, WS-WDU, WS-WSU\n",
      "Game type: Flix Premium V2\n",
      "OneSync: enabled\n",
      "Language: Arabic (United Arab Emirates)\n",
      "Tags: RP, vRP, FlixPremiumV2,vrp\n",
      "Discord: discord.gg/grp2\n",
      "DLC level: Cayo Perico Heist\n",
      "sv_pureLevel: 0\n",
      "Owner: r4sz\n",
      "https://servers.fivem.net/servers/detail/md4agd\n"
     ]
    },
    {
     "name": "stdout",
     "output_type": "stream",
     "text": [
      "['AlGharbia RP - حياكم سيرفر الغربية - Discord.gg/grp2', 'https://servers.fivem.net/servers/detail/36ydmo', '', 'Flix Premium V2', 'enabled', '', 'Arabic (United Arab Emirates)', 'RP, vRP, FlixPremiumV2,vrp', 'Cayo Perico Heist', '', 'r4sz', '', '', ['AlGharbia_Cars', 'AlGharbia_Maps', 'AlGharbia_Skins', 'citizen_v1.1', 'Ems-Skins', 'EssaPrimeUniChip', 'fivem', 'fivem-map-hipster', 'Flix-ACE', 'Flix-AdminPanel', 'Flix-Alerts', 'Flix-Cars', 'Flix-Cinema', 'Flix-DamageSettings', 'Flix-EmsPackage', 'Flix-Garage', 'Flix-Heros', 'Flix-Hud', 'Flix-ID', 'Flix-Identity', 'Flix-KillFeed', 'Flix-Markets', 'Flix-MiniScript', 'Flix-PauseMenu', 'Flix-PhoneCall', 'flix-playerlist', 'Flix-Radio', 'Flix-Scripts', 'Flix-Skins', 'Flix-SkinSaver', 'Flix-WeaponAttachments', 'Flix-WeaponShop', 'Flix-ZoneFight', 'FlixRP', 'hypnonema', 'mapmanager', 'MK3-Discord', 'NashmiFa3alyat_V3', 'NashmiQaserBlack_v5', 'oxmysql', 'pma-voice', 'RAM_Menu', 'spawnmanager', 'ton16', 'uae-ad-blue', 'uae-red-car', 'vMenu', 'vrp', 'vrp_mysql', 'WS-UAA', 'WS-UWD', 'WS-WDU', 'WS-WSU']]\n",
      "The last index is: 6\n",
      "Scraping server 7, id is md4agd\n",
      "md4agd\n"
     ]
    },
    {
     "name": "stderr",
     "output_type": "stream",
     "text": [
      "Server Name: [FR] 🍓 Mira 🍓 || Free Access || Scripts & Mappings exclusifs || 🍓 discord.gg/mirafa 🍓\n"
     ]
    },
    {
     "name": "stdout",
     "output_type": "stream",
     "text": [
      "%%%%%%%%%%%%%%%%%%%%%%%%%%%%%%%%%%%%%%%%%%%%%%%%%%%%%%%%%%%%%%%%%\n",
      "[FR] 🍓 Mira 🍓 || Free Access || Scripts & Mappings exclusifs || 🍓 discord.gg/mirafa 🍓\n",
      "%%%%%%%%%%%%%%%%%%%%%%%%%%%%%%%%%%%%%%%%%%%%%%%%%%%%%%%%%%%%%%%%%\n"
     ]
    },
    {
     "name": "stderr",
     "output_type": "stream",
     "text": [
      "Resources: AKS74U, Ambulancejob, AstoneClef, async, autoe, axeBrinks, ballasint, BanSql, bike, bob74_ipl, bowling, brofx_10, bt-target, Cayo_villa, cd, cfx-gabz-lost, chat-theme-gtao, codem-chat, core2, coremapp, coreveh, cripsh, cron, cxClothesItems, cxDrugs, cxFuel, cxProperty, cxUnicorn, diamond_nightclub, dpclothing, dynasty8, emote, es_extended, esx_addonaccount, esx_basicneeds, esx_billing, esx_context, esx_datastore, esx_license, esx_menu_default, esx_menu_dialog, esx_menu_list, esx_notify, esx_policejob, esx_progressbar, esx_skin, esx_society, esx_status, esx_textui, familiesint, fanonx-hunting, FiveM-CoordsSaver, foltone_location, forest_mansion, garagegang, GB-BracoSuperette, igestion, Ile_maison, ipl-cayo, kWeaponHud, lb-phone, loaf_bowling, loaf_lib, loffe_robbery, lsnord, luxury, M4A1, map_gouv, marabuntaint, MBoss-main, MD_vigneron_free, mgd_gangbuilder, mhacking, MiraPause, nrc_Garage, nShop, nTextUi, okokChat, okokNotify, okokTalkToNPC, okokTextUI, ox_lib, oxmysql, pdp, PolyZone, progressBars, rm_artheist, rm_pacificheist, rockfordautos_map, rRadio, rxAutoEcole_map, sAtm, sBlackjack, SCARED, sClothesV8, shAlertlspd, shBijouterie, shCambriolage, shCardealer, ShCoffreCreator, shcreateblip, shdiscord, shems_hud, shems_hud2, shemsannonce, shemssfz, sherriff, shGangmenu, shGofast, shillegalshop, shJail, shLabo, ShLsCustom, shmining, skinchanger, sonic, sp_weazelnews, spawnmanager, speedomeeter, streetlabel, sublime_playerCreator, taxi, tempui, thBennys, thTabac, uniqx_burgershot, Utops_vehicle_inventory, vagosint, vb-banking, vCore, VexCreator, villa_mafia_albanaise, VineYard, vNotif, vSync, WatsonMotorcycle, wCarboncoin, weazel, weazelnews, wecgregg, wGouv, yarn, zDoorsBuilder\n",
      "Game type: ESX Legacy\n",
      "Map: San Andreas\n",
      "OneSync: enabled\n",
      "Language: French (France)\n",
      "Tags: dev, Mira, template,esx\n",
      "ASavoir: Base Développé par Sh\n",
      "Fonda: Sh, Nwahil et NxZionn\n",
      "discord: discord.gg/mirarp\n",
      "DLC level: 2612\n",
      "sv_pureLevel: 0\n",
      "Owner: Sofiane12121212\n",
      "https://servers.fivem.net/servers/detail/ab8ej9\n"
     ]
    },
    {
     "name": "stdout",
     "output_type": "stream",
     "text": [
      "['[FR] 🍓 Mira 🍓 || Free Access || Scripts & Mappings exclusifs || 🍓 discord.gg/mirafa 🍓', 'https://servers.fivem.net/servers/detail/md4agd', '', 'ESX Legacy', 'enabled', 'San Andreas', 'French (France)', 'dev, Mira, template,esx', '2612', '', 'Sofiane12121212', '', '', ['AKS74U', 'Ambulancejob', 'AstoneClef', 'async', 'autoe', 'axeBrinks', 'ballasint', 'BanSql', 'bike', 'bob74_ipl', 'bowling', 'brofx_10', 'bt-target', 'Cayo_villa', 'cd', 'cfx-gabz-lost', 'chat-theme-gtao', 'codem-chat', 'core2', 'coremapp', 'coreveh', 'cripsh', 'cron', 'cxClothesItems', 'cxDrugs', 'cxFuel', 'cxProperty', 'cxUnicorn', 'diamond_nightclub', 'dpclothing', 'dynasty8', 'emote', 'es_extended', 'esx_addonaccount', 'esx_basicneeds', 'esx_billing', 'esx_context', 'esx_datastore', 'esx_license', 'esx_menu_default', 'esx_menu_dialog', 'esx_menu_list', 'esx_notify', 'esx_policejob', 'esx_progressbar', 'esx_skin', 'esx_society', 'esx_status', 'esx_textui', 'familiesint', 'fanonx-hunting', 'FiveM-CoordsSaver', 'foltone_location', 'forest_mansion', 'garagegang', 'GB-BracoSuperette', 'igestion', 'Ile_maison', 'ipl-cayo', 'kWeaponHud', 'lb-phone', 'loaf_bowling', 'loaf_lib', 'loffe_robbery', 'lsnord', 'luxury', 'M4A1', 'map_gouv', 'marabuntaint', 'MBoss-main', 'MD_vigneron_free', 'mgd_gangbuilder', 'mhacking', 'MiraPause', 'nrc_Garage', 'nShop', 'nTextUi', 'okokChat', 'okokNotify', 'okokTalkToNPC', 'okokTextUI', 'ox_lib', 'oxmysql', 'pdp', 'PolyZone', 'progressBars', 'rm_artheist', 'rm_pacificheist', 'rockfordautos_map', 'rRadio', 'rxAutoEcole_map', 'sAtm', 'sBlackjack', 'SCARED', 'sClothesV8', 'shAlertlspd', 'shBijouterie', 'shCambriolage', 'shCardealer', 'ShCoffreCreator', 'shcreateblip', 'shdiscord', 'shems_hud', 'shems_hud2', 'shemsannonce', 'shemssfz', 'sherriff', 'shGangmenu', 'shGofast', 'shillegalshop', 'shJail', 'shLabo', 'ShLsCustom', 'shmining', 'skinchanger', 'sonic', 'sp_weazelnews', 'spawnmanager', 'speedomeeter', 'streetlabel', 'sublime_playerCreator', 'taxi', 'tempui', 'thBennys', 'thTabac', 'uniqx_burgershot', 'Utops_vehicle_inventory', 'vagosint', 'vb-banking', 'vCore', 'VexCreator', 'villa_mafia_albanaise', 'VineYard', 'vNotif', 'vSync', 'WatsonMotorcycle', 'wCarboncoin', 'weazel', 'weazelnews', 'wecgregg', 'wGouv', 'yarn', 'zDoorsBuilder']]\n",
      "The last index is: 7\n",
      "Scraping server 8, id is ab8ej9\n",
      "ab8ej9\n"
     ]
    },
    {
     "name": "stderr",
     "output_type": "stream",
     "text": [
      "Server Name: [GERMAN] 🩸 Apollon 🩸 | ❌ Keine Allowlist ❌ | 🔥 Gute Performance 🔥 | 💣 Anticheat 💣 | discord.gg/apollonrp\n"
     ]
    },
    {
     "name": "stdout",
     "output_type": "stream",
     "text": [
      "%%%%%%%%%%%%%%%%%%%%%%%%%%%%%%%%%%%%%%%%%%%%%%%%%%%%%%%%%%%%%%%%%\n",
      "[GERMAN] 🩸 Apollon 🩸 | ❌ Keine Allowlist ❌ | 🔥 Gute Performance 🔥 | 💣 Anticheat 💣 | discord.gg/apollonrp\n",
      "%%%%%%%%%%%%%%%%%%%%%%%%%%%%%%%%%%%%%%%%%%%%%%%%%%%%%%%%%%%%%%%%%\n"
     ]
    },
    {
     "name": "stderr",
     "output_type": "stream",
     "text": [
      "Resources: airport, ap_admin, ap_einreise, ap_personalmenu, ap_search_and_rope, ap_vehiclemenu, ap_xmenu, apollon, async, basic-gamemode, cellblock, chat, discord, dpclothing, EasyAdmin2, EngineToggle, es_extended, esx_addonaccount, esx_addoninventory, esx_ambulancejob, esx_barbershop, esx_bike-rental, esx_billing, esx_datastore, esx_discord_bot, esx_extraitems, ESX_GiveCarKeys, esx_givevehicle, esx_identity, esx_license, esx_mask, esx_mechanicjob, esx_menu_default, esx_menu_dialog, esx_menu_list, esx_policejob, esx_skin, esx_vehiclelock, esx_vehicleshop, esx-animrad, eup-stream, fivem, fivem-map-hipster, Frauenhaare, gabz_pillbox_hospital_v2, hex_banking, hex_clothing, hex_food, hex_garage, hex_hideout, hex_hud_prem, hex_loadingscreen, hex_namechange, hex_revivestation, hex_supermarket, hex_vinewood_pizza, hex_warehouse, hex_workstation, inventory, island, Jason_Farm, JD_SafeZone, jobs_creator, jsfour-idcard, lb-phone, lb-phoneprop, lb-radioapp, loaf_lib, Maennerhaare, map, monitor, np-tuners, octagon_tankstelle, oxmysql, realtime, sanhje_prison, sc_restart, scryptex_cardelete, scryptex_healing, scryptex_progress, scryptex_stream, skinchanger, spawnmanager, TuningSystemV2, vespucci, ws_ffa-v2, ws_hud, ws_moneywash, ws_ooc, ws_tracker, xnTattoos\n",
      "Game type: ESX Legacy\n",
      "Map: San Andreas\n",
      "OneSync: enabled\n",
      "Language: German (Germany)\n",
      "Tags: midcorerp, german, onesync, custom scripts,,esx\n",
      "DLC level: Los Santos Tuners\n",
      "sv_pureLevel: 1\n",
      "✅ - Modded: 🚗Fahrzeuge | 👔Kleidung | 🌆Maps\n",
      "✈ - Discord: discord.gg/apollonrp\n",
      "🍊 - Legale Farmrouten: 🍊Orangen | 🍇Trauben\n",
      "💊 - Illegale Farmrouten: 🍃Drogen | 🔫Waffen\n",
      "🔊 - Teamspeak: apollon-rp\n",
      "Owner: ScryptexAbi\n",
      "https://servers.fivem.net/servers/detail/99l9le\n"
     ]
    },
    {
     "name": "stdout",
     "output_type": "stream",
     "text": [
      "['[GERMAN] 🩸 Apollon 🩸 | ❌ Keine Allowlist ❌ | 🔥 Gute Performance 🔥 | 💣 Anticheat 💣 | discord.gg/apollonrp', 'https://servers.fivem.net/servers/detail/ab8ej9', '', 'ESX Legacy', 'enabled', 'San Andreas', 'German (Germany)', 'midcorerp, german, onesync, custom scripts,,esx', 'Los Santos Tuners', '', 'ScryptexAbi', '', '', ['airport', 'ap_admin', 'ap_einreise', 'ap_personalmenu', 'ap_search_and_rope', 'ap_vehiclemenu', 'ap_xmenu', 'apollon', 'async', 'basic-gamemode', 'cellblock', 'chat', 'discord', 'dpclothing', 'EasyAdmin2', 'EngineToggle', 'es_extended', 'esx_addonaccount', 'esx_addoninventory', 'esx_ambulancejob', 'esx_barbershop', 'esx_bike-rental', 'esx_billing', 'esx_datastore', 'esx_discord_bot', 'esx_extraitems', 'ESX_GiveCarKeys', 'esx_givevehicle', 'esx_identity', 'esx_license', 'esx_mask', 'esx_mechanicjob', 'esx_menu_default', 'esx_menu_dialog', 'esx_menu_list', 'esx_policejob', 'esx_skin', 'esx_vehiclelock', 'esx_vehicleshop', 'esx-animrad', 'eup-stream', 'fivem', 'fivem-map-hipster', 'Frauenhaare', 'gabz_pillbox_hospital_v2', 'hex_banking', 'hex_clothing', 'hex_food', 'hex_garage', 'hex_hideout', 'hex_hud_prem', 'hex_loadingscreen', 'hex_namechange', 'hex_revivestation', 'hex_supermarket', 'hex_vinewood_pizza', 'hex_warehouse', 'hex_workstation', 'inventory', 'island', 'Jason_Farm', 'JD_SafeZone', 'jobs_creator', 'jsfour-idcard', 'lb-phone', 'lb-phoneprop', 'lb-radioapp', 'loaf_lib', 'Maennerhaare', 'map', 'monitor', 'np-tuners', 'octagon_tankstelle', 'oxmysql', 'realtime', 'sanhje_prison', 'sc_restart', 'scryptex_cardelete', 'scryptex_healing', 'scryptex_progress', 'scryptex_stream', 'skinchanger', 'spawnmanager', 'TuningSystemV2', 'vespucci', 'ws_ffa-v2', 'ws_hud', 'ws_moneywash', 'ws_ooc', 'ws_tracker', 'xnTattoos']]\n",
      "The last index is: 8\n",
      "Scraping server 9, id is 99l9le\n",
      "99l9le\n"
     ]
    },
    {
     "name": "stderr",
     "output_type": "stream",
     "text": [
      "Server Name: Stellantia RP\n"
     ]
    },
    {
     "name": "stdout",
     "output_type": "stream",
     "text": [
      "%%%%%%%%%%%%%%%%%%%%%%%%%%%%%%%%%%%%%%%%%%%%%%%%%%%%%%%%%%%%%%%%%\n",
      "Stellantia RP\n",
      "%%%%%%%%%%%%%%%%%%%%%%%%%%%%%%%%%%%%%%%%%%%%%%%%%%%%%%%%%%%%%%%%%\n"
     ]
    },
    {
     "name": "stderr",
     "output_type": "stream",
     "text": [
      "Resources: AdvancedParking, airbag, ambulance_job, ammunation, animalerie, armes_non_letales, async, attach, BanSQL, basic-gamemode, bcso_job, bennylift, bob74_ipl, boutique-ingame, cambriolage, chat, core_activ, core_map, core_stream_divers, core_utill, core_vscript, corevu, corevu_temp, cron, Custom_city, Custom_north, cyber_bar_job, DiamondBlackjack, DiscordWhitelist, doors, dp_emotes, drogues, drones, drones_stream, elevator, elevator_bis, elevator_ems, enos_casino, es_admin2, es_extended, esplugin_mysql, essentialmode, esx_accessories, esx_addonaccount, esx_addoninventory, esx_ambulance_cad, esx_atm_robbery, esx_barbershop, esx_basicneeds, esx_billing, esx_boatshop, esx_burgerjob, esx_datastore, esx_distilleriejob, esx_dmvschool, esx_drp_garage, esx_eaglejob, esx_eden_clotheshop, esx_firejob, esx_flyshop, esx_gangsjob, esx_givevehicle, esx_golf, esx_gouvernementjob, esx_headbag, esx_identity, esx_impots, esx_jobssecondary, esx_menu_default, esx_menu_dialog, esx_menu_list, esx_oblivionpill, esx_police_cad, esx_property, esx_radars, esx_realestateagentjob, esx_restaurant_jap_job, esx_shops, esx_skin, esx_society, esx_status, esx_storage, esx_tattooshop, esx_trailermanager, esx_truckerjob, esx_unicornjob, esx_unishow, esx_vangelico_robbery, esx_vehicle_inventory_arms, esx_vehicleshop, esx_vigneronjob, evy_armwrestling, fakeplate, firehose, firehosemodels, firescript, firetools, FiveEMS, fivem-drilling, fivem-map-hipster, funkclothes, FzD-Banking, FzD-Numpad, h4ci_sautparachute, HADESFILE, hud, InteractSound, ipl_nightclub, jail, jantes, jsfour-criminalrecord, jsfour-idcard, katana, kimi_callbacks, krz_personalmenu, kuz_towing, LegacyFuel, loadingscreen, lockpicking, logs, map_bcso_m4l, map_bennys, map_burgershot, map_circuit_spa, map_gouvernement, map_halloween, map_hopital, map_hopital_nord, map_lspd, map_pompiers, maploader, mapmanager, MenuAPI, meta_libs, mhacking, monitor, mp_insidetrack, mrw_prop, mtracker, myDj, mysql-async, mythic_notify, mythic_progbar, nightclub, plainte, PlasmaGame, pma-voice, pMecano_city, pMecano_north, pNotify, policejob, PolyZone, prl_civilJobs, progressBars, qs-base, qs-crypto, qs-smartphone, qs-videos, rcore_arcade, rcore_lunapark, rcore_lunapark_assets, rcore_pool, rcore_tennis, RichPresence, rm_shoprobbery, robbbs_bossvilla2, roulette_casino, rp-radio, rs_prog, screenshot-basic, sell_citoyen, skinchanger, smartphone_props, SmartSigns, spawnmanager, stell_notif, stell_sonscustoms, sync_flightschool, t1ger_bankrobbery, t1ger_carthief, taxijob, traffic, uj_marshal, uj_marshal_ipl, uj_marshalLoader, utk_fingerprint, utk_hackdependency, vimport, VisualSettings, vns_cs_wheel, vote, vSyncR, WaveShield, WeaponAnimationMenuV2, weazelnews_job, webpack, wk_wars2x, wm-serversirens, xsound, yarn, zAdmin\n",
      "Game type: Freeroam\n",
      "Map: fivem-map-hipster\n",
      "OneSync: enabled\n",
      "Language: French (France)\n",
      "Tags: rp, roleplay, fr, qc, be, usa, esx, custom cars, custom, drugs, discord, serious, economy, fivem, customcars, vehicules import, jobs, france, cars, mafia, cartel, slots, fps, ems, freeaccess, 128 slots, slots, gangs, police, lspd, serveur, server, job, stellantia, cops, bcso, truck, braquage,esx\n",
      "Discord: discord.gg/stellantia\n",
      "Développeurs: DrekRS, Lickal, Seeky\n",
      "Map: Los Santos + Cayo Perico\n",
      "Véhicules: Des véhicules moddés disponibles au concessionnaire, en boutique ou en véhicules uniques, rien que pour vous !\n",
      "Vêtements: Que vous soyez un homme ou une femme, plus de 1000 éléments sont disponibles pour correspondre à votre propre style.\n",
      "DLC level: 2944\n",
      "sv_pureLevel: 0\n",
      "Owner: DrekRS\n",
      "https://servers.fivem.net/servers/detail/d5o7ad\n"
     ]
    },
    {
     "name": "stdout",
     "output_type": "stream",
     "text": [
      "['Stellantia RP', 'https://servers.fivem.net/servers/detail/99l9le', '', 'Freeroam', 'enabled', 'Los Santos + Cayo Perico', 'French (France)', 'rp, roleplay, fr, qc, be, usa, esx, custom cars, custom, drugs, discord, serious, economy, fivem, customcars, vehicules import, jobs, france, cars, mafia, cartel, slots, fps, ems, freeaccess, 128 slots, slots, gangs, police, lspd, serveur, server, job, stellantia, cops, bcso, truck, braquage,esx', '2944', '', 'DrekRS', '', '', ['AdvancedParking', 'airbag', 'ambulance_job', 'ammunation', 'animalerie', 'armes_non_letales', 'async', 'attach', 'BanSQL', 'basic-gamemode', 'bcso_job', 'bennylift', 'bob74_ipl', 'boutique-ingame', 'cambriolage', 'chat', 'core_activ', 'core_map', 'core_stream_divers', 'core_utill', 'core_vscript', 'corevu', 'corevu_temp', 'cron', 'Custom_city', 'Custom_north', 'cyber_bar_job', 'DiamondBlackjack', 'DiscordWhitelist', 'doors', 'dp_emotes', 'drogues', 'drones', 'drones_stream', 'elevator', 'elevator_bis', 'elevator_ems', 'enos_casino', 'es_admin2', 'es_extended', 'esplugin_mysql', 'essentialmode', 'esx_accessories', 'esx_addonaccount', 'esx_addoninventory', 'esx_ambulance_cad', 'esx_atm_robbery', 'esx_barbershop', 'esx_basicneeds', 'esx_billing', 'esx_boatshop', 'esx_burgerjob', 'esx_datastore', 'esx_distilleriejob', 'esx_dmvschool', 'esx_drp_garage', 'esx_eaglejob', 'esx_eden_clotheshop', 'esx_firejob', 'esx_flyshop', 'esx_gangsjob', 'esx_givevehicle', 'esx_golf', 'esx_gouvernementjob', 'esx_headbag', 'esx_identity', 'esx_impots', 'esx_jobssecondary', 'esx_menu_default', 'esx_menu_dialog', 'esx_menu_list', 'esx_oblivionpill', 'esx_police_cad', 'esx_property', 'esx_radars', 'esx_realestateagentjob', 'esx_restaurant_jap_job', 'esx_shops', 'esx_skin', 'esx_society', 'esx_status', 'esx_storage', 'esx_tattooshop', 'esx_trailermanager', 'esx_truckerjob', 'esx_unicornjob', 'esx_unishow', 'esx_vangelico_robbery', 'esx_vehicle_inventory_arms', 'esx_vehicleshop', 'esx_vigneronjob', 'evy_armwrestling', 'fakeplate', 'firehose', 'firehosemodels', 'firescript', 'firetools', 'FiveEMS', 'fivem-drilling', 'fivem-map-hipster', 'funkclothes', 'FzD-Banking', 'FzD-Numpad', 'h4ci_sautparachute', 'HADESFILE', 'hud', 'InteractSound', 'ipl_nightclub', 'jail', 'jantes', 'jsfour-criminalrecord', 'jsfour-idcard', 'katana', 'kimi_callbacks', 'krz_personalmenu', 'kuz_towing', 'LegacyFuel', 'loadingscreen', 'lockpicking', 'logs', 'map_bcso_m4l', 'map_bennys', 'map_burgershot', 'map_circuit_spa', 'map_gouvernement', 'map_halloween', 'map_hopital', 'map_hopital_nord', 'map_lspd', 'map_pompiers', 'maploader', 'mapmanager', 'MenuAPI', 'meta_libs', 'mhacking', 'monitor', 'mp_insidetrack', 'mrw_prop', 'mtracker', 'myDj', 'mysql-async', 'mythic_notify', 'mythic_progbar', 'nightclub', 'plainte', 'PlasmaGame', 'pma-voice', 'pMecano_city', 'pMecano_north', 'pNotify', 'policejob', 'PolyZone', 'prl_civilJobs', 'progressBars', 'qs-base', 'qs-crypto', 'qs-smartphone', 'qs-videos', 'rcore_arcade', 'rcore_lunapark', 'rcore_lunapark_assets', 'rcore_pool', 'rcore_tennis', 'RichPresence', 'rm_shoprobbery', 'robbbs_bossvilla2', 'roulette_casino', 'rp-radio', 'rs_prog', 'screenshot-basic', 'sell_citoyen', 'skinchanger', 'smartphone_props', 'SmartSigns', 'spawnmanager', 'stell_notif', 'stell_sonscustoms', 'sync_flightschool', 't1ger_bankrobbery', 't1ger_carthief', 'taxijob', 'traffic', 'uj_marshal', 'uj_marshal_ipl', 'uj_marshalLoader', 'utk_fingerprint', 'utk_hackdependency', 'vimport', 'VisualSettings', 'vns_cs_wheel', 'vote', 'vSyncR', 'WaveShield', 'WeaponAnimationMenuV2', 'weazelnews_job', 'webpack', 'wk_wars2x', 'wm-serversirens', 'xsound', 'yarn', 'zAdmin']]\n",
      "The last index is: 9\n",
      "Scraping server 10, id is d5o7ad\n",
      "d5o7ad\n"
     ]
    },
    {
     "name": "stderr",
     "output_type": "stream",
     "text": [
      "Server Name: OsiedleRP WL OFF\n"
     ]
    },
    {
     "name": "stdout",
     "output_type": "stream",
     "text": [
      "%%%%%%%%%%%%%%%%%%%%%%%%%%%%%%%%%%%%%%%%%%%%%%%%%%%%%%%%%%%%%%%%%\n",
      "OsiedleRP WL OFF\n",
      "%%%%%%%%%%%%%%%%%%%%%%%%%%%%%%%%%%%%%%%%%%%%%%%%%%%%%%%%%%%%%%%%%\n"
     ]
    },
    {
     "name": "stderr",
     "output_type": "stream",
     "text": [
      "Resources: 17mov_BuilderJob, 17mov_GarbageCollector, 17mov_Lumberjack, acidtrip, async, av_houserobbery, ballasint, baseevents, BCall_progress, better_basicpeds, BetterFlashlight, biker_custom_by_Map4All, bob74_ipl, bodycam, Buty-Activities, bzzz_basket, carflames, CayoTwoIslands, cfx-jakers-legion, cron, devcore_smokev2, dpclothing, dr-scratching, dz-drone, EasyAdmin, elevators, es_extended, esx_addonaccount, esx_ambulancejob, esx_banking, esx_basicneeds, esx_carwash, esx_context, esx_duty, esx_emsmdt, esx_headbag, esx_identity, esx_jailer, esx_joblisting, esx_license, esx_menu_default, esx_menu_dialog, esx_menu_list, esx_multicharacter, esx_optimizedTaximeter, esx_optionalneeds, esx_policejob, esx_progressbar, esx_society, esx_status, esx_textui, esx_zlomiarz, FeedM, FM-BeanM, FM-Larrys, fuksus-shops, gabz_pillbox_hospital_v2, generic_texture_renderer_gfx, GLOCK, grs_rapd, illenium-appearance, InteractSound, JoguterTextUI, jsfour-licenseplate, k4mb1shellstarter, k5_skillcheck, kc-sitting, KillstorexQuasar_props, knine, lation_laundering, lb-phone, lb-phoneprop, LegacyFuel, loaf_lib, loaf_offsetfinder, lunaticstudio_promo001, luxart-vehicle-control, menuv, meta_libs, minimapa, mk_plates, mmflashbang, mmgraffiti, mmsmokegrenade, monitor, news, notepad, okokNotify, okokTextUI, osiedle_billing, osiedle_biznes, osiedle_burgershot, osiedle_cardealer, osiedle_chat, osiedle_controlnpc, osiedle_crafting, osiedle_dealer, osiedle_design, osiedle_dodatki, osiedle_doj, osiedle_drugeffects, osiedle_drugs, osiedle_EUP, osiedle_EUP2, osiedle_EUP3, osiedle_gpt, osiedle_handcuffs, osiedle_hud, osiedle_idcards, osiedle_illegal, osiedle_insurance, osiedle_kasetka, osiedle_keys, osiedle_komendy, osiedle_logi, osiedle_lscdorywcza, osiedle_mapa, osiedle_mechanic, osiedle_menu, osiedle_meth, osiedle_minigierki, osiedle_missions, Osiedle_mlo, Osiedle_mlo2, osiedle_multijob, osiedle_opis2, osiedle_organisations, osiedle_pedy, osiedle_props, osiedle_pz, osiedle_queue, osiedle_replace, osiedle_riddle, osiedle_robnpc, osiedle_ron, osiedle_sadownik, osiedle_scoreboard, osiedle_shops, osiedle_skills, osiedle_street, osiedle_tutorial, osiedle_ucafe, osiedle-carkeys, OSIEDLECARS, OsiedleLoading, OsiedleRP, ox_doorlock, ox_inventory, ox_lib, ox_sit, ox_target, oxmysql, ped_system, pma-voice, pmc-instance, PolyZone, prospecting, ptelevision, pug-repojob, push_vehicle, qs-dispatch, qs-housing, r_animations, r_megaphone, Radar, rahe-boosting, rahe-hackingdevice, rahe-racing, rcore_basketball, rcore_basketball_assets, rcore_casino, rcore_pool, rcore_radiocar, rcore_tuning, rcore_whiteboard, rcore_whiteboard_scaleform, RealisticVehicleFailure, rflx_pdblips, rp-radio, rtx_scenarios, rtx_themepark, rtx_themepark_objects, s1n_garages, safebreach, screenshot-basic, sh-electronicCuffs, sh-policeStuff, skillcheck, spawnmanager, tailor, utk_fleeca, utm_nshop, vms_gym, vSyncR, wasabi_boombox, wasabi_oxshops, x-radiolist, xnPlates, xsound\n",
      "Game type: ESX\n",
      "Map: Los Santos + Cayo Perico\n",
      "OneSync: enabled\n",
      "Language: Polish (Poland)\n",
      "Tags: official, roleplay, rp, pl, wl-off, nowa edycja, delos, esx,esx\n",
      "Discord: discord.com/invite/Sws9Thahyp\n",
      "Strona: osiedlerp.pl\n",
      "Whitelist: OFF\n",
      "Wipe: 30.09.2023\n",
      "DLC level: 2944\n",
      "sv_pureLevel: 0\n",
      "Owner: d2Sokol\n",
      "https://servers.fivem.net/servers/detail/e56k83\n"
     ]
    },
    {
     "name": "stdout",
     "output_type": "stream",
     "text": [
      "['OsiedleRP WL OFF', 'https://servers.fivem.net/servers/detail/d5o7ad', '', 'ESX', 'enabled', 'Los Santos + Cayo Perico', 'Polish (Poland)', 'official, roleplay, rp, pl, wl-off, nowa edycja, delos, esx,esx', '2944', '', 'd2Sokol', '', '', ['17mov_BuilderJob', '17mov_GarbageCollector', '17mov_Lumberjack', 'acidtrip', 'async', 'av_houserobbery', 'ballasint', 'baseevents', 'BCall_progress', 'better_basicpeds', 'BetterFlashlight', 'biker_custom_by_Map4All', 'bob74_ipl', 'bodycam', 'Buty-Activities', 'bzzz_basket', 'carflames', 'CayoTwoIslands', 'cfx-jakers-legion', 'cron', 'devcore_smokev2', 'dpclothing', 'dr-scratching', 'dz-drone', 'EasyAdmin', 'elevators', 'es_extended', 'esx_addonaccount', 'esx_ambulancejob', 'esx_banking', 'esx_basicneeds', 'esx_carwash', 'esx_context', 'esx_duty', 'esx_emsmdt', 'esx_headbag', 'esx_identity', 'esx_jailer', 'esx_joblisting', 'esx_license', 'esx_menu_default', 'esx_menu_dialog', 'esx_menu_list', 'esx_multicharacter', 'esx_optimizedTaximeter', 'esx_optionalneeds', 'esx_policejob', 'esx_progressbar', 'esx_society', 'esx_status', 'esx_textui', 'esx_zlomiarz', 'FeedM', 'FM-BeanM', 'FM-Larrys', 'fuksus-shops', 'gabz_pillbox_hospital_v2', 'generic_texture_renderer_gfx', 'GLOCK', 'grs_rapd', 'illenium-appearance', 'InteractSound', 'JoguterTextUI', 'jsfour-licenseplate', 'k4mb1shellstarter', 'k5_skillcheck', 'kc-sitting', 'KillstorexQuasar_props', 'knine', 'lation_laundering', 'lb-phone', 'lb-phoneprop', 'LegacyFuel', 'loaf_lib', 'loaf_offsetfinder', 'lunaticstudio_promo001', 'luxart-vehicle-control', 'menuv', 'meta_libs', 'minimapa', 'mk_plates', 'mmflashbang', 'mmgraffiti', 'mmsmokegrenade', 'monitor', 'news', 'notepad', 'okokNotify', 'okokTextUI', 'osiedle_billing', 'osiedle_biznes', 'osiedle_burgershot', 'osiedle_cardealer', 'osiedle_chat', 'osiedle_controlnpc', 'osiedle_crafting', 'osiedle_dealer', 'osiedle_design', 'osiedle_dodatki', 'osiedle_doj', 'osiedle_drugeffects', 'osiedle_drugs', 'osiedle_EUP', 'osiedle_EUP2', 'osiedle_EUP3', 'osiedle_gpt', 'osiedle_handcuffs', 'osiedle_hud', 'osiedle_idcards', 'osiedle_illegal', 'osiedle_insurance', 'osiedle_kasetka', 'osiedle_keys', 'osiedle_komendy', 'osiedle_logi', 'osiedle_lscdorywcza', 'osiedle_mapa', 'osiedle_mechanic', 'osiedle_menu', 'osiedle_meth', 'osiedle_minigierki', 'osiedle_missions', 'Osiedle_mlo', 'Osiedle_mlo2', 'osiedle_multijob', 'osiedle_opis2', 'osiedle_organisations', 'osiedle_pedy', 'osiedle_props', 'osiedle_pz', 'osiedle_queue', 'osiedle_replace', 'osiedle_riddle', 'osiedle_robnpc', 'osiedle_ron', 'osiedle_sadownik', 'osiedle_scoreboard', 'osiedle_shops', 'osiedle_skills', 'osiedle_street', 'osiedle_tutorial', 'osiedle_ucafe', 'osiedle-carkeys', 'OSIEDLECARS', 'OsiedleLoading', 'OsiedleRP', 'ox_doorlock', 'ox_inventory', 'ox_lib', 'ox_sit', 'ox_target', 'oxmysql', 'ped_system', 'pma-voice', 'pmc-instance', 'PolyZone', 'prospecting', 'ptelevision', 'pug-repojob', 'push_vehicle', 'qs-dispatch', 'qs-housing', 'r_animations', 'r_megaphone', 'Radar', 'rahe-boosting', 'rahe-hackingdevice', 'rahe-racing', 'rcore_basketball', 'rcore_basketball_assets', 'rcore_casino', 'rcore_pool', 'rcore_radiocar', 'rcore_tuning', 'rcore_whiteboard', 'rcore_whiteboard_scaleform', 'RealisticVehicleFailure', 'rflx_pdblips', 'rp-radio', 'rtx_scenarios', 'rtx_themepark', 'rtx_themepark_objects', 's1n_garages', 'safebreach', 'screenshot-basic', 'sh-electronicCuffs', 'sh-policeStuff', 'skillcheck', 'spawnmanager', 'tailor', 'utk_fleeca', 'utm_nshop', 'vms_gym', 'vSyncR', 'wasabi_boombox', 'wasabi_oxshops', 'x-radiolist', 'xnPlates', 'xsound']]\n",
      "The last index is: 10\n",
      "Scraping server 11, id is e56k83\n",
      "e56k83\n"
     ]
    },
    {
     "name": "stderr",
     "output_type": "stream",
     "text": [
      "Server Name: 📟 Proper RP | 18+ | 🙈 🙉 🙊\n"
     ]
    },
    {
     "name": "stdout",
     "output_type": "stream",
     "text": [
      "%%%%%%%%%%%%%%%%%%%%%%%%%%%%%%%%%%%%%%%%%%%%%%%%%%%%%%%%%%%%%%%%%\n",
      "📟 Proper RP | 18+ | 🙈 🙉 🙊\n",
      "%%%%%%%%%%%%%%%%%%%%%%%%%%%%%%%%%%%%%%%%%%%%%%%%%%%%%%%%%%%%%%%%%\n"
     ]
    },
    {
     "name": "stderr",
     "output_type": "stream",
     "text": [
      "Resources: 4thgenss, 77monte, 1936HarleyDavidson, 1969ssdrag, 1970CamarossDrag, 1970drag, 1986dartsc, 2002RamDually, 2006DodgeRam1500Lifted, 2018MustangDrag, 2019CobraJet, 2020Copo, 2020CopoV2, 3500sd, A80-DBG, achlys, almeiidaa_gasstation, ambulancepack, ap-traps, apocalyptic, ardent3, axfw-sitonanyseat, B1-skillz, BabiczHandlingEditor, babymods, ballasint, bandidos, banhamas, banshee3, baseevents, basic-gamemode, BatmanJaceFox, batmanlaughs, bestiagt, bob74_ipl, boii-consumables, boii-drugs, boii-farming, boii-hunting, boii-pawnshop, boii-salvagediving, bonedev, boostinghack, breze_bowling_map, brnx_lighthousehouse, BrotherhoodBag, brutal_atm_robbery, BunkerHeistMLO, Burevestnik_dialog, Burevestnik_vehicleshop, burgershot-map, burgershot-van, cad-fightring, caracaran, Cayo_Island, Cayo_Perico_Bridge_V1_by_NE_NOORE, cdn-fuel, cfg, cfx_ies_dp_pharmacy, cfx_meta_gasstation2, cfx-gabz-altruists, cfx-gabz-ammunation, cfx-gabz-arcade, cfx-gabz-atom, cfx-gabz-aztecas, cfx-gabz-bahama, cfx-gabz-ballas, cfx-gabz-barber, cfx-gabz-beanmachine, cfx-gabz-binco, cfx-gabz-bobcat, cfx-gabz-bowling, cfx-gabz-carmeet, cfx-gabz-catcafe, cfx-gabz-families, cfx-gabz-fleeca, cfx-gabz-harmony, cfx-gabz-haters, cfx-gabz-hornys, cfx-gabz-impound, cfx-gabz-koi, cfx-gabz-lost, cfx-gabz-lostsc, cfx-gabz-mapdata, cfx-gabz-marabunta, cfx-gabz-mba, cfx-gabz-mirrorpark1, cfx-gabz-mirrorpark2, cfx-gabz-mrpd, cfx-gabz-ottos, cfx-gabz-paletocamp, cfx-gabz-paletoliquor, cfx-gabz-paletopd, cfx-gabz-parkranger, cfx-gabz-pdprops, cfx-gabz-pearls, cfx-gabz-pillbox, cfx-gabz-pinkcage, cfx-gabz-pizzeria, cfx-gabz-prison, cfx-gabz-records, cfx-gabz-sandypd, cfx-gabz-scenarios, cfx-gabz-studio, cfx-gabz-townhall, cfx-gabz-triads, cfx-gabz-tuners, cfx-gabz-vbmarket, cfx-gabz-vu, chat, chat-cc, cheesykyle_comic_shopv2, chetah, cj7, cometgt, connectqueue, coqgte, cr-grandma, cr-storeextras, cron, ct_dragstrip, Custom-Weapons, cw_tow, dd_pack, dealer_map, deimos, discord-screenshot, dodgedrag, dodgesrt2, dolu_sanders, domc, dr-scratching, drag_pack, DragChevy2, dragdemon71k, dragiroc, dragm2, dragqueen, drags2k, dragsupra, drc_uwucafe, dubsta22, dynasty8, ebu_ferry, ed_whitemansion, elgyw, emerusgtr, ems_props, EMSPack, ensart_beards, estancia, eup-stream, eup-ui, evy_safepnj, evy_shootingrange, example-loadscreen, f350hd, familiesint, FavelaPiolho, fd-powerball, fd-tradingcards, female_prison, femalevest, ferry, firstpersonshot-aim, fiv3devs_blazeit, fivem, fivem-aerial-tramway, fivem-koil-debug, fivem-koil-golf, fivem-map-hipster, fivem-map-skater, flhxs_streetglide_special18, flywheels, Future-RobNPC, g_dane, g-bikerentals, german_shepard, gfastr32, ghost-rider, gigz_davis_mall, Glide_Custom, Glider_Custom, GNX, goldhouse_vp, gothambatman, gramas_farm, gsnake, gtcs, GwopDemon, hacking, hadesvest, harleyfb, hayesMAP, HDIron883, hexanemaofficiel, horizon_speedometer, hotkniferod, hp-reports, hps, httpmanager, igro45_ron_davis, illenium-appearance, improved-females, int_beachcon, int_jdmhub, int_lodge, int_weed, interact-sound, intercepter, is-statushud, italigtc, italigton, italigtr, italigts, IteK_GasStation, j_clothe, jdm_scenario, jdm-rims, jeep20, jeep392, jim-consumables, jim-djbooth, jim-henhouse, jim-jobgarage, jim-mechanic, jim-mining, jim-notepad, jim-payments, jim-vanillaunicorn, jod-callsign, johnwick, jubilee8, K4MB1-AllShellsSubPack, k4mb1-casino, k4mb1-oilrig, k4mb1-vjewel, k4mb1shellstarter, Kazumi-Barnfind, keep-backpack, keep-containers, keep-drivingmodes, keep-paycheck, La-Fuente-Blanca, laundry, lbc_pawnshop, LTD_Gas_01, LTD_Gas_02, lux_vehcontrol, maj86, male_prison, maliboohoo, map-sat, mapmanager, marabuntaint, memorygame, MenuAPI, menuv, meta_libs, metro-master, mhacking, migu1, minimap_cayo, molo_alcatraz, money, monitor, montecarlo88, morepeds, Mosbaekdesign_whitewidow_cafe_V2Update_mlo, moutian_cabin, mt-beanmachine, MugShotBase64, mybillboards, mythic_notify, mz-skills, mz-storerobbery, NativeUI, nc-rental, nerops, news-main, nh-context, nkbisondot, nkbisontrailer, nkmule5, nkpolicepackv1, nkpolicepackv1_2, nkpolicepackv2, nkpolicepackv2_2, nkpolicevariouspack, nksamspack, nktaxipack, nspeedo, nutt_sagma, osirisr, osm-atmrobbery, osm-cameras, ot, ox_lib, oxmysql, PacificBankExtendedMLO, PAINTBALL-WEAPON, PaletoBankExtendedMLO, patoche_halloween_house, patoche_paleto_gas_station, pedmenu, pickle_slapboxing, pickle_xp-1.0.3, pitbull, player-data, pma-voice, pmc-callbacks, pmms, PolyZone, predator, pressurewasher, pressurewashermodels, progressbar, props_remove, ps-buffs, ps-dispatch, ps-mdt, ps-polaroid, ps-ui, pug-paintball, pun_idgun, pv-pager, qb-adminmenu, qb-ambulancejob, qb-apartments, qb-atms, qb-banking, qb-bankrobbery, qb-banktruck, qb-blaine_forest, qb-burgershot-job, qb-busjob, qb-camera, qb-carboosting, qb-carry, qb-carryweapon, qb-cigarettes, qb-cityhall, qb-clothing-big, qb-communityservice, qb-companion, qb-core, qb-court, qb-crypto, qb-customs, qb-diving, qb-doorlock, qb-drugs, qb-dumpsters, qb-fishery, qb-fishing, qb-fitbit, qb-garages, qb-garbagejob, qb-gravedigging, qb-hayes, qb-hotdogjob, qb-houserobbery, qb-hud, qb-huntshop, qb-input, qb-interior, qb-inventory, qb-jewelery, qb-keyminigame, qb-loading, qb-lock, qb-lockpick, qb-lostpack, qb-lostpack-f, qb-management, qb-mechanicjob, qb-menu, qb-moneywash, qb-motels, qb-multicharacter, qb-multijob, qb-newsjob, qb-noradio, qb-notepad, qb-oxyruns, qb-pdm-bennys, qb-peds, qb-petshop, qb-policejob, qb-radialmenu, qb-radio, qb-ragdoll, qb-recyclejob, qb-robmeter, qb-scenes, qb-scrapyard, qb-shops, qb-showid, qb-sit, qb-skillbar, qb-smallresources, qb-spawn, qb-target, qb-taxijob, qb-towjob, qb-traphouse, qb-trash_job, qb-tripballs, qb-truckerjob, qb-truckrobbery, qb-tunerchip, qb-ug_gunstore, qb-vehiclefailure, qb-vehiclekeys, qb-vehiclesales, qb-vehicleshop, qb-vineyard, qb-vinyard, qb-weapons, qb-weathersync, qb-yeezy, qs-base, qs-crypto, qs-fakenumber, qs-housing, qs-racing, qs-sellix, qs-smartphone, qs-videos, r_pepperspray, ram_trailer, ram2500, rancherSC, rangeRsv, rc_cars, rconlog, rcore_arcade, rcore_bowling, rcore_camping, rcore_camping_assets, rcore_casino, rcore_casino_heist, rcore_darts, rcore_gangs, rcore_pool, rcore_prison, rcore_spray, rcore_spray_assets, rcore_stickers, rdzk_c_square, reddevil, Renewed-Weaponscarry, renzu_stancer, rep-tablet, rep-talkNPC, resort_dam, rfc_los_santos_airport_fix, rfc_los_santos_customs, rfc_luxury_autos, rg-loans, rm_artheist, rm_artifactheist, rm_humanelabsheist, rm_kidnapping, rm_trainheist, rm_yachtheist, RollDice, rpemotes, rrwidefox, rs-upnburger, runcode, safecracker, salty_doggomenu, sandkingswb, sandkingut, sandstorm, sandy-trees, sayer-weedshop, schlagenstr, screenshot-basic, sd_lib, sd-airdrop, sd-bobcat, sd-oilrig, sd-oxyrun, sd-warehouse, sd-weedrun, smartphone_props, smokey_henhouse_lore_fixed, smokey_jamaicafe, softail, spawnmanager, spooner, Sprintcar, sr650fly, stl, stockcar, sunrise1, superd3, surano3, syn_dice, tempestaes, tempestaevo, tequila_music, tgiann-attachproptoplayereditor, tgiann-core, tgiann-naked, tgiann-naked-assets, tgiann-skillbar, that_wallet, TheOneChopper, torerod, trailers, truck_logistics, trucks, turismo2lm, turismoc, turismocs, ukz_littleseoul_v3, ultra-voltlab, um-idcard, urbanwheelpack, vagos_savehouse, vagosint, vapidrv, vehcontrol, VehicleAirControl, verpi_driving_school, vms_tattooshop, vtbullet, vtinfernus2se, warmenu, webhook_read, webpack, windsor2c, wk_wars2x, xerogasstation, xsound, Yabaking_Wheels, yarn, yellowjack, ylean_noflyzones, youga5, zat-applecarplay\n",
      "OneSync: enabled\n",
      "Language: English (United States)\n",
      "Tags: Trackyserver119531\n",
      "Discord: discord.gg/f5DbruEtKA\n",
      "Facebook: facebook.com/properroleplay\n",
      "Fandom: proper-rp.fandom.com/wiki/Proper_RP_Wiki\n",
      "Tictok: tiktok.com/@properrp\n",
      "Twitter: twitter.com/ProperRP\n",
      "Youtube: youtube.com/@ProperRP\n",
      "DLC level: 2802\n",
      "sv_pureLevel: 1\n",
      "can_review: true\n",
      "Owner: Save5Bucks\n",
      "https://servers.fivem.net/servers/detail/z64dld\n"
     ]
    },
    {
     "name": "stdout",
     "output_type": "stream",
     "text": [
      "['📟 Proper RP | 18+ | 🙈 🙉 🙊', 'https://servers.fivem.net/servers/detail/e56k83', '', '', 'enabled', '', 'English (United States)', 'Trackyserver119531', '2802', '', 'Save5Bucks', '', '', ['4thgenss', '77monte', '1936HarleyDavidson', '1969ssdrag', '1970CamarossDrag', '1970drag', '1986dartsc', '2002RamDually', '2006DodgeRam1500Lifted', '2018MustangDrag', '2019CobraJet', '2020Copo', '2020CopoV2', '3500sd', 'A80-DBG', 'achlys', 'almeiidaa_gasstation', 'ambulancepack', 'ap-traps', 'apocalyptic', 'ardent3', 'axfw-sitonanyseat', 'B1-skillz', 'BabiczHandlingEditor', 'babymods', 'ballasint', 'bandidos', 'banhamas', 'banshee3', 'baseevents', 'basic-gamemode', 'BatmanJaceFox', 'batmanlaughs', 'bestiagt', 'bob74_ipl', 'boii-consumables', 'boii-drugs', 'boii-farming', 'boii-hunting', 'boii-pawnshop', 'boii-salvagediving', 'bonedev', 'boostinghack', 'breze_bowling_map', 'brnx_lighthousehouse', 'BrotherhoodBag', 'brutal_atm_robbery', 'BunkerHeistMLO', 'Burevestnik_dialog', 'Burevestnik_vehicleshop', 'burgershot-map', 'burgershot-van', 'cad-fightring', 'caracaran', 'Cayo_Island', 'Cayo_Perico_Bridge_V1_by_NE_NOORE', 'cdn-fuel', 'cfg', 'cfx_ies_dp_pharmacy', 'cfx_meta_gasstation2', 'cfx-gabz-altruists', 'cfx-gabz-ammunation', 'cfx-gabz-arcade', 'cfx-gabz-atom', 'cfx-gabz-aztecas', 'cfx-gabz-bahama', 'cfx-gabz-ballas', 'cfx-gabz-barber', 'cfx-gabz-beanmachine', 'cfx-gabz-binco', 'cfx-gabz-bobcat', 'cfx-gabz-bowling', 'cfx-gabz-carmeet', 'cfx-gabz-catcafe', 'cfx-gabz-families', 'cfx-gabz-fleeca', 'cfx-gabz-harmony', 'cfx-gabz-haters', 'cfx-gabz-hornys', 'cfx-gabz-impound', 'cfx-gabz-koi', 'cfx-gabz-lost', 'cfx-gabz-lostsc', 'cfx-gabz-mapdata', 'cfx-gabz-marabunta', 'cfx-gabz-mba', 'cfx-gabz-mirrorpark1', 'cfx-gabz-mirrorpark2', 'cfx-gabz-mrpd', 'cfx-gabz-ottos', 'cfx-gabz-paletocamp', 'cfx-gabz-paletoliquor', 'cfx-gabz-paletopd', 'cfx-gabz-parkranger', 'cfx-gabz-pdprops', 'cfx-gabz-pearls', 'cfx-gabz-pillbox', 'cfx-gabz-pinkcage', 'cfx-gabz-pizzeria', 'cfx-gabz-prison', 'cfx-gabz-records', 'cfx-gabz-sandypd', 'cfx-gabz-scenarios', 'cfx-gabz-studio', 'cfx-gabz-townhall', 'cfx-gabz-triads', 'cfx-gabz-tuners', 'cfx-gabz-vbmarket', 'cfx-gabz-vu', 'chat', 'chat-cc', 'cheesykyle_comic_shopv2', 'chetah', 'cj7', 'cometgt', 'connectqueue', 'coqgte', 'cr-grandma', 'cr-storeextras', 'cron', 'ct_dragstrip', 'Custom-Weapons', 'cw_tow', 'dd_pack', 'dealer_map', 'deimos', 'discord-screenshot', 'dodgedrag', 'dodgesrt2', 'dolu_sanders', 'domc', 'dr-scratching', 'drag_pack', 'DragChevy2', 'dragdemon71k', 'dragiroc', 'dragm2', 'dragqueen', 'drags2k', 'dragsupra', 'drc_uwucafe', 'dubsta22', 'dynasty8', 'ebu_ferry', 'ed_whitemansion', 'elgyw', 'emerusgtr', 'ems_props', 'EMSPack', 'ensart_beards', 'estancia', 'eup-stream', 'eup-ui', 'evy_safepnj', 'evy_shootingrange', 'example-loadscreen', 'f350hd', 'familiesint', 'FavelaPiolho', 'fd-powerball', 'fd-tradingcards', 'female_prison', 'femalevest', 'ferry', 'firstpersonshot-aim', 'fiv3devs_blazeit', 'fivem', 'fivem-aerial-tramway', 'fivem-koil-debug', 'fivem-koil-golf', 'fivem-map-hipster', 'fivem-map-skater', 'flhxs_streetglide_special18', 'flywheels', 'Future-RobNPC', 'g_dane', 'g-bikerentals', 'german_shepard', 'gfastr32', 'ghost-rider', 'gigz_davis_mall', 'Glide_Custom', 'Glider_Custom', 'GNX', 'goldhouse_vp', 'gothambatman', 'gramas_farm', 'gsnake', 'gtcs', 'GwopDemon', 'hacking', 'hadesvest', 'harleyfb', 'hayesMAP', 'HDIron883', 'hexanemaofficiel', 'horizon_speedometer', 'hotkniferod', 'hp-reports', 'hps', 'httpmanager', 'igro45_ron_davis', 'illenium-appearance', 'improved-females', 'int_beachcon', 'int_jdmhub', 'int_lodge', 'int_weed', 'interact-sound', 'intercepter', 'is-statushud', 'italigtc', 'italigton', 'italigtr', 'italigts', 'IteK_GasStation', 'j_clothe', 'jdm_scenario', 'jdm-rims', 'jeep20', 'jeep392', 'jim-consumables', 'jim-djbooth', 'jim-henhouse', 'jim-jobgarage', 'jim-mechanic', 'jim-mining', 'jim-notepad', 'jim-payments', 'jim-vanillaunicorn', 'jod-callsign', 'johnwick', 'jubilee8', 'K4MB1-AllShellsSubPack', 'k4mb1-casino', 'k4mb1-oilrig', 'k4mb1-vjewel', 'k4mb1shellstarter', 'Kazumi-Barnfind', 'keep-backpack', 'keep-containers', 'keep-drivingmodes', 'keep-paycheck', 'La-Fuente-Blanca', 'laundry', 'lbc_pawnshop', 'LTD_Gas_01', 'LTD_Gas_02', 'lux_vehcontrol', 'maj86', 'male_prison', 'maliboohoo', 'map-sat', 'mapmanager', 'marabuntaint', 'memorygame', 'MenuAPI', 'menuv', 'meta_libs', 'metro-master', 'mhacking', 'migu1', 'minimap_cayo', 'molo_alcatraz', 'money', 'monitor', 'montecarlo88', 'morepeds', 'Mosbaekdesign_whitewidow_cafe_V2Update_mlo', 'moutian_cabin', 'mt-beanmachine', 'MugShotBase64', 'mybillboards', 'mythic_notify', 'mz-skills', 'mz-storerobbery', 'NativeUI', 'nc-rental', 'nerops', 'news-main', 'nh-context', 'nkbisondot', 'nkbisontrailer', 'nkmule5', 'nkpolicepackv1', 'nkpolicepackv1_2', 'nkpolicepackv2', 'nkpolicepackv2_2', 'nkpolicevariouspack', 'nksamspack', 'nktaxipack', 'nspeedo', 'nutt_sagma', 'osirisr', 'osm-atmrobbery', 'osm-cameras', 'ot', 'ox_lib', 'oxmysql', 'PacificBankExtendedMLO', 'PAINTBALL-WEAPON', 'PaletoBankExtendedMLO', 'patoche_halloween_house', 'patoche_paleto_gas_station', 'pedmenu', 'pickle_slapboxing', 'pickle_xp-1.0.3', 'pitbull', 'player-data', 'pma-voice', 'pmc-callbacks', 'pmms', 'PolyZone', 'predator', 'pressurewasher', 'pressurewashermodels', 'progressbar', 'props_remove', 'ps-buffs', 'ps-dispatch', 'ps-mdt', 'ps-polaroid', 'ps-ui', 'pug-paintball', 'pun_idgun', 'pv-pager', 'qb-adminmenu', 'qb-ambulancejob', 'qb-apartments', 'qb-atms', 'qb-banking', 'qb-bankrobbery', 'qb-banktruck', 'qb-blaine_forest', 'qb-burgershot-job', 'qb-busjob', 'qb-camera', 'qb-carboosting', 'qb-carry', 'qb-carryweapon', 'qb-cigarettes', 'qb-cityhall', 'qb-clothing-big', 'qb-communityservice', 'qb-companion', 'qb-core', 'qb-court', 'qb-crypto', 'qb-customs', 'qb-diving', 'qb-doorlock', 'qb-drugs', 'qb-dumpsters', 'qb-fishery', 'qb-fishing', 'qb-fitbit', 'qb-garages', 'qb-garbagejob', 'qb-gravedigging', 'qb-hayes', 'qb-hotdogjob', 'qb-houserobbery', 'qb-hud', 'qb-huntshop', 'qb-input', 'qb-interior', 'qb-inventory', 'qb-jewelery', 'qb-keyminigame', 'qb-loading', 'qb-lock', 'qb-lockpick', 'qb-lostpack', 'qb-lostpack-f', 'qb-management', 'qb-mechanicjob', 'qb-menu', 'qb-moneywash', 'qb-motels', 'qb-multicharacter', 'qb-multijob', 'qb-newsjob', 'qb-noradio', 'qb-notepad', 'qb-oxyruns', 'qb-pdm-bennys', 'qb-peds', 'qb-petshop', 'qb-policejob', 'qb-radialmenu', 'qb-radio', 'qb-ragdoll', 'qb-recyclejob', 'qb-robmeter', 'qb-scenes', 'qb-scrapyard', 'qb-shops', 'qb-showid', 'qb-sit', 'qb-skillbar', 'qb-smallresources', 'qb-spawn', 'qb-target', 'qb-taxijob', 'qb-towjob', 'qb-traphouse', 'qb-trash_job', 'qb-tripballs', 'qb-truckerjob', 'qb-truckrobbery', 'qb-tunerchip', 'qb-ug_gunstore', 'qb-vehiclefailure', 'qb-vehiclekeys', 'qb-vehiclesales', 'qb-vehicleshop', 'qb-vineyard', 'qb-vinyard', 'qb-weapons', 'qb-weathersync', 'qb-yeezy', 'qs-base', 'qs-crypto', 'qs-fakenumber', 'qs-housing', 'qs-racing', 'qs-sellix', 'qs-smartphone', 'qs-videos', 'r_pepperspray', 'ram_trailer', 'ram2500', 'rancherSC', 'rangeRsv', 'rc_cars', 'rconlog', 'rcore_arcade', 'rcore_bowling', 'rcore_camping', 'rcore_camping_assets', 'rcore_casino', 'rcore_casino_heist', 'rcore_darts', 'rcore_gangs', 'rcore_pool', 'rcore_prison', 'rcore_spray', 'rcore_spray_assets', 'rcore_stickers', 'rdzk_c_square', 'reddevil', 'Renewed-Weaponscarry', 'renzu_stancer', 'rep-tablet', 'rep-talkNPC', 'resort_dam', 'rfc_los_santos_airport_fix', 'rfc_los_santos_customs', 'rfc_luxury_autos', 'rg-loans', 'rm_artheist', 'rm_artifactheist', 'rm_humanelabsheist', 'rm_kidnapping', 'rm_trainheist', 'rm_yachtheist', 'RollDice', 'rpemotes', 'rrwidefox', 'rs-upnburger', 'runcode', 'safecracker', 'salty_doggomenu', 'sandkingswb', 'sandkingut', 'sandstorm', 'sandy-trees', 'sayer-weedshop', 'schlagenstr', 'screenshot-basic', 'sd_lib', 'sd-airdrop', 'sd-bobcat', 'sd-oilrig', 'sd-oxyrun', 'sd-warehouse', 'sd-weedrun', 'smartphone_props', 'smokey_henhouse_lore_fixed', 'smokey_jamaicafe', 'softail', 'spawnmanager', 'spooner', 'Sprintcar', 'sr650fly', 'stl', 'stockcar', 'sunrise1', 'superd3', 'surano3', 'syn_dice', 'tempestaes', 'tempestaevo', 'tequila_music', 'tgiann-attachproptoplayereditor', 'tgiann-core', 'tgiann-naked', 'tgiann-naked-assets', 'tgiann-skillbar', 'that_wallet', 'TheOneChopper', 'torerod', 'trailers', 'truck_logistics', 'trucks', 'turismo2lm', 'turismoc', 'turismocs', 'ukz_littleseoul_v3', 'ultra-voltlab', 'um-idcard', 'urbanwheelpack', 'vagos_savehouse', 'vagosint', 'vapidrv', 'vehcontrol', 'VehicleAirControl', 'verpi_driving_school', 'vms_tattooshop', 'vtbullet', 'vtinfernus2se', 'warmenu', 'webhook_read', 'webpack', 'windsor2c', 'wk_wars2x', 'xerogasstation', 'xsound', 'Yabaking_Wheels', 'yarn', 'yellowjack', 'ylean_noflyzones', 'youga5', 'zat-applecarplay']]\n",
      "The last index is: 11\n",
      "Scraping server 12, id is z64dld\n",
      "z64dld\n"
     ]
    },
    {
     "name": "stderr",
     "output_type": "stream",
     "text": [
      "Resources: 17mov_BuilderJob, 17mov_TreasureHunter, 17mov_WindowCleaning, 420H-SOA-MLO, ak47_qb_usabledrugs, AKS74U, ap-court, ap-documents, apilogs, As-Val, basic-gamemode, bcs_questionare, bob74_ipl, cali_carsounds, cali_cayoperico, cali_godzwheelz, cali_owners, cali_police_tires, caliwrldeup1, caliwrldeup2, caliwrldeup3, CarLabsNRSSub, caster_erfet_wheels, cayo_bridge, cc-chat, cfx-gabz-247, cfx-gabz-altruists, cfx-gabz-ammunation, cfx-gabz-arcade, cfx-gabz-atom, cfx-gabz-aztecas, cfx-gabz-bahama, cfx-gabz-ballas, cfx-gabz-barber, cfx-gabz-beanmachine, cfx-gabz-binco, cfx-gabz-bowling, cfx-gabz-burgershot, cfx-gabz-carmeet, cfx-gabz-casino, cfx-gabz-catcafe, cfx-gabz-davispd, cfx-gabz-diner, cfx-gabz-esbltd, cfx-gabz-families, cfx-gabz-fleeca, cfx-gabz-harmony, cfx-gabz-haters, cfx-gabz-hayes, cfx-gabz-import, cfx-gabz-impound, cfx-gabz-koi, cfx-gabz-lamesapd, cfx-gabz-lostsc, cfx-gabz-mapdata, cfx-gabz-marabunta, cfx-gabz-mba, cfx-gabz-mirrorpark1, cfx-gabz-mirrorpark2, cfx-gabz-mrpd, cfx-gabz-pacificbank, cfx-gabz-paletobank, cfx-gabz-paletocamp, cfx-gabz-paletoliquor, cfx-gabz-paletopd, cfx-gabz-parkranger, cfx-gabz-pdm, cfx-gabz-pdprops, cfx-gabz-pillbox, cfx-gabz-pinkcage, cfx-gabz-pizzeria, cfx-gabz-ponsonbys, cfx-gabz-prison, cfx-gabz-sandypd, cfx-gabz-scenarios, cfx-gabz-studio, cfx-gabz-suburban, cfx-gabz-tattoo, cfx-gabz-townhall, cfx-gabz-tuners, cfx-gabz-vagos, cfx-gabz-vu, cfx-gabz-weedcamp, cfx-gabz-yachts, cfx-trclassic-package-1, chat, cw_department, cw_personals, cw-aimedic, cw-billboards, cw-diving, cw-elevators, cw-fishing, cw-garbage, cw-helicam, cw-hunting, cw-loadingscreen, cw-managementmenu, cw-mba, cw-moneywash, cw-mrpdscreens, cw-objectspawner, cw-oxyruns, cw-pdholster, cw-peds, cw-rentals, cw-scenes, cw-scoreboard, cw-scratching, cw-sit, cw-treesnorth, cw-treessouth, cw-vhdebug, dealer_map, dynasty8, FalconEye-Discord, FiniAC, FiniAP, fiv3devs_headquarters, fivem-freecam, fivem-map-skater, FMShared, gb-cigarettes, Glock19, hane_treybakery, HK-UMP, HK416, huntingrifle, illenium-appearance, interact-sound, jim-bakery, jim-beanmachine, jim-burgershot, jim-catcafe, jim-mechanic, jim-pizzathis, jim-plates, jim-tequilala, jim-vanillaunicorn, jixel-whitewidow, jr_cayo_mansion_expansion.pack, kael-japanese, kyros-weapon-pack-v3, la_linterna_barla, lb-lookupapp, lb-phone, lb-phoneprop, lev_apartment, loaf_lib, loq-better-downforce, loq-lib, m-map-Containers, M4A1BlockII, M110, mapmanager, megaphone, mhacking, monitor, mt-containers, MugShotBase64, mz-electrical, nxp_ambulance_central, nxp_davisfire, nxp_firedepartment, nxp_neko_nightclub, nxp_paletofire, nxp_usmarshal, object_gizmo, okokBanking, ox_doorlock, ox_inventory, ox_lib, ox_target, ox_weaponrepair, oxmysql, Paintball-Gun, pma-voice, PolyZone, progressbar, ps-buffs, ps-camera, ps-dispatch, ps-fuel, ps-housing, ps-hud, ps-mdt, ps-realtor, ps-ui, ps-zones, qb-adminmenu, qb-ambulancejob, qb-busjob, qb-cityhall, qb-commandbinding, qb-core, qb-drugs, qb-fitbit, qb-garages, qb-hotdogjob, qb-houserobbery, qb-input, qb-interior, qb-jewelery, qb-keyminigame, qb-lapraces, qb-lockpick, qb-management, qb-mechanicjob, qb-menu, qb-multicharacter, qb-newsjob, qb-paramedicbag, qb-pawnshop, qb-policejob, qb-printer, qb-prison, qb-radialmenu, qb-radio, qb-recyclejob, qb-scrapyard, qb-skillbar, qb-smallresources, qb-spawn, qb-storerobbery, qb-streetraces, qb-taxijob, qb-towjob, qb-truckerjob, qb-truckrobbery, qb-vehiclefailure, qb-vehiclekeys, qb-vehiclesales, qb-vehicleshop, qb-vineyard, qb-weathersync, qb-weed, qb-wheelstancer, qua-LaLinterna, rahe-boosting, rahe-hackingdevice, rcore_beerpong, rcore_bowling, rcore_casino, rcore_pool, rcore_radiocar, rcore_spray, rcore_spray_assets, rcore_whiteboard, rcore_whiteboard_scaleform, rfc_eastcustoms, rfc_los_santos_airport_fix, rfc_los_santos_customs, rfc_mapping_coke, rfc_mapping_meth, rfc_mapping_weed, rfc_motoclub_mlo, rfc_paleto_medical_center, rfc_redline_tuner_shop, rfc_redline_vip_showroom, rfc_western_motorcycles, safecracker, screenshot-basic, scully_emotemenu, sd-blackout, SigSauerP226, spawnmanager, ss_blackmarket, ss_crypto, ss_minimap, ss_misc, ss_radiojammer, tequila_music, ultra-voltlab, um-idcard, vivum-billing, webpack, western_cayocave, western_oilrig, WhiteWidow, wk_wars2x, wlvf-k9, wlvf-k9ped, wlvf-nekoclub, wlvf-payments, wlvf-sirenpack-40, wlvf-tintmeter, xradio, yarn\n",
      "Game type: Freeroam\n",
      "Map: fivem-map-skater\n",
      "OneSync: enabled\n",
      "Language: English (United States)\n",
      "Tags: roleplay, rp, serious, whitelist, serious rp, seriousrp, life, twitch\n",
      "Discord: discord.gg/caliworld\n",
      "Website: discord.gg/caliworld\n",
      "DLC level: 2699\n",
      "sv_pureLevel: 1\n",
      "can_review: true\n",
      "Owner: CaliWorldLLC\n",
      "https://servers.fivem.net/servers/detail/zgeyq5\n"
     ]
    },
    {
     "name": "stdout",
     "output_type": "stream",
     "text": [
      "['', 'https://servers.fivem.net/servers/detail/z64dld', '', 'Freeroam', 'enabled', 'fivem-map-skater', 'English (United States)', 'roleplay, rp, serious, whitelist, serious rp, seriousrp, life, twitch', '2699', '', 'CaliWorldLLC', '', '', ['17mov_BuilderJob', '17mov_TreasureHunter', '17mov_WindowCleaning', '420H-SOA-MLO', 'ak47_qb_usabledrugs', 'AKS74U', 'ap-court', 'ap-documents', 'apilogs', 'As-Val', 'basic-gamemode', 'bcs_questionare', 'bob74_ipl', 'cali_carsounds', 'cali_cayoperico', 'cali_godzwheelz', 'cali_owners', 'cali_police_tires', 'caliwrldeup1', 'caliwrldeup2', 'caliwrldeup3', 'CarLabsNRSSub', 'caster_erfet_wheels', 'cayo_bridge', 'cc-chat', 'cfx-gabz-247', 'cfx-gabz-altruists', 'cfx-gabz-ammunation', 'cfx-gabz-arcade', 'cfx-gabz-atom', 'cfx-gabz-aztecas', 'cfx-gabz-bahama', 'cfx-gabz-ballas', 'cfx-gabz-barber', 'cfx-gabz-beanmachine', 'cfx-gabz-binco', 'cfx-gabz-bowling', 'cfx-gabz-burgershot', 'cfx-gabz-carmeet', 'cfx-gabz-casino', 'cfx-gabz-catcafe', 'cfx-gabz-davispd', 'cfx-gabz-diner', 'cfx-gabz-esbltd', 'cfx-gabz-families', 'cfx-gabz-fleeca', 'cfx-gabz-harmony', 'cfx-gabz-haters', 'cfx-gabz-hayes', 'cfx-gabz-import', 'cfx-gabz-impound', 'cfx-gabz-koi', 'cfx-gabz-lamesapd', 'cfx-gabz-lostsc', 'cfx-gabz-mapdata', 'cfx-gabz-marabunta', 'cfx-gabz-mba', 'cfx-gabz-mirrorpark1', 'cfx-gabz-mirrorpark2', 'cfx-gabz-mrpd', 'cfx-gabz-pacificbank', 'cfx-gabz-paletobank', 'cfx-gabz-paletocamp', 'cfx-gabz-paletoliquor', 'cfx-gabz-paletopd', 'cfx-gabz-parkranger', 'cfx-gabz-pdm', 'cfx-gabz-pdprops', 'cfx-gabz-pillbox', 'cfx-gabz-pinkcage', 'cfx-gabz-pizzeria', 'cfx-gabz-ponsonbys', 'cfx-gabz-prison', 'cfx-gabz-sandypd', 'cfx-gabz-scenarios', 'cfx-gabz-studio', 'cfx-gabz-suburban', 'cfx-gabz-tattoo', 'cfx-gabz-townhall', 'cfx-gabz-tuners', 'cfx-gabz-vagos', 'cfx-gabz-vu', 'cfx-gabz-weedcamp', 'cfx-gabz-yachts', 'cfx-trclassic-package-1', 'chat', 'cw_department', 'cw_personals', 'cw-aimedic', 'cw-billboards', 'cw-diving', 'cw-elevators', 'cw-fishing', 'cw-garbage', 'cw-helicam', 'cw-hunting', 'cw-loadingscreen', 'cw-managementmenu', 'cw-mba', 'cw-moneywash', 'cw-mrpdscreens', 'cw-objectspawner', 'cw-oxyruns', 'cw-pdholster', 'cw-peds', 'cw-rentals', 'cw-scenes', 'cw-scoreboard', 'cw-scratching', 'cw-sit', 'cw-treesnorth', 'cw-treessouth', 'cw-vhdebug', 'dealer_map', 'dynasty8', 'FalconEye-Discord', 'FiniAC', 'FiniAP', 'fiv3devs_headquarters', 'fivem-freecam', 'fivem-map-skater', 'FMShared', 'gb-cigarettes', 'Glock19', 'hane_treybakery', 'HK-UMP', 'HK416', 'huntingrifle', 'illenium-appearance', 'interact-sound', 'jim-bakery', 'jim-beanmachine', 'jim-burgershot', 'jim-catcafe', 'jim-mechanic', 'jim-pizzathis', 'jim-plates', 'jim-tequilala', 'jim-vanillaunicorn', 'jixel-whitewidow', 'jr_cayo_mansion_expansion.pack', 'kael-japanese', 'kyros-weapon-pack-v3', 'la_linterna_barla', 'lb-lookupapp', 'lb-phone', 'lb-phoneprop', 'lev_apartment', 'loaf_lib', 'loq-better-downforce', 'loq-lib', 'm-map-Containers', 'M4A1BlockII', 'M110', 'mapmanager', 'megaphone', 'mhacking', 'monitor', 'mt-containers', 'MugShotBase64', 'mz-electrical', 'nxp_ambulance_central', 'nxp_davisfire', 'nxp_firedepartment', 'nxp_neko_nightclub', 'nxp_paletofire', 'nxp_usmarshal', 'object_gizmo', 'okokBanking', 'ox_doorlock', 'ox_inventory', 'ox_lib', 'ox_target', 'ox_weaponrepair', 'oxmysql', 'Paintball-Gun', 'pma-voice', 'PolyZone', 'progressbar', 'ps-buffs', 'ps-camera', 'ps-dispatch', 'ps-fuel', 'ps-housing', 'ps-hud', 'ps-mdt', 'ps-realtor', 'ps-ui', 'ps-zones', 'qb-adminmenu', 'qb-ambulancejob', 'qb-busjob', 'qb-cityhall', 'qb-commandbinding', 'qb-core', 'qb-drugs', 'qb-fitbit', 'qb-garages', 'qb-hotdogjob', 'qb-houserobbery', 'qb-input', 'qb-interior', 'qb-jewelery', 'qb-keyminigame', 'qb-lapraces', 'qb-lockpick', 'qb-management', 'qb-mechanicjob', 'qb-menu', 'qb-multicharacter', 'qb-newsjob', 'qb-paramedicbag', 'qb-pawnshop', 'qb-policejob', 'qb-printer', 'qb-prison', 'qb-radialmenu', 'qb-radio', 'qb-recyclejob', 'qb-scrapyard', 'qb-skillbar', 'qb-smallresources', 'qb-spawn', 'qb-storerobbery', 'qb-streetraces', 'qb-taxijob', 'qb-towjob', 'qb-truckerjob', 'qb-truckrobbery', 'qb-vehiclefailure', 'qb-vehiclekeys', 'qb-vehiclesales', 'qb-vehicleshop', 'qb-vineyard', 'qb-weathersync', 'qb-weed', 'qb-wheelstancer', 'qua-LaLinterna', 'rahe-boosting', 'rahe-hackingdevice', 'rcore_beerpong', 'rcore_bowling', 'rcore_casino', 'rcore_pool', 'rcore_radiocar', 'rcore_spray', 'rcore_spray_assets', 'rcore_whiteboard', 'rcore_whiteboard_scaleform', 'rfc_eastcustoms', 'rfc_los_santos_airport_fix', 'rfc_los_santos_customs', 'rfc_mapping_coke', 'rfc_mapping_meth', 'rfc_mapping_weed', 'rfc_motoclub_mlo', 'rfc_paleto_medical_center', 'rfc_redline_tuner_shop', 'rfc_redline_vip_showroom', 'rfc_western_motorcycles', 'safecracker', 'screenshot-basic', 'scully_emotemenu', 'sd-blackout', 'SigSauerP226', 'spawnmanager', 'ss_blackmarket', 'ss_crypto', 'ss_minimap', 'ss_misc', 'ss_radiojammer', 'tequila_music', 'ultra-voltlab', 'um-idcard', 'vivum-billing', 'webpack', 'western_cayocave', 'western_oilrig', 'WhiteWidow', 'wk_wars2x', 'wlvf-k9', 'wlvf-k9ped', 'wlvf-nekoclub', 'wlvf-payments', 'wlvf-sirenpack-40', 'wlvf-tintmeter', 'xradio', 'yarn']]\n",
      "The last index is: 12\n",
      "Scraping server 13, id is zgeyq5\n",
      "zgeyq5\n"
     ]
    },
    {
     "name": "stderr",
     "output_type": "stream",
     "text": [
      "Server Name: Neon Nights Roleplay\n"
     ]
    },
    {
     "name": "stdout",
     "output_type": "stream",
     "text": [
      "%%%%%%%%%%%%%%%%%%%%%%%%%%%%%%%%%%%%%%%%%%%%%%%%%%%%%%%%%%%%%%%%%\n",
      "Neon Nights Roleplay\n",
      "%%%%%%%%%%%%%%%%%%%%%%%%%%%%%%%%%%%%%%%%%%%%%%%%%%%%%%%%%%%%%%%%%\n"
     ]
    },
    {
     "name": "stderr",
     "output_type": "stream",
     "text": [
      "Resources: 17silvrb, 18Expedition, 20gtcmL, 981BFR, 1966_toronado, 1970_Dodge_Challenger_RT, 1970_ford_mustang, 1970dodgecharger, 1984_ford_4150, 1991_ferraru_testarossa_512, 2010_Ferrari_458_Italia, 2013_Toyota_GT86, 2015_dodgegrandcaravan, 2016_chevrolet_camaroSS, 2018_ford_mustanggt, 2018_kawasakininja_zx14r, 2018taurusbb, 2018taurusrb, 2019_audi_rs4_quattro, 2019_Mercedes-Benz_G63, 2019_toyota4runner_trdpro, 2020_Audi_SQ7, 2020_Chevrolet_C8_Red_And_Blue, 2020_Toyota_Supra_GR, 2020chargerLeo, 2021_Brabus_800_Maybach_GLS, 2021_Mercedes_Benz_A45_AMG, 2021_Shelby_F150_CrewCab_4x4, 2021audi_rs6r_abt, 2021lexus_is350_fsport, 2022_cadillac_ct5_v_blackwing, 2022_lambo_countach_tpi8004, 2022_toyota_camry_hybrid, 2023_Lamborghini_Revuelto, 2023_Lexus_IS350_F-Sport, 2024_Bentley_Batur, 2024_RTR_Ford_Mustang, a359, airbus, AK-47, ak4y-advancedFishing, allinonepack, amga63, amgonewb, ammunationjob, Animals, aq02coyotef150, aq40benw12tt, aqm275amg, AR-15, audirs4milltekeng, avtr, Badger_Discord_API, baseevents, basic-gamemode, BEANBAGSHOTGUN, beanmachine2, belts, bennys, BikeHire, binstash, blackmarket, bmw_e92_bagged, Bmw_m4_bodykit, BMW_M5_E39, Bmw_m7, BMW_S1000_RR_2014, BMW_X5_RK, bmwbike, bmwm4, bmwm4g82performance, bmwx6, bnr34ffeng, bob74_ipl, boii-pausemenu, Brabus800, Bugatti_LA_Voiture_Noire, burgershot, bus_interior, Carbomb, carjack, carry, casino, casino-blackjackKGV, casino-blackjackRT98, casino-insidetrack, casino-luckywheel, casino-poker, casino-roulette, casino-slots, casino-walls, casinoUi, catcafe, cayoperico, cfx-gabz-carmeet, cfx-gabz-harmony, cfx-gabz-haters, cfx-gabz-mapdata, cfx-gabz-mirrorpark1, cfx-gabz-mrpd, cfx-gabz-ottos, cfx-gabz-paleto-247, cfx-gabz-paletomarket, cfx-gabz-parkranger, cfx-gabz-prison, cfx-gabz-records, cfx-gabz-sandypd, cfx-gabz-studio, cfx-gabz-tuners, cfx-gabz-vu, chat, chevroletlt4, ChevroletTahoe, chevy_caiprice, choihuracan, cl_apt, cl_armwrestle, cl_atmrobbery, cl_Beggar, cl_blips, cl_Chat, cl_chickenjob, cl_clamps, cl_consumables, cl_Contract, cl_electrician, cl_elevator, cl_gardencleaner, cl_hunting, cl_irishpubjob, cl_jewelry, cl_lumberjack, cl_map, cl_mechanicv, cl_metaldetecting, cl_multijob, cl_nightclubs, cl_pilotjob, cl_pizzajob, cl_sling, cl_warehouserobbery, cl-projector, cl-wheeldamage, clawmachine, connectqueue, construction, coolbeans, cryptomining, Cupra_formenter, dealer_map, Demon_Charger_hellcat, desert_mansion, DesertEagle, DiscordAcePerms, DiscordChatRoles, DLCiplLoader, dodgecharger2, dodgechargerems, dodgejudgegto, dodgeramtrx, dominocar, dumpster, EasyAdmin, em21durango, emperor, Enhanced_Crouch, enhancedammunation, enhancedfleeca, Esc-GuideBook, eup-stream, eup-ui, Explorer, f113, farming, femalebelts, Ferrari_488_Pista_2019, Ferrari_812_2018, fightclub, fivem-freecam, fivem-map-hipster, flagegyptian, flywheels, FN%20FNX45, Ford_F450, FordExplorerLSPD, g55mercedez, gabz_franklin, gabz_hub, gangbase8, gasdelivery, GiftBox, givecash, Glock17, grandma, grove2, gym, hayesauto, headbag, hood_details, hoodsoloty, house, Hummer_EV, huntingrifle, huntingstore, Hyundai_Elantra_N_2022, ifruit_store, int_jdmhub, interact-sound, irishpub, jewelrystores, jim-djbooth, jim-mechanic, jim-mining, jim-payments, jixel-bbq, JMbearcat, kc135bm36, KG_FESTIVALPROPS, knockout, Koenigsegg_CC850, La_Fuente_Blanca, lafitness, Lambo_Urus, lebflag, lebshoes, LegacyFuel, legcharger, lexus, Lexus_lc500_2021, lg18bmwm4, lg51uruscapri, lg97lamctch, limeysjob, loadingscreen, loaf-paintball, LosSantosCustoms, LostMcCamp, lotto, LSPD, LSPD_GTR_TEU, lspdpack, lspdpackhp, lvc, M3_F80_lspd, m3e46animated, M4, M9A3, M70, M1911, MAC-10, mansion1, map-sat, mapmanager, matus_pizza_ls, Maza_MX5_ND, mazdamx5, mbt_minigames, mclaren, Mclaren600LT, mclarenp1police, Megaphone, menuv, Mercedes_Benz_G55_AMG, Mercedes_C63S_Coupe, Mercedes-Benz_E500, Mercedes-Benz_S65_AMG_W220, mercedezc63, mercm177, metro, mhacking, MilosBasketball, MilosShowers, MilosSkatingRing, MilosSLGC, Mitsubishi_Lancer_Evolution, mitsubishilancer, MK14, modern_wood_house_1a, monitor, Mossberg500, motels, mrf_hookers, mz-skills, NativeUI, nissan, Nissan_300ZX_Z32, nissan_370z_drift, NissanGTRLB, oilwell, ox_lib, oxmysql, pacific_villa, pacificbank, PacificBluffs, paintballmap, paleto_garage, parkingmeter, ParkingV, Pawnshop, pd_calvacade, pdm, performance, pharmacy3, PharmacyClothingShop, PharmacyLspd, pillbox, planeruns, pma-voice, polmav_fix, PolyZone, porsche911, porschecaymangt4, postalop, progressbar, projectoneamg, ps-dispatch, ps-housing, ps-mdt, ps-realtor, ps-ui, qb-adminmenu, qb-ambulancejob, qb-atms, qb-banking, qb-bankrobbery, qb-busjob, qb-car-music, qb-cityhall, qb-clothing, qb-cokelab, qb-commandbinding, qb-core, qb-crypto, qb-diving, qb-doorlock, qb-drugs, qb-explosivevest, qb-fitbit, qb-garages, qb-garbagejob, qb-hotdogjob, qb-houserobbery, qb-hud, qb-input, qb-interior, qb-inventory, qb-keyminigame, qb-lapraces, qb-laundrette, qb-loading, qb-lockpick, qb-management, qb-menu, qb-methlab, qb-multicharacter, qb-newsjob, qb-pawnshop, qb-phone, qb-policejob, qb-prison, qb-radialmenu, qb-radio, qb-recyclejob, qb-scoreboard, qb-scrapyard, qb-shops, qb-skillbar, qb-smallresources, qb-spawn, qb-storerobbery, qb-streetraces, qb-target, qb-taxijob, qb-towjob, qb-traphouse, qb-truckerjob, qb-truckrobbery, qb-tunerchip, qb-vehiclefailure, qb-vehiclekeys, qb-vehiclesales, qb-vehicleshop, qb-vineyard, qb-weapons, qb-weathersync, qb-weed, qb-weedlab, r34rock, r34sound, r34ss, RageUI, rbcv11, realestate, Remington870, rental, rescuehelicopter, retextures, roadsofeurope, robparking, RollerSkating, roperescue, rpemotes, safecracker, sandy_gas_station, sandyhospital, sandymotel, scammerchain, SCAR-H, scenery, screenshot-basic, sellped, sherrifpaleto, Shiv, shops, Silverado, sit, skylinehouse, spawnmanager, spike_limeys, spikestrips, stashes, storeextras, strawberry_garden, subrzrb, supra, ta006bmws65, ta488f154, taaud40v8, tacojob, tacoma19, tacoochill, Tahoe, tattoorework, tattooshop, tc911gt4, telescope, tequilala, tireslash, tizx_glc4matic, toilet, townhall, Toyota_GR_Yaris_XP210_2020, Toyota_GR86_2022, toyota_ls400_gladiator, toyotagr86, trhawk, tsunami, tsunamisbar, uwujob, UZI, ValorPack10ChargerBlue, ValorPack13TahoeBlue, ValorPack16ExplorerBlue, vbh, veyronbugatii, vitesse, vujob, Walmartsandy, Watermark, webpack, weedlab, weedpicking, white_widow_cannabis_cafe, x5m, x3911classic, xmax300, xsound, yarn, zlexif-pawnshop\n",
      "Game type: Freeroam\n",
      "Map: fivem-map-hipster\n",
      "OneSync: enabled\n",
      "Language: English (United States)\n",
      "Tags: default, serious, qbcore, qb-core, rp, roleplay, police, drugs, ems, cars, custom, gangs, jobs, economy, realistic\n",
      "DEV: Ahmad / Zlex\n",
      "DLC level: 2802\n",
      "sv_pureLevel: 0\n",
      "can_review: true\n",
      "Owner: CentralCeesBF_Zlex\n",
      "https://servers.fivem.net/servers/detail/l6ym7o\n"
     ]
    },
    {
     "name": "stdout",
     "output_type": "stream",
     "text": [
      "['Neon Nights Roleplay', 'https://servers.fivem.net/servers/detail/zgeyq5', '', 'Freeroam', 'enabled', 'fivem-map-hipster', 'English (United States)', 'default, serious, qbcore, qb-core, rp, roleplay, police, drugs, ems, cars, custom, gangs, jobs, economy, realistic', '2802', '', 'CentralCeesBF_Zlex', '', '', ['17silvrb', '18Expedition', '20gtcmL', '981BFR', '1966_toronado', '1970_Dodge_Challenger_RT', '1970_ford_mustang', '1970dodgecharger', '1984_ford_4150', '1991_ferraru_testarossa_512', '2010_Ferrari_458_Italia', '2013_Toyota_GT86', '2015_dodgegrandcaravan', '2016_chevrolet_camaroSS', '2018_ford_mustanggt', '2018_kawasakininja_zx14r', '2018taurusbb', '2018taurusrb', '2019_audi_rs4_quattro', '2019_Mercedes-Benz_G63', '2019_toyota4runner_trdpro', '2020_Audi_SQ7', '2020_Chevrolet_C8_Red_And_Blue', '2020_Toyota_Supra_GR', '2020chargerLeo', '2021_Brabus_800_Maybach_GLS', '2021_Mercedes_Benz_A45_AMG', '2021_Shelby_F150_CrewCab_4x4', '2021audi_rs6r_abt', '2021lexus_is350_fsport', '2022_cadillac_ct5_v_blackwing', '2022_lambo_countach_tpi8004', '2022_toyota_camry_hybrid', '2023_Lamborghini_Revuelto', '2023_Lexus_IS350_F-Sport', '2024_Bentley_Batur', '2024_RTR_Ford_Mustang', 'a359', 'airbus', 'AK-47', 'ak4y-advancedFishing', 'allinonepack', 'amga63', 'amgonewb', 'ammunationjob', 'Animals', 'aq02coyotef150', 'aq40benw12tt', 'aqm275amg', 'AR-15', 'audirs4milltekeng', 'avtr', 'Badger_Discord_API', 'baseevents', 'basic-gamemode', 'BEANBAGSHOTGUN', 'beanmachine2', 'belts', 'bennys', 'BikeHire', 'binstash', 'blackmarket', 'bmw_e92_bagged', 'Bmw_m4_bodykit', 'BMW_M5_E39', 'Bmw_m7', 'BMW_S1000_RR_2014', 'BMW_X5_RK', 'bmwbike', 'bmwm4', 'bmwm4g82performance', 'bmwx6', 'bnr34ffeng', 'bob74_ipl', 'boii-pausemenu', 'Brabus800', 'Bugatti_LA_Voiture_Noire', 'burgershot', 'bus_interior', 'Carbomb', 'carjack', 'carry', 'casino', 'casino-blackjackKGV', 'casino-blackjackRT98', 'casino-insidetrack', 'casino-luckywheel', 'casino-poker', 'casino-roulette', 'casino-slots', 'casino-walls', 'casinoUi', 'catcafe', 'cayoperico', 'cfx-gabz-carmeet', 'cfx-gabz-harmony', 'cfx-gabz-haters', 'cfx-gabz-mapdata', 'cfx-gabz-mirrorpark1', 'cfx-gabz-mrpd', 'cfx-gabz-ottos', 'cfx-gabz-paleto-247', 'cfx-gabz-paletomarket', 'cfx-gabz-parkranger', 'cfx-gabz-prison', 'cfx-gabz-records', 'cfx-gabz-sandypd', 'cfx-gabz-studio', 'cfx-gabz-tuners', 'cfx-gabz-vu', 'chat', 'chevroletlt4', 'ChevroletTahoe', 'chevy_caiprice', 'choihuracan', 'cl_apt', 'cl_armwrestle', 'cl_atmrobbery', 'cl_Beggar', 'cl_blips', 'cl_Chat', 'cl_chickenjob', 'cl_clamps', 'cl_consumables', 'cl_Contract', 'cl_electrician', 'cl_elevator', 'cl_gardencleaner', 'cl_hunting', 'cl_irishpubjob', 'cl_jewelry', 'cl_lumberjack', 'cl_map', 'cl_mechanicv', 'cl_metaldetecting', 'cl_multijob', 'cl_nightclubs', 'cl_pilotjob', 'cl_pizzajob', 'cl_sling', 'cl_warehouserobbery', 'cl-projector', 'cl-wheeldamage', 'clawmachine', 'connectqueue', 'construction', 'coolbeans', 'cryptomining', 'Cupra_formenter', 'dealer_map', 'Demon_Charger_hellcat', 'desert_mansion', 'DesertEagle', 'DiscordAcePerms', 'DiscordChatRoles', 'DLCiplLoader', 'dodgecharger2', 'dodgechargerems', 'dodgejudgegto', 'dodgeramtrx', 'dominocar', 'dumpster', 'EasyAdmin', 'em21durango', 'emperor', 'Enhanced_Crouch', 'enhancedammunation', 'enhancedfleeca', 'Esc-GuideBook', 'eup-stream', 'eup-ui', 'Explorer', 'f113', 'farming', 'femalebelts', 'Ferrari_488_Pista_2019', 'Ferrari_812_2018', 'fightclub', 'fivem-freecam', 'fivem-map-hipster', 'flagegyptian', 'flywheels', 'FN%20FNX45', 'Ford_F450', 'FordExplorerLSPD', 'g55mercedez', 'gabz_franklin', 'gabz_hub', 'gangbase8', 'gasdelivery', 'GiftBox', 'givecash', 'Glock17', 'grandma', 'grove2', 'gym', 'hayesauto', 'headbag', 'hood_details', 'hoodsoloty', 'house', 'Hummer_EV', 'huntingrifle', 'huntingstore', 'Hyundai_Elantra_N_2022', 'ifruit_store', 'int_jdmhub', 'interact-sound', 'irishpub', 'jewelrystores', 'jim-djbooth', 'jim-mechanic', 'jim-mining', 'jim-payments', 'jixel-bbq', 'JMbearcat', 'kc135bm36', 'KG_FESTIVALPROPS', 'knockout', 'Koenigsegg_CC850', 'La_Fuente_Blanca', 'lafitness', 'Lambo_Urus', 'lebflag', 'lebshoes', 'LegacyFuel', 'legcharger', 'lexus', 'Lexus_lc500_2021', 'lg18bmwm4', 'lg51uruscapri', 'lg97lamctch', 'limeysjob', 'loadingscreen', 'loaf-paintball', 'LosSantosCustoms', 'LostMcCamp', 'lotto', 'LSPD', 'LSPD_GTR_TEU', 'lspdpack', 'lspdpackhp', 'lvc', 'M3_F80_lspd', 'm3e46animated', 'M4', 'M9A3', 'M70', 'M1911', 'MAC-10', 'mansion1', 'map-sat', 'mapmanager', 'matus_pizza_ls', 'Maza_MX5_ND', 'mazdamx5', 'mbt_minigames', 'mclaren', 'Mclaren600LT', 'mclarenp1police', 'Megaphone', 'menuv', 'Mercedes_Benz_G55_AMG', 'Mercedes_C63S_Coupe', 'Mercedes-Benz_E500', 'Mercedes-Benz_S65_AMG_W220', 'mercedezc63', 'mercm177', 'metro', 'mhacking', 'MilosBasketball', 'MilosShowers', 'MilosSkatingRing', 'MilosSLGC', 'Mitsubishi_Lancer_Evolution', 'mitsubishilancer', 'MK14', 'modern_wood_house_1a', 'monitor', 'Mossberg500', 'motels', 'mrf_hookers', 'mz-skills', 'NativeUI', 'nissan', 'Nissan_300ZX_Z32', 'nissan_370z_drift', 'NissanGTRLB', 'oilwell', 'ox_lib', 'oxmysql', 'pacific_villa', 'pacificbank', 'PacificBluffs', 'paintballmap', 'paleto_garage', 'parkingmeter', 'ParkingV', 'Pawnshop', 'pd_calvacade', 'pdm', 'performance', 'pharmacy3', 'PharmacyClothingShop', 'PharmacyLspd', 'pillbox', 'planeruns', 'pma-voice', 'polmav_fix', 'PolyZone', 'porsche911', 'porschecaymangt4', 'postalop', 'progressbar', 'projectoneamg', 'ps-dispatch', 'ps-housing', 'ps-mdt', 'ps-realtor', 'ps-ui', 'qb-adminmenu', 'qb-ambulancejob', 'qb-atms', 'qb-banking', 'qb-bankrobbery', 'qb-busjob', 'qb-car-music', 'qb-cityhall', 'qb-clothing', 'qb-cokelab', 'qb-commandbinding', 'qb-core', 'qb-crypto', 'qb-diving', 'qb-doorlock', 'qb-drugs', 'qb-explosivevest', 'qb-fitbit', 'qb-garages', 'qb-garbagejob', 'qb-hotdogjob', 'qb-houserobbery', 'qb-hud', 'qb-input', 'qb-interior', 'qb-inventory', 'qb-keyminigame', 'qb-lapraces', 'qb-laundrette', 'qb-loading', 'qb-lockpick', 'qb-management', 'qb-menu', 'qb-methlab', 'qb-multicharacter', 'qb-newsjob', 'qb-pawnshop', 'qb-phone', 'qb-policejob', 'qb-prison', 'qb-radialmenu', 'qb-radio', 'qb-recyclejob', 'qb-scoreboard', 'qb-scrapyard', 'qb-shops', 'qb-skillbar', 'qb-smallresources', 'qb-spawn', 'qb-storerobbery', 'qb-streetraces', 'qb-target', 'qb-taxijob', 'qb-towjob', 'qb-traphouse', 'qb-truckerjob', 'qb-truckrobbery', 'qb-tunerchip', 'qb-vehiclefailure', 'qb-vehiclekeys', 'qb-vehiclesales', 'qb-vehicleshop', 'qb-vineyard', 'qb-weapons', 'qb-weathersync', 'qb-weed', 'qb-weedlab', 'r34rock', 'r34sound', 'r34ss', 'RageUI', 'rbcv11', 'realestate', 'Remington870', 'rental', 'rescuehelicopter', 'retextures', 'roadsofeurope', 'robparking', 'RollerSkating', 'roperescue', 'rpemotes', 'safecracker', 'sandy_gas_station', 'sandyhospital', 'sandymotel', 'scammerchain', 'SCAR-H', 'scenery', 'screenshot-basic', 'sellped', 'sherrifpaleto', 'Shiv', 'shops', 'Silverado', 'sit', 'skylinehouse', 'spawnmanager', 'spike_limeys', 'spikestrips', 'stashes', 'storeextras', 'strawberry_garden', 'subrzrb', 'supra', 'ta006bmws65', 'ta488f154', 'taaud40v8', 'tacojob', 'tacoma19', 'tacoochill', 'Tahoe', 'tattoorework', 'tattooshop', 'tc911gt4', 'telescope', 'tequilala', 'tireslash', 'tizx_glc4matic', 'toilet', 'townhall', 'Toyota_GR_Yaris_XP210_2020', 'Toyota_GR86_2022', 'toyota_ls400_gladiator', 'toyotagr86', 'trhawk', 'tsunami', 'tsunamisbar', 'uwujob', 'UZI', 'ValorPack10ChargerBlue', 'ValorPack13TahoeBlue', 'ValorPack16ExplorerBlue', 'vbh', 'veyronbugatii', 'vitesse', 'vujob', 'Walmartsandy', 'Watermark', 'webpack', 'weedlab', 'weedpicking', 'white_widow_cannabis_cafe', 'x5m', 'x3911classic', 'xmax300', 'xsound', 'yarn', 'zlexif-pawnshop']]\n",
      "The last index is: 13\n",
      "Scraping server 14, id is l6ym7o\n",
      "l6ym7o\n"
     ]
    },
    {
     "name": "stderr",
     "output_type": "stream",
     "text": [
      "Resources: 2f2f, 3dme, 17mov_SpeechRecognition, 124spider, 488gtb, 2005POLO, 2023cars_pack, ab_lightbulbs, ace_blackmarket, addpeds, ads, advanced_drugs_creator, alfapack, ArianaGrande, aston_jag_lex_pack, astudios-pocketbmx, async, audipack, av_bobcat, av_trainheist, b2k-minimap, bakkies, baseevents, bb-dices, bcs_housing, bcs_licensemanager, billing_ui, blips, bmwpack, bob74_ipl, boostinghack, brofx_mansion_18, brofx_mansion06, brunx_casa_village, bt-polyzone, bxe_cookies, bzzz_addon-props, bzzz_cocaplant, bzzz_food_dessert, bzzz_foodpack, cayoipl, cd_carhud, cd_dispatch, cd_drawtextui, cd_easytime, cd_garage, cd_garageshell, cd_radar, cfx_gn_bs_food_props, cfx-gabz-247, cfx-gabz-altruists, cfx-gabz-arcade, cfx-gabz-bahama, cfx-gabz-barber, cfx-gabz-bennys, cfx-gabz-binco, cfx-gabz-catcafe, cfx-gabz-diner, cfx-gabz-esbltd, cfx-gabz-firedept, cfx-gabz-haters, cfx-gabz-impound, cfx-gabz-mapdata, cfx-gabz-mrpd, cfx-gabz-paletobank, cfx-gabz-paletoliquor, cfx-gabz-paletopd, cfx-gabz-pdm, cfx-gabz-pdprops, cfx-gabz-pinkcage, cfx-gabz-pizzeria, cfx-gabz-ponsonbys, cfx-gabz-prison, cfx-gabz-sandypd, cfx-gabz-scenarios, cfx-gabz-suburban, cfx-gabz-tattoo, cfx-gabz-townhall, cfx-gabz-vagos, cfx-gabz-vbmarket, cfx-gabz-yachts, cfx-ies-dp-pharmacy, chat, chat-theme-gtao, chevpack, club, cokelab, core_crafting, core_vehicle, cron, crutches, ct_dragstrip, custom_sound, CustomPlate, datacrack, dc-watergun, dealership, devcore_smokev2, digitalden, dip_pharmacyy, dip_store, dirk_npc, Dirk_Prop_Fix, discord_perms, DiscordRP, DiscordWhitelist, Documents, dodgepack, don-trafficlights, doors_creator, dpclothing, dpscenes, dragpack, drc_houserobbery, driftpack, drug_maps, DS-Utility, duxstin_drug, dx-paycheck, dynamic_repairkit, EasyAdmin, electric-skateboard, elegyx, ElevateDrugs, emergencypack, es_extended, esx_addonaccount, esx_addoninventory, esx_advancedhospital, esx_allowlist, esx_banking, esx_barbershop, esx_basicneeds, esx_context, esx_datastore, esx_extraitems2, esx_fighting, esx_garbagecrew_v2, esx_identity, esx_joblisting, esx_jobs, esx_menu_default, esx_menu_dialog, esx_menu_list, esx_multicharacter, esx_mythic_hospital, esx_nocarjack, esx_notify, esx_optionalneeds, esx_policedog, esx_progressbar, esx_rpchat, esx_scuba, esx_secondhandvehicleV2, esx_service, esx_showcommands, esx_skin, esx_society, esx_status, esx_strippers, esx_textui, esx_truckshop, esx_vehicle_names, esx_vehicleshop, ev-hud, evy_shootingrange, female_textures, ferraripack, fivem-drilling, FiveM-vote-script-master, flashBadge, fordpack, ForestsOfSA_S, fuenf_carwash, Gabz_Casino, gabz_pillbox_hospital_blue, gabz_pillbox_hospital_v2, garage, gigz_karting, gilo-helicopter, gks_gotur, gks_racing, gksphone, HD_Cooking, helicopter, hid_weed_lab, hondapack, howdy-hackminigame, httpmanager, hunterXhunter, hypnonema, icon_menu, idrp_pizzathis_props, idrp_uwu_props, inferno-vehicle-attachment, infinity_mlo, InfinityVinewoodSign, int_paleto_pills, interactsound, inventoryprops, ipl_nightclub, JD_logsV3, jim-mining, jobs_creator, K4MB1startshells, k9_police, karts, kaves_vangelicorobbery, Kavocat, knjgh_pizzaslices_props, kq_realoffroad, kuz_towing, kypo-drug-effect, lambopack, LegacyFuel, levii-platechanger, loadingscreen, loaf_lib, loaf_spikestrips, lockpick, LosSantosCustoms, lraft2, LSCustomsFull, Luxury-auto, lvc, male_textures, map_icons, mapdata, mbt_malisling, mbt_meta_clothes, mclarenpack, megaphone, menu, mercpack, merged_furniture, meta_libs, methlabs, methlabsdw, metrohelp, mhacking, mitspack, mka-lasers, monitor, mp_f_freemode_01_mp_f_app_01, mp_f_freemode_01_mp_f_bpp_01, mp_f_freemode_01_mp_f_cpp_01, mp_f_freemode_01_mp_f_dpp_01, mp_f_freemode_01_mp_f_epp_01, mp_m_freemode_01_mp_m_app_01, mp_m_freemode_01_mp_m_bpp_01, mp_m_freemode_01_mp_m_cpp_01, mpw_food_pack_1, mpw_food_pack_2, mpw_sweettreats, msk_aimedic, msk_core, murm_dec_pack, MusicEverywhere, musicmanager, myImpound, mythic_notify, mythic_progbar, NativeUI, nekocafe, nissanpack, noaircontrol, np-burgershot, np-tuners, nv_Scoreboard, NW_fishing, offroadbikes1, offroadpack, OT_hideintrunk, oulsen_satmap, ox_inventory, ox_lib, ox_target, oxmysql, pablito_elburrocokelab, pac, pac_os, patoche_free_cardealer, patoche_tiny_garage, pd-safe, pdev-moneywash, pickle_rental, pickle_slapboxing, pickle_throwables, plt_delivery, plt_lumberjack, plt_lumberjack-streams, plt_plants, pma-voice, pNotify, pnt_bulletProofVest, policehelp, PolyZone, porschepack, progressBars, ps-multijob, punto, qAFK, QuagsSpeedControl, qubit-drivingshake, r14-evidence, RadiantRP_Animations, RageUI, rahe-boosting, rahe-hackingdevice, raid_carmenu, rcore_arcade, rcore_casino, rcore_clothes, rcore_gangs, rcore_prison, rcore_spray, rcore_spray_assets, RealAITraffic, RealisticVehicleFailure, redutzu-mdt-esx, refuelingnozzle, replacecars, rf21_vehreg, rj-gunrepairs, rklrestaurant, roadbikes, rob_atm, rob_store_atm, robberies_creator, rojo_trinity_billboard, rollcoal, rpemotes, rprogress, screenshot-basic, scuba_assets, shark-leotools, sit, skate, skills, skinchanger, sloth_speedcam, spawnmanager, sqz_duty, StreetRaces, subpack, t1ger_mechanicjob, t1ger_truckrobbery, t1ger_yachtheist, t3_lockpick, tgiann-radio, TinkyCarrySystem, toflib, toypack, trailerpack, train, truck_logistics, truckstuff, ukz_cookies, ult-kfc-legion, ultra-keypackhack, unicycle, unitycarpack, utk_fingerprint, utk_hackdependency, vanillapack, VehicleDeformation, vehicles_keys, VehicleSignal, vrs-ambulance, vwpack, wasabi_ambulance, wasabi_backpack, wasabi_boombox, wasabi_bridge, wasabi_crutch, wasabi_drink_props, wasabi_elevators, wasabi_police, wasabi_sellshop, wasabi_tireslash, watergun_prop, weaponry, webpack, weed_props_metal, wizating_bendpaks, wizating_dyno, wizating_garage, wizating_stancer, wm-serversirens, xnTattoos, xsound, xsoundeverywhere, yarn, zf_context, zf_dialog, zf-storerobbery\n",
      "Game type: ESX Legacy\n",
      "Map: San Andreas\n",
      "OneSync: enabled\n",
      "Language: English (undefined)\n",
      "Tags: south africa, Infinity, roleplay, drugs, drifting, racing, drags, JMPD, SAPS, ER24,esx\n",
      "Discord: infinityroleplay.co.za\n",
      "JD_logs: V3.1.3\n",
      "Socials: Tik Tok Ulrich Absil, Ford_jakalas\n",
      "https://servers.fivem.net/servers/detail/kk94xd\n"
     ]
    },
    {
     "name": "stdout",
     "output_type": "stream",
     "text": [
      "An error occured scraping single servers.\n",
      "Message: stale element reference: stale element not found\n",
      "  (Session info: headless chrome=118.0.5993.89); For documentation on this error, please visit: https://www.selenium.dev/documentation/webdriver/troubleshooting/errors#stale-element-reference-exception\n",
      "Stacktrace:\n",
      "\tGetHandleVerifier [0x00007FF7321F8EF2+54786]\n",
      "\t(No symbol) [0x00007FF732165612]\n",
      "\t(No symbol) [0x00007FF73201A64B]\n",
      "\t(No symbol) [0x00007FF73201F116]\n",
      "\t(No symbol) [0x00007FF73202115F]\n",
      "\t(No symbol) [0x00007FF732021250]\n",
      "\t(No symbol) [0x00007FF73205B424]\n",
      "\t(No symbol) [0x00007FF73205B91C]\n",
      "\t(No symbol) [0x00007FF7320523AC]\n",
      "\t(No symbol) [0x00007FF73207BEAF]\n",
      "\t(No symbol) [0x00007FF7320522E6]\n",
      "\t(No symbol) [0x00007FF73207C080]\n",
      "\t(No symbol) [0x00007FF732094D02]\n",
      "\t(No symbol) [0x00007FF73207BC43]\n",
      "\t(No symbol) [0x00007FF732050941]\n",
      "\t(No symbol) [0x00007FF732051B84]\n",
      "\tGetHandleVerifier [0x00007FF732547F52+3524194]\n",
      "\tGetHandleVerifier [0x00007FF73259D800+3874576]\n",
      "\tGetHandleVerifier [0x00007FF732595D7F+3843215]\n",
      "\tGetHandleVerifier [0x00007FF732295086+694166]\n",
      "\t(No symbol) [0x00007FF732170A88]\n",
      "\t(No symbol) [0x00007FF73216CA94]\n",
      "\t(No symbol) [0x00007FF73216CBC2]\n",
      "\t(No symbol) [0x00007FF73215CC83]\n",
      "\tBaseThreadInitThunk [0x00007FFF47807344+20]\n",
      "\tRtlUserThreadStart [0x00007FFF479C26B1+33]\n",
      "\n",
      "Scraping server 15, id is kk94xd\n",
      "kk94xd\n"
     ]
    },
    {
     "name": "stderr",
     "output_type": "stream",
     "text": [
      "Server Name: Kuwait Vision\n"
     ]
    },
    {
     "name": "stdout",
     "output_type": "stream",
     "text": [
      "%%%%%%%%%%%%%%%%%%%%%%%%%%%%%%%%%%%%%%%%%%%%%%%%%%%%%%%%%%%%%%%%%\n",
      "Kuwait Vision\n",
      "%%%%%%%%%%%%%%%%%%%%%%%%%%%%%%%%%%%%%%%%%%%%%%%%%%%%%%%%%%%%%%%%%\n"
     ]
    },
    {
     "name": "stderr",
     "output_type": "stream",
     "text": [
      "Resources: Ai0z-SaveClothes, AM-VTC, chrcst, d7zmenuV2, demonhycade, EssaPrimeUniChip, evo_fortzancudo, fivem, fivem-map-hipster, Flix-ACE, Flix-Alerts, Flix-DamageSettings, Flix-DBManager, Flix-DpClothing, Flix-EmsPackage, Flix-Free, Flix-Garage, Flix-Heros, Flix-Hud, Flix-ID, Flix-Identity, Flix-KillFeed, Flix-Markets, Flix-OnlineMenu, Flix-PauseMenu, Flix-PhoneCall, Flix-Radio, Flix-Recorder, Flix-Scripts, Flix-Skins, Flix-SkinSaver, Flix-TunSystem, Flix-WeaponAttachments, Flix-WeaponShop, Flix-ZoneFight, grd-demon, hellcat15w, hode_1, hypnonema, iqstore_KuwaitVision, lockpick, mapmanager, Melix_AdminSystem, Melix_Jobs, Melix_PA, Melix_PoliceSystem, mhacking, must_kuawitstore, NLStore-failakaisland-bank, oxmysql, patoche_beachgame, pma-voice, RAM, RAMMisc, Relax_natroV2, screenshot-basic, Scripts_New, shwar3_cobrastore_v2, spawnmanager, TA-EventManager, TA-GangsPackage, TA-VIP-V4, Talal_Robs, UnderGroundCustom12123, V4_Mimods, vMenu, vrp, vrp_mysql, WS-EMS, WS-Q7M, WS-QAA, WS-WSQ\n",
      "Game type: Flix Premium V2\n",
      "OneSync: enabled\n",
      "Language: Arabic (Kuwait)\n",
      "Tags: RP, vRP, FlixPremiumV2,vrp\n",
      "Discord: discord.gg/kwv\n",
      "DLC level: Cayo Perico Heist\n",
      "sv_pureLevel: 0\n",
      "Owner: MOUTH0\n",
      "https://servers.fivem.net/servers/detail/9qpzab\n"
     ]
    },
    {
     "name": "stdout",
     "output_type": "stream",
     "text": [
      "['Kuwait Vision', 'https://servers.fivem.net/servers/detail/kk94xd', '', 'Flix Premium V2', 'enabled', '', 'Arabic (Kuwait)', 'RP, vRP, FlixPremiumV2,vrp', 'Cayo Perico Heist', '', 'MOUTH0', '', '', ['Ai0z-SaveClothes', 'AM-VTC', 'chrcst', 'd7zmenuV2', 'demonhycade', 'EssaPrimeUniChip', 'evo_fortzancudo', 'fivem', 'fivem-map-hipster', 'Flix-ACE', 'Flix-Alerts', 'Flix-DamageSettings', 'Flix-DBManager', 'Flix-DpClothing', 'Flix-EmsPackage', 'Flix-Free', 'Flix-Garage', 'Flix-Heros', 'Flix-Hud', 'Flix-ID', 'Flix-Identity', 'Flix-KillFeed', 'Flix-Markets', 'Flix-OnlineMenu', 'Flix-PauseMenu', 'Flix-PhoneCall', 'Flix-Radio', 'Flix-Recorder', 'Flix-Scripts', 'Flix-Skins', 'Flix-SkinSaver', 'Flix-TunSystem', 'Flix-WeaponAttachments', 'Flix-WeaponShop', 'Flix-ZoneFight', 'grd-demon', 'hellcat15w', 'hode_1', 'hypnonema', 'iqstore_KuwaitVision', 'lockpick', 'mapmanager', 'Melix_AdminSystem', 'Melix_Jobs', 'Melix_PA', 'Melix_PoliceSystem', 'mhacking', 'must_kuawitstore', 'NLStore-failakaisland-bank', 'oxmysql', 'patoche_beachgame', 'pma-voice', 'RAM', 'RAMMisc', 'Relax_natroV2', 'screenshot-basic', 'Scripts_New', 'shwar3_cobrastore_v2', 'spawnmanager', 'TA-EventManager', 'TA-GangsPackage', 'TA-VIP-V4', 'Talal_Robs', 'UnderGroundCustom12123', 'V4_Mimods', 'vMenu', 'vrp', 'vrp_mysql', 'WS-EMS', 'WS-Q7M', 'WS-QAA', 'WS-WSQ']]\n",
      "The last index is: 15\n",
      "Scraping server 16, id is 9qpzab\n",
      "9qpzab\n"
     ]
    },
    {
     "name": "stderr",
     "output_type": "stream",
     "text": [
      "Resources: 3dme, 08f250, 13capricerb, 17sierra, 17zr2, 18jeep, 18ram, 19avalon, 19gt500, 19ranger, 19sclassl, 19utilitytahoe, 20silv, 20taco, 21hoe, 21ramtrx, 22jeep, 22jeeplar, 42ftyellowfin, 48is, 52ftsportfish, 71Falcon, 99bronco, 150utit, 150utit2, 204sWhiteWidowVan, 370z, 600SL, 909_19exp, 909_20sierra, 909_21suburban, 992t, 1956f100, 2018charger, 2018durango, 2020explorer, 2020tahoe, 2021dotpack, abtrailer, accord11, Accs_01Probs, AccsProps, ai-pit, airboat, als, am21, Animated_WallsProps, aop, Art1Props, Art2Props, Art3Props, Art4Props, Art5Props, austin_mansion, auto, Badger_Discord_API, baseevents, basic-gamemode, bcap1055, bcbloomer, bcbruiser, bcf750tma, bcfabjeep, bcscorpion, bcsignals, bcsportsman, bcys, benze55, bob74, bombtruck, BulletTireRestrict, burgershot, c3f350rollback, c3navistar, c3pwrollback, c3ramwrecker, c3rollback, c3silvrollback, c63coupe, c320silvwrecker, CabinetProps, camper, candicedot, cannabis_cafe, CardsProps, carpack_floor, carry, casino, CasinoProps, cat4, cayo-bridge, chat, ChickFilA, ChipsProps, chironss, city_mechanic, cityhallv2, consilv, contender39, cookiez, cooldown, CornerStore, CorporateProps, courthouse2, courthouse3, custom-cars, dealership_vinewood, desert_mansion, disabledispatch, DiscordVehicleRestrictions, DisposalProps, Door_breakProps, dpclothing, ec145med, ed_rockfordh02, elburrofd, emotes, EMS_Clothes, eup-stream, eup-ui, EUPackv2, everest5, extcommands, externalvehiclecmds, f550ambo, f550ambocc, fddurango, firescript, fiv3devs_headquarters, fivem_chatrp, fivem-map-skater, fm86silv, foxlight, freeman, french_villa, fseriesambo, ftrailer, fusion, g17, gabz, gamewarden, gle, grapeseedsheriff, gta_props_fivem, gtrnismo17, gunshop, heli, hevo, hkrs2, holsters, hospitalint, huntgator, hydrasport53, hydrasport53tower, i_ilev, icbus, ids, IndustrialProps, int_prisonfull, interaction-menu, ipls_resource, isPed, jeepreneg, jet_8, kawasaki, kq-wheeldamage, larrys, legacyfuel, leogolfcart, lesslethal_shotgun, LEVprops, lightingfix, lspd, lspdpack, lvc, lykan, m_park, m4, M135i, MachineryProps, malibu_mansion, mansion_2, mansion_03, map, mapmanager, matus_highwaypatrol, Mb400, mbu1rb, mbu2rb, mbu3rb, mcceone, mcdonalds_1, mcdonalds_2, mcdonalds_3, mcdonalds_4, med_props, medic12, megaramcustom, mixerment, modelsplaid21, mojito, monitor, mountzonah_lift, mrpd, mumble-voip, mz_addons, NativeUI, nearest-postal, newbenny, newcars, nightclub, nm_19ram, nm_amg, nm_cullinan, nm_e63, nm_esc, nm_hell, nm_hun, nm_jeep, nm_m5, nm_mas, nm_ody, nm_rrst, nm_rs5, nm_s, nm_svr, nm_taho, nm_taycan, nm_urus, nm_wagon, nm_x7, oceanhosp, office, offroadgmc, operation_floor, opticomsystem, pablito_hp, pacific_rooftop, pacific_villa, paletocityhall, paletofd, paletosheriff, patochepaleto, pd_300, pd_outlander, pd_supra, pd_tesla, pd_wrangler, pengine, pete351, pete379, peterstretch, pgtc4, piggyback, pillnew, pitbullswat, pizzapaleto, pladder, player-data, plocks_cars, pNotify, police_tow, polmav, poltowtruck, PolyZone, prescue, prisonprops, ProLaser4, proppill, props, pw-paleto-clinic, q60blackshycade, ragdoll, RageUI, rapides, razerx3, rconlog, rcoutlander, Reactive-Loading-Screen-FiveM-master, real-veh-damage, realaitraffic, refuelingnozzle, removeAIcops, RemoveParkedVehicles, ResidentialProps, RetailProps, rgbscat, rhpd, richman_mansion, rnboatpack, roadside1, RockfordGas, rogue20, rook, room_floor, rp-radio, rpdeath, rpemotes, rs7c8wb, runcode, s60, safr, sandygas, sandytowyard, sar, sastcars, savewheelpos, scoreboard, ScreensProps, scullysling, seahawk, seat-switcher, security, ServiceProps, sheriff1, silv20, smallcamp, smartsigns_sonoran, smartsigns_sonoran_helper, sonorancad, spawnmanager, speedometer, srtday20, ss-hosp, ss-sheriff, ssu, station24, StorageProps, storm, stormtr, strad6x6, subtitan, superdutyk, swatsubrb, SWATVAN, TableProps, tablet, tahoeswat, TaserCart, taxi, taxioffice, teslax, the_ora_mansion, TheLuxEmpire_CarPack, towing, trafficsigns, TurnTableProps, um1, um2, um3, unm21yuk, urgence_floor, urus2018, uruslimo, usmarshalls, v_corp, v1_cars, valor8rb, valor9rb, valor10rb, valor13rb, vanzhycade, veh-blacklist, vespucci, vespucci_station, vinewood_hills_mansion, vinyard-mansion, vMenu, vstancer, warmenu, watermark, webpack, wendys, Westcoast, WestonMansion, wheelpack1, wildtrak, windowscript, wk_brakelights, wk_delveh, wk_wars2x, wld-delallveh, x26, yarn, yoda_speedlimit, YouTool, ZL1CAM, zl12017\n",
      "Game type: Freeroam\n",
      "Map: RP : Paleto Bay\n",
      "OneSync: enabled\n",
      "Language: English (United States)\n",
      "Tags: roleplay, FivePD, cars\n",
      "SonoranCAD: 2.9.18\n",
      "DLC level: 2802\n",
      "sv_pureLevel: 0\n",
      "can_review: true\n",
      "Owner: JetF\n",
      "https://servers.fivem.net/servers/detail/e3xz9b\n"
     ]
    },
    {
     "name": "stdout",
     "output_type": "stream",
     "text": [
      "['', 'https://servers.fivem.net/servers/detail/9qpzab', '', 'Freeroam', 'enabled', 'RP : Paleto Bay', 'English (United States)', 'roleplay, FivePD, cars', '2802', '', 'JetF', '', '', ['3dme', '08f250', '13capricerb', '17sierra', '17zr2', '18jeep', '18ram', '19avalon', '19gt500', '19ranger', '19sclassl', '19utilitytahoe', '20silv', '20taco', '21hoe', '21ramtrx', '22jeep', '22jeeplar', '42ftyellowfin', '48is', '52ftsportfish', '71Falcon', '99bronco', '150utit', '150utit2', '204sWhiteWidowVan', '370z', '600SL', '909_19exp', '909_20sierra', '909_21suburban', '992t', '1956f100', '2018charger', '2018durango', '2020explorer', '2020tahoe', '2021dotpack', 'abtrailer', 'accord11', 'Accs_01Probs', 'AccsProps', 'ai-pit', 'airboat', 'als', 'am21', 'Animated_WallsProps', 'aop', 'Art1Props', 'Art2Props', 'Art3Props', 'Art4Props', 'Art5Props', 'austin_mansion', 'auto', 'Badger_Discord_API', 'baseevents', 'basic-gamemode', 'bcap1055', 'bcbloomer', 'bcbruiser', 'bcf750tma', 'bcfabjeep', 'bcscorpion', 'bcsignals', 'bcsportsman', 'bcys', 'benze55', 'bob74', 'bombtruck', 'BulletTireRestrict', 'burgershot', 'c3f350rollback', 'c3navistar', 'c3pwrollback', 'c3ramwrecker', 'c3rollback', 'c3silvrollback', 'c63coupe', 'c320silvwrecker', 'CabinetProps', 'camper', 'candicedot', 'cannabis_cafe', 'CardsProps', 'carpack_floor', 'carry', 'casino', 'CasinoProps', 'cat4', 'cayo-bridge', 'chat', 'ChickFilA', 'ChipsProps', 'chironss', 'city_mechanic', 'cityhallv2', 'consilv', 'contender39', 'cookiez', 'cooldown', 'CornerStore', 'CorporateProps', 'courthouse2', 'courthouse3', 'custom-cars', 'dealership_vinewood', 'desert_mansion', 'disabledispatch', 'DiscordVehicleRestrictions', 'DisposalProps', 'Door_breakProps', 'dpclothing', 'ec145med', 'ed_rockfordh02', 'elburrofd', 'emotes', 'EMS_Clothes', 'eup-stream', 'eup-ui', 'EUPackv2', 'everest5', 'extcommands', 'externalvehiclecmds', 'f550ambo', 'f550ambocc', 'fddurango', 'firescript', 'fiv3devs_headquarters', 'fivem_chatrp', 'fivem-map-skater', 'fm86silv', 'foxlight', 'freeman', 'french_villa', 'fseriesambo', 'ftrailer', 'fusion', 'g17', 'gabz', 'gamewarden', 'gle', 'grapeseedsheriff', 'gta_props_fivem', 'gtrnismo17', 'gunshop', 'heli', 'hevo', 'hkrs2', 'holsters', 'hospitalint', 'huntgator', 'hydrasport53', 'hydrasport53tower', 'i_ilev', 'icbus', 'ids', 'IndustrialProps', 'int_prisonfull', 'interaction-menu', 'ipls_resource', 'isPed', 'jeepreneg', 'jet_8', 'kawasaki', 'kq-wheeldamage', 'larrys', 'legacyfuel', 'leogolfcart', 'lesslethal_shotgun', 'LEVprops', 'lightingfix', 'lspd', 'lspdpack', 'lvc', 'lykan', 'm_park', 'm4', 'M135i', 'MachineryProps', 'malibu_mansion', 'mansion_2', 'mansion_03', 'map', 'mapmanager', 'matus_highwaypatrol', 'Mb400', 'mbu1rb', 'mbu2rb', 'mbu3rb', 'mcceone', 'mcdonalds_1', 'mcdonalds_2', 'mcdonalds_3', 'mcdonalds_4', 'med_props', 'medic12', 'megaramcustom', 'mixerment', 'modelsplaid21', 'mojito', 'monitor', 'mountzonah_lift', 'mrpd', 'mumble-voip', 'mz_addons', 'NativeUI', 'nearest-postal', 'newbenny', 'newcars', 'nightclub', 'nm_19ram', 'nm_amg', 'nm_cullinan', 'nm_e63', 'nm_esc', 'nm_hell', 'nm_hun', 'nm_jeep', 'nm_m5', 'nm_mas', 'nm_ody', 'nm_rrst', 'nm_rs5', 'nm_s', 'nm_svr', 'nm_taho', 'nm_taycan', 'nm_urus', 'nm_wagon', 'nm_x7', 'oceanhosp', 'office', 'offroadgmc', 'operation_floor', 'opticomsystem', 'pablito_hp', 'pacific_rooftop', 'pacific_villa', 'paletocityhall', 'paletofd', 'paletosheriff', 'patochepaleto', 'pd_300', 'pd_outlander', 'pd_supra', 'pd_tesla', 'pd_wrangler', 'pengine', 'pete351', 'pete379', 'peterstretch', 'pgtc4', 'piggyback', 'pillnew', 'pitbullswat', 'pizzapaleto', 'pladder', 'player-data', 'plocks_cars', 'pNotify', 'police_tow', 'polmav', 'poltowtruck', 'PolyZone', 'prescue', 'prisonprops', 'ProLaser4', 'proppill', 'props', 'pw-paleto-clinic', 'q60blackshycade', 'ragdoll', 'RageUI', 'rapides', 'razerx3', 'rconlog', 'rcoutlander', 'Reactive-Loading-Screen-FiveM-master', 'real-veh-damage', 'realaitraffic', 'refuelingnozzle', 'removeAIcops', 'RemoveParkedVehicles', 'ResidentialProps', 'RetailProps', 'rgbscat', 'rhpd', 'richman_mansion', 'rnboatpack', 'roadside1', 'RockfordGas', 'rogue20', 'rook', 'room_floor', 'rp-radio', 'rpdeath', 'rpemotes', 'rs7c8wb', 'runcode', 's60', 'safr', 'sandygas', 'sandytowyard', 'sar', 'sastcars', 'savewheelpos', 'scoreboard', 'ScreensProps', 'scullysling', 'seahawk', 'seat-switcher', 'security', 'ServiceProps', 'sheriff1', 'silv20', 'smallcamp', 'smartsigns_sonoran', 'smartsigns_sonoran_helper', 'sonorancad', 'spawnmanager', 'speedometer', 'srtday20', 'ss-hosp', 'ss-sheriff', 'ssu', 'station24', 'StorageProps', 'storm', 'stormtr', 'strad6x6', 'subtitan', 'superdutyk', 'swatsubrb', 'SWATVAN', 'TableProps', 'tablet', 'tahoeswat', 'TaserCart', 'taxi', 'taxioffice', 'teslax', 'the_ora_mansion', 'TheLuxEmpire_CarPack', 'towing', 'trafficsigns', 'TurnTableProps', 'um1', 'um2', 'um3', 'unm21yuk', 'urgence_floor', 'urus2018', 'uruslimo', 'usmarshalls', 'v_corp', 'v1_cars', 'valor8rb', 'valor9rb', 'valor10rb', 'valor13rb', 'vanzhycade', 'veh-blacklist', 'vespucci', 'vespucci_station', 'vinewood_hills_mansion', 'vinyard-mansion', 'vMenu', 'vstancer', 'warmenu', 'watermark', 'webpack', 'wendys', 'Westcoast', 'WestonMansion', 'wheelpack1', 'wildtrak', 'windowscript', 'wk_brakelights', 'wk_delveh', 'wk_wars2x', 'wld-delallveh', 'x26', 'yarn', 'yoda_speedlimit', 'YouTool', 'ZL1CAM', 'zl12017']]\n",
      "The last index is: 16\n",
      "Scraping server 17, id is e3xz9b\n",
      "e3xz9b\n"
     ]
    },
    {
     "name": "stderr",
     "output_type": "stream",
     "text": [
      "Server Name: 👑 Dynasty Role Play - New Player Friendly - discord.gg/dynastyroleplay - 18+ New Server - 🔫Gangs - 💉Drugs - 🚗Custom Cars - 🏠Custom MLOs - Allowlist Jobs\n"
     ]
    },
    {
     "name": "stdout",
     "output_type": "stream",
     "text": [
      "%%%%%%%%%%%%%%%%%%%%%%%%%%%%%%%%%%%%%%%%%%%%%%%%%%%%%%%%%%%%%%%%%\n",
      "👑 Dynasty Role Play - New Player Friendly - discord.gg/dynastyroleplay - 18+ New Server - 🔫Gangs - 💉Drugs - 🚗Custom Cars - 🏠Custom MLOs - Allowlist Jobs\n",
      "%%%%%%%%%%%%%%%%%%%%%%%%%%%%%%%%%%%%%%%%%%%%%%%%%%%%%%%%%%%%%%%%%\n"
     ]
    },
    {
     "name": "stderr",
     "output_type": "stream",
     "text": [
      "Resources: Agea59_Paleto_car_dealership, ak47_qb_taco, AntiCheeseAntiCheat, aodmcpack, armboss_ped, baseevents, basic-gamemode, bb-dices, bbv-interactbutton, BCall_progress, Bikes, bob74_ipl, brightdealership, Buty_InfiniteJobs, CarPack1, CarPack2, cd_donatorshop, cd_drawtextui, cd_garage, cd_garageshell, cd_keymaster, cfx-gabz-247, cfx-gabz-ammunation, cfx-gabz-arcade, cfx-gabz-barber, cfx-gabz-beanmachine, cfx-gabz-binco, cfx-gabz-bobcat, cfx-gabz-bowling, cfx-gabz-burgershot, cfx-gabz-carmeet, cfx-gabz-casino, cfx-gabz-catcafe, cfx-gabz-davispd, cfx-gabz-diner, cfx-gabz-esbltd, cfx-gabz-harmony, cfx-gabz-haters, cfx-gabz-koi, cfx-gabz-lost, cfx-gabz-lscustoms, cfx-gabz-mapdata, cfx-gabz-marabunta, cfx-gabz-mirrorpark1, cfx-gabz-mirrorpark2, cfx-gabz-ottos, cfx-gabz-paletobank, cfx-gabz-paletocamp, cfx-gabz-paletoliquor, cfx-gabz-pdprops, cfx-gabz-pillbox, cfx-gabz-pizzeria, cfx-gabz-ponsonbys, cfx-gabz-prison, cfx-gabz-sandypd, cfx-gabz-scenarios, cfx-gabz-suburban, cfx-gabz-tattoo, cfx-gabz-townhall, cfx-gabz-weedcamp, cfx-ies-gentlemens-manor, chat, core_evidence, cr-blips, creativehouse, cs-boombox, cs-earthquake, custom_ped, DaedricArmor, Dc-picking, demons, devyn-backitems, dpemotes, drc_unicornV2, dyn_loading, dynasty_antilag, dynasty_apartment_shell, dynasty_arena, dynasty_artheist, dynasty_blue_farmhouse, dynasty_chalet1086_t4, dynasty_chat, dynasty_chat-theme, dynasty_church, dynasty_cobalt, dynasty_crouch-crawl, dynasty_dragstrip3037, dynasty_drone, dynasty_editor, dynasty_elite_vinewood, dynasty_farmhouse_homestead, dynasty_fastlane3052, dynasty_flatbeds, dynasty_fleecaheist, dynasty_forgery, dynasty_fuel, dynasty_grove9102_t3, dynasty_gym, dynasty_highschool, dynasty_int_beachcon8207_t3, dynasty_k4mb1_ModernHouse6139_t4, dynasty_k4mb1_VinewoodHillsHouse2_6065_t4, dynasty_k4mb1_WestonsMansion5021_t4, dynasty_knockout, dynasty_laundry, dynasty_liaisonmansion, dynasty_littlehouse_mtGordo_t3, dynasty_littleseoul, dynasty_lks_blackhouse6150_t3, dynasty_lux7073, dynasty_madrazo, dynasty_mafia, dynasty_malibu_t4, dynasty_mansion_03_t4, dynasty_mansion_06_t4, dynasty_mansion_07_t4, dynasty_mansion_08_t4, dynasty_mansion_09_t4, dynasty_mansion_10_t4, dynasty_mansion_11_t4, dynasty_mansion_12_t4, dynasty_mansion_13_t4, dynasty_mansion_14_t4, dynasty_mansion_15_t4, dynasty_mansion_16_t4, dynasty_mansion_18_t4, dynasty_mansion_19_t4, dynasty_mansion_20_t4, dynasty_marabunta9342_t3, dynasty_mystc_house6130_t3, dynasty_pacificbluff, dynasty_pacificheist, dynasty_patoche_archihomeQ_t4, dynasty_peckerwood, dynasty_practice, dynasty_realty6189, dynasty_redlinemuscle8143, dynasty_redlinep8144, dynasty_risingsun7204, dynasty_scenes, dynasty_secret_bossroom_10091, dynasty_shoes, dynasty_shoprobbery, dynasty_statushud, dynasty_sunrise_vinewood, dynasty_taco, dynasty_taxi7295, dynasty_vangelicofinal, dynasty_vanheist, dynasty_vape, dynasty_villa_01_t4, dynasty_villa_02_t4, dynasty_villa04_t4, dynasty_villa05_t4, dynasty_villa7057_t4, dynasty_vinewood, dynasty_white_mansion7155_t4, dynasty_whitewidows7191, dynasty_zerotrust, dynasty-3dme, dynasty-beanmachine, dynasty-bobcat, dynasty-burgershot, dynasty-catcafe, dynasty-chairs, dynasty-containers, dynasty-lumberjack, dynasty-mechanic, dynasty-methcar, dynasty-mining, dynasty-miningcave, dynasty-notepad, dynasty-PacificBank, dynasty-pd-clothing, dynasty-pizzathis, dynasty-plates, dynasty-popsdiner, dynasty-queue, dynasty-recycle, dynasty-robmeter, dynasty-shops, dynasty-vending, dynasty-vjewel, dynasty-walkingstyle, dynasty-warehouse, dynasty-weapons, dynastyrimpack, ed_narcohideouts, ElectricSkateboard, Enginesounds, entitysets, eup-stream, EventCars, fiv3devs_galaxy, fivem-map-skater, FreeClothes, generic_texture_renderer_gfx, gks_racing, gks_rentacar, gksphone, glow_minigames, grappler, gutso-jewelry, hacking, hamz-panel, hostage, illenium-appearance, interact-sound, ipls_resource, JD_logs, jim-bars, jim-consumables, jim-payments, jixel-whitewidow, k4mb1shellstarter, kael-japanese, karma_cargo, karma_cooldown, karma_scripts, karma-purge, karma-ss, kevin-banktrucks, kevin-weedprocessing, kevin-weedruns, KLib, lambra-antiCL, lj-inventory, lockpick, LSIAAircraft, lumio-pets, m-Fishing, map, mapmanager, memorygame, MenuAPI, menuv, meta_libs, mhacking, minimap_cayo, mk-laundering, mobilespike, monitor, mpireboyz_poker, mpireboyz_roulette, mythic_notify, NativeUI, nc-rental, nh-context, Noir-Pilot, okokBanking, okokBilling, okokContract, okokCrafting, okokNotify, okokReports, okokRequests, okokTextUI, ox_lib, oxmysql, patoche_benny_bw, PaysoChain, petshop_map, pma-sirensync, pma-voice, Police, PolyZone, progressbar, ps-buffs, ps-dispatch, ps-hud, ps-mdt, ps-microphone, ps-multijob, ps-ui, ps-zones, qb_tk_npcrobbery, qb-ambulancejob, qb-apartments, qb-atms, qb-busjob, qb-cityhall, qb-commandbinding, qb-core, qb-crypto, qb-customs, qb-diving, qb-djbooth, qb-doorlock, qb-drugs, qb-extras, qb-fitbit, qb-garbagejob, qb-hotdogjob, qb-input, qb-interior, qb-keyminigame, qb-lapraces, qb-lock, qb-lockpick, qb-management, qb-mechanicjob, qb-menu, qb-multicharacter, qb-newsjob, qb-pawnshop, qb-policejob, qb-printer, qb-radialmenu, qb-randombox, qb-safe, qb-scoreboard, qb-scrapyard, qb-sit, qb-skillbar, qb-smallresources, qb-sna-flightschool, qb-spawn, qb-streetraces, qb-target, qb-taxijob, qb-towjob, qb-traphouse, qb-truckerjob, qb-tsunami, qb-vehiclefailure, qb-vehiclesales, qb-vehicleshop, qb-vineyard, qb-weapons, qb-weathersync, qs-housing, quasar_shells, radio, rconlog, rcore_arcade, rcore_bowling, rcore_casino, rcore_casino_assets, rcore_drunk, rcore_gangs, rcore_pool, rcore_prison, rcore_prison_models_gabz, rcore_radiocar, rcore_spray, rcore_spray_assets, rcore_tattoo, rcore_television, relisoft_tag, reload-skillbar, Renewed-Weaponscarry, richards_offstore_halloweendecoration, rm_kidnapping, RmodPack1, RmodPack2, rsd_luckywheels, rupert_ped, rz_adminextras, safecracker, screenshot-basic, skillbar, smarttaser, snipe-menu, spawnmanager, starchase, t0sic_loadingbar, TaxiCabs, TrainingFacility, traphouse, tv_scaleform, uj_svalka, uj_VESP, Utility, utk_fingerprint, utk_hackdependency, vehcontrol, vstancer, webpack, wedding_observatory, weddingatire, wizating_airlift, wizating_bendpaks, wizating_laptop, wizating_lostheist, wizating_trailer, wk_wars2x, xsound, yarn, YKZClothing, zerio-radio, zf_context\n",
      "Game type: Freeroam\n",
      "Map: fivem-map-skater\n",
      "OneSync: enabled\n",
      "Language: English (United States)\n",
      "Tags: rp, new players, police, ems, cars, serious, allowlist, whitelist, economy, jobs\n",
      "Discord: discord.gg/dynastyroleplay\n",
      "Tebex: dynasty-empire.tebex.io\n",
      "DLC level: 2802\n",
      "sv_pureLevel: 0\n",
      "can_review: true\n",
      "Owner: YellowBusRidin\n",
      "https://servers.fivem.net/servers/detail/36bqqo\n"
     ]
    },
    {
     "name": "stdout",
     "output_type": "stream",
     "text": [
      "['👑 Dynasty Role Play - New Player Friendly - discord.gg/dynastyroleplay - 18+ New Server - 🔫Gangs - 💉Drugs - 🚗Custom Cars - 🏠Custom MLOs - Allowlist Jobs', 'https://servers.fivem.net/servers/detail/e3xz9b', '', 'Freeroam', 'enabled', 'fivem-map-skater', 'English (United States)', 'rp, new players, police, ems, cars, serious, allowlist, whitelist, economy, jobs', '2802', '', 'YellowBusRidin', '', '', ['Agea59_Paleto_car_dealership', 'ak47_qb_taco', 'AntiCheeseAntiCheat', 'aodmcpack', 'armboss_ped', 'baseevents', 'basic-gamemode', 'bb-dices', 'bbv-interactbutton', 'BCall_progress', 'Bikes', 'bob74_ipl', 'brightdealership', 'Buty_InfiniteJobs', 'CarPack1', 'CarPack2', 'cd_donatorshop', 'cd_drawtextui', 'cd_garage', 'cd_garageshell', 'cd_keymaster', 'cfx-gabz-247', 'cfx-gabz-ammunation', 'cfx-gabz-arcade', 'cfx-gabz-barber', 'cfx-gabz-beanmachine', 'cfx-gabz-binco', 'cfx-gabz-bobcat', 'cfx-gabz-bowling', 'cfx-gabz-burgershot', 'cfx-gabz-carmeet', 'cfx-gabz-casino', 'cfx-gabz-catcafe', 'cfx-gabz-davispd', 'cfx-gabz-diner', 'cfx-gabz-esbltd', 'cfx-gabz-harmony', 'cfx-gabz-haters', 'cfx-gabz-koi', 'cfx-gabz-lost', 'cfx-gabz-lscustoms', 'cfx-gabz-mapdata', 'cfx-gabz-marabunta', 'cfx-gabz-mirrorpark1', 'cfx-gabz-mirrorpark2', 'cfx-gabz-ottos', 'cfx-gabz-paletobank', 'cfx-gabz-paletocamp', 'cfx-gabz-paletoliquor', 'cfx-gabz-pdprops', 'cfx-gabz-pillbox', 'cfx-gabz-pizzeria', 'cfx-gabz-ponsonbys', 'cfx-gabz-prison', 'cfx-gabz-sandypd', 'cfx-gabz-scenarios', 'cfx-gabz-suburban', 'cfx-gabz-tattoo', 'cfx-gabz-townhall', 'cfx-gabz-weedcamp', 'cfx-ies-gentlemens-manor', 'chat', 'core_evidence', 'cr-blips', 'creativehouse', 'cs-boombox', 'cs-earthquake', 'custom_ped', 'DaedricArmor', 'Dc-picking', 'demons', 'devyn-backitems', 'dpemotes', 'drc_unicornV2', 'dyn_loading', 'dynasty_antilag', 'dynasty_apartment_shell', 'dynasty_arena', 'dynasty_artheist', 'dynasty_blue_farmhouse', 'dynasty_chalet1086_t4', 'dynasty_chat', 'dynasty_chat-theme', 'dynasty_church', 'dynasty_cobalt', 'dynasty_crouch-crawl', 'dynasty_dragstrip3037', 'dynasty_drone', 'dynasty_editor', 'dynasty_elite_vinewood', 'dynasty_farmhouse_homestead', 'dynasty_fastlane3052', 'dynasty_flatbeds', 'dynasty_fleecaheist', 'dynasty_forgery', 'dynasty_fuel', 'dynasty_grove9102_t3', 'dynasty_gym', 'dynasty_highschool', 'dynasty_int_beachcon8207_t3', 'dynasty_k4mb1_ModernHouse6139_t4', 'dynasty_k4mb1_VinewoodHillsHouse2_6065_t4', 'dynasty_k4mb1_WestonsMansion5021_t4', 'dynasty_knockout', 'dynasty_laundry', 'dynasty_liaisonmansion', 'dynasty_littlehouse_mtGordo_t3', 'dynasty_littleseoul', 'dynasty_lks_blackhouse6150_t3', 'dynasty_lux7073', 'dynasty_madrazo', 'dynasty_mafia', 'dynasty_malibu_t4', 'dynasty_mansion_03_t4', 'dynasty_mansion_06_t4', 'dynasty_mansion_07_t4', 'dynasty_mansion_08_t4', 'dynasty_mansion_09_t4', 'dynasty_mansion_10_t4', 'dynasty_mansion_11_t4', 'dynasty_mansion_12_t4', 'dynasty_mansion_13_t4', 'dynasty_mansion_14_t4', 'dynasty_mansion_15_t4', 'dynasty_mansion_16_t4', 'dynasty_mansion_18_t4', 'dynasty_mansion_19_t4', 'dynasty_mansion_20_t4', 'dynasty_marabunta9342_t3', 'dynasty_mystc_house6130_t3', 'dynasty_pacificbluff', 'dynasty_pacificheist', 'dynasty_patoche_archihomeQ_t4', 'dynasty_peckerwood', 'dynasty_practice', 'dynasty_realty6189', 'dynasty_redlinemuscle8143', 'dynasty_redlinep8144', 'dynasty_risingsun7204', 'dynasty_scenes', 'dynasty_secret_bossroom_10091', 'dynasty_shoes', 'dynasty_shoprobbery', 'dynasty_statushud', 'dynasty_sunrise_vinewood', 'dynasty_taco', 'dynasty_taxi7295', 'dynasty_vangelicofinal', 'dynasty_vanheist', 'dynasty_vape', 'dynasty_villa_01_t4', 'dynasty_villa_02_t4', 'dynasty_villa04_t4', 'dynasty_villa05_t4', 'dynasty_villa7057_t4', 'dynasty_vinewood', 'dynasty_white_mansion7155_t4', 'dynasty_whitewidows7191', 'dynasty_zerotrust', 'dynasty-3dme', 'dynasty-beanmachine', 'dynasty-bobcat', 'dynasty-burgershot', 'dynasty-catcafe', 'dynasty-chairs', 'dynasty-containers', 'dynasty-lumberjack', 'dynasty-mechanic', 'dynasty-methcar', 'dynasty-mining', 'dynasty-miningcave', 'dynasty-notepad', 'dynasty-PacificBank', 'dynasty-pd-clothing', 'dynasty-pizzathis', 'dynasty-plates', 'dynasty-popsdiner', 'dynasty-queue', 'dynasty-recycle', 'dynasty-robmeter', 'dynasty-shops', 'dynasty-vending', 'dynasty-vjewel', 'dynasty-walkingstyle', 'dynasty-warehouse', 'dynasty-weapons', 'dynastyrimpack', 'ed_narcohideouts', 'ElectricSkateboard', 'Enginesounds', 'entitysets', 'eup-stream', 'EventCars', 'fiv3devs_galaxy', 'fivem-map-skater', 'FreeClothes', 'generic_texture_renderer_gfx', 'gks_racing', 'gks_rentacar', 'gksphone', 'glow_minigames', 'grappler', 'gutso-jewelry', 'hacking', 'hamz-panel', 'hostage', 'illenium-appearance', 'interact-sound', 'ipls_resource', 'JD_logs', 'jim-bars', 'jim-consumables', 'jim-payments', 'jixel-whitewidow', 'k4mb1shellstarter', 'kael-japanese', 'karma_cargo', 'karma_cooldown', 'karma_scripts', 'karma-purge', 'karma-ss', 'kevin-banktrucks', 'kevin-weedprocessing', 'kevin-weedruns', 'KLib', 'lambra-antiCL', 'lj-inventory', 'lockpick', 'LSIAAircraft', 'lumio-pets', 'm-Fishing', 'map', 'mapmanager', 'memorygame', 'MenuAPI', 'menuv', 'meta_libs', 'mhacking', 'minimap_cayo', 'mk-laundering', 'mobilespike', 'monitor', 'mpireboyz_poker', 'mpireboyz_roulette', 'mythic_notify', 'NativeUI', 'nc-rental', 'nh-context', 'Noir-Pilot', 'okokBanking', 'okokBilling', 'okokContract', 'okokCrafting', 'okokNotify', 'okokReports', 'okokRequests', 'okokTextUI', 'ox_lib', 'oxmysql', 'patoche_benny_bw', 'PaysoChain', 'petshop_map', 'pma-sirensync', 'pma-voice', 'Police', 'PolyZone', 'progressbar', 'ps-buffs', 'ps-dispatch', 'ps-hud', 'ps-mdt', 'ps-microphone', 'ps-multijob', 'ps-ui', 'ps-zones', 'qb_tk_npcrobbery', 'qb-ambulancejob', 'qb-apartments', 'qb-atms', 'qb-busjob', 'qb-cityhall', 'qb-commandbinding', 'qb-core', 'qb-crypto', 'qb-customs', 'qb-diving', 'qb-djbooth', 'qb-doorlock', 'qb-drugs', 'qb-extras', 'qb-fitbit', 'qb-garbagejob', 'qb-hotdogjob', 'qb-input', 'qb-interior', 'qb-keyminigame', 'qb-lapraces', 'qb-lock', 'qb-lockpick', 'qb-management', 'qb-mechanicjob', 'qb-menu', 'qb-multicharacter', 'qb-newsjob', 'qb-pawnshop', 'qb-policejob', 'qb-printer', 'qb-radialmenu', 'qb-randombox', 'qb-safe', 'qb-scoreboard', 'qb-scrapyard', 'qb-sit', 'qb-skillbar', 'qb-smallresources', 'qb-sna-flightschool', 'qb-spawn', 'qb-streetraces', 'qb-target', 'qb-taxijob', 'qb-towjob', 'qb-traphouse', 'qb-truckerjob', 'qb-tsunami', 'qb-vehiclefailure', 'qb-vehiclesales', 'qb-vehicleshop', 'qb-vineyard', 'qb-weapons', 'qb-weathersync', 'qs-housing', 'quasar_shells', 'radio', 'rconlog', 'rcore_arcade', 'rcore_bowling', 'rcore_casino', 'rcore_casino_assets', 'rcore_drunk', 'rcore_gangs', 'rcore_pool', 'rcore_prison', 'rcore_prison_models_gabz', 'rcore_radiocar', 'rcore_spray', 'rcore_spray_assets', 'rcore_tattoo', 'rcore_television', 'relisoft_tag', 'reload-skillbar', 'Renewed-Weaponscarry', 'richards_offstore_halloweendecoration', 'rm_kidnapping', 'RmodPack1', 'RmodPack2', 'rsd_luckywheels', 'rupert_ped', 'rz_adminextras', 'safecracker', 'screenshot-basic', 'skillbar', 'smarttaser', 'snipe-menu', 'spawnmanager', 'starchase', 't0sic_loadingbar', 'TaxiCabs', 'TrainingFacility', 'traphouse', 'tv_scaleform', 'uj_svalka', 'uj_VESP', 'Utility', 'utk_fingerprint', 'utk_hackdependency', 'vehcontrol', 'vstancer', 'webpack', 'wedding_observatory', 'weddingatire', 'wizating_airlift', 'wizating_bendpaks', 'wizating_laptop', 'wizating_lostheist', 'wizating_trailer', 'wk_wars2x', 'xsound', 'yarn', 'YKZClothing', 'zerio-radio', 'zf_context']]\n",
      "The last index is: 17\n",
      "Scraping server 18, id is 36bqqo\n",
      "36bqqo\n"
     ]
    },
    {
     "name": "stderr",
     "output_type": "stream",
     "text": [
      "Server Name: 😈^DALLAS ROLEPLAY😈 | discord.gg/dallasrp 💎\n"
     ]
    },
    {
     "name": "stdout",
     "output_type": "stream",
     "text": [
      "%%%%%%%%%%%%%%%%%%%%%%%%%%%%%%%%%%%%%%%%%%%%%%%%%%%%%%%%%%%%%%%%%\n",
      "😈^DALLAS ROLEPLAY😈 | discord.gg/dallasrp 💎\n",
      "%%%%%%%%%%%%%%%%%%%%%%%%%%%%%%%%%%%%%%%%%%%%%%%%%%%%%%%%%%%%%%%%%\n"
     ]
    },
    {
     "name": "stderr",
     "output_type": "stream",
     "text": [
      "Resources: 4fun_dominacao, 4fun_ilegal, 4fun_inventario, antcl, cassino, chat, cs-hall, dallas_carros, dallas_mapas, dallas_roupas, db_oxmysql, dynamic, eg_policia, fun-bank, fun-box, hud, lafy, memory, MQCU, nation_concessionaria, notifycall, np-taskbarskill, nxgroup_arena, nxgroup_connection, nxgroup_emp, nxgroup_farm, nxgroup_login, nxgroup_tempban, nxgroup_tv, nxgroup-character, nxgroup-id, nxgroup-scripts, nxgroup-skin, nxgroup-survival, nyo_modules, oxmysql, pma-voice, PolyZone, races, radio, rcore_lunapark, rcore_lunapark_assets, skillbar, smartphone, smartphone-jobs, target, vipsdonate, vrp, vrp_admin, vrp_animacoes, vrp_homes, vrp_player, vrp_policia, vrp_visualsettings, vrpserver\n",
      "OneSync: enabled\n",
      "Language: Portuguese (Brazil)\n",
      "Tags: br,vrp\n",
      "Discord: discord.gg/dallasrp\n",
      "DLC level: 2699\n",
      "sv_pureLevel: 0\n",
      "Owner: devhades\n",
      "https://servers.fivem.net/servers/detail/klqmy7\n"
     ]
    },
    {
     "name": "stdout",
     "output_type": "stream",
     "text": [
      "['😈^DALLAS ROLEPLAY😈 | discord.gg/dallasrp 💎', 'https://servers.fivem.net/servers/detail/36bqqo', '', '', 'enabled', '', 'Portuguese (Brazil)', 'br,vrp', '2699', '', 'devhades', '', '', ['4fun_dominacao', '4fun_ilegal', '4fun_inventario', 'antcl', 'cassino', 'chat', 'cs-hall', 'dallas_carros', 'dallas_mapas', 'dallas_roupas', 'db_oxmysql', 'dynamic', 'eg_policia', 'fun-bank', 'fun-box', 'hud', 'lafy', 'memory', 'MQCU', 'nation_concessionaria', 'notifycall', 'np-taskbarskill', 'nxgroup_arena', 'nxgroup_connection', 'nxgroup_emp', 'nxgroup_farm', 'nxgroup_login', 'nxgroup_tempban', 'nxgroup_tv', 'nxgroup-character', 'nxgroup-id', 'nxgroup-scripts', 'nxgroup-skin', 'nxgroup-survival', 'nyo_modules', 'oxmysql', 'pma-voice', 'PolyZone', 'races', 'radio', 'rcore_lunapark', 'rcore_lunapark_assets', 'skillbar', 'smartphone', 'smartphone-jobs', 'target', 'vipsdonate', 'vrp', 'vrp_admin', 'vrp_animacoes', 'vrp_homes', 'vrp_player', 'vrp_policia', 'vrp_visualsettings', 'vrpserver']]\n",
      "The last index is: 18\n",
      "Scraping server 19, id is klqmy7\n",
      "klqmy7\n"
     ]
    },
    {
     "name": "stderr",
     "output_type": "stream",
     "text": [
      "Resources: 4Runner, 17r35, 21ltz, 23ramtrx, 530dUM, 765ltv2, 2009hsv, 2018mus, actros, advanced_drugs_creator, ANZBANKSBYMASUTA, aq2jzgterace, aq35ferf154cd, aqm275amg, aqtoy2jzstock, arcticprado, AUDetrongt18, Aussie_Flag, Bahama_Mamas, baseevents, basic-gamemode, bcs_questionare, benzc63sedan, bgw16, bigote, bmwf82, bmwi8, BMWi422spe, bmwm5, bmwm8, bmws19, bmwUM, bob74_ipl, boii-consumables, boii-farming, boii-hunting, boii-salvagediving, breze_court, brofx_church, brz13, Bugatti, bugattisuper, c-hunting_shop, c63UM, car_pack, carpack_floor, cdn-fuel, chargerUM, chrysler300UM, civic, concessfreepatoche, connectqueue, cqc-mugshot, cs_idcard, cullinan_kpym, daf, demonboi, dim-passhack, dodgeviper, don-shootingrange, dpemotes, e_49_church, e63UM, emsrav4, eup-stream, eup-ui, evo10, f488pista, falconfpv, falcongtf, fgxxr8, fivem-freecam, fivem-map-skater, flywheels, ForestsOfSA_N, ForestsOfSA_S, gd63s, gd340i, gd530d, gd1200, gdbike, gdchrysler, gddefender, gde63, gdmclaren, gdmus, gdmustang, gdpaddy, gdpassat, gdRav4, gdRescue, gdrs6, gdSonata, gdstinger, gdtiguan, gdvf, gdx5, gdxr6, gdzb, gradyrc86, gt4um, gt63, gta_props_fivem, gto91, gurkhaUM, hacking, hedwig_hunt, hellcat, hospitalsandy, hoverbike, hps, hsvmaloo, illenium-appearance, int_prisonfull, interact-sound, ipls_resource, jeepg, jg-advancedgarages, jg-textui, jim-mechanic, jim-mining, jim-payments, k4mb1shellstarter, kawasakih2, kc73pgt3rsakrapovic, KnocksPackV2, lambov10, LAMtmc17, laundry, lexusrcf, lg18bmwm4, lux_vehcontrol, LuxuAdmin, LuxuModules, m5soundmod, m422, man, mapmanager, memorygame, menuv, mercm177, meta_libs, mhacking, minimap, mka-lasers, ml720v8eng, molo_mrpd, monitor, mountzonah_lift, MugShotBase64, mustang19, mz_addons, NativeUI, okokBilling, okokContract, okokCrafting, okokNotify, okokTextUI, okokVehicleShop, operation_floor, ox_lib, oxmysql, pablito_delperro, paletopd, patty, pd_sandy, pma-voice, PolyZone, porche911, porscheTC, prisonbus, prisonprops, progressbar, prompt_paleto_clinic, ps-dispatch, ps-housing, ps-mdt, ps-realtor, ps-ui, q820, qasambo, qb-adminmenu, qb-atms, qb-banking, qb-bankrobbery, qb-busjob, qb-cityhall, qb-core, qb-crypto, qb-doorlock, qb-drugs, qb-fitbit, qb-hotdogjob, qb-houserobbery, qb-hud, qb-input, qb-interior, qb-jewelery, qb-keyminigame, qb-lapraces, qb-loading, qb-lockpick, qb-management, qb-mechanicjob, qb-menu, qb-multicharacter, qb-newsjob, qb-pawnshop, qb-policejob, qb-prison, qb-radialmenu, qb-recyclejob, qb-scoreboard, qb-scrapyard, qb-shops, qb-skillbar, qb-smallresources, qb-spawn, qb-storerobbery, qb-streetraces, qb-target, qb-taxijob, qb-towjob, qb-traphouse, qb-truckerjob, qb-truckrobbery, qb-tunerchip, qb-vehiclefailure, qb-vehiclekeys, qb-vineyard, qb-weathersync, qb-weed, qs-armor, qs-backpacks, qs-base, qs-crypto, qs-inventory, qs-parachute, qs-racing, qs-rental, qs-sellix, qs-shops, qs-smartphone, qs-videos, qs-weapondraw, qs-weaponsonback, qua_ls_custom, r_megaphone, r34sound, r820, Rakchr, ramTransport, randol_moneywash, raptorUM, rav4UM, rcore_casino, rcore_casino_map, refine-mechat, room_floor, rs6UM, safecracker, sapfbuggy, screenshot-basic, skyline, slsamg, smartphone_props, spawnmanager, stingerUM, streetglide, sultanaUM, sv6UM, t680, tamustanggt50, teslapd, tgiann-skillbar, toyotasj, trackhawkUM, trailers, truck_logistics, ult-kfc-legion, uniqx_burgershot, urgence_floor, VespucciPS, vessv, vessvu, vessvw, vfTC, vnl780, vwgolf, VWtoua19cf, w900, wasabi_ambulance, wasabi_bridge, wasabi_fishing, wasabi_tireslash, washing, webpack, wk_wars2x, wm-serversirens, wmlwb, WRX19, wrxrllyeng, x5UM, xr6UM, xsound, Xxr6UM, yamahamt, yamahayz, yarn, zdiscord, zerio-jobcenter, zerio-radio\n",
      "Game type: Freeroam\n",
      "Map: fivem-map-skater\n",
      "OneSync: enabled\n",
      "Language: undefined (undefined)\n",
      "Tags: Police, Criminal, EMS, QB\n",
      "DLC level: 2699\n",
      "sv_pureLevel: 0\n",
      "can_review: true\n",
      "Owner: Stonky01\n",
      "https://servers.fivem.net/servers/detail/loem7v\n"
     ]
    },
    {
     "name": "stdout",
     "output_type": "stream",
     "text": [
      "['', 'https://servers.fivem.net/servers/detail/klqmy7', '', 'Freeroam', 'enabled', 'fivem-map-skater', 'undefined (undefined)', 'Police, Criminal, EMS, QB', '2699', '', 'Stonky01', '', '', ['4Runner', '17r35', '21ltz', '23ramtrx', '530dUM', '765ltv2', '2009hsv', '2018mus', 'actros', 'advanced_drugs_creator', 'ANZBANKSBYMASUTA', 'aq2jzgterace', 'aq35ferf154cd', 'aqm275amg', 'aqtoy2jzstock', 'arcticprado', 'AUDetrongt18', 'Aussie_Flag', 'Bahama_Mamas', 'baseevents', 'basic-gamemode', 'bcs_questionare', 'benzc63sedan', 'bgw16', 'bigote', 'bmwf82', 'bmwi8', 'BMWi422spe', 'bmwm5', 'bmwm8', 'bmws19', 'bmwUM', 'bob74_ipl', 'boii-consumables', 'boii-farming', 'boii-hunting', 'boii-salvagediving', 'breze_court', 'brofx_church', 'brz13', 'Bugatti', 'bugattisuper', 'c-hunting_shop', 'c63UM', 'car_pack', 'carpack_floor', 'cdn-fuel', 'chargerUM', 'chrysler300UM', 'civic', 'concessfreepatoche', 'connectqueue', 'cqc-mugshot', 'cs_idcard', 'cullinan_kpym', 'daf', 'demonboi', 'dim-passhack', 'dodgeviper', 'don-shootingrange', 'dpemotes', 'e_49_church', 'e63UM', 'emsrav4', 'eup-stream', 'eup-ui', 'evo10', 'f488pista', 'falconfpv', 'falcongtf', 'fgxxr8', 'fivem-freecam', 'fivem-map-skater', 'flywheels', 'ForestsOfSA_N', 'ForestsOfSA_S', 'gd63s', 'gd340i', 'gd530d', 'gd1200', 'gdbike', 'gdchrysler', 'gddefender', 'gde63', 'gdmclaren', 'gdmus', 'gdmustang', 'gdpaddy', 'gdpassat', 'gdRav4', 'gdRescue', 'gdrs6', 'gdSonata', 'gdstinger', 'gdtiguan', 'gdvf', 'gdx5', 'gdxr6', 'gdzb', 'gradyrc86', 'gt4um', 'gt63', 'gta_props_fivem', 'gto91', 'gurkhaUM', 'hacking', 'hedwig_hunt', 'hellcat', 'hospitalsandy', 'hoverbike', 'hps', 'hsvmaloo', 'illenium-appearance', 'int_prisonfull', 'interact-sound', 'ipls_resource', 'jeepg', 'jg-advancedgarages', 'jg-textui', 'jim-mechanic', 'jim-mining', 'jim-payments', 'k4mb1shellstarter', 'kawasakih2', 'kc73pgt3rsakrapovic', 'KnocksPackV2', 'lambov10', 'LAMtmc17', 'laundry', 'lexusrcf', 'lg18bmwm4', 'lux_vehcontrol', 'LuxuAdmin', 'LuxuModules', 'm5soundmod', 'm422', 'man', 'mapmanager', 'memorygame', 'menuv', 'mercm177', 'meta_libs', 'mhacking', 'minimap', 'mka-lasers', 'ml720v8eng', 'molo_mrpd', 'monitor', 'mountzonah_lift', 'MugShotBase64', 'mustang19', 'mz_addons', 'NativeUI', 'okokBilling', 'okokContract', 'okokCrafting', 'okokNotify', 'okokTextUI', 'okokVehicleShop', 'operation_floor', 'ox_lib', 'oxmysql', 'pablito_delperro', 'paletopd', 'patty', 'pd_sandy', 'pma-voice', 'PolyZone', 'porche911', 'porscheTC', 'prisonbus', 'prisonprops', 'progressbar', 'prompt_paleto_clinic', 'ps-dispatch', 'ps-housing', 'ps-mdt', 'ps-realtor', 'ps-ui', 'q820', 'qasambo', 'qb-adminmenu', 'qb-atms', 'qb-banking', 'qb-bankrobbery', 'qb-busjob', 'qb-cityhall', 'qb-core', 'qb-crypto', 'qb-doorlock', 'qb-drugs', 'qb-fitbit', 'qb-hotdogjob', 'qb-houserobbery', 'qb-hud', 'qb-input', 'qb-interior', 'qb-jewelery', 'qb-keyminigame', 'qb-lapraces', 'qb-loading', 'qb-lockpick', 'qb-management', 'qb-mechanicjob', 'qb-menu', 'qb-multicharacter', 'qb-newsjob', 'qb-pawnshop', 'qb-policejob', 'qb-prison', 'qb-radialmenu', 'qb-recyclejob', 'qb-scoreboard', 'qb-scrapyard', 'qb-shops', 'qb-skillbar', 'qb-smallresources', 'qb-spawn', 'qb-storerobbery', 'qb-streetraces', 'qb-target', 'qb-taxijob', 'qb-towjob', 'qb-traphouse', 'qb-truckerjob', 'qb-truckrobbery', 'qb-tunerchip', 'qb-vehiclefailure', 'qb-vehiclekeys', 'qb-vineyard', 'qb-weathersync', 'qb-weed', 'qs-armor', 'qs-backpacks', 'qs-base', 'qs-crypto', 'qs-inventory', 'qs-parachute', 'qs-racing', 'qs-rental', 'qs-sellix', 'qs-shops', 'qs-smartphone', 'qs-videos', 'qs-weapondraw', 'qs-weaponsonback', 'qua_ls_custom', 'r_megaphone', 'r34sound', 'r820', 'Rakchr', 'ramTransport', 'randol_moneywash', 'raptorUM', 'rav4UM', 'rcore_casino', 'rcore_casino_map', 'refine-mechat', 'room_floor', 'rs6UM', 'safecracker', 'sapfbuggy', 'screenshot-basic', 'skyline', 'slsamg', 'smartphone_props', 'spawnmanager', 'stingerUM', 'streetglide', 'sultanaUM', 'sv6UM', 't680', 'tamustanggt50', 'teslapd', 'tgiann-skillbar', 'toyotasj', 'trackhawkUM', 'trailers', 'truck_logistics', 'ult-kfc-legion', 'uniqx_burgershot', 'urgence_floor', 'VespucciPS', 'vessv', 'vessvu', 'vessvw', 'vfTC', 'vnl780', 'vwgolf', 'VWtoua19cf', 'w900', 'wasabi_ambulance', 'wasabi_bridge', 'wasabi_fishing', 'wasabi_tireslash', 'washing', 'webpack', 'wk_wars2x', 'wm-serversirens', 'wmlwb', 'WRX19', 'wrxrllyeng', 'x5UM', 'xr6UM', 'xsound', 'Xxr6UM', 'yamahamt', 'yamahayz', 'yarn', 'zdiscord', 'zerio-jobcenter', 'zerio-radio']]\n",
      "The last index is: 19\n",
      "Scraping server 20, id is loem7v\n",
      "loem7v\n"
     ]
    },
    {
     "name": "stderr",
     "output_type": "stream",
     "text": [
      "Server Name: TheServer\n"
     ]
    },
    {
     "name": "stdout",
     "output_type": "stream",
     "text": [
      "%%%%%%%%%%%%%%%%%%%%%%%%%%%%%%%%%%%%%%%%%%%%%%%%%%%%%%%%%%%%%%%%%\n",
      "TheServer\n",
      "%%%%%%%%%%%%%%%%%%%%%%%%%%%%%%%%%%%%%%%%%%%%%%%%%%%%%%%%%%%%%%%%%\n"
     ]
    },
    {
     "name": "stderr",
     "output_type": "stream",
     "text": [
      "Resources: 1Emergency, 2Clothes, 3Temp, actionbar, AddOnSniper, admin, apolicec6, apoliceuc_pack, assets, assets_maps, assets_vehicles, assets_weapons, atlas, banking, base, BigButt-Vehsounds, camera, Car_show, carwash, cfx_gn_collection, cfx_gn_mazebank_w, cfx_gn_von_lobby, cfx-gabz-247, cfx-gabz-altruists, cfx-gabz-ammunation, cfx-gabz-aztecas, cfx-gabz-ballas, cfx-gabz-barber, cfx-gabz-beanmachine, cfx-gabz-bennys, cfx-gabz-binco, cfx-gabz-bobcat, cfx-gabz-bowling, cfx-gabz-burgershot, cfx-gabz-carmeet, cfx-gabz-casino, cfx-gabz-catcafe, cfx-gabz-davispd, cfx-gabz-diner, cfx-gabz-esbltd, cfx-gabz-families, cfx-gabz-fleeca, cfx-gabz-harmony, cfx-gabz-impound, cfx-gabz-lamesapd, cfx-gabz-lostsc, cfx-gabz-mapdata, cfx-gabz-marabunta, cfx-gabz-mba, cfx-gabz-mrpd, cfx-gabz-ottos, cfx-gabz-pacificbank, cfx-gabz-paletobank, cfx-gabz-paletoliquor, cfx-gabz-paletopd, cfx-gabz-pdm, cfx-gabz-pdprops, cfx-gabz-pillbox, cfx-gabz-pizzeria, cfx-gabz-ponsonbys, cfx-gabz-prison, cfx-gabz-records, cfx-gabz-sandypd, cfx-gabz-studio, cfx-gabz-suburban, cfx-gabz-tattoo, cfx-gabz-townhall, cfx-gabz-triads, cfx-gabz-tuners, cfx-gabz-vagos, cfx-gabz-vbmarket, cfx-gabz-vu, chat, cid, com_carpark_fix, comedyclub, commands, connectqueue, CR727, cron, dances, datacrack, dealer, DedSec, density, DiamondBlackjack, dispatch, DMV%20Slys, drz_interiors, eblips, ed_pawnstar, EmergencyVehicles, emotes, EMS, errorlog, evidence, fibv, fish_store, fiv3devs_bahamamamas, fiv3devs_headquarters, frmz-goldpanning, frmz-housecatalog, frmz-inventory, frmz-metaldetecting, frmz-uimanager, frmz-vehiclecustoms, furnished-shells, furniture, furniture2, fx, gangs, gangweapons, Gas_pumps, gcom_smuggling_v2, gn_tplift_mazebank_w, golf, gunmeta, gunmetaDLC, hachurar, hackminigame, hackminigame2, halloween_richards_maps_pack, haunted_house, heaven, heli, hito_drugeffects, HK-UMP, hospitalization, hunt_store, iak_wheelchair, infinity, int_sandymc, int_skateshop, InteractSound, interior, isPed, italianrest, jailbreak, JD_logs, JMfat, jobmanager, jobsystem, jr_postop_warehouse, kart, keypackhack, keypad, keys, koillove, koilWeatherSync, legacy-context, legacy-vanillaCarTweak, lj-compass, lmfao, loading-screen, LockDoors, lockpicking, log, lspdraiden, lux_vehcontrol, M6IC, MapGraffiti, mapmanager, maps, mayo-drugs, mayobanking, Melee, memorygame_2, mhacking, minimap, monitor, motel, nation_roxanne, news, newsJob, nh-keyboard, nh-scenes-main, nkcoquette, nkcruiser, nkgauntlet4, nkscout, notepad, numOrder, nutt_sagma, oBinoculars, oCam, oGasStations, oHideFrames, oPlayerNumbers, oRecoil, oStress, outlawalert, oVehicleMod, oxmysql, parkrls, particles, PDBicycle, PEDS, pma-voice, polalamo, poldom, police, policebike, polsultan, polveh, polveh2, PolyZone, propattach, Race-Track2, radio, ragdoll, raid_carmenu, rconlog, rdzk_b_mirror, robbery, rockford_records, rtx_scenarios, rtx_themepark, rtx_themepark_objects, SafetyCar, Saloon, scoreboard, secondaryjobs, segway, sentinels, Shells, shops, sirens, spawnmanager, speedometer, spikes, srvr-apartments, srvr-applications, srvr-armoredtrucks, srvr-bcs, srvr-Bigbutt-vanilla, srvr-boosting, srvr-burnerphone, srvr-business, srvr-cad, srvr-careers, srvr-cars, srvr-chopshop, srvr-circlegame, srvr-clothingmenu, srvr-context, srvr-deliveryjob, srvr-devtools, srvr-discord, srvr-doors, srvr-drugs, srvr-elevators, srvr-fishing, srvr-flags, srvr-fleecas, srvr-garages, srvr-garbagejob, srvr-houserobbery, srvr-housing, srvr-hrt, srvr-hud, srvr-hunting, srvr-input, srvr-interiors, srvr-jobs, srvr-keymapping, srvr-lib, srvr-map, srvr-map-bridge-mrpd, srvr-map-BushWookieAlta, srvr-map-BushWookieCougarAve, srvr-map-bw_samaustindrive, srvr-map-carrier, srvr-map-cleanup, srvr-map-containers, srvr-map-fz-rework, srvr-map-jump-changes, srvr-map-map_Changes, srvr-map-Mesa_heil, srvr-market, srvr-mdt, srvr-me, srvr-mechanics, srvr-medical, srvr-menu, srvr-metaldetecting, srvr-mining, srvr-modesport, srvr-oxyruns, srvr-pcn, srvr-PDMcatalog, srvr-pedAI, srvr-peds, srvr-phone, srvr-police, srvr-polyzone, srvr-prison, srvr-PZ, srvr-spawn, srvr-storerobbery, srvr-sync, srvr-target, srvr-tattoos, srvr-textui, srvr-towjob, srvr-tunerlaptop, srvr-usedvehicleshop, srvr-utility, srvr-vangelico, srvr-vegetation, srvr-vehicleaudio, srvr-vehiclesshop, srvr-vehmaintenance, srvr-vehrental, srvr-verticalbar, srvr-weapons, srvr-weather, srvr-whitelist, srvr-xhair, stashhouse, storage, Stunt_prop_fix, sunriser, supergts, SYN_Glock21, SYN_MPX, SYN_PP19, Syn-xhair, Taco%20Truck, taskbar, taskbarskill, taskbarthreat, tasknotify, taximeter, taxinew, tempestaes, test, test_weapons, tf-pointing, tow, towtruckjob, ultra-voltlab, vanillaCarTweak, veh, VehicleAirControl, vineyard, Virus, votesystem, warmenu, weapons, WeazelNews, wheelchair, wk_wars2x, yarn, yk_arcade, yk_pool, ziongtc, zr380p\n",
      "OneSync: enabled\n",
      "Language: English (United States)\n",
      "Tags: roleplay, rp, police, ems, drugs, jobs, custom scripts, realistic\n",
      "JD_logs: V1.2.0\n",
      "discord: discord.gg/theserver\n",
      "DLC level: 2944\n",
      "sv_pureLevel: 0\n",
      "website: forum.theserver.gg/fivem/index.php\n",
      "can_review: true\n",
      "Owner: CrypticCryptic\n",
      "https://servers.fivem.net/servers/detail/56lgb7\n"
     ]
    },
    {
     "name": "stdout",
     "output_type": "stream",
     "text": [
      "['TheServer', 'https://servers.fivem.net/servers/detail/loem7v', '', '', 'enabled', '', 'English (United States)', 'roleplay, rp, police, ems, drugs, jobs, custom scripts, realistic', '2944', '', 'CrypticCryptic', '', '', ['1Emergency', '2Clothes', '3Temp', 'actionbar', 'AddOnSniper', 'admin', 'apolicec6', 'apoliceuc_pack', 'assets', 'assets_maps', 'assets_vehicles', 'assets_weapons', 'atlas', 'banking', 'base', 'BigButt-Vehsounds', 'camera', 'Car_show', 'carwash', 'cfx_gn_collection', 'cfx_gn_mazebank_w', 'cfx_gn_von_lobby', 'cfx-gabz-247', 'cfx-gabz-altruists', 'cfx-gabz-ammunation', 'cfx-gabz-aztecas', 'cfx-gabz-ballas', 'cfx-gabz-barber', 'cfx-gabz-beanmachine', 'cfx-gabz-bennys', 'cfx-gabz-binco', 'cfx-gabz-bobcat', 'cfx-gabz-bowling', 'cfx-gabz-burgershot', 'cfx-gabz-carmeet', 'cfx-gabz-casino', 'cfx-gabz-catcafe', 'cfx-gabz-davispd', 'cfx-gabz-diner', 'cfx-gabz-esbltd', 'cfx-gabz-families', 'cfx-gabz-fleeca', 'cfx-gabz-harmony', 'cfx-gabz-impound', 'cfx-gabz-lamesapd', 'cfx-gabz-lostsc', 'cfx-gabz-mapdata', 'cfx-gabz-marabunta', 'cfx-gabz-mba', 'cfx-gabz-mrpd', 'cfx-gabz-ottos', 'cfx-gabz-pacificbank', 'cfx-gabz-paletobank', 'cfx-gabz-paletoliquor', 'cfx-gabz-paletopd', 'cfx-gabz-pdm', 'cfx-gabz-pdprops', 'cfx-gabz-pillbox', 'cfx-gabz-pizzeria', 'cfx-gabz-ponsonbys', 'cfx-gabz-prison', 'cfx-gabz-records', 'cfx-gabz-sandypd', 'cfx-gabz-studio', 'cfx-gabz-suburban', 'cfx-gabz-tattoo', 'cfx-gabz-townhall', 'cfx-gabz-triads', 'cfx-gabz-tuners', 'cfx-gabz-vagos', 'cfx-gabz-vbmarket', 'cfx-gabz-vu', 'chat', 'cid', 'com_carpark_fix', 'comedyclub', 'commands', 'connectqueue', 'CR727', 'cron', 'dances', 'datacrack', 'dealer', 'DedSec', 'density', 'DiamondBlackjack', 'dispatch', 'DMV%20Slys', 'drz_interiors', 'eblips', 'ed_pawnstar', 'EmergencyVehicles', 'emotes', 'EMS', 'errorlog', 'evidence', 'fibv', 'fish_store', 'fiv3devs_bahamamamas', 'fiv3devs_headquarters', 'frmz-goldpanning', 'frmz-housecatalog', 'frmz-inventory', 'frmz-metaldetecting', 'frmz-uimanager', 'frmz-vehiclecustoms', 'furnished-shells', 'furniture', 'furniture2', 'fx', 'gangs', 'gangweapons', 'Gas_pumps', 'gcom_smuggling_v2', 'gn_tplift_mazebank_w', 'golf', 'gunmeta', 'gunmetaDLC', 'hachurar', 'hackminigame', 'hackminigame2', 'halloween_richards_maps_pack', 'haunted_house', 'heaven', 'heli', 'hito_drugeffects', 'HK-UMP', 'hospitalization', 'hunt_store', 'iak_wheelchair', 'infinity', 'int_sandymc', 'int_skateshop', 'InteractSound', 'interior', 'isPed', 'italianrest', 'jailbreak', 'JD_logs', 'JMfat', 'jobmanager', 'jobsystem', 'jr_postop_warehouse', 'kart', 'keypackhack', 'keypad', 'keys', 'koillove', 'koilWeatherSync', 'legacy-context', 'legacy-vanillaCarTweak', 'lj-compass', 'lmfao', 'loading-screen', 'LockDoors', 'lockpicking', 'log', 'lspdraiden', 'lux_vehcontrol', 'M6IC', 'MapGraffiti', 'mapmanager', 'maps', 'mayo-drugs', 'mayobanking', 'Melee', 'memorygame_2', 'mhacking', 'minimap', 'monitor', 'motel', 'nation_roxanne', 'news', 'newsJob', 'nh-keyboard', 'nh-scenes-main', 'nkcoquette', 'nkcruiser', 'nkgauntlet4', 'nkscout', 'notepad', 'numOrder', 'nutt_sagma', 'oBinoculars', 'oCam', 'oGasStations', 'oHideFrames', 'oPlayerNumbers', 'oRecoil', 'oStress', 'outlawalert', 'oVehicleMod', 'oxmysql', 'parkrls', 'particles', 'PDBicycle', 'PEDS', 'pma-voice', 'polalamo', 'poldom', 'police', 'policebike', 'polsultan', 'polveh', 'polveh2', 'PolyZone', 'propattach', 'Race-Track2', 'radio', 'ragdoll', 'raid_carmenu', 'rconlog', 'rdzk_b_mirror', 'robbery', 'rockford_records', 'rtx_scenarios', 'rtx_themepark', 'rtx_themepark_objects', 'SafetyCar', 'Saloon', 'scoreboard', 'secondaryjobs', 'segway', 'sentinels', 'Shells', 'shops', 'sirens', 'spawnmanager', 'speedometer', 'spikes', 'srvr-apartments', 'srvr-applications', 'srvr-armoredtrucks', 'srvr-bcs', 'srvr-Bigbutt-vanilla', 'srvr-boosting', 'srvr-burnerphone', 'srvr-business', 'srvr-cad', 'srvr-careers', 'srvr-cars', 'srvr-chopshop', 'srvr-circlegame', 'srvr-clothingmenu', 'srvr-context', 'srvr-deliveryjob', 'srvr-devtools', 'srvr-discord', 'srvr-doors', 'srvr-drugs', 'srvr-elevators', 'srvr-fishing', 'srvr-flags', 'srvr-fleecas', 'srvr-garages', 'srvr-garbagejob', 'srvr-houserobbery', 'srvr-housing', 'srvr-hrt', 'srvr-hud', 'srvr-hunting', 'srvr-input', 'srvr-interiors', 'srvr-jobs', 'srvr-keymapping', 'srvr-lib', 'srvr-map', 'srvr-map-bridge-mrpd', 'srvr-map-BushWookieAlta', 'srvr-map-BushWookieCougarAve', 'srvr-map-bw_samaustindrive', 'srvr-map-carrier', 'srvr-map-cleanup', 'srvr-map-containers', 'srvr-map-fz-rework', 'srvr-map-jump-changes', 'srvr-map-map_Changes', 'srvr-map-Mesa_heil', 'srvr-market', 'srvr-mdt', 'srvr-me', 'srvr-mechanics', 'srvr-medical', 'srvr-menu', 'srvr-metaldetecting', 'srvr-mining', 'srvr-modesport', 'srvr-oxyruns', 'srvr-pcn', 'srvr-PDMcatalog', 'srvr-pedAI', 'srvr-peds', 'srvr-phone', 'srvr-police', 'srvr-polyzone', 'srvr-prison', 'srvr-PZ', 'srvr-spawn', 'srvr-storerobbery', 'srvr-sync', 'srvr-target', 'srvr-tattoos', 'srvr-textui', 'srvr-towjob', 'srvr-tunerlaptop', 'srvr-usedvehicleshop', 'srvr-utility', 'srvr-vangelico', 'srvr-vegetation', 'srvr-vehicleaudio', 'srvr-vehiclesshop', 'srvr-vehmaintenance', 'srvr-vehrental', 'srvr-verticalbar', 'srvr-weapons', 'srvr-weather', 'srvr-whitelist', 'srvr-xhair', 'stashhouse', 'storage', 'Stunt_prop_fix', 'sunriser', 'supergts', 'SYN_Glock21', 'SYN_MPX', 'SYN_PP19', 'Syn-xhair', 'Taco%20Truck', 'taskbar', 'taskbarskill', 'taskbarthreat', 'tasknotify', 'taximeter', 'taxinew', 'tempestaes', 'test', 'test_weapons', 'tf-pointing', 'tow', 'towtruckjob', 'ultra-voltlab', 'vanillaCarTweak', 'veh', 'VehicleAirControl', 'vineyard', 'Virus', 'votesystem', 'warmenu', 'weapons', 'WeazelNews', 'wheelchair', 'wk_wars2x', 'yarn', 'yk_arcade', 'yk_pool', 'ziongtc', 'zr380p']]\n",
      "The last index is: 20\n",
      "Scraping server 21, id is 56lgb7\n",
      "56lgb7\n"
     ]
    },
    {
     "name": "stderr",
     "output_type": "stream",
     "text": [
      "Server Name: Royal Roleplay ♕\n"
     ]
    },
    {
     "name": "stdout",
     "output_type": "stream",
     "text": [
      "%%%%%%%%%%%%%%%%%%%%%%%%%%%%%%%%%%%%%%%%%%%%%%%%%%%%%%%%%%%%%%%%%\n",
      "Royal Roleplay ♕\n",
      "%%%%%%%%%%%%%%%%%%%%%%%%%%%%%%%%%%%%%%%%%%%%%%%%%%%%%%%%%%%%%%%%%\n"
     ]
    },
    {
     "name": "stderr",
     "output_type": "stream",
     "text": [
      "Resources: 5m_ingbank, 22m3, 180sxrb, 765lt, 812mansory, a45amg, ac_radio, addon-carsounds, addon-csounds, addon-emergency, advanced_mechanic, africat, ambu1, ambu9, ambu13, ambuboxter, ambulancevolvo, ambuvolkswagen, anwbgebouw, Apollo, ar15, ars6c8avant, art-museum, aspect_steekband, ataNotification, autogeluideclipse, autogeluidevo, autogeluidg800, autogeluidgt3, autogeluidgt63, autogeluidgtr, autogeluidlfa, autogeluidm5, autogeluidrs5, autogeluidrs6, autogeluidskyline, autoschool, baja, better-crouch-main, bikerental, bixbi_zipties, blips_creator, bmeclipse95, bmwm5cs, boatdealer, bob74_ipl, BP_weg, brian_o, brownprison, c63s, carpackie, CarryPeople, cgsznt_high_map, chat, chat_theme, checkpols, chiron3, chud, citroends23, civic96, cliors, club, core_drugs, cp9a, cron, css_meldingen, custom_props, CustomPlate, dano_armas, dawnonyx, DeathCam, diablo, Dikkewagens, diojamz-me, disabledispatch, DisableVehiclePeds, Discordpresence, divo, dpclothing, e63samg, EasyAdmin, easytime, es_extended, esx_addonaccount, esx_addoninventory, esx_advancedgarage, esx_advancedholdup, esx_anwbgarage, esx_basicneeds, esx_billing, esx_boat, esx_carwash, esx_context, esx_cruisecontrol, esx_customui, esx_diving, esx_dmvschool, esx_drugs, esx_duty, esx_givevehicle, esx_identity, esx_instance-onesync, esx_jetshop, esx_license, esx_lscustom, esx_menu_default, esx_menu_dialog, esx_menu_list, esx_notify, esx_pasjesmenu, esx_poolcleaner, esx_progressbar, esx_property, esx_recoil, esx_repairkit, esx_rpchat, esx_scoreboard, esx_society, esx_status, esx_textui, esx_vehiclelock, esx_vehicleshop, esx_windowcleaner, esx-kr-vehicle-push, esx-qalle-jail, eup1, eup2, f12tdf, ferraripista, ffpsshot_aim, fivem-appearance, FiveM-Point-finger, FiveM-Seatbelt, fk8, fkk, FMSharedLite, FordConnect, ft_libs, Fuente_Blanca, fusti_jobcenter, futurecarpack, fxxk, gabz_imp_garage, gabz_lost, garage, gcb23x7, gksphone, gle53coupe, glock-19, glock22, glsbrabus800, haar2, hair, handsup, hondavan, hostageplayer, IDsAboveHead, ikx33vtec94, impala67, interact-sound, ipl_nightclub, ir_pausemenu, irc, jaguarfpace, jesko2020x, jobvoertuigen, jsfour-dna, jsfour-idcard, kmarastra, Kuzkay_Meth, lcs1000rr, LegacyFuel, legion2, LegRagdoll, lesauto, lincoln, logsystem, longfin2, ltec-atmrobbery, LuxeAnimals, M1K4-WeaponBag, M6IC, M16A4, m70, mafia, mafia_szopskurwysyn, mansion, menuv, meos, merged, MIX-ELS, ml-sound, moneywash, monitor, MRPD, mumble-voip, myDj, mythic_notify, mythic_progbar, nad_rockstar, NativeUI, nc-outfits-main, nearest-postal, nightclub, NoNPC, okokBanking, okokBilling, okokNotify, okokReports, okokTextUI, Oplegger, otaku_vehicleshop, ox_doorlock, ox_inventory, ox_lib, ox_target, oxmysql, penthouse, performante, playboy, polaudi, PoliceVehiclesWeaponDeleter, PolyZone, progressBars-1.0, q820, r8v10, rm_vangelicoheist, rmodescort, rmodm3touring, rmodrs6r, rmodsupra, rmodsvj, rolstoel, royal_hulpdienstencars, royal_loadingscreen, royal-punch, rp-radio, rpemotes, rprogress, rs6avant2020, rs7abt, s63b44, shyDriveby, shyDrugs, shySearch, spawnmanager, sq7, staff-ui, Staffhesjes, struikelscript, TAC-14, toysupmk4, tundra, twingo, urus, UV-staffzaak, veh_label, vehiclefailure, Vespa_Sprint_2016, vespucci, vesx_dialog, vineyards, VisualSettings, vltx-notify, vltx-postnl, wasabi_ambu, wasabi_backpack, wasabi_elevators-main, wasabi_fishing, wasabi_mining, wasabi_police, WEAPON_Kimber, weapon_m9, weapon-vehicle, x52016, xsound, yarn, zero-notify, Ziekenhuis, ZV_serversirens\n",
      "Game type: ESX Legacy\n",
      "Map: San Andreas\n",
      "OneSync: enabled\n",
      "Language: Dutch (Netherlands)\n",
      "Tags: default, esx, politie, dutch, royalrp, roleplay,esx\n",
      "sv_pureLevel: 0\n",
      "can_review: true\n",
      "Owner: Danyuv\n",
      "https://servers.fivem.net/servers/detail/693ap8\n"
     ]
    },
    {
     "name": "stdout",
     "output_type": "stream",
     "text": [
      "['Royal Roleplay ♕', 'https://servers.fivem.net/servers/detail/56lgb7', '', 'ESX Legacy', 'enabled', 'San Andreas', 'Dutch (Netherlands)', 'default, esx, politie, dutch, royalrp, roleplay,esx', '', '', 'Danyuv', '', '', ['5m_ingbank', '22m3', '180sxrb', '765lt', '812mansory', 'a45amg', 'ac_radio', 'addon-carsounds', 'addon-csounds', 'addon-emergency', 'advanced_mechanic', 'africat', 'ambu1', 'ambu9', 'ambu13', 'ambuboxter', 'ambulancevolvo', 'ambuvolkswagen', 'anwbgebouw', 'Apollo', 'ar15', 'ars6c8avant', 'art-museum', 'aspect_steekband', 'ataNotification', 'autogeluideclipse', 'autogeluidevo', 'autogeluidg800', 'autogeluidgt3', 'autogeluidgt63', 'autogeluidgtr', 'autogeluidlfa', 'autogeluidm5', 'autogeluidrs5', 'autogeluidrs6', 'autogeluidskyline', 'autoschool', 'baja', 'better-crouch-main', 'bikerental', 'bixbi_zipties', 'blips_creator', 'bmeclipse95', 'bmwm5cs', 'boatdealer', 'bob74_ipl', 'BP_weg', 'brian_o', 'brownprison', 'c63s', 'carpackie', 'CarryPeople', 'cgsznt_high_map', 'chat', 'chat_theme', 'checkpols', 'chiron3', 'chud', 'citroends23', 'civic96', 'cliors', 'club', 'core_drugs', 'cp9a', 'cron', 'css_meldingen', 'custom_props', 'CustomPlate', 'dano_armas', 'dawnonyx', 'DeathCam', 'diablo', 'Dikkewagens', 'diojamz-me', 'disabledispatch', 'DisableVehiclePeds', 'Discordpresence', 'divo', 'dpclothing', 'e63samg', 'EasyAdmin', 'easytime', 'es_extended', 'esx_addonaccount', 'esx_addoninventory', 'esx_advancedgarage', 'esx_advancedholdup', 'esx_anwbgarage', 'esx_basicneeds', 'esx_billing', 'esx_boat', 'esx_carwash', 'esx_context', 'esx_cruisecontrol', 'esx_customui', 'esx_diving', 'esx_dmvschool', 'esx_drugs', 'esx_duty', 'esx_givevehicle', 'esx_identity', 'esx_instance-onesync', 'esx_jetshop', 'esx_license', 'esx_lscustom', 'esx_menu_default', 'esx_menu_dialog', 'esx_menu_list', 'esx_notify', 'esx_pasjesmenu', 'esx_poolcleaner', 'esx_progressbar', 'esx_property', 'esx_recoil', 'esx_repairkit', 'esx_rpchat', 'esx_scoreboard', 'esx_society', 'esx_status', 'esx_textui', 'esx_vehiclelock', 'esx_vehicleshop', 'esx_windowcleaner', 'esx-kr-vehicle-push', 'esx-qalle-jail', 'eup1', 'eup2', 'f12tdf', 'ferraripista', 'ffpsshot_aim', 'fivem-appearance', 'FiveM-Point-finger', 'FiveM-Seatbelt', 'fk8', 'fkk', 'FMSharedLite', 'FordConnect', 'ft_libs', 'Fuente_Blanca', 'fusti_jobcenter', 'futurecarpack', 'fxxk', 'gabz_imp_garage', 'gabz_lost', 'garage', 'gcb23x7', 'gksphone', 'gle53coupe', 'glock-19', 'glock22', 'glsbrabus800', 'haar2', 'hair', 'handsup', 'hondavan', 'hostageplayer', 'IDsAboveHead', 'ikx33vtec94', 'impala67', 'interact-sound', 'ipl_nightclub', 'ir_pausemenu', 'irc', 'jaguarfpace', 'jesko2020x', 'jobvoertuigen', 'jsfour-dna', 'jsfour-idcard', 'kmarastra', 'Kuzkay_Meth', 'lcs1000rr', 'LegacyFuel', 'legion2', 'LegRagdoll', 'lesauto', 'lincoln', 'logsystem', 'longfin2', 'ltec-atmrobbery', 'LuxeAnimals', 'M1K4-WeaponBag', 'M6IC', 'M16A4', 'm70', 'mafia', 'mafia_szopskurwysyn', 'mansion', 'menuv', 'meos', 'merged', 'MIX-ELS', 'ml-sound', 'moneywash', 'monitor', 'MRPD', 'mumble-voip', 'myDj', 'mythic_notify', 'mythic_progbar', 'nad_rockstar', 'NativeUI', 'nc-outfits-main', 'nearest-postal', 'nightclub', 'NoNPC', 'okokBanking', 'okokBilling', 'okokNotify', 'okokReports', 'okokTextUI', 'Oplegger', 'otaku_vehicleshop', 'ox_doorlock', 'ox_inventory', 'ox_lib', 'ox_target', 'oxmysql', 'penthouse', 'performante', 'playboy', 'polaudi', 'PoliceVehiclesWeaponDeleter', 'PolyZone', 'progressBars-1.0', 'q820', 'r8v10', 'rm_vangelicoheist', 'rmodescort', 'rmodm3touring', 'rmodrs6r', 'rmodsupra', 'rmodsvj', 'rolstoel', 'royal_hulpdienstencars', 'royal_loadingscreen', 'royal-punch', 'rp-radio', 'rpemotes', 'rprogress', 'rs6avant2020', 'rs7abt', 's63b44', 'shyDriveby', 'shyDrugs', 'shySearch', 'spawnmanager', 'sq7', 'staff-ui', 'Staffhesjes', 'struikelscript', 'TAC-14', 'toysupmk4', 'tundra', 'twingo', 'urus', 'UV-staffzaak', 'veh_label', 'vehiclefailure', 'Vespa_Sprint_2016', 'vespucci', 'vesx_dialog', 'vineyards', 'VisualSettings', 'vltx-notify', 'vltx-postnl', 'wasabi_ambu', 'wasabi_backpack', 'wasabi_elevators-main', 'wasabi_fishing', 'wasabi_mining', 'wasabi_police', 'WEAPON_Kimber', 'weapon_m9', 'weapon-vehicle', 'x52016', 'xsound', 'yarn', 'zero-notify', 'Ziekenhuis', 'ZV_serversirens']]\n",
      "The last index is: 21\n",
      "Scraping server 22, id is 693ap8\n",
      "693ap8\n"
     ]
    },
    {
     "name": "stderr",
     "output_type": "stream",
     "text": [
      "Server Name: Jade City\n"
     ]
    },
    {
     "name": "stdout",
     "output_type": "stream",
     "text": [
      "%%%%%%%%%%%%%%%%%%%%%%%%%%%%%%%%%%%%%%%%%%%%%%%%%%%%%%%%%%%%%%%%%\n",
      "Jade City\n",
      "%%%%%%%%%%%%%%%%%%%%%%%%%%%%%%%%%%%%%%%%%%%%%%%%%%%%%%%%%%%%%%%%%\n"
     ]
    },
    {
     "name": "stderr",
     "output_type": "stream",
     "text": [
      "Resources: 20fttrailer, AB45-JobCenter, abandonedhood1, abandonedhood2, advanced_vehicles, AK-47, ak47_qb_ambulancejob, ak47_qb_anklemonitor, ak47_qb_business, ak47_qb_cannabiscafev2, ak47_qb_cardealer, ak47_qb_crutch, ak47_qb_drugmanager, ak47_qb_hookahlounge, ak47_qb_housing, ak47_qb_smokingv2, ak47_qb_usabledrugs, ak47_qb_whitewidowv2, AltcultCartel, an_accountsHUD, angelicxs-BankTruck, angelicxs-CivilianJobs, angelicxs-FullSteal, angelicxs-YachtHeist, AntiVDM, apollo_clothing_stores, apolo_loadingscreen, AR-15, av_laptop, av_music, av_restaurants, b-crypto, ballaasfat, barber_stop, baseevents, basic-gamemode, bb-dices, bbv-interactbutton, bbv-repair, bbv-travel, bbv-warp, bennysvan, bennysvan2, bennysvan3, Bo-Cars, bob74_ipl, boii-consumables, brofx_ganghouse, brofx_mansion_18, brofx_villa_01, brum_blunt_normal, brum_snackpack, brutal_atm_robbery, brutal_gym, bryan_paintjob, bumpercar, buzz_gopostal, bzzz_cocaplant, bzzz_foodpack, bzzz_icecream, bzzz_lights_and_lamps, bzzz_shop_locker, Car-Pack-23, casinoUi, CayoImprovements, cdev_multijob, chalet, chat, ChildMale22F, cityhall, cm-pausemenu, codem-bank, codem-chat, codem-venicehud, connectqueue, consumer_pack, cotrailer, crosshair, ctrailer, custom_board, customblips, cw-raidjob, cw-rgbpainter, cw-trade, cw-traders, cw-vending, DamageSettings, dealer_map, desert_mansion, DesertEagle, design_house, devcore_drugsell, devcore_needs, devcoresmoke, donch-damage, donutshop-main, dope-football, dpclothing, dpemotes, dr-scratching, dv-hookers, ElectricSkateboardFiveM, EmsDodge, EOD, erp-autoexotic, FelixPyat, firetools, fivem-appearance, fivem-map-skater, FNFNX45, FOB_Memphis, forest_mansion, freecam, fs-dirtbiketricks, futte-newspaper, gang, gangpeds, GangWar, generic_texture_renderer_gfx, Gigz_BoxingClub, Glock17, green_redeye, Greens-Rides, Grove8, gunsounds, Hall_city_nopix, hane_treybaker, hh_aidoc, hh_vehextras, hills, hkfehdcentralmarket, httpmanager, huntbar_prentiss, HuntingRifle, hypnonema, hypnonema-map, ifruit, int_carmeet, int_vespmech, interact-sound, Iphone, Jade-Cars, Jade-Maps, jcrp_gsr, jcrp-PoliceBadge, jim-chairs, jim-mining, jim-parking, jim-payments, Judge410, K_FRAUDATMS-QB, K_FRAUDPROPS, K_FRAUDSHOPS-QB, K_FRAUDV2-QB, kachal_tdm_jungle, kartingV3, keep-backpack, keep-companion, keep-crafting, keep-hunting, keep-input, keep-menu, keep-sharedgarages, kevin-weaponscratch, knjgh_4healthysnackprops, knjgh_pizzaslices_props, knockout, knocksfemalepackone, knockspackv3, kq_dragy, kq_gameboy, kq_hideouts2, lafa2k_finalfantasyxv, LaundryInterior, LC-Cityhall, LC-Moneywash, LegacyFuel, Leo-Vehicles, lesslethal_shotgun, lg_manage_store, lj-inventory, ln_papers, loaf_spikestrips, LosSantosCustoms, lp750_Lambo, ls_image_placer, lusty94_butcher, luttu_island, lux_vehcontrol, m-FoodVan, M4, M9A3, m34, m62, m63, M70, M1911, MAC-10, Mac11, mafia_mansion, maison, Mansion_06_Vinedos, Mansion_10_Montana, Mansion_15_Playa_Sorteo, Mansion_30_Penthouse_GC, Mansion_45_Cerca_Chilliad, mapmanager, mcdirty, menuv, mhacking, MK14, Model657, momof-textui, money-ui, monitor, Mossberg500, mrpd, mrw_minigolf, mt-chopshop, mt-clothingbag, mt-rental, mt-UwUCafe, MugShotBase64, mythic_notify, nass_serverstore, NativeUI, ngd-cherrypopper, ngd-planecrash, ngd-propstorage, ngd-showcase, nh-keyboard, NPC_Hooker, npcs, okokBilling, Oldies, osm-cameras, ox_lib, oxmysql, pacific_rooftop, PaintballGun, paintballmap, PaletoClubhouse, park, patoche_bumpercar, PercTankPed1, pharmacy_paleto, PiggyBack, pimping, pit-ped, Plame_Shenanigans_restaurant, playlolly_tesla_functions, playlolly_tesla_models, playlolly_tesla_redis, pma-voice, pmms, policetraining, polspeak, PolyZone, PremoLegion, pressurewasher, pressurewashermodels, progressbar, Project_Zoo, propanimenu, PropSet, ps-dispatch, ps-mdt, ps-microphone, ps-objectspawner, ps-ui, ps-zones, pswitches, ptelevision, pv-pager, qalle_rccars, qb_complete_carplay, qb-adminmenu, qb-apartments, qb-bankrobbery, qb-business, qb-carjack, qb-CarRepairStation, qb-clawmachine, qb-coke, qb-cokedealer, qb-cokeruns, qb-commandbinding, qb-containerrobbery, qb-core, qb-customs, qb-customs-2, qb-diving, qb-djbooth, qb-doorlock, qb-drugs, qb-extras, qb-fitbit, qb-gangs, qb-garages, qb-grilling, qb-gunplug, qb-hotdogjob, qb-houserobbery, qb-houses, qb-ifruitstore, qb-input, qb-interior, qb-jewelery, qb-keyminigame, qb-lapraces, qb-lock, qb-lockpick, qb-logs, qb-makeitrain, qb-management, qb-menu, qb-methcar, qb-multicharacter, qb-newsjob, qb-nightvision, qb-oxyrun, qb-paperscript, qb-pawnshop, qb-platescan, qb-pokemontcg, qb-policejob, qb-prison, qb-radialmenu, qb-radio, qb-realestatejob, qb-recyclejob, qb-rentals, qb-robnpc, qb-scoreboard, qb-scrapyard, qb-shops, qb-sit, qb-skillbar, qb-smallresources, qb-spawn, qb-stashes, qb-storerobbery, qb-streetraces, qb-strippers, qb-target, qb-towjob, qb-traphouse, qb-truckerjob, qb-tunerchip, qb-unicornjob, qb-vault, qb-vehiclefailure, qb-vehiclekeys, qb-vehiclesales, qb-vineyard, qb-walkingstyles, qb-weapons, qb-weathersync, qb-weed, qs-smartphone, qs-videos, quimii_himen, radio, RageUI, randol_skydiving, rcore_casino, rcore_casino_interior, rcore_gunshop, rcore_lunapark, rcore_lunapark_assets, rcore_missionframework, rcore_pool, rcore_spray, realweaponrecoil, refuelingnozzle, Remington870, ren-laundering, renzu_customs, renzu_popui, rfc_motoclub_mlo, ribdrug, richards_the_cherry_popperv2, RimsPack, RollerSkating, rrdemondurango, rrdemonmagnum, rrf450g, rs-frontdesk, s32-NikeStore, SA-Money-v2, safecracker, SCAR-H, screenshot-basic, sh-boomerPhone, sh-interactions, Shiv, simple-nightclub, skinchanger, slizzarn_storesystem, smartphone_props, soloty_liquor, soloty_liquor_delperro, spawnmanager, speedlimit, stripper, superchargerdemonv8, surron, taconorth, TakeHostage, teexy_funeral, testpack, textUi, tgiann-look-talking-player, ThdCarPack, the_ora_mansion, Thedoc_Bins, tinus_flatbed, tlux_alcoholprops, tm_davis_fd, towing, truck_logistics, Trucks, um-admin, um-hackerphone, um-idcard, uppertattoos, UZI, vehiclepack, Venice-Notification, vImageCreator, vms_barber, vx-prop-util, wasabi_boombox, wasabi_drink_props, wasabi_elevators, wasabi_snack_props, water_wave, WeaponAnimationOverhaul, weaponholster, Weapons, webpack, wk_wars2x, xmmx-letscook, xmmx-newsalerts, xnPlates, xs_props, xsound, yaluxe, yarn, zf_context\n",
      "Game type: Freeroam\n",
      "Map: fivem-map-skater\n",
      "OneSync: enabled\n",
      "Language: English (United States)\n",
      "Tags: default, deployer, qbcore, qb-core\n",
      "DLC level: 2802\n",
      "sv_pureLevel: 0\n",
      "can_review: true\n",
      "Owner: greenboknows\n",
      "https://servers.fivem.net/servers/detail/zb8lmd\n"
     ]
    },
    {
     "name": "stdout",
     "output_type": "stream",
     "text": [
      "['Jade City', 'https://servers.fivem.net/servers/detail/693ap8', '', 'Freeroam', 'enabled', 'fivem-map-skater', 'English (United States)', 'default, deployer, qbcore, qb-core', '2802', '', 'greenboknows', '', '', ['20fttrailer', 'AB45-JobCenter', 'abandonedhood1', 'abandonedhood2', 'advanced_vehicles', 'AK-47', 'ak47_qb_ambulancejob', 'ak47_qb_anklemonitor', 'ak47_qb_business', 'ak47_qb_cannabiscafev2', 'ak47_qb_cardealer', 'ak47_qb_crutch', 'ak47_qb_drugmanager', 'ak47_qb_hookahlounge', 'ak47_qb_housing', 'ak47_qb_smokingv2', 'ak47_qb_usabledrugs', 'ak47_qb_whitewidowv2', 'AltcultCartel', 'an_accountsHUD', 'angelicxs-BankTruck', 'angelicxs-CivilianJobs', 'angelicxs-FullSteal', 'angelicxs-YachtHeist', 'AntiVDM', 'apollo_clothing_stores', 'apolo_loadingscreen', 'AR-15', 'av_laptop', 'av_music', 'av_restaurants', 'b-crypto', 'ballaasfat', 'barber_stop', 'baseevents', 'basic-gamemode', 'bb-dices', 'bbv-interactbutton', 'bbv-repair', 'bbv-travel', 'bbv-warp', 'bennysvan', 'bennysvan2', 'bennysvan3', 'Bo-Cars', 'bob74_ipl', 'boii-consumables', 'brofx_ganghouse', 'brofx_mansion_18', 'brofx_villa_01', 'brum_blunt_normal', 'brum_snackpack', 'brutal_atm_robbery', 'brutal_gym', 'bryan_paintjob', 'bumpercar', 'buzz_gopostal', 'bzzz_cocaplant', 'bzzz_foodpack', 'bzzz_icecream', 'bzzz_lights_and_lamps', 'bzzz_shop_locker', 'Car-Pack-23', 'casinoUi', 'CayoImprovements', 'cdev_multijob', 'chalet', 'chat', 'ChildMale22F', 'cityhall', 'cm-pausemenu', 'codem-bank', 'codem-chat', 'codem-venicehud', 'connectqueue', 'consumer_pack', 'cotrailer', 'crosshair', 'ctrailer', 'custom_board', 'customblips', 'cw-raidjob', 'cw-rgbpainter', 'cw-trade', 'cw-traders', 'cw-vending', 'DamageSettings', 'dealer_map', 'desert_mansion', 'DesertEagle', 'design_house', 'devcore_drugsell', 'devcore_needs', 'devcoresmoke', 'donch-damage', 'donutshop-main', 'dope-football', 'dpclothing', 'dpemotes', 'dr-scratching', 'dv-hookers', 'ElectricSkateboardFiveM', 'EmsDodge', 'EOD', 'erp-autoexotic', 'FelixPyat', 'firetools', 'fivem-appearance', 'fivem-map-skater', 'FNFNX45', 'FOB_Memphis', 'forest_mansion', 'freecam', 'fs-dirtbiketricks', 'futte-newspaper', 'gang', 'gangpeds', 'GangWar', 'generic_texture_renderer_gfx', 'Gigz_BoxingClub', 'Glock17', 'green_redeye', 'Greens-Rides', 'Grove8', 'gunsounds', 'Hall_city_nopix', 'hane_treybaker', 'hh_aidoc', 'hh_vehextras', 'hills', 'hkfehdcentralmarket', 'httpmanager', 'huntbar_prentiss', 'HuntingRifle', 'hypnonema', 'hypnonema-map', 'ifruit', 'int_carmeet', 'int_vespmech', 'interact-sound', 'Iphone', 'Jade-Cars', 'Jade-Maps', 'jcrp_gsr', 'jcrp-PoliceBadge', 'jim-chairs', 'jim-mining', 'jim-parking', 'jim-payments', 'Judge410', 'K_FRAUDATMS-QB', 'K_FRAUDPROPS', 'K_FRAUDSHOPS-QB', 'K_FRAUDV2-QB', 'kachal_tdm_jungle', 'kartingV3', 'keep-backpack', 'keep-companion', 'keep-crafting', 'keep-hunting', 'keep-input', 'keep-menu', 'keep-sharedgarages', 'kevin-weaponscratch', 'knjgh_4healthysnackprops', 'knjgh_pizzaslices_props', 'knockout', 'knocksfemalepackone', 'knockspackv3', 'kq_dragy', 'kq_gameboy', 'kq_hideouts2', 'lafa2k_finalfantasyxv', 'LaundryInterior', 'LC-Cityhall', 'LC-Moneywash', 'LegacyFuel', 'Leo-Vehicles', 'lesslethal_shotgun', 'lg_manage_store', 'lj-inventory', 'ln_papers', 'loaf_spikestrips', 'LosSantosCustoms', 'lp750_Lambo', 'ls_image_placer', 'lusty94_butcher', 'luttu_island', 'lux_vehcontrol', 'm-FoodVan', 'M4', 'M9A3', 'm34', 'm62', 'm63', 'M70', 'M1911', 'MAC-10', 'Mac11', 'mafia_mansion', 'maison', 'Mansion_06_Vinedos', 'Mansion_10_Montana', 'Mansion_15_Playa_Sorteo', 'Mansion_30_Penthouse_GC', 'Mansion_45_Cerca_Chilliad', 'mapmanager', 'mcdirty', 'menuv', 'mhacking', 'MK14', 'Model657', 'momof-textui', 'money-ui', 'monitor', 'Mossberg500', 'mrpd', 'mrw_minigolf', 'mt-chopshop', 'mt-clothingbag', 'mt-rental', 'mt-UwUCafe', 'MugShotBase64', 'mythic_notify', 'nass_serverstore', 'NativeUI', 'ngd-cherrypopper', 'ngd-planecrash', 'ngd-propstorage', 'ngd-showcase', 'nh-keyboard', 'NPC_Hooker', 'npcs', 'okokBilling', 'Oldies', 'osm-cameras', 'ox_lib', 'oxmysql', 'pacific_rooftop', 'PaintballGun', 'paintballmap', 'PaletoClubhouse', 'park', 'patoche_bumpercar', 'PercTankPed1', 'pharmacy_paleto', 'PiggyBack', 'pimping', 'pit-ped', 'Plame_Shenanigans_restaurant', 'playlolly_tesla_functions', 'playlolly_tesla_models', 'playlolly_tesla_redis', 'pma-voice', 'pmms', 'policetraining', 'polspeak', 'PolyZone', 'PremoLegion', 'pressurewasher', 'pressurewashermodels', 'progressbar', 'Project_Zoo', 'propanimenu', 'PropSet', 'ps-dispatch', 'ps-mdt', 'ps-microphone', 'ps-objectspawner', 'ps-ui', 'ps-zones', 'pswitches', 'ptelevision', 'pv-pager', 'qalle_rccars', 'qb_complete_carplay', 'qb-adminmenu', 'qb-apartments', 'qb-bankrobbery', 'qb-business', 'qb-carjack', 'qb-CarRepairStation', 'qb-clawmachine', 'qb-coke', 'qb-cokedealer', 'qb-cokeruns', 'qb-commandbinding', 'qb-containerrobbery', 'qb-core', 'qb-customs', 'qb-customs-2', 'qb-diving', 'qb-djbooth', 'qb-doorlock', 'qb-drugs', 'qb-extras', 'qb-fitbit', 'qb-gangs', 'qb-garages', 'qb-grilling', 'qb-gunplug', 'qb-hotdogjob', 'qb-houserobbery', 'qb-houses', 'qb-ifruitstore', 'qb-input', 'qb-interior', 'qb-jewelery', 'qb-keyminigame', 'qb-lapraces', 'qb-lock', 'qb-lockpick', 'qb-logs', 'qb-makeitrain', 'qb-management', 'qb-menu', 'qb-methcar', 'qb-multicharacter', 'qb-newsjob', 'qb-nightvision', 'qb-oxyrun', 'qb-paperscript', 'qb-pawnshop', 'qb-platescan', 'qb-pokemontcg', 'qb-policejob', 'qb-prison', 'qb-radialmenu', 'qb-radio', 'qb-realestatejob', 'qb-recyclejob', 'qb-rentals', 'qb-robnpc', 'qb-scoreboard', 'qb-scrapyard', 'qb-shops', 'qb-sit', 'qb-skillbar', 'qb-smallresources', 'qb-spawn', 'qb-stashes', 'qb-storerobbery', 'qb-streetraces', 'qb-strippers', 'qb-target', 'qb-towjob', 'qb-traphouse', 'qb-truckerjob', 'qb-tunerchip', 'qb-unicornjob', 'qb-vault', 'qb-vehiclefailure', 'qb-vehiclekeys', 'qb-vehiclesales', 'qb-vineyard', 'qb-walkingstyles', 'qb-weapons', 'qb-weathersync', 'qb-weed', 'qs-smartphone', 'qs-videos', 'quimii_himen', 'radio', 'RageUI', 'randol_skydiving', 'rcore_casino', 'rcore_casino_interior', 'rcore_gunshop', 'rcore_lunapark', 'rcore_lunapark_assets', 'rcore_missionframework', 'rcore_pool', 'rcore_spray', 'realweaponrecoil', 'refuelingnozzle', 'Remington870', 'ren-laundering', 'renzu_customs', 'renzu_popui', 'rfc_motoclub_mlo', 'ribdrug', 'richards_the_cherry_popperv2', 'RimsPack', 'RollerSkating', 'rrdemondurango', 'rrdemonmagnum', 'rrf450g', 'rs-frontdesk', 's32-NikeStore', 'SA-Money-v2', 'safecracker', 'SCAR-H', 'screenshot-basic', 'sh-boomerPhone', 'sh-interactions', 'Shiv', 'simple-nightclub', 'skinchanger', 'slizzarn_storesystem', 'smartphone_props', 'soloty_liquor', 'soloty_liquor_delperro', 'spawnmanager', 'speedlimit', 'stripper', 'superchargerdemonv8', 'surron', 'taconorth', 'TakeHostage', 'teexy_funeral', 'testpack', 'textUi', 'tgiann-look-talking-player', 'ThdCarPack', 'the_ora_mansion', 'Thedoc_Bins', 'tinus_flatbed', 'tlux_alcoholprops', 'tm_davis_fd', 'towing', 'truck_logistics', 'Trucks', 'um-admin', 'um-hackerphone', 'um-idcard', 'uppertattoos', 'UZI', 'vehiclepack', 'Venice-Notification', 'vImageCreator', 'vms_barber', 'vx-prop-util', 'wasabi_boombox', 'wasabi_drink_props', 'wasabi_elevators', 'wasabi_snack_props', 'water_wave', 'WeaponAnimationOverhaul', 'weaponholster', 'Weapons', 'webpack', 'wk_wars2x', 'xmmx-letscook', 'xmmx-newsalerts', 'xnPlates', 'xs_props', 'xsound', 'yaluxe', 'yarn', 'zf_context']]\n",
      "The last index is: 22\n",
      "Scraping server 23, id is zb8lmd\n",
      "zb8lmd\n"
     ]
    },
    {
     "name": "stderr",
     "output_type": "stream",
     "text": [
      "Server Name: ⌠ALTF4 3.0⌡▬ Serious RP ▬ 🎃HALLOWEEN UPDATE ▬ DAILY REWARDS & PRIZES💵 discord.gg/altf4 USA\n"
     ]
    },
    {
     "name": "stdout",
     "output_type": "stream",
     "text": [
      "%%%%%%%%%%%%%%%%%%%%%%%%%%%%%%%%%%%%%%%%%%%%%%%%%%%%%%%%%%%%%%%%%\n",
      "⌠ALTF4 3.0⌡▬ Serious RP ▬ 🎃HALLOWEEN UPDATE ▬ DAILY REWARDS & PRIZES💵 discord.gg/altf4 USA\n",
      "%%%%%%%%%%%%%%%%%%%%%%%%%%%%%%%%%%%%%%%%%%%%%%%%%%%%%%%%%%%%%%%%%\n"
     ]
    },
    {
     "name": "stderr",
     "output_type": "stream",
     "text": [
      "Resources: __internal_amb-roxwood-interiors, __internal_amb-roxwood-map, __internal_amb-roxwood-mapdata, __internal_amb-roxwood-traffic, __internal_amb-roxwood-vehicles, altf4_airport, altf4_autoschool, altf4_basketball_assets, altf4_beach, altf4_beanmachine, altf4_carmeet, altf4_cayoshop, altf4_cayovillas, altf4_cockatoos, altf4_customs, altf4_digitalden, altf4_dynasty, altf4_fib, altf4_galaxy, altf4_gym2, altf4_harmony, altf4_highwaypatrol, altf4_hotel, altf4_hypnonema, altf4_imports, altf4_jewelry, altf4_mansion, altf4_oilrig, altf4_paletohospital, altf4_park_assets, altf4_pawnshop, altf4_shells, altf4_sprays, altf4_tattoos_assets, altf4_taxi, altf4_terminal, altf4_tuners2, altf4_undergroundarmory, altf4_vipshop, altf4_wnews, altf4_yellowjacket, altf4-activities, altf4-admin, altf4-alerts, altf4-arcade, altf4-banking, altf4-beerpong, altf4-binds, altf4-blips, altf4-boatshop, altf4-boosting, altf4-bowling, altf4-camera, altf4-cars, altf4-cars2, altf4-casino, altf4-checkers, altf4-chess, altf4-cityhall, altf4-cleanup, altf4-clothes, altf4-clothing, altf4-core, altf4-court, altf4-darts, altf4-dashcam, altf4-deferral, altf4-deliveries, altf4-documents, altf4-doors, altf4-drugs, altf4-emotes, altf4-fishing, altf4-gangs, altf4-garages, altf4-golf, altf4-hospital, altf4-houses, altf4-hud2, altf4-interact, altf4-inventory, altf4-jail, altf4-jobs, altf4-laptop, altf4-license, altf4-loadingscreen, altf4-locales, altf4-lockpick, altf4-logs, altf4-mdt, altf4-mdw, altf4-mechanics, altf4-minigames, altf4-multicharacters, altf4-park, altf4-pawnshop, altf4-pets, altf4-police, altf4-pool, altf4-prospecting, altf4-publicity, altf4-racing, altf4-radio, altf4-reports, altf4-resources, altf4-robberies, altf4-scoreboard, altf4-scripts, altf4-shoprobbery, altf4-skate, altf4-society, altf4-spawn, altf4-tattoos, altf4-taxi, altf4-tennis, altf4-tunerchip, altf4-usedcars, altf4-vehicles, altf4-vehicleshop, altf4-weapons, altf4-weather, altf4-weazelnews, altf4-whiteboard, amb_roxwood, aquiver_animalfarm, assets_maps, assets_models, assets_vehicles, attachments, attachments2, Badger_Discord_API, bcm_flats, bob74_ipl, bzzz_strawberry, cfx-gabz-247, cfx-gabz-ammunation, cfx-gabz-arcade, cfx-gabz-bahama, cfx-gabz-bennys, cfx-gabz-bobcat, cfx-gabz-bowling, cfx-gabz-burgershot, cfx-gabz-casino, cfx-gabz-catcafe, cfx-gabz-firedept, cfx-gabz-fleeca, cfx-gabz-impound, cfx-gabz-mapdata, cfx-gabz-mba, cfx-gabz-mrpd, cfx-gabz-pacificbank, cfx-gabz-paletobank, cfx-gabz-paletopd, cfx-gabz-pdm, cfx-gabz-pdprops, cfx-gabz-pillbox, cfx-gabz-pizzeria, cfx-gabz-ponsonbys, cfx-gabz-prison, cfx-gabz-sandypd, cfx-gabz-suburban, cfx-gabz-townhall, cfx-gabz-tuners, cfx-gabz-vu, chat, connectqueue, cs-hall, cs-stories, cs-stream, cs-ves, cs-video-call, decrypto, designer_penthouse, diceroll, dock_stock, doorcontrol, drill, drill2, drillfemale, elysianwarehouse, gentlemen_manor, hackgame, halloween-peds, horrorschl, housefurniture, housefurniture2, housefurniture3, housefurniture4, housefurniture5, housefurniture6, housefurniture7, housefurniture8, housefurniture9, housefurniture10, housefurniture11, housefurniture12, housefurniture13, housefurniture14, housefurniture15, housefurniture16, housefurniture17, housefurniture18, housefurniture19, housefurniture20, housefurniture21, housefurniture22, housing, interact-sound, LargeMansionShells, LegacyFuel, lg_puzzleminer, lsdblock, m4a1, malibu_mansion, mcx, menuv, mk14, mk47, monitor, mpragsriches, mpragsrichesmetro, mprr_patches, mprr-patches-cassidy, mprr-patches-standalone, mpscripts, nad_rockstar, npas-halloween, npas-props, otfblock, ox_lib, oxmysql, pdcarsEN, pdcarsEN2, PetClinic, pma-voice, pokerasztal, PokerTypescript, policeradar, ps-objectspawner, ptelevision, qs-smartphone, rcore_basketball, rcore_gangs, rcore_spray, renewed_farming, rockfordrecords, rooftopflat, rooftopflatgarage, rv_props, safecracker, screenshot-basic, sk1nnygod, smartphone_props, society_dashboard, soundpack, soundpack2, soundpack3, soundpack4, soundpack5, soundpack6, tecpistol, towerbar, trendydances, tv_scaleform, uwuprops, vanillacars, vector, vegetation, vehcontrol, vehiclefailure, weaponspack, weaponspack2, webpack, xsound, yarn\n",
      "OneSync: enabled\n",
      "Language: English (United States)\n",
      "Tags: \n",
      "Discord: discord.gg/altf4\n",
      "Store: altf4rp.tebex.io\n",
      "DLC level: 2802\n",
      "sv_pureLevel: 0\n",
      "can_review: true\n",
      "Owner: ALTF4_Enterprises\n"
     ]
    },
    {
     "name": "stdout",
     "output_type": "stream",
     "text": [
      "['⌠ALTF4 3.0⌡▬ Serious RP ▬ 🎃HALLOWEEN UPDATE ▬ DAILY REWARDS & PRIZES💵 discord.gg/altf4 USA', 'https://servers.fivem.net/servers/detail/zb8lmd', '', '', 'enabled', '', 'English (United States)', '', '2802', '', 'ALTF4_Enterprises', '', '', ['__internal_amb-roxwood-interiors', '__internal_amb-roxwood-map', '__internal_amb-roxwood-mapdata', '__internal_amb-roxwood-traffic', '__internal_amb-roxwood-vehicles', 'altf4_airport', 'altf4_autoschool', 'altf4_basketball_assets', 'altf4_beach', 'altf4_beanmachine', 'altf4_carmeet', 'altf4_cayoshop', 'altf4_cayovillas', 'altf4_cockatoos', 'altf4_customs', 'altf4_digitalden', 'altf4_dynasty', 'altf4_fib', 'altf4_galaxy', 'altf4_gym2', 'altf4_harmony', 'altf4_highwaypatrol', 'altf4_hotel', 'altf4_hypnonema', 'altf4_imports', 'altf4_jewelry', 'altf4_mansion', 'altf4_oilrig', 'altf4_paletohospital', 'altf4_park_assets', 'altf4_pawnshop', 'altf4_shells', 'altf4_sprays', 'altf4_tattoos_assets', 'altf4_taxi', 'altf4_terminal', 'altf4_tuners2', 'altf4_undergroundarmory', 'altf4_vipshop', 'altf4_wnews', 'altf4_yellowjacket', 'altf4-activities', 'altf4-admin', 'altf4-alerts', 'altf4-arcade', 'altf4-banking', 'altf4-beerpong', 'altf4-binds', 'altf4-blips', 'altf4-boatshop', 'altf4-boosting', 'altf4-bowling', 'altf4-camera', 'altf4-cars', 'altf4-cars2', 'altf4-casino', 'altf4-checkers', 'altf4-chess', 'altf4-cityhall', 'altf4-cleanup', 'altf4-clothes', 'altf4-clothing', 'altf4-core', 'altf4-court', 'altf4-darts', 'altf4-dashcam', 'altf4-deferral', 'altf4-deliveries', 'altf4-documents', 'altf4-doors', 'altf4-drugs', 'altf4-emotes', 'altf4-fishing', 'altf4-gangs', 'altf4-garages', 'altf4-golf', 'altf4-hospital', 'altf4-houses', 'altf4-hud2', 'altf4-interact', 'altf4-inventory', 'altf4-jail', 'altf4-jobs', 'altf4-laptop', 'altf4-license', 'altf4-loadingscreen', 'altf4-locales', 'altf4-lockpick', 'altf4-logs', 'altf4-mdt', 'altf4-mdw', 'altf4-mechanics', 'altf4-minigames', 'altf4-multicharacters', 'altf4-park', 'altf4-pawnshop', 'altf4-pets', 'altf4-police', 'altf4-pool', 'altf4-prospecting', 'altf4-publicity', 'altf4-racing', 'altf4-radio', 'altf4-reports', 'altf4-resources', 'altf4-robberies', 'altf4-scoreboard', 'altf4-scripts', 'altf4-shoprobbery', 'altf4-skate', 'altf4-society', 'altf4-spawn', 'altf4-tattoos', 'altf4-taxi', 'altf4-tennis', 'altf4-tunerchip', 'altf4-usedcars', 'altf4-vehicles', 'altf4-vehicleshop', 'altf4-weapons', 'altf4-weather', 'altf4-weazelnews', 'altf4-whiteboard', 'amb_roxwood', 'aquiver_animalfarm', 'assets_maps', 'assets_models', 'assets_vehicles', 'attachments', 'attachments2', 'Badger_Discord_API', 'bcm_flats', 'bob74_ipl', 'bzzz_strawberry', 'cfx-gabz-247', 'cfx-gabz-ammunation', 'cfx-gabz-arcade', 'cfx-gabz-bahama', 'cfx-gabz-bennys', 'cfx-gabz-bobcat', 'cfx-gabz-bowling', 'cfx-gabz-burgershot', 'cfx-gabz-casino', 'cfx-gabz-catcafe', 'cfx-gabz-firedept', 'cfx-gabz-fleeca', 'cfx-gabz-impound', 'cfx-gabz-mapdata', 'cfx-gabz-mba', 'cfx-gabz-mrpd', 'cfx-gabz-pacificbank', 'cfx-gabz-paletobank', 'cfx-gabz-paletopd', 'cfx-gabz-pdm', 'cfx-gabz-pdprops', 'cfx-gabz-pillbox', 'cfx-gabz-pizzeria', 'cfx-gabz-ponsonbys', 'cfx-gabz-prison', 'cfx-gabz-sandypd', 'cfx-gabz-suburban', 'cfx-gabz-townhall', 'cfx-gabz-tuners', 'cfx-gabz-vu', 'chat', 'connectqueue', 'cs-hall', 'cs-stories', 'cs-stream', 'cs-ves', 'cs-video-call', 'decrypto', 'designer_penthouse', 'diceroll', 'dock_stock', 'doorcontrol', 'drill', 'drill2', 'drillfemale', 'elysianwarehouse', 'gentlemen_manor', 'hackgame', 'halloween-peds', 'horrorschl', 'housefurniture', 'housefurniture2', 'housefurniture3', 'housefurniture4', 'housefurniture5', 'housefurniture6', 'housefurniture7', 'housefurniture8', 'housefurniture9', 'housefurniture10', 'housefurniture11', 'housefurniture12', 'housefurniture13', 'housefurniture14', 'housefurniture15', 'housefurniture16', 'housefurniture17', 'housefurniture18', 'housefurniture19', 'housefurniture20', 'housefurniture21', 'housefurniture22', 'housing', 'interact-sound', 'LargeMansionShells', 'LegacyFuel', 'lg_puzzleminer', 'lsdblock', 'm4a1', 'malibu_mansion', 'mcx', 'menuv', 'mk14', 'mk47', 'monitor', 'mpragsriches', 'mpragsrichesmetro', 'mprr_patches', 'mprr-patches-cassidy', 'mprr-patches-standalone', 'mpscripts', 'nad_rockstar', 'npas-halloween', 'npas-props', 'otfblock', 'ox_lib', 'oxmysql', 'pdcarsEN', 'pdcarsEN2', 'PetClinic', 'pma-voice', 'pokerasztal', 'PokerTypescript', 'policeradar', 'ps-objectspawner', 'ptelevision', 'qs-smartphone', 'rcore_basketball', 'rcore_gangs', 'rcore_spray', 'renewed_farming', 'rockfordrecords', 'rooftopflat', 'rooftopflatgarage', 'rv_props', 'safecracker', 'screenshot-basic', 'sk1nnygod', 'smartphone_props', 'society_dashboard', 'soundpack', 'soundpack2', 'soundpack3', 'soundpack4', 'soundpack5', 'soundpack6', 'tecpistol', 'towerbar', 'trendydances', 'tv_scaleform', 'uwuprops', 'vanillacars', 'vector', 'vegetation', 'vehcontrol', 'vehiclefailure', 'weaponspack', 'weaponspack2', 'webpack', 'xsound', 'yarn']]\n",
      "The last index is: 23\n",
      "Scraping server 24, id is 8jd3rv\n",
      "8jd3rv\n"
     ]
    },
    {
     "name": "stderr",
     "output_type": "stream",
     "text": [
      "https://servers.fivem.net/servers/detail/8jd3rv\n",
      "Resources: 17mansorypn, 72maybach, 73impdropv1, 90scivpack, 106mfdflatpack, 190eevo3, A1Ghoul, ace_apartment, acty, ai-medic, ak47_qb_clothing, ak47_qb_drugdealerv2, ak47_qb_druglabs, ak47_qb_housing, ak47_qb_moneywash, ak47_qb_usabledrugs, asdvan, AWS2334_, baseevents, basic-gamemode, beachmotels, benze55-car, bexp, BigMansion, bloodsv2, bob74_ipl, boii-loadingscreen, bolide, brofx03, brofx04, brofx06, brofx07, brofx08, brofx09, BugattiEMS, c63s, car%20pack, carryscript, choilambo, clothing, cobrakaigtr, Community, connectqueue, crf400, cupra, dbxultimate, dealer_map, deluxo911, demonhawkk, desert_mansion, dmc12cp, dragekcivick, drehellcatcharger, duxstin_drug, dvd_coke_lab, ed_austinmansion, ed_rockfordh02, ed_white_mansion, elva, estoque, evoz, fcxl, ferry, filthynsx, fivem-map-skater, foxc8wb, french_villa, gcmrangerover2022, gcmrdx19, GCram1500, generic_texture_renderer_gfx, GODzMBG900, HarleyDavidsonFatboyTerminator2, HarleyDavidsonVRodNightRodSpecial2013, hillsmansion, HondaGoldwing, hospital_map, hzhycadegtr, interact-sound, JaiNuttypack, KawasakiNinjaH2, kevo, lccontbentleyanim, LegacyFuel, Lynna, m8benzo, mansion_2, Mansion_09_Malibu, mansion_17, mansion_26-Mafia, map, mapmanager, Mclarenz, menuv, mhacking, MirrorHouses, Mobbpack, monitor, moreguns, MusicEverywhere, new%20donks, nissanr33tbk, okok-marketplace, okokChat, okokTextUI, ox_lib, oxmysql, patoche_free_cardealer, patoche_gang_crips, patoche_secret_bossroom, pd458wb, pma-voice, PolyZone, postalcodes, prison_canteen, prison_main, prison_meeting, progressbar, ps-dispatch, ps-ui, ptelevision, qb-adminmenu, qb-ambulancejob, qb-apartments, qb-atms, qb-banking, qb-bankrobbery, qb-busjob, qb-cityhall, qb-commandbinding, qb-communityservice, qb-core, qb-crypto, qb-customs, qb-diving, qb-doorlock, qb-drugs, qb-fitbit, qb-garages, qb-garbagejob, qb-hotdogjob, qb-houserobbery, qb-input, qb-interior, qb-inventory, qb-jewelery, qb-keyminigame, qb-lapraces, qb-lockpick, qb-logs, qb-management, qb-mechanicjob, qb-menu, qb-newsjob, qb-phone, qb-policejob, qb-prison, qb-radialmenu, qb-radio, qb-recyclejob, qb-scoreboard, qb-scrapyard, qb-shops, qb-skillbar, qb-smallresources, qb-storerobbery, qb-streetraces, qb-target, qb-taxijob, qb-towjob, qb-traphouse, qb-truckerjob, qb-truckrobbery, qb-vehiclefailure, qb-vehiclekeys, qb-vehiclesales, qb-vineyard, qb-weapons, qb-weathersync, razed-mysterybox, RemoveAllNPCs, renzu_popui, renzu_vehicleshop, rmodm3e36, rmodmustang2, rmodzl1, robbbs_bossvilla, Rolls6x6, rpemotes, rrwidectsv, rs666mini, RufusVanquish, rx7, safecracker, screenshot-basic, scrq7, serrulata-atmrobbery, skinchanger, SL-CAR-HUD, SL-HUD, SonicMustang, spawnmanager, starkmansion, STOSpyderSC, superduty, taurus23, textures-replace, toxic-reports, tr-blackmarket, trans_mbenzarocs, trippiec8, vms_identity, vms_multichars, vms_spawnselector, vxr16, w211-sound, webpack, x6DRCustoM, x6wz, xevanhS, xsound, yarn, YBNMilosNewWalmart, zf-dumpster\n",
      "Game type: Freeroam\n",
      "Map: fivem-map-skater\n",
      "OneSync: enabled\n",
      "Language: English (United States)\n",
      "Tags: default, deployer, qbcore, qb-core\n",
      "DLC level: 2802\n",
      "sv_pureLevel: 0\n",
      "can_review: true\n",
      "Owner: Kriptiiikillzzz\n",
      "https://servers.fivem.net/servers/detail/8gzmr5\n"
     ]
    },
    {
     "name": "stdout",
     "output_type": "stream",
     "text": [
      "['', 'https://servers.fivem.net/servers/detail/8jd3rv', '', 'Freeroam', 'enabled', 'fivem-map-skater', 'English (United States)', 'default, deployer, qbcore, qb-core', '2802', '', 'Kriptiiikillzzz', '', '', ['17mansorypn', '72maybach', '73impdropv1', '90scivpack', '106mfdflatpack', '190eevo3', 'A1Ghoul', 'ace_apartment', 'acty', 'ai-medic', 'ak47_qb_clothing', 'ak47_qb_drugdealerv2', 'ak47_qb_druglabs', 'ak47_qb_housing', 'ak47_qb_moneywash', 'ak47_qb_usabledrugs', 'asdvan', 'AWS2334_', 'baseevents', 'basic-gamemode', 'beachmotels', 'benze55-car', 'bexp', 'BigMansion', 'bloodsv2', 'bob74_ipl', 'boii-loadingscreen', 'bolide', 'brofx03', 'brofx04', 'brofx06', 'brofx07', 'brofx08', 'brofx09', 'BugattiEMS', 'c63s', 'car%20pack', 'carryscript', 'choilambo', 'clothing', 'cobrakaigtr', 'Community', 'connectqueue', 'crf400', 'cupra', 'dbxultimate', 'dealer_map', 'deluxo911', 'demonhawkk', 'desert_mansion', 'dmc12cp', 'dragekcivick', 'drehellcatcharger', 'duxstin_drug', 'dvd_coke_lab', 'ed_austinmansion', 'ed_rockfordh02', 'ed_white_mansion', 'elva', 'estoque', 'evoz', 'fcxl', 'ferry', 'filthynsx', 'fivem-map-skater', 'foxc8wb', 'french_villa', 'gcmrangerover2022', 'gcmrdx19', 'GCram1500', 'generic_texture_renderer_gfx', 'GODzMBG900', 'HarleyDavidsonFatboyTerminator2', 'HarleyDavidsonVRodNightRodSpecial2013', 'hillsmansion', 'HondaGoldwing', 'hospital_map', 'hzhycadegtr', 'interact-sound', 'JaiNuttypack', 'KawasakiNinjaH2', 'kevo', 'lccontbentleyanim', 'LegacyFuel', 'Lynna', 'm8benzo', 'mansion_2', 'Mansion_09_Malibu', 'mansion_17', 'mansion_26-Mafia', 'map', 'mapmanager', 'Mclarenz', 'menuv', 'mhacking', 'MirrorHouses', 'Mobbpack', 'monitor', 'moreguns', 'MusicEverywhere', 'new%20donks', 'nissanr33tbk', 'okok-marketplace', 'okokChat', 'okokTextUI', 'ox_lib', 'oxmysql', 'patoche_free_cardealer', 'patoche_gang_crips', 'patoche_secret_bossroom', 'pd458wb', 'pma-voice', 'PolyZone', 'postalcodes', 'prison_canteen', 'prison_main', 'prison_meeting', 'progressbar', 'ps-dispatch', 'ps-ui', 'ptelevision', 'qb-adminmenu', 'qb-ambulancejob', 'qb-apartments', 'qb-atms', 'qb-banking', 'qb-bankrobbery', 'qb-busjob', 'qb-cityhall', 'qb-commandbinding', 'qb-communityservice', 'qb-core', 'qb-crypto', 'qb-customs', 'qb-diving', 'qb-doorlock', 'qb-drugs', 'qb-fitbit', 'qb-garages', 'qb-garbagejob', 'qb-hotdogjob', 'qb-houserobbery', 'qb-input', 'qb-interior', 'qb-inventory', 'qb-jewelery', 'qb-keyminigame', 'qb-lapraces', 'qb-lockpick', 'qb-logs', 'qb-management', 'qb-mechanicjob', 'qb-menu', 'qb-newsjob', 'qb-phone', 'qb-policejob', 'qb-prison', 'qb-radialmenu', 'qb-radio', 'qb-recyclejob', 'qb-scoreboard', 'qb-scrapyard', 'qb-shops', 'qb-skillbar', 'qb-smallresources', 'qb-storerobbery', 'qb-streetraces', 'qb-target', 'qb-taxijob', 'qb-towjob', 'qb-traphouse', 'qb-truckerjob', 'qb-truckrobbery', 'qb-vehiclefailure', 'qb-vehiclekeys', 'qb-vehiclesales', 'qb-vineyard', 'qb-weapons', 'qb-weathersync', 'razed-mysterybox', 'RemoveAllNPCs', 'renzu_popui', 'renzu_vehicleshop', 'rmodm3e36', 'rmodmustang2', 'rmodzl1', 'robbbs_bossvilla', 'Rolls6x6', 'rpemotes', 'rrwidectsv', 'rs666mini', 'RufusVanquish', 'rx7', 'safecracker', 'screenshot-basic', 'scrq7', 'serrulata-atmrobbery', 'skinchanger', 'SL-CAR-HUD', 'SL-HUD', 'SonicMustang', 'spawnmanager', 'starkmansion', 'STOSpyderSC', 'superduty', 'taurus23', 'textures-replace', 'toxic-reports', 'tr-blackmarket', 'trans_mbenzarocs', 'trippiec8', 'vms_identity', 'vms_multichars', 'vms_spawnselector', 'vxr16', 'w211-sound', 'webpack', 'x6DRCustoM', 'x6wz', 'xevanhS', 'xsound', 'yarn', 'YBNMilosNewWalmart', 'zf-dumpster']]\n",
      "The last index is: 24\n",
      "Scraping server 25, id is 8gzmr5\n",
      "8gzmr5\n"
     ]
    },
    {
     "name": "stderr",
     "output_type": "stream",
     "text": [
      "Resources: ac_radio, AeroDefence, av_laptop, av_restaurants, bcs_housing, bennylift, bt-polyzone, cd_drawtextui, cd_easytime, cd_garage, cd_garageshell, cd_keymaster, cxCreator, DP_GoFast, dpr_Blanchiment, erp-selltonpc, es_extended, esx_context, esx_identity, esx_menu_default, esx_menu_dialog, esx_menu_list, esx_notify, esx_plaster, esx_progressbar, esx_textui, esx_trailermanager, FiveEMS, Flay_Fleeca, Gtabac, heisenberg_tgk, httpmanager, interact-sound, ipl_nightclub, jsfour-idcard, KGouvernement, KMissions, lb-phone, lb-phoneprop, linden_outlawalert, loaf_lib, loaftrucking, lockpick, loffe_robbery, luckywheel, main_utils, monitor, naadoor_rent, naadoorb1, naadoorb3, naadoors3, naadoors5, nBoutique, nJail, np-policepack, okokChat, ox_doorlock, ox_fuel, ox_inventory, ox_lib, ox_target, oxmysql, pd-safe, Peds-YBN, PL_taxi, pma-voice, pmms, poltulip, PolyZone, progressBars, rcore_pool, redutzu-ems, redutzu-mdt, rpemotes, rprogress, rxAutoEcole, screenshot-basic, Sit, skillbar, snyder, spawnmanager, speedo, uj_cayoLoader, uj_cayoPerico, uj_pbcafe_free, uj_prisonrecep_free, uj_taxi_free, uj_unicorn, uj_wnews_v1, um-rodeo, um-rodeo-prop, V-CashierJob, V-Printer, vns_cs_slots, wasabi_backpack, wasabi_tireslash, webpack, wkl_admin, wkl_Banking, wkl_Barber, wkl_clothingitem, wkl_compact, wkl_core, wkl_drugs, wkl_garage, wkl_hud, wkl_loadingscreen, wkl_Notify, wkl_personnalmenu, wkl_streaming, wkl_Tattoos, wkl_TextUI, yarn, zModules\n",
      "Game type: Wicked Life FA\n",
      "Map: San Andreas\n",
      "OneSync: enabled\n",
      "Language: French (France)\n",
      "Tags: default, esx, esx legacy, legacy, official, roleplay,esx\n",
      "discord: discord.gg/wickedlife\n",
      "DLC level: 2802\n",
      "sv_pureLevel: 0\n",
      "Owner: TicTacgame\n",
      "https://servers.fivem.net/servers/detail/6zkqe4\n"
     ]
    },
    {
     "name": "stdout",
     "output_type": "stream",
     "text": [
      "['', 'https://servers.fivem.net/servers/detail/8gzmr5', '', 'Wicked Life FA', 'enabled', 'San Andreas', 'French (France)', 'default, esx, esx legacy, legacy, official, roleplay,esx', '2802', '', 'TicTacgame', '', '', ['ac_radio', 'AeroDefence', 'av_laptop', 'av_restaurants', 'bcs_housing', 'bennylift', 'bt-polyzone', 'cd_drawtextui', 'cd_easytime', 'cd_garage', 'cd_garageshell', 'cd_keymaster', 'cxCreator', 'DP_GoFast', 'dpr_Blanchiment', 'erp-selltonpc', 'es_extended', 'esx_context', 'esx_identity', 'esx_menu_default', 'esx_menu_dialog', 'esx_menu_list', 'esx_notify', 'esx_plaster', 'esx_progressbar', 'esx_textui', 'esx_trailermanager', 'FiveEMS', 'Flay_Fleeca', 'Gtabac', 'heisenberg_tgk', 'httpmanager', 'interact-sound', 'ipl_nightclub', 'jsfour-idcard', 'KGouvernement', 'KMissions', 'lb-phone', 'lb-phoneprop', 'linden_outlawalert', 'loaf_lib', 'loaftrucking', 'lockpick', 'loffe_robbery', 'luckywheel', 'main_utils', 'monitor', 'naadoor_rent', 'naadoorb1', 'naadoorb3', 'naadoors3', 'naadoors5', 'nBoutique', 'nJail', 'np-policepack', 'okokChat', 'ox_doorlock', 'ox_fuel', 'ox_inventory', 'ox_lib', 'ox_target', 'oxmysql', 'pd-safe', 'Peds-YBN', 'PL_taxi', 'pma-voice', 'pmms', 'poltulip', 'PolyZone', 'progressBars', 'rcore_pool', 'redutzu-ems', 'redutzu-mdt', 'rpemotes', 'rprogress', 'rxAutoEcole', 'screenshot-basic', 'Sit', 'skillbar', 'snyder', 'spawnmanager', 'speedo', 'uj_cayoLoader', 'uj_cayoPerico', 'uj_pbcafe_free', 'uj_prisonrecep_free', 'uj_taxi_free', 'uj_unicorn', 'uj_wnews_v1', 'um-rodeo', 'um-rodeo-prop', 'V-CashierJob', 'V-Printer', 'vns_cs_slots', 'wasabi_backpack', 'wasabi_tireslash', 'webpack', 'wkl_admin', 'wkl_Banking', 'wkl_Barber', 'wkl_clothingitem', 'wkl_compact', 'wkl_core', 'wkl_drugs', 'wkl_garage', 'wkl_hud', 'wkl_loadingscreen', 'wkl_Notify', 'wkl_personnalmenu', 'wkl_streaming', 'wkl_Tattoos', 'wkl_TextUI', 'yarn', 'zModules']]\n",
      "The last index is: 25\n",
      "Scraping server 26, id is 6zkqe4\n",
      "6zkqe4\n"
     ]
    },
    {
     "name": "stderr",
     "output_type": "stream",
     "text": [
      "Resources: ae_scenario, alf_carkeys, altruistsint, amb-lslive-interiors, amb-lslive-main-patches, amb-lslive-map, amb-lslive-mapdata, amb-lslive-patches-cassidy, amb-lslive-patches-standalone, amb-lslive-props, amb-lslive-scripts, amb-lslive-vehicles, amb-marketstation, amb-roxwood, amb-roxwood-interiors, amb-roxwood-map, amb-roxwood-mapdata, amb-roxwood-patches, amb-roxwood-traffic, amb-roxwood-vehicles, applestore, aur_tacos, auto_exotics, autoexotic, aztecas, bahamamas, ballasint, BarPlage, bcso, bloodsint, bob74_ipl, burgershot, burgershot_job, casino_poker, Cayo, chat, Cityhall, cripsint, cron, DiamondBlackjack, dpclothing, drugs_creator, dux_lab_stin_coke, dux_lab_stin_meth, dux_lab_stin_opium, dux_lab_stin_weed, dynasty8, es_carshop, es_extended, esx_addonaccount, esx_addoninventory, esx_advancedholdup, esx_ambulancejob, esx_bahamajob, esx_banking, esx_basicneeds, esx_billing, esx_boat, esx_context, esx_cruisecontrol, esx_datastore, esx_dmvschool, esx_drugsbuilder, esx_fishing, esx_garage, esx_garbagejob_v2, esx_gardener, esx_hud, esx_identity, esx_joblisting, esx_license, esx_lockpick, esx_mechanicjob, esx_menu_default, esx_menu_dialog, esx_menu_list, esx_multicharacter, esx_nightclubjob, esx_notify, esx_optionalneeds, esx_outlawalert, esx_policejob, esx_progressbar, esx_property, esx_rpchat, esx_service, esx_sheriffjob, esx_sit, esx_society, esx_status, esx_tailorjob, esx_taxijob, esx_teqilalajob, esx_textui, esx_unicornjob, esx_vehicleshop, esx_yellowjob, esx-lumberjack, esx-npwd, esx-radio, familiesint, farming_creator, FeedM, FiveM-BanSql-1.0.7a, flywheels, fr_location, fVigneron, gabz_bennys, gMenu, GoFast, henhouse, HideInTrunkk, hideout_mechanic, hospitalsandy, illenium-appearance, jbvl_luxuryjob, jobs_creator, jsfour-idcard, krz_gangsbuilder, LeDjo_Tabac, LegacyFuel, Lifts, luxury, Madrazo, map_tabac, marabuntaint, mayans, mhenhouse, mlo_nightclub, mlo_taxi, monitor, mythic_notify, mythic_progressbar, NiceVision_Load_avril_mai, np_carryped, npwd, oceanHospital, ONBFarm, ox_inventory, ox_lib, oxmysql, patoche_beachgame, patoche_cyberbar_map, patoche_secret_bossroom, patoche_shop, pearl_job, personalmenu, pma-voice, pNotify, PolyZone, powx_apple, prison, qtarget, qua_lspd, R.Editor, rags-and-riches, rcore_arcade, rdl_abatteur2, rdzk_c_square, renzu_customs, richpresence, rpemotes2, ruletka, scierie, screenshot-basic, simpledrift, sloty, SOAClub, SOAGarage, spawnmanager, t1ger_mining, tacos, tequilala, Unicorn, uw_tower, vagosint, vineyard, vSync, weazel, weazelcam, weazelnews, webpack, xDrugSeller, yakuza, yarn, yellow\n",
      "Game type: ESX Legacy\n",
      "Map: San Andreas\n",
      "OneSync: enabled\n",
      "Language: \n",
      "Tags: default, esx legacy, roleplay,esx\n",
      "DLC level: 2944\n",
      "sv_pureLevel: 0\n",
      "Owner: torQQue\n",
      "https://servers.fivem.net/servers/detail/dbm69d\n"
     ]
    },
    {
     "name": "stdout",
     "output_type": "stream",
     "text": [
      "['', 'https://servers.fivem.net/servers/detail/6zkqe4', '', 'ESX Legacy', 'enabled', 'San Andreas', '', 'default, esx legacy, roleplay,esx', '2944', '', 'torQQue', '', '', ['ae_scenario', 'alf_carkeys', 'altruistsint', 'amb-lslive-interiors', 'amb-lslive-main-patches', 'amb-lslive-map', 'amb-lslive-mapdata', 'amb-lslive-patches-cassidy', 'amb-lslive-patches-standalone', 'amb-lslive-props', 'amb-lslive-scripts', 'amb-lslive-vehicles', 'amb-marketstation', 'amb-roxwood', 'amb-roxwood-interiors', 'amb-roxwood-map', 'amb-roxwood-mapdata', 'amb-roxwood-patches', 'amb-roxwood-traffic', 'amb-roxwood-vehicles', 'applestore', 'aur_tacos', 'auto_exotics', 'autoexotic', 'aztecas', 'bahamamas', 'ballasint', 'BarPlage', 'bcso', 'bloodsint', 'bob74_ipl', 'burgershot', 'burgershot_job', 'casino_poker', 'Cayo', 'chat', 'Cityhall', 'cripsint', 'cron', 'DiamondBlackjack', 'dpclothing', 'drugs_creator', 'dux_lab_stin_coke', 'dux_lab_stin_meth', 'dux_lab_stin_opium', 'dux_lab_stin_weed', 'dynasty8', 'es_carshop', 'es_extended', 'esx_addonaccount', 'esx_addoninventory', 'esx_advancedholdup', 'esx_ambulancejob', 'esx_bahamajob', 'esx_banking', 'esx_basicneeds', 'esx_billing', 'esx_boat', 'esx_context', 'esx_cruisecontrol', 'esx_datastore', 'esx_dmvschool', 'esx_drugsbuilder', 'esx_fishing', 'esx_garage', 'esx_garbagejob_v2', 'esx_gardener', 'esx_hud', 'esx_identity', 'esx_joblisting', 'esx_license', 'esx_lockpick', 'esx_mechanicjob', 'esx_menu_default', 'esx_menu_dialog', 'esx_menu_list', 'esx_multicharacter', 'esx_nightclubjob', 'esx_notify', 'esx_optionalneeds', 'esx_outlawalert', 'esx_policejob', 'esx_progressbar', 'esx_property', 'esx_rpchat', 'esx_service', 'esx_sheriffjob', 'esx_sit', 'esx_society', 'esx_status', 'esx_tailorjob', 'esx_taxijob', 'esx_teqilalajob', 'esx_textui', 'esx_unicornjob', 'esx_vehicleshop', 'esx_yellowjob', 'esx-lumberjack', 'esx-npwd', 'esx-radio', 'familiesint', 'farming_creator', 'FeedM', 'FiveM-BanSql-1.0.7a', 'flywheels', 'fr_location', 'fVigneron', 'gabz_bennys', 'gMenu', 'GoFast', 'henhouse', 'HideInTrunkk', 'hideout_mechanic', 'hospitalsandy', 'illenium-appearance', 'jbvl_luxuryjob', 'jobs_creator', 'jsfour-idcard', 'krz_gangsbuilder', 'LeDjo_Tabac', 'LegacyFuel', 'Lifts', 'luxury', 'Madrazo', 'map_tabac', 'marabuntaint', 'mayans', 'mhenhouse', 'mlo_nightclub', 'mlo_taxi', 'monitor', 'mythic_notify', 'mythic_progressbar', 'NiceVision_Load_avril_mai', 'np_carryped', 'npwd', 'oceanHospital', 'ONBFarm', 'ox_inventory', 'ox_lib', 'oxmysql', 'patoche_beachgame', 'patoche_cyberbar_map', 'patoche_secret_bossroom', 'patoche_shop', 'pearl_job', 'personalmenu', 'pma-voice', 'pNotify', 'PolyZone', 'powx_apple', 'prison', 'qtarget', 'qua_lspd', 'R.Editor', 'rags-and-riches', 'rcore_arcade', 'rdl_abatteur2', 'rdzk_c_square', 'renzu_customs', 'richpresence', 'rpemotes2', 'ruletka', 'scierie', 'screenshot-basic', 'simpledrift', 'sloty', 'SOAClub', 'SOAGarage', 'spawnmanager', 't1ger_mining', 'tacos', 'tequilala', 'Unicorn', 'uw_tower', 'vagosint', 'vineyard', 'vSync', 'weazel', 'weazelcam', 'weazelnews', 'webpack', 'xDrugSeller', 'yakuza', 'yarn', 'yellow']]\n",
      "The last index is: 26\n",
      "Scraping server 27, id is dbm69d\n",
      "dbm69d\n"
     ]
    },
    {
     "name": "stderr",
     "output_type": "stream",
     "text": [
      "Server Name: ⭐️ PRIME RP | WL +18 ⛔️ | SERIOUS RP ☝ | RP PROGRESSIF ET COHERENT ☝\n"
     ]
    },
    {
     "name": "stdout",
     "output_type": "stream",
     "text": [
      "%%%%%%%%%%%%%%%%%%%%%%%%%%%%%%%%%%%%%%%%%%%%%%%%%%%%%%%%%%%%%%%%%\n",
      "⭐️ PRIME RP | WL +18 ⛔️ | SERIOUS RP ☝ | RP PROGRESSIF ET COHERENT ☝\n",
      "%%%%%%%%%%%%%%%%%%%%%%%%%%%%%%%%%%%%%%%%%%%%%%%%%%%%%%%%%%%%%%%%%\n"
     ]
    },
    {
     "name": "stderr",
     "output_type": "stream",
     "text": [
      "Resources: 3dmescript, a_bosuvest, AB45-BlossomMansionTebex, admin_timod, agence_immo, alpha-craftingV2, astudios-pocketbmx, axio_spikes, b_backpack, bar, barney_arcade, barney_arcade_int, barney_arcade_ipl, barney_arm_wrestling, barney_bowling, barney_dart, barney_metal_detector, barney_pool, barney-mdt, baseevents, basic-gamemode, billing, bob74_ipl, boii-drugs, boii-ganglocs, bowling, BP-NativeAudio, brutal_babys, bunker_madrazo, burgershot-van, busmodstr, Buty-license, c_taysbusinesspack, cad-drugsales-2.1.2, caravanes, CarryPeople, carsounds, casino, cayo, CayoHouse, CayoTwoIslands, ccfarmhouse, cdn-fuel, cfx-gabz-247, cfx-gabz-altruists, cfx-gabz-ammunation, cfx-gabz-arcade, cfx-gabz-aztecas, cfx-gabz-barber, cfx-gabz-binco, cfx-gabz-bowling, cfx-gabz-carmeet, cfx-gabz-catcafe, cfx-gabz-diner, cfx-gabz-families, cfx-gabz-fleeca, cfx-gabz-hornys, cfx-gabz-lost, cfx-gabz-mapdata, cfx-gabz-marabunta, cfx-gabz-paletoliquor, cfx-gabz-pdm, cfx-gabz-pdprops, cfx-gabz-pinkcage, cfx-gabz-pizzeria, cfx-gabz-prison, cfx-gabz-records, cfx-gabz-sandypd, cfx-gabz-scenarios, cfx-gabz-tattoo, cfx-gabz-triads, cfx-gabz-vbmarket, cfx-vote-plugin, chat, church-mlo, clubhouse_paleto, clubhouselost, cuirmalvabundos, d_pull_malvabundos, design_house, devcore_smoke, devyn-dj, discordrolecheck, distillerie, dolu_vineyard, don-jewellery, dpclothing, eastcustoms, ed_chilliadtorture, ed_rhhouse, eup_f_sp, eup_m_sp, evy_armwrestling, fibpolice, fiv3devs_bahamamamas, fiv3devs_bahamamamas_addon, FIVEGUARD, fivem-map-hipster, frontiere_autoroute, futte-newspaper, g-bikerentals-master, gang_weed_shop, gd_airport_ai_begone-master, generic_texture_renderer_gfx, gouvernement, government, h_r4usarmy, hacking, hackingminigame, hedwig_hunt, heli, hex_paleto_cardealer, hiype-cardelivery, hopitalzonna, httpmanager, i-eup_f_police, iak_DrugFarm, iak_yachtclub, illenium-appearance, iNotificationV3, instructional-buttons, interact-sound, j-eup_m_police, ja_usmarshal_eup, jakers-bennys, jakers-customs-bennys, Jakers-LightBar, jakers-paintshops-bennys, JD_logsV3, jim-consumables, jim-mining, jim-popsdiner, jr_vbmafia, justice, justicejob, k-eup_lions, k4mb1-casino, k4mb1shellstarter, k5_documents, k9_ped-main, keep-companion, keep-hunting, Knockout, kq_outfitbag, lambra-drugTables, lawyer, lb-phone, lb-phoneprop, LC-Cigars, LeaveEngineRunning, lks_gldhs, lks_gym, loaf_lib, lockpick, lotterie_topserv, lux_NightClub, lux_vehcontrol, m_prime, m-loadingscreen, m-report, MadMonkey, mafia_mansion, maison_beausejour, maison_canta_chenia, maison_casadellago, maison_casasofia, maison_cerisiervinewood, maison_forestmansion, maison_francaise, maison_fuentesblanca, maison_horizonurbain, maison_kingreborn, maison_lacabane, maison_noel, maison_nullanai, maison_onyx, maison_pacificrooftop, maison_phare, maison_pharebis, maison_rockforthills, maison_rubisdescollines, maison_tresordesandy, maison_valsoleil, maison_vicecity, maison_villaalytes, maison_villabianca, maison_villacastalla, maison_villadarelsousou, maison_villadugreen, maison_villadulac, maisonelite, malibu_mansion, ManoNegra, map_foret, Map_PaletoSO, mapmanager, Marc_Bunker_site, Md_white_widow_cafe_V2Update_mlo, Megaphone, memorygame, menuv, meta_libs, mhacking, minigolf_patoche, mojito_in, monitor, mp-newsjob, mrm-crosshair-main, mrw_minigolf, ms-peds, mt-fishing, mt-hornys, mt-UwUCafe, multilingual, NativeUI, north_dealership, np-pb-arena, ox_doorlock, ox_lib, oxmysql, pablito_mayans_mc_elburro, PAINTBALL-WEAPON, paleto_tim, patoche_benny_elevator, patoche_benny_original, patoche_gang_crips, patoche_paleto_airport, patoche_tabac, patochewateredit, pedbuyer, philip-adminduty, pizza, pma-voice, pmms, pneux, PolyZone, possible-atm-robbery-main, Prime_Bracelet, Prime_BurgerShot, prime_vehicules_pack_1, prime_vehicules_pack_2, prime_vehicules_pack_3, progressbar, prospecting, ps-dispatch, ps-mdt, ps-ui, pun_idgun, qb_k9-main, qb-apartments, qb-atms, qb-banking, qb-bankrobbery, qb-bringoto, qb-burgershot, qb-characterkill-main, qb-core, qb-diving, qb-garages, qb-houserobbery, qb-hud, qb-input, qb-interior, qb-lock, qb-lockpick, qb-management, qb-marshall, qb-menu, qb-multicharacter, qb-pawnshop, qb-policejob, qb-radialmenu, qb-radio, qb-sit, qb-skateboard, qb-skillbar, qb-smallresources, qb-spawn, qb-storerobbery, qb-strippers, qb-target, qb-truckrobbery-main, qb-tunerchip, qb-vehiclefailure, qb-vehiclesales, qb-vehicleshop, qb-weathersync, qb-wheelchair, qb-whitewidowjob-main, qs-backpacks, qs-housing, qs-inventory, qs-shops, qs-vehiclekeys, qs-weapondraw, quimii_warehouse, qz-ammunation, r_pepperspray, radargun, RedwoodLights, Rehab, reload-skillbar, renzu_motels, rfc_route68_garage, rockford_hill_7156, rsd_Banham_Montain_Complex, rtx_tv, SA-Money-v2, safecracker, salle_torturebarage, sandy_grapseed, screenshot-basic, skillbar, skillbar-main, small_designer_villa_01, spawnmanager, strawberry_gardens_verpi, TakeHostage, tark_vangelico, tequila_nomusic, tn-adminmenu, towing-main, tropical_villa, tumbsaloon, tuna_farm, ub-warehouse, uj_pbcafe_free, uniqx_xlabs-p1, Vanilla_Unicorn, vehcontrol, vinewoodfloorGarage, vinewoodfloorLSPD, vinewoodfloorMain, vinewoodfloorStairs, vinewoodfloorUG, vms_boatschoolv2, vms_driveschool_map, vms_driveschoolv2, vms_flightschoolv2, wasabi_ambulance, wasabi_bridge, wasabi_crutch, WC_EMOTES_V5, webpack, winery, wk_wars2x, wnewsv2, wp-placeables, xsound, xtxvxtx_female_male_body_remastered, yarn\n",
      "Game type: Freeroam\n",
      "Map: fivem-map-hipster\n",
      "OneSync: enabled\n",
      "Language: French (France)\n",
      "Tags: qbcore, addon, cars, car, boosting, drifting, ai, custom, casual, playground, np, ai, mechanic, airport, airports, flipcar, animals, ride, dice, roll, trailer, carry, people, drift, scratch, off, scratching, tramway, trams, tram, sling, mele, freecam, golf, heli, cam, doc, medic, fishing, unicorn, companion, pet, pets, companions, hunting, prop, props, game, memory, hacking, map, lasers, crypto, cops, police, piggyback, drugs, drug, processing, weed, coke, meth, heroin, methrun, gun, guns, money, laundering, wash, billards, pool, spray, paint, spraypaint, refuel, nozzle, stancer, offset, hostage, train, trains, transportation, trollactions, troll, trollaction. casino, gamble, blackjack, roulette, chips, blips, emote, emotes, sound, youtube, hacking, safe, cracker, screenshot\n",
      "Uptime: 1:14\n",
      "DLC level: 2802\n",
      "sv_pureLevel: 0\n",
      "Owner: prime_roleplay\n",
      "https://servers.fivem.net/servers/detail/lze5v7\n"
     ]
    },
    {
     "name": "stdout",
     "output_type": "stream",
     "text": [
      "['⭐️ PRIME RP | WL +18 ⛔️ | SERIOUS RP ☝ | RP PROGRESSIF ET COHERENT ☝', 'https://servers.fivem.net/servers/detail/dbm69d', '', 'Freeroam', 'enabled', 'fivem-map-hipster', 'French (France)', 'qbcore, addon, cars, car, boosting, drifting, ai, custom, casual, playground, np, ai, mechanic, airport, airports, flipcar, animals, ride, dice, roll, trailer, carry, people, drift, scratch, off, scratching, tramway, trams, tram, sling, mele, freecam, golf, heli, cam, doc, medic, fishing, unicorn, companion, pet, pets, companions, hunting, prop, props, game, memory, hacking, map, lasers, crypto, cops, police, piggyback, drugs, drug, processing, weed, coke, meth, heroin, methrun, gun, guns, money, laundering, wash, billards, pool, spray, paint, spraypaint, refuel, nozzle, stancer, offset, hostage, train, trains, transportation, trollactions, troll, trollaction. casino, gamble, blackjack, roulette, chips, blips, emote, emotes, sound, youtube, hacking, safe, cracker, screenshot', '2802', '', 'prime_roleplay', '', '', ['3dmescript', 'a_bosuvest', 'AB45-BlossomMansionTebex', 'admin_timod', 'agence_immo', 'alpha-craftingV2', 'astudios-pocketbmx', 'axio_spikes', 'b_backpack', 'bar', 'barney_arcade', 'barney_arcade_int', 'barney_arcade_ipl', 'barney_arm_wrestling', 'barney_bowling', 'barney_dart', 'barney_metal_detector', 'barney_pool', 'barney-mdt', 'baseevents', 'basic-gamemode', 'billing', 'bob74_ipl', 'boii-drugs', 'boii-ganglocs', 'bowling', 'BP-NativeAudio', 'brutal_babys', 'bunker_madrazo', 'burgershot-van', 'busmodstr', 'Buty-license', 'c_taysbusinesspack', 'cad-drugsales-2.1.2', 'caravanes', 'CarryPeople', 'carsounds', 'casino', 'cayo', 'CayoHouse', 'CayoTwoIslands', 'ccfarmhouse', 'cdn-fuel', 'cfx-gabz-247', 'cfx-gabz-altruists', 'cfx-gabz-ammunation', 'cfx-gabz-arcade', 'cfx-gabz-aztecas', 'cfx-gabz-barber', 'cfx-gabz-binco', 'cfx-gabz-bowling', 'cfx-gabz-carmeet', 'cfx-gabz-catcafe', 'cfx-gabz-diner', 'cfx-gabz-families', 'cfx-gabz-fleeca', 'cfx-gabz-hornys', 'cfx-gabz-lost', 'cfx-gabz-mapdata', 'cfx-gabz-marabunta', 'cfx-gabz-paletoliquor', 'cfx-gabz-pdm', 'cfx-gabz-pdprops', 'cfx-gabz-pinkcage', 'cfx-gabz-pizzeria', 'cfx-gabz-prison', 'cfx-gabz-records', 'cfx-gabz-sandypd', 'cfx-gabz-scenarios', 'cfx-gabz-tattoo', 'cfx-gabz-triads', 'cfx-gabz-vbmarket', 'cfx-vote-plugin', 'chat', 'church-mlo', 'clubhouse_paleto', 'clubhouselost', 'cuirmalvabundos', 'd_pull_malvabundos', 'design_house', 'devcore_smoke', 'devyn-dj', 'discordrolecheck', 'distillerie', 'dolu_vineyard', 'don-jewellery', 'dpclothing', 'eastcustoms', 'ed_chilliadtorture', 'ed_rhhouse', 'eup_f_sp', 'eup_m_sp', 'evy_armwrestling', 'fibpolice', 'fiv3devs_bahamamamas', 'fiv3devs_bahamamamas_addon', 'FIVEGUARD', 'fivem-map-hipster', 'frontiere_autoroute', 'futte-newspaper', 'g-bikerentals-master', 'gang_weed_shop', 'gd_airport_ai_begone-master', 'generic_texture_renderer_gfx', 'gouvernement', 'government', 'h_r4usarmy', 'hacking', 'hackingminigame', 'hedwig_hunt', 'heli', 'hex_paleto_cardealer', 'hiype-cardelivery', 'hopitalzonna', 'httpmanager', 'i-eup_f_police', 'iak_DrugFarm', 'iak_yachtclub', 'illenium-appearance', 'iNotificationV3', 'instructional-buttons', 'interact-sound', 'j-eup_m_police', 'ja_usmarshal_eup', 'jakers-bennys', 'jakers-customs-bennys', 'Jakers-LightBar', 'jakers-paintshops-bennys', 'JD_logsV3', 'jim-consumables', 'jim-mining', 'jim-popsdiner', 'jr_vbmafia', 'justice', 'justicejob', 'k-eup_lions', 'k4mb1-casino', 'k4mb1shellstarter', 'k5_documents', 'k9_ped-main', 'keep-companion', 'keep-hunting', 'Knockout', 'kq_outfitbag', 'lambra-drugTables', 'lawyer', 'lb-phone', 'lb-phoneprop', 'LC-Cigars', 'LeaveEngineRunning', 'lks_gldhs', 'lks_gym', 'loaf_lib', 'lockpick', 'lotterie_topserv', 'lux_NightClub', 'lux_vehcontrol', 'm_prime', 'm-loadingscreen', 'm-report', 'MadMonkey', 'mafia_mansion', 'maison_beausejour', 'maison_canta_chenia', 'maison_casadellago', 'maison_casasofia', 'maison_cerisiervinewood', 'maison_forestmansion', 'maison_francaise', 'maison_fuentesblanca', 'maison_horizonurbain', 'maison_kingreborn', 'maison_lacabane', 'maison_noel', 'maison_nullanai', 'maison_onyx', 'maison_pacificrooftop', 'maison_phare', 'maison_pharebis', 'maison_rockforthills', 'maison_rubisdescollines', 'maison_tresordesandy', 'maison_valsoleil', 'maison_vicecity', 'maison_villaalytes', 'maison_villabianca', 'maison_villacastalla', 'maison_villadarelsousou', 'maison_villadugreen', 'maison_villadulac', 'maisonelite', 'malibu_mansion', 'ManoNegra', 'map_foret', 'Map_PaletoSO', 'mapmanager', 'Marc_Bunker_site', 'Md_white_widow_cafe_V2Update_mlo', 'Megaphone', 'memorygame', 'menuv', 'meta_libs', 'mhacking', 'minigolf_patoche', 'mojito_in', 'monitor', 'mp-newsjob', 'mrm-crosshair-main', 'mrw_minigolf', 'ms-peds', 'mt-fishing', 'mt-hornys', 'mt-UwUCafe', 'multilingual', 'NativeUI', 'north_dealership', 'np-pb-arena', 'ox_doorlock', 'ox_lib', 'oxmysql', 'pablito_mayans_mc_elburro', 'PAINTBALL-WEAPON', 'paleto_tim', 'patoche_benny_elevator', 'patoche_benny_original', 'patoche_gang_crips', 'patoche_paleto_airport', 'patoche_tabac', 'patochewateredit', 'pedbuyer', 'philip-adminduty', 'pizza', 'pma-voice', 'pmms', 'pneux', 'PolyZone', 'possible-atm-robbery-main', 'Prime_Bracelet', 'Prime_BurgerShot', 'prime_vehicules_pack_1', 'prime_vehicules_pack_2', 'prime_vehicules_pack_3', 'progressbar', 'prospecting', 'ps-dispatch', 'ps-mdt', 'ps-ui', 'pun_idgun', 'qb_k9-main', 'qb-apartments', 'qb-atms', 'qb-banking', 'qb-bankrobbery', 'qb-bringoto', 'qb-burgershot', 'qb-characterkill-main', 'qb-core', 'qb-diving', 'qb-garages', 'qb-houserobbery', 'qb-hud', 'qb-input', 'qb-interior', 'qb-lock', 'qb-lockpick', 'qb-management', 'qb-marshall', 'qb-menu', 'qb-multicharacter', 'qb-pawnshop', 'qb-policejob', 'qb-radialmenu', 'qb-radio', 'qb-sit', 'qb-skateboard', 'qb-skillbar', 'qb-smallresources', 'qb-spawn', 'qb-storerobbery', 'qb-strippers', 'qb-target', 'qb-truckrobbery-main', 'qb-tunerchip', 'qb-vehiclefailure', 'qb-vehiclesales', 'qb-vehicleshop', 'qb-weathersync', 'qb-wheelchair', 'qb-whitewidowjob-main', 'qs-backpacks', 'qs-housing', 'qs-inventory', 'qs-shops', 'qs-vehiclekeys', 'qs-weapondraw', 'quimii_warehouse', 'qz-ammunation', 'r_pepperspray', 'radargun', 'RedwoodLights', 'Rehab', 'reload-skillbar', 'renzu_motels', 'rfc_route68_garage', 'rockford_hill_7156', 'rsd_Banham_Montain_Complex', 'rtx_tv', 'SA-Money-v2', 'safecracker', 'salle_torturebarage', 'sandy_grapseed', 'screenshot-basic', 'skillbar', 'skillbar-main', 'small_designer_villa_01', 'spawnmanager', 'strawberry_gardens_verpi', 'TakeHostage', 'tark_vangelico', 'tequila_nomusic', 'tn-adminmenu', 'towing-main', 'tropical_villa', 'tumbsaloon', 'tuna_farm', 'ub-warehouse', 'uj_pbcafe_free', 'uniqx_xlabs-p1', 'Vanilla_Unicorn', 'vehcontrol', 'vinewoodfloorGarage', 'vinewoodfloorLSPD', 'vinewoodfloorMain', 'vinewoodfloorStairs', 'vinewoodfloorUG', 'vms_boatschoolv2', 'vms_driveschool_map', 'vms_driveschoolv2', 'vms_flightschoolv2', 'wasabi_ambulance', 'wasabi_bridge', 'wasabi_crutch', 'WC_EMOTES_V5', 'webpack', 'winery', 'wk_wars2x', 'wnewsv2', 'wp-placeables', 'xsound', 'xtxvxtx_female_male_body_remastered', 'yarn']]\n",
      "The last index is: 27\n",
      "Scraping server 28, id is lze5v7\n",
      "lze5v7\n"
     ]
    },
    {
     "name": "stderr",
     "output_type": "stream",
     "text": [
      "Resources: 15Generic-LEO-Police-MRAP-BB, 16Generic-HighSpeed-Electric-Sedan, 17Generic-HighSpeed-Coupe-Sports-Car, 18Generic-HighSpeed-Coupe-Sports-Car, 18Generic-Offroad-UTV-RB, 18Generic-Widebody-Coupe-Muscle-Car-LEO-BB, 19Generic-Coupe-Muscle-Car-LEO-RB, 21gscbb, 870, 911Improved-main, 1911, 2018taurusrb, AdvancedDriveBy-main, airambulance, airbureau, apollo_clothing_stores, arrowengine, Badger_Discord_API, basic-gamemode, bcso, bctls, bearcat, bearcat_b, Bearcatbb, BearcatNorm, Better-Torch, BetterRecoil-master, BigDaddy-EAS, BigDaddy-K9, BigDaddy-RadioAnimation, bureauboat, bureaucharg, bureauhemi, burgershot, c0nfi_BangerPD, CalmAI, carry, cfx_gn_ambulance_garage, cfx_gn_bc_firestation, cfx_gn_bs_food_props, cfx_gn_burgershot_int, cfx_gn_burgershot_mirorpark, cfx_gn_burgershot_sandy, cfx_gn_clinic_paleto, cfx_gn_clinic_sandy, cfx_gn_cluckin_rockford, cfx_gn_collection, cfx_gn_int_clinic, cfx_gn_mazebank_w, cfx_gn_medic_center, cfx_gn_medical_accessories, cfx_gn_medical_assets, cfx_gn_mz_mountzonah, cfx_gn_sandy_mapdata, cfx_gn_sandy_stripmall, cfx_gn_sandymotel, cfx_gn_sheriff_davis, cfx_gn_sheriff_dlc, cfx_gn_sheriff_sandyshores, cfx_gn_tripl_von_hotel, cfx_gn_upnatom_foodprops, cfx_gn_upnatom_freeway, cfx_gn_upnatom_v, cfx_gn_von_hotel, cfx_gn_von_lobby, chat, cinemavine, code3megapackrb, commands, core_dispatch, cuff-plus-master, customplate, dano_armas-master, DeathScript, DefaultWhelen2RB, discord, dpclothing-master, dpemotes-master, DUI-Stop, durangoum, DyzCarSystem-master, EasyAdmin, Enhanced_Crouch, eod, eup-bcso, eup-bcso3, eup-lspa, eup-stream, eup-vest, Evoc_Training, fbibearcat50, fbirrwraith, fbismallblockss, FBITahoe, fedrange, firesupplyline, FiveM-Discord-Presence-main, fivem-ipl, fivem-lsm, fivem-map-hipster, FiveM-Point-finger-master, FiveMKingsFiveMModsMcDs, fivepd, FivePDAudio_Client, fordambo, fordfusion_RB, ForestsOfSA_N, ForestsOfSA_S, FortZancudoCQBArea, g17, gigz_youtool, GMCFBI, gn_tplift_dual_medic, gn_tplift_mazebank_w, gn_tplift_mountzonah, gn_tplift_paletoclinic, gn_tplift_von, grappler, groovestreethood, GTAVRemastered, heli, helirescue, holograms, holstersounds, increased_fire, int_arcade, int_weed, integrity, ipl_arcade, ipl_weed1, iplLoader, ja_sast_eup_remastered, ja_usmarshal_eup, justice, K9_ped, ka-29, laboratories_org, lanyard, LegacyFuel, LegacyFuel-master, lilfedbird, lscso, LSPD, lspdhelicopter, lvc, m4, m113, Map_SandyLTD, mapmanager, Marine, matv, MBU, mcchauler, mcctrailer, Medic909B429, Medic909Cessna909, meta_libs, mobilespike, monitor, mq1, mrpdt, mz_mx5, NativeUI, nearest-postal-1.5.3, nm_14charg, NM426, NMAMG190EVO, NMARGIULIA, NMAUDIPACK, NMCTSV, NMDODGEPACK, NMDRKCHGR, NMESCALADE, NMFORDPACK, NMJDMPACK, NMMERCPACK, NMTRUCKPACK, NoReticle, notbad-rockstar-editor-main, oceanHospital, odessa_escmap-main, offstore_halloweendecoration, oldfedsig08char, opticomsystem, oulsen_satmap, oxmysql, pablito_hp, paletopd, Phantom20Exped, Phantom21Tahoe, Pitbull, pitbullbb, PLOKS_CARS, pma-voice, Posted-Speedlimit-master, prison, rackunrack, RageUI, RealisticAirControl, RealisticBrakeLights, RealisticDrivingV, RealisticHandle1.0, RealisticTraffic, redneck-lighting, Redneck-Stretcher, Redneck-UTV-Trailer, Redneck-UTV-Trailer-Script, reduxserver5m, refuelingnozzle, RippleMP, roads, rockford_hills_pd, roperescue, sar250, screenshot-basic, scully_eupui, scully_radio2, SD-AutoDV, Sil-2Step, sling_script, smartmatrix, smartmotorways, smartsigns, smarttaser, smokey_parkranger, smokey_parkranger_exterior, sonoran-atmrobbery, sonoran-evidencecam, sonoran-radardetector, sonoran-trafficcam, sound, spawnmanager, speedwarning, spikescript, Staff_Request_Master, stamina, starchase, statelibpack, streetlabel, SurveillanceVan, swatec135, thinline_leprops, throwbag, tls_aedutybelt, tm_echo, towing, TrafficTrailer, trump-stretcher, trump-stretcher-script, txwheelen, uj_marshal, uj_marshal_ipl, uj_marshalLoader, ult-goh-pd, umcont, unholster, V3, VagosHouse, vehcontrol, vespucci, vMenu, watermonitor, weapon, Weaponry1.0, WeaponsPack, webpack, wk_wars2x, wm-serversirens, x26, yarn\n",
      "Game type: Freeroam\n",
      "Map: fivem-map-hipster\n",
      "OneSync: enabled\n",
      "Language: undefined (undefined)\n",
      "Tags: fivepd, Vmenu, Leo, Police, Custom Cars, eup, MLOs, sast, ems, fire, roleplay, rp, doj, no civ rp, realism, rpradio, fun, cops, state wide, admin, anyone can be a cop, custom, cars, bcso, lspd, sast, sahp, fbi, ems, fire, marshal, imersion\n",
      "DLC level: 2944\n",
      "sv_pureLevel: 0\n",
      "can_review: true\n",
      "Owner: KingPapaito15\n",
      "https://servers.fivem.net/servers/detail/kkvm6a\n"
     ]
    },
    {
     "name": "stdout",
     "output_type": "stream",
     "text": [
      "['', 'https://servers.fivem.net/servers/detail/lze5v7', '', 'Freeroam', 'enabled', 'fivem-map-hipster', 'undefined (undefined)', 'fivepd, Vmenu, Leo, Police, Custom Cars, eup, MLOs, sast, ems, fire, roleplay, rp, doj, no civ rp, realism, rpradio, fun, cops, state wide, admin, anyone can be a cop, custom, cars, bcso, lspd, sast, sahp, fbi, ems, fire, marshal, imersion', '2944', '', 'KingPapaito15', '', '', ['15Generic-LEO-Police-MRAP-BB', '16Generic-HighSpeed-Electric-Sedan', '17Generic-HighSpeed-Coupe-Sports-Car', '18Generic-HighSpeed-Coupe-Sports-Car', '18Generic-Offroad-UTV-RB', '18Generic-Widebody-Coupe-Muscle-Car-LEO-BB', '19Generic-Coupe-Muscle-Car-LEO-RB', '21gscbb', '870', '911Improved-main', '1911', '2018taurusrb', 'AdvancedDriveBy-main', 'airambulance', 'airbureau', 'apollo_clothing_stores', 'arrowengine', 'Badger_Discord_API', 'basic-gamemode', 'bcso', 'bctls', 'bearcat', 'bearcat_b', 'Bearcatbb', 'BearcatNorm', 'Better-Torch', 'BetterRecoil-master', 'BigDaddy-EAS', 'BigDaddy-K9', 'BigDaddy-RadioAnimation', 'bureauboat', 'bureaucharg', 'bureauhemi', 'burgershot', 'c0nfi_BangerPD', 'CalmAI', 'carry', 'cfx_gn_ambulance_garage', 'cfx_gn_bc_firestation', 'cfx_gn_bs_food_props', 'cfx_gn_burgershot_int', 'cfx_gn_burgershot_mirorpark', 'cfx_gn_burgershot_sandy', 'cfx_gn_clinic_paleto', 'cfx_gn_clinic_sandy', 'cfx_gn_cluckin_rockford', 'cfx_gn_collection', 'cfx_gn_int_clinic', 'cfx_gn_mazebank_w', 'cfx_gn_medic_center', 'cfx_gn_medical_accessories', 'cfx_gn_medical_assets', 'cfx_gn_mz_mountzonah', 'cfx_gn_sandy_mapdata', 'cfx_gn_sandy_stripmall', 'cfx_gn_sandymotel', 'cfx_gn_sheriff_davis', 'cfx_gn_sheriff_dlc', 'cfx_gn_sheriff_sandyshores', 'cfx_gn_tripl_von_hotel', 'cfx_gn_upnatom_foodprops', 'cfx_gn_upnatom_freeway', 'cfx_gn_upnatom_v', 'cfx_gn_von_hotel', 'cfx_gn_von_lobby', 'chat', 'cinemavine', 'code3megapackrb', 'commands', 'core_dispatch', 'cuff-plus-master', 'customplate', 'dano_armas-master', 'DeathScript', 'DefaultWhelen2RB', 'discord', 'dpclothing-master', 'dpemotes-master', 'DUI-Stop', 'durangoum', 'DyzCarSystem-master', 'EasyAdmin', 'Enhanced_Crouch', 'eod', 'eup-bcso', 'eup-bcso3', 'eup-lspa', 'eup-stream', 'eup-vest', 'Evoc_Training', 'fbibearcat50', 'fbirrwraith', 'fbismallblockss', 'FBITahoe', 'fedrange', 'firesupplyline', 'FiveM-Discord-Presence-main', 'fivem-ipl', 'fivem-lsm', 'fivem-map-hipster', 'FiveM-Point-finger-master', 'FiveMKingsFiveMModsMcDs', 'fivepd', 'FivePDAudio_Client', 'fordambo', 'fordfusion_RB', 'ForestsOfSA_N', 'ForestsOfSA_S', 'FortZancudoCQBArea', 'g17', 'gigz_youtool', 'GMCFBI', 'gn_tplift_dual_medic', 'gn_tplift_mazebank_w', 'gn_tplift_mountzonah', 'gn_tplift_paletoclinic', 'gn_tplift_von', 'grappler', 'groovestreethood', 'GTAVRemastered', 'heli', 'helirescue', 'holograms', 'holstersounds', 'increased_fire', 'int_arcade', 'int_weed', 'integrity', 'ipl_arcade', 'ipl_weed1', 'iplLoader', 'ja_sast_eup_remastered', 'ja_usmarshal_eup', 'justice', 'K9_ped', 'ka-29', 'laboratories_org', 'lanyard', 'LegacyFuel', 'LegacyFuel-master', 'lilfedbird', 'lscso', 'LSPD', 'lspdhelicopter', 'lvc', 'm4', 'm113', 'Map_SandyLTD', 'mapmanager', 'Marine', 'matv', 'MBU', 'mcchauler', 'mcctrailer', 'Medic909B429', 'Medic909Cessna909', 'meta_libs', 'mobilespike', 'monitor', 'mq1', 'mrpdt', 'mz_mx5', 'NativeUI', 'nearest-postal-1.5.3', 'nm_14charg', 'NM426', 'NMAMG190EVO', 'NMARGIULIA', 'NMAUDIPACK', 'NMCTSV', 'NMDODGEPACK', 'NMDRKCHGR', 'NMESCALADE', 'NMFORDPACK', 'NMJDMPACK', 'NMMERCPACK', 'NMTRUCKPACK', 'NoReticle', 'notbad-rockstar-editor-main', 'oceanHospital', 'odessa_escmap-main', 'offstore_halloweendecoration', 'oldfedsig08char', 'opticomsystem', 'oulsen_satmap', 'oxmysql', 'pablito_hp', 'paletopd', 'Phantom20Exped', 'Phantom21Tahoe', 'Pitbull', 'pitbullbb', 'PLOKS_CARS', 'pma-voice', 'Posted-Speedlimit-master', 'prison', 'rackunrack', 'RageUI', 'RealisticAirControl', 'RealisticBrakeLights', 'RealisticDrivingV', 'RealisticHandle1.0', 'RealisticTraffic', 'redneck-lighting', 'Redneck-Stretcher', 'Redneck-UTV-Trailer', 'Redneck-UTV-Trailer-Script', 'reduxserver5m', 'refuelingnozzle', 'RippleMP', 'roads', 'rockford_hills_pd', 'roperescue', 'sar250', 'screenshot-basic', 'scully_eupui', 'scully_radio2', 'SD-AutoDV', 'Sil-2Step', 'sling_script', 'smartmatrix', 'smartmotorways', 'smartsigns', 'smarttaser', 'smokey_parkranger', 'smokey_parkranger_exterior', 'sonoran-atmrobbery', 'sonoran-evidencecam', 'sonoran-radardetector', 'sonoran-trafficcam', 'sound', 'spawnmanager', 'speedwarning', 'spikescript', 'Staff_Request_Master', 'stamina', 'starchase', 'statelibpack', 'streetlabel', 'SurveillanceVan', 'swatec135', 'thinline_leprops', 'throwbag', 'tls_aedutybelt', 'tm_echo', 'towing', 'TrafficTrailer', 'trump-stretcher', 'trump-stretcher-script', 'txwheelen', 'uj_marshal', 'uj_marshal_ipl', 'uj_marshalLoader', 'ult-goh-pd', 'umcont', 'unholster', 'V3', 'VagosHouse', 'vehcontrol', 'vespucci', 'vMenu', 'watermonitor', 'weapon', 'Weaponry1.0', 'WeaponsPack', 'webpack', 'wk_wars2x', 'wm-serversirens', 'x26', 'yarn']]\n",
      "The last index is: 28\n",
      "Scraping server 29, id is kkvm6a\n",
      "kkvm6a\n"
     ]
    },
    {
     "name": "stderr",
     "output_type": "stream",
     "text": [
      "Resources: 2.%20Roads%20Policing%20Unit%20Bundle%202, 3.GenericPCResponseStarterBundle3, 8.ArmedPolicePackFleece, 247Plaza, 550imark, All_Jobs, AntiBunnyHop, async, bob74_ipl, bs-dvla, cc_irishpub, CCRP_Dealership, CCRP-CarLock, CCRP-CarLockPick, CCRP-CarRental, CCRP-CarSounds, CCRP-ClientStuff, CCRP-ElectricianJob, CCRP-ELS, CCRP-EUP, CCRP-ExtraItems, CCRP-Garages, CCRP-GTACars, CCRP-GTACars2, CCRP-GTACars3, CCRP-GTACars4, CCRP-Shops, CCRP-Tax, CCRP-VangelicoHeist, cd_easytime, CentralBins, cfx-gabz-247, cfx-gabz-bennys, cfx-gabz-casino, cfx-gabz-lost, cfx-gabz-mapdata, cfx-gabz-ottos, cfx-gabz-pdm, cfx-gabz-pillbox, cfx-gabz-pizzeria, cfx-gabz-ponsonbys, cfx-gabz-prison, cfx-gabz-scenarios, cfx-gabz-tattoo, cfx-nteam-legion-square-extended, cfx-nteam-milehigh, cfx-nteam-river, codem-blvckhudv2, codev-casino, codev-casino_map, connectqueue, core_gangs, core_jobutilities, core_multijob, cron, CustomProps, devcore_needs, dpclothing, dpemotes, envi-chopshop, es_extended, esx_context, esx_dmvschool, ESX_GiveCarKeys, esx_givevehicle, esx_identity, esx_license, esx_lscustom, esx_menu_default, esx_menu_dialog, esx_menu_list, esx_multicharacter, esx_notify, esx_property, esx_status, esx_textui, esx-qalle-jail, fanonx-hunting, ff_diving, fivem-appearance, fivem-ipl, fivem-realisticvehicle, Generic%20Ambulance%20Intermediate%20Pack, gks_ebay, gks_racing, gks_rentacar, gksphone, gls63mark, gunstore, hex_bennys, houseRobberies, instance, interactsound, jdmrimpack1, k5_documents, Katana, kq_outfitbag, kq_realoffroad, kq_towing2, Lamonts%20Assault%20Rifle, lation_247robbery, lation_laundering, lation_oxyrun, lation_servicecenter, lation_towing, liquor_3, LuxuryAutos-Job, m3tels, mecc, memorygame, mhacking, mo_postalCode, monitor, mythic_progbar, nk_repair, okokBanking, okokBilling, okokChat, okokNotify, okokReports, okokTextUI, OneTime_Lorry, OneTime_Trailer, OneTime-Car-Menu, OneTime-Job, ox_doorlock, ox_inventory, ox_lib, ox_target, oxmysql, PacificBankExtendedMLOv1, pharmacy_paleto, pma-voice, polev6, polx7, PolyZone, progbars, progressBars, qs-dispatch, rahe-boosting, rahe-hackingdevice, rahe-racing, rcore_casino, RedlinePerformance-Job, rfc_davis_pawn_shop, rfc_luxury_autos, rfc_mapping_coke, rfc_mapping_meth, rfc_mapping_weed, rfc_mapping_western_motorcycle, rfc_redline_tuner_shop, rfc_redline_vip_showroom, rgz_playedtime, rm_pacificheist, rm_unionheist, Rmodgold1, Rmodgold2, rob_atm, sarmingo-rent, screenshot-basic, scully_radio2, Sinner_MPS, soloty_liquor_delperro, spawnmanager, t0sic_loadingbar, The-Firm, utk_fingerprint, utk_hackdependency, vagos_interior, vehcontrol, vehicle_names, VehicleAirControl, vs_loadingscreen, wasabi_ambulance, wasabi_bridge, wasabi_fishing, wasabi_mining, wasabi_police, webpack, wld-delallveh, wx_drugselling, xsound, yarn, ZT-Territory\n",
      "Game type: Custom ESX\n",
      "Map: London\n",
      "OneSync: enabled\n",
      "Language: English (United Kingdom)\n",
      "Tags: london, british, drugs, esx, gangs, whitelisted jobs, police, nhs, uk, serious rp, roleplay, rp, lore friendly, lore, friendly, serious, streamer,esx\n",
      "Discord: discord.gg/ccrp\n",
      "DLC level: 2944\n",
      "sv_pureLevel: 0\n",
      "can_review: true\n",
      "Owner: BigBeanBIRP\n",
      "https://servers.fivem.net/servers/detail/vogxle\n"
     ]
    },
    {
     "name": "stdout",
     "output_type": "stream",
     "text": [
      "['', 'https://servers.fivem.net/servers/detail/kkvm6a', '', 'Custom ESX', 'enabled', 'London', 'English (United Kingdom)', 'london, british, drugs, esx, gangs, whitelisted jobs, police, nhs, uk, serious rp, roleplay, rp, lore friendly, lore, friendly, serious, streamer,esx', '2944', '', 'BigBeanBIRP', '', '', ['2.%20Roads%20Policing%20Unit%20Bundle%202', '3.GenericPCResponseStarterBundle3', '8.ArmedPolicePackFleece', '247Plaza', '550imark', 'All_Jobs', 'AntiBunnyHop', 'async', 'bob74_ipl', 'bs-dvla', 'cc_irishpub', 'CCRP_Dealership', 'CCRP-CarLock', 'CCRP-CarLockPick', 'CCRP-CarRental', 'CCRP-CarSounds', 'CCRP-ClientStuff', 'CCRP-ElectricianJob', 'CCRP-ELS', 'CCRP-EUP', 'CCRP-ExtraItems', 'CCRP-Garages', 'CCRP-GTACars', 'CCRP-GTACars2', 'CCRP-GTACars3', 'CCRP-GTACars4', 'CCRP-Shops', 'CCRP-Tax', 'CCRP-VangelicoHeist', 'cd_easytime', 'CentralBins', 'cfx-gabz-247', 'cfx-gabz-bennys', 'cfx-gabz-casino', 'cfx-gabz-lost', 'cfx-gabz-mapdata', 'cfx-gabz-ottos', 'cfx-gabz-pdm', 'cfx-gabz-pillbox', 'cfx-gabz-pizzeria', 'cfx-gabz-ponsonbys', 'cfx-gabz-prison', 'cfx-gabz-scenarios', 'cfx-gabz-tattoo', 'cfx-nteam-legion-square-extended', 'cfx-nteam-milehigh', 'cfx-nteam-river', 'codem-blvckhudv2', 'codev-casino', 'codev-casino_map', 'connectqueue', 'core_gangs', 'core_jobutilities', 'core_multijob', 'cron', 'CustomProps', 'devcore_needs', 'dpclothing', 'dpemotes', 'envi-chopshop', 'es_extended', 'esx_context', 'esx_dmvschool', 'ESX_GiveCarKeys', 'esx_givevehicle', 'esx_identity', 'esx_license', 'esx_lscustom', 'esx_menu_default', 'esx_menu_dialog', 'esx_menu_list', 'esx_multicharacter', 'esx_notify', 'esx_property', 'esx_status', 'esx_textui', 'esx-qalle-jail', 'fanonx-hunting', 'ff_diving', 'fivem-appearance', 'fivem-ipl', 'fivem-realisticvehicle', 'Generic%20Ambulance%20Intermediate%20Pack', 'gks_ebay', 'gks_racing', 'gks_rentacar', 'gksphone', 'gls63mark', 'gunstore', 'hex_bennys', 'houseRobberies', 'instance', 'interactsound', 'jdmrimpack1', 'k5_documents', 'Katana', 'kq_outfitbag', 'kq_realoffroad', 'kq_towing2', 'Lamonts%20Assault%20Rifle', 'lation_247robbery', 'lation_laundering', 'lation_oxyrun', 'lation_servicecenter', 'lation_towing', 'liquor_3', 'LuxuryAutos-Job', 'm3tels', 'mecc', 'memorygame', 'mhacking', 'mo_postalCode', 'monitor', 'mythic_progbar', 'nk_repair', 'okokBanking', 'okokBilling', 'okokChat', 'okokNotify', 'okokReports', 'okokTextUI', 'OneTime_Lorry', 'OneTime_Trailer', 'OneTime-Car-Menu', 'OneTime-Job', 'ox_doorlock', 'ox_inventory', 'ox_lib', 'ox_target', 'oxmysql', 'PacificBankExtendedMLOv1', 'pharmacy_paleto', 'pma-voice', 'polev6', 'polx7', 'PolyZone', 'progbars', 'progressBars', 'qs-dispatch', 'rahe-boosting', 'rahe-hackingdevice', 'rahe-racing', 'rcore_casino', 'RedlinePerformance-Job', 'rfc_davis_pawn_shop', 'rfc_luxury_autos', 'rfc_mapping_coke', 'rfc_mapping_meth', 'rfc_mapping_weed', 'rfc_mapping_western_motorcycle', 'rfc_redline_tuner_shop', 'rfc_redline_vip_showroom', 'rgz_playedtime', 'rm_pacificheist', 'rm_unionheist', 'Rmodgold1', 'Rmodgold2', 'rob_atm', 'sarmingo-rent', 'screenshot-basic', 'scully_radio2', 'Sinner_MPS', 'soloty_liquor_delperro', 'spawnmanager', 't0sic_loadingbar', 'The-Firm', 'utk_fingerprint', 'utk_hackdependency', 'vagos_interior', 'vehcontrol', 'vehicle_names', 'VehicleAirControl', 'vs_loadingscreen', 'wasabi_ambulance', 'wasabi_bridge', 'wasabi_fishing', 'wasabi_mining', 'wasabi_police', 'webpack', 'wld-delallveh', 'wx_drugselling', 'xsound', 'yarn', 'ZT-Territory']]\n",
      "The last index is: 29\n",
      "Scraping server 30, id is vogxle\n",
      "vogxle\n"
     ]
    },
    {
     "name": "stderr",
     "output_type": "stream",
     "text": [
      "Server Name: [IRAN] Sunset RP | F8 => connect set.sunrp.ir\n"
     ]
    },
    {
     "name": "stdout",
     "output_type": "stream",
     "text": [
      "%%%%%%%%%%%%%%%%%%%%%%%%%%%%%%%%%%%%%%%%%%%%%%%%%%%%%%%%%%%%%%%%%\n",
      "[IRAN] Sunset RP | F8 => connect set.sunrp.ir\n",
      "%%%%%%%%%%%%%%%%%%%%%%%%%%%%%%%%%%%%%%%%%%%%%%%%%%%%%%%%%%%%%%%%%\n"
     ]
    },
    {
     "name": "stderr",
     "output_type": "stream",
     "text": [
      "Resources: al, api, bansystem, bob74_ipl, capture, carhud, cfx-gabz-ammunation, cfx-gabz-arcade, cfx-gabz-atom, cfx-gabz-aztecas, cfx-gabz-bahama, cfx-gabz-ballas, cfx-gabz-barber, cfx-gabz-beanmachine, cfx-gabz-bennys, cfx-gabz-bowling, cfx-gabz-carmeet, cfx-gabz-casino, cfx-gabz-catcafe, cfx-gabz-diner, cfx-gabz-families, cfx-gabz-firedept, cfx-gabz-harmony, cfx-gabz-haters, cfx-gabz-hornys, cfx-gabz-impound, cfx-gabz-lamesapd, cfx-gabz-lost, cfx-gabz-lostsc, cfx-gabz-lscustoms, cfx-gabz-mapdata, cfx-gabz-marabunta, cfx-gabz-mba, cfx-gabz-mrpd, cfx-gabz-paletopd, cfx-gabz-parkranger, cfx-gabz-pdm, cfx-gabz-pdprops, cfx-gabz-pinkcage, cfx-gabz-ponsonbys, cfx-gabz-prison, cfx-gabz-records, cfx-gabz-sandypd, cfx-gabz-suburban, cfx-gabz-tattoo, cfx-gabz-townhall, cfx-gabz-triads, cfx-gabz-tuners, cfx-gabz-vagos, cfx-gabz-vbmarket, cfx-gabz-vu, cfx-gabz-yachts, chat, colorpicker, Documents, dpemotes, essentialmode, esx_addonaccount, esx_barbershop, esx_basicneeds, esx_blackmarket, esx_carjob, esx_carlock, esx_customItems, esx_drugs, esx_identity, esx_jobs, esx_lscustom, esx_menu_default, esx_menu_dialog, esx_menu_list, esx_menu_question, esx_outlawalert, esx_paintball, esx_robberybank, esx_rpchat, esx_skin, esx_status, esx_vehiclecontrol, esx_vehicleshop, esx_weaponshop, fivem-map-hipster, gangprop, gangs, grs_golf_club, icon_menu, idoverhead, input, lan, LegacyFuel, litesql, mapmanager, maps, mhacking, monitor, mythic_notify, mythic_progbar, ox_lib, pacman, pma-voice, pNotify, PolyZone, ps-minigame, rp_radio, scoreboard, screenshot-basic, scripts5, skinchanger, skincreator, spawnmanager, speedometer, SS_Cars, ss_cs, sun_loading_halloween, sun-billing, sun-blip, sun-Charger_Tuned, sun-garage, sun-inventory-hud, sun-jail, sun-jewelry, sun-jobs, sun-list, sun-market-robbery, sun-npc, sun-parkour, sun-porsche-panamera, sun-race, sun-radar, sun-radialmenu, sun-radio, sun-society, sun-stream, sun-streetlabel, sun-T-REX, sun-tattoo-shop, sun-trade, sun-ui, sun-vehicle-debugger, suncore, sunset_admin, sunset_auctionhouse, sunset_banking, sunset_battleroyal, sunset_boombox, sunset_cad, sunset_cargo, sunset_chop_shop, sunset_clothe, sunset_clotheshop, sunset_combat, sunset_crafting, sunset_customshop, sunset_dialog, sunset_discord, sunset_helper, sunset_housing, sunset_inventory, sunset_job_stuff, sunset_lifeinvader, sunset_main, sunset_mythic, sunset_party, sunset_phone, sunset_portal, sunset_quest, sunset_race, sunset_rc, sunset_target, sunset_utils, TextUI, tgiann-attachproptoplayereditor, utk_fingerprint, utk_hackdependency, xsound\n",
      "Game type: Role Play\n",
      "Map: Los Santos\n",
      "OneSync: enabled\n",
      "Language: Persian (Iran)\n",
      "Tags: sunset, suncollective, sun-collective, roleplay, persian, iran\n",
      "Discord: discord.gg/sunco\n",
      "ambulance: 11\n",
      "mechanic: 15\n",
      "police: +5\n",
      "DLC level: 2802\n",
      "sv_pureLevel: 2\n",
      "taxi: 11\n",
      "weazel: 0\n",
      "Owner: Sun-Collective\n",
      "https://servers.fivem.net/servers/detail/o3yq7r\n"
     ]
    },
    {
     "name": "stdout",
     "output_type": "stream",
     "text": [
      "['[IRAN] Sunset RP | F8 => connect set.sunrp.ir', 'https://servers.fivem.net/servers/detail/vogxle', '', 'Role Play', 'enabled', 'Los Santos', 'Persian (Iran)', 'sunset, suncollective, sun-collective, roleplay, persian, iran', '2802', '', 'Sun-Collective', '', '', ['al', 'api', 'bansystem', 'bob74_ipl', 'capture', 'carhud', 'cfx-gabz-ammunation', 'cfx-gabz-arcade', 'cfx-gabz-atom', 'cfx-gabz-aztecas', 'cfx-gabz-bahama', 'cfx-gabz-ballas', 'cfx-gabz-barber', 'cfx-gabz-beanmachine', 'cfx-gabz-bennys', 'cfx-gabz-bowling', 'cfx-gabz-carmeet', 'cfx-gabz-casino', 'cfx-gabz-catcafe', 'cfx-gabz-diner', 'cfx-gabz-families', 'cfx-gabz-firedept', 'cfx-gabz-harmony', 'cfx-gabz-haters', 'cfx-gabz-hornys', 'cfx-gabz-impound', 'cfx-gabz-lamesapd', 'cfx-gabz-lost', 'cfx-gabz-lostsc', 'cfx-gabz-lscustoms', 'cfx-gabz-mapdata', 'cfx-gabz-marabunta', 'cfx-gabz-mba', 'cfx-gabz-mrpd', 'cfx-gabz-paletopd', 'cfx-gabz-parkranger', 'cfx-gabz-pdm', 'cfx-gabz-pdprops', 'cfx-gabz-pinkcage', 'cfx-gabz-ponsonbys', 'cfx-gabz-prison', 'cfx-gabz-records', 'cfx-gabz-sandypd', 'cfx-gabz-suburban', 'cfx-gabz-tattoo', 'cfx-gabz-townhall', 'cfx-gabz-triads', 'cfx-gabz-tuners', 'cfx-gabz-vagos', 'cfx-gabz-vbmarket', 'cfx-gabz-vu', 'cfx-gabz-yachts', 'chat', 'colorpicker', 'Documents', 'dpemotes', 'essentialmode', 'esx_addonaccount', 'esx_barbershop', 'esx_basicneeds', 'esx_blackmarket', 'esx_carjob', 'esx_carlock', 'esx_customItems', 'esx_drugs', 'esx_identity', 'esx_jobs', 'esx_lscustom', 'esx_menu_default', 'esx_menu_dialog', 'esx_menu_list', 'esx_menu_question', 'esx_outlawalert', 'esx_paintball', 'esx_robberybank', 'esx_rpchat', 'esx_skin', 'esx_status', 'esx_vehiclecontrol', 'esx_vehicleshop', 'esx_weaponshop', 'fivem-map-hipster', 'gangprop', 'gangs', 'grs_golf_club', 'icon_menu', 'idoverhead', 'input', 'lan', 'LegacyFuel', 'litesql', 'mapmanager', 'maps', 'mhacking', 'monitor', 'mythic_notify', 'mythic_progbar', 'ox_lib', 'pacman', 'pma-voice', 'pNotify', 'PolyZone', 'ps-minigame', 'rp_radio', 'scoreboard', 'screenshot-basic', 'scripts5', 'skinchanger', 'skincreator', 'spawnmanager', 'speedometer', 'SS_Cars', 'ss_cs', 'sun_loading_halloween', 'sun-billing', 'sun-blip', 'sun-Charger_Tuned', 'sun-garage', 'sun-inventory-hud', 'sun-jail', 'sun-jewelry', 'sun-jobs', 'sun-list', 'sun-market-robbery', 'sun-npc', 'sun-parkour', 'sun-porsche-panamera', 'sun-race', 'sun-radar', 'sun-radialmenu', 'sun-radio', 'sun-society', 'sun-stream', 'sun-streetlabel', 'sun-T-REX', 'sun-tattoo-shop', 'sun-trade', 'sun-ui', 'sun-vehicle-debugger', 'suncore', 'sunset_admin', 'sunset_auctionhouse', 'sunset_banking', 'sunset_battleroyal', 'sunset_boombox', 'sunset_cad', 'sunset_cargo', 'sunset_chop_shop', 'sunset_clothe', 'sunset_clotheshop', 'sunset_combat', 'sunset_crafting', 'sunset_customshop', 'sunset_dialog', 'sunset_discord', 'sunset_helper', 'sunset_housing', 'sunset_inventory', 'sunset_job_stuff', 'sunset_lifeinvader', 'sunset_main', 'sunset_mythic', 'sunset_party', 'sunset_phone', 'sunset_portal', 'sunset_quest', 'sunset_race', 'sunset_rc', 'sunset_target', 'sunset_utils', 'TextUI', 'tgiann-attachproptoplayereditor', 'utk_fingerprint', 'utk_hackdependency', 'xsound']]\n",
      "The last index is: 30\n",
      "Scraping server 31, id is o3yq7r\n",
      "o3yq7r\n"
     ]
    },
    {
     "name": "stderr",
     "output_type": "stream",
     "text": [
      "Server Name: BETA Limitless Roleplay\n"
     ]
    },
    {
     "name": "stdout",
     "output_type": "stream",
     "text": [
      "%%%%%%%%%%%%%%%%%%%%%%%%%%%%%%%%%%%%%%%%%%%%%%%%%%%%%%%%%%%%%%%%%\n",
      "BETA Limitless Roleplay\n",
      "%%%%%%%%%%%%%%%%%%%%%%%%%%%%%%%%%%%%%%%%%%%%%%%%%%%%%%%%%%%%%%%%%\n"
     ]
    },
    {
     "name": "stderr",
     "output_type": "stream",
     "text": [
      "Resources: 3dme-master, 5m_addonblips-v2, 5m_anwbV1, 99kr-gym, 918spyeng, addon-carsounds, addon-citylights, addon-csounds, addon-trees, afkkick, ah-discordlogs, al-vehiclefailure, alleoverheidsautos, AM_AH, ambu3, ambulance_brancard, ambumotor, anwbarocs, anwbgebouw, anwbgle, ANWBSTREAMNEW, aq35ferf154cd, aq38mclm838tq, aq40benw12tt, arnhem-handler, asser-tow, assets_props, aston59v12, astro-eupset, ataNotification, audirs4milltekeng, autogeluideclipse, autogeluidevo, autogeluidg800, autogeluidgt3, autogeluidgt63, autogeluidgtr, autogeluidlfa, autogeluidm5, autogeluidrs5, autogeluidrs6, autogeluidskyline, baseevents, benze55, better-crouch-main, bgw16, biketricks, blaze_vodafone, Blokkenparkmiddenberm2, bmwn55, bob74_ipl, Boot%204, Boot%205-6, bootjes, BP_weg, brofx_05, brofx_mansion_18, brofx06, burj_khalifa_im3d, carlift, carpack_floor, carpack1, carpack2, casinodeel1, casinodeel2, cassino_props, cayoshop, CayoTwoIslands, ch_lightshow_assets, ch_lightshow_fiv3devs_asgard, charbankmaze, charger18, chat, cityhallv2, cron, custom_props, customwapens, datum, discord, doors, dpclothing, dpemotes, drc_objects, drc_wine, dretrackhawk, dsimercc, dsizulu, Dtmc%20gang%20huis, dtmcvest, DutchProps, dvd_coke_lab, ea825, ea888, ecoboostv6, els, es_extended, esx_addonaccount, esx_addoninventory, esx_addons_gcphone, esx_ambulancejob, esx_autodiefstal, esx_barbershop, esx_basicneeds, esx_bike-rental, esx_billing, esx_blackmarket, esx_boat, esx_brancard, esx_carlock, esx_carwash, esx_context, esx_coolblue, esx_customui, esx_datastore, esx_dmvschool, esx_fleecabank, esx_garbagecrew, esx_givevehicle, esx_headbag, esx_helishop, esx_holdup, esx_hospitalbed, esx_identity, esx_island_cardealer, esx_joblisting, esx_jobs, esx_juwelierbp, esx_license, esx_lscustom, esx_luckywheel, esx_mechanicjob, esx_menu_default, esx_menu_dialog, esx_menu_list, esx_notify, esx_onoffduty, esx_optionalneeds, esx_pasjesmenu, esx_policejob, esx_poolcleaner, esx_progressbar, esx_roulette, esx_rpchat, esx_service, esx_sit, esx_society, esx_status, esx_strippers, esx_taakstraf, esx_textui, esx_tol, esx_vangelico_robbery, esx_vehiclelock, esx_vehicleshop, esx-qalle-jail, esx-qalle-sellvehicles, eup-stream, eup-uim, eup-uiv, f10m5, f136, FeedM, ferrarif140fe, ffpsshot_aim, fiv3devs_vespucci, fiv3devs_vu, fivem-appearance, Flag_Change, flags, flight-animals, fpsbooster, fruitplukker, gallardov10, ganghuis, gcphone, Geldmaat%20BP, geldmaatrond, Grenspostendo, gt3rstun, gta_props_fivem, hamlap, handsup, hefbrugauto, heli, heli_lift, helikopter, hychawk, iak_DrugFarm, IDsAboveHead, ing%20custom, instance, int_prisonfull, iReportSystem, jlumma, jobs_creator, js-radionames, jsfour-id, jsfour-id2, jsfour-idcard, kc73pgt3rsakrapovic, KM_MLO_AS, KMAR_HB, kmar2, kmar3, kmar4, kmarbearcat, kmarbus, kmarcar, kmarmotor, kq_rgbcontroller_basic, L-AutoMenu, L-Drugs, L-Fishing, L-Lobby, L-Mcdonalds3, L-McDonaldsJob, L-MetBusje, L-OverheidGargage, lafitness, lamavgineng, lambov10, Lantarenpalen, lessdamage, lfasound, lg20carreragt, lg30meramgtr, lg51uruscapri, lg53fer488capri, lg62chironpursport, lg67koagerars, lg81hcredeye, lg86fer812sf, lg91timreg, lgcy12ferf40, lockpicking, lptr-gangjob, lptr-garage, lptr-kmarjob, lptr-pinov, ls_brake_cutting, luckywheel, m158huayra, MadrazoRanch, Mansion_03_Rancho, mapzoom, marabunta, maxim-tokenizer, mbnzc63eng, mcp1eng, medSystem, meos, mercm177, meta_libs, mhacking, ml-sound, ml720v8eng, money, monitor, mumble-voip, MusicEverywhere, myFuel, mystic-notify, mythic_notify, mythic_progressbar, mz_addons, NativeUI, new_banking, ninno-clothpack, nisgtr35, nm_lighting, nn-scoreboard, NoDriveBy, NoNPC, noodknop, notbad-rockstar-editor, nws_injured, obackweapon, ocrp_postal_map, okokChatV2, okokContract, okokDelVehicles, operation_floor, Overheid1, OverheidsAutosNieuw, overheidsbericht, overigepack, ox_inventory, ox_lib, ox_target, oxmysql, paaltjes, parachute, pgzonreng, PiggyBack, pingkick, pl-reclameborden, pl-staffhesje, Playboy_mansion, player-data, pNotify, polaudi, polaudiat, polbus, polbus2, polbus3, polfiets, polgle, politie-schild, politiebureauvinewood, politiemeldingen, politiezulu, polmercedes, polmotor, polmotor2, polmotor3, polpassat, polpolo, polrange, polrs6, polskoda, poltouran2016, poltransporter6, polvito2016, polvolvo70, polvovun, porschema2, PostNL, prisonprops, progressbar, progressBars, r3_pawnshop, radio, rconlog, replace, RG-Holster, rnscripts_pauzetitel, room_floor, rp-radio, rprogress, rq_recoil, runcode, rx7bpeng, s63b44, s65b40, screenshot-basic, shuffle, smartmotorways, spawnmanager, speedometer, stadus_skills, stoplichtfix, subaruej20, TakeHostage, Tmax, unmarkedaudirs6, unmarkedrs3, unmarkedx5m, urgence_floor, us-gps, utk_ornateheist, utk_ornateprops, verpi_driving_school, vinewood_hills_mansion, vineyards, vl-laadscherm, vn_nodot, vodafonewinkel, volatus2, vSync, vuilniswagen, Wachtrij, wassupganghuis, wba, weaponclient, webpack, whistle, wijzen, wine_props, wk_wars2x, wm-serversirens, xerogasstation, xsound, yarn, z_2019_Banham_Canyon_Mansion, zs-kledingmenuutje, zulu, ZV_witwas, zwemmbadbusje\n",
      "Game type: ESX Legacy\n",
      "Map: San Andreas\n",
      "OneSync: enabled\n",
      "Language: undefined (undefined)\n",
      "Tags: default, deployer, esx, esx legacy, legacy, official, roleplay,esx\n",
      "Discord: discord.gg/vmXy6NFSKV\n",
      "DLC level: 2944\n",
      "sv_pureLevel: 0\n",
      "can_review: true\n",
      "Owner: Arnhemsbloed\n",
      "https://servers.fivem.net/servers/detail/po3goa\n"
     ]
    },
    {
     "name": "stdout",
     "output_type": "stream",
     "text": [
      "['BETA Limitless Roleplay', 'https://servers.fivem.net/servers/detail/o3yq7r', '', 'ESX Legacy', 'enabled', 'San Andreas', 'undefined (undefined)', 'default, deployer, esx, esx legacy, legacy, official, roleplay,esx', '2944', '', 'Arnhemsbloed', '', '', ['3dme-master', '5m_addonblips-v2', '5m_anwbV1', '99kr-gym', '918spyeng', 'addon-carsounds', 'addon-citylights', 'addon-csounds', 'addon-trees', 'afkkick', 'ah-discordlogs', 'al-vehiclefailure', 'alleoverheidsautos', 'AM_AH', 'ambu3', 'ambulance_brancard', 'ambumotor', 'anwbarocs', 'anwbgebouw', 'anwbgle', 'ANWBSTREAMNEW', 'aq35ferf154cd', 'aq38mclm838tq', 'aq40benw12tt', 'arnhem-handler', 'asser-tow', 'assets_props', 'aston59v12', 'astro-eupset', 'ataNotification', 'audirs4milltekeng', 'autogeluideclipse', 'autogeluidevo', 'autogeluidg800', 'autogeluidgt3', 'autogeluidgt63', 'autogeluidgtr', 'autogeluidlfa', 'autogeluidm5', 'autogeluidrs5', 'autogeluidrs6', 'autogeluidskyline', 'baseevents', 'benze55', 'better-crouch-main', 'bgw16', 'biketricks', 'blaze_vodafone', 'Blokkenparkmiddenberm2', 'bmwn55', 'bob74_ipl', 'Boot%204', 'Boot%205-6', 'bootjes', 'BP_weg', 'brofx_05', 'brofx_mansion_18', 'brofx06', 'burj_khalifa_im3d', 'carlift', 'carpack_floor', 'carpack1', 'carpack2', 'casinodeel1', 'casinodeel2', 'cassino_props', 'cayoshop', 'CayoTwoIslands', 'ch_lightshow_assets', 'ch_lightshow_fiv3devs_asgard', 'charbankmaze', 'charger18', 'chat', 'cityhallv2', 'cron', 'custom_props', 'customwapens', 'datum', 'discord', 'doors', 'dpclothing', 'dpemotes', 'drc_objects', 'drc_wine', 'dretrackhawk', 'dsimercc', 'dsizulu', 'Dtmc%20gang%20huis', 'dtmcvest', 'DutchProps', 'dvd_coke_lab', 'ea825', 'ea888', 'ecoboostv6', 'els', 'es_extended', 'esx_addonaccount', 'esx_addoninventory', 'esx_addons_gcphone', 'esx_ambulancejob', 'esx_autodiefstal', 'esx_barbershop', 'esx_basicneeds', 'esx_bike-rental', 'esx_billing', 'esx_blackmarket', 'esx_boat', 'esx_brancard', 'esx_carlock', 'esx_carwash', 'esx_context', 'esx_coolblue', 'esx_customui', 'esx_datastore', 'esx_dmvschool', 'esx_fleecabank', 'esx_garbagecrew', 'esx_givevehicle', 'esx_headbag', 'esx_helishop', 'esx_holdup', 'esx_hospitalbed', 'esx_identity', 'esx_island_cardealer', 'esx_joblisting', 'esx_jobs', 'esx_juwelierbp', 'esx_license', 'esx_lscustom', 'esx_luckywheel', 'esx_mechanicjob', 'esx_menu_default', 'esx_menu_dialog', 'esx_menu_list', 'esx_notify', 'esx_onoffduty', 'esx_optionalneeds', 'esx_pasjesmenu', 'esx_policejob', 'esx_poolcleaner', 'esx_progressbar', 'esx_roulette', 'esx_rpchat', 'esx_service', 'esx_sit', 'esx_society', 'esx_status', 'esx_strippers', 'esx_taakstraf', 'esx_textui', 'esx_tol', 'esx_vangelico_robbery', 'esx_vehiclelock', 'esx_vehicleshop', 'esx-qalle-jail', 'esx-qalle-sellvehicles', 'eup-stream', 'eup-uim', 'eup-uiv', 'f10m5', 'f136', 'FeedM', 'ferrarif140fe', 'ffpsshot_aim', 'fiv3devs_vespucci', 'fiv3devs_vu', 'fivem-appearance', 'Flag_Change', 'flags', 'flight-animals', 'fpsbooster', 'fruitplukker', 'gallardov10', 'ganghuis', 'gcphone', 'Geldmaat%20BP', 'geldmaatrond', 'Grenspostendo', 'gt3rstun', 'gta_props_fivem', 'hamlap', 'handsup', 'hefbrugauto', 'heli', 'heli_lift', 'helikopter', 'hychawk', 'iak_DrugFarm', 'IDsAboveHead', 'ing%20custom', 'instance', 'int_prisonfull', 'iReportSystem', 'jlumma', 'jobs_creator', 'js-radionames', 'jsfour-id', 'jsfour-id2', 'jsfour-idcard', 'kc73pgt3rsakrapovic', 'KM_MLO_AS', 'KMAR_HB', 'kmar2', 'kmar3', 'kmar4', 'kmarbearcat', 'kmarbus', 'kmarcar', 'kmarmotor', 'kq_rgbcontroller_basic', 'L-AutoMenu', 'L-Drugs', 'L-Fishing', 'L-Lobby', 'L-Mcdonalds3', 'L-McDonaldsJob', 'L-MetBusje', 'L-OverheidGargage', 'lafitness', 'lamavgineng', 'lambov10', 'Lantarenpalen', 'lessdamage', 'lfasound', 'lg20carreragt', 'lg30meramgtr', 'lg51uruscapri', 'lg53fer488capri', 'lg62chironpursport', 'lg67koagerars', 'lg81hcredeye', 'lg86fer812sf', 'lg91timreg', 'lgcy12ferf40', 'lockpicking', 'lptr-gangjob', 'lptr-garage', 'lptr-kmarjob', 'lptr-pinov', 'ls_brake_cutting', 'luckywheel', 'm158huayra', 'MadrazoRanch', 'Mansion_03_Rancho', 'mapzoom', 'marabunta', 'maxim-tokenizer', 'mbnzc63eng', 'mcp1eng', 'medSystem', 'meos', 'mercm177', 'meta_libs', 'mhacking', 'ml-sound', 'ml720v8eng', 'money', 'monitor', 'mumble-voip', 'MusicEverywhere', 'myFuel', 'mystic-notify', 'mythic_notify', 'mythic_progressbar', 'mz_addons', 'NativeUI', 'new_banking', 'ninno-clothpack', 'nisgtr35', 'nm_lighting', 'nn-scoreboard', 'NoDriveBy', 'NoNPC', 'noodknop', 'notbad-rockstar-editor', 'nws_injured', 'obackweapon', 'ocrp_postal_map', 'okokChatV2', 'okokContract', 'okokDelVehicles', 'operation_floor', 'Overheid1', 'OverheidsAutosNieuw', 'overheidsbericht', 'overigepack', 'ox_inventory', 'ox_lib', 'ox_target', 'oxmysql', 'paaltjes', 'parachute', 'pgzonreng', 'PiggyBack', 'pingkick', 'pl-reclameborden', 'pl-staffhesje', 'Playboy_mansion', 'player-data', 'pNotify', 'polaudi', 'polaudiat', 'polbus', 'polbus2', 'polbus3', 'polfiets', 'polgle', 'politie-schild', 'politiebureauvinewood', 'politiemeldingen', 'politiezulu', 'polmercedes', 'polmotor', 'polmotor2', 'polmotor3', 'polpassat', 'polpolo', 'polrange', 'polrs6', 'polskoda', 'poltouran2016', 'poltransporter6', 'polvito2016', 'polvolvo70', 'polvovun', 'porschema2', 'PostNL', 'prisonprops', 'progressbar', 'progressBars', 'r3_pawnshop', 'radio', 'rconlog', 'replace', 'RG-Holster', 'rnscripts_pauzetitel', 'room_floor', 'rp-radio', 'rprogress', 'rq_recoil', 'runcode', 'rx7bpeng', 's63b44', 's65b40', 'screenshot-basic', 'shuffle', 'smartmotorways', 'spawnmanager', 'speedometer', 'stadus_skills', 'stoplichtfix', 'subaruej20', 'TakeHostage', 'Tmax', 'unmarkedaudirs6', 'unmarkedrs3', 'unmarkedx5m', 'urgence_floor', 'us-gps', 'utk_ornateheist', 'utk_ornateprops', 'verpi_driving_school', 'vinewood_hills_mansion', 'vineyards', 'vl-laadscherm', 'vn_nodot', 'vodafonewinkel', 'volatus2', 'vSync', 'vuilniswagen', 'Wachtrij', 'wassupganghuis', 'wba', 'weaponclient', 'webpack', 'whistle', 'wijzen', 'wine_props', 'wk_wars2x', 'wm-serversirens', 'xerogasstation', 'xsound', 'yarn', 'z_2019_Banham_Canyon_Mansion', 'zs-kledingmenuutje', 'zulu', 'ZV_witwas', 'zwemmbadbusje']]\n",
      "The last index is: 31\n",
      "Scraping server 32, id is po3goa\n",
      "po3goa\n"
     ]
    },
    {
     "name": "stderr",
     "output_type": "stream",
     "text": [
      "Resources: acknod, Alamomod, ap-addonjob, ap-court, ap-documents, ap-government, apolo_loadingscreen, as350, assets_grafitis, av_apps, av_blackmarket, av_boosting, av_cameras, av_corners, av_gangs, av_laptop, av_meth, av_music, av_racing, av_realestate, av_weather, baseevents, basic-gamemode, bcs_housing, bcs_questionare, blntrn_prentiss, bob74_ipl, brazzers-harness, breze_bowling_map, Buffalo4h, buffaloh, bzzz_color_weedpot, bzzz_halloween23, bzzz_halloweenprops_pack, bzzz_light_tube, cafe_prego, cd_drawtextui, cd_vehiclecontrol, cdev_donut_cafe, cdev_lib, cdev_vehicleshop, cdn-fuel, cfx-gabz-atom, cfx-gabz-bobcat, cfx-gabz-casino, cfx-gabz-firedept, cfx-gabz-koi, cfx-gabz-mapdata, cfx-gabz-paletobank, cfx-gabz-pdprops, cfx-gabz-pizzeria, cfx-gabz-prison, cfx-gabz-scenarios, cfx-gabz-townhall, cfx-gabz-vu, clubhouse_el_burro, clubhouse_paleto, clubhouse_vespucci_canals_v2, cluckinclothes, connectqueue, Custom-Weapons, cw-notes, d3MBA-butcherjob, d3MBA-cocaine, d3MBA-heroin, d3MBA-lib, dnxnewcalafiaroads, dnxnewsenoraroad, dt_19_mrpd, dynasty8, e_49_church, fd_radio, fiv3devs_bahamamamas, fiv3devs_bahamamamas_addon, fivem-map-hipster, fivepunch-multicharacter, flight-animals, flight-atmprops, flight-atmrobbery, generic_texture_renderer_gfx, hacking, HeelysBin, helicam, holdem_props, howdy-hackminigame, id1_h_hospital, illegal, illenium-appearance, int_hotdogs, int_lodge, interact-sound, jasonbikeromano1312, JMbearcat, K4MB1-AllShellsSubPack, k4mb1-drills, k4mb1-miningcave, k4mb1-storage, keep-bags, keep-harmony, kiiya_luxuryautos, kq_lootareas, lb-phone, lb-phoneprop, loaf_lib, ls_extra_seats, mad-vangelico, mapmanager, mc_sandy_shores, mc-methlabshell, mirrorparkgarage, mk_plates, mk_usedvehicles, mka-lasers, monitor, mpcassidy, mpcassidypatches-post2545, mpcassidypatches-standalone, MugShotBase64, npas-2372-vegetation, npas-props, ns-policefines, ob_clothes, ob_clothes_main, onebit_ambulance, onebit_atmrobbery, onebit_banktrucks, onebit_bees, Onebit_bikes, onebit_bobcat, onebit_books, onebit_chat, onebit_collectables, onebit_craftingbenches, onebit_deliveries, onebit_dui, onebit_elevators, onebit_employment, Onebit_enginesounds, onebit_evidence, onebit_fishing, onebit_garages, onebit_grandma, onebit_groups, onebit_hunting, Onebit_LSFD_fleet, onebit_map, onebit_masks, onebit_mechanic, onebit_methruns, onebit_minichop, onebit_moneywash, onebit_objects, onebit_oxyruns, onebit_parkingmeters, onebit_pawnshop, onebit_persistents, onebit_police, onebit_publicphones, onebit_pursuitmode, onebit_ransacking, onebit_resources, onebit_scenes, onebit_scoreboard, onebit_shoplifting, onebit_shops, onebit_smoking, onebit_speedlimiter, onebit_storerobbery, onebit_towjob, onebit_treasurehunt, Onebit_vehicles, Onebit_VehiclesState, onebit_weapondraw, onebit-occlusion, ox_doorlock, ox_inventory, ox_inventory_addons, ox_lib, ox_target, oxmysql, patoche_billiard, patoche_gas_station, pd-safe, pickle_metaldetector, pio_nde, pioboards, plt_lumberjack, plt_lumberjack-streams, pma-voice, PolyZone, ps-buffs, ps-dispatch, ps-hud, ps-mdt, ps-ui, ps-zones, pug-chopping, qb-bankrobbery, qb-core, qb-customs, qb-interior, qb-jail, qb-multicharacter, qb-platescan, qb-polaroid, qb-sit, qb-smallresources, qb-spawn, qb-taxijob, qb-vehiclefailure, qb-vehiclerental, qw-checkout, r14-smallresources, ran-minigames, rcore_bowling, rcore_darts, rcore_lunapark, rcore_lunapark_assets, rcore_pool, rcore_tattoos, rcore_tennis, Renewed-Banking, Renewed-Businesses, Renewed-Chopshop, Renewed-Farming, Renewed-Garbage, Renewed-Lib, Renewed-Mining, Renewed-Sirensync, Renewed-Vehiclekeys, Renewed-Weaponscarry, Renewed-Weed, rfc_davis_pawn_shop, rfc_los_santos_airport_fix, rfc_los_santos_customs, rfc_taco_farmer, rg-bloki-pio, richards_maps_retro_diner_v1.2, rj-pharmacy, rj-seats, rj-warrantlisting, rtx_wateractivities, screenshot-basic, scully_emotemenu, sf-attachobject, sf-blackjack, sf-houserobbery, sf-luckywheel, sf-roulette, sf-slots, sf-tcp, sf-texasholdem, shoe_weed_plants, slidergame, SmartFires, SmartHose, SmartSupplyLine, snipe-menu, snipe-methlab, spawnmanager, throwable_weapon, torrence, ultra-fortnitepack, um-idcard, um-prop, um-punchmachine, um-rodeo, um-rodeo-prop, vehicle_config, vrs-ambulance, webpack, wheelchair, wk_wars2x, woosh_pd, wp-ai-taxi, xsound, yarn, yellowjack, Young, zr-pausemenu\n",
      "Game type: Freeroam\n",
      "Map: fivem-map-hipster\n",
      "OneSync: enabled\n",
      "Language: English (United States)\n",
      "Tags: roleplay, rp, police, ems, custom, cars, jobs, economy, housing, serious\n",
      "DLC level: 2802\n",
      "sv_pureLevel: 0\n",
      "can_review: true\n",
      "Owner: Mackadoodle\n",
      "https://servers.fivem.net/servers/detail/834q85\n"
     ]
    },
    {
     "name": "stdout",
     "output_type": "stream",
     "text": [
      "['', 'https://servers.fivem.net/servers/detail/po3goa', '', 'Freeroam', 'enabled', 'fivem-map-hipster', 'English (United States)', 'roleplay, rp, police, ems, custom, cars, jobs, economy, housing, serious', '2802', '', 'Mackadoodle', '', '', ['acknod', 'Alamomod', 'ap-addonjob', 'ap-court', 'ap-documents', 'ap-government', 'apolo_loadingscreen', 'as350', 'assets_grafitis', 'av_apps', 'av_blackmarket', 'av_boosting', 'av_cameras', 'av_corners', 'av_gangs', 'av_laptop', 'av_meth', 'av_music', 'av_racing', 'av_realestate', 'av_weather', 'baseevents', 'basic-gamemode', 'bcs_housing', 'bcs_questionare', 'blntrn_prentiss', 'bob74_ipl', 'brazzers-harness', 'breze_bowling_map', 'Buffalo4h', 'buffaloh', 'bzzz_color_weedpot', 'bzzz_halloween23', 'bzzz_halloweenprops_pack', 'bzzz_light_tube', 'cafe_prego', 'cd_drawtextui', 'cd_vehiclecontrol', 'cdev_donut_cafe', 'cdev_lib', 'cdev_vehicleshop', 'cdn-fuel', 'cfx-gabz-atom', 'cfx-gabz-bobcat', 'cfx-gabz-casino', 'cfx-gabz-firedept', 'cfx-gabz-koi', 'cfx-gabz-mapdata', 'cfx-gabz-paletobank', 'cfx-gabz-pdprops', 'cfx-gabz-pizzeria', 'cfx-gabz-prison', 'cfx-gabz-scenarios', 'cfx-gabz-townhall', 'cfx-gabz-vu', 'clubhouse_el_burro', 'clubhouse_paleto', 'clubhouse_vespucci_canals_v2', 'cluckinclothes', 'connectqueue', 'Custom-Weapons', 'cw-notes', 'd3MBA-butcherjob', 'd3MBA-cocaine', 'd3MBA-heroin', 'd3MBA-lib', 'dnxnewcalafiaroads', 'dnxnewsenoraroad', 'dt_19_mrpd', 'dynasty8', 'e_49_church', 'fd_radio', 'fiv3devs_bahamamamas', 'fiv3devs_bahamamamas_addon', 'fivem-map-hipster', 'fivepunch-multicharacter', 'flight-animals', 'flight-atmprops', 'flight-atmrobbery', 'generic_texture_renderer_gfx', 'hacking', 'HeelysBin', 'helicam', 'holdem_props', 'howdy-hackminigame', 'id1_h_hospital', 'illegal', 'illenium-appearance', 'int_hotdogs', 'int_lodge', 'interact-sound', 'jasonbikeromano1312', 'JMbearcat', 'K4MB1-AllShellsSubPack', 'k4mb1-drills', 'k4mb1-miningcave', 'k4mb1-storage', 'keep-bags', 'keep-harmony', 'kiiya_luxuryautos', 'kq_lootareas', 'lb-phone', 'lb-phoneprop', 'loaf_lib', 'ls_extra_seats', 'mad-vangelico', 'mapmanager', 'mc_sandy_shores', 'mc-methlabshell', 'mirrorparkgarage', 'mk_plates', 'mk_usedvehicles', 'mka-lasers', 'monitor', 'mpcassidy', 'mpcassidypatches-post2545', 'mpcassidypatches-standalone', 'MugShotBase64', 'npas-2372-vegetation', 'npas-props', 'ns-policefines', 'ob_clothes', 'ob_clothes_main', 'onebit_ambulance', 'onebit_atmrobbery', 'onebit_banktrucks', 'onebit_bees', 'Onebit_bikes', 'onebit_bobcat', 'onebit_books', 'onebit_chat', 'onebit_collectables', 'onebit_craftingbenches', 'onebit_deliveries', 'onebit_dui', 'onebit_elevators', 'onebit_employment', 'Onebit_enginesounds', 'onebit_evidence', 'onebit_fishing', 'onebit_garages', 'onebit_grandma', 'onebit_groups', 'onebit_hunting', 'Onebit_LSFD_fleet', 'onebit_map', 'onebit_masks', 'onebit_mechanic', 'onebit_methruns', 'onebit_minichop', 'onebit_moneywash', 'onebit_objects', 'onebit_oxyruns', 'onebit_parkingmeters', 'onebit_pawnshop', 'onebit_persistents', 'onebit_police', 'onebit_publicphones', 'onebit_pursuitmode', 'onebit_ransacking', 'onebit_resources', 'onebit_scenes', 'onebit_scoreboard', 'onebit_shoplifting', 'onebit_shops', 'onebit_smoking', 'onebit_speedlimiter', 'onebit_storerobbery', 'onebit_towjob', 'onebit_treasurehunt', 'Onebit_vehicles', 'Onebit_VehiclesState', 'onebit_weapondraw', 'onebit-occlusion', 'ox_doorlock', 'ox_inventory', 'ox_inventory_addons', 'ox_lib', 'ox_target', 'oxmysql', 'patoche_billiard', 'patoche_gas_station', 'pd-safe', 'pickle_metaldetector', 'pio_nde', 'pioboards', 'plt_lumberjack', 'plt_lumberjack-streams', 'pma-voice', 'PolyZone', 'ps-buffs', 'ps-dispatch', 'ps-hud', 'ps-mdt', 'ps-ui', 'ps-zones', 'pug-chopping', 'qb-bankrobbery', 'qb-core', 'qb-customs', 'qb-interior', 'qb-jail', 'qb-multicharacter', 'qb-platescan', 'qb-polaroid', 'qb-sit', 'qb-smallresources', 'qb-spawn', 'qb-taxijob', 'qb-vehiclefailure', 'qb-vehiclerental', 'qw-checkout', 'r14-smallresources', 'ran-minigames', 'rcore_bowling', 'rcore_darts', 'rcore_lunapark', 'rcore_lunapark_assets', 'rcore_pool', 'rcore_tattoos', 'rcore_tennis', 'Renewed-Banking', 'Renewed-Businesses', 'Renewed-Chopshop', 'Renewed-Farming', 'Renewed-Garbage', 'Renewed-Lib', 'Renewed-Mining', 'Renewed-Sirensync', 'Renewed-Vehiclekeys', 'Renewed-Weaponscarry', 'Renewed-Weed', 'rfc_davis_pawn_shop', 'rfc_los_santos_airport_fix', 'rfc_los_santos_customs', 'rfc_taco_farmer', 'rg-bloki-pio', 'richards_maps_retro_diner_v1.2', 'rj-pharmacy', 'rj-seats', 'rj-warrantlisting', 'rtx_wateractivities', 'screenshot-basic', 'scully_emotemenu', 'sf-attachobject', 'sf-blackjack', 'sf-houserobbery', 'sf-luckywheel', 'sf-roulette', 'sf-slots', 'sf-tcp', 'sf-texasholdem', 'shoe_weed_plants', 'slidergame', 'SmartFires', 'SmartHose', 'SmartSupplyLine', 'snipe-menu', 'snipe-methlab', 'spawnmanager', 'throwable_weapon', 'torrence', 'ultra-fortnitepack', 'um-idcard', 'um-prop', 'um-punchmachine', 'um-rodeo', 'um-rodeo-prop', 'vehicle_config', 'vrs-ambulance', 'webpack', 'wheelchair', 'wk_wars2x', 'woosh_pd', 'wp-ai-taxi', 'xsound', 'yarn', 'yellowjack', 'Young', 'zr-pausemenu']]\n",
      "The last index is: 32\n",
      "Scraping server 33, id is 834q85\n",
      "834q85\n"
     ]
    },
    {
     "name": "stderr",
     "output_type": "stream",
     "text": [
      "Resources: 0r-carcontrol, 2na_core, 17mov_BuilderJob, 17mov_Lumberjack, 17mov_WindowCleaning, async, BakiTelli_driveschool, BCall_progress, brutal_boxing, bt-polyzone, Buty-CarWash, cd_drawtextui, cd_easytime, cd_garage, cd_garageshell, cd_keymaster, chat, cnpalertas, core_multijob, cron, Debux_vehicleshop, dpclothing, drugs_creator, dsco_fuel, elite_basurero, es_extended, esx_addonaccount, esx_addoninventory, esx_alquiler, esx_basicneeds, esx_context, esx_datastore, esx_identity, esx_license, esx_menu_default, esx_menu_dialog, esx_menu_list, esx_multicharacter, esx_optionalneeds, esx_progressbar, esx_rpchat, esx_service, esx_smoke, esx_society, esx_status, esx_taxijob, esx_textui, FM-MooreClub, generic_texture_renderer_gfx, hood-ambulance, hood-animaciones, hood-anunciosautomaticos, hood-anunciosjob, hood-apartamentos, hood-autodv, hood-autosvips, hood-calleshud, hood-carhud, hood-carkeys, hood-carry, hood-catcafe, hood-cayoperico, hood-clothingfemale, hood-cnp, hood-crips, hood-diving, hood-emotes, hood-fishjob, hood-fpsmenu, hood-hud, hood-ilegal, hood-ipl, hood-llantasveh, hood-lucespatrulla, hood-mapcnp, hood-mapeados, hood-mapguardiac, hood-maphospital, hood-mineria, hood-moneystatus, hood-negocios, hood-notify, hood-npcontrol, hood-peds, hood-pedscript, hood-pizzero, hood-poledance, hood-popup, hood-precarga, hood-putas, hood-radiolist, hood-realisticvehicle, hood-samur, hood-sentarse, hood-showcars, hood-slapboxing, hood-th, hood-tireslash, hood-trucos, hood-vagos, hood-verid, hood-walkstick, hood-yoga, hood-zonassegura, hs-animacionarma, hs-animaciones, illenium-appearance, interact-sound, jobs_creator, JR_loadingscreen, jsfour-idcard, k5_documents, knockspackv4, monitor, mythic_notify, nv_Scoreboard, okokBanking, okokBilling, okokContract, okokNotify, okokTextUI, ox_doorlock, ox_inventory, ox_lib, ox_target, oxmysql, pma-voice, pNotify, PolyZone, prx_coords, prx_dispatch, ptelevision, punchmachine, punchmachine_prop, qs-base, qs-smartphone, qs-videos, rcore_spray, RebornProject_Slapping, Roda_CarMenu, rp-radio, rprogress, screenshot-basic, smartphone_props, spawnmanager, tg-uwucats, tiko-blockx, tiko-repairkit, TunningSystem, vms_gym, wasabi_backpack, wasabi_boombox, wc-flatbed, wc-forcebajada, wc-pmenu, webpack, wx_headbag, wx_outfitbag, xsound, yarn\n",
      "Game type: discord.gg/hoodstreetrp\n",
      "Map: HoodStreet Roleplay\n",
      "OneSync: enabled\n",
      "Language: Spanish (Spain)\n",
      "Tags: esx\n",
      "DLC level: 2699\n",
      "sv_pureLevel: 0\n",
      "🍀 Discord 🍀: discord.gg/hoodstreetrp\n",
      "🍓 Whitelist 🍓: desactivada\n",
      "Owner: WaferNetwork\n",
      "https://servers.fivem.net/servers/detail/gzq47z\n"
     ]
    },
    {
     "name": "stdout",
     "output_type": "stream",
     "text": [
      "['', 'https://servers.fivem.net/servers/detail/834q85', '', 'discord.gg/hoodstreetrp', 'enabled', 'HoodStreet Roleplay', 'Spanish (Spain)', 'esx', '2699', '', 'WaferNetwork', '', '', ['0r-carcontrol', '2na_core', '17mov_BuilderJob', '17mov_Lumberjack', '17mov_WindowCleaning', 'async', 'BakiTelli_driveschool', 'BCall_progress', 'brutal_boxing', 'bt-polyzone', 'Buty-CarWash', 'cd_drawtextui', 'cd_easytime', 'cd_garage', 'cd_garageshell', 'cd_keymaster', 'chat', 'cnpalertas', 'core_multijob', 'cron', 'Debux_vehicleshop', 'dpclothing', 'drugs_creator', 'dsco_fuel', 'elite_basurero', 'es_extended', 'esx_addonaccount', 'esx_addoninventory', 'esx_alquiler', 'esx_basicneeds', 'esx_context', 'esx_datastore', 'esx_identity', 'esx_license', 'esx_menu_default', 'esx_menu_dialog', 'esx_menu_list', 'esx_multicharacter', 'esx_optionalneeds', 'esx_progressbar', 'esx_rpchat', 'esx_service', 'esx_smoke', 'esx_society', 'esx_status', 'esx_taxijob', 'esx_textui', 'FM-MooreClub', 'generic_texture_renderer_gfx', 'hood-ambulance', 'hood-animaciones', 'hood-anunciosautomaticos', 'hood-anunciosjob', 'hood-apartamentos', 'hood-autodv', 'hood-autosvips', 'hood-calleshud', 'hood-carhud', 'hood-carkeys', 'hood-carry', 'hood-catcafe', 'hood-cayoperico', 'hood-clothingfemale', 'hood-cnp', 'hood-crips', 'hood-diving', 'hood-emotes', 'hood-fishjob', 'hood-fpsmenu', 'hood-hud', 'hood-ilegal', 'hood-ipl', 'hood-llantasveh', 'hood-lucespatrulla', 'hood-mapcnp', 'hood-mapeados', 'hood-mapguardiac', 'hood-maphospital', 'hood-mineria', 'hood-moneystatus', 'hood-negocios', 'hood-notify', 'hood-npcontrol', 'hood-peds', 'hood-pedscript', 'hood-pizzero', 'hood-poledance', 'hood-popup', 'hood-precarga', 'hood-putas', 'hood-radiolist', 'hood-realisticvehicle', 'hood-samur', 'hood-sentarse', 'hood-showcars', 'hood-slapboxing', 'hood-th', 'hood-tireslash', 'hood-trucos', 'hood-vagos', 'hood-verid', 'hood-walkstick', 'hood-yoga', 'hood-zonassegura', 'hs-animacionarma', 'hs-animaciones', 'illenium-appearance', 'interact-sound', 'jobs_creator', 'JR_loadingscreen', 'jsfour-idcard', 'k5_documents', 'knockspackv4', 'monitor', 'mythic_notify', 'nv_Scoreboard', 'okokBanking', 'okokBilling', 'okokContract', 'okokNotify', 'okokTextUI', 'ox_doorlock', 'ox_inventory', 'ox_lib', 'ox_target', 'oxmysql', 'pma-voice', 'pNotify', 'PolyZone', 'prx_coords', 'prx_dispatch', 'ptelevision', 'punchmachine', 'punchmachine_prop', 'qs-base', 'qs-smartphone', 'qs-videos', 'rcore_spray', 'RebornProject_Slapping', 'Roda_CarMenu', 'rp-radio', 'rprogress', 'screenshot-basic', 'smartphone_props', 'spawnmanager', 'tg-uwucats', 'tiko-blockx', 'tiko-repairkit', 'TunningSystem', 'vms_gym', 'wasabi_backpack', 'wasabi_boombox', 'wc-flatbed', 'wc-forcebajada', 'wc-pmenu', 'webpack', 'wx_headbag', 'wx_outfitbag', 'xsound', 'yarn']]\n",
      "The last index is: 33\n",
      "Scraping server 34, id is gzq47z\n",
      "gzq47z\n"
     ]
    },
    {
     "name": "stderr",
     "output_type": "stream",
     "text": [
      "Server Name: This's The City RP\n"
     ]
    },
    {
     "name": "stdout",
     "output_type": "stream",
     "text": [
      "%%%%%%%%%%%%%%%%%%%%%%%%%%%%%%%%%%%%%%%%%%%%%%%%%%%%%%%%%%%%%%%%%\n",
      "This's The City RP\n",
      "%%%%%%%%%%%%%%%%%%%%%%%%%%%%%%%%%%%%%%%%%%%%%%%%%%%%%%%%%%%%%%%%%\n"
     ]
    },
    {
     "name": "stderr",
     "output_type": "stream",
     "text": [
      "Resources: _sonscars, _veiculos, angelicxs-BankTruck, angelicxs-CivilianJobs, angelicxs-NeighbourhoodGangs, angelicxs-NPCCrew, angelicxs-YachtHeist, as_tequilala, Bahama, baseevents, basic-gamemode, bcs_questionare, bikerentals, bob74_ipl, bunker2, burgershot, cardealership, cfx-gabz-mirrorpark1, cfx-gabz-parkranger, cfx-gabz-pinkcage, cfx-gabz-tuners, chat, chat-theme-ttc, Cinepolis, cityhall, concessionaria, connectqueue, Conse_Boat, cr-grandma, dealer_map, digital2, don-shootingrange, DP, Dz1Switch, farmaciaa, farmscraftsilegal, favela_grove2, favelas2, fivem-thiss-the-city, floresta, gabz_catcafe, gabz_vanilla, gigz_karting, hiype-scenery, hospital_map, hypnonema, igro45_digitalden, illenium-appearance, int_prisonfull, interact-sound, japaneserestaurantmlo, k5_documents, keep-companion, lafa2k_finalfantasyxv, lifeinvaderpatoche, liftsarish, live_map, lotto, lvc, madrazzo, map_anonymous, mapmanager, menuv, mercenarios, mhacking, monitor, motel-mafia, mrf_atmrobbery, mrw_mma_bet, mtc-polaroid, nass_carplay, newpark, NEWTACO_FINAL, np-beanmachine, np-vineyard, ox_lib, oxmysql, p-voting, paradise-club, Patachute, patoche_beachgame, patoche_cyberbar_map, patoche_fight, patoche_free_cardealer, patoche_littlehouse, patoche_paleto_airport, Patoche_Paleto_beach_party, patoche_paleto_gas_station, patoche_plasmagame, Patoche%20Moto%20V2, Peds, petrick_batebate, petshop_map, pharmacy, pier_cafe, pma-voice, PolyZone, prisonprops, progressbar, ps-dispatch, ps-hud, ps-mdt, ps-ui, qb_trackerMission, qb-adminmenu, qb-ambulancejob, qb-apartments, qb-atms, qb-banking, qb-bankrobbery, qb-busjob, qb-cityhall, qb-cocaine, qb-commandbinding, qb-core, qb-crypto, qb-customs, qb-diving, qb-doorlock, qb-drugs, qb-fitbit, qb-garages, qb-garbagejob, qb-hotdogjob, qb-houserobbery, qb-houses, qb-input, qb-interior, qb-inventory, qb-jewelery, qb-keyminigame, qb-lapraces, qb-loading, qb-lockpick, qb-management, qb-mechanicjob, qb-menu, qb-multicharacter, qb-newsjob, qb-pawnshop, qb-phone, qb-policejob, qb-printer, qb-prison, qb-radialmenu, qb-radio, qb-recyclejob, qb-scoreboard, qb-scrapyard, qb-shops, qb-skillbar, qb-smallresources, qb-spawn, qb-streetraces, qb-target, qb-taxijob, qb-towjob, qb-TrainJob, qb-traphouse, qb-truckerjob, qb-tunerchip, qb-vehiclefailure, qb-vehiclekeys, qb-vehiclesales, qb-vehicleshop, qb-vineyard, qb-weapons, qb-weathersync, qb-weed, qua_lakehouses, QuedaDeBraco, RageUI, ran-minigames, ran-storerobbery, rc_mine, rcore_pool, rfc_eastcostums, ROUPAS, safecracker, screenshot-basic, server_scenarios, skate, slb2k11_pearls, spawnmanager, thunder_medicalcenter, ttc-baterentail, ttc-druglabs, ttc-drugs, ttc-elevator, ttc-farm, ttc-fileconverter, ttc-fuel, ttc-garages, ttc-jetrentail, ttc-libs, ttc-preservativo, ttc-rentail, ttc-smallresources, ttc-stash, ttc-test, ttc-vip, UncleJust_Court_House, verpi_driving_school, verpi_park_n, vrp_vaudio, WC_EMOTES_V5, weazelnews, webpack, Wedding, xsound, yarn\n",
      "Game type: Roleplay\n",
      "Map: fivem-thiss-the-city\n",
      "OneSync: enabled\n",
      "Language: Portuguese (Brazil)\n",
      "Tags: rp, roleplay, qbcore, qb-core, mapas proprios, scripts exclusivos, mods\n",
      "Discord: discord.gg/ggVCkHV99X\n",
      "chat_showJoins: 0\n",
      "chat_showQuits: 0\n",
      "DLC level: 2802\n",
      "sv_pureLevel: 0\n",
      "Owner: ggfto\n",
      "https://servers.fivem.net/servers/detail/e4lz8a\n"
     ]
    },
    {
     "name": "stdout",
     "output_type": "stream",
     "text": [
      "[\"This's The City RP\", 'https://servers.fivem.net/servers/detail/gzq47z', '', 'Roleplay', 'enabled', 'fivem-thiss-the-city', 'Portuguese (Brazil)', 'rp, roleplay, qbcore, qb-core, mapas proprios, scripts exclusivos, mods', '2802', '', 'ggfto', '', '', ['_sonscars', '_veiculos', 'angelicxs-BankTruck', 'angelicxs-CivilianJobs', 'angelicxs-NeighbourhoodGangs', 'angelicxs-NPCCrew', 'angelicxs-YachtHeist', 'as_tequilala', 'Bahama', 'baseevents', 'basic-gamemode', 'bcs_questionare', 'bikerentals', 'bob74_ipl', 'bunker2', 'burgershot', 'cardealership', 'cfx-gabz-mirrorpark1', 'cfx-gabz-parkranger', 'cfx-gabz-pinkcage', 'cfx-gabz-tuners', 'chat', 'chat-theme-ttc', 'Cinepolis', 'cityhall', 'concessionaria', 'connectqueue', 'Conse_Boat', 'cr-grandma', 'dealer_map', 'digital2', 'don-shootingrange', 'DP', 'Dz1Switch', 'farmaciaa', 'farmscraftsilegal', 'favela_grove2', 'favelas2', 'fivem-thiss-the-city', 'floresta', 'gabz_catcafe', 'gabz_vanilla', 'gigz_karting', 'hiype-scenery', 'hospital_map', 'hypnonema', 'igro45_digitalden', 'illenium-appearance', 'int_prisonfull', 'interact-sound', 'japaneserestaurantmlo', 'k5_documents', 'keep-companion', 'lafa2k_finalfantasyxv', 'lifeinvaderpatoche', 'liftsarish', 'live_map', 'lotto', 'lvc', 'madrazzo', 'map_anonymous', 'mapmanager', 'menuv', 'mercenarios', 'mhacking', 'monitor', 'motel-mafia', 'mrf_atmrobbery', 'mrw_mma_bet', 'mtc-polaroid', 'nass_carplay', 'newpark', 'NEWTACO_FINAL', 'np-beanmachine', 'np-vineyard', 'ox_lib', 'oxmysql', 'p-voting', 'paradise-club', 'Patachute', 'patoche_beachgame', 'patoche_cyberbar_map', 'patoche_fight', 'patoche_free_cardealer', 'patoche_littlehouse', 'patoche_paleto_airport', 'Patoche_Paleto_beach_party', 'patoche_paleto_gas_station', 'patoche_plasmagame', 'Patoche%20Moto%20V2', 'Peds', 'petrick_batebate', 'petshop_map', 'pharmacy', 'pier_cafe', 'pma-voice', 'PolyZone', 'prisonprops', 'progressbar', 'ps-dispatch', 'ps-hud', 'ps-mdt', 'ps-ui', 'qb_trackerMission', 'qb-adminmenu', 'qb-ambulancejob', 'qb-apartments', 'qb-atms', 'qb-banking', 'qb-bankrobbery', 'qb-busjob', 'qb-cityhall', 'qb-cocaine', 'qb-commandbinding', 'qb-core', 'qb-crypto', 'qb-customs', 'qb-diving', 'qb-doorlock', 'qb-drugs', 'qb-fitbit', 'qb-garages', 'qb-garbagejob', 'qb-hotdogjob', 'qb-houserobbery', 'qb-houses', 'qb-input', 'qb-interior', 'qb-inventory', 'qb-jewelery', 'qb-keyminigame', 'qb-lapraces', 'qb-loading', 'qb-lockpick', 'qb-management', 'qb-mechanicjob', 'qb-menu', 'qb-multicharacter', 'qb-newsjob', 'qb-pawnshop', 'qb-phone', 'qb-policejob', 'qb-printer', 'qb-prison', 'qb-radialmenu', 'qb-radio', 'qb-recyclejob', 'qb-scoreboard', 'qb-scrapyard', 'qb-shops', 'qb-skillbar', 'qb-smallresources', 'qb-spawn', 'qb-streetraces', 'qb-target', 'qb-taxijob', 'qb-towjob', 'qb-TrainJob', 'qb-traphouse', 'qb-truckerjob', 'qb-tunerchip', 'qb-vehiclefailure', 'qb-vehiclekeys', 'qb-vehiclesales', 'qb-vehicleshop', 'qb-vineyard', 'qb-weapons', 'qb-weathersync', 'qb-weed', 'qua_lakehouses', 'QuedaDeBraco', 'RageUI', 'ran-minigames', 'ran-storerobbery', 'rc_mine', 'rcore_pool', 'rfc_eastcostums', 'ROUPAS', 'safecracker', 'screenshot-basic', 'server_scenarios', 'skate', 'slb2k11_pearls', 'spawnmanager', 'thunder_medicalcenter', 'ttc-baterentail', 'ttc-druglabs', 'ttc-drugs', 'ttc-elevator', 'ttc-farm', 'ttc-fileconverter', 'ttc-fuel', 'ttc-garages', 'ttc-jetrentail', 'ttc-libs', 'ttc-preservativo', 'ttc-rentail', 'ttc-smallresources', 'ttc-stash', 'ttc-test', 'ttc-vip', 'UncleJust_Court_House', 'verpi_driving_school', 'verpi_park_n', 'vrp_vaudio', 'WC_EMOTES_V5', 'weazelnews', 'webpack', 'Wedding', 'xsound', 'yarn']]\n",
      "The last index is: 34\n",
      "Scraping server 35, id is e4lz8a\n",
      "e4lz8a\n"
     ]
    },
    {
     "name": "stderr",
     "output_type": "stream",
     "text": [
      "Resources: 2ncsx7, 3dme, 20x5m, 204sCulli, a6pdnezym, addon-mapsv2, aluxer-steal-main, AntiCL, Aras-Masina, arascar, async, autozinute, Az_wheeldamage-main, b2k-minimap, basic-gamemode, batai, Baxurai, BBPlayerMechanics, BetterFight, bmwn55, BMWPD, bmwx1pd, bob74_ipl, bollards, Bratva, Brigada, brokentree, bulletin, caddypd, carpack-police, CarryPeople, CayoImprovements, cd_easytime, chat, chat-theme-civlifechat, CodeM-Venice-MeDo, core_jobutilities, cron, crouch, damages, DamageWalkMode, darbo_laikas, darbobirza, DeathCam, degalines_interjeras, disabledispatch, discord_konsole, DISCORD_ZAIDZIA, Dj-main, dpclothing, dpemotes, e500, EasyAdmin, ebu_flatbedsv3, el_business, ELS-FiveM, enc0ded-persistent-vehicles, es_extended, es_ui, esplugin_mysql, esx_addonaccount, esx_addoninventory, esx_adminplus, esx_advancedgarage, esx_ambulancejob, esx_amfetaminas, esx_armour, esx_Armour, esx_armyjob, esx_barbershop, esx_basicneeds, esx_billing, esx_boat-master, esx_carwash, esx_clotheshop, ESX_CommunityService, esx_contract, esx_datastore, esx_dmvschool, esx_drugs, esx_drugs-master, esx_drugs1, esx_extraitems, esx_givevehicle, esx_holdup, esx_identity, esx_inside_builder, esx_jetshop, esx_joblisting, esx_jobs, esx_ktackle, esx_lentele, esx_license, esx_locksystem, esx_lscustom, esx_mechanicjob, esx_menu_default, esx_menu_dialog, esx_menu_list, esx_moneywash, esx_ngaujajob, esx_optionalneeds, esx_outlawalert, esx_pawnshop, esx_plasticsurgery, esx_policedog, esx_policejob, esx_property, esx_rallyjob, esx_randylogs, esx_rental, esx_ruskiarrest, esx_service, esx_simpletp, esx_sit, esx_skin, esx_society, esx_status, esx_taxijob, esx_vehicleshop, esx_worek, esx_zaidejumeniu, esx-qalle-sellvehicles, Famillies, farmer, FCV, fivem, fivem-ipl, fordpd, gabz_sheriff, Galantes, Gate, gclapped, gcphone, gmp_aprangos, Gmp-cars, golfgti, GOLFR, GRPkalbejimas, GRPksk, GRPzone, GTAXRP-Chat, gto91, gtz34be, gud_hud, gulintysmentai, handling, handling_mod, handsup, heli, hh_aidoc, HideInTrunk, Hope-Bridge, housingshells, hypnonema, hypnonema-map, idpaziuret, illegal-hospital, ImOffended-Drift, Importai, importai_vartotoju, instance, interact-sound, j-textui, jailass, james_mecanoV2, jdmrims, jl-laptop-main, jsfour-idcard, jz-hud, kaliuze, kuz_towing, kypo-drug-effect, kyza36, LegacyFuel, LegRagdoll, lesslethal_shotgun, loading-screenas, loaf_housing, loaf_keysystem, loaf_tv, logai, LSGMP, ltheli, M1, M2, M3, m3cs, M4, mads14, Mafiju-cars, maleclothing, Man_Swat_Uni, map, Masinu-Soundai, mdt, Mech-cars, Mercedes%20C63s%20AMG, Merginu_Pack, meta_libs, minerixon, mmoricore, mobm23, monitor, monkey-info, Mplauku_packas, MusicEverywhere, mythic_interiors, mythic_progbar, NativeUI, nb-taximeter, Neof_gaujos, new_banking, No-NPC, NoDriveBy, npcs, okokContract, okokNotify, okokReports, okokTextUI, opelpd, ox_doorlock, ox_inventory, ox_lib, oxmysql, Pakabuku_pack, paleto_farmer, paleto247, paletocirclek, paletoligonine, paletopharmacy, patino_hospital, pd_aprangos, pdbmwnezym, pdopel, pe-lualib, peupd, pma-voice, pNotify, pointing, Police_Uni, PoliceVehiclesWeaponDeleter, Policijos_aprangos, PolyZone, progressBars, pun_idgun, radialmenu, rc_mine, rc_notify, rconlog, RealisticVehicleFailure, realtime, regitra, regitra1, relisoft_tag, renzu_engine-main, revivescript, rp-radio, rprogress, S3pd, s63b44, Salono-cars, salty_tokenizer, sandyhospital, sandypd, SAUDIMAS-BE-TAIKINUKO, scania, screenshot-basic, seat_seater, seatbelt, sebas, servers5m-DrugSelling, sienos, skaldakasiupardavimas, skeletalsystem, skinchanger, sling_script, sp_admin, spawnmanager, speednotire, srp-ipl, superbpd, TakeHostage, tg-maps, tg-mcpaleto, tg-mechanikugarazas, tg-motel, tg-pasienis, tg-paukstynas, tiguanpd, transford, transpd, utk_fleeca, utk_shiftlog, vanzs1k, vehextras, vehiclecmds, veliavos, voicemarker, Vplauku_packas, vwpd, W_Police_Uni, watermark, wk_wars2x, xnTattoos, xsound\n",
      "Game type: ESX Legacy\n",
      "Map: San Andreas\n",
      "OneSync: enabled\n",
      "Language: Lithuanian (Lithuania)\n",
      "Tags: LT LTU Lietuva Roleplay,esx\n",
      "DLC level: 2545\n",
      "sv_pureLevel: 0\n",
      "Owner: TGRP.LT\n",
      "https://servers.fivem.net/servers/detail/4ev459\n"
     ]
    },
    {
     "name": "stdout",
     "output_type": "stream",
     "text": [
      "['', 'https://servers.fivem.net/servers/detail/e4lz8a', '', 'ESX Legacy', 'enabled', 'San Andreas', 'Lithuanian (Lithuania)', 'LT LTU Lietuva Roleplay,esx', '2545', '', 'TGRP.LT', '', '', ['2ncsx7', '3dme', '20x5m', '204sCulli', 'a6pdnezym', 'addon-mapsv2', 'aluxer-steal-main', 'AntiCL', 'Aras-Masina', 'arascar', 'async', 'autozinute', 'Az_wheeldamage-main', 'b2k-minimap', 'basic-gamemode', 'batai', 'Baxurai', 'BBPlayerMechanics', 'BetterFight', 'bmwn55', 'BMWPD', 'bmwx1pd', 'bob74_ipl', 'bollards', 'Bratva', 'Brigada', 'brokentree', 'bulletin', 'caddypd', 'carpack-police', 'CarryPeople', 'CayoImprovements', 'cd_easytime', 'chat', 'chat-theme-civlifechat', 'CodeM-Venice-MeDo', 'core_jobutilities', 'cron', 'crouch', 'damages', 'DamageWalkMode', 'darbo_laikas', 'darbobirza', 'DeathCam', 'degalines_interjeras', 'disabledispatch', 'discord_konsole', 'DISCORD_ZAIDZIA', 'Dj-main', 'dpclothing', 'dpemotes', 'e500', 'EasyAdmin', 'ebu_flatbedsv3', 'el_business', 'ELS-FiveM', 'enc0ded-persistent-vehicles', 'es_extended', 'es_ui', 'esplugin_mysql', 'esx_addonaccount', 'esx_addoninventory', 'esx_adminplus', 'esx_advancedgarage', 'esx_ambulancejob', 'esx_amfetaminas', 'esx_armour', 'esx_Armour', 'esx_armyjob', 'esx_barbershop', 'esx_basicneeds', 'esx_billing', 'esx_boat-master', 'esx_carwash', 'esx_clotheshop', 'ESX_CommunityService', 'esx_contract', 'esx_datastore', 'esx_dmvschool', 'esx_drugs', 'esx_drugs-master', 'esx_drugs1', 'esx_extraitems', 'esx_givevehicle', 'esx_holdup', 'esx_identity', 'esx_inside_builder', 'esx_jetshop', 'esx_joblisting', 'esx_jobs', 'esx_ktackle', 'esx_lentele', 'esx_license', 'esx_locksystem', 'esx_lscustom', 'esx_mechanicjob', 'esx_menu_default', 'esx_menu_dialog', 'esx_menu_list', 'esx_moneywash', 'esx_ngaujajob', 'esx_optionalneeds', 'esx_outlawalert', 'esx_pawnshop', 'esx_plasticsurgery', 'esx_policedog', 'esx_policejob', 'esx_property', 'esx_rallyjob', 'esx_randylogs', 'esx_rental', 'esx_ruskiarrest', 'esx_service', 'esx_simpletp', 'esx_sit', 'esx_skin', 'esx_society', 'esx_status', 'esx_taxijob', 'esx_vehicleshop', 'esx_worek', 'esx_zaidejumeniu', 'esx-qalle-sellvehicles', 'Famillies', 'farmer', 'FCV', 'fivem', 'fivem-ipl', 'fordpd', 'gabz_sheriff', 'Galantes', 'Gate', 'gclapped', 'gcphone', 'gmp_aprangos', 'Gmp-cars', 'golfgti', 'GOLFR', 'GRPkalbejimas', 'GRPksk', 'GRPzone', 'GTAXRP-Chat', 'gto91', 'gtz34be', 'gud_hud', 'gulintysmentai', 'handling', 'handling_mod', 'handsup', 'heli', 'hh_aidoc', 'HideInTrunk', 'Hope-Bridge', 'housingshells', 'hypnonema', 'hypnonema-map', 'idpaziuret', 'illegal-hospital', 'ImOffended-Drift', 'Importai', 'importai_vartotoju', 'instance', 'interact-sound', 'j-textui', 'jailass', 'james_mecanoV2', 'jdmrims', 'jl-laptop-main', 'jsfour-idcard', 'jz-hud', 'kaliuze', 'kuz_towing', 'kypo-drug-effect', 'kyza36', 'LegacyFuel', 'LegRagdoll', 'lesslethal_shotgun', 'loading-screenas', 'loaf_housing', 'loaf_keysystem', 'loaf_tv', 'logai', 'LSGMP', 'ltheli', 'M1', 'M2', 'M3', 'm3cs', 'M4', 'mads14', 'Mafiju-cars', 'maleclothing', 'Man_Swat_Uni', 'map', 'Masinu-Soundai', 'mdt', 'Mech-cars', 'Mercedes%20C63s%20AMG', 'Merginu_Pack', 'meta_libs', 'minerixon', 'mmoricore', 'mobm23', 'monitor', 'monkey-info', 'Mplauku_packas', 'MusicEverywhere', 'mythic_interiors', 'mythic_progbar', 'NativeUI', 'nb-taximeter', 'Neof_gaujos', 'new_banking', 'No-NPC', 'NoDriveBy', 'npcs', 'okokContract', 'okokNotify', 'okokReports', 'okokTextUI', 'opelpd', 'ox_doorlock', 'ox_inventory', 'ox_lib', 'oxmysql', 'Pakabuku_pack', 'paleto_farmer', 'paleto247', 'paletocirclek', 'paletoligonine', 'paletopharmacy', 'patino_hospital', 'pd_aprangos', 'pdbmwnezym', 'pdopel', 'pe-lualib', 'peupd', 'pma-voice', 'pNotify', 'pointing', 'Police_Uni', 'PoliceVehiclesWeaponDeleter', 'Policijos_aprangos', 'PolyZone', 'progressBars', 'pun_idgun', 'radialmenu', 'rc_mine', 'rc_notify', 'rconlog', 'RealisticVehicleFailure', 'realtime', 'regitra', 'regitra1', 'relisoft_tag', 'renzu_engine-main', 'revivescript', 'rp-radio', 'rprogress', 'S3pd', 's63b44', 'Salono-cars', 'salty_tokenizer', 'sandyhospital', 'sandypd', 'SAUDIMAS-BE-TAIKINUKO', 'scania', 'screenshot-basic', 'seat_seater', 'seatbelt', 'sebas', 'servers5m-DrugSelling', 'sienos', 'skaldakasiupardavimas', 'skeletalsystem', 'skinchanger', 'sling_script', 'sp_admin', 'spawnmanager', 'speednotire', 'srp-ipl', 'superbpd', 'TakeHostage', 'tg-maps', 'tg-mcpaleto', 'tg-mechanikugarazas', 'tg-motel', 'tg-pasienis', 'tg-paukstynas', 'tiguanpd', 'transford', 'transpd', 'utk_fleeca', 'utk_shiftlog', 'vanzs1k', 'vehextras', 'vehiclecmds', 'veliavos', 'voicemarker', 'Vplauku_packas', 'vwpd', 'W_Police_Uni', 'watermark', 'wk_wars2x', 'xnTattoos', 'xsound']]\n",
      "The last index is: 35\n",
      "Scraping server 36, id is 4ev459\n",
      "4ev459\n"
     ]
    },
    {
     "name": "stderr",
     "output_type": "stream",
     "text": [
      "Server Name: [BRASIL] BMR ROLEPLAY ⏩CLIQUE AQUI⏪ A MAIS FALADA NO TIKTOK! 🚀A CIDADE DOS INFLUENCIADORES! 🚀\n"
     ]
    },
    {
     "name": "stdout",
     "output_type": "stream",
     "text": [
      "%%%%%%%%%%%%%%%%%%%%%%%%%%%%%%%%%%%%%%%%%%%%%%%%%%%%%%%%%%%%%%%%%\n",
      "[BRASIL] BMR ROLEPLAY ⏩CLIQUE AQUI⏪ A MAIS FALADA NO TIKTOK! 🚀A CIDADE DOS INFLUENCIADORES! 🚀\n",
      "%%%%%%%%%%%%%%%%%%%%%%%%%%%%%%%%%%%%%%%%%%%%%%%%%%%%%%%%%%%%%%%%%\n"
     ]
    },
    {
     "name": "stderr",
     "output_type": "stream",
     "text": [
      "Resources: bank, BjornDJ, bmr_arena, bmr_audio, bmr_audio1, bmr_audio2, bmr_audio3, bmr_audio4, bmr_box, bmr_core, bmr_desmanche, bmr_entrega_drogas, bmr_inventario, bmr_modules, bmr_nitro, bmr_peds2, bmr_roupas, bmr_streaming, bmr_survival, bmr-id, bmr-skin, bmr-spawn, brq_airsupplies, carros, cfx-nikit0-cs-maps, cfx-nikit0-studio, chat, cinematiccam, combo_race, combo_statistic, core_connection, cs-hall, cs-stream, db_oxmysql, dk, donaters, dynamic, eg_ilegal, energy_chamados, energy_vestiario, heyy_mdt, hud_bmr, hv-arsenal, hv-interface, lafy, memory, monitor, mpr-cars, MQCU, nation_barbershop, nation_concessionaria, nation_creator, nation_gm, NativeUI, nav_extras, notifycall, np-taskbarskill, oxmysql, pma-voice, PolyZone, praca_halloween2, radio, rcore_lunapark, rcore_lunapark_assets, screenshot-basic, servicex, skillbar, smartphone, smartphone-jobs, suricato_robberies, target, tempban, tv, vrp, vrp_admin, vrp_animacoes, vrp_homes, vrp_residencia, vrp_sounds, vrpserver, xsound, zo_attachs, zo_relacionamento\n",
      "Game type: Roleplay\n",
      "OneSync: enabled\n",
      "Language: Portuguese (Brazil)\n",
      "Tags: vrp,vrp\n",
      "Desenvolvedor: BMR GROUP\n",
      "Discord: discord.gg/bmrrp\n",
      "Whitelist: FECHADA\n",
      "DLC level: 2699\n",
      "sv_pureLevel: 0\n",
      "Owner: bmr_group\n",
      "https://servers.fivem.net/servers/detail/kyrpvr\n"
     ]
    },
    {
     "name": "stdout",
     "output_type": "stream",
     "text": [
      "['[BRASIL] BMR ROLEPLAY ⏩CLIQUE AQUI⏪ A MAIS FALADA NO TIKTOK! 🚀A CIDADE DOS INFLUENCIADORES! 🚀', 'https://servers.fivem.net/servers/detail/4ev459', '', 'Roleplay', 'enabled', '', 'Portuguese (Brazil)', 'vrp,vrp', '2699', '', 'bmr_group', '', '', ['bank', 'BjornDJ', 'bmr_arena', 'bmr_audio', 'bmr_audio1', 'bmr_audio2', 'bmr_audio3', 'bmr_audio4', 'bmr_box', 'bmr_core', 'bmr_desmanche', 'bmr_entrega_drogas', 'bmr_inventario', 'bmr_modules', 'bmr_nitro', 'bmr_peds2', 'bmr_roupas', 'bmr_streaming', 'bmr_survival', 'bmr-id', 'bmr-skin', 'bmr-spawn', 'brq_airsupplies', 'carros', 'cfx-nikit0-cs-maps', 'cfx-nikit0-studio', 'chat', 'cinematiccam', 'combo_race', 'combo_statistic', 'core_connection', 'cs-hall', 'cs-stream', 'db_oxmysql', 'dk', 'donaters', 'dynamic', 'eg_ilegal', 'energy_chamados', 'energy_vestiario', 'heyy_mdt', 'hud_bmr', 'hv-arsenal', 'hv-interface', 'lafy', 'memory', 'monitor', 'mpr-cars', 'MQCU', 'nation_barbershop', 'nation_concessionaria', 'nation_creator', 'nation_gm', 'NativeUI', 'nav_extras', 'notifycall', 'np-taskbarskill', 'oxmysql', 'pma-voice', 'PolyZone', 'praca_halloween2', 'radio', 'rcore_lunapark', 'rcore_lunapark_assets', 'screenshot-basic', 'servicex', 'skillbar', 'smartphone', 'smartphone-jobs', 'suricato_robberies', 'target', 'tempban', 'tv', 'vrp', 'vrp_admin', 'vrp_animacoes', 'vrp_homes', 'vrp_residencia', 'vrp_sounds', 'vrpserver', 'xsound', 'zo_attachs', 'zo_relacionamento']]\n",
      "The last index is: 36\n",
      "Scraping server 37, id is kyrpvr\n",
      "kyrpvr\n"
     ]
    },
    {
     "name": "stderr",
     "output_type": "stream",
     "text": [
      "Server Name: [German] Niederbach Roleplay 🏖️ | IngameVoice 📞 | Niederbach 🌆 | Multichar 👫🏽 | Custom Klamotten 🥋, Fahrzeuge 🚗 und MLOs 🏪\n"
     ]
    },
    {
     "name": "stdout",
     "output_type": "stream",
     "text": [
      "%%%%%%%%%%%%%%%%%%%%%%%%%%%%%%%%%%%%%%%%%%%%%%%%%%%%%%%%%%%%%%%%%\n",
      "[German] Niederbach Roleplay 🏖️ | IngameVoice 📞 | Niederbach 🌆 | Multichar 👫🏽 | Custom Klamotten 🥋, Fahrzeuge 🚗 und MLOs 🏪\n",
      "%%%%%%%%%%%%%%%%%%%%%%%%%%%%%%%%%%%%%%%%%%%%%%%%%%%%%%%%%%%%%%%%%\n"
     ]
    },
    {
     "name": "stderr",
     "output_type": "stream",
     "text": [
      "Resources: 3dme, 108_icon, 530df11zivil, 765lt, admincar, afkkick, ak4y-multicharacter, Alien_Pike-Pole, Alien_Sledgehammer, almeiidaa_hookah_script, amarok, amggt63, amr_icon, Animals, announcejobs, announcescript, antiwaffenschlag, aq38mclm838tq, assaultrifle, async, b-moneywash, BalisticShield, bank_icon, baseevents, baum, benzz_hems_npas, bf-elw, bf-hlf1, bf-Kdow, bf-lf, Bier-Script, biker_exterior_casino, blackmarkets, blips_builder, blips_creator, bloods_hoodv2, BoatTrailer, bob74_ipl, brpol_sprinter, bullpupshotgun, buscontrol, Bxnny_FN_P90, calmwater, carkeys, carpack_floor, CayoHouse, CayoShops, cfx-gabz-247, cfx-gabz-ammunation, cfx-gabz-bahama, cfx-gabz-barber, cfx-gabz-bennys, cfx-gabz-bowling, cfx-gabz-carmeet, cfx-gabz-casino, cfx-gabz-catcafe, cfx-gabz-import, cfx-gabz-impound, cfx-gabz-lscustoms, cfx-gabz-mapdata, cfx-gabz-mba, cfx-gabz-mirrorpark1, cfx-gabz-mirrorpark2, cfx-gabz-ottos, cfx-gabz-paletobank, cfx-gabz-pdprops, cfx-gabz-pizzeria, cfx-gabz-prison, cfx-gabz-records, cfx-gabz-suburban, cfx-gabz-tattoo, cfx-gabz-townhall, cfx-gabz-triads, cfx-gabz-vagos, cfx-gabz-vbmarket, cfx-gabz-vu, cfx-gabz-yachts, Cfx-PablitoModz-billboard-Mp, chainsaw, chat, cityhallv2, clip, clo_carry, clo_spring, cn_blips, CN-Dev_AgenturFurArbeit, Codem-BlackHUDV2, codem-marketv2, contss18, Coords, core_crafting, core_evidence, core_weapon, corsa05, cron, cs_carclear, CustomM4A1, CustomPlate, CustomPlateFormat, damageragdollv2, dante, DeathCam, deathscreen, dep_tl, dep_tl_objects, Deutsche_schilder, deutsche_tanke, dfl_gw, dinghy, Dino, disable_radio, disabledispatch, discord-screenshot, doenerbude, doj_icon, dons_apple, doors_creator, dpclothing, EasyAdmin, ecall, econic, electric-skateboard, EM-weaponshop, emergencydispatch, EmergencyOS, es_extended, esx_addonaccount, esx_adminzone, esx_ambulancejob, esx_autopaybills, esx_barbershop, esx_basicneeds, esx_billing, esx_boat, esx_carlock, esx_cigarette, esx_cityworks, esx_clotheshop, ESX_CommunityService, esx_context, esx_contrac, esx_cuffanimation, esx_datastore, esx_diving, esx_dmvschool, esx_eden_clotheshop, esx_fernglass, ESX_GiveCarKeys, esx_givevehicle, esx_holdup, esx_identity, esx_inventoryhud, esx_jb_trailer, esx_jobs, esx_license, esx_lscustom, esx_menu_default, esx_menu_dialog, esx_menu_list, esx_notify, esx_optionalneeds, esx_progressbar, esx_property, esx_scoreboard, esx_scuba, esx_service, esx_sit, esx_skin, esx_society, esx_status, esx_textui, esx_vangelico_robbery, esx_vehicleshop, esx_weaponshop, ESX-Easy-Weapon-Accessories, esx-kr-vehicle-push, esx-sellvehicles, eup-stream, example-loadscreen, EXO_Blitzer2, EXO_Leitplanke, EXO_SpATM, EZELS, EZIndicators, Fahrschule, feuerwehr_nef, fire_icon, firestation_el_burro_v2, FiveM-Point-finger, FiveM-VisualSettings, Flashbang, frogger, fs_car, fs_nui, fs_truck, gabzpillbox, garage, german_props, german_roads, german_tunnel, gfpa6th, gfps213hhc, gfpx3, gl-halloween, GLO_Communityservise, GLO_Methlabor, Glock18c, gmf_vehicleburn, golfmk6, gta_props_fivem, GTM-Modding-Bank, gwsan2, hackee-jumpscare, hairs, haltestellenschild_replace, heli, HelicopterHUD-main, hh_airport, hlf4, hookah_almeida, hostage, ibiscontrol, iis_bwv, instance, int_weed, interact-sound, ipls_resource, ivy, JF_SeatShuffle-main, jk_jobs, jobs_creator, jsfour-idcard, jsfour-licenseplate, jtdcyber, jtdcyber2, K9, kameras, kd_custom-native, kd_hud-event, kd_towtruck, Kelle, kidped, kidpeds, kq-wheeldamage, krz_personalmenu, kuz_towing, lama_cloakroom, lama_KatzenJob-v2, lama_policeGarage-v2, lama_policeJob-v2, lama_policeShop-v2, lama_SheriffJob-v2, lamaAdmin, lamaPartyPack, lapd_icon, lastpostodb, laundry, LegacyFuel, lift_car_off_ground, loaf_spikestrips-main, lockpick, lots-pausemenu, lp_speedcamera, luftwaffe, lynxfix_malibumansion, m3e46, m3e92, M4, M9A3, Machette, mafiahotel13, map, max_zollhalfen, mb04, mbs500kripo, mclp1, menuv, minimap_cayo, MM_Bahnsteig, money, monitor, mountzonah_lift, mp-roadisland, mp5, MP9, myDj, myMapbuilder, mythic_notify, mythic_progbar, myTrunk, mz_addons, nad_rockstar, NativeUI, NativeUILua_Reloaded, neue_busse, new_banking, NiederbachRP-Loadingscreen, nk_repair, No-More-Weapons-On-NPC, NoDriveBy, NoNPC, notification-master, np-mdt, nr_holster, nr_jailsystem, NR_pannendienst-mlo, nr_pdmenu, NVE_Halloween, offstore_halloweendecoration, okokChatV2, okokNotify, operation_floor, ox_lib, ox_target, oxmysql, P90, pablito_hp, patoche_plasmagame, pawnshop, Paystation, pd_image_placer, ped-money-drops, Penthouse, Perico_Shops, pistas, pizza_icon, pizzarestaurant, PlasmaGame, playboyv2, player-data, pma-voice, pn_touran, pNotify, polban, police_panic, policecam, policedoge, PoliceVehiclesWeaponDeleter, polizeivwp, polizeivwpu, polmav, PolyZone, progressBars, Puipui, qalle-wheelchair, r_megaphone, r_pepperspray, r_scba, r820, railwaysim, rb18, rconlog, realisticvehicle, refuelingnozzle, reviveall, rfc_motoclub_mlo, rlc_ticketsystem, roadphone, RoadSigns, rojos_zaun, room_floor, RopeRescue, rpemotes2, rs62, rsq8m, RTWHH, runcode, ry_progressbar, ry_truckerjob, s_fishing, SackOverHead, safety, SafeZones, salty_vehicleblackout, sandy, Scare2, schule_training, scratchcard, screenshot-basic, seatbelt, sepuraradio, Sil-2Step, silah, sitdown, skate, skeexsNotify, skinchanger, skyline, sm_fwschild, sm_postkasten, SmartLaser, spaf1, spawnmanager, tag, TaserCart, technical_dispatches, technical_dispatches_objects, teleportspa, tg-uwucats, tl-model, tl-script, touran, TouranBKA, towing, trafficwarner, Tragen, trump-stretcher, trump-stretcher-script, tsDiscord_Rich_Presence, uj_cayoLoader, urgence_floor, utk_fleeca, utk_ornateheist, utk_ornateprops, vengine, Venice-Notification, visn_are, VP9, vsLogs, vSync, VWT6, WAFFENSICHERN, Walmart, watermark-text, webpack, weinberge_zaun, western_pd, wk_wars2x, wm-serversirens, wtf_ev, wtf_tesla_supercharger, wtf_teslax, x26, xerogasstation, xl_handyvertrag, xl_kfzsteuer, xm_atego_adac1f, xm_sprinter_ftecrtw2, xm_sprinter_sek1, xm_sprinter_sek2, xm_vito_nef1pf, xm_vito_nef2f, XNLRealPlanes-master, xsound, yarn, yourequipment, yourequipment_props, znax-kevlar\n",
      "Game type: ESX Legacy\n",
      "Map: San Andreas\n",
      "OneSync: enabled\n",
      "Language: German (Germany)\n",
      "Tags: \n",
      "Berufsfeuerwehr🔥: Berufsfeuerwehr Niederbach\n",
      "Discord: dsc.gg/niederbachrp\n",
      "Info⚠️: Fiktive Stadt in Niedersachsen\n",
      "Jobs🧑‍🏭: Viele Realistische Berufe\n",
      "Phone: RoadPhone\n",
      "Polizei👮‍♂️: Landespolizei Niederbach\n",
      "Rettungsdienst🚑: Rettungsdienst Niederbach\n",
      "Roleplayart: Semi Hardcore Roleplay\n",
      "Stadt🏙️: Freie Hansestadt Niederbach\n",
      "DLC level: 2545\n",
      "sv_pureLevel: 0\n",
      "Owner: KuchenF436\n",
      "https://servers.fivem.net/servers/detail/rky3bp\n"
     ]
    },
    {
     "name": "stdout",
     "output_type": "stream",
     "text": [
      "['[German] Niederbach Roleplay 🏖️ | IngameVoice 📞 | Niederbach 🌆 | Multichar 👫🏽 | Custom Klamotten 🥋, Fahrzeuge 🚗 und MLOs 🏪', 'https://servers.fivem.net/servers/detail/kyrpvr', '', 'ESX Legacy', 'enabled', 'San Andreas', 'German (Germany)', '', '2545', '', 'KuchenF436', '', '', ['3dme', '108_icon', '530df11zivil', '765lt', 'admincar', 'afkkick', 'ak4y-multicharacter', 'Alien_Pike-Pole', 'Alien_Sledgehammer', 'almeiidaa_hookah_script', 'amarok', 'amggt63', 'amr_icon', 'Animals', 'announcejobs', 'announcescript', 'antiwaffenschlag', 'aq38mclm838tq', 'assaultrifle', 'async', 'b-moneywash', 'BalisticShield', 'bank_icon', 'baseevents', 'baum', 'benzz_hems_npas', 'bf-elw', 'bf-hlf1', 'bf-Kdow', 'bf-lf', 'Bier-Script', 'biker_exterior_casino', 'blackmarkets', 'blips_builder', 'blips_creator', 'bloods_hoodv2', 'BoatTrailer', 'bob74_ipl', 'brpol_sprinter', 'bullpupshotgun', 'buscontrol', 'Bxnny_FN_P90', 'calmwater', 'carkeys', 'carpack_floor', 'CayoHouse', 'CayoShops', 'cfx-gabz-247', 'cfx-gabz-ammunation', 'cfx-gabz-bahama', 'cfx-gabz-barber', 'cfx-gabz-bennys', 'cfx-gabz-bowling', 'cfx-gabz-carmeet', 'cfx-gabz-casino', 'cfx-gabz-catcafe', 'cfx-gabz-import', 'cfx-gabz-impound', 'cfx-gabz-lscustoms', 'cfx-gabz-mapdata', 'cfx-gabz-mba', 'cfx-gabz-mirrorpark1', 'cfx-gabz-mirrorpark2', 'cfx-gabz-ottos', 'cfx-gabz-paletobank', 'cfx-gabz-pdprops', 'cfx-gabz-pizzeria', 'cfx-gabz-prison', 'cfx-gabz-records', 'cfx-gabz-suburban', 'cfx-gabz-tattoo', 'cfx-gabz-townhall', 'cfx-gabz-triads', 'cfx-gabz-vagos', 'cfx-gabz-vbmarket', 'cfx-gabz-vu', 'cfx-gabz-yachts', 'Cfx-PablitoModz-billboard-Mp', 'chainsaw', 'chat', 'cityhallv2', 'clip', 'clo_carry', 'clo_spring', 'cn_blips', 'CN-Dev_AgenturFurArbeit', 'Codem-BlackHUDV2', 'codem-marketv2', 'contss18', 'Coords', 'core_crafting', 'core_evidence', 'core_weapon', 'corsa05', 'cron', 'cs_carclear', 'CustomM4A1', 'CustomPlate', 'CustomPlateFormat', 'damageragdollv2', 'dante', 'DeathCam', 'deathscreen', 'dep_tl', 'dep_tl_objects', 'Deutsche_schilder', 'deutsche_tanke', 'dfl_gw', 'dinghy', 'Dino', 'disable_radio', 'disabledispatch', 'discord-screenshot', 'doenerbude', 'doj_icon', 'dons_apple', 'doors_creator', 'dpclothing', 'EasyAdmin', 'ecall', 'econic', 'electric-skateboard', 'EM-weaponshop', 'emergencydispatch', 'EmergencyOS', 'es_extended', 'esx_addonaccount', 'esx_adminzone', 'esx_ambulancejob', 'esx_autopaybills', 'esx_barbershop', 'esx_basicneeds', 'esx_billing', 'esx_boat', 'esx_carlock', 'esx_cigarette', 'esx_cityworks', 'esx_clotheshop', 'ESX_CommunityService', 'esx_context', 'esx_contrac', 'esx_cuffanimation', 'esx_datastore', 'esx_diving', 'esx_dmvschool', 'esx_eden_clotheshop', 'esx_fernglass', 'ESX_GiveCarKeys', 'esx_givevehicle', 'esx_holdup', 'esx_identity', 'esx_inventoryhud', 'esx_jb_trailer', 'esx_jobs', 'esx_license', 'esx_lscustom', 'esx_menu_default', 'esx_menu_dialog', 'esx_menu_list', 'esx_notify', 'esx_optionalneeds', 'esx_progressbar', 'esx_property', 'esx_scoreboard', 'esx_scuba', 'esx_service', 'esx_sit', 'esx_skin', 'esx_society', 'esx_status', 'esx_textui', 'esx_vangelico_robbery', 'esx_vehicleshop', 'esx_weaponshop', 'ESX-Easy-Weapon-Accessories', 'esx-kr-vehicle-push', 'esx-sellvehicles', 'eup-stream', 'example-loadscreen', 'EXO_Blitzer2', 'EXO_Leitplanke', 'EXO_SpATM', 'EZELS', 'EZIndicators', 'Fahrschule', 'feuerwehr_nef', 'fire_icon', 'firestation_el_burro_v2', 'FiveM-Point-finger', 'FiveM-VisualSettings', 'Flashbang', 'frogger', 'fs_car', 'fs_nui', 'fs_truck', 'gabzpillbox', 'garage', 'german_props', 'german_roads', 'german_tunnel', 'gfpa6th', 'gfps213hhc', 'gfpx3', 'gl-halloween', 'GLO_Communityservise', 'GLO_Methlabor', 'Glock18c', 'gmf_vehicleburn', 'golfmk6', 'gta_props_fivem', 'GTM-Modding-Bank', 'gwsan2', 'hackee-jumpscare', 'hairs', 'haltestellenschild_replace', 'heli', 'HelicopterHUD-main', 'hh_airport', 'hlf4', 'hookah_almeida', 'hostage', 'ibiscontrol', 'iis_bwv', 'instance', 'int_weed', 'interact-sound', 'ipls_resource', 'ivy', 'JF_SeatShuffle-main', 'jk_jobs', 'jobs_creator', 'jsfour-idcard', 'jsfour-licenseplate', 'jtdcyber', 'jtdcyber2', 'K9', 'kameras', 'kd_custom-native', 'kd_hud-event', 'kd_towtruck', 'Kelle', 'kidped', 'kidpeds', 'kq-wheeldamage', 'krz_personalmenu', 'kuz_towing', 'lama_cloakroom', 'lama_KatzenJob-v2', 'lama_policeGarage-v2', 'lama_policeJob-v2', 'lama_policeShop-v2', 'lama_SheriffJob-v2', 'lamaAdmin', 'lamaPartyPack', 'lapd_icon', 'lastpostodb', 'laundry', 'LegacyFuel', 'lift_car_off_ground', 'loaf_spikestrips-main', 'lockpick', 'lots-pausemenu', 'lp_speedcamera', 'luftwaffe', 'lynxfix_malibumansion', 'm3e46', 'm3e92', 'M4', 'M9A3', 'Machette', 'mafiahotel13', 'map', 'max_zollhalfen', 'mb04', 'mbs500kripo', 'mclp1', 'menuv', 'minimap_cayo', 'MM_Bahnsteig', 'money', 'monitor', 'mountzonah_lift', 'mp-roadisland', 'mp5', 'MP9', 'myDj', 'myMapbuilder', 'mythic_notify', 'mythic_progbar', 'myTrunk', 'mz_addons', 'nad_rockstar', 'NativeUI', 'NativeUILua_Reloaded', 'neue_busse', 'new_banking', 'NiederbachRP-Loadingscreen', 'nk_repair', 'No-More-Weapons-On-NPC', 'NoDriveBy', 'NoNPC', 'notification-master', 'np-mdt', 'nr_holster', 'nr_jailsystem', 'NR_pannendienst-mlo', 'nr_pdmenu', 'NVE_Halloween', 'offstore_halloweendecoration', 'okokChatV2', 'okokNotify', 'operation_floor', 'ox_lib', 'ox_target', 'oxmysql', 'P90', 'pablito_hp', 'patoche_plasmagame', 'pawnshop', 'Paystation', 'pd_image_placer', 'ped-money-drops', 'Penthouse', 'Perico_Shops', 'pistas', 'pizza_icon', 'pizzarestaurant', 'PlasmaGame', 'playboyv2', 'player-data', 'pma-voice', 'pn_touran', 'pNotify', 'polban', 'police_panic', 'policecam', 'policedoge', 'PoliceVehiclesWeaponDeleter', 'polizeivwp', 'polizeivwpu', 'polmav', 'PolyZone', 'progressBars', 'Puipui', 'qalle-wheelchair', 'r_megaphone', 'r_pepperspray', 'r_scba', 'r820', 'railwaysim', 'rb18', 'rconlog', 'realisticvehicle', 'refuelingnozzle', 'reviveall', 'rfc_motoclub_mlo', 'rlc_ticketsystem', 'roadphone', 'RoadSigns', 'rojos_zaun', 'room_floor', 'RopeRescue', 'rpemotes2', 'rs62', 'rsq8m', 'RTWHH', 'runcode', 'ry_progressbar', 'ry_truckerjob', 's_fishing', 'SackOverHead', 'safety', 'SafeZones', 'salty_vehicleblackout', 'sandy', 'Scare2', 'schule_training', 'scratchcard', 'screenshot-basic', 'seatbelt', 'sepuraradio', 'Sil-2Step', 'silah', 'sitdown', 'skate', 'skeexsNotify', 'skinchanger', 'skyline', 'sm_fwschild', 'sm_postkasten', 'SmartLaser', 'spaf1', 'spawnmanager', 'tag', 'TaserCart', 'technical_dispatches', 'technical_dispatches_objects', 'teleportspa', 'tg-uwucats', 'tl-model', 'tl-script', 'touran', 'TouranBKA', 'towing', 'trafficwarner', 'Tragen', 'trump-stretcher', 'trump-stretcher-script', 'tsDiscord_Rich_Presence', 'uj_cayoLoader', 'urgence_floor', 'utk_fleeca', 'utk_ornateheist', 'utk_ornateprops', 'vengine', 'Venice-Notification', 'visn_are', 'VP9', 'vsLogs', 'vSync', 'VWT6', 'WAFFENSICHERN', 'Walmart', 'watermark-text', 'webpack', 'weinberge_zaun', 'western_pd', 'wk_wars2x', 'wm-serversirens', 'wtf_ev', 'wtf_tesla_supercharger', 'wtf_teslax', 'x26', 'xerogasstation', 'xl_handyvertrag', 'xl_kfzsteuer', 'xm_atego_adac1f', 'xm_sprinter_ftecrtw2', 'xm_sprinter_sek1', 'xm_sprinter_sek2', 'xm_vito_nef1pf', 'xm_vito_nef2f', 'XNLRealPlanes-master', 'xsound', 'yarn', 'yourequipment', 'yourequipment_props', 'znax-kevlar']]\n",
      "The last index is: 37\n",
      "Scraping server 38, id is rky3bp\n",
      "rky3bp\n"
     ]
    },
    {
     "name": "stderr",
     "output_type": "stream",
     "text": [
      "Server Name: 🔥Shooters Only RP🔥| SERIOUS RP| 1000+ CARS🏎️| 500+ DONKS| 💵Starting Cash $350,000💵| FREE WL| CUSTOM DELIVERY TRUCKS| 🧺1 OF 1 CLOTHING ITEMS👚| CAR SHOWS| JOBS| 👮🏾PD\n"
     ]
    },
    {
     "name": "stdout",
     "output_type": "stream",
     "text": [
      "%%%%%%%%%%%%%%%%%%%%%%%%%%%%%%%%%%%%%%%%%%%%%%%%%%%%%%%%%%%%%%%%%\n",
      "🔥Shooters Only RP🔥| SERIOUS RP| 1000+ CARS🏎️| 500+ DONKS| 💵Starting Cash $350,000💵| FREE WL| CUSTOM DELIVERY TRUCKS| 🧺1 OF 1 CLOTHING ITEMS👚| CAR SHOWS| JOBS| 👮🏾PD\n",
      "%%%%%%%%%%%%%%%%%%%%%%%%%%%%%%%%%%%%%%%%%%%%%%%%%%%%%%%%%%%%%%%%%\n"
     ]
    },
    {
     "name": "stderr",
     "output_type": "stream",
     "text": [
      "Resources: _EDA_DEMO, 01mud, 18performante, 19mudram, 19s650, 22Sur, 64tony, 70coronet, 70FordMustangB, 71donk, 72drophq, 75grand, 77aero, 78texas, 79cap, 350z, 600lt, 650s, 675lt, 720s, 750, 1986%20Cmc, 1990%20Chevy%20Camaro%20IROC-Z, 2012%20Semi, 2018%20Cm, 2020%20Chevy%20Silverado%203500%20(Trailer%20Included), 2020mkzslab, A1Box, A1Charger, addon_maps, advanced_jail, advanced_locksystem, airport14, ak47_3dme, ak47_adminmenu, ak47_business, ak47_cannabiscafev2, ak47_cardealer, ak47_carwash, ak47_clothing, ak47_crime, ak47_crutch, ak47_drugmanager, ak47_farming, ak47_gangs, ak47_garages, ak47_garbagejob, ak47_gpstracker, ak47_hookahlounge, ak47_hospitalbed, ak47_housing, ak47_iclothingv2, ak47_idcard, ak47_inventory, ak47_lib, ak47_lib3, ak47_mansionv1, ak47_metaldetector, ak47_serviceblip, ak47_smokingv2, ak47_switch, ak47_tow, ak47_vextra, ak47_whitewidowv2, allhousing, amels200, anti-shuffle, as_tequilala, asdbx, ast, astonvalk18, async, aventador, b63s, Badger_Discord_API, banking, beach_hospital, Bean%20Machine%20MLO, beefy%20shelby, bigtex, bigtex40, bigtexbigrims, bkark, blips, blue68, bmdragbanshee, bmwm5, bob74_ipl, bra850, brab700, burger, buti, butii, caprice, caprice89, car_radio, carrental, carwipe, Cascades, casino_blackjack, casino_cashier, casino_poker, casino_rulett, casino_slots, casino_wall, casino_wheel, cc_apartmentblock_, cd_easytime, centuria, cfx-gabz-mbadlc1, chalet, chat, Che%20Wagon%201989%20%20Ismackz, Chevy%20Impala%20SRT%201973%20Donk, chiron, chrysleruno, civic, convertible_dodge_charger, cookies, coolexterior, coolinterior, cribv2, cron, Curt_lac, custom_assets, customfemclothes1, Cutlass%20Hopper, cygnet, cyrus, czr1, damageindicator, db5, db905, dbx, dd-nailshopV2, ddc300slab, ddcc63slab, Deadly-lv-store, desert_mansion, design_house, DirtBike, discord_logs, dispatch, divo, Dodge_Durango_WideBody_Ghoul_2021__Underground_Customs_updated, DoItDigital_Arcadius_Billboard, DoItDigital_Atla_Ave_Building_Billboard, DoItDigital_Augury_Billboard, DoItDigital_central_gunshop_billboard, DoItDigital_fbi_elgin_avenue_billboard, DoItDigital_kayton_building_billboard, DoItDigital_Maze_Bank_Plaza_Billboard, DoItDigital_pillbox_back_side_double_billboard, DoItDigital_Pillbox_Billboard, DoItDigital_strawberry_avenue_double_billboard, DoItDigital_Tunnel_Billboard, dominos_working, DoorDash_Alchol, dpemotes, Draco, Dre%20Customs%20-%202023%20Covertible%20Jailbreak%20Challenger, drect5v, drejailbreakvert, drejailbreakvertss, DropTopCullinan23, dslr, Durango_SRT_392_on_28_Forgiato_Toes, durango6seater, dycevgt12, eb110, emotes, es_extended, esx_addonaccount, esx_addoninventory, esx_ambulancejob, esx_bahamas, esx_basicneeds, esx_billing, esx_boat, esx_builderjob, esx_busdriver, esx_carwash, esx_chopshop, esx_context, esx_courier, esx_crab, esx_datastore, esx_dmvschool, esx_electrician, esx_fuel, esx_gasstation, esx_identity, esx_jb_trailer-master, esx_job_creator, esx_jobs, esx_license, esx_lscustoms, esx_lscustoms_addons, esx_lscustoms_menu, esx_mechanicjob, esx_menu_default, esx_menu_dialog, esx_menu_list, esx_multicharacter, esx_optionalneeds, esx_plasticsurgery, esx_policejob, esx_realestatejob, esx_service, esx_sheriffjob, esx_sit, esx_society, esx_status, esx_taxijob, esx_vanillaunicorn, esx_vehicleshop, eup-stream, female-body, female-pack, fightclub, fitbit, fitness, fleecaheist, flhxs_streetglide_special18, food_truck1_mcdonalds, food_truck2_wingstop, food_truck3_popeyes, food_truck4_Dunkin_Donuts, food_truck5_Chi-fil-a, fro-sunts, furni, g_store, g500, gabz-mba, ghis2, gks_ebay, gks_gotur, gks_racing, gks_rentacar, gksphone, gle21%20fivem, Glock17, Glock18C, Glock19, Glock22, Glock27, Glock30, GlockP80, glynx, goatedz, GODz13HDSG32FLOAT, godzcanam, GODzRANGER4zVIP, gto06, Harley%20Davidson%20Bagger, Harley%20Davidson%20on%2034, harvin, hatermadev2, hawk, hellcatcamo, hooters_mlo, houserobbery, hud, hunter_dealership_, hypnonema, hypnonema-map, iak_skyclub, Ice_box_truck, instance, int_tunergarage, ipl_tunergarage, JR_Chip, jr_vot_chicken, k_sexv, k%20125sx, k4mb1-storage, K22r, KanB_bike, keithct5, keysystem, kgjoker, KillerGtr50, kings_cbd, L450, lababydenali, lac%201978%20low, laser-script-main, LeansyWorks_Dior_Store, LEGION_SQUARE_V3, legionsquarebillboard, Lemon%20-%20Lamborghini%20Urus%20Roadster, levante, lg81hcredeye, lg188maz20b, Lightas_Villa, Litco_Van, loadingscreen, lockpicking, lp670sv, LSPD%20Unmarked, lux_vehcontrol, luxury_mansion, m4ccs, mackchally, maj86, Mall_Billboard, mapmanager, maseratimcgt4, Maze_Screen, mb6, mc12, mdt, menuv, mercamgtrackh, meta_libs, mgm, mgrantur2010, mhacking, minigolf, mlmansory, mlnovitec, moneywash, monitor, motel, mrhunter_victory, mrk-canes, multijob, myDj, new_heli, nohelmet, notepad, offwhite, one77, otaku_harem_saloon, otaku_harem_saloon_car, otaku_harem_saloon_cloth, ox_lib, ox_target, oxmysql, p1, p1gtr, pacific_rooftop, pacific_villa, pacificheist, paleto_auto_repair, patoche_gang, patoche_gang_crips, patoche_secret_bossroom, pearls_truck_fivem_ready, Penthouse, perico_flight, ph8m, pimpin, pma-voice, polarbarracks, PolyZone, pool, PreGang_Yayo, prezjeep, pug-halloween, pushvehicle, pyro_icebox_jewellery, Queue, R32, r34h, radialmenu, radio, rcoutlander, rculi, report_system, Rm, RM250, ro90, RocketDRCUSTOM, rockfordrecords, roscoes_fivem_ready, royale, rrevoque, rrphantom, rrtruck, RTGcaprice89, RTGram16, rtx_storagewars, runtz-truck_fivem_ready, rweed, rx7veilside, s_lockpick, S1000RR_Polar, safecracking, safezone, scaldarsi, scg, Scooter, screendamage, screenshot-basic, script_basketball, senna, sfx_weapon, shifter_kart_1, shifter_kart_02, shoe_store, Shooters_Helicopter, shooters_only_van, shootingrange, shoprobbery, sian, Silverado%20Floaters, sit_anywhere, skateboard, skeletal, skinchanger, slabremaster, sliderdonks, smokezGclothes, spawnmanager, sr650fly, srt8, ssg22redeye, stingraywb, STRETCHED%20MINI%20PIT%20SANCHEZ, superleggera, supramk4, tacos, Tahoe%20Floaters, tes, teslax, textui, the_ora_mansion_, threads, tmodel, tokyo%20urus, tr22, trailcat, Trailer%20flat2, trailersmall, trixbox, tropical_villa, trx, tungao_girlsclub, tv, ultracustom, UncleJust_Court_House, uniqx_wiwangtower, ur, utk_fingerprint, utk_hackdependency, uzir8, uziurus, v600, vangelicoheist, vantage, vanzava, vanzcadi, vanzgolf2, vanzhar, vanzrolls, vbh, vehiclefailure, verizon_wireless_mlo, versacewraith, VGCharger, vinewood_hills_mansion, voodoo_pwntruck, vulcanamr, Wagoneer22, wasabi_boombox, webpack, wheeldamage, workinggym, wth, Wworld, xmmx-letscamp, xmmx-letscook, xsound, yachting, yarn, YB_truck, YZF, zagatov12\n",
      "Game type: Roleplay\n",
      "Map: San Andreas\n",
      "OneSync: enabled\n",
      "Language: English (United States)\n",
      "Tags: esx, seriousrp, serious rp, esx legacy, legacy, roleplay, rp, police, ems, mechanic, drugs, donks,esx\n",
      "Developer: discord.gg/MenanAk47\n",
      "Discord: discord.gg/WDHB36E8\n",
      "DLC level: 2699\n",
      "sv_pureLevel: 0\n",
      "can_review: true\n",
      "Owner: Steadi\n",
      "https://servers.fivem.net/servers/detail/vyl73k\n"
     ]
    },
    {
     "name": "stdout",
     "output_type": "stream",
     "text": [
      "['🔥Shooters Only RP🔥| SERIOUS RP| 1000+ CARS🏎️| 500+ DONKS| 💵Starting Cash $350,000💵| FREE WL| CUSTOM DELIVERY TRUCKS| 🧺1 OF 1 CLOTHING ITEMS👚| CAR SHOWS| JOBS| 👮🏾PD', 'https://servers.fivem.net/servers/detail/rky3bp', 'discord.gg/MenanAk47', 'Roleplay', 'enabled', 'San Andreas', 'English (United States)', 'esx, seriousrp, serious rp, esx legacy, legacy, roleplay, rp, police, ems, mechanic, drugs, donks,esx', '2699', '', 'Steadi', '', '', ['_EDA_DEMO', '01mud', '18performante', '19mudram', '19s650', '22Sur', '64tony', '70coronet', '70FordMustangB', '71donk', '72drophq', '75grand', '77aero', '78texas', '79cap', '350z', '600lt', '650s', '675lt', '720s', '750', '1986%20Cmc', '1990%20Chevy%20Camaro%20IROC-Z', '2012%20Semi', '2018%20Cm', '2020%20Chevy%20Silverado%203500%20(Trailer%20Included)', '2020mkzslab', 'A1Box', 'A1Charger', 'addon_maps', 'advanced_jail', 'advanced_locksystem', 'airport14', 'ak47_3dme', 'ak47_adminmenu', 'ak47_business', 'ak47_cannabiscafev2', 'ak47_cardealer', 'ak47_carwash', 'ak47_clothing', 'ak47_crime', 'ak47_crutch', 'ak47_drugmanager', 'ak47_farming', 'ak47_gangs', 'ak47_garages', 'ak47_garbagejob', 'ak47_gpstracker', 'ak47_hookahlounge', 'ak47_hospitalbed', 'ak47_housing', 'ak47_iclothingv2', 'ak47_idcard', 'ak47_inventory', 'ak47_lib', 'ak47_lib3', 'ak47_mansionv1', 'ak47_metaldetector', 'ak47_serviceblip', 'ak47_smokingv2', 'ak47_switch', 'ak47_tow', 'ak47_vextra', 'ak47_whitewidowv2', 'allhousing', 'amels200', 'anti-shuffle', 'as_tequilala', 'asdbx', 'ast', 'astonvalk18', 'async', 'aventador', 'b63s', 'Badger_Discord_API', 'banking', 'beach_hospital', 'Bean%20Machine%20MLO', 'beefy%20shelby', 'bigtex', 'bigtex40', 'bigtexbigrims', 'bkark', 'blips', 'blue68', 'bmdragbanshee', 'bmwm5', 'bob74_ipl', 'bra850', 'brab700', 'burger', 'buti', 'butii', 'caprice', 'caprice89', 'car_radio', 'carrental', 'carwipe', 'Cascades', 'casino_blackjack', 'casino_cashier', 'casino_poker', 'casino_rulett', 'casino_slots', 'casino_wall', 'casino_wheel', 'cc_apartmentblock_', 'cd_easytime', 'centuria', 'cfx-gabz-mbadlc1', 'chalet', 'chat', 'Che%20Wagon%201989%20%20Ismackz', 'Chevy%20Impala%20SRT%201973%20Donk', 'chiron', 'chrysleruno', 'civic', 'convertible_dodge_charger', 'cookies', 'coolexterior', 'coolinterior', 'cribv2', 'cron', 'Curt_lac', 'custom_assets', 'customfemclothes1', 'Cutlass%20Hopper', 'cygnet', 'cyrus', 'czr1', 'damageindicator', 'db5', 'db905', 'dbx', 'dd-nailshopV2', 'ddc300slab', 'ddcc63slab', 'Deadly-lv-store', 'desert_mansion', 'design_house', 'DirtBike', 'discord_logs', 'dispatch', 'divo', 'Dodge_Durango_WideBody_Ghoul_2021__Underground_Customs_updated', 'DoItDigital_Arcadius_Billboard', 'DoItDigital_Atla_Ave_Building_Billboard', 'DoItDigital_Augury_Billboard', 'DoItDigital_central_gunshop_billboard', 'DoItDigital_fbi_elgin_avenue_billboard', 'DoItDigital_kayton_building_billboard', 'DoItDigital_Maze_Bank_Plaza_Billboard', 'DoItDigital_pillbox_back_side_double_billboard', 'DoItDigital_Pillbox_Billboard', 'DoItDigital_strawberry_avenue_double_billboard', 'DoItDigital_Tunnel_Billboard', 'dominos_working', 'DoorDash_Alchol', 'dpemotes', 'Draco', 'Dre%20Customs%20-%202023%20Covertible%20Jailbreak%20Challenger', 'drect5v', 'drejailbreakvert', 'drejailbreakvertss', 'DropTopCullinan23', 'dslr', 'Durango_SRT_392_on_28_Forgiato_Toes', 'durango6seater', 'dycevgt12', 'eb110', 'emotes', 'es_extended', 'esx_addonaccount', 'esx_addoninventory', 'esx_ambulancejob', 'esx_bahamas', 'esx_basicneeds', 'esx_billing', 'esx_boat', 'esx_builderjob', 'esx_busdriver', 'esx_carwash', 'esx_chopshop', 'esx_context', 'esx_courier', 'esx_crab', 'esx_datastore', 'esx_dmvschool', 'esx_electrician', 'esx_fuel', 'esx_gasstation', 'esx_identity', 'esx_jb_trailer-master', 'esx_job_creator', 'esx_jobs', 'esx_license', 'esx_lscustoms', 'esx_lscustoms_addons', 'esx_lscustoms_menu', 'esx_mechanicjob', 'esx_menu_default', 'esx_menu_dialog', 'esx_menu_list', 'esx_multicharacter', 'esx_optionalneeds', 'esx_plasticsurgery', 'esx_policejob', 'esx_realestatejob', 'esx_service', 'esx_sheriffjob', 'esx_sit', 'esx_society', 'esx_status', 'esx_taxijob', 'esx_vanillaunicorn', 'esx_vehicleshop', 'eup-stream', 'female-body', 'female-pack', 'fightclub', 'fitbit', 'fitness', 'fleecaheist', 'flhxs_streetglide_special18', 'food_truck1_mcdonalds', 'food_truck2_wingstop', 'food_truck3_popeyes', 'food_truck4_Dunkin_Donuts', 'food_truck5_Chi-fil-a', 'fro-sunts', 'furni', 'g_store', 'g500', 'gabz-mba', 'ghis2', 'gks_ebay', 'gks_gotur', 'gks_racing', 'gks_rentacar', 'gksphone', 'gle21%20fivem', 'Glock17', 'Glock18C', 'Glock19', 'Glock22', 'Glock27', 'Glock30', 'GlockP80', 'glynx', 'goatedz', 'GODz13HDSG32FLOAT', 'godzcanam', 'GODzRANGER4zVIP', 'gto06', 'Harley%20Davidson%20Bagger', 'Harley%20Davidson%20on%2034', 'harvin', 'hatermadev2', 'hawk', 'hellcatcamo', 'hooters_mlo', 'houserobbery', 'hud', 'hunter_dealership_', 'hypnonema', 'hypnonema-map', 'iak_skyclub', 'Ice_box_truck', 'instance', 'int_tunergarage', 'ipl_tunergarage', 'JR_Chip', 'jr_vot_chicken', 'k_sexv', 'k%20125sx', 'k4mb1-storage', 'K22r', 'KanB_bike', 'keithct5', 'keysystem', 'kgjoker', 'KillerGtr50', 'kings_cbd', 'L450', 'lababydenali', 'lac%201978%20low', 'laser-script-main', 'LeansyWorks_Dior_Store', 'LEGION_SQUARE_V3', 'legionsquarebillboard', 'Lemon%20-%20Lamborghini%20Urus%20Roadster', 'levante', 'lg81hcredeye', 'lg188maz20b', 'Lightas_Villa', 'Litco_Van', 'loadingscreen', 'lockpicking', 'lp670sv', 'LSPD%20Unmarked', 'lux_vehcontrol', 'luxury_mansion', 'm4ccs', 'mackchally', 'maj86', 'Mall_Billboard', 'mapmanager', 'maseratimcgt4', 'Maze_Screen', 'mb6', 'mc12', 'mdt', 'menuv', 'mercamgtrackh', 'meta_libs', 'mgm', 'mgrantur2010', 'mhacking', 'minigolf', 'mlmansory', 'mlnovitec', 'moneywash', 'monitor', 'motel', 'mrhunter_victory', 'mrk-canes', 'multijob', 'myDj', 'new_heli', 'nohelmet', 'notepad', 'offwhite', 'one77', 'otaku_harem_saloon', 'otaku_harem_saloon_car', 'otaku_harem_saloon_cloth', 'ox_lib', 'ox_target', 'oxmysql', 'p1', 'p1gtr', 'pacific_rooftop', 'pacific_villa', 'pacificheist', 'paleto_auto_repair', 'patoche_gang', 'patoche_gang_crips', 'patoche_secret_bossroom', 'pearls_truck_fivem_ready', 'Penthouse', 'perico_flight', 'ph8m', 'pimpin', 'pma-voice', 'polarbarracks', 'PolyZone', 'pool', 'PreGang_Yayo', 'prezjeep', 'pug-halloween', 'pushvehicle', 'pyro_icebox_jewellery', 'Queue', 'R32', 'r34h', 'radialmenu', 'radio', 'rcoutlander', 'rculi', 'report_system', 'Rm', 'RM250', 'ro90', 'RocketDRCUSTOM', 'rockfordrecords', 'roscoes_fivem_ready', 'royale', 'rrevoque', 'rrphantom', 'rrtruck', 'RTGcaprice89', 'RTGram16', 'rtx_storagewars', 'runtz-truck_fivem_ready', 'rweed', 'rx7veilside', 's_lockpick', 'S1000RR_Polar', 'safecracking', 'safezone', 'scaldarsi', 'scg', 'Scooter', 'screendamage', 'screenshot-basic', 'script_basketball', 'senna', 'sfx_weapon', 'shifter_kart_1', 'shifter_kart_02', 'shoe_store', 'Shooters_Helicopter', 'shooters_only_van', 'shootingrange', 'shoprobbery', 'sian', 'Silverado%20Floaters', 'sit_anywhere', 'skateboard', 'skeletal', 'skinchanger', 'slabremaster', 'sliderdonks', 'smokezGclothes', 'spawnmanager', 'sr650fly', 'srt8', 'ssg22redeye', 'stingraywb', 'STRETCHED%20MINI%20PIT%20SANCHEZ', 'superleggera', 'supramk4', 'tacos', 'Tahoe%20Floaters', 'tes', 'teslax', 'textui', 'the_ora_mansion_', 'threads', 'tmodel', 'tokyo%20urus', 'tr22', 'trailcat', 'Trailer%20flat2', 'trailersmall', 'trixbox', 'tropical_villa', 'trx', 'tungao_girlsclub', 'tv', 'ultracustom', 'UncleJust_Court_House', 'uniqx_wiwangtower', 'ur', 'utk_fingerprint', 'utk_hackdependency', 'uzir8', 'uziurus', 'v600', 'vangelicoheist', 'vantage', 'vanzava', 'vanzcadi', 'vanzgolf2', 'vanzhar', 'vanzrolls', 'vbh', 'vehiclefailure', 'verizon_wireless_mlo', 'versacewraith', 'VGCharger', 'vinewood_hills_mansion', 'voodoo_pwntruck', 'vulcanamr', 'Wagoneer22', 'wasabi_boombox', 'webpack', 'wheeldamage', 'workinggym', 'wth', 'Wworld', 'xmmx-letscamp', 'xmmx-letscook', 'xsound', 'yachting', 'yarn', 'YB_truck', 'YZF', 'zagatov12']]\n",
      "The last index is: 38\n",
      "Scraping server 39, id is vyl73k\n",
      "vyl73k\n"
     ]
    },
    {
     "name": "stderr",
     "output_type": "stream",
     "text": [
      "https://servers.fivem.net/servers/detail/bkprg4\n"
     ]
    },
    {
     "name": "stdout",
     "output_type": "stream",
     "text": [
      "An error occured scraping single servers.\n",
      "Message: \n",
      "\n",
      "Scraping server 40, id is bkprg4\n",
      "bkprg4\n"
     ]
    },
    {
     "name": "stderr",
     "output_type": "stream",
     "text": [
      "https://servers.fivem.net/servers/detail/ozrr6r\n"
     ]
    },
    {
     "name": "stdout",
     "output_type": "stream",
     "text": [
      "An error occured scraping single servers.\n",
      "Message: \n",
      "\n",
      "Scraping server 41, id is ozrr6r\n",
      "ozrr6r\n"
     ]
    },
    {
     "name": "stderr",
     "output_type": "stream",
     "text": [
      "Resources: 14r1, 20fusion, 20r1, 206, 356ac, 701, 765lt, 1016urus, 2015caravanrb, a90sh, AdvancedParking, airbags, alf75, alfmito, amarok, Ambulanceprops, async, ballerc, Bennys, BetterFaces, Bike, bob74_ipl, Carpack_Acls, Carpack_Airport, Carpack_Ambulance, Carpack_Annis, Carpack_Audi, Carpack_BMW, Carpack_Bravado, Carpack_Chevrolet, Carpack_Dinka, Carpack_Dodge, Carpack_Ferrari, carpack_floor, Carpack_Ford, Carpack_Mercedes, Carpack_Nissan, Carpack_Police, CarryPeople, cayenne, CayoImprovements, cbr650r, champion_pants, chapion_hoodie, chat, chat-theme-gtao, citroends23, colored_map, cont88, core_evidence, cron, czr1, D99, Dienstausweise, dockjob, Dot, dpclothing, dpemotes, dubstavip, dynamic-npcs, EasyAdmin, emperor5, es_extended, esx_accessories, esx_addonaccount, esx_addoninventory, esx_AdvancedFishing, esx_ambulancejob, esx_barbershop, esx_basicneeds, esx_bike-rental, esx_carwash, esx_clotheshop, esx_datastore, esx_deinvater, esx_deliveries, esx_diving, esx_documents, esx_duty, esx_fahrschule, esx_farm, esx_fibjob, esx_firejob, esx_garbagecrew, esx_geldwaesche, ESX_GiveCarKeys, esx_govermentjob, esx_gym, esx_holdup, esx_joblisting, esx_joblisting_cayo, esx_juwelenraub, esx_lcnjob, esx_license, esx_lscustom, esx_mechanicjob, esx_menu_default, esx_menu_dialog, esx_menu_list, esx_notify, esx_policejob, esx_property, esx_service, esx_skin, esx_society, esx_status, esx_supermarket, esx_tattoosShops, esx_technician, esx_technician_cayo, esx_textui, esx_tgo_watercoolers, esx_trunk, esx_urp_save, esx_urp_umkleide, esx_vests, esx_weaponshop, esx_youtool, ESX-Binoculars, esx-kr-vehicle-push, esx-qalle-jail, EUP_GOPRO, eup-stream, evy_shootingrange, extramenu, FBIFixes20, fiat600, FIBmap, firehose, firehosemodels, firescript, firetools, Fixed_rag, FixJobCenterWalls, FixLSIA, fleecaraub, fleet72, fort_z, fuck_planes, gamz-skillsystem, gangclothes, gcphone, gle, gmcyd, golf, golfgti, gsxr, gt2017, gta_props_fivem, gx370z, gxevox, heli, HUAYRAR, ikx3gtone, instance, intprisonfull, ITALIRSXROD, JD_logs, jefferson, JMfibpolice, jsfour-idcard, kimi_callbacks, KoreanPavilionRework, krz_personalmenu, LegacyFuel, leotaxi, Loading, looseshirt, LSCustoms, LSFireDepartment, LSGovernment, LSIA, lspdnfpack, lux_vehcontrol, luxusdealer, mh6, mhacking, minimap_cayo, monitor, motorshop, mrpd, mx-multicharacter, mx-servermanbot, mythic_progbar, mz_addons, NativeUI, new_overlays, nui_doorlock, nw_mine, okokBanking, okokBilling, okokContract, okokCrafting, okokNotify, okokTalkToNPC, okokTextUI, okokVehicleShop, operation_floor, oxmysql, pac, pac_os, plasmagame, pma-voice, pnwsigns, Policeshields, PolyZone, portJob, pressurewasher, pressurewashermodels, principalbankrobbery, prisonprops, progressBars, project8, r1, radio, rconlog, realisticvehicle, refuelingnozzle, room_floor, rr14, rsv4, s63amg18, s1000rr, scout, scrapman-job, screenshot-basic, secpack, senna, server_scenarios, sigma2, sjcop1, skinchanger, spawnmanager, srt8, subwrx, SupplyLine, supra2, svj63, swatheli, TakeHostage, taranis, TattooParlorsThePitRoadRepaired, tgiann-radio, trash3, trew_hud_ui, tunak, TunasTruckJob, type3notch, uj_cayoLoader, uj_cayoPerico, UncleJust_Court_House, urgence_floor, urp_adminlogs, URP_aduty, urp_betterjobs, urp_deathscreen, urp_dimensions, urp_fib_door, urp_healthnarmour, urp_hub, urp_pause_menu, urp_pier, URP_scripts, urp_tablet, URPLift, usw_carlock, VehicleRescue, vigeronew, volvo145, vSync, wagoneer91, WaterMonitor, weaponammo, webpack, wk_wars2x, xc90, xsound, yarn, yzfr6, zx10\n",
      "Game type: ESX Legacy\n",
      "Map: San Andreas\n",
      "OneSync: enabled\n",
      "Language: German (Germany)\n",
      "Tags: roleplay, unknown, unknownrp, fivem, german, ingame-voice,esx\n",
      "Website: unknownrp.de\n",
      "discord: unknownrp.de/discord\n",
      "DLC level: 2545\n",
      "sv_pureLevel: 1\n",
      "Owner: NoobSpielt\n",
      "https://servers.fivem.net/servers/detail/5e7mk6\n"
     ]
    },
    {
     "name": "stdout",
     "output_type": "stream",
     "text": [
      "['', 'https://servers.fivem.net/servers/detail/ozrr6r', '', 'ESX Legacy', 'enabled', 'San Andreas', 'German (Germany)', 'roleplay, unknown, unknownrp, fivem, german, ingame-voice,esx', '2545', '', 'NoobSpielt', '', '', ['14r1', '20fusion', '20r1', '206', '356ac', '701', '765lt', '1016urus', '2015caravanrb', 'a90sh', 'AdvancedParking', 'airbags', 'alf75', 'alfmito', 'amarok', 'Ambulanceprops', 'async', 'ballerc', 'Bennys', 'BetterFaces', 'Bike', 'bob74_ipl', 'Carpack_Acls', 'Carpack_Airport', 'Carpack_Ambulance', 'Carpack_Annis', 'Carpack_Audi', 'Carpack_BMW', 'Carpack_Bravado', 'Carpack_Chevrolet', 'Carpack_Dinka', 'Carpack_Dodge', 'Carpack_Ferrari', 'carpack_floor', 'Carpack_Ford', 'Carpack_Mercedes', 'Carpack_Nissan', 'Carpack_Police', 'CarryPeople', 'cayenne', 'CayoImprovements', 'cbr650r', 'champion_pants', 'chapion_hoodie', 'chat', 'chat-theme-gtao', 'citroends23', 'colored_map', 'cont88', 'core_evidence', 'cron', 'czr1', 'D99', 'Dienstausweise', 'dockjob', 'Dot', 'dpclothing', 'dpemotes', 'dubstavip', 'dynamic-npcs', 'EasyAdmin', 'emperor5', 'es_extended', 'esx_accessories', 'esx_addonaccount', 'esx_addoninventory', 'esx_AdvancedFishing', 'esx_ambulancejob', 'esx_barbershop', 'esx_basicneeds', 'esx_bike-rental', 'esx_carwash', 'esx_clotheshop', 'esx_datastore', 'esx_deinvater', 'esx_deliveries', 'esx_diving', 'esx_documents', 'esx_duty', 'esx_fahrschule', 'esx_farm', 'esx_fibjob', 'esx_firejob', 'esx_garbagecrew', 'esx_geldwaesche', 'ESX_GiveCarKeys', 'esx_govermentjob', 'esx_gym', 'esx_holdup', 'esx_joblisting', 'esx_joblisting_cayo', 'esx_juwelenraub', 'esx_lcnjob', 'esx_license', 'esx_lscustom', 'esx_mechanicjob', 'esx_menu_default', 'esx_menu_dialog', 'esx_menu_list', 'esx_notify', 'esx_policejob', 'esx_property', 'esx_service', 'esx_skin', 'esx_society', 'esx_status', 'esx_supermarket', 'esx_tattoosShops', 'esx_technician', 'esx_technician_cayo', 'esx_textui', 'esx_tgo_watercoolers', 'esx_trunk', 'esx_urp_save', 'esx_urp_umkleide', 'esx_vests', 'esx_weaponshop', 'esx_youtool', 'ESX-Binoculars', 'esx-kr-vehicle-push', 'esx-qalle-jail', 'EUP_GOPRO', 'eup-stream', 'evy_shootingrange', 'extramenu', 'FBIFixes20', 'fiat600', 'FIBmap', 'firehose', 'firehosemodels', 'firescript', 'firetools', 'Fixed_rag', 'FixJobCenterWalls', 'FixLSIA', 'fleecaraub', 'fleet72', 'fort_z', 'fuck_planes', 'gamz-skillsystem', 'gangclothes', 'gcphone', 'gle', 'gmcyd', 'golf', 'golfgti', 'gsxr', 'gt2017', 'gta_props_fivem', 'gx370z', 'gxevox', 'heli', 'HUAYRAR', 'ikx3gtone', 'instance', 'intprisonfull', 'ITALIRSXROD', 'JD_logs', 'jefferson', 'JMfibpolice', 'jsfour-idcard', 'kimi_callbacks', 'KoreanPavilionRework', 'krz_personalmenu', 'LegacyFuel', 'leotaxi', 'Loading', 'looseshirt', 'LSCustoms', 'LSFireDepartment', 'LSGovernment', 'LSIA', 'lspdnfpack', 'lux_vehcontrol', 'luxusdealer', 'mh6', 'mhacking', 'minimap_cayo', 'monitor', 'motorshop', 'mrpd', 'mx-multicharacter', 'mx-servermanbot', 'mythic_progbar', 'mz_addons', 'NativeUI', 'new_overlays', 'nui_doorlock', 'nw_mine', 'okokBanking', 'okokBilling', 'okokContract', 'okokCrafting', 'okokNotify', 'okokTalkToNPC', 'okokTextUI', 'okokVehicleShop', 'operation_floor', 'oxmysql', 'pac', 'pac_os', 'plasmagame', 'pma-voice', 'pnwsigns', 'Policeshields', 'PolyZone', 'portJob', 'pressurewasher', 'pressurewashermodels', 'principalbankrobbery', 'prisonprops', 'progressBars', 'project8', 'r1', 'radio', 'rconlog', 'realisticvehicle', 'refuelingnozzle', 'room_floor', 'rr14', 'rsv4', 's63amg18', 's1000rr', 'scout', 'scrapman-job', 'screenshot-basic', 'secpack', 'senna', 'server_scenarios', 'sigma2', 'sjcop1', 'skinchanger', 'spawnmanager', 'srt8', 'subwrx', 'SupplyLine', 'supra2', 'svj63', 'swatheli', 'TakeHostage', 'taranis', 'TattooParlorsThePitRoadRepaired', 'tgiann-radio', 'trash3', 'trew_hud_ui', 'tunak', 'TunasTruckJob', 'type3notch', 'uj_cayoLoader', 'uj_cayoPerico', 'UncleJust_Court_House', 'urgence_floor', 'urp_adminlogs', 'URP_aduty', 'urp_betterjobs', 'urp_deathscreen', 'urp_dimensions', 'urp_fib_door', 'urp_healthnarmour', 'urp_hub', 'urp_pause_menu', 'urp_pier', 'URP_scripts', 'urp_tablet', 'URPLift', 'usw_carlock', 'VehicleRescue', 'vigeronew', 'volvo145', 'vSync', 'wagoneer91', 'WaterMonitor', 'weaponammo', 'webpack', 'wk_wars2x', 'xc90', 'xsound', 'yarn', 'yzfr6', 'zx10']]\n",
      "The last index is: 41\n",
      "Scraping server 42, id is 5e7mk6\n",
      "5e7mk6\n"
     ]
    },
    {
     "name": "stderr",
     "output_type": "stream",
     "text": [
      "Server Name: EXILIADOS Roleplay | ESP | ALLOWLIST | exiliados.network\n"
     ]
    },
    {
     "name": "stdout",
     "output_type": "stream",
     "text": [
      "%%%%%%%%%%%%%%%%%%%%%%%%%%%%%%%%%%%%%%%%%%%%%%%%%%%%%%%%%%%%%%%%%\n",
      "EXILIADOS Roleplay | ESP | ALLOWLIST | exiliados.network\n",
      "%%%%%%%%%%%%%%%%%%%%%%%%%%%%%%%%%%%%%%%%%%%%%%%%%%%%%%%%%%%%%%%%%\n"
     ]
    },
    {
     "name": "stderr",
     "output_type": "stream",
     "text": [
      "Resources: 17, 21rs7c8aj, 23, 23s63, 32, 69, 79, 81, 93, 102, 116, 119, 131, 211, 230, 245, ambo, apex_legionpark, apex_lib, arrowpack, baseevents, basic-gamemode, BCall_progress, BCSOM, BCSOV, BetterFaces, bob74_ipl, brabustaycan23, brazzers-fakeplates, brofx_mansion_03, brushram, Buty_InfiniteJobsNEWUI, Buty-Clothes, CarryPeople, CayoImprovements, cc-fuel, cd_drawtextui, cfx-gabz-ammunation, cfx-gabz-barber, cfx-gabz-bennys, cfx-gabz-binco, cfx-gabz-catcafe, cfx-gabz-fleeca, cfx-gabz-hornys, cfx-gabz-impound, cfx-gabz-mapdata, cfx-gabz-mba, cfx-gabz-mrpd, cfx-gabz-pacificbank, cfx-gabz-pdm, cfx-gabz-pdprops, cfx-gabz-pinkcage, cfx-gabz-ponsonbys, cfx-gabz-scenarios, cfx-gabz-studio, cfx-gabz-suburban, cfx-gabz-tattoo, cfx-gabz-townhall, cfx-gabz-tuners, cfx-gabz-vagos, cfx-gabz-vu, cfx-gpcus2_jakers, cfx-trclassic-2018cb-police, chat, chechi_samstablet, connectqueue, dagor, datacrack, dealer_map, devyn-backitems, dpclothing, drx_mdw, EMS-Ford-Raptor-Jakers, EMS-Ford%20Explorer-Jakers, firehose, firehosemodels, firescript, FireTools, FiveM-Car-Pack-1-main, fivem-map-skater, flab_cayo, fordambo, fpsbooster, g-billing-master, generic_texture_renderer_gfx, gigz_karting_v1.2, hanza-clothingv8, heli, hospital_map, httpmanager, illenium-appearance, inferno-ladders-reborn, interact-sound, Jakers_Containers_01, jakers-customs-bennys, jakers-paintshops-bennys, jg-dealerships, jg-textui, jim-catcafe, jim-consumables-main, jim-djbooth, jim-payments-main, jim-tequilala, jim-upnatomhorny, jim-vanillaunicorn, jobs_creator, jrbMods_Cayo_Open, k4mb1shellstarter, kd_custom-native, kd_hud-event, kd_towtruck, largeboat, laundry, lavegetation, lockpick, lux_vehcontrol, m-loadingscreen, mamba, Mansion_03_Rancho, Mansion_30_Penthouse_GC, map4all-pillbox, map4all-ss-sheriff-compatible, mapmanager, memorygame, menu_default, menuv, messy-vehescort, meta_libs, mhacking, mk-atmRobbery, mmladder, monitor, mt-karting, mystic-vehiclemenu, np-vegetation, nxp_firedepartment_LS, okokBilling, okokNotify, okokTextUI, okokTuning, ox_lib, oxmysql, p_com, ped_spawner, pma-voice, pmms, Police-CVPI-Jakers, Police-Dodge-Charger-Jakers, Police-Dodge-Demom-Jakers, Police-Ford-Raptor-Jakers, Police-Ford%20Explorer-Jakers, PolyZone, polyzonehelper, prison_canteen, prison_main, prison_meeting, progressbar, Project0_logs, ps-ui, ps-weedplanting, qb_rpchat, qb-adminmenu, qb-apartments, qb-atms, qb-banking, qb-bankrobbery, qb-bossmenu, qb-busjob, qb-carmenu, qb-CarRepairStation, qb-cityhall, qb-commandbinding, qb-core, qb-crypto, qb-customs, qb-diving, qb-doorlock, qb-drugs, qb-fitbit, qb-garages, qb-garbagejob, qb-hotdogjob, qb-houserobbery, qb-hud, qb-input, qb-interior, qb-jewelery, qb-keyminigame, qb-lapraces, qb-lift, qb-lock, qb-lockpick, qb-management, qb-mechanicjob, qb-menu, qb-multicharacter, qb-newsjob, qb-pacificheist, qb-pawnshop, qb-policejob, qb-printer, qb-prison, qb-radialmenu, qb-recyclejob, qb-scenes, qb-scoreboard, qb-scrapyard, qb-showroom, qb-sit, qb-skillbar, qb-smallresources, qb-spawn, qb-stashes, qb-storerobbery, qb-streetraces, qb-target, qb-taxijob, qb-towjob, qb-traphouse, qb-trashsearch, qb-truckerjob, qb-truckrobbery, qb-tunerchip, qb-ui, qb-vehiclefailure, qb-vehiclekeys, qb-vehiclesales, qb-vineyard, qb-weathersync, qs-advancedshops, qs-base, qs-crypto, qs-dispatch, qs-drugs, qs-housing, qs-inventory, qs-racing, qs-rental, qs-shops, qs-smartphone, qs-videos, qs-weapondraw, randol_moneywash, randol_skydiving, rcore_casino, rcore_casino_interior, rcore_pool, rcore_report, rdzk_c_square, rfc_motoclub_mlo, rpemotes, rtx_themepark, rtx_themepark_objects, safecracker, safr412, screenshot-basic, secret_room_stolen_goods, skillbar, slrr, smartphone_props, snipe-menu, soler, SouthernStyledVegetation, spawnmanager, stockade, t1ger_gangsystem, t1ger_lib, tr-blackmarket, tr-portable-tables, Ultra-Ids, ultra-keypackhack, ultra-voltlab, utk_fingerprint, utk_hackdependency, vms_gym, wasabi_ambulance, wasabi_bridge, weapon_room, webpack, xsound, yarn, zeup-stream\n",
      "Game type: Freeroam\n",
      "Map: fivem-map-skater\n",
      "OneSync: enabled\n",
      "Language: Spanish (Spain)\n",
      "Tags: default, deployer, qbcore, qb-core\n",
      "DLC level: 2802\n",
      "sv_pureLevel: 0\n",
      "Owner: TheRaiiban\n",
      "https://servers.fivem.net/servers/detail/jbxp4m\n"
     ]
    },
    {
     "name": "stdout",
     "output_type": "stream",
     "text": [
      "['EXILIADOS Roleplay | ESP | ALLOWLIST | exiliados.network', 'https://servers.fivem.net/servers/detail/5e7mk6', '', 'Freeroam', 'enabled', 'fivem-map-skater', 'Spanish (Spain)', 'default, deployer, qbcore, qb-core', '2802', '', 'TheRaiiban', '', '', ['17', '21rs7c8aj', '23', '23s63', '32', '69', '79', '81', '93', '102', '116', '119', '131', '211', '230', '245', 'ambo', 'apex_legionpark', 'apex_lib', 'arrowpack', 'baseevents', 'basic-gamemode', 'BCall_progress', 'BCSOM', 'BCSOV', 'BetterFaces', 'bob74_ipl', 'brabustaycan23', 'brazzers-fakeplates', 'brofx_mansion_03', 'brushram', 'Buty_InfiniteJobsNEWUI', 'Buty-Clothes', 'CarryPeople', 'CayoImprovements', 'cc-fuel', 'cd_drawtextui', 'cfx-gabz-ammunation', 'cfx-gabz-barber', 'cfx-gabz-bennys', 'cfx-gabz-binco', 'cfx-gabz-catcafe', 'cfx-gabz-fleeca', 'cfx-gabz-hornys', 'cfx-gabz-impound', 'cfx-gabz-mapdata', 'cfx-gabz-mba', 'cfx-gabz-mrpd', 'cfx-gabz-pacificbank', 'cfx-gabz-pdm', 'cfx-gabz-pdprops', 'cfx-gabz-pinkcage', 'cfx-gabz-ponsonbys', 'cfx-gabz-scenarios', 'cfx-gabz-studio', 'cfx-gabz-suburban', 'cfx-gabz-tattoo', 'cfx-gabz-townhall', 'cfx-gabz-tuners', 'cfx-gabz-vagos', 'cfx-gabz-vu', 'cfx-gpcus2_jakers', 'cfx-trclassic-2018cb-police', 'chat', 'chechi_samstablet', 'connectqueue', 'dagor', 'datacrack', 'dealer_map', 'devyn-backitems', 'dpclothing', 'drx_mdw', 'EMS-Ford-Raptor-Jakers', 'EMS-Ford%20Explorer-Jakers', 'firehose', 'firehosemodels', 'firescript', 'FireTools', 'FiveM-Car-Pack-1-main', 'fivem-map-skater', 'flab_cayo', 'fordambo', 'fpsbooster', 'g-billing-master', 'generic_texture_renderer_gfx', 'gigz_karting_v1.2', 'hanza-clothingv8', 'heli', 'hospital_map', 'httpmanager', 'illenium-appearance', 'inferno-ladders-reborn', 'interact-sound', 'Jakers_Containers_01', 'jakers-customs-bennys', 'jakers-paintshops-bennys', 'jg-dealerships', 'jg-textui', 'jim-catcafe', 'jim-consumables-main', 'jim-djbooth', 'jim-payments-main', 'jim-tequilala', 'jim-upnatomhorny', 'jim-vanillaunicorn', 'jobs_creator', 'jrbMods_Cayo_Open', 'k4mb1shellstarter', 'kd_custom-native', 'kd_hud-event', 'kd_towtruck', 'largeboat', 'laundry', 'lavegetation', 'lockpick', 'lux_vehcontrol', 'm-loadingscreen', 'mamba', 'Mansion_03_Rancho', 'Mansion_30_Penthouse_GC', 'map4all-pillbox', 'map4all-ss-sheriff-compatible', 'mapmanager', 'memorygame', 'menu_default', 'menuv', 'messy-vehescort', 'meta_libs', 'mhacking', 'mk-atmRobbery', 'mmladder', 'monitor', 'mt-karting', 'mystic-vehiclemenu', 'np-vegetation', 'nxp_firedepartment_LS', 'okokBilling', 'okokNotify', 'okokTextUI', 'okokTuning', 'ox_lib', 'oxmysql', 'p_com', 'ped_spawner', 'pma-voice', 'pmms', 'Police-CVPI-Jakers', 'Police-Dodge-Charger-Jakers', 'Police-Dodge-Demom-Jakers', 'Police-Ford-Raptor-Jakers', 'Police-Ford%20Explorer-Jakers', 'PolyZone', 'polyzonehelper', 'prison_canteen', 'prison_main', 'prison_meeting', 'progressbar', 'Project0_logs', 'ps-ui', 'ps-weedplanting', 'qb_rpchat', 'qb-adminmenu', 'qb-apartments', 'qb-atms', 'qb-banking', 'qb-bankrobbery', 'qb-bossmenu', 'qb-busjob', 'qb-carmenu', 'qb-CarRepairStation', 'qb-cityhall', 'qb-commandbinding', 'qb-core', 'qb-crypto', 'qb-customs', 'qb-diving', 'qb-doorlock', 'qb-drugs', 'qb-fitbit', 'qb-garages', 'qb-garbagejob', 'qb-hotdogjob', 'qb-houserobbery', 'qb-hud', 'qb-input', 'qb-interior', 'qb-jewelery', 'qb-keyminigame', 'qb-lapraces', 'qb-lift', 'qb-lock', 'qb-lockpick', 'qb-management', 'qb-mechanicjob', 'qb-menu', 'qb-multicharacter', 'qb-newsjob', 'qb-pacificheist', 'qb-pawnshop', 'qb-policejob', 'qb-printer', 'qb-prison', 'qb-radialmenu', 'qb-recyclejob', 'qb-scenes', 'qb-scoreboard', 'qb-scrapyard', 'qb-showroom', 'qb-sit', 'qb-skillbar', 'qb-smallresources', 'qb-spawn', 'qb-stashes', 'qb-storerobbery', 'qb-streetraces', 'qb-target', 'qb-taxijob', 'qb-towjob', 'qb-traphouse', 'qb-trashsearch', 'qb-truckerjob', 'qb-truckrobbery', 'qb-tunerchip', 'qb-ui', 'qb-vehiclefailure', 'qb-vehiclekeys', 'qb-vehiclesales', 'qb-vineyard', 'qb-weathersync', 'qs-advancedshops', 'qs-base', 'qs-crypto', 'qs-dispatch', 'qs-drugs', 'qs-housing', 'qs-inventory', 'qs-racing', 'qs-rental', 'qs-shops', 'qs-smartphone', 'qs-videos', 'qs-weapondraw', 'randol_moneywash', 'randol_skydiving', 'rcore_casino', 'rcore_casino_interior', 'rcore_pool', 'rcore_report', 'rdzk_c_square', 'rfc_motoclub_mlo', 'rpemotes', 'rtx_themepark', 'rtx_themepark_objects', 'safecracker', 'safr412', 'screenshot-basic', 'secret_room_stolen_goods', 'skillbar', 'slrr', 'smartphone_props', 'snipe-menu', 'soler', 'SouthernStyledVegetation', 'spawnmanager', 'stockade', 't1ger_gangsystem', 't1ger_lib', 'tr-blackmarket', 'tr-portable-tables', 'Ultra-Ids', 'ultra-keypackhack', 'ultra-voltlab', 'utk_fingerprint', 'utk_hackdependency', 'vms_gym', 'wasabi_ambulance', 'wasabi_bridge', 'weapon_room', 'webpack', 'xsound', 'yarn', 'zeup-stream']]\n",
      "The last index is: 42\n",
      "Scraping server 43, id is jbxp4m\n",
      "jbxp4m\n"
     ]
    },
    {
     "name": "stderr",
     "output_type": "stream",
     "text": [
      "Server Name: Dream City Global RolePlay Season 3 Beta\n"
     ]
    },
    {
     "name": "stdout",
     "output_type": "stream",
     "text": [
      "%%%%%%%%%%%%%%%%%%%%%%%%%%%%%%%%%%%%%%%%%%%%%%%%%%%%%%%%%%%%%%%%%\n",
      "Dream City Global RolePlay Season 3 Beta\n",
      "%%%%%%%%%%%%%%%%%%%%%%%%%%%%%%%%%%%%%%%%%%%%%%%%%%%%%%%%%%%%%%%%%\n"
     ]
    },
    {
     "name": "stderr",
     "output_type": "stream",
     "text": [
      "Resources: 17mov_GruppeSechs, 17mov_TreasureHunter, av_cayoheist, av_decrypt, battlepass, bit-pets, bit-vehControl, bitsound, bob74_ipl, boii-farming, bp-cars, BuilderJob, carremote, cs-earthquake, cs-stories, cs-video-call, custom-cars, dav-hotels, dpclothing, dpemotes, dr-10system, dr-admin, dr-adminlogs, dr-arcade_claw, dr-auction, dr-autocustoms, dr-Banking, dr-bodycam, dr-casino, dr-casualvehicles, dr-charcreator, dr-chat, dr-clothes, dr-cokerun, dr-coords, dr-crafting, dr-depo, dr-dispach, dr-doorlock, dr-driverschool, dr-evidence, dr-fingerprint, dr-flightschool, dr-fpsboost, dr-gameboy, dr-gangs, dr-gangscustoms, dr-hackdependency, dr-house, dr-hud, dr-illegaldrugs, dr-image_placer, dr-inventory, dr-investments, dr-jobcenter, dr-jobs, dr-loadingscreen, dr-main_menu, dr-mcdonalds, dr-mdt, dr-MeDo, dr-megaphone, dr-multicharacter, dr-notif, dr-outfitbag, dr-paintball, dr-paletoheist, dr-pausemenu, dr-pizza, dr-plate_flipper, dr-prison, dr-radar, dr-radialmenu, dr-reports, dr-robs, dr-scoreboard, dr-scripts, dr-servicescar, dr-spawn, dr-target, dr-taskbarskill, dr-trucker, dr-unionheist, dr-vipsystem, dr-WaterActivities, dream_allmaps, dream_hotel, dreamcity_swatpack, DreamPacific, fivem-appearance, ghmattimysql, hospital, hypnonema, interact-sound, k4mb1shellstarter, KillstorexQuasar_props, kq_carlift, kq_detective, kq_drifttires, kq_lootareas, kq_smugglers, lg54evoxtun, lunaticstudio_promo001, lvc, mapmanager, max_creationspack8, menuv, meta_libs, mhacking, monitor, nsr2teng, okokGarage, okokVehicleShop, ox_lib, oxmysql, pac, pac_os, PatamodsElevatorV2, patoche_plasmakart, pillboxgabz, PlasmaKart, pma-voice, police, POLICEIDO, PolyZone, qb-core, qs-housing, qs-smartphone, qs-smartphone_props, qs-videos, RageUI, rahe-boosting, rahe-hackingdevice, rcore_drunk, rcore_guidebook, rcore_pool, rtx_club, rtx_club_mlo, rtx_gym, rtx_hottub, rtx_hottub_object, rtx_scenarios, rtx_themepark, rtx_themepark_objects, rtx_tv, rtx_waterpark, screenshot-basic, snipe-mrpdscreen, ssdev_framework, ssdev_insidetrack, tgiann-radio, trailerspack, tuna_farm, ultra-keypackhack, um-prop, um-punchmachine, um-rodeo, um-rodeo-prop, VonCrastenburgLobby, webpack, wild_moving_light, wildealership, wildlab, wildlegion, wildPerico, wildpipes, wildprison, wildproscreen, wildproscreen2, wildtruck, wildv3map, wildvanilla, wildwall, windsurf, xsound, yarn\n",
      "Game type: RolePlay\n",
      "OneSync: enabled\n",
      "Language: English (United States)\n",
      "Tags: roleplay,il,rp,gang,lspd,ems,qbcore,fivem,seriousrp,cars,pmavoice\n",
      "Discord: discord.gg/xbrwr5eUPS\n",
      "map: Los Santos\n",
      "DLC level: 2699\n",
      "sv_pureLevel: 2\n",
      "can_review: true\n",
      "Owner: yuri_Muravyov\n",
      "https://servers.fivem.net/servers/detail/jor9gp\n"
     ]
    },
    {
     "name": "stdout",
     "output_type": "stream",
     "text": [
      "['Dream City Global RolePlay Season 3 Beta', 'https://servers.fivem.net/servers/detail/jbxp4m', '', 'RolePlay', 'enabled', '', 'English (United States)', 'roleplay,il,rp,gang,lspd,ems,qbcore,fivem,seriousrp,cars,pmavoice', '2699', '', 'yuri_Muravyov', '', '', ['17mov_GruppeSechs', '17mov_TreasureHunter', 'av_cayoheist', 'av_decrypt', 'battlepass', 'bit-pets', 'bit-vehControl', 'bitsound', 'bob74_ipl', 'boii-farming', 'bp-cars', 'BuilderJob', 'carremote', 'cs-earthquake', 'cs-stories', 'cs-video-call', 'custom-cars', 'dav-hotels', 'dpclothing', 'dpemotes', 'dr-10system', 'dr-admin', 'dr-adminlogs', 'dr-arcade_claw', 'dr-auction', 'dr-autocustoms', 'dr-Banking', 'dr-bodycam', 'dr-casino', 'dr-casualvehicles', 'dr-charcreator', 'dr-chat', 'dr-clothes', 'dr-cokerun', 'dr-coords', 'dr-crafting', 'dr-depo', 'dr-dispach', 'dr-doorlock', 'dr-driverschool', 'dr-evidence', 'dr-fingerprint', 'dr-flightschool', 'dr-fpsboost', 'dr-gameboy', 'dr-gangs', 'dr-gangscustoms', 'dr-hackdependency', 'dr-house', 'dr-hud', 'dr-illegaldrugs', 'dr-image_placer', 'dr-inventory', 'dr-investments', 'dr-jobcenter', 'dr-jobs', 'dr-loadingscreen', 'dr-main_menu', 'dr-mcdonalds', 'dr-mdt', 'dr-MeDo', 'dr-megaphone', 'dr-multicharacter', 'dr-notif', 'dr-outfitbag', 'dr-paintball', 'dr-paletoheist', 'dr-pausemenu', 'dr-pizza', 'dr-plate_flipper', 'dr-prison', 'dr-radar', 'dr-radialmenu', 'dr-reports', 'dr-robs', 'dr-scoreboard', 'dr-scripts', 'dr-servicescar', 'dr-spawn', 'dr-target', 'dr-taskbarskill', 'dr-trucker', 'dr-unionheist', 'dr-vipsystem', 'dr-WaterActivities', 'dream_allmaps', 'dream_hotel', 'dreamcity_swatpack', 'DreamPacific', 'fivem-appearance', 'ghmattimysql', 'hospital', 'hypnonema', 'interact-sound', 'k4mb1shellstarter', 'KillstorexQuasar_props', 'kq_carlift', 'kq_detective', 'kq_drifttires', 'kq_lootareas', 'kq_smugglers', 'lg54evoxtun', 'lunaticstudio_promo001', 'lvc', 'mapmanager', 'max_creationspack8', 'menuv', 'meta_libs', 'mhacking', 'monitor', 'nsr2teng', 'okokGarage', 'okokVehicleShop', 'ox_lib', 'oxmysql', 'pac', 'pac_os', 'PatamodsElevatorV2', 'patoche_plasmakart', 'pillboxgabz', 'PlasmaKart', 'pma-voice', 'police', 'POLICEIDO', 'PolyZone', 'qb-core', 'qs-housing', 'qs-smartphone', 'qs-smartphone_props', 'qs-videos', 'RageUI', 'rahe-boosting', 'rahe-hackingdevice', 'rcore_drunk', 'rcore_guidebook', 'rcore_pool', 'rtx_club', 'rtx_club_mlo', 'rtx_gym', 'rtx_hottub', 'rtx_hottub_object', 'rtx_scenarios', 'rtx_themepark', 'rtx_themepark_objects', 'rtx_tv', 'rtx_waterpark', 'screenshot-basic', 'snipe-mrpdscreen', 'ssdev_framework', 'ssdev_insidetrack', 'tgiann-radio', 'trailerspack', 'tuna_farm', 'ultra-keypackhack', 'um-prop', 'um-punchmachine', 'um-rodeo', 'um-rodeo-prop', 'VonCrastenburgLobby', 'webpack', 'wild_moving_light', 'wildealership', 'wildlab', 'wildlegion', 'wildPerico', 'wildpipes', 'wildprison', 'wildproscreen', 'wildproscreen2', 'wildtruck', 'wildv3map', 'wildvanilla', 'wildwall', 'windsurf', 'xsound', 'yarn']]\n",
      "The last index is: 43\n",
      "Scraping server 44, id is jor9gp\n",
      "jor9gp\n"
     ]
    },
    {
     "name": "stderr",
     "output_type": "stream",
     "text": [
      "Server Name: ^Stormless| ❌ Keine Allowlist ❌ 💵 Top Performance 💵\n"
     ]
    },
    {
     "name": "stdout",
     "output_type": "stream",
     "text": [
      "%%%%%%%%%%%%%%%%%%%%%%%%%%%%%%%%%%%%%%%%%%%%%%%%%%%%%%%%%%%%%%%%%\n",
      "^Stormless| ❌ Keine Allowlist ❌ 💵 Top Performance 💵\n",
      "%%%%%%%%%%%%%%%%%%%%%%%%%%%%%%%%%%%%%%%%%%%%%%%%%%%%%%%%%%%%%%%%%\n"
     ]
    },
    {
     "name": "stderr",
     "output_type": "stream",
     "text": [
      "Resources: 0r-carcontrol, 2na_core, 14hoe, 16exp, 16tau, 18chgr, 20tahoe, 300sl, advanced_vehicles, angelicxs-CivilianJobs, astudios-skating, async, AzurasPackV1, baseevents, bob74_ipl, brnx_galileo, brofx_mansion_03-Hannah, cfx-gabz-casino, cfx-gabz-mapdata, cfx-gabz-paletopd, cfx-gabz-pdprops, cfx-gabz-townhall, codem-bank, codem-staff, core_evidence, core_multijob, cron, datacrack, deathscreen, devcore_smokev2, DLEMS, doors_creator, dpclothing, drugs_creator, dynasty8, ebu_flatbedsv3, EclipseHospital, ed_narcohideout, EmergencyOS, es_extended, esx_addonaccount, esx_addoninventory, esx_advancedholdup, esx_ambulancejob, esx_barbershop, esx_basicneeds, esx_billing, esx_binoculars, esx_context, esx_datastore, esx_dmvschool, esx_dreamscratching, esx_factories, esx_fishing, esx_gas_station, esx_license, esx_licenseshop, esx_mechanicjob, esx_menu_default, esx_menu_dialog, esx_menu_list, esx_notify, esx_optionalneeds, esx_policejob, esx_progressbar, esx_radialmenu, esx_skin, esx_society, esx_status, esx_stores, esx_textui, esx_vehicleshop, fanonx-hunting, grs_rapd, hdigitalden, heist_location, hex_saltynui, hills-Harry, int_carmeet, interact-sound, inventory, JD_logsV3, jobs_creator, jsfour-licenseplate, k_diseases, k4mb1shellstarter, k5_documents, kiiya_eliteautos, kirche, knockspackv4, kuz_diving, La_Fuente_Blanca, La_Fuente_Blanca_Gate, lafa2k_modernhouse-smith, LegacyFuel, lems, lockpick, m-loadingscreen, m-vehicleshop, Mazda_RX7-mazfd, mChat, Meetingroomprison, mega_villa_design-Skybreake, meta_libs, monitor, msk_backpack, msk_core, msk_parachute, mt_baratie, myCardealer, myDj, myDocuments, myDrugs, myMapbuilder, myPrison, mySpeedcam, mythic_notify, NativeUI, NativeUILua_Reloaded, Nissan_Skyline4door-er34n, okokBilling, okokGarage, okokMarketplace, okokNotify, okokTextUI, ox_lib, oxmysql, Patachute, patoche_tiny_garage, pd_npc_crime_report, player-data, PolyZone, Prisoncanteen, Prisonmainblock, progressbar, progressBars, qs-base, qs-fakenumber, qs-housing, qs-racing, qs-rental, qs-sellix, qs-smartphone, qs-videos, qtarget, rconlog, rcore_beerpong, rcore_billards, rcore_casino, rims, RiP-Elevator, robberies_creator, rockstar-editor, rpemotes, rtx_carlift, rtx_carlift_objects, rtx_fireworks, rtx_scenarios, rtx_sempre_skatepark, rtx_themepark, rtx_themepark_objects, rtx_tv, rtx_wateractivities, rtx_waterpark, runcode, saltychat, saltykreis, screenshot-basic, sh-ambulanceEssentials, sh-ambulanceEssentialsAssets, sit, skater-shop, skillbar, skinchanger, sl_exclusion, sledge.dev-afk, sledge.dev-animal, sledge.dev-blips, sledge.dev-bulletproof, sledge.dev-cardamage, sledge.dev-carwash, sledge.dev-defibrillator, sledge.dev-inventory-refund, sledge.dev-moneywash, sledge.dev-scrapyard, sledge.dev-seile, sledge.dev-showHud, sledge.dev-sign, sledge.dev-tablet, sledge.dev-wedding, sledgedev-waschanlage, smartphone_props, smx_cars, spawnmanager, speedo-express, stormless_adminduty, stormless_core, stormless_help, stormless_items, stormless_lifeinvader, stormless_maps, stormless_notify, surfboard, test_script, tgm_legion, trailers, truck_logistics, trucks, TunningSystem, UltraAC, utk_fingerprint, utk_hackdependency, vengine, vinewood_hills_mansion-Flo, vms_charcreator, vms_clothestore, vms_identity, vms_multichars, wais-hudv4, warehouseport, wasabi_crutch, weather_sync, webpack, werkstatt, WestonMansion-Opi, xnTattoos, xsound, yarn, z_clothes, ziptie\n",
      "Game type: ESX Legacy\n",
      "Map: San Andreas\n",
      "OneSync: enabled\n",
      "Language: German (Germany)\n",
      "Tags: roleplay, midcore, german, ger, deutsch, ******chat, esx, whitelist, rp,esx\n",
      "Allowlist: Discord Allowlist\n",
      "Discord: stormless-discord.de\n",
      "Modded: Fahrzeuge | Kleidung | Maps\n",
      "TeamSpeak: stormlessrp\n",
      "DLC level: 2699\n",
      "sv_pureLevel: 0\n",
      "Owner: smx.pusha\n",
      "https://servers.fivem.net/servers/detail/jodbjm\n"
     ]
    },
    {
     "name": "stdout",
     "output_type": "stream",
     "text": [
      "['^Stormless| ❌ Keine Allowlist ❌ 💵 Top Performance 💵', 'https://servers.fivem.net/servers/detail/jor9gp', '', 'ESX Legacy', 'enabled', 'San Andreas', 'German (Germany)', 'roleplay, midcore, german, ger, deutsch, ******chat, esx, whitelist, rp,esx', '2699', '', 'smx.pusha', '', '', ['0r-carcontrol', '2na_core', '14hoe', '16exp', '16tau', '18chgr', '20tahoe', '300sl', 'advanced_vehicles', 'angelicxs-CivilianJobs', 'astudios-skating', 'async', 'AzurasPackV1', 'baseevents', 'bob74_ipl', 'brnx_galileo', 'brofx_mansion_03-Hannah', 'cfx-gabz-casino', 'cfx-gabz-mapdata', 'cfx-gabz-paletopd', 'cfx-gabz-pdprops', 'cfx-gabz-townhall', 'codem-bank', 'codem-staff', 'core_evidence', 'core_multijob', 'cron', 'datacrack', 'deathscreen', 'devcore_smokev2', 'DLEMS', 'doors_creator', 'dpclothing', 'drugs_creator', 'dynasty8', 'ebu_flatbedsv3', 'EclipseHospital', 'ed_narcohideout', 'EmergencyOS', 'es_extended', 'esx_addonaccount', 'esx_addoninventory', 'esx_advancedholdup', 'esx_ambulancejob', 'esx_barbershop', 'esx_basicneeds', 'esx_billing', 'esx_binoculars', 'esx_context', 'esx_datastore', 'esx_dmvschool', 'esx_dreamscratching', 'esx_factories', 'esx_fishing', 'esx_gas_station', 'esx_license', 'esx_licenseshop', 'esx_mechanicjob', 'esx_menu_default', 'esx_menu_dialog', 'esx_menu_list', 'esx_notify', 'esx_optionalneeds', 'esx_policejob', 'esx_progressbar', 'esx_radialmenu', 'esx_skin', 'esx_society', 'esx_status', 'esx_stores', 'esx_textui', 'esx_vehicleshop', 'fanonx-hunting', 'grs_rapd', 'hdigitalden', 'heist_location', 'hex_saltynui', 'hills-Harry', 'int_carmeet', 'interact-sound', 'inventory', 'JD_logsV3', 'jobs_creator', 'jsfour-licenseplate', 'k_diseases', 'k4mb1shellstarter', 'k5_documents', 'kiiya_eliteautos', 'kirche', 'knockspackv4', 'kuz_diving', 'La_Fuente_Blanca', 'La_Fuente_Blanca_Gate', 'lafa2k_modernhouse-smith', 'LegacyFuel', 'lems', 'lockpick', 'm-loadingscreen', 'm-vehicleshop', 'Mazda_RX7-mazfd', 'mChat', 'Meetingroomprison', 'mega_villa_design-Skybreake', 'meta_libs', 'monitor', 'msk_backpack', 'msk_core', 'msk_parachute', 'mt_baratie', 'myCardealer', 'myDj', 'myDocuments', 'myDrugs', 'myMapbuilder', 'myPrison', 'mySpeedcam', 'mythic_notify', 'NativeUI', 'NativeUILua_Reloaded', 'Nissan_Skyline4door-er34n', 'okokBilling', 'okokGarage', 'okokMarketplace', 'okokNotify', 'okokTextUI', 'ox_lib', 'oxmysql', 'Patachute', 'patoche_tiny_garage', 'pd_npc_crime_report', 'player-data', 'PolyZone', 'Prisoncanteen', 'Prisonmainblock', 'progressbar', 'progressBars', 'qs-base', 'qs-fakenumber', 'qs-housing', 'qs-racing', 'qs-rental', 'qs-sellix', 'qs-smartphone', 'qs-videos', 'qtarget', 'rconlog', 'rcore_beerpong', 'rcore_billards', 'rcore_casino', 'rims', 'RiP-Elevator', 'robberies_creator', 'rockstar-editor', 'rpemotes', 'rtx_carlift', 'rtx_carlift_objects', 'rtx_fireworks', 'rtx_scenarios', 'rtx_sempre_skatepark', 'rtx_themepark', 'rtx_themepark_objects', 'rtx_tv', 'rtx_wateractivities', 'rtx_waterpark', 'runcode', 'saltychat', 'saltykreis', 'screenshot-basic', 'sh-ambulanceEssentials', 'sh-ambulanceEssentialsAssets', 'sit', 'skater-shop', 'skillbar', 'skinchanger', 'sl_exclusion', 'sledge.dev-afk', 'sledge.dev-animal', 'sledge.dev-blips', 'sledge.dev-bulletproof', 'sledge.dev-cardamage', 'sledge.dev-carwash', 'sledge.dev-defibrillator', 'sledge.dev-inventory-refund', 'sledge.dev-moneywash', 'sledge.dev-scrapyard', 'sledge.dev-seile', 'sledge.dev-showHud', 'sledge.dev-sign', 'sledge.dev-tablet', 'sledge.dev-wedding', 'sledgedev-waschanlage', 'smartphone_props', 'smx_cars', 'spawnmanager', 'speedo-express', 'stormless_adminduty', 'stormless_core', 'stormless_help', 'stormless_items', 'stormless_lifeinvader', 'stormless_maps', 'stormless_notify', 'surfboard', 'test_script', 'tgm_legion', 'trailers', 'truck_logistics', 'trucks', 'TunningSystem', 'UltraAC', 'utk_fingerprint', 'utk_hackdependency', 'vengine', 'vinewood_hills_mansion-Flo', 'vms_charcreator', 'vms_clothestore', 'vms_identity', 'vms_multichars', 'wais-hudv4', 'warehouseport', 'wasabi_crutch', 'weather_sync', 'webpack', 'werkstatt', 'WestonMansion-Opi', 'xnTattoos', 'xsound', 'yarn', 'z_clothes', 'ziptie']]\n",
      "The last index is: 44\n",
      "Scraping server 45, id is jodbjm\n",
      "jodbjm\n"
     ]
    },
    {
     "name": "stderr",
     "output_type": "stream",
     "text": [
      "Resources: _EDA_01, 23ChargerSuperbee, A1Box, A1Charger, aiemsv2, AirsoftGlock20, AirsoftM4, AirsoftMP5, AirsoftR870, ak4y-playTimeShop, ak47_business, ak47_cannabiscafev2, ak47_clothing, ak47_drugmanager, ak47_garbagejob, ak47_iclothingv2, ak47_idcard, ak47_smokingv2, ak47_stance, ak47_usabledrugs, ak47_whitewidowv2, allbrims, amb-raton-rebels, ApertaDRCustoM, async, azurapackv2, bb-dices, beanbag-shotgun, bennylift, bikes, blackmarket, blips, bob74_ipl, Boost-Discord, breze_wingstop, Brofx_Villa05_2022, CalmAI, car-pack1, car-pack2, car-pack3, car-pack4, car-pack5, car-pack6, car-pack7, car-pack8, Carlock, carpack, carpack02, cd_easytime, cfx-gabz-247, cfx-gabz-altruists, cfx-gabz-arcade, cfx-gabz-atom, cfx-gabz-aztecas, cfx-gabz-bahama, cfx-gabz-barber, cfx-gabz-binco, cfx-gabz-carmeet, cfx-gabz-casino, cfx-gabz-catcafe, cfx-gabz-davispd, cfx-gabz-diner, cfx-gabz-esbltd, cfx-gabz-families, cfx-gabz-harmony, cfx-gabz-haters, cfx-gabz-hayes, cfx-gabz-import, cfx-gabz-lamesapd, cfx-gabz-lost, cfx-gabz-lostsc, cfx-gabz-lscustoms, cfx-gabz-mapdata, cfx-gabz-marabunta, cfx-gabz-mba, cfx-gabz-mirrorpark1, cfx-gabz-mrpd, cfx-gabz-paletobank, cfx-gabz-paletoliquor, cfx-gabz-paletopd, cfx-gabz-parkranger, cfx-gabz-pdm, cfx-gabz-pdprops, cfx-gabz-pillbox, cfx-gabz-pinkcage, cfx-gabz-ponsonbys, cfx-gabz-prison, cfx-gabz-records, cfx-gabz-sandypd, cfx-gabz-scenarios, cfx-gabz-studio, cfx-gabz-suburban, cfx-gabz-tattoo, cfx-gabz-townhall, cfx-gabz-tuners, cfx-gabz-vagos, cfx-gabz-vbmarket, cfx-gabz-weedcamp, cfx-gabz-yachts, cfx-nteam-legion-square-extended, ChargerSuperbeeCWB23, chat, ChickFilA, chrcst, CodeM-Venice-MeDo, Cookiesv2, cookiez, cron, customizedmalibumansion, ddcred, desert_mansion, disabledispatch, DoItDigital_100_Weapon_pack, dominos, dons_hotel_1a, drugs_creator, Dunkin, EasyAdmin, emspack, es_extended, esx_addonaccount, esx_addoninventory, esx_banking, esx_basicneeds, esx_billing, esx_boat, esx_communityservice, esx_context, esx_contract, esx_datastore, esx_dmvschool, esx_givevehicle, esx_hungersounds, esx_identity, esx_joblisting, esx_jobs, esx_license, esx_lscustom, esx_mechanicjob, esx_mechanicjob1, esx_mechanicjob3, esx_mechanicjob4, esx_mechanicjob5, esx_mechanicjob6, esx_menu_default, esx_menu_dialog, esx_menu_list, esx_multicharacter, esx_notify, esx_optionalneeds, esx_progressbar, esx_property, esx_service, esx_sit, esx_society, esx_solar_shops, esx_status, esx_taxijob, esx_textui, esx_vehicleshop, esx-jewelry, esx-kr-vehicle-push, Fahi_Lakemansion, families, Farm_paleto, fiv3devs_blazeit, fiv3devs_headquarters, fiv3devs_risingsun, fivem-logs, fivem-realisticvehicle, flexxrims, FM-AmmunationPUB, FNFiveSeven, french_villa, generic_texture_renderer_gfx, gks_ebay, gks_gotur, gks_racing, gks_rentacar, gksphone, Grove-Street-Compound, Gwop300Redeye, handsup, hellehawk, hollywoodiownu_kush, hqb2, iak_Cartel_Ranch_Project_House_Tunnel, ice_jewellery, int_jdmhub, ipls_resource, jdm_scenario, jdrims, jobs_creator, K_FRAUDATMS, K_FRAUDPROPS, K_FRAUDSHOPS, K_FRAUDV2, k_sexv, K4MB1-AllShellsSubPack, kevlar, Knockout, knockspackv4, kyros_emotesv2, kyros-weapon-pack-female, kyros-weapon-pack-police, kyros-weapon-pack-v1, kyros-weapon-pack-v2, kyros-weapon-pack-v3, kyros-weapon-pack-v4, Kyrosfemalepack, LegacyFuel, linden_outlawalert, Liquors_Chamberlain, lmx_repairstation, loadingscreen, loaf_billing, loaf_garage, loaf_hospitalbed, loaf_housing, loaf_keysystem, loaf_lib, loaf_realtor, lvc, Mafia_Hotel_UncleJust, mafia_mansion, Maiquel_Arcade, mandem, Mansion_01_Rancho_2, Mansion_02_Brofx_10, Mansion_04_Brofx_06, Mansion_12_Brofx_08_v2, Mansion_14_Brofx_03, Mansion_16_Piscina, Mansion_17_Rockfordhills_Brick_Mansion, Mansion_18_Breze_Mafia, Mansion_22_Brofx_Villa_01, Mansion_23_Brofx_Villa_04, Mansion_24_Brofx_09, Mansion_Brofx_Villa_02, Mansion_Brofx_Villa_05, Marc_Unicornv2, mega_villa_design, meta_libs, MilosPlayaDelSeville, monitor, multi_zones, munity_hookies, mythic_hospital, mythic_notify, mythic_progbar, noviteccullinan, Np-pack, np-police, okokChatV2, okokCrafting, okokDelVehicles, okokNotify, okokTextUI, OT_weaponrepair, ox_doorlock, ox_inventory, ox_lib, ox_target, oxmysql, pacificbank, palmtrees, Pata_BabyProps, PataBabyScript, patoche_bigbenny_original, patoche_plasmagame, pearls, pinnkys, PlasmaGame, pma-voice, PolyZone, pressurewasher, pressurewashermodels, progressbar, progressBars, qs-drugs, r_pepperspray, RageUI, raid_cars, rcore_arcade, rcore_basketball, rcore_basketball_assets, rcore_bowling, rcore_casino, rcore_prison, rcore_prison_models_gabz, rcore_prison_scenarios, rcore_radiocar, ReaperAC, RedeyeSuperstockSCV2, renzu_customs, repacement-guns, ribarena, ribtrack, richman_house, rims2, rprogress, rr_keyfob, rtx_tv, rtx_weapon_bunker, russ_grove, sat-map, scamlife_hackdependency, scamlife_humanelabsheist, scamlife_pacificheist, scamlife-radio, shark_client_scripts, simple-pt, skinchanger, sou_esc, spawnmanager, st-hud, starmansion, stasiek_selldrugsv2, strechedrims, tgiann-core, tgiann-naked, tgiann-naked-assets, the_morgan_bullhead, tk_Chicago001, tk_oblocklester, Topic-CombineItems, traffic, trailers, trucks, uj_hrschool, vagosnew, vehcontrol, vice_city_loft, vinewood_hills_mansion, Vinewood_LVilla, wasabi_ambulance, wasabi_bridge, wasabi_fishing, wasabi_mining, wasabi_multijob, wasabi_police, WC_Pack_Armored_Cars, weaponrepair, webpack, white_widow, WiseGuy-Audio, WiseGuy-UC, WiseGuy-Vanilla, WiseGuy-Wheels, Wolfhouse_Reticle_Remove, workshop_mlo1, xdiskjockey, xn-mdt, xsound, yaluxe, yarn\n",
      "Game type: ESX Legacy\n",
      "Map: San Andreas\n",
      "OneSync: enabled\n",
      "Language: English (United States)\n",
      "Tags: rp, roleplay, doj, dojrp, customcars, CustomCars, Economy, Drugs, Gangs, Cops, Realistic, SeriousRP, seriousrp, serious, esx, ems, police, cad, cars,esx\n",
      "Developer Discord: limaxdev\n",
      "Server Discord: discord.gg/ZRVYWjUWH4\n",
      "DLC level: 2699\n",
      "sv_pureLevel: 0\n",
      "can_review: true\n",
      "Owner: ROCKSTEADYGAMEZ\n",
      "https://servers.fivem.net/servers/detail/be3zop\n"
     ]
    },
    {
     "name": "stdout",
     "output_type": "stream",
     "text": [
      "['', 'https://servers.fivem.net/servers/detail/jodbjm', '', 'ESX Legacy', 'enabled', 'San Andreas', 'English (United States)', 'rp, roleplay, doj, dojrp, customcars, CustomCars, Economy, Drugs, Gangs, Cops, Realistic, SeriousRP, seriousrp, serious, esx, ems, police, cad, cars,esx', '2699', '', 'ROCKSTEADYGAMEZ', '', '', ['_EDA_01', '23ChargerSuperbee', 'A1Box', 'A1Charger', 'aiemsv2', 'AirsoftGlock20', 'AirsoftM4', 'AirsoftMP5', 'AirsoftR870', 'ak4y-playTimeShop', 'ak47_business', 'ak47_cannabiscafev2', 'ak47_clothing', 'ak47_drugmanager', 'ak47_garbagejob', 'ak47_iclothingv2', 'ak47_idcard', 'ak47_smokingv2', 'ak47_stance', 'ak47_usabledrugs', 'ak47_whitewidowv2', 'allbrims', 'amb-raton-rebels', 'ApertaDRCustoM', 'async', 'azurapackv2', 'bb-dices', 'beanbag-shotgun', 'bennylift', 'bikes', 'blackmarket', 'blips', 'bob74_ipl', 'Boost-Discord', 'breze_wingstop', 'Brofx_Villa05_2022', 'CalmAI', 'car-pack1', 'car-pack2', 'car-pack3', 'car-pack4', 'car-pack5', 'car-pack6', 'car-pack7', 'car-pack8', 'Carlock', 'carpack', 'carpack02', 'cd_easytime', 'cfx-gabz-247', 'cfx-gabz-altruists', 'cfx-gabz-arcade', 'cfx-gabz-atom', 'cfx-gabz-aztecas', 'cfx-gabz-bahama', 'cfx-gabz-barber', 'cfx-gabz-binco', 'cfx-gabz-carmeet', 'cfx-gabz-casino', 'cfx-gabz-catcafe', 'cfx-gabz-davispd', 'cfx-gabz-diner', 'cfx-gabz-esbltd', 'cfx-gabz-families', 'cfx-gabz-harmony', 'cfx-gabz-haters', 'cfx-gabz-hayes', 'cfx-gabz-import', 'cfx-gabz-lamesapd', 'cfx-gabz-lost', 'cfx-gabz-lostsc', 'cfx-gabz-lscustoms', 'cfx-gabz-mapdata', 'cfx-gabz-marabunta', 'cfx-gabz-mba', 'cfx-gabz-mirrorpark1', 'cfx-gabz-mrpd', 'cfx-gabz-paletobank', 'cfx-gabz-paletoliquor', 'cfx-gabz-paletopd', 'cfx-gabz-parkranger', 'cfx-gabz-pdm', 'cfx-gabz-pdprops', 'cfx-gabz-pillbox', 'cfx-gabz-pinkcage', 'cfx-gabz-ponsonbys', 'cfx-gabz-prison', 'cfx-gabz-records', 'cfx-gabz-sandypd', 'cfx-gabz-scenarios', 'cfx-gabz-studio', 'cfx-gabz-suburban', 'cfx-gabz-tattoo', 'cfx-gabz-townhall', 'cfx-gabz-tuners', 'cfx-gabz-vagos', 'cfx-gabz-vbmarket', 'cfx-gabz-weedcamp', 'cfx-gabz-yachts', 'cfx-nteam-legion-square-extended', 'ChargerSuperbeeCWB23', 'chat', 'ChickFilA', 'chrcst', 'CodeM-Venice-MeDo', 'Cookiesv2', 'cookiez', 'cron', 'customizedmalibumansion', 'ddcred', 'desert_mansion', 'disabledispatch', 'DoItDigital_100_Weapon_pack', 'dominos', 'dons_hotel_1a', 'drugs_creator', 'Dunkin', 'EasyAdmin', 'emspack', 'es_extended', 'esx_addonaccount', 'esx_addoninventory', 'esx_banking', 'esx_basicneeds', 'esx_billing', 'esx_boat', 'esx_communityservice', 'esx_context', 'esx_contract', 'esx_datastore', 'esx_dmvschool', 'esx_givevehicle', 'esx_hungersounds', 'esx_identity', 'esx_joblisting', 'esx_jobs', 'esx_license', 'esx_lscustom', 'esx_mechanicjob', 'esx_mechanicjob1', 'esx_mechanicjob3', 'esx_mechanicjob4', 'esx_mechanicjob5', 'esx_mechanicjob6', 'esx_menu_default', 'esx_menu_dialog', 'esx_menu_list', 'esx_multicharacter', 'esx_notify', 'esx_optionalneeds', 'esx_progressbar', 'esx_property', 'esx_service', 'esx_sit', 'esx_society', 'esx_solar_shops', 'esx_status', 'esx_taxijob', 'esx_textui', 'esx_vehicleshop', 'esx-jewelry', 'esx-kr-vehicle-push', 'Fahi_Lakemansion', 'families', 'Farm_paleto', 'fiv3devs_blazeit', 'fiv3devs_headquarters', 'fiv3devs_risingsun', 'fivem-logs', 'fivem-realisticvehicle', 'flexxrims', 'FM-AmmunationPUB', 'FNFiveSeven', 'french_villa', 'generic_texture_renderer_gfx', 'gks_ebay', 'gks_gotur', 'gks_racing', 'gks_rentacar', 'gksphone', 'Grove-Street-Compound', 'Gwop300Redeye', 'handsup', 'hellehawk', 'hollywoodiownu_kush', 'hqb2', 'iak_Cartel_Ranch_Project_House_Tunnel', 'ice_jewellery', 'int_jdmhub', 'ipls_resource', 'jdm_scenario', 'jdrims', 'jobs_creator', 'K_FRAUDATMS', 'K_FRAUDPROPS', 'K_FRAUDSHOPS', 'K_FRAUDV2', 'k_sexv', 'K4MB1-AllShellsSubPack', 'kevlar', 'Knockout', 'knockspackv4', 'kyros_emotesv2', 'kyros-weapon-pack-female', 'kyros-weapon-pack-police', 'kyros-weapon-pack-v1', 'kyros-weapon-pack-v2', 'kyros-weapon-pack-v3', 'kyros-weapon-pack-v4', 'Kyrosfemalepack', 'LegacyFuel', 'linden_outlawalert', 'Liquors_Chamberlain', 'lmx_repairstation', 'loadingscreen', 'loaf_billing', 'loaf_garage', 'loaf_hospitalbed', 'loaf_housing', 'loaf_keysystem', 'loaf_lib', 'loaf_realtor', 'lvc', 'Mafia_Hotel_UncleJust', 'mafia_mansion', 'Maiquel_Arcade', 'mandem', 'Mansion_01_Rancho_2', 'Mansion_02_Brofx_10', 'Mansion_04_Brofx_06', 'Mansion_12_Brofx_08_v2', 'Mansion_14_Brofx_03', 'Mansion_16_Piscina', 'Mansion_17_Rockfordhills_Brick_Mansion', 'Mansion_18_Breze_Mafia', 'Mansion_22_Brofx_Villa_01', 'Mansion_23_Brofx_Villa_04', 'Mansion_24_Brofx_09', 'Mansion_Brofx_Villa_02', 'Mansion_Brofx_Villa_05', 'Marc_Unicornv2', 'mega_villa_design', 'meta_libs', 'MilosPlayaDelSeville', 'monitor', 'multi_zones', 'munity_hookies', 'mythic_hospital', 'mythic_notify', 'mythic_progbar', 'noviteccullinan', 'Np-pack', 'np-police', 'okokChatV2', 'okokCrafting', 'okokDelVehicles', 'okokNotify', 'okokTextUI', 'OT_weaponrepair', 'ox_doorlock', 'ox_inventory', 'ox_lib', 'ox_target', 'oxmysql', 'pacificbank', 'palmtrees', 'Pata_BabyProps', 'PataBabyScript', 'patoche_bigbenny_original', 'patoche_plasmagame', 'pearls', 'pinnkys', 'PlasmaGame', 'pma-voice', 'PolyZone', 'pressurewasher', 'pressurewashermodels', 'progressbar', 'progressBars', 'qs-drugs', 'r_pepperspray', 'RageUI', 'raid_cars', 'rcore_arcade', 'rcore_basketball', 'rcore_basketball_assets', 'rcore_bowling', 'rcore_casino', 'rcore_prison', 'rcore_prison_models_gabz', 'rcore_prison_scenarios', 'rcore_radiocar', 'ReaperAC', 'RedeyeSuperstockSCV2', 'renzu_customs', 'repacement-guns', 'ribarena', 'ribtrack', 'richman_house', 'rims2', 'rprogress', 'rr_keyfob', 'rtx_tv', 'rtx_weapon_bunker', 'russ_grove', 'sat-map', 'scamlife_hackdependency', 'scamlife_humanelabsheist', 'scamlife_pacificheist', 'scamlife-radio', 'shark_client_scripts', 'simple-pt', 'skinchanger', 'sou_esc', 'spawnmanager', 'st-hud', 'starmansion', 'stasiek_selldrugsv2', 'strechedrims', 'tgiann-core', 'tgiann-naked', 'tgiann-naked-assets', 'the_morgan_bullhead', 'tk_Chicago001', 'tk_oblocklester', 'Topic-CombineItems', 'traffic', 'trailers', 'trucks', 'uj_hrschool', 'vagosnew', 'vehcontrol', 'vice_city_loft', 'vinewood_hills_mansion', 'Vinewood_LVilla', 'wasabi_ambulance', 'wasabi_bridge', 'wasabi_fishing', 'wasabi_mining', 'wasabi_multijob', 'wasabi_police', 'WC_Pack_Armored_Cars', 'weaponrepair', 'webpack', 'white_widow', 'WiseGuy-Audio', 'WiseGuy-UC', 'WiseGuy-Vanilla', 'WiseGuy-Wheels', 'Wolfhouse_Reticle_Remove', 'workshop_mlo1', 'xdiskjockey', 'xn-mdt', 'xsound', 'yaluxe', 'yarn']]\n",
      "The last index is: 45\n",
      "Scraping server 46, id is be3zop\n",
      "be3zop\n"
     ]
    },
    {
     "name": "stderr",
     "output_type": "stream",
     "text": [
      "Server Name: 雾都生活服 招警局医护黑帮团队入住 Q群:600063533 招职业入住 欧卡 自营油站 自营车店 帮派战争 FPS优化\n"
     ]
    },
    {
     "name": "stdout",
     "output_type": "stream",
     "text": [
      "%%%%%%%%%%%%%%%%%%%%%%%%%%%%%%%%%%%%%%%%%%%%%%%%%%%%%%%%%%%%%%%%%\n",
      "雾都生活服 招警局医护黑帮团队入住 Q群:600063533 招职业入住 欧卡 自营油站 自营车店 帮派战争 FPS优化\n",
      "%%%%%%%%%%%%%%%%%%%%%%%%%%%%%%%%%%%%%%%%%%%%%%%%%%%%%%%%%%%%%%%%%\n"
     ]
    },
    {
     "name": "stderr",
     "output_type": "stream",
     "text": [
      "Resources: 8MLegionSquare, 21ramtrx, 23rs7, 599xxevo, 720op, 720ps, 911eng, 2023, 2024, 2025, 2026, 2077K, 2222, activity-car, actros, ACTRPavant, AI-Doctor, ak47g, AK47PREDATOR, ak4777, akblue, ApertaDRCustoM, apolloevo553, appistol, ardentaq, asedrussounds, assaultriflemk2, aston59v12, ataGarage, AuraEffect, b2k-minimap, BAGER, BarrettM82A1Destruction, baseevents, BAST2KSHOPVALENTINE, Bearcat, BerserkerAxe, blips_creator, blsian, bnr34ffeng, bob74_ipl, bound, brnx_mecanica, brnx_supermechanic, brofx_mansion_14, bubbleship, bullpupriflemk2, by17m760i, carbineriflemk2, carsounds, caruby_farmer, cayo_map, CBR650R, CBR1000RRR, cd_keymaster, century1999, chalet, chat, chat-theme-civlifechat, china_wudu, CLAWS, clipe8, clothes, clothes-3, ColaTruck, combatmg, comet2, cron, crxdgfd, cygshotgun, d999, daf, daily, dano_armas, dathr, default-blips, deluxo, devcore_smoke, disabledispatch, DLC, Dnotif, doping8, dpemotes, DRAGUNITE, drugs_creator, DS-Casino, dz-love, e63amg, east_crypto_escrow, EasyAdmin, eden_jail, el_business, electric-skateboard, ELS-FiveM, elsdengguangzengqiang, entityxf, es_extended, EssaFPSBoost, esx_accessories, esx_addonaccount, esx_addoninventory, esx_advancedholdup, esx_ambulancejob, esx_bankerjob, esx_banking, esx_barbershop, esx_basicneeds, esx_billing, esx_carwash, esx_communityservice, esx_datastore, esx_dmvschool, esx_duty, esx_extraitems, esx_fuel, esx_gasstation, esx_giveallplayers, esx_givevehicle, esx_hifi, esx_holdup, esx_identity, esx_illegal, esx_joblisting, esx_jobs, esx_ktackle, esx_lapraces, esx_license, esx_menu_default, esx_menu_dialog, esx_menu_list, esx_moneywash, esx_notify, esx_np_skinshop_v2, esx_plasticsurgery, esx_police, esx_PoliceArmory, esx_policedog, esx_progressbar, esx_scratchoffs, esx_service, esx_sit, esx_skin, esx_smerfikkrowy, esx_society, esx_status, esx_tax, esx_textui, esx_vehicleshop, esx_wanted, esx-qalle-jail, eup-gj, eup-stream, eup-ui, evo2, ewmrpd, fanonx-hunting, fc918lbwk, ferrari812super, flag, fox, freebocvanquish, fxxkevo, gacha_peds, gb-assets, gfly, Gladius, goldwing, GreenDragonCrescentBlade, GT500, gtraimgain, h22r, haitun, hatchet, heavysnipermk2, hfm_futerbenzcar, hgv12po, high_phone, hospital, ikea, instance, interact-sound, inventory, it8yaya, itachiMustang, j31, JD_playerID, jobs_creator, KillerI8, knife34, knight, ktm1290r, lafa2k_modernhouse, laferrar1234, lbperfs, lbperfs256, lccontbentleyanim, LCVXR3060, lightbars, lightbarScript, lincolnlimo, lls-mechanic, Loading, loaf_housing, loaf_keysystem, loaf_lib, lowriderb, lp770cop, lp7000, luxeoperator, m4a1gys_gold, m4a1gys_red, M4A1SR, m5soundmod, m4857a, machette, Mafia_Hotel_UncleJust, massive9posepack_v4, maybachgls600, MayhemTattoos, mbnzc63eng, mhacking, mig, minimap_cayo, MiniMarioV4, modgaryadr8, monitor, mythic_notify, nb-taximeter, Nemesis_Big, Nico_AED, Nico_BusJob, Nico_HauntedHouse, Nico_JobRelease, Nico_JobShop, Nico_JobShop_2, Nico_NpcHP, Nico_PlayerDiedBot, Nico_Pokemon, Nico_PokemonTCG, Nico_ZombieZone, nl_scoreboard, NoNPC, nonpcdrop, notz_hand9effect, notz_slide10, notz_weapon, nvis74, nvis74f, nz_collection, oc_hud_v2, ocrp_postal_map, okokContract, okokMarketplace, okokNotify, okokTextUI, okokVehicleShop, ox_lib, oxmysql, oycs680, Patachute, patoche_billiard, patoche_bridge, patoche_littlehouse, pd19ram, pd458wb1, peds, petris-serverlogs, pink9, Placojeep, Plame_Dealership, pm4, pma-voice, policetraining, PolyZone, progressBars, PunchEffect, puntest, qalle_policearmory, qalle-wheelchair, r8lms, r8prisk, r34h, r35kreamm, r35sound, r1250r, RageUI, Ranch-De-Caniche, RANCHOPD, rcore_guidebook, rcore_pool, rcore_spray_assets, rcore_xgifts, rd, rdzk_aiad_replaced_fib, RealisticVehicleFailure, revolver, rimac, rmodm4n, rmodveneno, robowalle, rrst, RT_IdleReward, RT_LuckyMoney, rx-clothes, s14khr2, s1000drag, sama8, School, scotty-gachapon, screenshot-basic, secret_weed_farm, SG_CROWN86, shark, Shells, shotspotter, showcar-standalone, sj315ti, skate, skinchanger, skyline, sniperrifle, soctaviaban, spawnmanager, sqz_switchjob, st-cctv, starhero, static-zones, stretcher, stretcher_props, svjroa777444, tagt3flat6, tayamahar1, terrorv2, Time, titansound, trans_mbenzarocs, trew_hud_ui, TunasTruckJob, urustc, valor9rb, Vandal, vehcontrol, vehicle_names, vehicles_keys, Vip1, Vip2, VisualSettings, vMenu, vSync, wasabi_fishing, wd_del, webpack, WeedFarm, western_dealership, wles8, wm-serversirens, wmf4096, xds_motec_liwa, xds_motec_liwa_2, xds_motec_liwa_3r2ob, xds_motec_liwa_garage, xds_motec_liwa_hospital, xds_motec_liwa_stadium, xds_motec_liwa_station_garage, xds_roads_v4, xnTattoos, xsound, xxxxss, yaiba, yarn, yifu, ytpeffect, z4_hoodies\n",
      "Game type: ESX Legacy\n",
      "Map: San Andreas\n",
      "OneSync: enabled\n",
      "Language: Chinese (China)\n",
      "Tags: 听风,esx\n",
      "DLC level: Cayo Perico Heist\n",
      "sv_pureLevel: 0\n",
      "Owner: T0PKing\n",
      "https://servers.fivem.net/servers/detail/pkm7vy\n"
     ]
    },
    {
     "name": "stdout",
     "output_type": "stream",
     "text": [
      "['雾都生活服 招警局医护黑帮团队入住 Q群:600063533 招职业入住 欧卡 自营油站 自营车店 帮派战争 FPS优化', 'https://servers.fivem.net/servers/detail/be3zop', '', 'ESX Legacy', 'enabled', 'San Andreas', 'Chinese (China)', '听风,esx', 'Cayo Perico Heist', '', 'T0PKing', '', '', ['8MLegionSquare', '21ramtrx', '23rs7', '599xxevo', '720op', '720ps', '911eng', '2023', '2024', '2025', '2026', '2077K', '2222', 'activity-car', 'actros', 'ACTRPavant', 'AI-Doctor', 'ak47g', 'AK47PREDATOR', 'ak4777', 'akblue', 'ApertaDRCustoM', 'apolloevo553', 'appistol', 'ardentaq', 'asedrussounds', 'assaultriflemk2', 'aston59v12', 'ataGarage', 'AuraEffect', 'b2k-minimap', 'BAGER', 'BarrettM82A1Destruction', 'baseevents', 'BAST2KSHOPVALENTINE', 'Bearcat', 'BerserkerAxe', 'blips_creator', 'blsian', 'bnr34ffeng', 'bob74_ipl', 'bound', 'brnx_mecanica', 'brnx_supermechanic', 'brofx_mansion_14', 'bubbleship', 'bullpupriflemk2', 'by17m760i', 'carbineriflemk2', 'carsounds', 'caruby_farmer', 'cayo_map', 'CBR650R', 'CBR1000RRR', 'cd_keymaster', 'century1999', 'chalet', 'chat', 'chat-theme-civlifechat', 'china_wudu', 'CLAWS', 'clipe8', 'clothes', 'clothes-3', 'ColaTruck', 'combatmg', 'comet2', 'cron', 'crxdgfd', 'cygshotgun', 'd999', 'daf', 'daily', 'dano_armas', 'dathr', 'default-blips', 'deluxo', 'devcore_smoke', 'disabledispatch', 'DLC', 'Dnotif', 'doping8', 'dpemotes', 'DRAGUNITE', 'drugs_creator', 'DS-Casino', 'dz-love', 'e63amg', 'east_crypto_escrow', 'EasyAdmin', 'eden_jail', 'el_business', 'electric-skateboard', 'ELS-FiveM', 'elsdengguangzengqiang', 'entityxf', 'es_extended', 'EssaFPSBoost', 'esx_accessories', 'esx_addonaccount', 'esx_addoninventory', 'esx_advancedholdup', 'esx_ambulancejob', 'esx_bankerjob', 'esx_banking', 'esx_barbershop', 'esx_basicneeds', 'esx_billing', 'esx_carwash', 'esx_communityservice', 'esx_datastore', 'esx_dmvschool', 'esx_duty', 'esx_extraitems', 'esx_fuel', 'esx_gasstation', 'esx_giveallplayers', 'esx_givevehicle', 'esx_hifi', 'esx_holdup', 'esx_identity', 'esx_illegal', 'esx_joblisting', 'esx_jobs', 'esx_ktackle', 'esx_lapraces', 'esx_license', 'esx_menu_default', 'esx_menu_dialog', 'esx_menu_list', 'esx_moneywash', 'esx_notify', 'esx_np_skinshop_v2', 'esx_plasticsurgery', 'esx_police', 'esx_PoliceArmory', 'esx_policedog', 'esx_progressbar', 'esx_scratchoffs', 'esx_service', 'esx_sit', 'esx_skin', 'esx_smerfikkrowy', 'esx_society', 'esx_status', 'esx_tax', 'esx_textui', 'esx_vehicleshop', 'esx_wanted', 'esx-qalle-jail', 'eup-gj', 'eup-stream', 'eup-ui', 'evo2', 'ewmrpd', 'fanonx-hunting', 'fc918lbwk', 'ferrari812super', 'flag', 'fox', 'freebocvanquish', 'fxxkevo', 'gacha_peds', 'gb-assets', 'gfly', 'Gladius', 'goldwing', 'GreenDragonCrescentBlade', 'GT500', 'gtraimgain', 'h22r', 'haitun', 'hatchet', 'heavysnipermk2', 'hfm_futerbenzcar', 'hgv12po', 'high_phone', 'hospital', 'ikea', 'instance', 'interact-sound', 'inventory', 'it8yaya', 'itachiMustang', 'j31', 'JD_playerID', 'jobs_creator', 'KillerI8', 'knife34', 'knight', 'ktm1290r', 'lafa2k_modernhouse', 'laferrar1234', 'lbperfs', 'lbperfs256', 'lccontbentleyanim', 'LCVXR3060', 'lightbars', 'lightbarScript', 'lincolnlimo', 'lls-mechanic', 'Loading', 'loaf_housing', 'loaf_keysystem', 'loaf_lib', 'lowriderb', 'lp770cop', 'lp7000', 'luxeoperator', 'm4a1gys_gold', 'm4a1gys_red', 'M4A1SR', 'm5soundmod', 'm4857a', 'machette', 'Mafia_Hotel_UncleJust', 'massive9posepack_v4', 'maybachgls600', 'MayhemTattoos', 'mbnzc63eng', 'mhacking', 'mig', 'minimap_cayo', 'MiniMarioV4', 'modgaryadr8', 'monitor', 'mythic_notify', 'nb-taximeter', 'Nemesis_Big', 'Nico_AED', 'Nico_BusJob', 'Nico_HauntedHouse', 'Nico_JobRelease', 'Nico_JobShop', 'Nico_JobShop_2', 'Nico_NpcHP', 'Nico_PlayerDiedBot', 'Nico_Pokemon', 'Nico_PokemonTCG', 'Nico_ZombieZone', 'nl_scoreboard', 'NoNPC', 'nonpcdrop', 'notz_hand9effect', 'notz_slide10', 'notz_weapon', 'nvis74', 'nvis74f', 'nz_collection', 'oc_hud_v2', 'ocrp_postal_map', 'okokContract', 'okokMarketplace', 'okokNotify', 'okokTextUI', 'okokVehicleShop', 'ox_lib', 'oxmysql', 'oycs680', 'Patachute', 'patoche_billiard', 'patoche_bridge', 'patoche_littlehouse', 'pd19ram', 'pd458wb1', 'peds', 'petris-serverlogs', 'pink9', 'Placojeep', 'Plame_Dealership', 'pm4', 'pma-voice', 'policetraining', 'PolyZone', 'progressBars', 'PunchEffect', 'puntest', 'qalle_policearmory', 'qalle-wheelchair', 'r8lms', 'r8prisk', 'r34h', 'r35kreamm', 'r35sound', 'r1250r', 'RageUI', 'Ranch-De-Caniche', 'RANCHOPD', 'rcore_guidebook', 'rcore_pool', 'rcore_spray_assets', 'rcore_xgifts', 'rd', 'rdzk_aiad_replaced_fib', 'RealisticVehicleFailure', 'revolver', 'rimac', 'rmodm4n', 'rmodveneno', 'robowalle', 'rrst', 'RT_IdleReward', 'RT_LuckyMoney', 'rx-clothes', 's14khr2', 's1000drag', 'sama8', 'School', 'scotty-gachapon', 'screenshot-basic', 'secret_weed_farm', 'SG_CROWN86', 'shark', 'Shells', 'shotspotter', 'showcar-standalone', 'sj315ti', 'skate', 'skinchanger', 'skyline', 'sniperrifle', 'soctaviaban', 'spawnmanager', 'sqz_switchjob', 'st-cctv', 'starhero', 'static-zones', 'stretcher', 'stretcher_props', 'svjroa777444', 'tagt3flat6', 'tayamahar1', 'terrorv2', 'Time', 'titansound', 'trans_mbenzarocs', 'trew_hud_ui', 'TunasTruckJob', 'urustc', 'valor9rb', 'Vandal', 'vehcontrol', 'vehicle_names', 'vehicles_keys', 'Vip1', 'Vip2', 'VisualSettings', 'vMenu', 'vSync', 'wasabi_fishing', 'wd_del', 'webpack', 'WeedFarm', 'western_dealership', 'wles8', 'wm-serversirens', 'wmf4096', 'xds_motec_liwa', 'xds_motec_liwa_2', 'xds_motec_liwa_3r2ob', 'xds_motec_liwa_garage', 'xds_motec_liwa_hospital', 'xds_motec_liwa_stadium', 'xds_motec_liwa_station_garage', 'xds_roads_v4', 'xnTattoos', 'xsound', 'xxxxss', 'yaiba', 'yarn', 'yifu', 'ytpeffect', 'z4_hoodies']]\n",
      "The last index is: 46\n",
      "Scraping server 47, id is pkm7vy\n",
      "pkm7vy\n"
     ]
    },
    {
     "name": "stderr",
     "output_type": "stream",
     "text": [
      "Server Name: S12\n"
     ]
    },
    {
     "name": "stdout",
     "output_type": "stream",
     "text": [
      "%%%%%%%%%%%%%%%%%%%%%%%%%%%%%%%%%%%%%%%%%%%%%%%%%%%%%%%%%%%%%%%%%\n",
      "S12\n",
      "%%%%%%%%%%%%%%%%%%%%%%%%%%%%%%%%%%%%%%%%%%%%%%%%%%%%%%%%%%%%%%%%%\n"
     ]
    },
    {
     "name": "stderr",
     "output_type": "stream",
     "text": [
      "Resources: 3z_store_skins_jed, 3z_store_skins_V3, 5olyed, 7mdan, 7rs7dod, 56oyen, abomoha, abos3ody, acrp_repairkits, admin-map, ADMIN%20CAR, aimlogs, alharbiCars2, alsubaie, AM-VehControl, amn1, amn4, amn5, amn6, amn7, amn8, amn9, anasrb3, anasrb3lord, anasrb3lord56a, anasrb4, AntiFinger, AntiShuffle, areaofplay, AS-anims, async, AT-MAP1, azr8aljouf, Badger_Discord_API, borashid_mror, br__s12_car, CarryPeople, cd_easytime, chat, cinematiccam, client-R, cmr08, Compass, cooldown, cop_menu, cron, d1, d3, d4, d5, d6, d7, d8, d10, d11, d12, d13, deleteveh, DelObjGun, DiscordAcePerms, DiscordChatRoles-master, DiscordVehicleRestrictions, dnh, dpclothing, drivernoshoot, EasyAdmin, el_bwh, es_extended, esx_addonaccount, esx_addoninventory, esx_ambulancejob, esx_animations2, esx_banking, esx_billing, esx_datastore, esx_disconnect, esx_guy293_holsterweapon, esx_identity, esx_jb_stopvehicledespawn, esx_joblisting, esx_license, esx_menu_default, esx_menu_dialog, esx_menu_list, esx_notify, esx_optionalneeds, esx_policejob, esx_progressbar, esx_service, esx_shops, esx_skin, esx_society, esx_textui, esx_vehicleamn6r8, esx_vehicledmror, esx_vehicledwryat, esx_vehicleshop, esx_vehiclesrth, esx_weaponshop, F7, fahad-amn, fivem-tgiann-showid-main, fivepd, fj, FLM_14, FLM_15, FLM_16, FLM_17, Fontchange, frsre, fuel, gcom_bcab, gransd, guy293_holsterweapon, H1-Saudi-Arabia, h2015, hi1234, hideInTrunk, hiluuuxxxx11, hilux, HornFlash-master, idup, instance, interact-sound, interactSound, interiorfix, JD_logs, JF_SeatShuffle, jsfour-idcard, kl3_jail, KSA92+, lightbars, loacalcars1, loacalcars2, loadingscreen, lscustoms, Lua_stores, lul1, lux_vehcontrol, m7mds, MailarDevLoading, mapic, matus_highwaypatrol, MBS, mellotrainer, mem18, mgmap, minimap, mk, mk1, mk2, mk3, mk4, mk5, monitor, mrorv2extras, mrpd_normal, msa3d, mythic_notify, mythic_progbar, N7-Crsy, NativeUI, NativeUILua, nazy, newspacks12, nkd, NoDriveBy, NoReticle, Ojx-radialmenu, ox_doorlock, ox_lib, oxmysql, patrol, pickle_weaponthrowing, pma-voice, pNotify, PoliceEMSActivity, policev2blueextras, pressurewasher, pressurewashermodels, progressBars-1.0, qb-management-main, R1Sound, r8abh, raed, raid_clothes, rb3m66y, rb3sre, rb3y3, rb3566a, rbsre3, rbsre6, realisticvehicle, refuelingnozzle, Relax_fbiv3, Remove-NPC-Cops, RemoveAi, RemoveCops-AI, rkadh15, rockstar-s12, roleplay-commands, s67h12, sa-Pasto, sad1, sad2, sad3, sad4, sad5, sad6, sad8, sad9, sad10, sad11, sad12, sad14, sad15, sad16, sad17, sad18, sad19, sad21, sad22, sad23, sad26, sad27, sad28, sad29, sad30, sad31, sad32, sad33, sad34, sad35, sad36, sad37, sandydfa3, saudi_alam, sbe3, sbe324, sc1_sherdept, screenshot-basic, scully_radio2, SD-AutoDV, Security, securitycams, settings, shas503, sheriffsandy, showingcar, shrqpolice2, shrqpolice7, skinchanger, soundpacks12, spawnmanager, spawnselector, speedhud, speedometer, sqsrth, sre7, sre19, sre21, sre211, sre2010, sree1, srefj, srth1, srth2, srth3, srth4, srth5, sry, strawberry_gardens_verpi, SvStore_Shields, synd3, towing, tpm, traffic, Vehicle-UI, Vehicle-UI-main, vic11, Visual, watermarkkl, wk_wars2x, wyat2, x-radiolist-master, xsound, xsounddis, yarn, Yo-notify, zam\n",
      "Game type: ESX Legacy\n",
      "Map: San Andreas\n",
      "OneSync: enabled\n",
      "Language: Arabic (Saudi Arabia)\n",
      "Tags: default, esx, saudi, fivepd,esx\n",
      "owner: فهد الشراري- حمدان الشراري - سلطان الشراري\n",
      "sv_pureLevel: 0\n",
      "البرمجه: سلطان الشراري\n",
      "ديسكورد: discord.gg/s12\n",
      "Owner: SULTAN106\n",
      "https://servers.fivem.net/servers/detail/gzygkm\n"
     ]
    },
    {
     "name": "stdout",
     "output_type": "stream",
     "text": [
      "['S12', 'https://servers.fivem.net/servers/detail/pkm7vy', '', 'ESX Legacy', 'enabled', 'San Andreas', 'Arabic (Saudi Arabia)', 'default, esx, saudi, fivepd,esx', '', '', 'SULTAN106', '', '', ['3z_store_skins_jed', '3z_store_skins_V3', '5olyed', '7mdan', '7rs7dod', '56oyen', 'abomoha', 'abos3ody', 'acrp_repairkits', 'admin-map', 'ADMIN%20CAR', 'aimlogs', 'alharbiCars2', 'alsubaie', 'AM-VehControl', 'amn1', 'amn4', 'amn5', 'amn6', 'amn7', 'amn8', 'amn9', 'anasrb3', 'anasrb3lord', 'anasrb3lord56a', 'anasrb4', 'AntiFinger', 'AntiShuffle', 'areaofplay', 'AS-anims', 'async', 'AT-MAP1', 'azr8aljouf', 'Badger_Discord_API', 'borashid_mror', 'br__s12_car', 'CarryPeople', 'cd_easytime', 'chat', 'cinematiccam', 'client-R', 'cmr08', 'Compass', 'cooldown', 'cop_menu', 'cron', 'd1', 'd3', 'd4', 'd5', 'd6', 'd7', 'd8', 'd10', 'd11', 'd12', 'd13', 'deleteveh', 'DelObjGun', 'DiscordAcePerms', 'DiscordChatRoles-master', 'DiscordVehicleRestrictions', 'dnh', 'dpclothing', 'drivernoshoot', 'EasyAdmin', 'el_bwh', 'es_extended', 'esx_addonaccount', 'esx_addoninventory', 'esx_ambulancejob', 'esx_animations2', 'esx_banking', 'esx_billing', 'esx_datastore', 'esx_disconnect', 'esx_guy293_holsterweapon', 'esx_identity', 'esx_jb_stopvehicledespawn', 'esx_joblisting', 'esx_license', 'esx_menu_default', 'esx_menu_dialog', 'esx_menu_list', 'esx_notify', 'esx_optionalneeds', 'esx_policejob', 'esx_progressbar', 'esx_service', 'esx_shops', 'esx_skin', 'esx_society', 'esx_textui', 'esx_vehicleamn6r8', 'esx_vehicledmror', 'esx_vehicledwryat', 'esx_vehicleshop', 'esx_vehiclesrth', 'esx_weaponshop', 'F7', 'fahad-amn', 'fivem-tgiann-showid-main', 'fivepd', 'fj', 'FLM_14', 'FLM_15', 'FLM_16', 'FLM_17', 'Fontchange', 'frsre', 'fuel', 'gcom_bcab', 'gransd', 'guy293_holsterweapon', 'H1-Saudi-Arabia', 'h2015', 'hi1234', 'hideInTrunk', 'hiluuuxxxx11', 'hilux', 'HornFlash-master', 'idup', 'instance', 'interact-sound', 'interactSound', 'interiorfix', 'JD_logs', 'JF_SeatShuffle', 'jsfour-idcard', 'kl3_jail', 'KSA92+', 'lightbars', 'loacalcars1', 'loacalcars2', 'loadingscreen', 'lscustoms', 'Lua_stores', 'lul1', 'lux_vehcontrol', 'm7mds', 'MailarDevLoading', 'mapic', 'matus_highwaypatrol', 'MBS', 'mellotrainer', 'mem18', 'mgmap', 'minimap', 'mk', 'mk1', 'mk2', 'mk3', 'mk4', 'mk5', 'monitor', 'mrorv2extras', 'mrpd_normal', 'msa3d', 'mythic_notify', 'mythic_progbar', 'N7-Crsy', 'NativeUI', 'NativeUILua', 'nazy', 'newspacks12', 'nkd', 'NoDriveBy', 'NoReticle', 'Ojx-radialmenu', 'ox_doorlock', 'ox_lib', 'oxmysql', 'patrol', 'pickle_weaponthrowing', 'pma-voice', 'pNotify', 'PoliceEMSActivity', 'policev2blueextras', 'pressurewasher', 'pressurewashermodels', 'progressBars-1.0', 'qb-management-main', 'R1Sound', 'r8abh', 'raed', 'raid_clothes', 'rb3m66y', 'rb3sre', 'rb3y3', 'rb3566a', 'rbsre3', 'rbsre6', 'realisticvehicle', 'refuelingnozzle', 'Relax_fbiv3', 'Remove-NPC-Cops', 'RemoveAi', 'RemoveCops-AI', 'rkadh15', 'rockstar-s12', 'roleplay-commands', 's67h12', 'sa-Pasto', 'sad1', 'sad2', 'sad3', 'sad4', 'sad5', 'sad6', 'sad8', 'sad9', 'sad10', 'sad11', 'sad12', 'sad14', 'sad15', 'sad16', 'sad17', 'sad18', 'sad19', 'sad21', 'sad22', 'sad23', 'sad26', 'sad27', 'sad28', 'sad29', 'sad30', 'sad31', 'sad32', 'sad33', 'sad34', 'sad35', 'sad36', 'sad37', 'sandydfa3', 'saudi_alam', 'sbe3', 'sbe324', 'sc1_sherdept', 'screenshot-basic', 'scully_radio2', 'SD-AutoDV', 'Security', 'securitycams', 'settings', 'shas503', 'sheriffsandy', 'showingcar', 'shrqpolice2', 'shrqpolice7', 'skinchanger', 'soundpacks12', 'spawnmanager', 'spawnselector', 'speedhud', 'speedometer', 'sqsrth', 'sre7', 'sre19', 'sre21', 'sre211', 'sre2010', 'sree1', 'srefj', 'srth1', 'srth2', 'srth3', 'srth4', 'srth5', 'sry', 'strawberry_gardens_verpi', 'SvStore_Shields', 'synd3', 'towing', 'tpm', 'traffic', 'Vehicle-UI', 'Vehicle-UI-main', 'vic11', 'Visual', 'watermarkkl', 'wk_wars2x', 'wyat2', 'x-radiolist-master', 'xsound', 'xsounddis', 'yarn', 'Yo-notify', 'zam']]\n",
      "The last index is: 47\n",
      "Scraping server 48, id is gzygkm\n",
      "gzygkm\n"
     ]
    },
    {
     "name": "stderr",
     "output_type": "stream",
     "text": [
      "Resources: 02_aidoc, 17mov_BuilderJob, 17mov_Deliverer, 17mov_Electrician, 17mov_GarbageCollector, 17mov_GruppeSechs, 17mov_Lumberjack, 17mov_Postman, 17mov_TreasureHunter, 17mov_WindowCleaning, ap-court, ap-documents, ap-government, as_autoexotic+ds, assets_grafitis, av_blackmarket, av_boosting, av_cameras, av_corners, av_gangs, av_laptop, av_meth, av_music, av_racing, av_realestate, av_restaurants, av_tuning, baseevents, basic-gamemode, bcs_questionare, bob74_ipl, brofx_mansion_03, brofx_mansion_07, brofx_mansion_16, brofx_mansion_17, brofx_villa05, cdn-fuel, cfx-gabz-247, cfx-gabz-ammunation, cfx-gabz-aztecas, cfx-gabz-bahama, cfx-gabz-ballas, cfx-gabz-bennys, cfx-gabz-binco, cfx-gabz-burgershot, cfx-gabz-carmeet, cfx-gabz-casino, cfx-gabz-catcafe, cfx-gabz-davispd, cfx-gabz-esbltd, cfx-gabz-families, cfx-gabz-hayes, cfx-gabz-koi, cfx-gabz-lamesapd, cfx-gabz-mapdata, cfx-gabz-marabunta, cfx-gabz-mrpd, cfx-gabz-ottos, cfx-gabz-parkranger, cfx-gabz-pdprops, cfx-gabz-pillbox, cfx-gabz-ponsonbys, cfx-gabz-prison, cfx-gabz-sandypd, cfx-gabz-suburban, cfx-gabz-townhall, cfx-gabz-triads, cfx-gabz-tuners, cfx-gabz-vagos, cfx-gabz-vu, chat, clothes-2, connectqueue, cortex_backitems, cw-crafting, dlc-handling, DLCiplLoader, dpclothingui, drc_houserobbery, eastcustoms, fd_radio, fivem-map-skater, Fuente_Blanca, generic_texture_renderer_gfx, h_digitalden, hacking, Howdy-Minigame, hrp-antipixel, hrp-jobs, interact-sound, interiorproxies, irp-carsounds, irp-vehicleconfig, irp-wheels, jim-parking, k4mb1-drills, k4mb1-fleecas, k4mb1shellstarter, keep-hunting, KillstorexQuasar_props, lj-inventory, malibu_mansion, mapmanager, mc-methlabshell, memorygame, menuv, mercy-adminmenu, meta_libs, mhacking, mka-lasers, monitor, ms-peds, nc-cameras, nh-context, np_gunmetas_temp, np-custom_weapons, np-custom_weapons_melee, np-custom_weapons_old, np-custom_weapons_thrown, np-gunmetas, np-lmansion, ns-cargoship, ns-coords, okokGarage, okokVehicleShop, ox_doorlock, ox_lib, oxmysql, PacificBankExtendedMLOv1, PaletoBankExtendedMLO, pd-safe, pickle_rental, pma-voice, PolyZone, progressbar, ps-buffs, ps-camera, ps-dispatch, ps-drugprocessing, ps-hud, ps-mdt, ps-multijob, ps-objectspawner, ps-ui, ps-weedplanting, qb-adminmenu, qb-ambulancejob, qb-apartments, qb-artheist, qb-atmrobbery, qb-bankrobbery, qb-cityhall, qb-clothing, qb-commandbinding, qb-containerrobbery, qb-core, qb-crypto, qb-fleecafinal, qb-hotdogjob, qb-input, qb-interior, qb-jewelery, qb-keyminigame, qb-loading, qb-lockpick, qb-logs, qb-management, qb-mechanicjob, qb-menu, qb-multicharacter, qb-pacificheist, qb-paletoheist, qb-policejob, qb-prison, qb-radialmenu, qb-recycle, qb-recyclejob, qb-scenes, qb-scrapyard, qb-shops, qb-skillbar, qb-smallresources, qb-spawn, qb-storerobbery, qb-target, qb-traphouse, qb-truckerjob, qb-truckrobbery, qb-vehiclekeys, qb-weapons, qb-weathersync, qs-base, qs-fakenumber, qs-housing, qs-smartphone, rcore_addon_tattoos, rcore_casino, rcore_report, rcore_tattoos, Renewed-Banking, Renewed-Sirensync, renzu_tuners, rm_decalv, rpemotes, s4-cuffv3, safecracker, screenshot-basic, showcar-standalone, smartphone_props, snipe-methlab, snogame, spawnmanager, Tebex-FiveM, utk_fingerprint, utk_hackdependency, Vespucci_car_dealer_13, vms_coinshop, webpack, white_widow_cannabis_cafe, wk_wars2x, xdiskjockey_beta, xsound, yarn, yoantan-weapons\n",
      "Game type: Freeroam\n",
      "Map: fivem-map-skater\n",
      "OneSync: enabled\n",
      "Language: Portuguese (Portugal)\n",
      "Tags: qbcore, helix, roleplay, racing, carros custumizados, gangs, mafias, trabalhos de grupo\n",
      "DLC level: 2944\n",
      "sv_pureLevel: 1\n",
      "Owner: Jose_Matos\n",
      "https://servers.fivem.net/servers/detail/v69ygr\n"
     ]
    },
    {
     "name": "stdout",
     "output_type": "stream",
     "text": [
      "['', 'https://servers.fivem.net/servers/detail/gzygkm', '', 'Freeroam', 'enabled', 'fivem-map-skater', 'Portuguese (Portugal)', 'qbcore, helix, roleplay, racing, carros custumizados, gangs, mafias, trabalhos de grupo', '2944', '', 'Jose_Matos', '', '', ['02_aidoc', '17mov_BuilderJob', '17mov_Deliverer', '17mov_Electrician', '17mov_GarbageCollector', '17mov_GruppeSechs', '17mov_Lumberjack', '17mov_Postman', '17mov_TreasureHunter', '17mov_WindowCleaning', 'ap-court', 'ap-documents', 'ap-government', 'as_autoexotic+ds', 'assets_grafitis', 'av_blackmarket', 'av_boosting', 'av_cameras', 'av_corners', 'av_gangs', 'av_laptop', 'av_meth', 'av_music', 'av_racing', 'av_realestate', 'av_restaurants', 'av_tuning', 'baseevents', 'basic-gamemode', 'bcs_questionare', 'bob74_ipl', 'brofx_mansion_03', 'brofx_mansion_07', 'brofx_mansion_16', 'brofx_mansion_17', 'brofx_villa05', 'cdn-fuel', 'cfx-gabz-247', 'cfx-gabz-ammunation', 'cfx-gabz-aztecas', 'cfx-gabz-bahama', 'cfx-gabz-ballas', 'cfx-gabz-bennys', 'cfx-gabz-binco', 'cfx-gabz-burgershot', 'cfx-gabz-carmeet', 'cfx-gabz-casino', 'cfx-gabz-catcafe', 'cfx-gabz-davispd', 'cfx-gabz-esbltd', 'cfx-gabz-families', 'cfx-gabz-hayes', 'cfx-gabz-koi', 'cfx-gabz-lamesapd', 'cfx-gabz-mapdata', 'cfx-gabz-marabunta', 'cfx-gabz-mrpd', 'cfx-gabz-ottos', 'cfx-gabz-parkranger', 'cfx-gabz-pdprops', 'cfx-gabz-pillbox', 'cfx-gabz-ponsonbys', 'cfx-gabz-prison', 'cfx-gabz-sandypd', 'cfx-gabz-suburban', 'cfx-gabz-townhall', 'cfx-gabz-triads', 'cfx-gabz-tuners', 'cfx-gabz-vagos', 'cfx-gabz-vu', 'chat', 'clothes-2', 'connectqueue', 'cortex_backitems', 'cw-crafting', 'dlc-handling', 'DLCiplLoader', 'dpclothingui', 'drc_houserobbery', 'eastcustoms', 'fd_radio', 'fivem-map-skater', 'Fuente_Blanca', 'generic_texture_renderer_gfx', 'h_digitalden', 'hacking', 'Howdy-Minigame', 'hrp-antipixel', 'hrp-jobs', 'interact-sound', 'interiorproxies', 'irp-carsounds', 'irp-vehicleconfig', 'irp-wheels', 'jim-parking', 'k4mb1-drills', 'k4mb1-fleecas', 'k4mb1shellstarter', 'keep-hunting', 'KillstorexQuasar_props', 'lj-inventory', 'malibu_mansion', 'mapmanager', 'mc-methlabshell', 'memorygame', 'menuv', 'mercy-adminmenu', 'meta_libs', 'mhacking', 'mka-lasers', 'monitor', 'ms-peds', 'nc-cameras', 'nh-context', 'np_gunmetas_temp', 'np-custom_weapons', 'np-custom_weapons_melee', 'np-custom_weapons_old', 'np-custom_weapons_thrown', 'np-gunmetas', 'np-lmansion', 'ns-cargoship', 'ns-coords', 'okokGarage', 'okokVehicleShop', 'ox_doorlock', 'ox_lib', 'oxmysql', 'PacificBankExtendedMLOv1', 'PaletoBankExtendedMLO', 'pd-safe', 'pickle_rental', 'pma-voice', 'PolyZone', 'progressbar', 'ps-buffs', 'ps-camera', 'ps-dispatch', 'ps-drugprocessing', 'ps-hud', 'ps-mdt', 'ps-multijob', 'ps-objectspawner', 'ps-ui', 'ps-weedplanting', 'qb-adminmenu', 'qb-ambulancejob', 'qb-apartments', 'qb-artheist', 'qb-atmrobbery', 'qb-bankrobbery', 'qb-cityhall', 'qb-clothing', 'qb-commandbinding', 'qb-containerrobbery', 'qb-core', 'qb-crypto', 'qb-fleecafinal', 'qb-hotdogjob', 'qb-input', 'qb-interior', 'qb-jewelery', 'qb-keyminigame', 'qb-loading', 'qb-lockpick', 'qb-logs', 'qb-management', 'qb-mechanicjob', 'qb-menu', 'qb-multicharacter', 'qb-pacificheist', 'qb-paletoheist', 'qb-policejob', 'qb-prison', 'qb-radialmenu', 'qb-recycle', 'qb-recyclejob', 'qb-scenes', 'qb-scrapyard', 'qb-shops', 'qb-skillbar', 'qb-smallresources', 'qb-spawn', 'qb-storerobbery', 'qb-target', 'qb-traphouse', 'qb-truckerjob', 'qb-truckrobbery', 'qb-vehiclekeys', 'qb-weapons', 'qb-weathersync', 'qs-base', 'qs-fakenumber', 'qs-housing', 'qs-smartphone', 'rcore_addon_tattoos', 'rcore_casino', 'rcore_report', 'rcore_tattoos', 'Renewed-Banking', 'Renewed-Sirensync', 'renzu_tuners', 'rm_decalv', 'rpemotes', 's4-cuffv3', 'safecracker', 'screenshot-basic', 'showcar-standalone', 'smartphone_props', 'snipe-methlab', 'snogame', 'spawnmanager', 'Tebex-FiveM', 'utk_fingerprint', 'utk_hackdependency', 'Vespucci_car_dealer_13', 'vms_coinshop', 'webpack', 'white_widow_cannabis_cafe', 'wk_wars2x', 'xdiskjockey_beta', 'xsound', 'yarn', 'yoantan-weapons']]\n",
      "The last index is: 48\n",
      "Scraping server 49, id is v69ygr\n",
      "v69ygr\n"
     ]
    },
    {
     "name": "stderr",
     "output_type": "stream",
     "text": [
      "Resources: 0r-core, 0r-farming, 0r-farming-assets, 0r-handcuffs, 17mov_BuilderJob, 17mov_GarbageCollector, 17mov_GruppeSechs, 17mov_Lumberjack, 17mov_WindowCleaning, BakiTelli_lottery, BakiTelli_paintball, BakiTelli_references, BakiTelli_rentcar, baseevents, basics, bit-driverschool, bitsound, bloodsneutralv2, bloodsv2, bob74_ipl, cd_easytime, cfx-nteam-fleeca, cfx-nteam-legion-square-extended, ClawlesDiamondCasino, clip, cluckingbell, cm-fishing, codem-appearance, codem-bank, codem-billing, codem-staff, codem-taxijob, cron, dnz_garagev3, doors_creator, drugs_creator, eclipsemedicaltower, els_family, es_extended, esx_addonaccount, esx_addoninventory, esx_ambulancejob, esx_basicneeds, esx_carlock, esx_context, esx_datastore, esx_identity, esx_jobs, esx_license, esx_mechanicjob, esx_menu_default, esx_menu_dialog, esx_menu_list, esx_notify, esx_optionalneeds, esx_policejob, esx_progressbar, esx_rpchat, esx_service, esx_sit, esx_society, esx_status, esx_textui, esx_vehicleshop, esx-radio, farming_creator, fight_club, fishing-minigame, gct-beeandweed-esx, gct-hive-asset, gigz_davis_mall_ltd, hex_bennys_luxury_docks, improved-females, jailscript, jobs_creator, justice, kibra-core, kibra-mechanics, kibra-mechanics-flatbed3, kibra-ui, lab-pet, lafitness, lc_truck_logistics, lc_utils, lks_gym, lockpick, ls-core, ls-inventory, ls-stashes, ls-weapons, luxury_auto, m-blackmarket, m-loadingscreen, m-postop, m-report, m-vehicleshop, mChat, mHud, MIXASAC-V4, monitor, myATMRobbery, myDocuments, myEmergency, mySpeedcam, NativeUI, NewPrison, No-NPC, nui_blocker, nxp_cs_pd_b2545, ox_lib, ox_target, oxmysql, pd-safe, pointless-system, PolyZone, Postalmap, progressbar, qua_adez_hotel, qua_houses_s4, rcore_pool, reload-skillbar, RiP-Fuel, roadphone, roadphone_simcard, rockford_hill_h1, rpemotes, rtx_carry, rtx_club, rtx_club_mlo, rtx_gym, rtx_scenarios, rtx_themepark, rtx_themepark_objects, rtx_waterpark, s4-house, saltychat, SaltyNUI, saltyradio, screenshot-basic, shops_creator, skinchanger, spawnmanager, ss_hitmarker, trailers, trucks, vehicles_keys, Venice-Notification, verpi_driving_school, wais-multicharacter, wais-vehicleshop, webpack, western_office, xsound, yarn, YouTool\n",
      "Game type: ESX Legacy\n",
      "Map: San Andreas\n",
      "OneSync: enabled\n",
      "Language: German (Germany)\n",
      "Tags: de, roleplay, german,esx\n",
      "Phone: RoadPhone\n",
      "DLC level: 2944\n",
      "sv_pureLevel: 0\n",
      "🌍Website: p-rp.de\n",
      "💸Startgeld: 50.000$\n",
      "📣Discord: discord.gg/pointlessrp\n",
      "🔊Teamspeak: ts.p-rp.de\n",
      "Owner: EndlessStress\n",
      "https://servers.fivem.net/servers/detail/586747\n"
     ]
    },
    {
     "name": "stdout",
     "output_type": "stream",
     "text": [
      "['', 'https://servers.fivem.net/servers/detail/v69ygr', '', 'ESX Legacy', 'enabled', 'San Andreas', 'German (Germany)', 'de, roleplay, german,esx', '2944', '', 'EndlessStress', '', '', ['0r-core', '0r-farming', '0r-farming-assets', '0r-handcuffs', '17mov_BuilderJob', '17mov_GarbageCollector', '17mov_GruppeSechs', '17mov_Lumberjack', '17mov_WindowCleaning', 'BakiTelli_lottery', 'BakiTelli_paintball', 'BakiTelli_references', 'BakiTelli_rentcar', 'baseevents', 'basics', 'bit-driverschool', 'bitsound', 'bloodsneutralv2', 'bloodsv2', 'bob74_ipl', 'cd_easytime', 'cfx-nteam-fleeca', 'cfx-nteam-legion-square-extended', 'ClawlesDiamondCasino', 'clip', 'cluckingbell', 'cm-fishing', 'codem-appearance', 'codem-bank', 'codem-billing', 'codem-staff', 'codem-taxijob', 'cron', 'dnz_garagev3', 'doors_creator', 'drugs_creator', 'eclipsemedicaltower', 'els_family', 'es_extended', 'esx_addonaccount', 'esx_addoninventory', 'esx_ambulancejob', 'esx_basicneeds', 'esx_carlock', 'esx_context', 'esx_datastore', 'esx_identity', 'esx_jobs', 'esx_license', 'esx_mechanicjob', 'esx_menu_default', 'esx_menu_dialog', 'esx_menu_list', 'esx_notify', 'esx_optionalneeds', 'esx_policejob', 'esx_progressbar', 'esx_rpchat', 'esx_service', 'esx_sit', 'esx_society', 'esx_status', 'esx_textui', 'esx_vehicleshop', 'esx-radio', 'farming_creator', 'fight_club', 'fishing-minigame', 'gct-beeandweed-esx', 'gct-hive-asset', 'gigz_davis_mall_ltd', 'hex_bennys_luxury_docks', 'improved-females', 'jailscript', 'jobs_creator', 'justice', 'kibra-core', 'kibra-mechanics', 'kibra-mechanics-flatbed3', 'kibra-ui', 'lab-pet', 'lafitness', 'lc_truck_logistics', 'lc_utils', 'lks_gym', 'lockpick', 'ls-core', 'ls-inventory', 'ls-stashes', 'ls-weapons', 'luxury_auto', 'm-blackmarket', 'm-loadingscreen', 'm-postop', 'm-report', 'm-vehicleshop', 'mChat', 'mHud', 'MIXASAC-V4', 'monitor', 'myATMRobbery', 'myDocuments', 'myEmergency', 'mySpeedcam', 'NativeUI', 'NewPrison', 'No-NPC', 'nui_blocker', 'nxp_cs_pd_b2545', 'ox_lib', 'ox_target', 'oxmysql', 'pd-safe', 'pointless-system', 'PolyZone', 'Postalmap', 'progressbar', 'qua_adez_hotel', 'qua_houses_s4', 'rcore_pool', 'reload-skillbar', 'RiP-Fuel', 'roadphone', 'roadphone_simcard', 'rockford_hill_h1', 'rpemotes', 'rtx_carry', 'rtx_club', 'rtx_club_mlo', 'rtx_gym', 'rtx_scenarios', 'rtx_themepark', 'rtx_themepark_objects', 'rtx_waterpark', 's4-house', 'saltychat', 'SaltyNUI', 'saltyradio', 'screenshot-basic', 'shops_creator', 'skinchanger', 'spawnmanager', 'ss_hitmarker', 'trailers', 'trucks', 'vehicles_keys', 'Venice-Notification', 'verpi_driving_school', 'wais-multicharacter', 'wais-vehicleshop', 'webpack', 'western_office', 'xsound', 'yarn', 'YouTool']]\n",
      "The last index is: 49\n",
      "Scraping server 50, id is 586747\n",
      "586747\n"
     ]
    },
    {
     "name": "stderr",
     "output_type": "stream",
     "text": [
      "Server Name: [PT] ⚜️ Gália RP ⚜️ /// 💰 150K INICIAIS💰 /// 📣 https://discord.gg/cJKgrfbZZN /// 💣Territorios e Drogas💣\n"
     ]
    },
    {
     "name": "stdout",
     "output_type": "stream",
     "text": [
      "%%%%%%%%%%%%%%%%%%%%%%%%%%%%%%%%%%%%%%%%%%%%%%%%%%%%%%%%%%%%%%%%%\n",
      "[PT] ⚜️ Gália RP ⚜️ /// 💰 150K INICIAIS💰 /// 📣 https://discord.gg/cJKgrfbZZN /// 💣Territorios e Drogas💣\n",
      "%%%%%%%%%%%%%%%%%%%%%%%%%%%%%%%%%%%%%%%%%%%%%%%%%%%%%%%%%%%%%%%%%\n"
     ]
    },
    {
     "name": "stderr",
     "output_type": "stream",
     "text": [
      "Resources: 2clientsbloquear, 3dme, 6lcupra, 99kr-shops, accidente, AdminOti, Ajudacodigosgnr, allhousing, ANRP-finger, AntiLimbo, arcade_props, async, basic-gamemode, bob74_ipl, cap6ktdi, caponneMK2, carremote, carrospack, carrospackexclusivos, CarryPeople, CayoImprovements, cd_drawtextui, cd_garage, cd_garageshell, Centrovia_V2, cfx-gabz-carmeet, cfx-gabz-casino, cfx-gabz-diner, cfx-gabz-harmony, cfx-gabz-hayes, cfx-gabz-lamesapd, cfx-gabz-lost, cfx-gabz-mapdata, cfx-gabz-mba, cfx-gabz-paletopd, cfx-gabz-parkranger, cfx-gabz-pdm, cfx-gabz-pdprops, cfx-gabz-prison, cfx-gabz-sandypd, cfx-gabz-townhall, cfx-gabz-tuners, chat, chat-theme-civlifechat, chat-theme-gtao, chatstaff, chico_armas, cintos, core_evidence1, core_evidence2, core_vehicle, crips, cron, crypto2, deadscreen, DiscordLogs, dpemotes, drones, DVAutomatico, eden_accesories, el_business, ELS-FiveM, erp-notepad, es_admincmds, es_extended, es_mapper, escolaconducao, esplugin_mysql, essentialmode, esx_accessories, esx_addonaccount, esx_addoninventory, esx_ambulancejob, esx_barbershop, esx_barbie_lyftupp, esx_basicneeds, esx_billing, esx_boat, esx_carwash, ESX_CommunityService, esx_datastore, esx_dmvschool, esx_doorlock, esx_duty, esx_eden_clotheshop, esx_extraitems, esx_gnrjob, esx_headbag, esx_invest, esx_joblisting, esx_jobs, esx_knatusblowtorch, esx_knatusrobberybank, esx_laywerjob, esx_license, esx_licenseshop, esx_mecanojob, esx_menu_default, esx_menu_dialog, esx_menu_list, esx_moneywash, esx_optionalneeds, esx_plasticsurgery, esx_policedog, esx_policedog2, esx_policejob, esx_reboquesjob, esx_redlinejob, esx_rpchat, esx_scoreboard, esx_securitycam, esx_shops, esx_skin, esx_society, esx_spectate, esx_speedcamera, esx_status, esx_tattooshop, esx_taxijob, esx_teleports, esx_thief, esx_towing, esx_truckerjob, esx_uberjob, esx_vangelico_robbery, esx_vehicleshop, esx_weaponshop, esx-blarglebus, esx-jobsfudidos, esx-qalle-jail, eup-roupas, FardasPSP, firedepartment, fivem, fivem-map-skater, fps, furni, fxmigrant, Galia_halloween, Galia_hunting, Galia_orgs, Galia_radialmenu, Galia_radialmenu2, GaliaAnticheat, Galiabiketricks, GaliaMapas, GaliaRadar, gen-dispatch, input, instructional-buttons, int_arcade, int_stocks, inventory, island, JAM, james_motels, jsfour-idcard, jsfour-register, kradial, lambra-tunerChip, LegacyFuel, lockpicking, ls-radio, m3touring, mapmanager, mdt, meta_libs, mhacking, mk3, monitor, motelnyxstore, motors_lscustom, multilingual, myDJ, mythic_hospital, mythic_interiors, mythic_notify, mythic_progbar, nb_menuperso, nitro, norauto_lscustom, offstore_halloween, Ofi_Toretto, okokBanking, okokContract, okokCrafting, okokNotify, okokTextUI, ox_lib, oxmysql, Packbarcos, pd_exhaust_smoke, Peds_spawn, pesca, pma-voice, pNotify, PolicePack, policiaocorrencia, PolyZone, progbars, progressbar, progressBars, prospecting, ps-ui, pun_idgun-master, qs-base, qs-smartphone, qs-videos, r3_notifications, r3_prospecting, radialmenu, raid_carmenu, rcore_clothes, rcore_pool, rcore_spray, rcore_spray_assets, RedLine_Germias, redline_lscustom, Redline_Vip_Showroom, relisoft_tag, rf_elevador, rfturbo_lscustom, richard_afiliados, richard_centrovia, richard_farming, richard-assaltosblock, richard-civilitycare, richard-efeitosdrogas, richard-novonome, rocademption, rprogress, s_peds, safebreach, screenshot-basic, scripts, skinchanger, smartphone_props, snippet, spawnmanager, st-menu, standusados, storm_lscustom, SystemOtimized, t-loadingscreen, tecnauto_lscustom, territories, testeipl, trew_hud_ui, tunerchip, vSync, wasabi_mining, webpack, xsound, yarn, zcmg_airride, zcmg_job, zcmg_notificacao, zcmg_recompensa, zonaalerta\n",
      "Game type: Freeroam\n",
      "Map: fivem-map-skater\n",
      "OneSync: enabled\n",
      "Language: Portuguese (Portugal)\n",
      "Tags: Galia, Portugal, Novidades, PT, tuga, Gália, portugues, roleplay, rp, esx,esx\n",
      "Abertura: 20/05\n",
      "Developer: CHICO\n",
      "Discord: discord.gg/cJKgrfbZZN\n",
      "Fundador: CHICO | Miushy\n",
      "RR: 08h00 | 19h00\n",
      "DLC level: 2699\n",
      "sv_pureLevel: 0\n",
      "Owner: GODCHICO\n",
      "https://servers.fivem.net/servers/detail/jklbr4\n"
     ]
    },
    {
     "name": "stdout",
     "output_type": "stream",
     "text": [
      "['[PT] ⚜️ Gália RP ⚜️ /// 💰 150K INICIAIS💰 /// 📣 https://discord.gg/cJKgrfbZZN /// 💣Territorios e Drogas💣', 'https://servers.fivem.net/servers/detail/586747', 'CHICO', 'Freeroam', 'enabled', 'fivem-map-skater', 'Portuguese (Portugal)', 'Galia, Portugal, Novidades, PT, tuga, Gália, portugues, roleplay, rp, esx,esx', '2699', '', 'GODCHICO', '', '', ['2clientsbloquear', '3dme', '6lcupra', '99kr-shops', 'accidente', 'AdminOti', 'Ajudacodigosgnr', 'allhousing', 'ANRP-finger', 'AntiLimbo', 'arcade_props', 'async', 'basic-gamemode', 'bob74_ipl', 'cap6ktdi', 'caponneMK2', 'carremote', 'carrospack', 'carrospackexclusivos', 'CarryPeople', 'CayoImprovements', 'cd_drawtextui', 'cd_garage', 'cd_garageshell', 'Centrovia_V2', 'cfx-gabz-carmeet', 'cfx-gabz-casino', 'cfx-gabz-diner', 'cfx-gabz-harmony', 'cfx-gabz-hayes', 'cfx-gabz-lamesapd', 'cfx-gabz-lost', 'cfx-gabz-mapdata', 'cfx-gabz-mba', 'cfx-gabz-paletopd', 'cfx-gabz-parkranger', 'cfx-gabz-pdm', 'cfx-gabz-pdprops', 'cfx-gabz-prison', 'cfx-gabz-sandypd', 'cfx-gabz-townhall', 'cfx-gabz-tuners', 'chat', 'chat-theme-civlifechat', 'chat-theme-gtao', 'chatstaff', 'chico_armas', 'cintos', 'core_evidence1', 'core_evidence2', 'core_vehicle', 'crips', 'cron', 'crypto2', 'deadscreen', 'DiscordLogs', 'dpemotes', 'drones', 'DVAutomatico', 'eden_accesories', 'el_business', 'ELS-FiveM', 'erp-notepad', 'es_admincmds', 'es_extended', 'es_mapper', 'escolaconducao', 'esplugin_mysql', 'essentialmode', 'esx_accessories', 'esx_addonaccount', 'esx_addoninventory', 'esx_ambulancejob', 'esx_barbershop', 'esx_barbie_lyftupp', 'esx_basicneeds', 'esx_billing', 'esx_boat', 'esx_carwash', 'ESX_CommunityService', 'esx_datastore', 'esx_dmvschool', 'esx_doorlock', 'esx_duty', 'esx_eden_clotheshop', 'esx_extraitems', 'esx_gnrjob', 'esx_headbag', 'esx_invest', 'esx_joblisting', 'esx_jobs', 'esx_knatusblowtorch', 'esx_knatusrobberybank', 'esx_laywerjob', 'esx_license', 'esx_licenseshop', 'esx_mecanojob', 'esx_menu_default', 'esx_menu_dialog', 'esx_menu_list', 'esx_moneywash', 'esx_optionalneeds', 'esx_plasticsurgery', 'esx_policedog', 'esx_policedog2', 'esx_policejob', 'esx_reboquesjob', 'esx_redlinejob', 'esx_rpchat', 'esx_scoreboard', 'esx_securitycam', 'esx_shops', 'esx_skin', 'esx_society', 'esx_spectate', 'esx_speedcamera', 'esx_status', 'esx_tattooshop', 'esx_taxijob', 'esx_teleports', 'esx_thief', 'esx_towing', 'esx_truckerjob', 'esx_uberjob', 'esx_vangelico_robbery', 'esx_vehicleshop', 'esx_weaponshop', 'esx-blarglebus', 'esx-jobsfudidos', 'esx-qalle-jail', 'eup-roupas', 'FardasPSP', 'firedepartment', 'fivem', 'fivem-map-skater', 'fps', 'furni', 'fxmigrant', 'Galia_halloween', 'Galia_hunting', 'Galia_orgs', 'Galia_radialmenu', 'Galia_radialmenu2', 'GaliaAnticheat', 'Galiabiketricks', 'GaliaMapas', 'GaliaRadar', 'gen-dispatch', 'input', 'instructional-buttons', 'int_arcade', 'int_stocks', 'inventory', 'island', 'JAM', 'james_motels', 'jsfour-idcard', 'jsfour-register', 'kradial', 'lambra-tunerChip', 'LegacyFuel', 'lockpicking', 'ls-radio', 'm3touring', 'mapmanager', 'mdt', 'meta_libs', 'mhacking', 'mk3', 'monitor', 'motelnyxstore', 'motors_lscustom', 'multilingual', 'myDJ', 'mythic_hospital', 'mythic_interiors', 'mythic_notify', 'mythic_progbar', 'nb_menuperso', 'nitro', 'norauto_lscustom', 'offstore_halloween', 'Ofi_Toretto', 'okokBanking', 'okokContract', 'okokCrafting', 'okokNotify', 'okokTextUI', 'ox_lib', 'oxmysql', 'Packbarcos', 'pd_exhaust_smoke', 'Peds_spawn', 'pesca', 'pma-voice', 'pNotify', 'PolicePack', 'policiaocorrencia', 'PolyZone', 'progbars', 'progressbar', 'progressBars', 'prospecting', 'ps-ui', 'pun_idgun-master', 'qs-base', 'qs-smartphone', 'qs-videos', 'r3_notifications', 'r3_prospecting', 'radialmenu', 'raid_carmenu', 'rcore_clothes', 'rcore_pool', 'rcore_spray', 'rcore_spray_assets', 'RedLine_Germias', 'redline_lscustom', 'Redline_Vip_Showroom', 'relisoft_tag', 'rf_elevador', 'rfturbo_lscustom', 'richard_afiliados', 'richard_centrovia', 'richard_farming', 'richard-assaltosblock', 'richard-civilitycare', 'richard-efeitosdrogas', 'richard-novonome', 'rocademption', 'rprogress', 's_peds', 'safebreach', 'screenshot-basic', 'scripts', 'skinchanger', 'smartphone_props', 'snippet', 'spawnmanager', 'st-menu', 'standusados', 'storm_lscustom', 'SystemOtimized', 't-loadingscreen', 'tecnauto_lscustom', 'territories', 'testeipl', 'trew_hud_ui', 'tunerchip', 'vSync', 'wasabi_mining', 'webpack', 'xsound', 'yarn', 'zcmg_airride', 'zcmg_job', 'zcmg_notificacao', 'zcmg_recompensa', 'zonaalerta']]\n",
      "The last index is: 50\n",
      "Scraping server 51, id is jklbr4\n",
      "jklbr4\n"
     ]
    },
    {
     "name": "stderr",
     "output_type": "stream",
     "text": [
      "Server Name: [GERMAN] LEGACYV | 🔰 ENTWICKLUNG 🔰 | ❌ Spieler Gesucht ❌ | 🌀 FRAKTIONEN GESUCHT 🌀 |\n"
     ]
    },
    {
     "name": "stdout",
     "output_type": "stream",
     "text": [
      "%%%%%%%%%%%%%%%%%%%%%%%%%%%%%%%%%%%%%%%%%%%%%%%%%%%%%%%%%%%%%%%%%\n",
      "[GERMAN] LEGACYV | 🔰 ENTWICKLUNG 🔰 | ❌ Spieler Gesucht ❌ | 🌀 FRAKTIONEN GESUCHT 🌀 |\n",
      "%%%%%%%%%%%%%%%%%%%%%%%%%%%%%%%%%%%%%%%%%%%%%%%%%%%%%%%%%%%%%%%%%\n"
     ]
    },
    {
     "name": "stderr",
     "output_type": "stream",
     "text": [
      "Resources: 5d-deathscreen, 17mov_BuilderJob, 17mov_FpsBooster, 17mov_GarbageCollector, 17mov_Lumberjack, 17mov_TVesx, ak4y-multicharacter, ap-court, async, ataJobCenter, Az_trailer, b-deathtimeout, baseevents, bcs_questionare, bob74_ipl, brofx_mansion_18, brum_allcocktails, brum_cake, brum_pies, bulletin, Buty-BoatSchool, Buty-Bus, Buty-FlightSchool, Buty-license, bzzz_cocaplant, cart, cayocoloured, cd_easytime, cdev_md, cfx_gn_ambulance_garage, cfx_gn_collection, cfx_gn_mz_mountzonah, cfx-gabz-247, cfx-gabz-altruists, cfx-gabz-ammunation, cfx-gabz-arcade, cfx-gabz-barber, cfx-gabz-binco, cfx-gabz-bobcat, cfx-gabz-bowling, cfx-gabz-burgershot, cfx-gabz-carmeet, cfx-gabz-casino, cfx-gabz-catcafe, cfx-gabz-davispd, cfx-gabz-diner, cfx-gabz-esbltd, cfx-gabz-families, cfx-gabz-fleeca, cfx-gabz-harmony, cfx-gabz-haters, cfx-gabz-hayes, cfx-gabz-import, cfx-gabz-impound, cfx-gabz-koi, cfx-gabz-mapdata, cfx-gabz-mirrorpark1, cfx-gabz-mirrorpark2, cfx-gabz-ottos, cfx-gabz-pacificbank, cfx-gabz-paletobank, cfx-gabz-paletocamp, cfx-gabz-paletoliquor, cfx-gabz-paletopd, cfx-gabz-pdm, cfx-gabz-pdprops, cfx-gabz-pearls, cfx-gabz-pinkcage, cfx-gabz-pizzeria, cfx-gabz-ponsonbys, cfx-gabz-prison, cfx-gabz-records, cfx-gabz-sandypd, cfx-gabz-scenarios, cfx-gabz-studio, cfx-gabz-suburban, cfx-gabz-tattoo, cfx-gabz-tuners, cfx-gabz-vbmarket, cfx-gabz-vu, cfx-gabz-weedcamp, cfx-nteam-legion-square-extended, chat, cron, cs_discordRPC, cs_notify, cs_revivestation, cs_safezones, cs_vehdespawn, cs_xmenu, datacrack, dealership, decrypto-edit, DoItDigital_DrugPlaces_vol7, DoItDigital_Interiors, DoItDigital_MLO_Assetpack, doors_creator, dpclothing, dr_aduty, dr_cayo, dr_fishing, dr_helicam, dr_karting, dr_seatselector, dr_sit, dr_smallresource, dr_sperrzone, dr_westen, drc_bahama, drc_mechanic, drugs_creator, dynasty_electrician, EasyAdmin, EmergencyEUP, EmergencyOS, es_extended, esx_addonaccount, esx_basicneeds, esx_context, esx_datastore, esx_dmvschool, esx_givevehicle, esx_identity, esx_jobs, esx_license, esx_menu_default, esx_menu_dialog, esx_menu_list, esx_notify, esx_optionalneeds, esx_progressbar, esx_service, esx_skin, esx_society, esx_status, esx_taxijob, esx_textui, esx_tk_jewelryrobbery, esx_tk_shoprobbery, esx_vehicleshop, eternal-clothing, fiv3devs_bahamamamas, fiv3devs_bahamamamas_billboards, flight-atmprops, flight-atmrobbery, flight-fleecabankrobbery, flight-paletobankrobbery, grs_rapd, hacking, hex_bennys, hex_ffa, hex_namechange, hex_rent, HousingExport, howdy-hackminigame, illenium-appearance, int_vespmech, interact-sound, inventory, JD_logsV3, jobs_creator, jsfour-idcard, k4mb1-oilrig, k4mb1shellstarter, k5_documents, kd_custom-native, kd_hud-event, kd_towtruck, KillstorexQuasar_props, ks-loadingscreen, lc_advanced_vehicles, lc_truck_logistics, lc_utils, lightsout, lls-mechanic, lockpick, ls-radio, lunaticstudio_promo001, LV_anonymous, lv_areas, LV_autopilot, LV_blackmarket, lv_cocalabor, lv_digiDen, lv_discordadmin, lv_entry, lv_forest, lv_gangwar, lv_handling, lv_karting, lv_madrazos_ranch, lv_mansion, lv_mechanicmap, lv_otbag, lv_report, lv_saltycircle, lv_secretbase, lv_shop, lv_skateboard, lv_wash, LV_weapon, lv_yacht_entfernen, map, map4all_weapon_craft, map4all-props, map4all-wmanifacturing, memorygame, meta_libs, mhacking, mka-lasers, monitor, msk_core, msk_weaponammo, mythic_progbar, nearest-postal, nh-context, okokBanking, okokBilling, okokChatV2, okokCrafting, okokGarage, okokGasStation, okokNotify, okokTextUI, ox_doorlock, ox_lib, ox_target, oxmysql, pd-safe, PolyZone, prisma-plants, progressbar, ps-ui, pugs_lsia, qs-base, qs-dispatch, qs-drugs, qs-housing, qs-smartphone, qs-videos, rcore_addon_tattoos_christmas-tattoos, rcore_addon_tattoos_valentine, rcore_arcade, rcore_casino, rcore_casino_assets, rcore_drunk, rcore_radiocar, rcore_spray, rcore_spray_assets, rcore_tattoos, rcore_television, rcore_whiteboard, rcore_whiteboard_scaleform, reload-skillbar, RiP-Boating, RiP-Fraktion, RiP-Invest, RiP-Minigames, RiP-Prison, rpemotes, RxScrapyard, saltychat, screenshot-basic, sd_lib, sd-oilrig, sd-pacificbank, sd-yacht, simonsays, skillbar, skinchanger, sky_dailyrewards, sky_hud, smartphone_props, spawnmanager, trailers, trucks, TunningSystem, tv_scaleform, utk_fingerprint, utk_hackdependency, vehicles_keys, vImageCreator, vinewoodsign, wasabi_ambulance, wasabi_bridge, wasabi_crutch, wasabi_discord, wasabi_elevators, wasabi_evidence, wasabi_mining, wasabi_multijob, wasabi_police, WeaponAnimationMenuV2, webpack, western_townhall, wise_lifeinvader, wizating_stancer, xdiskjockey_beta, xsound, yarn\n",
      "Game type: ESX Legacy\n",
      "Map: San Andreas\n",
      "OneSync: enabled\n",
      "Language: German (Germany)\n",
      "Tags: default, deployer, esx, esx legacy, legacy, official, roleplay, deutsch, german,esx\n",
      "DLC level: 2802\n",
      "sv_pureLevel: 0\n",
      "⚠️Altersfreigabe: ab 16 Jahren, Ausnahmen möglich\n",
      "🎧Teamspeak: Legacyv\n",
      "📝RP-Niveau: Midcore\n",
      "🔊Discord: discord.gg/legacyv\n",
      "🔍Fraktionen: GESUCHT\n",
      "🔐STATUS: WHITELIST\n",
      "🔰Hoster: Avoro\n",
      "Owner: Deathpoint86\n",
      "https://servers.fivem.net/servers/detail/evg5xm\n"
     ]
    },
    {
     "name": "stdout",
     "output_type": "stream",
     "text": [
      "['[GERMAN] LEGACYV | 🔰 ENTWICKLUNG 🔰 | ❌ Spieler Gesucht ❌ | 🌀 FRAKTIONEN GESUCHT 🌀 |', 'https://servers.fivem.net/servers/detail/jklbr4', '', 'ESX Legacy', 'enabled', 'San Andreas', 'German (Germany)', 'default, deployer, esx, esx legacy, legacy, official, roleplay, deutsch, german,esx', '2802', '', 'Deathpoint86', '', '', ['5d-deathscreen', '17mov_BuilderJob', '17mov_FpsBooster', '17mov_GarbageCollector', '17mov_Lumberjack', '17mov_TVesx', 'ak4y-multicharacter', 'ap-court', 'async', 'ataJobCenter', 'Az_trailer', 'b-deathtimeout', 'baseevents', 'bcs_questionare', 'bob74_ipl', 'brofx_mansion_18', 'brum_allcocktails', 'brum_cake', 'brum_pies', 'bulletin', 'Buty-BoatSchool', 'Buty-Bus', 'Buty-FlightSchool', 'Buty-license', 'bzzz_cocaplant', 'cart', 'cayocoloured', 'cd_easytime', 'cdev_md', 'cfx_gn_ambulance_garage', 'cfx_gn_collection', 'cfx_gn_mz_mountzonah', 'cfx-gabz-247', 'cfx-gabz-altruists', 'cfx-gabz-ammunation', 'cfx-gabz-arcade', 'cfx-gabz-barber', 'cfx-gabz-binco', 'cfx-gabz-bobcat', 'cfx-gabz-bowling', 'cfx-gabz-burgershot', 'cfx-gabz-carmeet', 'cfx-gabz-casino', 'cfx-gabz-catcafe', 'cfx-gabz-davispd', 'cfx-gabz-diner', 'cfx-gabz-esbltd', 'cfx-gabz-families', 'cfx-gabz-fleeca', 'cfx-gabz-harmony', 'cfx-gabz-haters', 'cfx-gabz-hayes', 'cfx-gabz-import', 'cfx-gabz-impound', 'cfx-gabz-koi', 'cfx-gabz-mapdata', 'cfx-gabz-mirrorpark1', 'cfx-gabz-mirrorpark2', 'cfx-gabz-ottos', 'cfx-gabz-pacificbank', 'cfx-gabz-paletobank', 'cfx-gabz-paletocamp', 'cfx-gabz-paletoliquor', 'cfx-gabz-paletopd', 'cfx-gabz-pdm', 'cfx-gabz-pdprops', 'cfx-gabz-pearls', 'cfx-gabz-pinkcage', 'cfx-gabz-pizzeria', 'cfx-gabz-ponsonbys', 'cfx-gabz-prison', 'cfx-gabz-records', 'cfx-gabz-sandypd', 'cfx-gabz-scenarios', 'cfx-gabz-studio', 'cfx-gabz-suburban', 'cfx-gabz-tattoo', 'cfx-gabz-tuners', 'cfx-gabz-vbmarket', 'cfx-gabz-vu', 'cfx-gabz-weedcamp', 'cfx-nteam-legion-square-extended', 'chat', 'cron', 'cs_discordRPC', 'cs_notify', 'cs_revivestation', 'cs_safezones', 'cs_vehdespawn', 'cs_xmenu', 'datacrack', 'dealership', 'decrypto-edit', 'DoItDigital_DrugPlaces_vol7', 'DoItDigital_Interiors', 'DoItDigital_MLO_Assetpack', 'doors_creator', 'dpclothing', 'dr_aduty', 'dr_cayo', 'dr_fishing', 'dr_helicam', 'dr_karting', 'dr_seatselector', 'dr_sit', 'dr_smallresource', 'dr_sperrzone', 'dr_westen', 'drc_bahama', 'drc_mechanic', 'drugs_creator', 'dynasty_electrician', 'EasyAdmin', 'EmergencyEUP', 'EmergencyOS', 'es_extended', 'esx_addonaccount', 'esx_basicneeds', 'esx_context', 'esx_datastore', 'esx_dmvschool', 'esx_givevehicle', 'esx_identity', 'esx_jobs', 'esx_license', 'esx_menu_default', 'esx_menu_dialog', 'esx_menu_list', 'esx_notify', 'esx_optionalneeds', 'esx_progressbar', 'esx_service', 'esx_skin', 'esx_society', 'esx_status', 'esx_taxijob', 'esx_textui', 'esx_tk_jewelryrobbery', 'esx_tk_shoprobbery', 'esx_vehicleshop', 'eternal-clothing', 'fiv3devs_bahamamamas', 'fiv3devs_bahamamamas_billboards', 'flight-atmprops', 'flight-atmrobbery', 'flight-fleecabankrobbery', 'flight-paletobankrobbery', 'grs_rapd', 'hacking', 'hex_bennys', 'hex_ffa', 'hex_namechange', 'hex_rent', 'HousingExport', 'howdy-hackminigame', 'illenium-appearance', 'int_vespmech', 'interact-sound', 'inventory', 'JD_logsV3', 'jobs_creator', 'jsfour-idcard', 'k4mb1-oilrig', 'k4mb1shellstarter', 'k5_documents', 'kd_custom-native', 'kd_hud-event', 'kd_towtruck', 'KillstorexQuasar_props', 'ks-loadingscreen', 'lc_advanced_vehicles', 'lc_truck_logistics', 'lc_utils', 'lightsout', 'lls-mechanic', 'lockpick', 'ls-radio', 'lunaticstudio_promo001', 'LV_anonymous', 'lv_areas', 'LV_autopilot', 'LV_blackmarket', 'lv_cocalabor', 'lv_digiDen', 'lv_discordadmin', 'lv_entry', 'lv_forest', 'lv_gangwar', 'lv_handling', 'lv_karting', 'lv_madrazos_ranch', 'lv_mansion', 'lv_mechanicmap', 'lv_otbag', 'lv_report', 'lv_saltycircle', 'lv_secretbase', 'lv_shop', 'lv_skateboard', 'lv_wash', 'LV_weapon', 'lv_yacht_entfernen', 'map', 'map4all_weapon_craft', 'map4all-props', 'map4all-wmanifacturing', 'memorygame', 'meta_libs', 'mhacking', 'mka-lasers', 'monitor', 'msk_core', 'msk_weaponammo', 'mythic_progbar', 'nearest-postal', 'nh-context', 'okokBanking', 'okokBilling', 'okokChatV2', 'okokCrafting', 'okokGarage', 'okokGasStation', 'okokNotify', 'okokTextUI', 'ox_doorlock', 'ox_lib', 'ox_target', 'oxmysql', 'pd-safe', 'PolyZone', 'prisma-plants', 'progressbar', 'ps-ui', 'pugs_lsia', 'qs-base', 'qs-dispatch', 'qs-drugs', 'qs-housing', 'qs-smartphone', 'qs-videos', 'rcore_addon_tattoos_christmas-tattoos', 'rcore_addon_tattoos_valentine', 'rcore_arcade', 'rcore_casino', 'rcore_casino_assets', 'rcore_drunk', 'rcore_radiocar', 'rcore_spray', 'rcore_spray_assets', 'rcore_tattoos', 'rcore_television', 'rcore_whiteboard', 'rcore_whiteboard_scaleform', 'reload-skillbar', 'RiP-Boating', 'RiP-Fraktion', 'RiP-Invest', 'RiP-Minigames', 'RiP-Prison', 'rpemotes', 'RxScrapyard', 'saltychat', 'screenshot-basic', 'sd_lib', 'sd-oilrig', 'sd-pacificbank', 'sd-yacht', 'simonsays', 'skillbar', 'skinchanger', 'sky_dailyrewards', 'sky_hud', 'smartphone_props', 'spawnmanager', 'trailers', 'trucks', 'TunningSystem', 'tv_scaleform', 'utk_fingerprint', 'utk_hackdependency', 'vehicles_keys', 'vImageCreator', 'vinewoodsign', 'wasabi_ambulance', 'wasabi_bridge', 'wasabi_crutch', 'wasabi_discord', 'wasabi_elevators', 'wasabi_evidence', 'wasabi_mining', 'wasabi_multijob', 'wasabi_police', 'WeaponAnimationMenuV2', 'webpack', 'western_townhall', 'wise_lifeinvader', 'wizating_stancer', 'xdiskjockey_beta', 'xsound', 'yarn']]\n",
      "The last index is: 51\n",
      "Scraping server 52, id is evg5xm\n",
      "evg5xm\n"
     ]
    },
    {
     "name": "stderr",
     "output_type": "stream",
     "text": [
      "https://servers.fivem.net/servers/detail/8jgdzb\n"
     ]
    },
    {
     "name": "stdout",
     "output_type": "stream",
     "text": [
      "An error occured scraping single servers.\n",
      "Message: \n",
      "\n",
      "Scraping server 53, id is 8jgdzb\n",
      "8jgdzb\n"
     ]
    },
    {
     "name": "stderr",
     "output_type": "stream",
     "text": [
      "https://servers.fivem.net/servers/detail/wk78av\n"
     ]
    },
    {
     "name": "stdout",
     "output_type": "stream",
     "text": [
      "An error occured scraping single servers.\n",
      "Message: \n",
      "\n",
      "Scraping server 54, id is wk78av\n",
      "wk78av\n"
     ]
    },
    {
     "name": "stderr",
     "output_type": "stream",
     "text": [
      "https://servers.fivem.net/servers/detail/porr6a\n"
     ]
    },
    {
     "name": "stdout",
     "output_type": "stream",
     "text": [
      "An error occured scraping single servers.\n",
      "Message: \n",
      "\n",
      "Scraping server 55, id is porr6a\n",
      "porr6a\n"
     ]
    },
    {
     "name": "stderr",
     "output_type": "stream",
     "text": [
      "https://servers.fivem.net/servers/detail/omkgdr\n"
     ]
    },
    {
     "name": "stdout",
     "output_type": "stream",
     "text": [
      "An error occured scraping single servers.\n",
      "Message: \n",
      "\n",
      "Scraping server 56, id is omkgdr\n",
      "omkgdr\n"
     ]
    },
    {
     "name": "stderr",
     "output_type": "stream",
     "text": [
      "https://servers.fivem.net/servers/detail/qyopqv\n"
     ]
    },
    {
     "name": "stdout",
     "output_type": "stream",
     "text": [
      "An error occured scraping single servers.\n",
      "Message: \n",
      "\n",
      "Scraping server 57, id is qyopqv\n",
      "qyopqv\n"
     ]
    },
    {
     "name": "stderr",
     "output_type": "stream",
     "text": [
      "https://servers.fivem.net/servers/detail/gb7akm\n"
     ]
    },
    {
     "name": "stdout",
     "output_type": "stream",
     "text": [
      "An error occured scraping single servers.\n",
      "Message: \n",
      "\n",
      "Scraping server 58, id is gb7akm\n",
      "gb7akm\n"
     ]
    },
    {
     "name": "stderr",
     "output_type": "stream",
     "text": [
      "https://servers.fivem.net/servers/detail/wympaj\n"
     ]
    },
    {
     "name": "stdout",
     "output_type": "stream",
     "text": [
      "An error occured scraping single servers.\n",
      "Message: \n",
      "\n",
      "Scraping server 59, id is wympaj\n",
      "wympaj\n"
     ]
    },
    {
     "name": "stderr",
     "output_type": "stream",
     "text": [
      "Resources: Addons, agea_ile_lost, apolo_loadingscreen, assets_map, avp_distillery_props, baseevents, basic-gamemode, blips_creator, bob74_ipl, CayoImprovements, chat, ContextMenu, core_crafting, core_drugs, core_inventory, cron, delta_fob_v5, devcore_needs, devcore_qbus_smokev2_new, devyn-backitems, DiamondRustHud, doors_creator, DyzCarSystem-master, farah_village_v1, fivem-map-skater, fpack, hrs_airdrop, hrs_base_building, hrs_fuel, hrs_gather, HRS_handling, hrs_loot, hrs_props, hrs_vehicles, hrs_zombies_V2, illenium-appearance, interact-sound, ixhal-weight, jim-mechanic, k_diseases, k_hygiene, k4mb1-oilrig, keep-menu, kimi_callbacks, Kleidung, Koldysek_Dollar_Pills_Military_Base, Koldysek_FOB_Parking_Garage, koldysek_fob_rebel_station, kq_lootareas, lambra-antiCL, leaderboard_main_open, lockpick, mapmanager, menu_default, menuv, monitor, NativeUI, nh-context, NW_fishing, ox_lib, ox_target, oxmysql, oxy3n_freshfood_2, PolyZone, progressbar, qb-adminmenu, qb-ambulancejob, qb-apartments, qb-core, qb-input, qb-interior, qb-lockpick, qb-management, qb-menu, qb-multicharacter, qb-skillbar, qb-smallresources, qb-spawn, qb-vehiclefailure, qb-weapons, r_animations, rcore_prison_map, rcore_spray, rcore_spray_assets, rcore_tattoos, relisoft_tag, reload-skillbar, rep-talkNPC, rtx_carry, RustFurnaces, RxZ_Smelters, s4-cuffv3, screenshot-basic, shops, sit, spawnmanager, tpack, unlimited_carkeys, unlimited_trading, unlimited-spectre, vMenu, weathersync, webpack, xsound, xtxvxtx_dragon_katana_blue, yankee_fob_v6, yarn, zombie_misc\n",
      "Game type: Freeroam\n",
      "Map: fivem-map-skater\n",
      "OneSync: enabled\n",
      "Language: German (Germany)\n",
      "Tags: default, deployer, qbcore, qb-core\n",
      "DLC level: 2944\n",
      "sv_pureLevel: 0\n",
      "Owner: MInzeTV\n",
      "https://servers.fivem.net/servers/detail/emr8ob\n"
     ]
    },
    {
     "name": "stdout",
     "output_type": "stream",
     "text": [
      "['', 'https://servers.fivem.net/servers/detail/wympaj', '', 'Freeroam', 'enabled', 'fivem-map-skater', 'German (Germany)', 'default, deployer, qbcore, qb-core', '2944', '', 'MInzeTV', '', '', ['Addons', 'agea_ile_lost', 'apolo_loadingscreen', 'assets_map', 'avp_distillery_props', 'baseevents', 'basic-gamemode', 'blips_creator', 'bob74_ipl', 'CayoImprovements', 'chat', 'ContextMenu', 'core_crafting', 'core_drugs', 'core_inventory', 'cron', 'delta_fob_v5', 'devcore_needs', 'devcore_qbus_smokev2_new', 'devyn-backitems', 'DiamondRustHud', 'doors_creator', 'DyzCarSystem-master', 'farah_village_v1', 'fivem-map-skater', 'fpack', 'hrs_airdrop', 'hrs_base_building', 'hrs_fuel', 'hrs_gather', 'HRS_handling', 'hrs_loot', 'hrs_props', 'hrs_vehicles', 'hrs_zombies_V2', 'illenium-appearance', 'interact-sound', 'ixhal-weight', 'jim-mechanic', 'k_diseases', 'k_hygiene', 'k4mb1-oilrig', 'keep-menu', 'kimi_callbacks', 'Kleidung', 'Koldysek_Dollar_Pills_Military_Base', 'Koldysek_FOB_Parking_Garage', 'koldysek_fob_rebel_station', 'kq_lootareas', 'lambra-antiCL', 'leaderboard_main_open', 'lockpick', 'mapmanager', 'menu_default', 'menuv', 'monitor', 'NativeUI', 'nh-context', 'NW_fishing', 'ox_lib', 'ox_target', 'oxmysql', 'oxy3n_freshfood_2', 'PolyZone', 'progressbar', 'qb-adminmenu', 'qb-ambulancejob', 'qb-apartments', 'qb-core', 'qb-input', 'qb-interior', 'qb-lockpick', 'qb-management', 'qb-menu', 'qb-multicharacter', 'qb-skillbar', 'qb-smallresources', 'qb-spawn', 'qb-vehiclefailure', 'qb-weapons', 'r_animations', 'rcore_prison_map', 'rcore_spray', 'rcore_spray_assets', 'rcore_tattoos', 'relisoft_tag', 'reload-skillbar', 'rep-talkNPC', 'rtx_carry', 'RustFurnaces', 'RxZ_Smelters', 's4-cuffv3', 'screenshot-basic', 'shops', 'sit', 'spawnmanager', 'tpack', 'unlimited_carkeys', 'unlimited_trading', 'unlimited-spectre', 'vMenu', 'weathersync', 'webpack', 'xsound', 'xtxvxtx_dragon_katana_blue', 'yankee_fob_v6', 'yarn', 'zombie_misc']]\n",
      "The last index is: 59\n",
      "Scraping server 60, id is emr8ob\n",
      "emr8ob\n"
     ]
    },
    {
     "name": "stderr",
     "output_type": "stream",
     "text": [
      "Resources: AntiFailRP, baseevents, basic-gamemode, bob74_ipl, chat, connectqueue, dealer_map, e_core, eco_crafting, fivem-map-hipster, hh_aidoc, hospital_map, interact-sound, jg-advancedgarages, jg-textui, jim-mining, LegacyFuel, lspd-hud, lusty94_smoking, map, mapmanager, menuv, mhacking, monitor, mt-clothingbag, okokBanking, okokBilling, okokNotify, okokTextUI, okokTuning, ox_lib, oxmysql, pma-voice, police-cars, Policeformv1, PolyZone, prison_canteen, prison_main, prison_meeting, progressbar, ps-dispatch, ps-mdt, qb-adminmenu, qb-ambulancejob, qb-apartments, qb-atms, qb-bankrobbery, qb-bossmenu, qb-busjob, qb-cityhall, qb-clothing, qb-commandbinding, qb-core, qb-crypto, qb-customs, qb-diving, qb-doorlock, qb-drugs, qb-fitbit, qb-garbagejob, qb-hotdogjob, qb-houserobbery, qb-houses, qb-hud, qb-input, qb-interior, qb-inventory, qb-jewelery, qb-keyminigame, qb-lapraces, qb-loading, qb-lockpick, qb-management, qb-mechanicjob, qb-menu, qb-multicharacter, qb-newsjob, qb-pawnshop, qb-phone, qb-policejob, qb-prison, qb-radialmenu, qb-radio, qb-recyclejob, qb-scoreboard, qb-scrapyard, qb-shops, qb-skillbar, qb-smallresources, qb-spawn, qb-storerobbery, qb-streetraces, qb-target, qb-taxijob, qb-towjob, qb-traphouse, qb-truckerjob, qb-truckrobbery, qb-tunerchip, qb-vehiclefailure, qb-vehiclekeys, qb-vehiclesales, qb-vehicleshop, qb-weapons, qb-weathersync, qb-weed, randol_fingerprint, Ranjit-EMS-bag, rpemotes, safecracker, screenshot-basic, spawnmanager, tr-blackmarket, vrm, webpack, wk_wars2x, yarn\n",
      "Game type: Freeroam\n",
      "Map: fivem-map-hipster\n",
      "OneSync: enabled\n",
      "Language: Japanese (Japan)\n",
      "Tags: default, deployer, qbcore, qb-core\n",
      "DLC level: 2944\n",
      "sv_pureLevel: 0\n",
      "Owner: ECAKI\n",
      "https://servers.fivem.net/servers/detail/5k8jdz\n"
     ]
    },
    {
     "name": "stdout",
     "output_type": "stream",
     "text": [
      "['', 'https://servers.fivem.net/servers/detail/emr8ob', '', 'Freeroam', 'enabled', 'fivem-map-hipster', 'Japanese (Japan)', 'default, deployer, qbcore, qb-core', '2944', '', 'ECAKI', '', '', ['AntiFailRP', 'baseevents', 'basic-gamemode', 'bob74_ipl', 'chat', 'connectqueue', 'dealer_map', 'e_core', 'eco_crafting', 'fivem-map-hipster', 'hh_aidoc', 'hospital_map', 'interact-sound', 'jg-advancedgarages', 'jg-textui', 'jim-mining', 'LegacyFuel', 'lspd-hud', 'lusty94_smoking', 'map', 'mapmanager', 'menuv', 'mhacking', 'monitor', 'mt-clothingbag', 'okokBanking', 'okokBilling', 'okokNotify', 'okokTextUI', 'okokTuning', 'ox_lib', 'oxmysql', 'pma-voice', 'police-cars', 'Policeformv1', 'PolyZone', 'prison_canteen', 'prison_main', 'prison_meeting', 'progressbar', 'ps-dispatch', 'ps-mdt', 'qb-adminmenu', 'qb-ambulancejob', 'qb-apartments', 'qb-atms', 'qb-bankrobbery', 'qb-bossmenu', 'qb-busjob', 'qb-cityhall', 'qb-clothing', 'qb-commandbinding', 'qb-core', 'qb-crypto', 'qb-customs', 'qb-diving', 'qb-doorlock', 'qb-drugs', 'qb-fitbit', 'qb-garbagejob', 'qb-hotdogjob', 'qb-houserobbery', 'qb-houses', 'qb-hud', 'qb-input', 'qb-interior', 'qb-inventory', 'qb-jewelery', 'qb-keyminigame', 'qb-lapraces', 'qb-loading', 'qb-lockpick', 'qb-management', 'qb-mechanicjob', 'qb-menu', 'qb-multicharacter', 'qb-newsjob', 'qb-pawnshop', 'qb-phone', 'qb-policejob', 'qb-prison', 'qb-radialmenu', 'qb-radio', 'qb-recyclejob', 'qb-scoreboard', 'qb-scrapyard', 'qb-shops', 'qb-skillbar', 'qb-smallresources', 'qb-spawn', 'qb-storerobbery', 'qb-streetraces', 'qb-target', 'qb-taxijob', 'qb-towjob', 'qb-traphouse', 'qb-truckerjob', 'qb-truckrobbery', 'qb-tunerchip', 'qb-vehiclefailure', 'qb-vehiclekeys', 'qb-vehiclesales', 'qb-vehicleshop', 'qb-weapons', 'qb-weathersync', 'qb-weed', 'randol_fingerprint', 'Ranjit-EMS-bag', 'rpemotes', 'safecracker', 'screenshot-basic', 'spawnmanager', 'tr-blackmarket', 'vrm', 'webpack', 'wk_wars2x', 'yarn']]\n",
      "The last index is: 60\n",
      "Scraping server 61, id is 5k8jdz\n",
      "5k8jdz\n"
     ]
    },
    {
     "name": "stderr",
     "output_type": "stream",
     "text": [
      "https://servers.fivem.net/servers/detail/kx775v\n"
     ]
    },
    {
     "name": "stdout",
     "output_type": "stream",
     "text": [
      "An error occured scraping single servers.\n",
      "Message: \n",
      "\n",
      "Scraping server 62, id is kx775v\n",
      "kx775v\n"
     ]
    },
    {
     "name": "stderr",
     "output_type": "stream",
     "text": [
      "https://servers.fivem.net/servers/detail/zg5yrd\n"
     ]
    },
    {
     "name": "stdout",
     "output_type": "stream",
     "text": [
      "An error occured scraping single servers.\n",
      "Message: \n",
      "\n",
      "Scraping server 63, id is zg5yrd\n",
      "zg5yrd\n"
     ]
    },
    {
     "name": "stderr",
     "output_type": "stream",
     "text": [
      "https://servers.fivem.net/servers/detail/ryl4xj\n"
     ]
    },
    {
     "name": "stdout",
     "output_type": "stream",
     "text": [
      "An error occured scraping single servers.\n",
      "Message: \n",
      "\n",
      "Scraping server 64, id is ryl4xj\n",
      "ryl4xj\n"
     ]
    },
    {
     "name": "stderr",
     "output_type": "stream",
     "text": [
      "https://servers.fivem.net/servers/detail/aj7xj3\n"
     ]
    },
    {
     "name": "stdout",
     "output_type": "stream",
     "text": [
      "An error occured scraping single servers.\n",
      "Message: \n",
      "\n",
      "Scraping server 65, id is aj7xj3\n",
      "aj7xj3\n"
     ]
    },
    {
     "name": "stderr",
     "output_type": "stream",
     "text": [
      "https://servers.fivem.net/servers/detail/ooqq3r\n"
     ]
    },
    {
     "name": "stdout",
     "output_type": "stream",
     "text": [
      "An error occured scraping single servers.\n",
      "Message: \n",
      "\n",
      "Scraping server 66, id is ooqq3r\n",
      "ooqq3r\n"
     ]
    },
    {
     "name": "stderr",
     "output_type": "stream",
     "text": [
      "https://servers.fivem.net/servers/detail/poldya\n"
     ]
    },
    {
     "name": "stdout",
     "output_type": "stream",
     "text": [
      "An error occured scraping single servers.\n",
      "Message: \n",
      "\n",
      "Scraping server 67, id is poldya\n",
      "poldya\n"
     ]
    },
    {
     "name": "stderr",
     "output_type": "stream",
     "text": [
      "https://servers.fivem.net/servers/detail/2v86vk\n"
     ]
    },
    {
     "name": "stdout",
     "output_type": "stream",
     "text": [
      "An error occured scraping single servers.\n",
      "Message: \n",
      "\n",
      "Scraping server 68, id is 2v86vk\n",
      "2v86vk\n"
     ]
    },
    {
     "name": "stderr",
     "output_type": "stream",
     "text": [
      "https://servers.fivem.net/servers/detail/464kg9\n"
     ]
    },
    {
     "name": "stdout",
     "output_type": "stream",
     "text": [
      "An error occured scraping single servers.\n",
      "Message: \n",
      "\n",
      "Scraping server 69, id is 464kg9\n",
      "464kg9\n"
     ]
    },
    {
     "name": "stderr",
     "output_type": "stream",
     "text": [
      "https://servers.fivem.net/servers/detail/rvqmgj\n"
     ]
    },
    {
     "name": "stdout",
     "output_type": "stream",
     "text": [
      "An error occured scraping single servers.\n",
      "Message: \n",
      "\n",
      "Scraping server 70, id is rvqmgj\n",
      "rvqmgj\n"
     ]
    },
    {
     "name": "stderr",
     "output_type": "stream",
     "text": [
      "https://servers.fivem.net/servers/detail/vdj5lx\n"
     ]
    },
    {
     "name": "stdout",
     "output_type": "stream",
     "text": [
      "An error occured scraping single servers.\n",
      "Message: \n",
      "\n",
      "Scraping server 71, id is vdj5lx\n",
      "vdj5lx\n"
     ]
    },
    {
     "name": "stderr",
     "output_type": "stream",
     "text": [
      "https://servers.fivem.net/servers/detail/437l8v\n"
     ]
    },
    {
     "name": "stdout",
     "output_type": "stream",
     "text": [
      "An error occured scraping single servers.\n",
      "Message: \n",
      "\n",
      "Scraping server 72, id is 437l8v\n",
      "437l8v\n"
     ]
    },
    {
     "name": "stderr",
     "output_type": "stream",
     "text": [
      "https://servers.fivem.net/servers/detail/x3zgdm\n"
     ]
    },
    {
     "name": "stdout",
     "output_type": "stream",
     "text": [
      "An error occured scraping single servers.\n",
      "Message: \n",
      "\n",
      "Scraping server 73, id is x3zgdm\n",
      "x3zgdm\n"
     ]
    },
    {
     "name": "stderr",
     "output_type": "stream",
     "text": [
      "https://servers.fivem.net/servers/detail/mopym9\n"
     ]
    },
    {
     "name": "stdout",
     "output_type": "stream",
     "text": [
      "An error occured scraping single servers.\n",
      "Message: \n",
      "\n",
      "Scraping server 74, id is mopym9\n",
      "mopym9\n"
     ]
    },
    {
     "name": "stderr",
     "output_type": "stream",
     "text": [
      "https://servers.fivem.net/servers/detail/a5a889\n"
     ]
    },
    {
     "name": "stdout",
     "output_type": "stream",
     "text": [
      "An error occured scraping single servers.\n",
      "Message: \n",
      "\n",
      "Scraping server 75, id is a5a889\n",
      "a5a889\n"
     ]
    },
    {
     "name": "stderr",
     "output_type": "stream",
     "text": [
      "https://servers.fivem.net/servers/detail/ajamk9\n"
     ]
    },
    {
     "name": "stdout",
     "output_type": "stream",
     "text": [
      "An error occured scraping single servers.\n",
      "Message: \n",
      "\n",
      "Scraping server 76, id is ajamk9\n",
      "ajamk9\n"
     ]
    },
    {
     "name": "stderr",
     "output_type": "stream",
     "text": [
      "Resources: 3dme, ak47_qb_anklemonitor, ak47_qb_drugdealerv2, ak47_qb_gpstracker, ak47_qb_hookahlounge, ak47_qb_switch, ak47_stance, an_wallet, announcecreator, apolo_moneywash, ArtGalleryMLO, basedelta, baseevents, basic-gamemode, bob74_ipl, boii-consumables, boii-uwucafe, boii-whitewidow, brutal_gym, burgershot, Buty-Airplane, Buty-Miner, carsounds, CaserioTH_jotaaa, cd_cctv, cd_drawtextui, cd_garage, cd_garageshell, cd_keymaster, cfx-gabz-catcafe, cfx-gabz-davispd, cfx-gabz-pdprops, cfx-gabz-pearls, cfx-gabz-pizzeria, cinematiccam, connectqueue, core_rob_art_k4mb1, core_rob_essentials, core_rob_minigames, core_vehicle, cqc-mugshot-dev, d3-arcade, DLTow, DLTowVehicles, dpclothing, drc_drugs, drc_pearls, drc_wine, estudio, esx_menu_default, favelas, fishing, fiv3devs_bluffs, fivem-appearance, fivem-devmap, fivem-map-hipster, FlatbedScript, Ftequilala, Gow%20Casa, hane_treybakery, hane_treybakery_noout, id1_h_hospital, interact-sound, jim-bakery, jim-consumables, jim-pizzathis, jim-vanillaunicorn, K4MB1-ClassicHousing, kc-sitting, kq_lootareas, kq_outfitbag, kq_smugglers, ks-loadingscreen, ks-multicharacter, ks-scoreboard, laundry, lb-phone, lb-phoneprop, LegacyFuel, loaf_lib, Logo-Watermark, lookbug, lsc, Lty-Clothesv1, LtyExtraSlots, lux_vehcontrol, m-Insurance, m-Tequila, m-Trucker, map, mapmanager, Maps_Bella_Vanilla_-_by_Ajna_Mods, memorygame, MenuAPI, menuv, mhacking, MilosBasketball, MilosShowers, MilosSLGC, monitor, Mosbaekdesign_whitewidow_cafe_V2Update_mlo, Motors-Shops, mythic_notify, NativeUI, No-NPC, okokBilling, okokChat, okokNotify, origen_inventory, origen_police, origen_police_menu, ox_lib, oxmysql, p-housing, PaletoGarage, playflare-hb, plt_farmer, pma-voice, PolyZone, postal, prison_main, progressbar, ps-multijob, ps-ui, pug-repojob, qb_headbag, qb-adminmenu, qb-ambulancejob, qb-apartments, qb-atms, qb-banking, qb-bankrobbery, qb-blackmarket, qb-burgershot, qb-busjob, qb-cityhall, qb-commandbinding, qb-communityservice, qb-core, qb-djbooth, qb-doorlock, qb-drugs, qb-fitbit, qb-garbagejob, qb-hotdogjob, qb-houserobbery, qb-input, qb-interior, qb-jewelery, qb-keyminigame, qb-lapraces, qb-lockpick, qb-management, qb-mechanicjob, qb-menu, qb-newsjob, qb-notes, qb-pawnshop, qb-policebadge, qb-prison, qb-radialmenu, qb-radio, qb-recyclejob, qb-shops, qb-skillbar, qb-smallresources, qb-spawn, qb-storerobbery, qb-streetraces, qb-target, qb-tattooshop, qb-taxijob, qb-towjob, qb-traphouse, qb-trashsearch, qb-truckrobbery, qb-tunerchip, qb-vault, qb-vehiclefailure, qb-vehiclekeys, qb-vehiclesales, qb-vineyard, qb-weapons, qb-weapons-customs, qb-weathersync, qubit-drivingshake, rcore_camping, rcore_camping_assets, rcore_itemradio, rcore_pool, rcore_radiocar, rcore_report, renzu_stancer, rm_bettaheist, rm_drugboatheist, rm_trainheist, ropa_peachy, rpemotes, rtx_themepark, rtx_themepark_objects, rtx_wateractivities, safecracker, screenshot-basic, SleepOrSexv2, smd_middleseat, spawnmanager, static-zones, streaming, stretcher, stretcher-model, stretcher-script, stretcherscript, SunnyIsland-Autos, vir-customs, vir-gangas, vir-lumaEnergy, vir-mlo-housing, vir-npc-hostage, vir-vehicleshop, virus_chud, virus_infoUI, virus_newui, vms_barber, wasabi_bridge, wasabi_evidence, water-world, webpack, wine_props, wk_wars2x, xsound, yarn, Zm_Crafting, Zm_Notify, Zm-Admins-Tags, Zm-Animales, Zm-BackPack, Zm-CarMenu, Zm-Caserio, Zm-Consumables, Zm-Core, Zm-Maps, Zm-Qb-KillFeed, Zm-Qb-PedMenu, Zm-Remover-Peds, Zm-Smokes, Zm-Vending\n",
      "Game type: Freeroam\n",
      "Map: fivem-map-hipster\n",
      "OneSync: enabled\n",
      "Language: undefined (undefined)\n",
      "Tags: default, deployer, qbcore, qb-core\n",
      "AntiDDos: Enabled\n",
      "Discord: discord.gg/gmhER9vxQ\n",
      "Fundador: Sunny Island\n",
      "Programador: zMaSs4cR3x#9047\n",
      "company: FiveMDevTeam\n",
      "DLC level: 2545\n",
      "sv_pureLevel: 0\n",
      "Owner: LosMontana\n",
      "https://servers.fivem.net/servers/detail/yp4kry\n"
     ]
    },
    {
     "name": "stdout",
     "output_type": "stream",
     "text": [
      "['', 'https://servers.fivem.net/servers/detail/ajamk9', '', 'Freeroam', 'enabled', 'fivem-map-hipster', 'undefined (undefined)', 'default, deployer, qbcore, qb-core', '2545', '', 'LosMontana', '', '', ['3dme', 'ak47_qb_anklemonitor', 'ak47_qb_drugdealerv2', 'ak47_qb_gpstracker', 'ak47_qb_hookahlounge', 'ak47_qb_switch', 'ak47_stance', 'an_wallet', 'announcecreator', 'apolo_moneywash', 'ArtGalleryMLO', 'basedelta', 'baseevents', 'basic-gamemode', 'bob74_ipl', 'boii-consumables', 'boii-uwucafe', 'boii-whitewidow', 'brutal_gym', 'burgershot', 'Buty-Airplane', 'Buty-Miner', 'carsounds', 'CaserioTH_jotaaa', 'cd_cctv', 'cd_drawtextui', 'cd_garage', 'cd_garageshell', 'cd_keymaster', 'cfx-gabz-catcafe', 'cfx-gabz-davispd', 'cfx-gabz-pdprops', 'cfx-gabz-pearls', 'cfx-gabz-pizzeria', 'cinematiccam', 'connectqueue', 'core_rob_art_k4mb1', 'core_rob_essentials', 'core_rob_minigames', 'core_vehicle', 'cqc-mugshot-dev', 'd3-arcade', 'DLTow', 'DLTowVehicles', 'dpclothing', 'drc_drugs', 'drc_pearls', 'drc_wine', 'estudio', 'esx_menu_default', 'favelas', 'fishing', 'fiv3devs_bluffs', 'fivem-appearance', 'fivem-devmap', 'fivem-map-hipster', 'FlatbedScript', 'Ftequilala', 'Gow%20Casa', 'hane_treybakery', 'hane_treybakery_noout', 'id1_h_hospital', 'interact-sound', 'jim-bakery', 'jim-consumables', 'jim-pizzathis', 'jim-vanillaunicorn', 'K4MB1-ClassicHousing', 'kc-sitting', 'kq_lootareas', 'kq_outfitbag', 'kq_smugglers', 'ks-loadingscreen', 'ks-multicharacter', 'ks-scoreboard', 'laundry', 'lb-phone', 'lb-phoneprop', 'LegacyFuel', 'loaf_lib', 'Logo-Watermark', 'lookbug', 'lsc', 'Lty-Clothesv1', 'LtyExtraSlots', 'lux_vehcontrol', 'm-Insurance', 'm-Tequila', 'm-Trucker', 'map', 'mapmanager', 'Maps_Bella_Vanilla_-_by_Ajna_Mods', 'memorygame', 'MenuAPI', 'menuv', 'mhacking', 'MilosBasketball', 'MilosShowers', 'MilosSLGC', 'monitor', 'Mosbaekdesign_whitewidow_cafe_V2Update_mlo', 'Motors-Shops', 'mythic_notify', 'NativeUI', 'No-NPC', 'okokBilling', 'okokChat', 'okokNotify', 'origen_inventory', 'origen_police', 'origen_police_menu', 'ox_lib', 'oxmysql', 'p-housing', 'PaletoGarage', 'playflare-hb', 'plt_farmer', 'pma-voice', 'PolyZone', 'postal', 'prison_main', 'progressbar', 'ps-multijob', 'ps-ui', 'pug-repojob', 'qb_headbag', 'qb-adminmenu', 'qb-ambulancejob', 'qb-apartments', 'qb-atms', 'qb-banking', 'qb-bankrobbery', 'qb-blackmarket', 'qb-burgershot', 'qb-busjob', 'qb-cityhall', 'qb-commandbinding', 'qb-communityservice', 'qb-core', 'qb-djbooth', 'qb-doorlock', 'qb-drugs', 'qb-fitbit', 'qb-garbagejob', 'qb-hotdogjob', 'qb-houserobbery', 'qb-input', 'qb-interior', 'qb-jewelery', 'qb-keyminigame', 'qb-lapraces', 'qb-lockpick', 'qb-management', 'qb-mechanicjob', 'qb-menu', 'qb-newsjob', 'qb-notes', 'qb-pawnshop', 'qb-policebadge', 'qb-prison', 'qb-radialmenu', 'qb-radio', 'qb-recyclejob', 'qb-shops', 'qb-skillbar', 'qb-smallresources', 'qb-spawn', 'qb-storerobbery', 'qb-streetraces', 'qb-target', 'qb-tattooshop', 'qb-taxijob', 'qb-towjob', 'qb-traphouse', 'qb-trashsearch', 'qb-truckrobbery', 'qb-tunerchip', 'qb-vault', 'qb-vehiclefailure', 'qb-vehiclekeys', 'qb-vehiclesales', 'qb-vineyard', 'qb-weapons', 'qb-weapons-customs', 'qb-weathersync', 'qubit-drivingshake', 'rcore_camping', 'rcore_camping_assets', 'rcore_itemradio', 'rcore_pool', 'rcore_radiocar', 'rcore_report', 'renzu_stancer', 'rm_bettaheist', 'rm_drugboatheist', 'rm_trainheist', 'ropa_peachy', 'rpemotes', 'rtx_themepark', 'rtx_themepark_objects', 'rtx_wateractivities', 'safecracker', 'screenshot-basic', 'SleepOrSexv2', 'smd_middleseat', 'spawnmanager', 'static-zones', 'streaming', 'stretcher', 'stretcher-model', 'stretcher-script', 'stretcherscript', 'SunnyIsland-Autos', 'vir-customs', 'vir-gangas', 'vir-lumaEnergy', 'vir-mlo-housing', 'vir-npc-hostage', 'vir-vehicleshop', 'virus_chud', 'virus_infoUI', 'virus_newui', 'vms_barber', 'wasabi_bridge', 'wasabi_evidence', 'water-world', 'webpack', 'wine_props', 'wk_wars2x', 'xsound', 'yarn', 'Zm_Crafting', 'Zm_Notify', 'Zm-Admins-Tags', 'Zm-Animales', 'Zm-BackPack', 'Zm-CarMenu', 'Zm-Caserio', 'Zm-Consumables', 'Zm-Core', 'Zm-Maps', 'Zm-Qb-KillFeed', 'Zm-Qb-PedMenu', 'Zm-Remover-Peds', 'Zm-Smokes', 'Zm-Vending']]\n",
      "The last index is: 76\n",
      "Scraping server 77, id is yp4kry\n",
      "yp4kry\n"
     ]
    },
    {
     "name": "stderr",
     "output_type": "stream",
     "text": [
      "Server Name: |Flippin-RP||WORLDS BEST ECONOMY SERVER!||Police and EMS Jobs||Serious RP||Custom EUP||Drugs||Houses||Custom Jobs||Custom Cars||Anyone Can Join||300k Start||Custom DriftChip for vehicles|!\n"
     ]
    },
    {
     "name": "stdout",
     "output_type": "stream",
     "text": [
      "%%%%%%%%%%%%%%%%%%%%%%%%%%%%%%%%%%%%%%%%%%%%%%%%%%%%%%%%%%%%%%%%%\n",
      "|Flippin-RP||WORLDS BEST ECONOMY SERVER!||Police and EMS Jobs||Serious RP||Custom EUP||Drugs||Houses||Custom Jobs||Custom Cars||Anyone Can Join||300k Start||Custom DriftChip for vehicles|!\n",
      "%%%%%%%%%%%%%%%%%%%%%%%%%%%%%%%%%%%%%%%%%%%%%%%%%%%%%%%%%%%%%%%%%\n"
     ]
    },
    {
     "name": "stderr",
     "output_type": "stream",
     "text": [
      "Resources: _EDA_01, 0r-core, 3CHARGER, 3DURANGO, 3FPIS, 3RAM, 3TAHOE, 3TUNDRA, 3VIC, 4PFMall, 5glimited, 14chargerheat, 14silvkobe, 18tahoe, 20CAMARO, 36, 204sW124, 318CHARGER, 319EXP, 320FPIU, 321TAHOE, 800proleo, 2020hellcat, abhawk, abtrailer, add-on, AddonMilitary2, Admin2021Charger, ADMINChargerLightbar, aeraptor, AK-47, ak47_qb_anklemonitor, ak47_qb_burgershop, ak47_qb_chickenwings, ak47_qb_chicknfries, ak47_qb_cookiesv2, ak47_qb_crutch, ak47_qb_donutshop, ak47_qb_drugmanager, ak47_qb_gpstracker, ak47_qb_housing, ak47_qb_npcmed, ak47_qb_pizzashop, ak47_qb_prospecting, ak47_qb_switch, ak47_qb_usablecookiesv2, ak47_qb_usabledrugs, al_vehiclemenu, amcybertruck, an_dialogBox, an_interMenu, an_interNPC, an_progBar, angelicxs_flipcar, anti-cl2, ap-gc18, apoteka, aqls7raceswap, AR-15, arPistol, ARX160, as_autoexotic+ds, as_mapdata, aspbaton, astudios-skating, B&B, b21raider, Badger_Jailing, baggednchop, BalisticShield, banner_anim, baseevents, basic-gamemode, bb-chairs, bb-dices, bb-prop, bbmrap, bc97f350megas, bclance, BEANBAGSHOTGUN, bearcat_b, Better-Miranda-Card, binmaster, BLFPD-staffbike, BLFPD-staffgladiator, BLFPD-staffhellcat, BLFPD-stafftahoe, blipsBuilder, Bloodsnew, bloodsv2, bmwallblue, BmwM2Car, BmwM2Sound, bob74_ipl, boii-consumables, boii-uwucafe, boostingminigame, bos11ford, bosf150obs, bosfarmcat3, bosferd, boshunts10, bosinglebub, bosleanedcat, bosleanedyukon, bosleanext, boslulu, bosmudranger, bospimpobs, bospimpsilv2, bosprojectcat, bosrepyukon, bostowcat, bostrapkon, bostraplonn, bostreetcat, boswidecat, bosyukon2, bosyukon3, Boy-Black17, brettmichaels, breze_medusa, breze_wingstop, brf450, bridge_drifttuner, BRM, bropixel-boosting, BuilderJob, Buty-Trucker, c3f350rollback, c3navistar, C3RANGER, cadone, californiaplates, carrerav10, CarryPeople, carsounds, carsounds2, carsounds4, case-whitewidowjob, CCtsv, cfx-gabz-247, cfx-gabz-aztecas, cfx-gabz-bahama, cfx-gabz-ballas, cfx-gabz-binco, cfx-gabz-carmeet, cfx-gabz-casino, cfx-gabz-catcafe, cfx-gabz-diner, cfx-gabz-hayes, cfx-gabz-import, cfx-gabz-mapdata, cfx-gabz-mirrorpark1, cfx-gabz-mirrorpark2, cfx-gabz-ottos, cfx-gabz-pdprops, cfx-gabz-pizzeria, cfx-gabz-prison, cfx-gabz-sandypd, cfx-gabz-scenarios, cfx-gabz-vagos, chat, CheyTac%20M200%20Intervention, ChickFilA, ComplaintForm, connectqueue, core_crafting, court, cr-storeextras, cs_ejectorseat, cummins5924v, cvpiv8-sound, CWheelPackV2, datacrack, davidburb, dc_DrIllegal, dc-adminmenu, dc-open-houses, dealer_map, defender22silv, defenderslicktop22silv, desert_mansion, DesertEagle, design_house, DisableConsole, discordrpc, distrtc_nogrip, doctorlean, dog-bodycam, dominos, don-jewelery, dpscenes, dr-scratching, Draco, dracosrt, drehellcatdurango, drip-tattopack, drones, drones_stream, Dunkin, ebu_2step, ebu_trailer, EDA_BASE, emfan-emp, emfan-framework, enc0ded-persistent-vehicles, enforcerengine, enginesound-1, EXPD, F-350hoodstackken, fakeplates, FBLOCK, fcrp-exoticPaints, fcrpapplestore, FCRPpowers, firehose, firehosemodels, fivem-map-skater, flashbang, FlashlightVisuals, FNFNX45, fordvoodoo, foxgt24, foxy, fr-custom_weapons_melee, fr-custom_weapons_thrown, fr-jumpscare, fr-vehicleaudio, french_villa, FRLightsystem, FRP-admin, FRP-harness, FRP-LOADING, FRP-wheeldamage, frpbackitems, FRPCARSounds, FRPCivPack2, FRPCivPacknew, FRPGunSound, FRPNEW3PACK, FRPSurrender, FRPv3sounds, FRPWHEELS, fv-vehcontrol, g-bikerentals, G27-HK417, G36MM, gabz_mrpd, Gabz-hayesauto, gdcustom-weapons, generic_texture_renderer_gfx, gks_ebay, gks_gotur, gks_racing, gks_rentacar, gksphone, gl-garbage, gl-prison, gl-recycling, Glock17, Glock19, GODz69MARO, GODz95GSX, GODZnew, GODzRZ34DRIFT, GODzTRACKCAT, GODzTROFEOEVO, GODzVIPS63AMG, grappler, gtrailer, hellcat15, hellcat15w, HKG3A3, HoodRichGodzilla, hospital_map, HuntingRifle, Hycadeurus, hypnonema, hypnonema-map, iak_wheelchair, int_paleto_pills, interact-sound, iplLoader, j17_firepole, j17_legionfire, jeeps, Jordan-Boy2, K_FRAUDATMS-QB, K_FRAUDPROPS, K_FRAUDSHOPS-QB, K_FRAUDV2-QB, K9, k9fpiu, kc-unicorn, kc98gmls6sc, keep-gunrack, kensematundra, kensuperduty, KENTUNDRAARMORED, kenundercover, kevin-pickbikes, kevin-weaponscratch, kids, knockout, kq_engineswaps, ktm, kxf450, LA-Roads, LaserSight, laundry, leaninsilv, lg-radiocar, libsub, lightbars, lightbarScript, lks_hckrspc, loaf_spikestrips, ltr450, luffscat, luttu_island, lvc, m-Backpacks, m-FoodVan, m-HouseRobberys, m-Insurance, M4, M9A3, m16a2, m22, M70, M1911, MAC-10, MacsCustomMustang, maddebertijeep, madf150, madf350lift, mafia_mansion, Maik-Boy, mapmanager, marine, matushighwaypatrol, mb10, MCore-QB-AtmRobbery, meezycar, Megaphone, memorygame, menuv, mergeddonks, meta_libs, mGlock17, mhacking, microsmg, MilosCookie, mk-adminjail, mk5sound, MK14, mlo-burgershot, molo_lux, momof-drugsales, monitor, mosleynutt, Mossberg500, mrp-bestbudz, mt-coke, MusicEverywhere, mythic_notify, NativeUI, nc-headbag, nc-progressbar, NewBadAcars, NewMotorcycles, newpacktest1, nh-context, nh-keyboard, nisgtr35sound, nm_bolide, np-carmeet, np-custom_weapons, np-tuners, npolchar-sound, nui_blocker, nui_doorlock, oceanHospital, okokNotify, osm-cameras, osm-licensing, ox_lib, oxmysql, pacific_villa, PAINTBALL-WEAPON, pdWeapons, Petshop, pizzajob, plowvehicles, pma-voice, pmc-instance, policedirt, polskyline, PolyZone, postalmap, postalscript, predatorv8, PremoLegion, pres2, president, progressbar, ps-dispatch, ps-liveries, ps-mdt, ps-ui, ptelevision, qb_tk_gasstations, qb-aimedic, qb-ambulancejob, qb-apartments, qb-atms, qb-banking, qb-bankrobbery, qb-bitmining, qb-bossmenu, qb-buds, qb-bugreport, qb-busjob, qb-car-music, qb-carbomb, qb-carcontrol, qb-chameleonpaint, qb-cityhall, qb-clothing, qb-commandbinding, qb-communityservice, qb-core, qb-crypto, qb-customs, qb-diving, qb-doorlock, qb-drivingschool, qb-drugs, qb-explosivevest, qb-fitbit, qb-garages, qb-gps, qb-grapplegun, qb-hostage, qb-houserobbery, qb-input, qb-interior, qb-inventory, qb-k9, qb-keyboard, qb-keyminigame, qb-lapraces, qb-lock, qb-lockpick, qb-management, qb-mechanicjob, qb-menu, qb-moneywash, qb-multicharacter, qb-newsjob, qb-oxyrun, qb-parkingmeter, qb-pawnshop, qb-policebadge, qb-policejob, qb-poopcomand, qb-printer, qb-pursuitmode, qb-radialmenu, qb-radio, qb-recyclejob, qb-scoreboard, qb-scrapyard, qb-shops, qb-signrobbery, qb-sit, qb-skillbar, qb-smallresources, qb-spawn, qb-stashes, qb-storerobbery, qb-streetraces, qb-strippers, qb-target, qb-tattooshop, qb-taxijob, qb-territories, qb-towjob, qb-traphouse, qb-truckerjob, qb-truckrobbery, qb-tsunami, qb-tunerchip, qb-vehiclefailure, qb-vehiclekeys, qb-vehiclesales, qb-vehicleshop, qb-vineyard, qb-weapons, qb-weathersync, qb-weed, qb-weedlab, qb-wheelchair, qb-zipties, qbspeedlimit, qrcoreclothes, qua_adez_hotel, r_grab, r_pepperspray, r1-speedcameras, r14-evidence, RageUI, rahe-boombox, randol_moneywash, RandomPack, rc_redZones, rcore_pool, RD_Citations, Redline_Tuner_Shop, Redline_Vip_Showroom, Remington870, renzu_stancer, replacement-cars, reworkEMS, rez_powersfree, rhettandatlasvic, rhettmodscamBB, ribikea, Ricky-Reward, ripbcso, ripplevalorBLACKANDGREYsast, ro-policebadge, rockfordrecords, rollbackscript, rpemotes, rpk16, rr04sti, rr21shelbystreet, rr69fastback, rr70split, rr458lw, rrcanamx3, rrcherokeel, rrdemonhawk, rrf8wide, rrf100d, rrf450g, rrgnx, rrgt500e, rrgt500off, rrhellcat300n, rrk30, rrmerci, rrobs, rrr32, rrsaleens7, rrtermivert, rrtrailer, rrveneno, rrvic, rrwchiron, rrws6, rtx_scenarios, rtx_themepark, rtx_themepark_objects, rtx_tv, s19tahoe, SA-Money-v2, SA-Playtime, SA-TrafficLightsPriority, safecracker, SafeZones, SASTShit, SCAR-H, SCP-096, SCP-173, screenshot-basic, sd-adminzone, segway, semahoe, serrulata-forgery, shield, Shiv, shopping%20mall, Sil-Nuke, SkatingRing, skidoo800rleo, skillbar, sleepa6.0, SleepOrSex, SMARTTASER, smg, sou_madmaxpd, spawnmanager, SpecialBot, spongetaco, stealshoes, STHeli, stretcher-model, stretcher-script, stungun, suprapol, suzukigsxr1k, sWorldClear, t3_speedlimiter, ta103ninjah2r, tacumminsb, tayamahar1, taycan, texviper, tgm_legion, thabrycejohnson, tk-fishing, tm_davis_fd, tnj-bling, toddlibcars, TODDSsaintlib, tr-blackmarket, Trailers, trx450, TunerJob, UCCTRUCK, ultra-voltlab, um-hackerphone, UMCivilian, utk_fingerprint, utk_hackdependency, UZI, vanilla-unicorn, vanzczl1, vanzschar, vC-blackout, vms_hud, waterpark, wbgtx, webpack, WheelPackFRP, whitewidowrumpo, widebody14charger, wizating_stancer, wk_wars2x, wld-delallveh, wm-serversirens, woosh_pd, xboxcumstang, xsound, yarn, yftrailer, yz450, yz450f, zm_426\n"
     ]
    },
    {
     "name": "stderr",
     "output_type": "stream",
     "text": [
      "Game type: Freeroam\n",
      "Map: fivem-map-skater\n",
      "OneSync: enabled\n",
      "Language: English (United States)\n",
      "Tags: Custom, Jobs, Police, EMS, Gangs, QB-Core, Serious RP, Housing,\n",
      "JD_logs: V1.3.0\n",
      "DLC level: 2699\n",
      "sv_pureLevel: 0\n",
      "txAdminPort: 40125\n",
      "can_review: true\n",
      "Owner: kenneth93\n",
      "https://servers.fivem.net/servers/detail/ypq96k\n"
     ]
    },
    {
     "name": "stdout",
     "output_type": "stream",
     "text": [
      "['|Flippin-RP||WORLDS BEST ECONOMY SERVER!||Police and EMS Jobs||Serious RP||Custom EUP||Drugs||Houses||Custom Jobs||Custom Cars||Anyone Can Join||300k Start||Custom DriftChip for vehicles|!', 'https://servers.fivem.net/servers/detail/yp4kry', '', 'Freeroam', 'enabled', 'fivem-map-skater', 'English (United States)', 'Custom, Jobs, Police, EMS, Gangs, QB-Core, Serious RP, Housing,', '2699', '', 'kenneth93', '', '', ['_EDA_01', '0r-core', '3CHARGER', '3DURANGO', '3FPIS', '3RAM', '3TAHOE', '3TUNDRA', '3VIC', '4PFMall', '5glimited', '14chargerheat', '14silvkobe', '18tahoe', '20CAMARO', '36', '204sW124', '318CHARGER', '319EXP', '320FPIU', '321TAHOE', '800proleo', '2020hellcat', 'abhawk', 'abtrailer', 'add-on', 'AddonMilitary2', 'Admin2021Charger', 'ADMINChargerLightbar', 'aeraptor', 'AK-47', 'ak47_qb_anklemonitor', 'ak47_qb_burgershop', 'ak47_qb_chickenwings', 'ak47_qb_chicknfries', 'ak47_qb_cookiesv2', 'ak47_qb_crutch', 'ak47_qb_donutshop', 'ak47_qb_drugmanager', 'ak47_qb_gpstracker', 'ak47_qb_housing', 'ak47_qb_npcmed', 'ak47_qb_pizzashop', 'ak47_qb_prospecting', 'ak47_qb_switch', 'ak47_qb_usablecookiesv2', 'ak47_qb_usabledrugs', 'al_vehiclemenu', 'amcybertruck', 'an_dialogBox', 'an_interMenu', 'an_interNPC', 'an_progBar', 'angelicxs_flipcar', 'anti-cl2', 'ap-gc18', 'apoteka', 'aqls7raceswap', 'AR-15', 'arPistol', 'ARX160', 'as_autoexotic+ds', 'as_mapdata', 'aspbaton', 'astudios-skating', 'B&B', 'b21raider', 'Badger_Jailing', 'baggednchop', 'BalisticShield', 'banner_anim', 'baseevents', 'basic-gamemode', 'bb-chairs', 'bb-dices', 'bb-prop', 'bbmrap', 'bc97f350megas', 'bclance', 'BEANBAGSHOTGUN', 'bearcat_b', 'Better-Miranda-Card', 'binmaster', 'BLFPD-staffbike', 'BLFPD-staffgladiator', 'BLFPD-staffhellcat', 'BLFPD-stafftahoe', 'blipsBuilder', 'Bloodsnew', 'bloodsv2', 'bmwallblue', 'BmwM2Car', 'BmwM2Sound', 'bob74_ipl', 'boii-consumables', 'boii-uwucafe', 'boostingminigame', 'bos11ford', 'bosf150obs', 'bosfarmcat3', 'bosferd', 'boshunts10', 'bosinglebub', 'bosleanedcat', 'bosleanedyukon', 'bosleanext', 'boslulu', 'bosmudranger', 'bospimpobs', 'bospimpsilv2', 'bosprojectcat', 'bosrepyukon', 'bostowcat', 'bostrapkon', 'bostraplonn', 'bostreetcat', 'boswidecat', 'bosyukon2', 'bosyukon3', 'Boy-Black17', 'brettmichaels', 'breze_medusa', 'breze_wingstop', 'brf450', 'bridge_drifttuner', 'BRM', 'bropixel-boosting', 'BuilderJob', 'Buty-Trucker', 'c3f350rollback', 'c3navistar', 'C3RANGER', 'cadone', 'californiaplates', 'carrerav10', 'CarryPeople', 'carsounds', 'carsounds2', 'carsounds4', 'case-whitewidowjob', 'CCtsv', 'cfx-gabz-247', 'cfx-gabz-aztecas', 'cfx-gabz-bahama', 'cfx-gabz-ballas', 'cfx-gabz-binco', 'cfx-gabz-carmeet', 'cfx-gabz-casino', 'cfx-gabz-catcafe', 'cfx-gabz-diner', 'cfx-gabz-hayes', 'cfx-gabz-import', 'cfx-gabz-mapdata', 'cfx-gabz-mirrorpark1', 'cfx-gabz-mirrorpark2', 'cfx-gabz-ottos', 'cfx-gabz-pdprops', 'cfx-gabz-pizzeria', 'cfx-gabz-prison', 'cfx-gabz-sandypd', 'cfx-gabz-scenarios', 'cfx-gabz-vagos', 'chat', 'CheyTac%20M200%20Intervention', 'ChickFilA', 'ComplaintForm', 'connectqueue', 'core_crafting', 'court', 'cr-storeextras', 'cs_ejectorseat', 'cummins5924v', 'cvpiv8-sound', 'CWheelPackV2', 'datacrack', 'davidburb', 'dc_DrIllegal', 'dc-adminmenu', 'dc-open-houses', 'dealer_map', 'defender22silv', 'defenderslicktop22silv', 'desert_mansion', 'DesertEagle', 'design_house', 'DisableConsole', 'discordrpc', 'distrtc_nogrip', 'doctorlean', 'dog-bodycam', 'dominos', 'don-jewelery', 'dpscenes', 'dr-scratching', 'Draco', 'dracosrt', 'drehellcatdurango', 'drip-tattopack', 'drones', 'drones_stream', 'Dunkin', 'ebu_2step', 'ebu_trailer', 'EDA_BASE', 'emfan-emp', 'emfan-framework', 'enc0ded-persistent-vehicles', 'enforcerengine', 'enginesound-1', 'EXPD', 'F-350hoodstackken', 'fakeplates', 'FBLOCK', 'fcrp-exoticPaints', 'fcrpapplestore', 'FCRPpowers', 'firehose', 'firehosemodels', 'fivem-map-skater', 'flashbang', 'FlashlightVisuals', 'FNFNX45', 'fordvoodoo', 'foxgt24', 'foxy', 'fr-custom_weapons_melee', 'fr-custom_weapons_thrown', 'fr-jumpscare', 'fr-vehicleaudio', 'french_villa', 'FRLightsystem', 'FRP-admin', 'FRP-harness', 'FRP-LOADING', 'FRP-wheeldamage', 'frpbackitems', 'FRPCARSounds', 'FRPCivPack2', 'FRPCivPacknew', 'FRPGunSound', 'FRPNEW3PACK', 'FRPSurrender', 'FRPv3sounds', 'FRPWHEELS', 'fv-vehcontrol', 'g-bikerentals', 'G27-HK417', 'G36MM', 'gabz_mrpd', 'Gabz-hayesauto', 'gdcustom-weapons', 'generic_texture_renderer_gfx', 'gks_ebay', 'gks_gotur', 'gks_racing', 'gks_rentacar', 'gksphone', 'gl-garbage', 'gl-prison', 'gl-recycling', 'Glock17', 'Glock19', 'GODz69MARO', 'GODz95GSX', 'GODZnew', 'GODzRZ34DRIFT', 'GODzTRACKCAT', 'GODzTROFEOEVO', 'GODzVIPS63AMG', 'grappler', 'gtrailer', 'hellcat15', 'hellcat15w', 'HKG3A3', 'HoodRichGodzilla', 'hospital_map', 'HuntingRifle', 'Hycadeurus', 'hypnonema', 'hypnonema-map', 'iak_wheelchair', 'int_paleto_pills', 'interact-sound', 'iplLoader', 'j17_firepole', 'j17_legionfire', 'jeeps', 'Jordan-Boy2', 'K_FRAUDATMS-QB', 'K_FRAUDPROPS', 'K_FRAUDSHOPS-QB', 'K_FRAUDV2-QB', 'K9', 'k9fpiu', 'kc-unicorn', 'kc98gmls6sc', 'keep-gunrack', 'kensematundra', 'kensuperduty', 'KENTUNDRAARMORED', 'kenundercover', 'kevin-pickbikes', 'kevin-weaponscratch', 'kids', 'knockout', 'kq_engineswaps', 'ktm', 'kxf450', 'LA-Roads', 'LaserSight', 'laundry', 'leaninsilv', 'lg-radiocar', 'libsub', 'lightbars', 'lightbarScript', 'lks_hckrspc', 'loaf_spikestrips', 'ltr450', 'luffscat', 'luttu_island', 'lvc', 'm-Backpacks', 'm-FoodVan', 'm-HouseRobberys', 'm-Insurance', 'M4', 'M9A3', 'm16a2', 'm22', 'M70', 'M1911', 'MAC-10', 'MacsCustomMustang', 'maddebertijeep', 'madf150', 'madf350lift', 'mafia_mansion', 'Maik-Boy', 'mapmanager', 'marine', 'matushighwaypatrol', 'mb10', 'MCore-QB-AtmRobbery', 'meezycar', 'Megaphone', 'memorygame', 'menuv', 'mergeddonks', 'meta_libs', 'mGlock17', 'mhacking', 'microsmg', 'MilosCookie', 'mk-adminjail', 'mk5sound', 'MK14', 'mlo-burgershot', 'molo_lux', 'momof-drugsales', 'monitor', 'mosleynutt', 'Mossberg500', 'mrp-bestbudz', 'mt-coke', 'MusicEverywhere', 'mythic_notify', 'NativeUI', 'nc-headbag', 'nc-progressbar', 'NewBadAcars', 'NewMotorcycles', 'newpacktest1', 'nh-context', 'nh-keyboard', 'nisgtr35sound', 'nm_bolide', 'np-carmeet', 'np-custom_weapons', 'np-tuners', 'npolchar-sound', 'nui_blocker', 'nui_doorlock', 'oceanHospital', 'okokNotify', 'osm-cameras', 'osm-licensing', 'ox_lib', 'oxmysql', 'pacific_villa', 'PAINTBALL-WEAPON', 'pdWeapons', 'Petshop', 'pizzajob', 'plowvehicles', 'pma-voice', 'pmc-instance', 'policedirt', 'polskyline', 'PolyZone', 'postalmap', 'postalscript', 'predatorv8', 'PremoLegion', 'pres2', 'president', 'progressbar', 'ps-dispatch', 'ps-liveries', 'ps-mdt', 'ps-ui', 'ptelevision', 'qb_tk_gasstations', 'qb-aimedic', 'qb-ambulancejob', 'qb-apartments', 'qb-atms', 'qb-banking', 'qb-bankrobbery', 'qb-bitmining', 'qb-bossmenu', 'qb-buds', 'qb-bugreport', 'qb-busjob', 'qb-car-music', 'qb-carbomb', 'qb-carcontrol', 'qb-chameleonpaint', 'qb-cityhall', 'qb-clothing', 'qb-commandbinding', 'qb-communityservice', 'qb-core', 'qb-crypto', 'qb-customs', 'qb-diving', 'qb-doorlock', 'qb-drivingschool', 'qb-drugs', 'qb-explosivevest', 'qb-fitbit', 'qb-garages', 'qb-gps', 'qb-grapplegun', 'qb-hostage', 'qb-houserobbery', 'qb-input', 'qb-interior', 'qb-inventory', 'qb-k9', 'qb-keyboard', 'qb-keyminigame', 'qb-lapraces', 'qb-lock', 'qb-lockpick', 'qb-management', 'qb-mechanicjob', 'qb-menu', 'qb-moneywash', 'qb-multicharacter', 'qb-newsjob', 'qb-oxyrun', 'qb-parkingmeter', 'qb-pawnshop', 'qb-policebadge', 'qb-policejob', 'qb-poopcomand', 'qb-printer', 'qb-pursuitmode', 'qb-radialmenu', 'qb-radio', 'qb-recyclejob', 'qb-scoreboard', 'qb-scrapyard', 'qb-shops', 'qb-signrobbery', 'qb-sit', 'qb-skillbar', 'qb-smallresources', 'qb-spawn', 'qb-stashes', 'qb-storerobbery', 'qb-streetraces', 'qb-strippers', 'qb-target', 'qb-tattooshop', 'qb-taxijob', 'qb-territories', 'qb-towjob', 'qb-traphouse', 'qb-truckerjob', 'qb-truckrobbery', 'qb-tsunami', 'qb-tunerchip', 'qb-vehiclefailure', 'qb-vehiclekeys', 'qb-vehiclesales', 'qb-vehicleshop', 'qb-vineyard', 'qb-weapons', 'qb-weathersync', 'qb-weed', 'qb-weedlab', 'qb-wheelchair', 'qb-zipties', 'qbspeedlimit', 'qrcoreclothes', 'qua_adez_hotel', 'r_grab', 'r_pepperspray', 'r1-speedcameras', 'r14-evidence', 'RageUI', 'rahe-boombox', 'randol_moneywash', 'RandomPack', 'rc_redZones', 'rcore_pool', 'RD_Citations', 'Redline_Tuner_Shop', 'Redline_Vip_Showroom', 'Remington870', 'renzu_stancer', 'replacement-cars', 'reworkEMS', 'rez_powersfree', 'rhettandatlasvic', 'rhettmodscamBB', 'ribikea', 'Ricky-Reward', 'ripbcso', 'ripplevalorBLACKANDGREYsast', 'ro-policebadge', 'rockfordrecords', 'rollbackscript', 'rpemotes', 'rpk16', 'rr04sti', 'rr21shelbystreet', 'rr69fastback', 'rr70split', 'rr458lw', 'rrcanamx3', 'rrcherokeel', 'rrdemonhawk', 'rrf8wide', 'rrf100d', 'rrf450g', 'rrgnx', 'rrgt500e', 'rrgt500off', 'rrhellcat300n', 'rrk30', 'rrmerci', 'rrobs', 'rrr32', 'rrsaleens7', 'rrtermivert', 'rrtrailer', 'rrveneno', 'rrvic', 'rrwchiron', 'rrws6', 'rtx_scenarios', 'rtx_themepark', 'rtx_themepark_objects', 'rtx_tv', 's19tahoe', 'SA-Money-v2', 'SA-Playtime', 'SA-TrafficLightsPriority', 'safecracker', 'SafeZones', 'SASTShit', 'SCAR-H', 'SCP-096', 'SCP-173', 'screenshot-basic', 'sd-adminzone', 'segway', 'semahoe', 'serrulata-forgery', 'shield', 'Shiv', 'shopping%20mall', 'Sil-Nuke', 'SkatingRing', 'skidoo800rleo', 'skillbar', 'sleepa6.0', 'SleepOrSex', 'SMARTTASER', 'smg', 'sou_madmaxpd', 'spawnmanager', 'SpecialBot', 'spongetaco', 'stealshoes', 'STHeli', 'stretcher-model', 'stretcher-script', 'stungun', 'suprapol', 'suzukigsxr1k', 'sWorldClear', 't3_speedlimiter', 'ta103ninjah2r', 'tacumminsb', 'tayamahar1', 'taycan', 'texviper', 'tgm_legion', 'thabrycejohnson', 'tk-fishing', 'tm_davis_fd', 'tnj-bling', 'toddlibcars', 'TODDSsaintlib', 'tr-blackmarket', 'Trailers', 'trx450', 'TunerJob', 'UCCTRUCK', 'ultra-voltlab', 'um-hackerphone', 'UMCivilian', 'utk_fingerprint', 'utk_hackdependency', 'UZI', 'vanilla-unicorn', 'vanzczl1', 'vanzschar', 'vC-blackout', 'vms_hud', 'waterpark', 'wbgtx', 'webpack', 'WheelPackFRP', 'whitewidowrumpo', 'widebody14charger', 'wizating_stancer', 'wk_wars2x', 'wld-delallveh', 'wm-serversirens', 'woosh_pd', 'xboxcumstang', 'xsound', 'yarn', 'yftrailer', 'yz450', 'yz450f', 'zm_426']]\n",
      "The last index is: 77\n",
      "Scraping server 78, id is ypq96k\n",
      "ypq96k\n"
     ]
    },
    {
     "name": "stderr",
     "output_type": "stream",
     "text": [
      "Resources: 1_govpack, 2_accspack, 3_civpack1, 4_civpack2, 5_streamablespack, 6_eventpack, animals, animalz, animations, animsprops, arcane_collectibles, arcola, arisdeli, autoexotic, backside_skate_shop, banking, bans, basegame_ytyp, basic-gamemode, beachside_billiard, beachstalls, benefactor, bennys, bento, blackhawk_coffee, blacklotustattoo, blackuber, blackwoods, boathouseoffroad, bodypillow, bohan, breze_church, brimstone, broker_boys, bruisers, bugstar, burgershot, burner_phones, business, callow_hangar, casino, cayovilla, cfx_gn_ambulance_garage, cfx_gn_clinic_sandy, cfx_gn_collection, cfx_gn_int_clinic, cfx_gn_medical_accessories, cfx_gn_medical_assets, cfx_gn_sandy_mapdata, cfx_gn_sheriff_dlc, cfx_gn_sheriff_sandyshores, cfx_gn_von_hotel, cfx_gn_von_lobby, cfx-gabz_vu, cfx-gabz-ammunation, cfx-gabz-bennys-old, cfx-gabz-bobcat, cfx-gabz-catcafe, cfx-gabz-diner, cfx-gabz-esbltd, cfx-gabz-firedept, cfx-gabz-impound, cfx-gabz-lamesapd, cfx-gabz-mapdata, cfx-gabz-mba, cfx-gabz-pacificbank, cfx-gabz-paletobank, cfx-gabz-pdm, cfx-gabz-pdprops, cfx-gabz-ponsonbys, cfx-gabz-prison, cfx-gabz-records, cfx-gabz-tattoo, cfx-gabz-tuners, chat, cheesykyle_boardgame, cheesykyle_boardgame_assets, clothing, cockatoos, collectibles, comic_toys, comicbookshop, commercial_dealership, core, core_game, corner_donuts, cornerpocket, courthouse_alta, craft_bar, creampie, crime, crimeprops, cron, custom_doortuning, darkplace, deuces, dhs_villas, digital_den_mirrorpark, dispatch, docl, doorlocks, dot-matrix, dowsing, drugs, dynamicmaps, dynasty_realty, ed_whitemansion, euphoric, firewatch_tower, fivem-map-tmc, float_soak, flywheels, forms, fuel, fuenteblanca, full_throttle, fullsend, garages, gcom_smuggling_v2, geocaching, gigz_jewel, government, hammerofjustice, handfans_pridemonth, handlebarhaven, hanging_gardens, helicam, heroes_garage, hiddenhospital, hospital_wristband, housing, hunt_ohagen_law, inkdigenous, int_drugs, inventory, ipl, ipl_arcade, irish_heritage, ITGH_Fishing, jobs, johnsons_industrial, K4MB1-AllShellsSubPack, k4mb1-casino, k4mb1-drills, k4mb1-fleecas, k4mb1-mazebank, k4mb1-miningcave, knightimports, koispa, la_linterna, laptop, laundry, law_school, lazydaisy, library, loadscreen, logs, losdemonios, lsia_airport, lsia_tower, madtatters, magic_and_deers, mapmanager, master_occlusion, mc-doggo, mc-dumpsters, mc-snap, mc-snap-endpoint, mc-summer, mc-trucking, mcd, mckenzie, mdt, mech, medical, MenuAPI, merryweather, mirage, mise_en_place, mojitoinn, monitor, mosleynutt, mossy_stone, mptavern, multichar, music_player, nautical, nd_props, ndrp_badges, new_blmc, new_remington, NewDayBusinessVehicles, NewDayCustomBikes, NewDayCustomCars, NewDayCustomCars_2, NewDayCustomPlanes, NewDayCustomsShop, NewDayCustomWeapons, NewDayEmergencyBoatPack, NewDayEMSPack, NewDayHandling, NewDayLEOPack, NewDayPRPack, NewDayPWPack, NewDayTrafficPool, NewDayTunersFix, NewDayVehicleFixes, NewDayVehicleKits, NewDayWeapons, NewDayWheelchair, NewDayWheelPack, noise, noodle_exchange, notes, original_clothing, oxmysql, paleto_customs, paletoclinic, parsons, parties, paxton_law, pdm, pearls, pillbox_cartel, pillbox_hospital, pipedown, playershops, police, polyzone, populationtest, pridestall, printing, prometheus_exporter, publicdefenders, pumpkinpatch, purple_fantasy, pw_menus, pworks, pworksstream, quarry_cabins, racing, radialmenu, radio, ranger_station_paleto, ranger_welcomecenter, raven_repair, rcore_arcade, rcore_pool, redlantern, reesespizza, remedy, rentals, rockfordcityhall, rockfordpd, ronniescustomchoppers, route68_roadhouse, safa, salieris, sallys_surfshop, saltychat, saucys_taqueria, scenes, scout_camp, screenshot-basic, seasidelotus, seasons_greetings, secondsight, secret_compartments, securoserv, server_scenarios, shadowcade, shadowcade_toys, shells, shelltest, sirens, sit, skateboards, spanishoffices, spawnmanager, stella_melon, stretchers, suffolkchurch, summerprops, teapot, temp-chopshop, temporary_events, tequilala, thehub, timestamp, tmc_mgdlc_2023, tmc_minigames, tmc_phone, tmc_queue, tr_props, uj_driftzone, uj_lifeguard, uj_playboy_ipl, uj_playboy_v2, us_marshal, utils, vangies_vespucci, vehiclelocks, vehicleshop, venetian, vinewood_self_storage, vineyard, vulcan_engineering, weapon_room, weazelnews, webpack, wicked_repair, wk_wars2x, worldsend, yardwork, yarn, zimports\n",
      "Game type: Freeroam\n",
      "Map: fivem-map-tmc\n",
      "OneSync: enabled\n",
      "Language: English (United States)\n",
      "Tags: roleplay,rp,custom,serious,whitelist,fivem,onesync,newday\n",
      "PoweredBy: TMC Custom Framework\n",
      "DLC level: 2944\n",
      "sv_pureLevel: 0\n",
      "can_review: true\n",
      "Owner: Tiberione\n",
      "https://servers.fivem.net/servers/detail/e3r8yd\n"
     ]
    },
    {
     "name": "stdout",
     "output_type": "stream",
     "text": [
      "['', 'https://servers.fivem.net/servers/detail/ypq96k', '', 'Freeroam', 'enabled', 'fivem-map-tmc', 'English (United States)', 'roleplay,rp,custom,serious,whitelist,fivem,onesync,newday', '2944', '', 'Tiberione', '', '', ['1_govpack', '2_accspack', '3_civpack1', '4_civpack2', '5_streamablespack', '6_eventpack', 'animals', 'animalz', 'animations', 'animsprops', 'arcane_collectibles', 'arcola', 'arisdeli', 'autoexotic', 'backside_skate_shop', 'banking', 'bans', 'basegame_ytyp', 'basic-gamemode', 'beachside_billiard', 'beachstalls', 'benefactor', 'bennys', 'bento', 'blackhawk_coffee', 'blacklotustattoo', 'blackuber', 'blackwoods', 'boathouseoffroad', 'bodypillow', 'bohan', 'breze_church', 'brimstone', 'broker_boys', 'bruisers', 'bugstar', 'burgershot', 'burner_phones', 'business', 'callow_hangar', 'casino', 'cayovilla', 'cfx_gn_ambulance_garage', 'cfx_gn_clinic_sandy', 'cfx_gn_collection', 'cfx_gn_int_clinic', 'cfx_gn_medical_accessories', 'cfx_gn_medical_assets', 'cfx_gn_sandy_mapdata', 'cfx_gn_sheriff_dlc', 'cfx_gn_sheriff_sandyshores', 'cfx_gn_von_hotel', 'cfx_gn_von_lobby', 'cfx-gabz_vu', 'cfx-gabz-ammunation', 'cfx-gabz-bennys-old', 'cfx-gabz-bobcat', 'cfx-gabz-catcafe', 'cfx-gabz-diner', 'cfx-gabz-esbltd', 'cfx-gabz-firedept', 'cfx-gabz-impound', 'cfx-gabz-lamesapd', 'cfx-gabz-mapdata', 'cfx-gabz-mba', 'cfx-gabz-pacificbank', 'cfx-gabz-paletobank', 'cfx-gabz-pdm', 'cfx-gabz-pdprops', 'cfx-gabz-ponsonbys', 'cfx-gabz-prison', 'cfx-gabz-records', 'cfx-gabz-tattoo', 'cfx-gabz-tuners', 'chat', 'cheesykyle_boardgame', 'cheesykyle_boardgame_assets', 'clothing', 'cockatoos', 'collectibles', 'comic_toys', 'comicbookshop', 'commercial_dealership', 'core', 'core_game', 'corner_donuts', 'cornerpocket', 'courthouse_alta', 'craft_bar', 'creampie', 'crime', 'crimeprops', 'cron', 'custom_doortuning', 'darkplace', 'deuces', 'dhs_villas', 'digital_den_mirrorpark', 'dispatch', 'docl', 'doorlocks', 'dot-matrix', 'dowsing', 'drugs', 'dynamicmaps', 'dynasty_realty', 'ed_whitemansion', 'euphoric', 'firewatch_tower', 'fivem-map-tmc', 'float_soak', 'flywheels', 'forms', 'fuel', 'fuenteblanca', 'full_throttle', 'fullsend', 'garages', 'gcom_smuggling_v2', 'geocaching', 'gigz_jewel', 'government', 'hammerofjustice', 'handfans_pridemonth', 'handlebarhaven', 'hanging_gardens', 'helicam', 'heroes_garage', 'hiddenhospital', 'hospital_wristband', 'housing', 'hunt_ohagen_law', 'inkdigenous', 'int_drugs', 'inventory', 'ipl', 'ipl_arcade', 'irish_heritage', 'ITGH_Fishing', 'jobs', 'johnsons_industrial', 'K4MB1-AllShellsSubPack', 'k4mb1-casino', 'k4mb1-drills', 'k4mb1-fleecas', 'k4mb1-mazebank', 'k4mb1-miningcave', 'knightimports', 'koispa', 'la_linterna', 'laptop', 'laundry', 'law_school', 'lazydaisy', 'library', 'loadscreen', 'logs', 'losdemonios', 'lsia_airport', 'lsia_tower', 'madtatters', 'magic_and_deers', 'mapmanager', 'master_occlusion', 'mc-doggo', 'mc-dumpsters', 'mc-snap', 'mc-snap-endpoint', 'mc-summer', 'mc-trucking', 'mcd', 'mckenzie', 'mdt', 'mech', 'medical', 'MenuAPI', 'merryweather', 'mirage', 'mise_en_place', 'mojitoinn', 'monitor', 'mosleynutt', 'mossy_stone', 'mptavern', 'multichar', 'music_player', 'nautical', 'nd_props', 'ndrp_badges', 'new_blmc', 'new_remington', 'NewDayBusinessVehicles', 'NewDayCustomBikes', 'NewDayCustomCars', 'NewDayCustomCars_2', 'NewDayCustomPlanes', 'NewDayCustomsShop', 'NewDayCustomWeapons', 'NewDayEmergencyBoatPack', 'NewDayEMSPack', 'NewDayHandling', 'NewDayLEOPack', 'NewDayPRPack', 'NewDayPWPack', 'NewDayTrafficPool', 'NewDayTunersFix', 'NewDayVehicleFixes', 'NewDayVehicleKits', 'NewDayWeapons', 'NewDayWheelchair', 'NewDayWheelPack', 'noise', 'noodle_exchange', 'notes', 'original_clothing', 'oxmysql', 'paleto_customs', 'paletoclinic', 'parsons', 'parties', 'paxton_law', 'pdm', 'pearls', 'pillbox_cartel', 'pillbox_hospital', 'pipedown', 'playershops', 'police', 'polyzone', 'populationtest', 'pridestall', 'printing', 'prometheus_exporter', 'publicdefenders', 'pumpkinpatch', 'purple_fantasy', 'pw_menus', 'pworks', 'pworksstream', 'quarry_cabins', 'racing', 'radialmenu', 'radio', 'ranger_station_paleto', 'ranger_welcomecenter', 'raven_repair', 'rcore_arcade', 'rcore_pool', 'redlantern', 'reesespizza', 'remedy', 'rentals', 'rockfordcityhall', 'rockfordpd', 'ronniescustomchoppers', 'route68_roadhouse', 'safa', 'salieris', 'sallys_surfshop', 'saltychat', 'saucys_taqueria', 'scenes', 'scout_camp', 'screenshot-basic', 'seasidelotus', 'seasons_greetings', 'secondsight', 'secret_compartments', 'securoserv', 'server_scenarios', 'shadowcade', 'shadowcade_toys', 'shells', 'shelltest', 'sirens', 'sit', 'skateboards', 'spanishoffices', 'spawnmanager', 'stella_melon', 'stretchers', 'suffolkchurch', 'summerprops', 'teapot', 'temp-chopshop', 'temporary_events', 'tequilala', 'thehub', 'timestamp', 'tmc_mgdlc_2023', 'tmc_minigames', 'tmc_phone', 'tmc_queue', 'tr_props', 'uj_driftzone', 'uj_lifeguard', 'uj_playboy_ipl', 'uj_playboy_v2', 'us_marshal', 'utils', 'vangies_vespucci', 'vehiclelocks', 'vehicleshop', 'venetian', 'vinewood_self_storage', 'vineyard', 'vulcan_engineering', 'weapon_room', 'weazelnews', 'webpack', 'wicked_repair', 'wk_wars2x', 'worldsend', 'yardwork', 'yarn', 'zimports']]\n",
      "The last index is: 78\n",
      "Scraping server 79, id is e3r8yd\n",
      "e3r8yd\n"
     ]
    },
    {
     "name": "stderr",
     "output_type": "stream",
     "text": [
      "Server Name: 🍑 Juicy RP | Semi Serious | Largest Custom Clothing Pack | Unique Emotes & Maps | E-Girl Friendly | discord.gg/juicyrp\n"
     ]
    },
    {
     "name": "stdout",
     "output_type": "stream",
     "text": [
      "%%%%%%%%%%%%%%%%%%%%%%%%%%%%%%%%%%%%%%%%%%%%%%%%%%%%%%%%%%%%%%%%%\n",
      "🍑 Juicy RP | Semi Serious | Largest Custom Clothing Pack | Unique Emotes & Maps | E-Girl Friendly | discord.gg/juicyrp\n",
      "%%%%%%%%%%%%%%%%%%%%%%%%%%%%%%%%%%%%%%%%%%%%%%%%%%%%%%%%%%%%%%%%%\n"
     ]
    },
    {
     "name": "stderr",
     "output_type": "stream",
     "text": [
      "Resources: 3DMARKET-CarDealer, 3dme-w--html, 17mov_GarbageCollector, AB45-BlossomMansion, AB45-PrivateIslandCity, AB45-PrivateIslandPaleto, AB45-SkyClub, ace_hiddendruglab, adeledanceflor_gabund, AEG_PROPS_bedroom1, AEG_PROPS_bedroom2, AEG_props_FriendsProps, AEG_PROPS_livingroom-dubai, AEG_PROPS_livingroom-hokaido, AEG_props_livingroom-imola, ak4y-advancedFishing, ak47_cannabiscafev2, ak47_usablecookiesv2, ak47_usabledrugs, Among_Battle, ap-addonjob, ap-court, apoteka, as_tequilala, Assets, async, av_restaurants, Badger_Discord_API, baseevents, baz_dumpsters, BCall_progress, bcs_housing, bcs_questionare, bennylift, Better_FPS, billing_ui, blips_creator, bob74_ipl, breze_bowling_map, brofx_mansion_16, brofx_mansion_17, brofx_mansion_19, brutal_babys, brutal_boxing, brutal_hunting, brutal_notify, brutal_pets, brutal_shop_robbery, bumpercar, Buty_InfiniteJobs, Buty-Activities, Buty-KartRent, bxe_bodybag, bzzz_basket, Cafe_rubicon, cafeblue, CarRepairStation, cd_drawtextui, cd_easytime, cd_garage, cd_garageshell, cdev_lib, cdev_pets, cdev_pets_assets_premium, cfx-gabz-247, cfx-gabz-altruists, cfx-gabz-ammunation, cfx-gabz-atom, cfx-gabz-barber, cfx-gabz-binco, cfx-gabz-burgershot, cfx-gabz-catcafe, cfx-gabz-esbltd, cfx-gabz-fleeca, cfx-gabz-hornys, cfx-gabz-koi, cfx-gabz-mapdata, cfx-gabz-mrpd, cfx-gabz-pacificbank, cfx-gabz-paletobank, cfx-gabz-paletoliquor, cfx-gabz-paletopd, cfx-gabz-pdm, cfx-gabz-pdprops, cfx-gabz-ponsonbys, cfx-gabz-prison, cfx-gabz-studio, cfx-gabz-suburban, cfx-gabz-tattoo, cfx-gabz-townhall, cfx-minibulle3d_h2023_maze, chat, coachHalloween, connectqueue, cron, cs-hall, cs-stream, datacrack, dc-watergun, design_house, diables_hopital, diables_irm, diables_props, diables_radio, diables_scripts, doberman, dolu_lasttrain, dolu_prop_stroller, doors_creator, DP_GoFast, dpclothing, drc_drugs_beta, dz-drone, dz-staffchat, EasyAdmin, es_extended, esx_addonaccount, esx_addoninventory, esx_basicneeds, esx_context, esx_datastore, esx_givevehicle, esx_identity, esx_license, esx_menu_default, esx_menu_dialog, esx_menu_list, esx_moneywash, esx_notify, esx_optionalneeds, esx_outlawalert, esx_progressbar, esx_service, esx_society, esx_status, esx_textui, esx_tk_evidence, esx_vehicleshop, ESX-Binoculars, evo_halloweenmlo, fishy_poledance, fiv3devs_bahamamamas, fiv3devs_galaxy, fivem-appearance, fivem-infinity, fl_punishment, foltone-elevator-builder, fuenf_carwash, gacha_peds-main, gigz_davis_mall_ltd_tebex, gigz_fight_club_v2_tebex, gigz_karting_update_v2, gks_ebay, gks_gotur, gks_racing, gks_rentacar, gksphone, GlamStudio, grappler, grs_vespucci_cardealer_v2, gtrbyvnewedi, hacking, hane_limeys, hane_vespuccivillas12, hawaii, Hawaii_Island_2023_by_Ajna_mods, HD_AdvancedJail, helicam, hex_bennys, howdy-hackminigame, interact-sound, JD_logsV3, jobs_creator, jodsounds, jr_vbmafia, juicy-basics, JuicyCompMLO, juicyPD, JuicyRPCars, JuicySounds, JuicyWeapons, K4MB1-FullHousing, K4MB1-FurnishedHotels, K4MB1-NewOffices, K4MB1-OfficesOld, k4mb1shellstarter, knockout, kq_driftsmoke, kq_drifttires, kq_engineswaps, kq_islands_props, kq_lootareas, kq_outfitbag, kq_smugglers, kq_wheeldamage, kq_wild_cannabis, ks-loadingscreen, ks-scoreboard, lafitness, lb-phone_prop, lespetite_nursery_bykyndra, loaf_lib, loaf_vanillaunicorn, lockpick, lockpick-main, lunaticstudio_promo001, lvc, lynxfix_malibumansion, mafia_mansion, Main, mariokart, marketShop, marketTrolley, marquis_hawaii_ajnamods, max_6ufshellspack, max_creationspack8, meangirls, medSystem, meta_libs, MilosSkatingRing, MK-Duty, monitor, Motel_Vanilla, murm_dec_pack, mythic_notify, mythic_progbar, nh-context, nh-keyboard, night_handheld_smoke_gen, offstore_garage_halloween, offstore_halloween, offstore_halloween_party, offstore_halloweendecoration, okokBanking, okokChatV2, okokNotify, okokTextUI, opod-greenzone, ox_inventory, ox_lib, ox_target, oxmysql, pablito_lp, pac, pac_iec, pac_os, pacific_rooftop, pacific_villa, Pata_BathroomProps, Pata_BedroomProps, Pata_ChristmasProps, Pata_ChristmasPropsControl, pata_dressing, Pata_fitness, Pata_fitScript, Pata_Float, pata_food, Pata_GamerOffice, Pata_garden, pata_kit2, Pata_KitchenProps, Pata_LaundryProps, Pata_LivingroomProps, Pata_NurseryProps, Pata_NurseryPropsControl, Pata_office, Pata_OfficeClassic, Pata_pet, Pata_StreamLightPropsControl, Pata_valentinesday, PataHotTubScript, patamods_studioScript, PatamodsElevatorV2, patoche_beachgame, patoche_bigbenny_bw, patoche_boatdealer, patoche_bumpercar, patoche_bumpercar_script, patoche_karaoke, patoche_littlehouse, patoche_minigolf, patoche_minigolf_script, patoche_plasmagame, patoche_plasmagame_dlc, patoche_plasmakart, patoche_plasmatron, patoche_studio, patoche_wolf, patoche_wolf_map, pd_brake_cutting, pd_image_placer, pd_outfit_theft, pd_tracker, pd_whiteboard, pd-safe, petshop_map, pickle_dealership, pickle_documents, pickle_policetools, PlasmaCTF, PlasmaGame, PlasmaGun, PlasmaKart, PlasmaLobby, PlasmaMask, PlasmaOrbs, PlasmaRandom, PlasmaSocle, PlasmaTron, pma-voice, pNotify, policetools, PolyZone, progressBars, ps-dispatch, ps-ui, pun_idgun, purchased, qf_CheatDetection, quasar_shells, racekart, RageUI, Ranch-De-Caniche-Main, rcore_addon_tattoos_juicy-rp, rcore_airhockey, rcore_basketball, rcore_basketball_assets, rcore_beerpong, rcore_bowling, rcore_camping, rcore_camping_assets, rcore_carnival, rcore_carnival_assets, rcore_drunk, rcore_gangs, rcore_lunapark, rcore_lunapark_assets, rcore_missionpack, rcore_pool, rcore_spray, rcore_spray_assets, rcore_tattoos, rcore_television, renzu_contextmenu, renzu_multicharacter, renzu_spawn, Replacement, richards_majestic_build_v3.1, rjz_bungalow_village, rob_atm, RollDice, RollerIceSkating, rpemotes, rtx_gym, rtx_wateractivities, rtx_waterpark, save-system, screenshot-basic, sh-electronicCuffs, sh-events, sh-mapImages, simple-pt, sit, sizzle-pharmacy, skillbar, SleepOrSex, SmartTaser, soloty_boulangerie, spawnmanager, spooky, sqz_rental, ss-boombox, Staff, stasiek_selldrugsv2, staxzs_skateboard, stream.pack, synced_teapot, t0sic_loadingbar, Tattoos, tg-uwucats, toiletpaperkart, tropical_villa, TunningSystem, tv_scaleform, ultra-keypackhack-main, ultra-voltlab, um-rodeo, um-rodeo-prop, uni_boyorgirl_baby_universestore, uni_lakerestaurant_universestore, uprise-smexy, uz_fuel, vinewood_hills_mansion, Vinewood%20-%20Sakura%20Store, voodoo_ambulopter, wais-hudv4, wasabi_ambulance, wasabi_bridge, wasabi_crutch, wasabi_mining, wasabi_multijob, wasabi_police, watergun_prop, WC_Mini_Cars, webpack, western_mbstore, wk_wars2x, wtfkart, xmmx-letscookplus, xn-mdt, xradio, xsound, yarn, zerio-radio, zf_dialog, zm_eroticmenu, zm_lovemenu, zv-fleeca, zv-gabz-pacific\n",
      "Game type: ESX Legacy\n",
      "Map: San Andreas\n",
      "OneSync: enabled\n",
      "Language: English (United States)\n",
      "Tags: default, esx, esx legacy, legacy, official, roleplay, juicy, juicy rp, d10, disctrict, thehills, theheights, sob, *******, grizzley, mercury, bandit, egirl, semi,esx\n",
      "JD_logs: V3.1.3\n",
      "DLC level: 2699\n",
      "sv_pureLevel: 0\n",
      "can_review: true\n",
      "Owner: lemonpepz\n",
      "https://servers.fivem.net/servers/detail/ev9gjp\n"
     ]
    },
    {
     "name": "stdout",
     "output_type": "stream",
     "text": [
      "['🍑 Juicy RP | Semi Serious | Largest Custom Clothing Pack | Unique Emotes & Maps | E-Girl Friendly | discord.gg/juicyrp', 'https://servers.fivem.net/servers/detail/e3r8yd', '', 'ESX Legacy', 'enabled', 'San Andreas', 'English (United States)', 'default, esx, esx legacy, legacy, official, roleplay, juicy, juicy rp, d10, disctrict, thehills, theheights, sob, *******, grizzley, mercury, bandit, egirl, semi,esx', '2699', '', 'lemonpepz', '', '', ['3DMARKET-CarDealer', '3dme-w--html', '17mov_GarbageCollector', 'AB45-BlossomMansion', 'AB45-PrivateIslandCity', 'AB45-PrivateIslandPaleto', 'AB45-SkyClub', 'ace_hiddendruglab', 'adeledanceflor_gabund', 'AEG_PROPS_bedroom1', 'AEG_PROPS_bedroom2', 'AEG_props_FriendsProps', 'AEG_PROPS_livingroom-dubai', 'AEG_PROPS_livingroom-hokaido', 'AEG_props_livingroom-imola', 'ak4y-advancedFishing', 'ak47_cannabiscafev2', 'ak47_usablecookiesv2', 'ak47_usabledrugs', 'Among_Battle', 'ap-addonjob', 'ap-court', 'apoteka', 'as_tequilala', 'Assets', 'async', 'av_restaurants', 'Badger_Discord_API', 'baseevents', 'baz_dumpsters', 'BCall_progress', 'bcs_housing', 'bcs_questionare', 'bennylift', 'Better_FPS', 'billing_ui', 'blips_creator', 'bob74_ipl', 'breze_bowling_map', 'brofx_mansion_16', 'brofx_mansion_17', 'brofx_mansion_19', 'brutal_babys', 'brutal_boxing', 'brutal_hunting', 'brutal_notify', 'brutal_pets', 'brutal_shop_robbery', 'bumpercar', 'Buty_InfiniteJobs', 'Buty-Activities', 'Buty-KartRent', 'bxe_bodybag', 'bzzz_basket', 'Cafe_rubicon', 'cafeblue', 'CarRepairStation', 'cd_drawtextui', 'cd_easytime', 'cd_garage', 'cd_garageshell', 'cdev_lib', 'cdev_pets', 'cdev_pets_assets_premium', 'cfx-gabz-247', 'cfx-gabz-altruists', 'cfx-gabz-ammunation', 'cfx-gabz-atom', 'cfx-gabz-barber', 'cfx-gabz-binco', 'cfx-gabz-burgershot', 'cfx-gabz-catcafe', 'cfx-gabz-esbltd', 'cfx-gabz-fleeca', 'cfx-gabz-hornys', 'cfx-gabz-koi', 'cfx-gabz-mapdata', 'cfx-gabz-mrpd', 'cfx-gabz-pacificbank', 'cfx-gabz-paletobank', 'cfx-gabz-paletoliquor', 'cfx-gabz-paletopd', 'cfx-gabz-pdm', 'cfx-gabz-pdprops', 'cfx-gabz-ponsonbys', 'cfx-gabz-prison', 'cfx-gabz-studio', 'cfx-gabz-suburban', 'cfx-gabz-tattoo', 'cfx-gabz-townhall', 'cfx-minibulle3d_h2023_maze', 'chat', 'coachHalloween', 'connectqueue', 'cron', 'cs-hall', 'cs-stream', 'datacrack', 'dc-watergun', 'design_house', 'diables_hopital', 'diables_irm', 'diables_props', 'diables_radio', 'diables_scripts', 'doberman', 'dolu_lasttrain', 'dolu_prop_stroller', 'doors_creator', 'DP_GoFast', 'dpclothing', 'drc_drugs_beta', 'dz-drone', 'dz-staffchat', 'EasyAdmin', 'es_extended', 'esx_addonaccount', 'esx_addoninventory', 'esx_basicneeds', 'esx_context', 'esx_datastore', 'esx_givevehicle', 'esx_identity', 'esx_license', 'esx_menu_default', 'esx_menu_dialog', 'esx_menu_list', 'esx_moneywash', 'esx_notify', 'esx_optionalneeds', 'esx_outlawalert', 'esx_progressbar', 'esx_service', 'esx_society', 'esx_status', 'esx_textui', 'esx_tk_evidence', 'esx_vehicleshop', 'ESX-Binoculars', 'evo_halloweenmlo', 'fishy_poledance', 'fiv3devs_bahamamamas', 'fiv3devs_galaxy', 'fivem-appearance', 'fivem-infinity', 'fl_punishment', 'foltone-elevator-builder', 'fuenf_carwash', 'gacha_peds-main', 'gigz_davis_mall_ltd_tebex', 'gigz_fight_club_v2_tebex', 'gigz_karting_update_v2', 'gks_ebay', 'gks_gotur', 'gks_racing', 'gks_rentacar', 'gksphone', 'GlamStudio', 'grappler', 'grs_vespucci_cardealer_v2', 'gtrbyvnewedi', 'hacking', 'hane_limeys', 'hane_vespuccivillas12', 'hawaii', 'Hawaii_Island_2023_by_Ajna_mods', 'HD_AdvancedJail', 'helicam', 'hex_bennys', 'howdy-hackminigame', 'interact-sound', 'JD_logsV3', 'jobs_creator', 'jodsounds', 'jr_vbmafia', 'juicy-basics', 'JuicyCompMLO', 'juicyPD', 'JuicyRPCars', 'JuicySounds', 'JuicyWeapons', 'K4MB1-FullHousing', 'K4MB1-FurnishedHotels', 'K4MB1-NewOffices', 'K4MB1-OfficesOld', 'k4mb1shellstarter', 'knockout', 'kq_driftsmoke', 'kq_drifttires', 'kq_engineswaps', 'kq_islands_props', 'kq_lootareas', 'kq_outfitbag', 'kq_smugglers', 'kq_wheeldamage', 'kq_wild_cannabis', 'ks-loadingscreen', 'ks-scoreboard', 'lafitness', 'lb-phone_prop', 'lespetite_nursery_bykyndra', 'loaf_lib', 'loaf_vanillaunicorn', 'lockpick', 'lockpick-main', 'lunaticstudio_promo001', 'lvc', 'lynxfix_malibumansion', 'mafia_mansion', 'Main', 'mariokart', 'marketShop', 'marketTrolley', 'marquis_hawaii_ajnamods', 'max_6ufshellspack', 'max_creationspack8', 'meangirls', 'medSystem', 'meta_libs', 'MilosSkatingRing', 'MK-Duty', 'monitor', 'Motel_Vanilla', 'murm_dec_pack', 'mythic_notify', 'mythic_progbar', 'nh-context', 'nh-keyboard', 'night_handheld_smoke_gen', 'offstore_garage_halloween', 'offstore_halloween', 'offstore_halloween_party', 'offstore_halloweendecoration', 'okokBanking', 'okokChatV2', 'okokNotify', 'okokTextUI', 'opod-greenzone', 'ox_inventory', 'ox_lib', 'ox_target', 'oxmysql', 'pablito_lp', 'pac', 'pac_iec', 'pac_os', 'pacific_rooftop', 'pacific_villa', 'Pata_BathroomProps', 'Pata_BedroomProps', 'Pata_ChristmasProps', 'Pata_ChristmasPropsControl', 'pata_dressing', 'Pata_fitness', 'Pata_fitScript', 'Pata_Float', 'pata_food', 'Pata_GamerOffice', 'Pata_garden', 'pata_kit2', 'Pata_KitchenProps', 'Pata_LaundryProps', 'Pata_LivingroomProps', 'Pata_NurseryProps', 'Pata_NurseryPropsControl', 'Pata_office', 'Pata_OfficeClassic', 'Pata_pet', 'Pata_StreamLightPropsControl', 'Pata_valentinesday', 'PataHotTubScript', 'patamods_studioScript', 'PatamodsElevatorV2', 'patoche_beachgame', 'patoche_bigbenny_bw', 'patoche_boatdealer', 'patoche_bumpercar', 'patoche_bumpercar_script', 'patoche_karaoke', 'patoche_littlehouse', 'patoche_minigolf', 'patoche_minigolf_script', 'patoche_plasmagame', 'patoche_plasmagame_dlc', 'patoche_plasmakart', 'patoche_plasmatron', 'patoche_studio', 'patoche_wolf', 'patoche_wolf_map', 'pd_brake_cutting', 'pd_image_placer', 'pd_outfit_theft', 'pd_tracker', 'pd_whiteboard', 'pd-safe', 'petshop_map', 'pickle_dealership', 'pickle_documents', 'pickle_policetools', 'PlasmaCTF', 'PlasmaGame', 'PlasmaGun', 'PlasmaKart', 'PlasmaLobby', 'PlasmaMask', 'PlasmaOrbs', 'PlasmaRandom', 'PlasmaSocle', 'PlasmaTron', 'pma-voice', 'pNotify', 'policetools', 'PolyZone', 'progressBars', 'ps-dispatch', 'ps-ui', 'pun_idgun', 'purchased', 'qf_CheatDetection', 'quasar_shells', 'racekart', 'RageUI', 'Ranch-De-Caniche-Main', 'rcore_addon_tattoos_juicy-rp', 'rcore_airhockey', 'rcore_basketball', 'rcore_basketball_assets', 'rcore_beerpong', 'rcore_bowling', 'rcore_camping', 'rcore_camping_assets', 'rcore_carnival', 'rcore_carnival_assets', 'rcore_drunk', 'rcore_gangs', 'rcore_lunapark', 'rcore_lunapark_assets', 'rcore_missionpack', 'rcore_pool', 'rcore_spray', 'rcore_spray_assets', 'rcore_tattoos', 'rcore_television', 'renzu_contextmenu', 'renzu_multicharacter', 'renzu_spawn', 'Replacement', 'richards_majestic_build_v3.1', 'rjz_bungalow_village', 'rob_atm', 'RollDice', 'RollerIceSkating', 'rpemotes', 'rtx_gym', 'rtx_wateractivities', 'rtx_waterpark', 'save-system', 'screenshot-basic', 'sh-electronicCuffs', 'sh-events', 'sh-mapImages', 'simple-pt', 'sit', 'sizzle-pharmacy', 'skillbar', 'SleepOrSex', 'SmartTaser', 'soloty_boulangerie', 'spawnmanager', 'spooky', 'sqz_rental', 'ss-boombox', 'Staff', 'stasiek_selldrugsv2', 'staxzs_skateboard', 'stream.pack', 'synced_teapot', 't0sic_loadingbar', 'Tattoos', 'tg-uwucats', 'toiletpaperkart', 'tropical_villa', 'TunningSystem', 'tv_scaleform', 'ultra-keypackhack-main', 'ultra-voltlab', 'um-rodeo', 'um-rodeo-prop', 'uni_boyorgirl_baby_universestore', 'uni_lakerestaurant_universestore', 'uprise-smexy', 'uz_fuel', 'vinewood_hills_mansion', 'Vinewood%20-%20Sakura%20Store', 'voodoo_ambulopter', 'wais-hudv4', 'wasabi_ambulance', 'wasabi_bridge', 'wasabi_crutch', 'wasabi_mining', 'wasabi_multijob', 'wasabi_police', 'watergun_prop', 'WC_Mini_Cars', 'webpack', 'western_mbstore', 'wk_wars2x', 'wtfkart', 'xmmx-letscookplus', 'xn-mdt', 'xradio', 'xsound', 'yarn', 'zerio-radio', 'zf_dialog', 'zm_eroticmenu', 'zm_lovemenu', 'zv-fleeca', 'zv-gabz-pacific']]\n",
      "The last index is: 79\n",
      "Scraping server 80, id is ev9gjp\n",
      "ev9gjp\n"
     ]
    },
    {
     "name": "stderr",
     "output_type": "stream",
     "text": [
      "https://servers.fivem.net/servers/detail/aj49o3\n"
     ]
    },
    {
     "name": "stdout",
     "output_type": "stream",
     "text": [
      "An error occured scraping single servers.\n",
      "Message: \n",
      "\n",
      "Scraping server 81, id is aj49o3\n",
      "aj49o3\n"
     ]
    },
    {
     "name": "stderr",
     "output_type": "stream",
     "text": [
      "https://servers.fivem.net/servers/detail/zglbq9\n"
     ]
    },
    {
     "name": "stdout",
     "output_type": "stream",
     "text": [
      "An error occured scraping single servers.\n",
      "Message: \n",
      "\n",
      "Scraping server 82, id is zglbq9\n",
      "zglbq9\n"
     ]
    },
    {
     "name": "stderr",
     "output_type": "stream",
     "text": [
      "https://servers.fivem.net/servers/detail/by47jb\n"
     ]
    },
    {
     "name": "stdout",
     "output_type": "stream",
     "text": [
      "An error occured scraping single servers.\n",
      "Message: \n",
      "\n",
      "Scraping server 83, id is by47jb\n",
      "by47jb\n"
     ]
    },
    {
     "name": "stderr",
     "output_type": "stream",
     "text": [
      "Resources: 4PF%20Mall, 23EEXTVS, 99kr-gym, 300c, 400z, AA, ak47_qb_chickfila, ak47_qb_cookiesv2, ak47_qb_dominos, ak47_qb_drugdealerv2, ak47_qb_druglabs, ak47_qb_hookahlounge, ak47_qb_mcdonalds, ak47_qb_usablecookiesv2, ak47_qb_usabledrugs, ak47_qb_wingstop, akdraco, an-engineswap, angelicxs_elevators, aq02coyotef150, aq26mit4b11t, aq35ferf154cd, aq36hyutheta2n, aqls7raceswap, artgallery, as_tequilala, aston59v12, atmtaco, AzurasPackV1, banner_anim, baseevents, basic-gamemode, bb-dices, Beach%20Hood, Bean%20Machine%20MLO, benzz_sandy_hideout, berettapico, blips, bob74_ipl, boii-consumables, boii-hunting, boii-moneylaunderer, boiteclan, borishousing_shells, breze_mansion2, brofx_church, brofx_mafia, brofx_mansion_18, brofx02, brofx03, brofx06, brofx08, bunker_igro45, burger, burgershot-van, Cafe%20Corretto, camls3v8, cammedcharger, CanyonHouse, cardealer, CarryPeople, CarWipe, case-whitewidowjob, cat-cafe-script, Cayo_Perico_UpdatedV3, ccbennys, ccnailstu, chat, chevydmaxeng, chicago_rework, chicagorework, city11, cityhouse5, CityHouse7, CL-PizzaThis, ClawlesDiamondCasino, Cockatoos, codem-chat, codem-venicehud, cokelab, col-fix, col-fix1, col-fix2, col-fix3, col-fix4, col-fix5, col-fix6, connectqueue, Cookie, Cookiesv2, core_dispatch, core_evidence, cummins5924v, cv_richard_mille, cw-prescriptions, dealer_map, dealership, demonruc, Diesel-Safe, Dirty_Angels, dodgehemihellcat, doj-fishing, dominos, dpemotes, dragstrip_new, dragtrack, dream-tanker, duxstin_drug, eastcostums, ebu_trailer, eclipsemedical, ed_austinmansion, ed_italianrestaurant, ed_narcohideout, ed_rockfordh02, eh_cutscene, esx_menu_default, eup-stream, eup-ui, familydollar, farms, five3devs_vanilla, fivem-map-hipster, footlocker, fordvoodoo, FreeChicago_SolotyHood, furiwan_spamlo, g-bikerentals, g-billing, gabz_catcafe, gabz_mrpd, gcmferraripurosangue, generic_texture_renderer_gfx, gigz_karting_v1.2, Glock18C, glock19, Glock19Gen4, glogangletters, glopack1, glopack2, glopack3, Glowing, glowingpalms, gmap_thenewgarage_7-11, gmap_thenewgarage_base, gmap_thenewgarage_clote, gmap_thenewgarage_kfc, grove, gusepe_motel_paletto, hane_villaspack1, hdigitalden, hedwig_hunt, hh_aidoc, hhmanson, hookah, hospital_map, house, hypnonema, hypnonema-map, iak_wheelchair, IndeStudio%20-%20Families%20Pack%20v1, int_carmeet, int_italy, int_jdmhub, int_mphouse01, interact-sound, interior, interiorsgta_mafiaa, Jacks_Paradise_Resort, japrest, jim-mechanic, Justice, k4mb1shellstarter, kc24r33gts, keep-backpack, keep-companion, Knockout, knockspackv4, La_Linterna_Bar, LA-Roads, lafitness, lamavgineng, laundry, lb_qb_racing, lb-phone, lb-phone_prop, LegacyFuel, lg-radiocar, lg14c6vette, lg16a90mk5, lg18bmwm4, lg21focusrs, lg28cst26b, lg30meramgtr, lg36r32skyid, lg54evoxtun, lg56hons2k, lg57mustangtv8, lg81hcredeye, lightbars, lights, loaf_lib, loaf_tv, lockpick, LSIA, lunaticstudio_promo001, m-loadingscreen, m-Tequila, mac10, madrazoranch, maklare, mapmanager, marabuntaint, Marc_bunkerchiliad, Marc_vazou, MarkoMods-UZI, mbnzc63eng, mcdonalds, memorygame, menuv, mercy-adminmenu_qb, meta_libs, metropcs, mhacking, MilosBasketball, MilosNightClub, MilosShowers, MilosSLGC, MLO_STORE_OffWhite, Modz_Gasstation, monitor, MP9, mt-beanmachine, mt-clothingbag, myDj, nad_rockstar, nakres_lightbar, narko_mlo, NewPrison, newrims, nh-context, np-comicstore, np-methlabs, npolchar, ns-kfc, nueera2, okokNotify, oulsen_satmap, ox_lib, oxmysql, pablito_pawnshop, pablito_pawnshop_paleto, pablito_restauracja, PacificBankExtendedMLOv1, paleto_garage, pandaexpress, patoche_gang, patoche_plasmagame, patoche_shop, petshop_map, Pharmacy, PinkCage, PlasmaGame, pma-voice, pmc-instance, pNotify, PolyZone, popsdiner, pressurewasher, pressurewashermodels, progressbar, ps-dispatch, ps-mdt, ps-ui, ps-weedplanting, pyro_icebox_jewellery, pyro-lighthouse, pyro-willows, qb_headbag, qb-adminmenu, qb-ambulancejob, qb-apartments, qb-atms, qb-banking, qb-bankrobbery, qb-bbq, qb-busjob, qb-chains, qb-cityhall, qb-clothing, qb-commandbinding, qb-core, qb-crypto, qb-customs, qb-diving, qb-djbooth, qb-doorlock, qb-drugs, qb-fitbit, qb-garages, qb-garbagejob, qb-hotdogjob, qb-houserobbery, qb-input, qb-interior, qb-inventory, qb-jewelery, qb-keyminigame, qb-lapraces, qb-lock, qb-lockpick, qb-management, qb-mechanicjob, qb-menu, qb-moonshine, qb-multicharacter, qb-newsjob, qb-pawnshop, qb-pokemontcg, qb-policejob, qb-present, qb-prison, qb-radialmenu, qb-radio, qb-recyclejob, qb-scoreboard, qb-scrapyard, qb-shops, qb-simplefarming, qb-sit, qb-skillbar, qb-smallresources, qb-spawn, qb-stashes, qb-storerobbery, qb-streetraces, qb-target, qb-tattooshop, qb-taxijob, qb-towjob, qb-traphouse, qb-tripballs, qb-truckerjob, qb-truckrobbery, qb-tunerchip, qb-uwu, qb-vehiclefailure, qb-vehiclekeys, qb-vehiclesales, qb-vehicleshop, qb-vineyard, qb-weapons, qb-weathersync, qb-wheelchair, qbus_gasstation, qg7coke, qs-housing, RacingProTree, randol_burgershot, rcore_pool, rcore_spray_qbcore, redlobster, refuelingnozzle, rims, rm_shoprobbery, rm_trainheist, RockfordGas, RollerSkating, romecustomdoor, rpg-atmrobbery, rpg-japaneseCafe, rprogress, rs9000, Rudzik_chinese_rest, Rufi_ChangePlate, Ruger-5.7, safecracker, Sanders%20Motor, Sandy_gas_station_v1.2, screenshot-basic, secret_lab, server-sounds, shmanncenter, shop-glass, SkatingRing, skillbar, smokey_biker_lore, smokey_paletobarak, solotyhoods6, spawnmanager, sport-store, stretcherscript, swrevolver, TakeHostage, tc-givecash, teslaconcess, textUi, tgm_legion, thug, tjz1eng, tr-dumpsterdive, tr-lumberjack, traindiner, tungao_cafe_gara_trung_tam, tvilla, ub-dashhound, uj_cayoLoader, uj_cayoPerico, ult-kfc-legion, ultrunzdealership, uniqx_burgershot, vagosint, varhack, venicebeachhouse, vespucci_motel, vgcc, villa666, vr38dettv6, Walmart, warehouse, wasabi_crutch, webpack, western_redcircle, whitewidowrumpo, xc90wb, xsound, yakuku, yakuza, yarn, YBNMilosRecordStudiov2\n",
      "Game type: Freeroam\n",
      "Map: fivem-map-hipster\n",
      "OneSync: enabled\n",
      "Language: English (United States)\n",
      "Tags: default, cars, custom, gangs, donks, serious, new, fun, rp, roleplay, police, economy, qbcore, qb-core\n",
      "DLC level: 2699\n",
      "sv_pureLevel: 0\n",
      "can_review: true\n",
      "Owner: nakismokes\n",
      "https://servers.fivem.net/servers/detail/dbz4e5\n"
     ]
    },
    {
     "name": "stdout",
     "output_type": "stream",
     "text": [
      "['', 'https://servers.fivem.net/servers/detail/by47jb', '', 'Freeroam', 'enabled', 'fivem-map-hipster', 'English (United States)', 'default, cars, custom, gangs, donks, serious, new, fun, rp, roleplay, police, economy, qbcore, qb-core', '2699', '', 'nakismokes', '', '', ['4PF%20Mall', '23EEXTVS', '99kr-gym', '300c', '400z', 'AA', 'ak47_qb_chickfila', 'ak47_qb_cookiesv2', 'ak47_qb_dominos', 'ak47_qb_drugdealerv2', 'ak47_qb_druglabs', 'ak47_qb_hookahlounge', 'ak47_qb_mcdonalds', 'ak47_qb_usablecookiesv2', 'ak47_qb_usabledrugs', 'ak47_qb_wingstop', 'akdraco', 'an-engineswap', 'angelicxs_elevators', 'aq02coyotef150', 'aq26mit4b11t', 'aq35ferf154cd', 'aq36hyutheta2n', 'aqls7raceswap', 'artgallery', 'as_tequilala', 'aston59v12', 'atmtaco', 'AzurasPackV1', 'banner_anim', 'baseevents', 'basic-gamemode', 'bb-dices', 'Beach%20Hood', 'Bean%20Machine%20MLO', 'benzz_sandy_hideout', 'berettapico', 'blips', 'bob74_ipl', 'boii-consumables', 'boii-hunting', 'boii-moneylaunderer', 'boiteclan', 'borishousing_shells', 'breze_mansion2', 'brofx_church', 'brofx_mafia', 'brofx_mansion_18', 'brofx02', 'brofx03', 'brofx06', 'brofx08', 'bunker_igro45', 'burger', 'burgershot-van', 'Cafe%20Corretto', 'camls3v8', 'cammedcharger', 'CanyonHouse', 'cardealer', 'CarryPeople', 'CarWipe', 'case-whitewidowjob', 'cat-cafe-script', 'Cayo_Perico_UpdatedV3', 'ccbennys', 'ccnailstu', 'chat', 'chevydmaxeng', 'chicago_rework', 'chicagorework', 'city11', 'cityhouse5', 'CityHouse7', 'CL-PizzaThis', 'ClawlesDiamondCasino', 'Cockatoos', 'codem-chat', 'codem-venicehud', 'cokelab', 'col-fix', 'col-fix1', 'col-fix2', 'col-fix3', 'col-fix4', 'col-fix5', 'col-fix6', 'connectqueue', 'Cookie', 'Cookiesv2', 'core_dispatch', 'core_evidence', 'cummins5924v', 'cv_richard_mille', 'cw-prescriptions', 'dealer_map', 'dealership', 'demonruc', 'Diesel-Safe', 'Dirty_Angels', 'dodgehemihellcat', 'doj-fishing', 'dominos', 'dpemotes', 'dragstrip_new', 'dragtrack', 'dream-tanker', 'duxstin_drug', 'eastcostums', 'ebu_trailer', 'eclipsemedical', 'ed_austinmansion', 'ed_italianrestaurant', 'ed_narcohideout', 'ed_rockfordh02', 'eh_cutscene', 'esx_menu_default', 'eup-stream', 'eup-ui', 'familydollar', 'farms', 'five3devs_vanilla', 'fivem-map-hipster', 'footlocker', 'fordvoodoo', 'FreeChicago_SolotyHood', 'furiwan_spamlo', 'g-bikerentals', 'g-billing', 'gabz_catcafe', 'gabz_mrpd', 'gcmferraripurosangue', 'generic_texture_renderer_gfx', 'gigz_karting_v1.2', 'Glock18C', 'glock19', 'Glock19Gen4', 'glogangletters', 'glopack1', 'glopack2', 'glopack3', 'Glowing', 'glowingpalms', 'gmap_thenewgarage_7-11', 'gmap_thenewgarage_base', 'gmap_thenewgarage_clote', 'gmap_thenewgarage_kfc', 'grove', 'gusepe_motel_paletto', 'hane_villaspack1', 'hdigitalden', 'hedwig_hunt', 'hh_aidoc', 'hhmanson', 'hookah', 'hospital_map', 'house', 'hypnonema', 'hypnonema-map', 'iak_wheelchair', 'IndeStudio%20-%20Families%20Pack%20v1', 'int_carmeet', 'int_italy', 'int_jdmhub', 'int_mphouse01', 'interact-sound', 'interior', 'interiorsgta_mafiaa', 'Jacks_Paradise_Resort', 'japrest', 'jim-mechanic', 'Justice', 'k4mb1shellstarter', 'kc24r33gts', 'keep-backpack', 'keep-companion', 'Knockout', 'knockspackv4', 'La_Linterna_Bar', 'LA-Roads', 'lafitness', 'lamavgineng', 'laundry', 'lb_qb_racing', 'lb-phone', 'lb-phone_prop', 'LegacyFuel', 'lg-radiocar', 'lg14c6vette', 'lg16a90mk5', 'lg18bmwm4', 'lg21focusrs', 'lg28cst26b', 'lg30meramgtr', 'lg36r32skyid', 'lg54evoxtun', 'lg56hons2k', 'lg57mustangtv8', 'lg81hcredeye', 'lightbars', 'lights', 'loaf_lib', 'loaf_tv', 'lockpick', 'LSIA', 'lunaticstudio_promo001', 'm-loadingscreen', 'm-Tequila', 'mac10', 'madrazoranch', 'maklare', 'mapmanager', 'marabuntaint', 'Marc_bunkerchiliad', 'Marc_vazou', 'MarkoMods-UZI', 'mbnzc63eng', 'mcdonalds', 'memorygame', 'menuv', 'mercy-adminmenu_qb', 'meta_libs', 'metropcs', 'mhacking', 'MilosBasketball', 'MilosNightClub', 'MilosShowers', 'MilosSLGC', 'MLO_STORE_OffWhite', 'Modz_Gasstation', 'monitor', 'MP9', 'mt-beanmachine', 'mt-clothingbag', 'myDj', 'nad_rockstar', 'nakres_lightbar', 'narko_mlo', 'NewPrison', 'newrims', 'nh-context', 'np-comicstore', 'np-methlabs', 'npolchar', 'ns-kfc', 'nueera2', 'okokNotify', 'oulsen_satmap', 'ox_lib', 'oxmysql', 'pablito_pawnshop', 'pablito_pawnshop_paleto', 'pablito_restauracja', 'PacificBankExtendedMLOv1', 'paleto_garage', 'pandaexpress', 'patoche_gang', 'patoche_plasmagame', 'patoche_shop', 'petshop_map', 'Pharmacy', 'PinkCage', 'PlasmaGame', 'pma-voice', 'pmc-instance', 'pNotify', 'PolyZone', 'popsdiner', 'pressurewasher', 'pressurewashermodels', 'progressbar', 'ps-dispatch', 'ps-mdt', 'ps-ui', 'ps-weedplanting', 'pyro_icebox_jewellery', 'pyro-lighthouse', 'pyro-willows', 'qb_headbag', 'qb-adminmenu', 'qb-ambulancejob', 'qb-apartments', 'qb-atms', 'qb-banking', 'qb-bankrobbery', 'qb-bbq', 'qb-busjob', 'qb-chains', 'qb-cityhall', 'qb-clothing', 'qb-commandbinding', 'qb-core', 'qb-crypto', 'qb-customs', 'qb-diving', 'qb-djbooth', 'qb-doorlock', 'qb-drugs', 'qb-fitbit', 'qb-garages', 'qb-garbagejob', 'qb-hotdogjob', 'qb-houserobbery', 'qb-input', 'qb-interior', 'qb-inventory', 'qb-jewelery', 'qb-keyminigame', 'qb-lapraces', 'qb-lock', 'qb-lockpick', 'qb-management', 'qb-mechanicjob', 'qb-menu', 'qb-moonshine', 'qb-multicharacter', 'qb-newsjob', 'qb-pawnshop', 'qb-pokemontcg', 'qb-policejob', 'qb-present', 'qb-prison', 'qb-radialmenu', 'qb-radio', 'qb-recyclejob', 'qb-scoreboard', 'qb-scrapyard', 'qb-shops', 'qb-simplefarming', 'qb-sit', 'qb-skillbar', 'qb-smallresources', 'qb-spawn', 'qb-stashes', 'qb-storerobbery', 'qb-streetraces', 'qb-target', 'qb-tattooshop', 'qb-taxijob', 'qb-towjob', 'qb-traphouse', 'qb-tripballs', 'qb-truckerjob', 'qb-truckrobbery', 'qb-tunerchip', 'qb-uwu', 'qb-vehiclefailure', 'qb-vehiclekeys', 'qb-vehiclesales', 'qb-vehicleshop', 'qb-vineyard', 'qb-weapons', 'qb-weathersync', 'qb-wheelchair', 'qbus_gasstation', 'qg7coke', 'qs-housing', 'RacingProTree', 'randol_burgershot', 'rcore_pool', 'rcore_spray_qbcore', 'redlobster', 'refuelingnozzle', 'rims', 'rm_shoprobbery', 'rm_trainheist', 'RockfordGas', 'RollerSkating', 'romecustomdoor', 'rpg-atmrobbery', 'rpg-japaneseCafe', 'rprogress', 'rs9000', 'Rudzik_chinese_rest', 'Rufi_ChangePlate', 'Ruger-5.7', 'safecracker', 'Sanders%20Motor', 'Sandy_gas_station_v1.2', 'screenshot-basic', 'secret_lab', 'server-sounds', 'shmanncenter', 'shop-glass', 'SkatingRing', 'skillbar', 'smokey_biker_lore', 'smokey_paletobarak', 'solotyhoods6', 'spawnmanager', 'sport-store', 'stretcherscript', 'swrevolver', 'TakeHostage', 'tc-givecash', 'teslaconcess', 'textUi', 'tgm_legion', 'thug', 'tjz1eng', 'tr-dumpsterdive', 'tr-lumberjack', 'traindiner', 'tungao_cafe_gara_trung_tam', 'tvilla', 'ub-dashhound', 'uj_cayoLoader', 'uj_cayoPerico', 'ult-kfc-legion', 'ultrunzdealership', 'uniqx_burgershot', 'vagosint', 'varhack', 'venicebeachhouse', 'vespucci_motel', 'vgcc', 'villa666', 'vr38dettv6', 'Walmart', 'warehouse', 'wasabi_crutch', 'webpack', 'western_redcircle', 'whitewidowrumpo', 'xc90wb', 'xsound', 'yakuku', 'yakuza', 'yarn', 'YBNMilosRecordStudiov2']]\n",
      "The last index is: 83\n",
      "Scraping server 84, id is dbz4e5\n",
      "dbz4e5\n"
     ]
    },
    {
     "name": "stderr",
     "output_type": "stream",
     "text": [
      "Server Name: Ignition RP, ^Lore Friendly Cars, Illegal Activites, AllowListed Jobs, Streamer Friendly, Gangs Welcome\n"
     ]
    },
    {
     "name": "stdout",
     "output_type": "stream",
     "text": [
      "%%%%%%%%%%%%%%%%%%%%%%%%%%%%%%%%%%%%%%%%%%%%%%%%%%%%%%%%%%%%%%%%%\n",
      "Ignition RP, ^Lore Friendly Cars, Illegal Activites, AllowListed Jobs, Streamer Friendly, Gangs Welcome\n",
      "%%%%%%%%%%%%%%%%%%%%%%%%%%%%%%%%%%%%%%%%%%%%%%%%%%%%%%%%%%%%%%%%%\n"
     ]
    },
    {
     "name": "stderr",
     "output_type": "stream",
     "text": [
      "Resources: am-scraptheft, apolo_loadingscreen, B1-skillz, baseevents, basic-gamemode, bbv-hideintrash, BennoClothing, bob74_ipl, boii-ganglocs, boii-hunting, brnx_hautenightclub, brofx_mansion_14, CarryPeople, carsounds, casino, casino-blackjack, casinoUi, cd_doorlock, cd_keymaster, cfx_gn_bs_food_props, cfx-gabz-aztecas, cfx-gabz-bobcat, cfx-gabz-catcafe, cfx-gabz-davispd, cfx-gabz-families, cfx-gabz-firedept, cfx-gabz-lamesapd, cfx-gabz-lost, cfx-gabz-mapdata, cfx-gabz-pdprops, cfx-gabz-pillbox, cfx-gabz-pinkcage, cfx-gabz-pizzeria, cfx-gabz-prison, cfx-gabz-records, cfx-gabz-townhall, cfx-gabz-vu, cikana_fleecabank, compass, connectqueue, crosshair, DLCiplLoader, dog-bodycam, don-forklift, dz-fishing, dz-treasurebox, EUP_BOXINGGLOVE, ev-platechanger, evy_armwrestling, firehose, firehosemodels, firescript, fivem-map-hipster, FlyBanditMods-iOS_LS_Map-Lite, g-billing, GangClothing, GenericFemaleClothing, gg-frisbeegolf, gg-frisbeegolfstand, gg-frisbeeprops, gigz_jewel, gigz_karting, gksphone, gl-halloween, Grove-Street-Compound, hex_bennys, hospitalsandy, hostage, hpawnshop, hyrda, iak_Cartel_Ranch_Project_House_Tunnel, iak_wheelchair, ign-addonpeds, ign-customweapons, ign-lorevehicles, ign-sounds, igro45_digitalden, IGRPClothing, ikea, interact-sound, jim-djbooth, jim-mechanic, k-pokemontcg, K4MB1startshells, k9, Kael-Street-Beggar, kd_custom-native, kd_hud-event, kd_towtruck, keep-backpack, keep-companion, kuz_towing, laundry, loreaddonwheels, lorewheels, lvc, m-HotWheels, m-Insurance, m-spawnselector, mapmanager, mb-oocjail, menuv, mhacking, monitor, moon-printers, morevegetation, mrpdconstruction, mt-karting, n-bankheist, n-bars, n-burgershot, n-business, n-chat, n-drugs, n-illegaldoctor, n-jobs, n-smallscripts, nad_rockstar, nc-rental, nkambulance, nkballer7, nkballer7ems, nkballer7taxi, nkballer7um, nkbf400, nkbison, nkbisondot, nkbisontrailer, nkbisonum, nkblazer2, nkbuzzard, nkcaracara2, nkcaracara2ems, nkcaracara2um, nkcomet6, nkcomet6um, nkcoquette, nkcoquette4, nkcoquette4um, nkcoquetteum, nkcruiser, nkcruiserum, nkcypher, nkcypherum, nkdinghy4, nkdominator3, nkdominator3um, nkdraftertaxi, nkelegy2, nkelegy2um, nkfugitive, nkfugitivetaxi, nkfugitiveum, nkgauntlet4, nkgauntlet4um, nkgranger2, nkgranger2ems, nkgranger2taxi, nkgranger2um, nkjester4, nkjester4um, nkjugular, nkjugulartaxi, nkjugularum, nkkomoda, nkkomodataxi, nkkomodaum, nklandstalker2, nklandstalker2ems, nklandstalker2taxi, nklandstalker2um, nkmanchez3, nkmule5, nkomnisegt, nkomnisegttaxi, nkomnisegtum, nkparagon, nkparagonum, nkrhinehart, nkrhineharttaxi, nkrhinehartum, nkseashark2, nkshinobi, nkstingertt, nkstingerttum, nkstx, nkstxems, nkstxtaxi, nkstxum, nksvolito, nksvolitoems, nktailgaters, nktailgatersum, nktenf, nktenfum, nktorrence, nktorrenceum, nkvectre, nkvectreum, nkverus, nkvigero2, nkvigero2um, nkvstr, nkvstrum, nocargunsv4.2, nui_blocker, nw_bahamaMama, okokReports, osm-referrals, ox_lib, oxmysql, pablito_taco, pac, pac_os, paleto247, parasha_flat, patoche_free_cardealer, pd_sandy, pickle_throwables, pickle_weaponthrowing, pma-voice, PolyZone, progressbar, ps-adminmenu, ps-buffs, ps-camera, ps-dispatch, ps-fuel, ps-hud, ps-mdt, ps-multijob, ps-objectspawner, ps-signrobbery, ps-ui, ps-walkingstyle, pug-sling, qb-ambulancejob, qb-apartments, qb-atms, qb-banking, qb-bankrobbery, qb-busjob, qb-cityhall, qb-clothing, qb-commandbinding, qb-communityservice, qb-core, qb-crypto, qb-customs, qb-drugs, qb-fakeplate, qb-garages, qb-garbagejob, qb-houserobbery, qb-houses, qb-input, qb-interior, qb-inventory, qb-jewelery, qb-keyminigame, qb-laundering, qb-lockpick, qb-management, qb-mechanicjob, qb-menu, qb-methcar, qb-newsjob, qb-oxyruns, qb-pawnshop, qb-policejob, qb-prison, qb-racing, qb-radialmenu, qb-radio, qb-recyclejob, qb-scenes, qb-scratchcards, qb-shops, qb-sit, qb-skillbar, qb-smallresources, qb-spawn, qb-speedcameras, qb-target, qb-tattooshop, qb-taxijob, qb-towjob, qb-traphouse, qb-trashsearch, qb-truckerjob, qb-truckrobbery, qb-tunerchip, qb-vault, qb-vehiclefailure, qb-vehiclekeys, qb-vehiclesales, qb-vehicleshop, qb-weapons, qb-weathersync, qb-weed, qb-zipties, qw-crafting, qw-crypto-mining, RageUI, rahe-boosting, rahe-hackingdevice, ran-minigames, renzu_motels, renzu_multicharacter, Rock-Paper-Scissors-script, rpemotes, rtx_themepark, rtx_themepark_objects, safecracker, SBClothing, screenshot-basic, simonsays, spawnmanager, srvrp-converter, tab, taysbusinesspack, tequila_nomusic, tnj-stealshoes, TruckJob, ultra-keypackhack, uniqx_burgershot, utk_fingerprint, utk_hackdependency, vehcontrol, VehicleAttach, verpi_driving_school, vox_icecream, webpack, wk_wars2x, xex_gangwars, xsound, yarn, ymaps\n",
      "Game type: Freeroam\n",
      "Map: fivem-map-hipster\n",
      "OneSync: enabled\n",
      "Language: English (undefined)\n",
      "Tags: qbcore, drugs, guns, robberies, jobs, police, ems, boosting, casino, activites\n",
      "Discord: discord.gg/ejy9Cb76ck\n",
      "Houses: Live Anywhere\n",
      "Phone: GKS Phone\n",
      "Theme: USA\n",
      "Twitch: Streamer Friendly\n",
      "Voice: PMA Voice\n",
      "DLC level: 2802\n",
      "sv_pureLevel: 0\n",
      "can_review: true\n",
      "Owner: Nate159876\n",
      "https://servers.fivem.net/servers/detail/zp9g85\n"
     ]
    },
    {
     "name": "stdout",
     "output_type": "stream",
     "text": [
      "['Ignition RP, ^Lore Friendly Cars, Illegal Activites, AllowListed Jobs, Streamer Friendly, Gangs Welcome', 'https://servers.fivem.net/servers/detail/dbz4e5', '', 'Freeroam', 'enabled', 'fivem-map-hipster', 'English (undefined)', 'qbcore, drugs, guns, robberies, jobs, police, ems, boosting, casino, activites', '2802', '', 'Nate159876', '', '', ['am-scraptheft', 'apolo_loadingscreen', 'B1-skillz', 'baseevents', 'basic-gamemode', 'bbv-hideintrash', 'BennoClothing', 'bob74_ipl', 'boii-ganglocs', 'boii-hunting', 'brnx_hautenightclub', 'brofx_mansion_14', 'CarryPeople', 'carsounds', 'casino', 'casino-blackjack', 'casinoUi', 'cd_doorlock', 'cd_keymaster', 'cfx_gn_bs_food_props', 'cfx-gabz-aztecas', 'cfx-gabz-bobcat', 'cfx-gabz-catcafe', 'cfx-gabz-davispd', 'cfx-gabz-families', 'cfx-gabz-firedept', 'cfx-gabz-lamesapd', 'cfx-gabz-lost', 'cfx-gabz-mapdata', 'cfx-gabz-pdprops', 'cfx-gabz-pillbox', 'cfx-gabz-pinkcage', 'cfx-gabz-pizzeria', 'cfx-gabz-prison', 'cfx-gabz-records', 'cfx-gabz-townhall', 'cfx-gabz-vu', 'cikana_fleecabank', 'compass', 'connectqueue', 'crosshair', 'DLCiplLoader', 'dog-bodycam', 'don-forklift', 'dz-fishing', 'dz-treasurebox', 'EUP_BOXINGGLOVE', 'ev-platechanger', 'evy_armwrestling', 'firehose', 'firehosemodels', 'firescript', 'fivem-map-hipster', 'FlyBanditMods-iOS_LS_Map-Lite', 'g-billing', 'GangClothing', 'GenericFemaleClothing', 'gg-frisbeegolf', 'gg-frisbeegolfstand', 'gg-frisbeeprops', 'gigz_jewel', 'gigz_karting', 'gksphone', 'gl-halloween', 'Grove-Street-Compound', 'hex_bennys', 'hospitalsandy', 'hostage', 'hpawnshop', 'hyrda', 'iak_Cartel_Ranch_Project_House_Tunnel', 'iak_wheelchair', 'ign-addonpeds', 'ign-customweapons', 'ign-lorevehicles', 'ign-sounds', 'igro45_digitalden', 'IGRPClothing', 'ikea', 'interact-sound', 'jim-djbooth', 'jim-mechanic', 'k-pokemontcg', 'K4MB1startshells', 'k9', 'Kael-Street-Beggar', 'kd_custom-native', 'kd_hud-event', 'kd_towtruck', 'keep-backpack', 'keep-companion', 'kuz_towing', 'laundry', 'loreaddonwheels', 'lorewheels', 'lvc', 'm-HotWheels', 'm-Insurance', 'm-spawnselector', 'mapmanager', 'mb-oocjail', 'menuv', 'mhacking', 'monitor', 'moon-printers', 'morevegetation', 'mrpdconstruction', 'mt-karting', 'n-bankheist', 'n-bars', 'n-burgershot', 'n-business', 'n-chat', 'n-drugs', 'n-illegaldoctor', 'n-jobs', 'n-smallscripts', 'nad_rockstar', 'nc-rental', 'nkambulance', 'nkballer7', 'nkballer7ems', 'nkballer7taxi', 'nkballer7um', 'nkbf400', 'nkbison', 'nkbisondot', 'nkbisontrailer', 'nkbisonum', 'nkblazer2', 'nkbuzzard', 'nkcaracara2', 'nkcaracara2ems', 'nkcaracara2um', 'nkcomet6', 'nkcomet6um', 'nkcoquette', 'nkcoquette4', 'nkcoquette4um', 'nkcoquetteum', 'nkcruiser', 'nkcruiserum', 'nkcypher', 'nkcypherum', 'nkdinghy4', 'nkdominator3', 'nkdominator3um', 'nkdraftertaxi', 'nkelegy2', 'nkelegy2um', 'nkfugitive', 'nkfugitivetaxi', 'nkfugitiveum', 'nkgauntlet4', 'nkgauntlet4um', 'nkgranger2', 'nkgranger2ems', 'nkgranger2taxi', 'nkgranger2um', 'nkjester4', 'nkjester4um', 'nkjugular', 'nkjugulartaxi', 'nkjugularum', 'nkkomoda', 'nkkomodataxi', 'nkkomodaum', 'nklandstalker2', 'nklandstalker2ems', 'nklandstalker2taxi', 'nklandstalker2um', 'nkmanchez3', 'nkmule5', 'nkomnisegt', 'nkomnisegttaxi', 'nkomnisegtum', 'nkparagon', 'nkparagonum', 'nkrhinehart', 'nkrhineharttaxi', 'nkrhinehartum', 'nkseashark2', 'nkshinobi', 'nkstingertt', 'nkstingerttum', 'nkstx', 'nkstxems', 'nkstxtaxi', 'nkstxum', 'nksvolito', 'nksvolitoems', 'nktailgaters', 'nktailgatersum', 'nktenf', 'nktenfum', 'nktorrence', 'nktorrenceum', 'nkvectre', 'nkvectreum', 'nkverus', 'nkvigero2', 'nkvigero2um', 'nkvstr', 'nkvstrum', 'nocargunsv4.2', 'nui_blocker', 'nw_bahamaMama', 'okokReports', 'osm-referrals', 'ox_lib', 'oxmysql', 'pablito_taco', 'pac', 'pac_os', 'paleto247', 'parasha_flat', 'patoche_free_cardealer', 'pd_sandy', 'pickle_throwables', 'pickle_weaponthrowing', 'pma-voice', 'PolyZone', 'progressbar', 'ps-adminmenu', 'ps-buffs', 'ps-camera', 'ps-dispatch', 'ps-fuel', 'ps-hud', 'ps-mdt', 'ps-multijob', 'ps-objectspawner', 'ps-signrobbery', 'ps-ui', 'ps-walkingstyle', 'pug-sling', 'qb-ambulancejob', 'qb-apartments', 'qb-atms', 'qb-banking', 'qb-bankrobbery', 'qb-busjob', 'qb-cityhall', 'qb-clothing', 'qb-commandbinding', 'qb-communityservice', 'qb-core', 'qb-crypto', 'qb-customs', 'qb-drugs', 'qb-fakeplate', 'qb-garages', 'qb-garbagejob', 'qb-houserobbery', 'qb-houses', 'qb-input', 'qb-interior', 'qb-inventory', 'qb-jewelery', 'qb-keyminigame', 'qb-laundering', 'qb-lockpick', 'qb-management', 'qb-mechanicjob', 'qb-menu', 'qb-methcar', 'qb-newsjob', 'qb-oxyruns', 'qb-pawnshop', 'qb-policejob', 'qb-prison', 'qb-racing', 'qb-radialmenu', 'qb-radio', 'qb-recyclejob', 'qb-scenes', 'qb-scratchcards', 'qb-shops', 'qb-sit', 'qb-skillbar', 'qb-smallresources', 'qb-spawn', 'qb-speedcameras', 'qb-target', 'qb-tattooshop', 'qb-taxijob', 'qb-towjob', 'qb-traphouse', 'qb-trashsearch', 'qb-truckerjob', 'qb-truckrobbery', 'qb-tunerchip', 'qb-vault', 'qb-vehiclefailure', 'qb-vehiclekeys', 'qb-vehiclesales', 'qb-vehicleshop', 'qb-weapons', 'qb-weathersync', 'qb-weed', 'qb-zipties', 'qw-crafting', 'qw-crypto-mining', 'RageUI', 'rahe-boosting', 'rahe-hackingdevice', 'ran-minigames', 'renzu_motels', 'renzu_multicharacter', 'Rock-Paper-Scissors-script', 'rpemotes', 'rtx_themepark', 'rtx_themepark_objects', 'safecracker', 'SBClothing', 'screenshot-basic', 'simonsays', 'spawnmanager', 'srvrp-converter', 'tab', 'taysbusinesspack', 'tequila_nomusic', 'tnj-stealshoes', 'TruckJob', 'ultra-keypackhack', 'uniqx_burgershot', 'utk_fingerprint', 'utk_hackdependency', 'vehcontrol', 'VehicleAttach', 'verpi_driving_school', 'vox_icecream', 'webpack', 'wk_wars2x', 'xex_gangwars', 'xsound', 'yarn', 'ymaps']]\n",
      "The last index is: 84\n",
      "Scraping server 85, id is zp9g85\n",
      "zp9g85\n"
     ]
    },
    {
     "name": "stderr",
     "output_type": "stream",
     "text": [
      "Server Name: NXP Public Test Server\n"
     ]
    },
    {
     "name": "stdout",
     "output_type": "stream",
     "text": [
      "%%%%%%%%%%%%%%%%%%%%%%%%%%%%%%%%%%%%%%%%%%%%%%%%%%%%%%%%%%%%%%%%%\n",
      "NXP Public Test Server\n",
      "%%%%%%%%%%%%%%%%%%%%%%%%%%%%%%%%%%%%%%%%%%%%%%%%%%%%%%%%%%%%%%%%%\n"
     ]
    },
    {
     "name": "stderr",
     "output_type": "stream",
     "text": [
      "Resources: basic-gamemode, dpemotes, fivem-map-skater, mapmanager, monitor, neko_ped, neko-mappingtool, nxp_ambulance_central, nxp_cs_pd_b2545, nxp_davisfire, nxp_firedepartment, nxp_liquorstore, nxp_neko_nightclub, nxp_paleto_hospital, nxp_paleto_hub, nxp_paleto_pd, nxp_paletofire, nxp_stores, nxp_usmarshal, nxp_veh, nxp-core, nxp-ui, oELS, solarloading, spawnmanager, VisualSettings, vSync\n",
      "Game type: Freeroam\n",
      "Map: fivem-map-skater\n",
      "OneSync: enabled\n",
      "Language: undefined (Antarctica)\n",
      "Tags: NXP, Showcase, MLO, Products, Testing\n",
      "DLC level: 2802\n",
      "sv_pureLevel: 0\n",
      "Owner: NovelaxNeko\n",
      "https://servers.fivem.net/servers/detail/dboyoj\n"
     ]
    },
    {
     "name": "stdout",
     "output_type": "stream",
     "text": [
      "['NXP Public Test Server', 'https://servers.fivem.net/servers/detail/zp9g85', '', 'Freeroam', 'enabled', 'fivem-map-skater', 'undefined (Antarctica)', 'NXP, Showcase, MLO, Products, Testing', '2802', '', 'NovelaxNeko', '', '', ['basic-gamemode', 'dpemotes', 'fivem-map-skater', 'mapmanager', 'monitor', 'neko_ped', 'neko-mappingtool', 'nxp_ambulance_central', 'nxp_cs_pd_b2545', 'nxp_davisfire', 'nxp_firedepartment', 'nxp_liquorstore', 'nxp_neko_nightclub', 'nxp_paleto_hospital', 'nxp_paleto_hub', 'nxp_paleto_pd', 'nxp_paletofire', 'nxp_stores', 'nxp_usmarshal', 'nxp_veh', 'nxp-core', 'nxp-ui', 'oELS', 'solarloading', 'spawnmanager', 'VisualSettings', 'vSync']]\n",
      "The last index is: 85\n",
      "Scraping server 86, id is dboyoj\n",
      "dboyoj\n"
     ]
    },
    {
     "name": "stderr",
     "output_type": "stream",
     "text": [
      "Server Name: LostCityRP\n"
     ]
    },
    {
     "name": "stdout",
     "output_type": "stream",
     "text": [
      "%%%%%%%%%%%%%%%%%%%%%%%%%%%%%%%%%%%%%%%%%%%%%%%%%%%%%%%%%%%%%%%%%\n",
      "LostCityRP\n",
      "%%%%%%%%%%%%%%%%%%%%%%%%%%%%%%%%%%%%%%%%%%%%%%%%%%%%%%%%%%%%%%%%%\n"
     ]
    },
    {
     "name": "stderr",
     "output_type": "stream",
     "text": [
      "Resources: 0e9525-Slidy%20Doors, 4c, 8c, 12cls63, 18performante, 19GT500, 19s650, 22transit, 48b093-maverickv, 69charger, 105gt, 155q4, 180sx, 190e, 300sl, 348s, 350z, 370z, 488, 488gtb, 500w124, 600lt, 600sel, 612ss, 650s, 675lt, 718b, 718caymans, 720s, 750li, 911r, 911tbs, 911turbos, 918, 992, 993rwb, 2008F250, 2012%20Volvo%20VNL%20780, 2014%20Mercedes-Benz%20Unimog, 2015%20MAN%20TGX%20V8%20Euro%205, 2015s3, 2016%20DAF%20XF%20Euro%206, 2020%20Mercedes-Benz%20AMG%20GT%20Black%20Series, 2021%20Volvo%20FH%20Globetrotter, 2023%20Mercedes%20Benz%20V-class%20VIP, 3000gt, a6tfsi, a8audi, a8fsi, a8lfsi, a80, abtaudi, ae86, ag_brickade_packv25a, ag_valkyrie_gunship, agerars, all, amarok, amels200, america, amggt, amggtr, amggtr2, aq36hyutheta2n, as_autoexotic+ds, ast, astraj, atego_rosenbauer_hlf_hansch, atsv, audiq3, audirs3, audirs4milltekeng, auditt, audquattros, auds5, Auflieger%20test, Aussichtspunkt, aventador, b63s, bahia, baseevents, basic-gamemode, bbentayga, bc, ben17, bh1_city_hall, BK_park, Blitzer, bmci, bmm, bmw507, bmwe34, bmwe65, bmwhe, bmwx6rmod, bob74_ipl, bogue, boss429, brabus700, brabus850, breze_dealership, brofx_mansion_18, buffalos, bugatti, bugatticentodieci, buildinglights, c7, c8, c63lb, c63w205, cb90h, cd_doorlock, cd_drawtextui, cd_garage, cd_garageshell, cd_keymaster, celica, cfx-gabz-mrpd, cfx-igro45-moteldavis, chat, chiron, chr, cit2cv, civic, clio, cliov6, cobra427, cocacolatruck, codem-venicehud, connectqueue, contgt13, contgt2011, costal2, cp9a, CT200h, ctrailer, cubetruck, cupra, cyrus, d9534b-03-24-2018-spsparrow, db905, ddg151, dealer_map, def90, defender, deltaintegrale, denalihd, DimondCasino_in_construction, dingo, divo, dl2016, dlkf, dodgert70, dpclothing, drc_drugs, ds7, dtd_jetskis, dtdpista, dyce911r, dycep7, dycevgt12, e34, e78, e190b8-Buckingham%20Maverick%202nd%20Generation, e400c238, ecall, eclipse, econic, ef-blips, eff512-TCs%20Buzzard%20-%20Clean%20Civ.%20Buzzard%20No%20Nose%20Camera, ek9, elt_loadingscreen, ELWBlaichach, EM%20Pritsche, emergencydispatch, EMPritsche, esprit02, eup-stream, eup-ui, euro, EZELS, F.I.B.%20Tower%20in%20construction, f8t, f150, f288gto, fct, fer612, Feu%20RD, Feuerwehr%20Heli, ff1, fgt3, fiat595, fiorino, Fire%20Station, fireboat, fiv3devs_headquarters, fivem-map-hipster, fk2, fk8, flatbedm2, FloppaArsen, flughafensandy, ForestsOfSA_N, ForestsOfSA_S, fpacehm, frauscher16, frr, frs, ftype, fulux63, fx4, fx50s, g65amg, gallardosuperlb, gcom_logistics, gdwrxsti, gencoupe, gfp_x3_polby, gfpa6th, gfpcrafterpolat, gfpf11, gfps212rlp, gfps213fbw, gfps213hhb, gfps213hhc, gfps213hhe, gfpt6polat, giuliasuper, gmc, gmcs, golf7r, golfgti, grimzy_hillside_mansion, gsf, gt17, gt86, gta5interiors_splitsides, GTAVRemastered, gtr, gtr2020, gtv6, gtw6, gx460, hauler, hauler3, HelideckLightingSystemYMAP, hindenburg, hk416, hkmp5, hmmwv, hospital_map, hospitalsandy, httpmanager, huracanlb, huracanlb2, hyundaiv, iak_wheelchair, iak_yachtclub, IF-multijob, impala, impalass, inf, infinitig35, interact-sound, InteractSound, ipl, ipls_resource, iraqhumvee, is350mod, iverson, ix35, jagxjs, jav401, JCB, jim-mechanic, joyster, k4mb1shellstarter, k5_documents-master, kd_custom-native, kd_hud-event, kd_towtruck, kiagt, kiasoul2, kiiya_eliteautos, kona18, kq_wheeldamage, l111s, l200, l200triton, landrover, lanex400, lb-phone, lb-phoneprop, LCMAP, LegacyFuel, leganza, LKWAbschlepper, lkwmb, loaf_lib, LotusCarlton89, lp570, lp610, lp670sv, lp700, lp770, lrrr, LTILS, lumma750, lux_vehcontrol, lwaudi, lx570, m1, m3e30, m3f80, m4f82, m5e28, m5e60, m32020, macanp, mach4, maj350, MANflatbed, mansi8, Mansion_09_Malibu, map, mapmanager, maranello, mc12, mcjcw20, meetingpoint, megrs, menuv, merckripo, merckripo2, merlin, mers63c, meta_libs, mfdcoronado, mgrantur2010, mgt, mhacking, mig, missouri, mk1rabbit, mlmansory, mlnovitec, MobileBlitzer, modena, modern_wood_house_1a, monitor, monza, mqgts, MugShotBase64, mule6, mulef, MusicEverywhere, musicmanager, mustanggt500, mwmik, mx5326, myEmergency, na1, na6, NativeUI, nature_weekend_house_1a, nc1, neonz_freiwilligefeu, newyorker75, ngtr35nismo17, nimitz, nisaltima, njRATdnh, noble, nomade, NoNPC_main, nsexrb, nxp_firedepartment, obAirbags, Ocean_Medical_Center, ody18, offroad, okokBilling, okokContract, okokCrafting, okokNotify, okokTextUI, okokVehicleShop, oldm6, one77, ox_lib, oxmysql, p1gtr, P99, p928, Paleto-bay, panamera17turbo, passatberline, patoche_cyberbar_map, patoche_secret_bossroom, patrold, patroly60, peug108, peug308, Peugeot204naj, pixel_antiCL, poggerelw, Poleinsatzl, PolyZone, pounderrr, predator2, prison_canteen, prison_main, prison_meeting, progressbar, q820, qashqai16, qb-adminmenu, qb-ambulancejob, qb-apartments, qb-atms, qb-banking, qb-bankrobbery, qb-busjob, qb-cityhall, qb-clothing, qb-commandbinding, qb-core, qb-diving, qb-garbagejob, qb-hotdogjob, qb-houserobbery, qb-input, qb-interior, qb-inventory, qb-jewelery, qb-keyminigame, qb-lapraces, qb-lock, qb-lockpick, qb-management, qb-mechanicjob, qb-menu, qb-multicharacter, qb-night_air_raid_sirens, qb-OG_mdx_CoverSheet, qb-pawnshop, qb-policejob, qb-prison, qb-radialmenu, qb-rcore-pool, qb-recyclejob, qb-scoreboard, qb-scrapyard, qb-shops, qb-skillbar, qb-smallresources, qb-spawn, qb-storerobbery, qb-streetraces, qb-target, qb-taxijob, qb-traphouse, qb-truckerjob, qb-vehiclefailure, qb-vehiclekeys, qb-vineyard, qb-weapons, qb-weathersync, qs-housing, qx56, R-L-K-stashes, r50, r820, rahe-boosting, rahe-hackingdevice, rboat, rc350s, redjet, renmaster, Rettungsdienst%20Heli, rfc_eastcustoms, rhsrs, rmodmustang, RoadsOfEuropeDE, rpemotes, rr12, rrphantom, rrs08, rrst, rs4avant, rs311, rs318, rx7tunable, rx7veilside, rx8r, rx450h, s60pole, s500w222, s600w220, safecracker, saltychat, saltyhud, saltynui, Sandy%20Shores%20Boat%20House, sc18, scania, screenshot-basic, SEK%20bcat, SEK%20Sprinter, senna, sepuraradio, sestoelemento, sian, Sign_rp, silv, skillbar, skoda_unmarked, skyline, skylinec110, smallboat1, SmartLadder, SmartMotorways, smg, sont18, sound, spannung, spawnmanager, spvortex2, sq517, sr650fly, srt8, ss2016, ssti7, stallone, stewevo9mr, stretcher-model, stretcher-script, superduty, superleggera, supraa90, svr16, ta176m177, tahoe, Taulant_Lagerhalle, tbm_voice_ui, technical_dispatches, technical_dispatches_objects, TrafficTrailer, TrafficTrailer.pack, trafficwarner, trailcat, trhawk, ts1, tugpr489, tule, twingo2, tz3, uj_franhouse, uj_labsmoney, uj_prisonrecep_free, uj_rancho_v1, uj_shopSS, uj_taxi_free, uj_vineyard, um-idcard, urchin, urchin2, urus, v242, vantage, vclass, veln, veneno, vespuccibpol, victory, visn_are, vitonrw, vm_landespolizei_sign, vms_barber, vms_charcreator, vms_clothestore, vms_redeem, vms_tattooshop, volvo850r, VW%20T5%20Matrix, wasabi_mining-main, webpack, whitehawk, wm-serversirens, wraith, xm_atego_adac5f, xm_elhf, xm_fordsmax_nrwdb1, xm_fordsmax_nrwds1, xm_man_gw_san, xm_sprinter_ftecitw1f, xm_sprinter_ktw_dbs5k, xm_vito_nef1f, yarn, yourequipment, yourequipment_props, z2879, zievs013, zl2017, zn20, zodiac, zollhafen, zolli, zondac, zondar\n",
      "Game type: Freeroam\n",
      "Map: fivem-map-hipster\n",
      "OneSync: enabled\n",
      "Language: German (Germany)\n",
      "Tags: Roleplay, German, deployer, qbcore, qb-core, discord.gg/fdAhqnU4Dh\n",
      "DLC level: 2944\n",
      "sv_pureLevel: 0\n",
      "Owner: XxPyroniiixX\n",
      "https://servers.fivem.net/servers/detail/vyk8er\n"
     ]
    },
    {
     "name": "stdout",
     "output_type": "stream",
     "text": [
      "['LostCityRP', 'https://servers.fivem.net/servers/detail/dboyoj', '', 'Freeroam', 'enabled', 'fivem-map-hipster', 'German (Germany)', 'Roleplay, German, deployer, qbcore, qb-core, discord.gg/fdAhqnU4Dh', '2944', '', 'XxPyroniiixX', '', '', ['0e9525-Slidy%20Doors', '4c', '8c', '12cls63', '18performante', '19GT500', '19s650', '22transit', '48b093-maverickv', '69charger', '105gt', '155q4', '180sx', '190e', '300sl', '348s', '350z', '370z', '488', '488gtb', '500w124', '600lt', '600sel', '612ss', '650s', '675lt', '718b', '718caymans', '720s', '750li', '911r', '911tbs', '911turbos', '918', '992', '993rwb', '2008F250', '2012%20Volvo%20VNL%20780', '2014%20Mercedes-Benz%20Unimog', '2015%20MAN%20TGX%20V8%20Euro%205', '2015s3', '2016%20DAF%20XF%20Euro%206', '2020%20Mercedes-Benz%20AMG%20GT%20Black%20Series', '2021%20Volvo%20FH%20Globetrotter', '2023%20Mercedes%20Benz%20V-class%20VIP', '3000gt', 'a6tfsi', 'a8audi', 'a8fsi', 'a8lfsi', 'a80', 'abtaudi', 'ae86', 'ag_brickade_packv25a', 'ag_valkyrie_gunship', 'agerars', 'all', 'amarok', 'amels200', 'america', 'amggt', 'amggtr', 'amggtr2', 'aq36hyutheta2n', 'as_autoexotic+ds', 'ast', 'astraj', 'atego_rosenbauer_hlf_hansch', 'atsv', 'audiq3', 'audirs3', 'audirs4milltekeng', 'auditt', 'audquattros', 'auds5', 'Auflieger%20test', 'Aussichtspunkt', 'aventador', 'b63s', 'bahia', 'baseevents', 'basic-gamemode', 'bbentayga', 'bc', 'ben17', 'bh1_city_hall', 'BK_park', 'Blitzer', 'bmci', 'bmm', 'bmw507', 'bmwe34', 'bmwe65', 'bmwhe', 'bmwx6rmod', 'bob74_ipl', 'bogue', 'boss429', 'brabus700', 'brabus850', 'breze_dealership', 'brofx_mansion_18', 'buffalos', 'bugatti', 'bugatticentodieci', 'buildinglights', 'c7', 'c8', 'c63lb', 'c63w205', 'cb90h', 'cd_doorlock', 'cd_drawtextui', 'cd_garage', 'cd_garageshell', 'cd_keymaster', 'celica', 'cfx-gabz-mrpd', 'cfx-igro45-moteldavis', 'chat', 'chiron', 'chr', 'cit2cv', 'civic', 'clio', 'cliov6', 'cobra427', 'cocacolatruck', 'codem-venicehud', 'connectqueue', 'contgt13', 'contgt2011', 'costal2', 'cp9a', 'CT200h', 'ctrailer', 'cubetruck', 'cupra', 'cyrus', 'd9534b-03-24-2018-spsparrow', 'db905', 'ddg151', 'dealer_map', 'def90', 'defender', 'deltaintegrale', 'denalihd', 'DimondCasino_in_construction', 'dingo', 'divo', 'dl2016', 'dlkf', 'dodgert70', 'dpclothing', 'drc_drugs', 'ds7', 'dtd_jetskis', 'dtdpista', 'dyce911r', 'dycep7', 'dycevgt12', 'e34', 'e78', 'e190b8-Buckingham%20Maverick%202nd%20Generation', 'e400c238', 'ecall', 'eclipse', 'econic', 'ef-blips', 'eff512-TCs%20Buzzard%20-%20Clean%20Civ.%20Buzzard%20No%20Nose%20Camera', 'ek9', 'elt_loadingscreen', 'ELWBlaichach', 'EM%20Pritsche', 'emergencydispatch', 'EMPritsche', 'esprit02', 'eup-stream', 'eup-ui', 'euro', 'EZELS', 'F.I.B.%20Tower%20in%20construction', 'f8t', 'f150', 'f288gto', 'fct', 'fer612', 'Feu%20RD', 'Feuerwehr%20Heli', 'ff1', 'fgt3', 'fiat595', 'fiorino', 'Fire%20Station', 'fireboat', 'fiv3devs_headquarters', 'fivem-map-hipster', 'fk2', 'fk8', 'flatbedm2', 'FloppaArsen', 'flughafensandy', 'ForestsOfSA_N', 'ForestsOfSA_S', 'fpacehm', 'frauscher16', 'frr', 'frs', 'ftype', 'fulux63', 'fx4', 'fx50s', 'g65amg', 'gallardosuperlb', 'gcom_logistics', 'gdwrxsti', 'gencoupe', 'gfp_x3_polby', 'gfpa6th', 'gfpcrafterpolat', 'gfpf11', 'gfps212rlp', 'gfps213fbw', 'gfps213hhb', 'gfps213hhc', 'gfps213hhe', 'gfpt6polat', 'giuliasuper', 'gmc', 'gmcs', 'golf7r', 'golfgti', 'grimzy_hillside_mansion', 'gsf', 'gt17', 'gt86', 'gta5interiors_splitsides', 'GTAVRemastered', 'gtr', 'gtr2020', 'gtv6', 'gtw6', 'gx460', 'hauler', 'hauler3', 'HelideckLightingSystemYMAP', 'hindenburg', 'hk416', 'hkmp5', 'hmmwv', 'hospital_map', 'hospitalsandy', 'httpmanager', 'huracanlb', 'huracanlb2', 'hyundaiv', 'iak_wheelchair', 'iak_yachtclub', 'IF-multijob', 'impala', 'impalass', 'inf', 'infinitig35', 'interact-sound', 'InteractSound', 'ipl', 'ipls_resource', 'iraqhumvee', 'is350mod', 'iverson', 'ix35', 'jagxjs', 'jav401', 'JCB', 'jim-mechanic', 'joyster', 'k4mb1shellstarter', 'k5_documents-master', 'kd_custom-native', 'kd_hud-event', 'kd_towtruck', 'kiagt', 'kiasoul2', 'kiiya_eliteautos', 'kona18', 'kq_wheeldamage', 'l111s', 'l200', 'l200triton', 'landrover', 'lanex400', 'lb-phone', 'lb-phoneprop', 'LCMAP', 'LegacyFuel', 'leganza', 'LKWAbschlepper', 'lkwmb', 'loaf_lib', 'LotusCarlton89', 'lp570', 'lp610', 'lp670sv', 'lp700', 'lp770', 'lrrr', 'LTILS', 'lumma750', 'lux_vehcontrol', 'lwaudi', 'lx570', 'm1', 'm3e30', 'm3f80', 'm4f82', 'm5e28', 'm5e60', 'm32020', 'macanp', 'mach4', 'maj350', 'MANflatbed', 'mansi8', 'Mansion_09_Malibu', 'map', 'mapmanager', 'maranello', 'mc12', 'mcjcw20', 'meetingpoint', 'megrs', 'menuv', 'merckripo', 'merckripo2', 'merlin', 'mers63c', 'meta_libs', 'mfdcoronado', 'mgrantur2010', 'mgt', 'mhacking', 'mig', 'missouri', 'mk1rabbit', 'mlmansory', 'mlnovitec', 'MobileBlitzer', 'modena', 'modern_wood_house_1a', 'monitor', 'monza', 'mqgts', 'MugShotBase64', 'mule6', 'mulef', 'MusicEverywhere', 'musicmanager', 'mustanggt500', 'mwmik', 'mx5326', 'myEmergency', 'na1', 'na6', 'NativeUI', 'nature_weekend_house_1a', 'nc1', 'neonz_freiwilligefeu', 'newyorker75', 'ngtr35nismo17', 'nimitz', 'nisaltima', 'njRATdnh', 'noble', 'nomade', 'NoNPC_main', 'nsexrb', 'nxp_firedepartment', 'obAirbags', 'Ocean_Medical_Center', 'ody18', 'offroad', 'okokBilling', 'okokContract', 'okokCrafting', 'okokNotify', 'okokTextUI', 'okokVehicleShop', 'oldm6', 'one77', 'ox_lib', 'oxmysql', 'p1gtr', 'P99', 'p928', 'Paleto-bay', 'panamera17turbo', 'passatberline', 'patoche_cyberbar_map', 'patoche_secret_bossroom', 'patrold', 'patroly60', 'peug108', 'peug308', 'Peugeot204naj', 'pixel_antiCL', 'poggerelw', 'Poleinsatzl', 'PolyZone', 'pounderrr', 'predator2', 'prison_canteen', 'prison_main', 'prison_meeting', 'progressbar', 'q820', 'qashqai16', 'qb-adminmenu', 'qb-ambulancejob', 'qb-apartments', 'qb-atms', 'qb-banking', 'qb-bankrobbery', 'qb-busjob', 'qb-cityhall', 'qb-clothing', 'qb-commandbinding', 'qb-core', 'qb-diving', 'qb-garbagejob', 'qb-hotdogjob', 'qb-houserobbery', 'qb-input', 'qb-interior', 'qb-inventory', 'qb-jewelery', 'qb-keyminigame', 'qb-lapraces', 'qb-lock', 'qb-lockpick', 'qb-management', 'qb-mechanicjob', 'qb-menu', 'qb-multicharacter', 'qb-night_air_raid_sirens', 'qb-OG_mdx_CoverSheet', 'qb-pawnshop', 'qb-policejob', 'qb-prison', 'qb-radialmenu', 'qb-rcore-pool', 'qb-recyclejob', 'qb-scoreboard', 'qb-scrapyard', 'qb-shops', 'qb-skillbar', 'qb-smallresources', 'qb-spawn', 'qb-storerobbery', 'qb-streetraces', 'qb-target', 'qb-taxijob', 'qb-traphouse', 'qb-truckerjob', 'qb-vehiclefailure', 'qb-vehiclekeys', 'qb-vineyard', 'qb-weapons', 'qb-weathersync', 'qs-housing', 'qx56', 'R-L-K-stashes', 'r50', 'r820', 'rahe-boosting', 'rahe-hackingdevice', 'rboat', 'rc350s', 'redjet', 'renmaster', 'Rettungsdienst%20Heli', 'rfc_eastcustoms', 'rhsrs', 'rmodmustang', 'RoadsOfEuropeDE', 'rpemotes', 'rr12', 'rrphantom', 'rrs08', 'rrst', 'rs4avant', 'rs311', 'rs318', 'rx7tunable', 'rx7veilside', 'rx8r', 'rx450h', 's60pole', 's500w222', 's600w220', 'safecracker', 'saltychat', 'saltyhud', 'saltynui', 'Sandy%20Shores%20Boat%20House', 'sc18', 'scania', 'screenshot-basic', 'SEK%20bcat', 'SEK%20Sprinter', 'senna', 'sepuraradio', 'sestoelemento', 'sian', 'Sign_rp', 'silv', 'skillbar', 'skoda_unmarked', 'skyline', 'skylinec110', 'smallboat1', 'SmartLadder', 'SmartMotorways', 'smg', 'sont18', 'sound', 'spannung', 'spawnmanager', 'spvortex2', 'sq517', 'sr650fly', 'srt8', 'ss2016', 'ssti7', 'stallone', 'stewevo9mr', 'stretcher-model', 'stretcher-script', 'superduty', 'superleggera', 'supraa90', 'svr16', 'ta176m177', 'tahoe', 'Taulant_Lagerhalle', 'tbm_voice_ui', 'technical_dispatches', 'technical_dispatches_objects', 'TrafficTrailer', 'TrafficTrailer.pack', 'trafficwarner', 'trailcat', 'trhawk', 'ts1', 'tugpr489', 'tule', 'twingo2', 'tz3', 'uj_franhouse', 'uj_labsmoney', 'uj_prisonrecep_free', 'uj_rancho_v1', 'uj_shopSS', 'uj_taxi_free', 'uj_vineyard', 'um-idcard', 'urchin', 'urchin2', 'urus', 'v242', 'vantage', 'vclass', 'veln', 'veneno', 'vespuccibpol', 'victory', 'visn_are', 'vitonrw', 'vm_landespolizei_sign', 'vms_barber', 'vms_charcreator', 'vms_clothestore', 'vms_redeem', 'vms_tattooshop', 'volvo850r', 'VW%20T5%20Matrix', 'wasabi_mining-main', 'webpack', 'whitehawk', 'wm-serversirens', 'wraith', 'xm_atego_adac5f', 'xm_elhf', 'xm_fordsmax_nrwdb1', 'xm_fordsmax_nrwds1', 'xm_man_gw_san', 'xm_sprinter_ftecitw1f', 'xm_sprinter_ktw_dbs5k', 'xm_vito_nef1f', 'yarn', 'yourequipment', 'yourequipment_props', 'z2879', 'zievs013', 'zl2017', 'zn20', 'zodiac', 'zollhafen', 'zolli', 'zondac', 'zondar']]\n",
      "The last index is: 86\n",
      "Scraping server 87, id is vyk8er\n",
      "vyk8er\n"
     ]
    },
    {
     "name": "stderr",
     "output_type": "stream",
     "text": [
      "Resources: ac_radio, addonkola, Austin_Mansion, b2k-minimap, Bahama, beanbag, blipyo, bob74_ipl, brofx_mansion_05, brofx_mansion_06, brofx_mansion_09, bzzz_markers, ccbennys, cd_dispatch, cd_drawtextui, cd_garage, cd_garageshell, cfx-gabz-mrpd, chat, Cockatoos, cron, crtx_houserobbery, dj_baspel, dpclothing, dr-scratching-main, ed_rockfordh02, edynu_freehouse, elevator, emotesnove, emsint, Enhanced_Crouch, es_extended, esx_addonaccount, esx_addoninventory, esx_ambulancejob, esx_basicneeds, esx_billing, esx_context, esx_cruisecontrol, esx_datastore, esx_dmvschool, esx_givevehicle, esx_headbag, esx_identity, esx_joblisting, esx_jobs, esx_license, esx_menu_default, esx_menu_dialog, esx_menu_list, esx_multicharacter, esx_notify, esx_notify_edit, esx_optionalneeds, esx_progressbar, esx_rpchat, esx_service, esx_sit, esx_society, esx_status, esx_textui, esx_vehicleshop, familia, fezz_windowtint, fightclub, fingerpoint, fivem-appearance, fivesense_robbery, fortune, fox_setped, ftl_pausemenu, ftl_switchjob, gdx_flashbang, gdx_font, Glock17, hairfade, helicam, helicam2, hhrp_bancheck, hhrp_banking, hhrp_cars, hhrp_clothes_stream, hhrp_clothes_stream2, hhrp_clothes_stream3, hprp_handsup, hud, int_sheriff_v2_dev, ipl_sheriff_v2, JD_CommunityService, JF_RagdollCmd, JF_SeatShuffle, jobs_creator, jsfour-idcard, k5_documents, lafa2k_modernhouse, lcd_carmenu, loading, lockpick, lscustom_black, lscustoms, lunar_bridge, lunar_interactions, lunar_npcmechanic, lux_vehcontrol, madrazoranch, mirror, monitor, mythic_notify, NativeUI, notify, npwd, okokNotify, okokTextUI, ox_doorlock, ox_fuel, ox_inventory, ox_lib, ox_sit, ox_target, oxmysql, paletosheriffclawles, perico, pma-voice, police_dog, PoliceVehiclesWeaponDeleter, PolyZone, power_bodycam, power_dashcams, progressBars, radar-while-driving, rcore_radiocar, ReducedNPCs-master, reflex_notify, rng_tuning, Salieribar, screenshot-basic, servername, sheriff2.0, sm_gardener, spawnmanager, spawnmarker, sqz_drugs, sqz_hospital, tackle, tad3s_cayoperico, td_blips, td3_hotelservice, tgiann-carhud, tm_g6, trailerflat2, TunasTruckJob, Unicorn, vesp_bell, vinice, viper_rpmenu, viper_scoreboard, viper_sling, vSync, wasabi_boombox, weaponcomponents, webpack, wk_wars2x, wx_carlock, wx_reports, wx_richpresence, wx_txadminlogs, xn-mdt, xsound, yarn\n",
      "Game type: ESX Legacy\n",
      "Map: San Andreas\n",
      "OneSync: enabled\n",
      "Language: Czech (Czechia)\n",
      "Tags: default, deployer, esx, esx legacy, legacy, official, roleplay,esx\n",
      "DLC level: 2699\n",
      "sv_pureLevel: 0\n",
      "Owner: Ondrik1\n",
      "https://servers.fivem.net/servers/detail/86kykm\n"
     ]
    },
    {
     "name": "stdout",
     "output_type": "stream",
     "text": [
      "['', 'https://servers.fivem.net/servers/detail/vyk8er', '', 'ESX Legacy', 'enabled', 'San Andreas', 'Czech (Czechia)', 'default, deployer, esx, esx legacy, legacy, official, roleplay,esx', '2699', '', 'Ondrik1', '', '', ['ac_radio', 'addonkola', 'Austin_Mansion', 'b2k-minimap', 'Bahama', 'beanbag', 'blipyo', 'bob74_ipl', 'brofx_mansion_05', 'brofx_mansion_06', 'brofx_mansion_09', 'bzzz_markers', 'ccbennys', 'cd_dispatch', 'cd_drawtextui', 'cd_garage', 'cd_garageshell', 'cfx-gabz-mrpd', 'chat', 'Cockatoos', 'cron', 'crtx_houserobbery', 'dj_baspel', 'dpclothing', 'dr-scratching-main', 'ed_rockfordh02', 'edynu_freehouse', 'elevator', 'emotesnove', 'emsint', 'Enhanced_Crouch', 'es_extended', 'esx_addonaccount', 'esx_addoninventory', 'esx_ambulancejob', 'esx_basicneeds', 'esx_billing', 'esx_context', 'esx_cruisecontrol', 'esx_datastore', 'esx_dmvschool', 'esx_givevehicle', 'esx_headbag', 'esx_identity', 'esx_joblisting', 'esx_jobs', 'esx_license', 'esx_menu_default', 'esx_menu_dialog', 'esx_menu_list', 'esx_multicharacter', 'esx_notify', 'esx_notify_edit', 'esx_optionalneeds', 'esx_progressbar', 'esx_rpchat', 'esx_service', 'esx_sit', 'esx_society', 'esx_status', 'esx_textui', 'esx_vehicleshop', 'familia', 'fezz_windowtint', 'fightclub', 'fingerpoint', 'fivem-appearance', 'fivesense_robbery', 'fortune', 'fox_setped', 'ftl_pausemenu', 'ftl_switchjob', 'gdx_flashbang', 'gdx_font', 'Glock17', 'hairfade', 'helicam', 'helicam2', 'hhrp_bancheck', 'hhrp_banking', 'hhrp_cars', 'hhrp_clothes_stream', 'hhrp_clothes_stream2', 'hhrp_clothes_stream3', 'hprp_handsup', 'hud', 'int_sheriff_v2_dev', 'ipl_sheriff_v2', 'JD_CommunityService', 'JF_RagdollCmd', 'JF_SeatShuffle', 'jobs_creator', 'jsfour-idcard', 'k5_documents', 'lafa2k_modernhouse', 'lcd_carmenu', 'loading', 'lockpick', 'lscustom_black', 'lscustoms', 'lunar_bridge', 'lunar_interactions', 'lunar_npcmechanic', 'lux_vehcontrol', 'madrazoranch', 'mirror', 'monitor', 'mythic_notify', 'NativeUI', 'notify', 'npwd', 'okokNotify', 'okokTextUI', 'ox_doorlock', 'ox_fuel', 'ox_inventory', 'ox_lib', 'ox_sit', 'ox_target', 'oxmysql', 'paletosheriffclawles', 'perico', 'pma-voice', 'police_dog', 'PoliceVehiclesWeaponDeleter', 'PolyZone', 'power_bodycam', 'power_dashcams', 'progressBars', 'radar-while-driving', 'rcore_radiocar', 'ReducedNPCs-master', 'reflex_notify', 'rng_tuning', 'Salieribar', 'screenshot-basic', 'servername', 'sheriff2.0', 'sm_gardener', 'spawnmanager', 'spawnmarker', 'sqz_drugs', 'sqz_hospital', 'tackle', 'tad3s_cayoperico', 'td_blips', 'td3_hotelservice', 'tgiann-carhud', 'tm_g6', 'trailerflat2', 'TunasTruckJob', 'Unicorn', 'vesp_bell', 'vinice', 'viper_rpmenu', 'viper_scoreboard', 'viper_sling', 'vSync', 'wasabi_boombox', 'weaponcomponents', 'webpack', 'wk_wars2x', 'wx_carlock', 'wx_reports', 'wx_richpresence', 'wx_txadminlogs', 'xn-mdt', 'xsound', 'yarn']]\n",
      "The last index is: 87\n",
      "Scraping server 88, id is 86kykm\n",
      "86kykm\n"
     ]
    },
    {
     "name": "stderr",
     "output_type": "stream",
     "text": [
      "https://servers.fivem.net/servers/detail/goa8zz\n"
     ]
    },
    {
     "name": "stdout",
     "output_type": "stream",
     "text": [
      "An error occured scraping single servers.\n",
      "Message: \n",
      "\n",
      "Scraping server 89, id is goa8zz\n",
      "goa8zz\n"
     ]
    },
    {
     "name": "stderr",
     "output_type": "stream",
     "text": [
      "https://servers.fivem.net/servers/detail/668o5j\n"
     ]
    },
    {
     "name": "stdout",
     "output_type": "stream",
     "text": [
      "An error occured scraping single servers.\n",
      "Message: \n",
      "\n",
      "Scraping server 90, id is 668o5j\n",
      "668o5j\n"
     ]
    },
    {
     "name": "stderr",
     "output_type": "stream",
     "text": [
      "https://servers.fivem.net/servers/detail/xbyzkm\n"
     ]
    },
    {
     "name": "stdout",
     "output_type": "stream",
     "text": [
      "An error occured scraping single servers.\n",
      "Message: \n",
      "\n",
      "Scraping server 91, id is xbyzkm\n",
      "xbyzkm\n"
     ]
    }
   ],
   "source": [
    "scrape_single_servers()"
   ]
  }
 ],
 "metadata": {
  "colab": {
   "provenance": []
  },
  "kernelspec": {
   "display_name": "Python 3 (ipykernel)",
   "language": "python",
   "name": "python3"
  },
  "language_info": {
   "codemirror_mode": {
    "name": "ipython",
    "version": 3
   },
   "file_extension": ".py",
   "mimetype": "text/x-python",
   "name": "python",
   "nbconvert_exporter": "python",
   "pygments_lexer": "ipython3",
   "version": "3.11.4"
  }
 },
 "nbformat": 4,
 "nbformat_minor": 1
}
