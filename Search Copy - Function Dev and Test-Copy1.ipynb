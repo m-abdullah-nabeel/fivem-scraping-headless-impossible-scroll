{
 "cells": [
  {
   "cell_type": "code",
   "execution_count": 1,
   "id": "a4ca7c78",
   "metadata": {},
   "outputs": [],
   "source": [
    "import time\n",
    "from threading import Thread\n",
    "import logging\n",
    "import os\n",
    "from datetime import datetime\n",
    "import re\n",
    "\n",
    "import pandas as pd\n",
    "from selenium import webdriver\n",
    "from selenium.webdriver.common.keys import Keys\n",
    "\n",
    "from selenium.webdriver.chrome.options import Options\n",
    "from selenium.webdriver.chrome.service import Service\n",
    "from selenium.webdriver.common.by import By\n",
    "from selenium.webdriver.support import expected_conditions as EC\n",
    "from selenium.webdriver.support.ui import WebDriverWait, Select\n",
    "from webdriver_manager.chrome import ChromeDriverManager\n",
    "from selenium.common.exceptions import TimeoutException, StaleElementReferenceException\n",
    "from selenium.webdriver.common.action_chains import ActionChains"
   ]
  },
  {
   "cell_type": "code",
   "execution_count": 2,
   "id": "99cf5beb",
   "metadata": {},
   "outputs": [],
   "source": [
    "user_agent = 'Mozilla/5.0 (X11; Linux x86_64) AppleWebKit/537.36 (KHTML, like Gecko) Chrome/60.0.3112.50 Safari/537.36'"
   ]
  },
  {
   "cell_type": "code",
   "execution_count": 3,
   "id": "c9bc4aff",
   "metadata": {},
   "outputs": [],
   "source": [
    "all_links = set()"
   ]
  },
  {
   "cell_type": "code",
   "execution_count": 4,
   "id": "18025c00",
   "metadata": {},
   "outputs": [],
   "source": [
    "chrome_options = Options()\n",
    "chrome_options.add_argument('--ignore-certificate-errors')\n",
    "chrome_options.add_argument(f'user-agent={user_agent}')\n",
    "chrome_options.add_argument(\"--disable-session-crashed-bubble\")\n",
    "chrome_options.add_argument(\"--disable-notifications\")\n",
    "chrome_options.add_argument(\"--suppress-message-center-popups\")\n",
    "chrome_options.add_argument(\"--disable-blink-features=AutomationControlled\")\n",
    "chrome_options.add_argument(\"disable-infobars\")\n",
    "\n",
    "chrome_options.add_argument('--headless')\n",
    "chrome_options.add_argument('--disable-gpu')\n",
    "chrome_options.add_argument('--no-sandbox')\n",
    "chrome_options.add_argument(\"--start-maximized\")\n",
    "chrome_options.add_argument(\"--window-size=1920x1080\")\n",
    "\n",
    "# chrome_options.add_argument(\"--no-first-run\")\n",
    "# chrome_options.add_argument(\"--disable-extensions\")\n",
    "# chrome_options.add_experimental_option(\"excludeSwitches\", [\"enable-automation\", \"enable-logging\"])\n",
    "# chrome_options.add_experimental_option('useAutomationExtension', False)\n",
    "# chrome_options.add_experimental_option(\"excludeSwitches\", [\"enable-logging\", \"test-type\"])"
   ]
  },
  {
   "cell_type": "code",
   "execution_count": 5,
   "id": "dbdc5938",
   "metadata": {},
   "outputs": [],
   "source": [
    "driver = webdriver.Chrome(service=Service(r\"chromedriver.exe\"), options=chrome_options)"
   ]
  },
  {
   "cell_type": "code",
   "execution_count": 6,
   "id": "6b8521b1",
   "metadata": {},
   "outputs": [],
   "source": [
    "links = {}"
   ]
  },
  {
   "cell_type": "code",
   "execution_count": null,
   "id": "4cbbe71f",
   "metadata": {},
   "outputs": [
    {
     "name": "stdout",
     "output_type": "stream",
     "text": [
      "Iteration 1: Scraped a total of 41 loaded servers.\n",
      "The last loaded server text is:  \n",
      "{'w9am8b', 'wmpmb9', 'br4qab', '8qvyrb', 'x63aoe', 'r3ma3p', 'jo7jea', 'evgyp3', 'zgk8op', 'qkzry9', '7mqg6v', 'oop8dy', 'gq6q4q', 'zpxbx9', 'yk9l85', '8kl7a3', 'e3xz9b', 'n495yq', 'abpzk9', '4pyg5q', '5rbl4a', 'zq4ayd', 'x43r9m', 'p555oy', 'jggpdk', 'aqqrk5', '7blbde', '6bldk7', 'bebjjp', '3aqr6z', '4epke8', 'pkpov5', 'q8538p', 'kkjmpr', 'yjor85', '6q4glj', 'jklk7k', '6b5ro7', '5rmd47', '8g3ep5', 'p4xb68', '99vvlm'}\n",
      "These links are obtained in this iteration: \n",
      "42\n",
      "42\n",
      "Scrolled to last server.\n",
      "Iteration 42: Scraped a total of 62 loaded servers.\n",
      "The last loaded server text is:  \n",
      "{'w9am8b', 'bqrpal', 'wmpmb9', 'br4qab', '8qvyrb', '3lpdlz', 'qk9k7v', 'x63aoe', 'pob88m', 'zgklm9', '837o4m', 'r3ma3p', 'xa74le', '5e7x37', 'jo7jea', 'evgyp3', 'zgk8op', 'qkzry9', 'e4ejgb', '7mqg6v', 'oop8dy', 'gq6q4q', 'eo97y3', 'zpxbx9', 'xdbm3m', 'yk9l85', '8kl7a3', 'e3xz9b', 'n495yq', 'abpzk9', '4pyg5q', '5rbl4a', 'qrvzq4', 'zq4ayd', 'x43r9m', 'p555oy', 'jggpdk', 'aqqrk5', '7blbde', 'edlxg3', '6bldk7', '9ge5la', 'bebjjp', '3aqr6z', '4epke8', 'mkr7zv', 'pkpov5', '8boo93', 'q8538p', 'kkjmpr', 'yjor85', '6q4glj', 'jklk7k', 'kx5la6', '6b5ro7', '5rmd47', 'xgko95', '8g3ep5', 'j665m4', 'mpdxa9', 'p4xb68', '99vvlm', 'bgmyzd'}\n",
      "These links are obtained in this iteration: \n",
      "63\n",
      "63\n",
      "Scrolled to last server.\n",
      "Iteration 63: Scraped a total of 73 loaded servers.\n",
      "The last loaded server text is:  \n",
      "{'w9am8b', 'bqrpal', '5brzbz', '9oo7mm', 'wkebk7', 'qk9k7v', '8qvyrb', '3lpdlz', '74roba', 'x63aoe', 'pob88m', 'zgklm9', 'zmpy54', '837o4m', 'xa74le', '5e7x37', 'mo9kod', 'zgk8op', 'evgyp3', 'momkav', 'ggp54z', 'e4ejgb', 'gzr7mx', 'e3r47a', 'zgag6d', 'oop8dy', 'gq6q4q', 'eo97y3', 'xdqklg', 'rlvgdj', 'xdbm3m', 'jkk7jp', '8kl7a3', 'e3xz9b', 'n495yq', '4pyg5q', '2r6mjx', 'qrvzq4', 'zq4ayd', '8lpkzm', 'p555oy', 'jggpdk', 'wa37p5', '7blbde', 'edlxg3', 'yrzvr9', '6bldk7', 'l8b7y7', '9ge5la', 'bebjjp', '3aqr6z', 'dby6gj', '7dxjxd', 'qkq3x6', 'mkr7zv', 'pkpov5', '8grqp5', '8boo93', 'q8538p', 'gro68q', 'npxpv7', '6q4glj', '23o7lr', 'kx5la6', 'xgko95', 'gb7ogq', 'm4oll9', 'npx96m', 'x9gdlm', 'j665m4', 'mpdxa9', 'pk54ay', 'p4lmd5', 'bgmyzd'}\n",
      "These links are obtained in this iteration: \n",
      "74\n",
      "95\n",
      "Scrolled to last server.\n",
      "Iteration 74: Scraped a total of 73 loaded servers.\n",
      "The last loaded server text is:  \n",
      "{'bqrpal', '5brzbz', 'b6yopp', '9oo7mm', 'wkebk7', '45yo89', '364apy', '74roba', 'pob88m', 'zgklm9', 'zmpy54', '837o4m', 'xa74le', 'xg9xdr', '5e7x37', 'l54lzv', 'mo9kod', 'e3r47a', 'momkav', '4ajjjq', 'ggp54z', 'gzr7mx', 'zgag6d', 'eo97y3', 'xdqklg', 'rlvgdj', '434az5', 'wya6bj', 'm766g9', 'jkk7jp', '269jld', 'gkvb7x', 'yq96mj', '2r6mjx', '6z6r56', 'x3zb5x', 'qrvzq4', '8lpkzm', 'mkozaq', 'a6ramz', 'yrzvr9', 'wa37p5', 'l8b7y7', '9ge5la', '7dxjxd', '78ggld', 'qkq3x6', 'em666m', 'gba9aq', 'mkr7zv', '8grqp5', 'a4kbo9', '8boo93', 'gro68q', 'npxpv7', 'e586rb', 'l5ezv7', '23o7lr', 'aozqg5', '9gmmxe', 'yjovx9', 'xgko95', 'm4oll9', 'qkplxp', 'npx96m', '33zrzz', 'x9gdlm', 'j665m4', 'mpdxa9', 'pk54ay', 'p4lmd5', 'ozqbxv', '387jrr', 'bgmyzd'}\n",
      "These links are obtained in this iteration: \n",
      "74\n",
      "124\n",
      "Scrolled to last server.\n",
      "Iteration 74: Scraped a total of 73 loaded servers.\n",
      "The last loaded server text is:  \n",
      "{'5brzbz', 'b6yopp', 'wkebk7', '45yo89', '364apy', '74roba', 'zgejx9', '9gx68e', '275eeb', 'o6oodx', 'je5v7l', 'xg9xdr', 'l54lzv', 'mo9kod', '4ajjjq', 'momkav', 'r8y4dj', 'zgag6d', 'x6gpzr', '83o87v', '434az5', 'xdqklg', 'wya6bj', 'm766g9', 'jkk7jp', 'x6a6pe', 'mk6o6a', 'gkvb7x', 'yq96mj', '2r6mjx', '6z6r56', '4ev459', 'x3zb5x', '8lpkzm', 'rdebpg', 'data:image', 'y8p67j', 'mkozaq', 'a6ramz', 'yrzvr9', 'wa37p5', 'em666m', '78ggld', 'qkq3x6', '269jld', 'a4kbo9', '8grqp5', 'gjovex', '5rv637', 'gro68q', 'npxpv7', 'lag6ko', 'v5ykle', 'e586rb', '6zxqdj', 'l5ezv7', 'aozqg5', '9gmmxe', 'yjovx9', 'm4oll9', 'qkplxp', 'j8dd6k', 'npx96m', '4k375q', '33zrzz', 'x9gdlm', '5eoypa', 'qolvyp', 'ozqbxv', 'pk54ay', 'gba9aq', '94y4ga', '387jrr', 'y6693k'}\n",
      "These links are obtained in this iteration: \n",
      "74\n",
      "149\n",
      "Scrolled to last server.\n",
      "Iteration 74: Scraped a total of 76 loaded servers.\n",
      "The last loaded server text is:  \n",
      "{'j3qoxa', 'jgg4ok', '275eeb', 'xg9xdr', 'l54lzv', 'mo9kod', 'r8y4dj', 'rd8m38', 'jkk7jp', 'x6a6pe', 'lmj4m4', '4ev459', 'data:image', 'y8p67j', 'mkozaq', 'zmx5oy', '269jld', '78ggld', 'dbmrqd', 'zgbxdp', 'e586rb', '6do5aj', '4e3jd9', 'q5qv6v', '4k375q', '33zrzz', 'y6693k', '6zo46d', '364apy', '9gx68e', 'y8zlrj', 'x6gpzr', '83o87v', '434az5', 'or43gv', 'yq96mj', '35allo', 'gjovex', '5rv637', 'lag6ko', '6zxqdj', 'gk9v9m', 'dkd3vj', 'j8dd6k', 'yjovx9', '8qqam5', 'zqzpjy', 'zzor69', 'zgejx9', 'o6oodx', 'je5v7l', '4ajjjq', 'rko6lg', 'nordoy', 'mk6o6a', 'a4kbo9', 'x69xdr', 'v5ykle', 'a8k6g5', '5eoypa', '5e65bd', 'j3mzxa', 'b6yopp', 'll7rjv', 'momkav', 'xdqklg', 'm3x69d', 'gkvb7x', 'rdebpg', 'x3zb5x', 'vdaalq', '44bv6v', 'l5ezv7', '9gmmxe', 'qolvyp', '94y4ga', '387jrr'}\n",
      "These links are obtained in this iteration: \n",
      "77\n",
      "178\n",
      "Scrolled to last server.\n",
      "Iteration 77: Scraped a total of 70 loaded servers.\n",
      "The last loaded server text is:  \n",
      "{'ddvr9j', 'olrb9v', 'j3qoxa', 'zzor69', 'py4rya', '9gx68e', 'jgg4ok', '275eeb', 'o6oodx', 'll7rjv', 'je5v7l', 'zgejx9', 'y8zlrj', 'k3ya76', '6bbg3d', 'mdzmpa', 'momkav', '8z49xm', 'a8mlb9', 'rd8m38', '446gz9', 'x6gpzr', '83o87v', 'rko6lg', 'or43gv', 'zqzpjy', 'e6lrab', 'jg6m7a', 'nordoy', 'j3mzxa', 'jkk7jp', 'x6a6pe', 'lmj4m4', 'd8x485', 'l8jaxv', 'm3x69d', 'ooxkkx', 'data:image', '6zo46d', 'x9xxjm', '35allo', 'zmx5oy', '388oeb', '78ggld', 'rp3jx7', 'dbmrqd', 'gjovex', 'mkxaa9', '5rv637', 'zgbxdp', '6zxqdj', 'v5ykle', 'lag6ko', 'gk9v9m', '44bv6v', 'md3l6v', '6do5aj', 'a8k6g5', 'a5le83', '4e3jd9', 'dkd3vj', 'q5qv6v', 'j8dd6k', '8qqam5', '4k375q', '5eoypa', '94y4ga', '5e65bd', 'k6mop7', 'y6693k'}\n",
      "These links are obtained in this iteration: \n",
      "70\n",
      "199\n",
      "Scrolled to last server.\n",
      "Iteration 71: Scraped a total of 77 loaded servers.\n",
      "The last loaded server text is:  \n",
      "{'ddvr9j', 'bba44p', 'ape7o3', 'olrb9v', 'j3qoxa', 'zzor69', 'py4rya', 'jgg4ok', 'x65d5m', 'y8zlrj', 'k3ya76', '6bbg3d', 'mdzmpa', 'momkav', '8z49xm', 'rd8m38', '446gz9', 'rko6lg', 'or43gv', 'e6lrab', 'l8jaxv', 'joa4pa', 'jkk7jp', 'lmj4m4', 'd8x485', 'v5xkkx', 'm3x69d', 'jk8ylk', 'gbxg3o', 'l6gydj', 'ooxkkx', 'ddvkdd', 'vqk9gx', 'data:image', '6qqyq4', '6zo46d', 'x9xxjm', 'xdzz4r', 'x9kkxx', '6qge3j', '73q7lb', 'dpy9aj', 'vd6zz5', '78ggld', 'rp3jx7', 'vyqavx', 'o4948x', 'mygyqq', 'dbmrqd', 'mkxaa9', 'a4xrv3', '8geyqb', 'eaqqpb', 'a8mlb9', 'gk9v9m', '44bv6v', 'a8k6g5', 'vykgqq', 'a5le83', '6do5aj', '4e3jd9', 'dkd3vj', 'q5qv6v', 'oo8xav', '4emvro', 'yjgojy', 'edv6zm', '8qqam5', '5qdara', 'a87rd9', '43yyk8', 'zqzpjy', '5e65bd', 'k6mop7', 'j3mzxa'}\n",
      "These links are obtained in this iteration: \n",
      "75\n",
      "230\n",
      "Scrolled to last server.\n",
      "Iteration 78: Scraped a total of 77 loaded servers.\n",
      "The last loaded server text is:  \n",
      "{'ddvr9j', 'bba44p', 'ape7o3', 'olrb9v', 'py4rya', 'jgg4ok', 'x65d5m', 'deyzxq', 'k3ya76', 'bb9yab', '6bbg3d', 'gxmjlq', 'myxmk7', 'mdzmpa', 'momkav', '8z49xm', '446gz9', 'e6lrab', 'l8jaxv', 'gz8oxq', 'joa4pa', 'jkk7jp', 'gbxg3o', 'v5xkkx', 'dyrx5y', 'rddar7', 'l6gydj', 'ddvkdd', 'ooxkkx', 'myqemv', 'data:image', '5e54k7', 'o3xllx', 'xdzz4r', 'oyl857', 'x9xxjm', '73q7lb', 'xrvbme', 'vd6zz5', '7k3pgr', 'o493y7', 'xbbo8m', 'rp3jx7', 'o4948x', 'vyqavx', '78ggld', 'l6y8ko', '4k47q5', 'dbmrqd', 'goajqz', 'mkxaa9', 'a4xrv3', '8geyqb', '4remv8', 'eaqqpb', 'a8mlb9', 'mk9v3v', 'vykgqq', '6do5aj', 'a5le83', 'oo8rrv', 'oo8xav', '4emvro', 'yjgojy', 'edv6zm', '5zpyz6', '9gpprm', 'l66blo', '5qdara', 'a87rd9', 'o5lyv7', '43yyk8', 'bqjgz4', 'vqk9gx', 'k6mop7', '6zo46d'}\n",
      "These links are obtained in this iteration: \n",
      "76\n",
      "256\n"
     ]
    }
   ],
   "source": [
    "\n",
    "def scrape_server_links():\n",
    "    driver.get('https://servers.fivem.net/servers')\n",
    "\n",
    "    container_list_xpath = \"//servers-list[1]//div[contains(@class, 'cdk-virtual-scroll-content-wrapper')]\"\n",
    "\n",
    "    container_list = WebDriverWait(driver, 60).until(\n",
    "            EC.presence_of_element_located((By.XPATH, container_list_xpath))\n",
    "    )\n",
    "\n",
    "    i = 0\n",
    "    # for i in range(100):\n",
    "    while len(all_links) < 1000:\n",
    "        i = i+1\n",
    "        servers_loaded = WebDriverWait(container_list, 30).until(\n",
    "            EC.presence_of_all_elements_located((By.XPATH, './/servers-list-item//img'))\n",
    "        )\n",
    "        servers_loaded_no = len(servers_loaded) - 1\n",
    "        print(f\"Iteration {i}: Scraped a total of {servers_loaded_no} loaded servers.\")\n",
    "    #     print(\"The last loaded server text is: \", servers_loaded[servers_loaded_no].text)\n",
    "\n",
    "        iteration_links = []\n",
    "\n",
    "        for (i, images_loaded_server) in enumerate(servers_loaded):\n",
    "    #         images_loaded_server = WebDriverWait(container_list, 30).until(\n",
    "    #             EC.presence_of_all_elements_located((By.XPATH, f'.//servers-list-item//img'))\n",
    "    #         )\n",
    "\n",
    "            link_pict = images_loaded_server.get_attribute('src')\n",
    "            server_id = link_pict.split('/')[-2]\n",
    "    #         print(server_id)\n",
    "            iteration_links.append(server_id)\n",
    "    #         print(iteration_links)\n",
    "\n",
    "    #     iteration_links = {images_servers_loaded[x].get_attribute('src').split('/')[-2] for x in range(servers_loaded_no)}\n",
    "        iteration_links = set(iteration_links)\n",
    "        print(iteration_links)\n",
    "\n",
    "        with open('Backup Links.txt', 'w') as f:\n",
    "            for link in iteration_links:\n",
    "                f.write(link)\n",
    "                f.write('\\n')\n",
    "\n",
    "        print(\"These links are obtained in this iteration: \")\n",
    "    #     print(iteration_links)\n",
    "        print(len(iteration_links))\n",
    "        all_links.update(iteration_links)\n",
    "        print(len(all_links))\n",
    "\n",
    "        time.sleep(5)\n",
    "        last_loaded_server = ActionChains(driver)\n",
    "        last_loaded_server.scroll_to_element(servers_loaded[servers_loaded_no]).perform()\n",
    "        print(\"Scrolled to last server.\")\n",
    "\n",
    "    with open('All Links.txt', 'w') as f:\n",
    "        for link in all_links:\n",
    "            f.write(link)\n",
    "            f.write('\\n')\n",
    "\n",
    "    print(\"Concluded with scraping!!!\")\n",
    "    print(f\"Total {len(all_links)} servers scraped\")"
   ]
  },
  {
   "cell_type": "code",
   "execution_count": null,
   "id": "cb232ac7",
   "metadata": {},
   "outputs": [],
   "source": []
  },
  {
   "cell_type": "code",
   "execution_count": null,
   "id": "961a9ced",
   "metadata": {},
   "outputs": [],
   "source": []
  },
  {
   "cell_type": "code",
   "execution_count": null,
   "id": "fb7737fb",
   "metadata": {},
   "outputs": [],
   "source": []
  },
  {
   "cell_type": "code",
   "execution_count": null,
   "id": "359e84ad",
   "metadata": {},
   "outputs": [],
   "source": []
  },
  {
   "cell_type": "code",
   "execution_count": null,
   "id": "b3fe16ba",
   "metadata": {},
   "outputs": [],
   "source": [
    "# driver.get('https://servers.fivem.net/servers')"
   ]
  },
  {
   "cell_type": "code",
   "execution_count": null,
   "id": "1b8f62da",
   "metadata": {},
   "outputs": [],
   "source": [
    "# container_list_xpath = \"//servers-list[1]//div[contains(@class, 'cdk-virtual-scroll-content-wrapper')]\""
   ]
  },
  {
   "cell_type": "code",
   "execution_count": null,
   "id": "25c1513e",
   "metadata": {},
   "outputs": [],
   "source": [
    "# container_list = WebDriverWait(driver, 30).until(\n",
    "#         EC.presence_of_element_located((By.XPATH, container_list_xpath))\n",
    "# )"
   ]
  },
  {
   "cell_type": "code",
   "execution_count": null,
   "id": "47f5c2ed",
   "metadata": {},
   "outputs": [],
   "source": [
    "# iteration_links = set()"
   ]
  },
  {
   "cell_type": "code",
   "execution_count": null,
   "id": "8f63e365",
   "metadata": {},
   "outputs": [],
   "source": [
    "# servers_loaded = WebDriverWait(container_list, 30).until(\n",
    "#         EC.presence_of_all_elements_located((By.XPATH, './/servers-list-item//img'))\n",
    "# )"
   ]
  },
  {
   "cell_type": "code",
   "execution_count": null,
   "id": "24547af9",
   "metadata": {},
   "outputs": [],
   "source": [
    "# servers_loaded[1]"
   ]
  },
  {
   "cell_type": "code",
   "execution_count": null,
   "id": "d83132e9",
   "metadata": {},
   "outputs": [],
   "source": [
    "# servers_loaded[1].get_attribute('src')"
   ]
  },
  {
   "cell_type": "code",
   "execution_count": null,
   "id": "25cb5744",
   "metadata": {},
   "outputs": [],
   "source": []
  },
  {
   "cell_type": "code",
   "execution_count": null,
   "id": "c67b2cde",
   "metadata": {},
   "outputs": [],
   "source": [
    "# img_ele = images_loaded_server = WebDriverWait(servers_loaded[1], 30).until(\n",
    "#     EC.presence_of_element_located((By.XPATH, f'.//img'))\n",
    "# )"
   ]
  },
  {
   "cell_type": "code",
   "execution_count": null,
   "id": "f1200163",
   "metadata": {},
   "outputs": [],
   "source": [
    "# print(img_ele)"
   ]
  },
  {
   "cell_type": "code",
   "execution_count": null,
   "id": "986375f5",
   "metadata": {},
   "outputs": [],
   "source": [
    "# img_ele.get_attribute('src')"
   ]
  },
  {
   "cell_type": "code",
   "execution_count": null,
   "id": "f861ed6d",
   "metadata": {},
   "outputs": [],
   "source": []
  },
  {
   "cell_type": "code",
   "execution_count": null,
   "id": "9188ea42",
   "metadata": {},
   "outputs": [],
   "source": []
  },
  {
   "cell_type": "code",
   "execution_count": null,
   "id": "80477be5",
   "metadata": {},
   "outputs": [],
   "source": [
    "# for (i, server) in enumerate(servers_loaded):\n",
    "#     images_loaded_server = WebDriverWait(server, 30).until(\n",
    "#         EC.presence_of_all_elements_located((By.XPATH, f'.//img[i]'))\n",
    "#     )\n",
    "\n",
    "#     link_pict = images_loaded_server.get_attribute('src')\n",
    "#     print(link_pict)\n",
    "#     server_id = link_pict.split('/')[-2]\n",
    "#     iteration_links.add(server_id)\n"
   ]
  },
  {
   "cell_type": "code",
   "execution_count": null,
   "id": "612d7d79",
   "metadata": {},
   "outputs": [],
   "source": []
  },
  {
   "cell_type": "code",
   "execution_count": null,
   "id": "dfa3d323",
   "metadata": {},
   "outputs": [],
   "source": [
    "# images_servers_loaded = WebDriverWait(container_list, 30).until(\n",
    "#         EC.presence_of_all_elements_located((By.XPATH, './/servers-list-item//img'))\n",
    "# )\n",
    "# images_servers_loaded[2].get_attribute('src')"
   ]
  },
  {
   "cell_type": "code",
   "execution_count": null,
   "id": "420a33ff",
   "metadata": {},
   "outputs": [],
   "source": [
    "# images_servers_loaded[2].get_attribute('src')"
   ]
  },
  {
   "cell_type": "code",
   "execution_count": null,
   "id": "8d46f598",
   "metadata": {},
   "outputs": [],
   "source": [
    "# servers_loaded_no = len(servers_loaded) - 1\n",
    "# servers_loaded_no"
   ]
  },
  {
   "cell_type": "code",
   "execution_count": null,
   "id": "f8c0f3a5",
   "metadata": {},
   "outputs": [],
   "source": [
    "# servers_loaded[servers_loaded_no].text"
   ]
  },
  {
   "cell_type": "code",
   "execution_count": null,
   "id": "c63b7d5f",
   "metadata": {},
   "outputs": [],
   "source": [
    "# time.sleep(5)\n",
    "# last_loaded_server = ActionChains(driver)\n",
    "# last_loaded_server.scroll_to_element(servers_loaded[servers_loaded_no]).perform()"
   ]
  },
  {
   "cell_type": "code",
   "execution_count": null,
   "id": "21b07449",
   "metadata": {},
   "outputs": [],
   "source": []
  },
  {
   "cell_type": "code",
   "execution_count": null,
   "id": "839d8469",
   "metadata": {},
   "outputs": [],
   "source": []
  }
 ],
 "metadata": {
  "kernelspec": {
   "display_name": "Python 3 (ipykernel)",
   "language": "python",
   "name": "python3"
  },
  "language_info": {
   "codemirror_mode": {
    "name": "ipython",
    "version": 3
   },
   "file_extension": ".py",
   "mimetype": "text/x-python",
   "name": "python",
   "nbconvert_exporter": "python",
   "pygments_lexer": "ipython3",
   "version": "3.11.4"
  }
 },
 "nbformat": 4,
 "nbformat_minor": 5
}
