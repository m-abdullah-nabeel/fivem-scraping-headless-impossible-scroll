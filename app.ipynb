{
 "cells": [
  {
   "cell_type": "code",
   "execution_count": 1,
   "metadata": {
    "colab": {
     "base_uri": "https://localhost:8080/"
    },
    "id": "0zthotgBrA1f",
    "outputId": "3afe74bc-5d3c-4857-dfb0-36ee9b51782d"
   },
   "outputs": [],
   "source": [
    "# !pip install selenium"
   ]
  },
  {
   "cell_type": "code",
   "execution_count": 2,
   "metadata": {
    "colab": {
     "base_uri": "https://localhost:8080/"
    },
    "id": "pkT0fUrIryRR",
    "outputId": "84c81bb8-0b32-4484-e0ee-bebb75293d0e"
   },
   "outputs": [],
   "source": [
    "# ! pip install webdriver_manager"
   ]
  },
  {
   "cell_type": "code",
   "execution_count": 3,
   "metadata": {
    "id": "wl7FAp2frN8U"
   },
   "outputs": [
    {
     "name": "stdout",
     "output_type": "stream",
     "text": [
      "Working\n"
     ]
    }
   ],
   "source": [
    "import time\n",
    "from threading import Thread\n",
    "import logging\n",
    "import os\n",
    "from datetime import datetime\n",
    "import re\n",
    "\n",
    "import pandas as pd\n",
    "from selenium import webdriver\n",
    "from selenium.webdriver.common.keys import Keys\n",
    "\n",
    "from selenium.webdriver.chrome.options import Options\n",
    "from selenium.webdriver.chrome.service import Service\n",
    "from selenium.webdriver.common.by import By\n",
    "from selenium.webdriver.support import expected_conditions as EC\n",
    "from selenium.webdriver.support.ui import WebDriverWait, Select\n",
    "from webdriver_manager.chrome import ChromeDriverManager\n",
    "from selenium.common.exceptions import TimeoutException, StaleElementReferenceException\n",
    "from selenium.webdriver.common.action_chains import ActionChains\n",
    "\n",
    "print(\"Working\")"
   ]
  },
  {
   "cell_type": "code",
   "execution_count": 4,
   "metadata": {
    "id": "BYH2rdQXsVPz"
   },
   "outputs": [
    {
     "name": "stdout",
     "output_type": "stream",
     "text": [
      "Working\n"
     ]
    }
   ],
   "source": [
    "# ------------- Global Vars -------------\n",
    "# CWD = os.path.dirname(os.path.realpath(__file__))\n",
    "CWD = os.path.dirname(os.path.realpath(\"./\"))\n",
    "tdt = datetime.now()\n",
    "td = datetime.now().strftime('%m-%d-%Y')\n",
    "FIVEM_URL = 'https://servers.fivem.net/servers'\n",
    "BASE_URL = 'https://servers.fivem.net/servers/detail/{}'\n",
    "FIVEM_OUTPUT = os.path.join(CWD, 'FiveMScraper.csv')\n",
    "\n",
    "print(\"Working\")"
   ]
  },
  {
   "cell_type": "code",
   "execution_count": 5,
   "metadata": {
    "colab": {
     "base_uri": "https://localhost:8080/"
    },
    "id": "p0o7BAcIsXh3",
    "outputId": "66cdac6b-47a0-4c06-924e-02343a5b7bc8"
   },
   "outputs": [
    {
     "name": "stderr",
     "output_type": "stream",
     "text": [
      "\n",
      "--------------------- FiveM Scraper == Started at -> 23-10-2023 12:24:54 PM ---------------------\n",
      "Current Working Directory: C:\\Users\\muham\\Desktop\n",
      "Current Date & Time: 23-10-2023 12:24:54 PM\n",
      "Log File Path: C:\\Users\\muham\\Desktop\\fivem_scraper.log\n",
      "OUTPUT File Path: C:\\Users\\muham\\Desktop\\FiveMScraper.csv\n"
     ]
    }
   ],
   "source": [
    "\n",
    "# ------------- Logging Configuration -------------\n",
    "log_file_path = os.path.join(CWD, f\"fivem_scraper.log\")\n",
    "logger = logging.getLogger(__name__)\n",
    "logger.setLevel(logging.DEBUG)\n",
    "file_handler = logging.FileHandler(filename=log_file_path, mode=\"w\", encoding=\"UTF-8\")\n",
    "file_handler.setFormatter(\n",
    "    logging.Formatter(\"%(asctime)s-%(levelname)s: Func-%(funcName)s : Line-%(lineno)d : %(message)s\"))\n",
    "logger.addHandler(file_handler)\n",
    "logger.addHandler(logging.StreamHandler())\n",
    "logger.debug(f\"\\n{'-' * 21} FiveM Scraper == Started at -> {tdt.strftime('%d-%m-%Y %I:%M:%S %p')} {'-' * 21}\")\n",
    "logger.info(f\"Current Working Directory: {CWD}\")\n",
    "logger.info(f\"Current Date & Time: {tdt.strftime('%d-%m-%Y %I:%M:%S %p')}\")\n",
    "logger.info(f\"Log File Path: {log_file_path}\")\n",
    "logger.info(f\"OUTPUT File Path: {FIVEM_OUTPUT}\")\n",
    "# ------------- Starter Code -------------\n",
    "logging.getLogger('WDM').setLevel(logging.CRITICAL)\n",
    "os.environ['WDM_LOG'] = '0'\n",
    "# DRIVER_PATH = ChromeDriverManager(version=\"114.0.5735.90\").install()\n",
    "# logger.info(f\"Chrome Driver File Path: {log_file_path}\")\n"
   ]
  },
  {
   "cell_type": "code",
   "execution_count": 6,
   "metadata": {
    "id": "62IdXBqgrW6z"
   },
   "outputs": [],
   "source": [
    "\n",
    "def push_data(data):\n",
    "    if not os.path.exists(FIVEM_OUTPUT):\n",
    "        df = pd.DataFrame(\n",
    "            columns=[\"Server Name\", \"FiveM Server Link\", \"Developer\", \"Game type\", \"Map\", \"OneSync\", \"Language\",\n",
    "                     \"Tags\", \"DLC level\", \"sv_purelevel\", \"Owner\", \"DiscordLink\", \"Extracted_Link\", \"Resources Section\"])\n",
    "        df.loc[df.shape[0]] = data\n",
    "        df.to_csv(FIVEM_OUTPUT, index=False)  # Save as CSV\n",
    "\n",
    "    else:\n",
    "        df = pd.read_csv(FIVEM_OUTPUT)  # Read existing CSV\n",
    "        df.loc[df.shape[0]] = data\n",
    "        df.to_csv(FIVEM_OUTPUT, index=False)  # Save as CSV\n"
   ]
  },
  {
   "cell_type": "code",
   "execution_count": 7,
   "metadata": {
    "id": "znpgvnS3zbap"
   },
   "outputs": [],
   "source": [
    "def get_last_processed_index():\n",
    "    if os.path.exists(FIVEM_OUTPUT):\n",
    "        df = pd.read_csv(FIVEM_OUTPUT)\n",
    "        return df.shape[0]\n",
    "    return 0"
   ]
  },
  {
   "cell_type": "code",
   "execution_count": 8,
   "metadata": {
    "id": "23hnt2wpz6Gf"
   },
   "outputs": [
    {
     "name": "stdout",
     "output_type": "stream",
     "text": [
      "Updated\n"
     ]
    }
   ],
   "source": [
    "class FiveMScraper:\n",
    "    def __init__(self):\n",
    "        \"\"\"\n",
    "        To initialize driver and wait objects\n",
    "        \"\"\"\n",
    "        self.main_window = None\n",
    "        self.index_count = 0\n",
    "        self.data = [\"\", \"\", \"\", \"\", \"\", \"\", \"\", \"\", \"\", \"\", \"\", \"\", \"\", \"\"]\n",
    "        user_agent = 'Mozilla/5.0 (X11; Linux x86_64) AppleWebKit/537.36 (KHTML, like Gecko) Chrome/60.0.3112.50 Safari/537.36'\n",
    "        \n",
    "      \n",
    "        # Create driver and Options\n",
    "        chrome_options = Options()\n",
    "        chrome_options.add_argument('--ignore-certificate-errors')\n",
    "        chrome_options.add_argument(f'user-agent={user_agent}')\n",
    "        chrome_options.add_argument(\"--disable-session-crashed-bubble\")\n",
    "        chrome_options.add_argument(\"--disable-notifications\")\n",
    "        chrome_options.add_argument(\"--suppress-message-center-popups\")\n",
    "#         chrome_options.add_argument('--disable-logging')\n",
    "#         chrome_options.add_argument(\"--disable-translate\")\n",
    "        chrome_options.add_argument(\"--no-first-run\")\n",
    "        chrome_options.add_argument(\"--disable-extensions\")\n",
    "        chrome_options.add_argument(\"--disable-blink-features=AutomationControlled\")\n",
    "        chrome_options.add_argument(\"disable-infobars\")\n",
    "        #headless\n",
    "        chrome_options.add_argument('--headless')\n",
    "        chrome_options.add_argument('--disable-gpu')\n",
    "        chrome_options.add_argument('--no-sandbox')\n",
    "        chrome_options.add_argument(\"--start-maximized\")\n",
    "        chrome_options.add_argument(\"--window-size=1920x1080\")\n",
    "        #headless\n",
    "        chrome_options.add_experimental_option(\"excludeSwitches\", [\"enable-automation\", \"enable-logging\"])\n",
    "        chrome_options.add_experimental_option('useAutomationExtension', False)\n",
    "        chrome_options.add_experimental_option(\"excludeSwitches\", [\"enable-logging\", \"test-type\"])\n",
    "        \n",
    "        self.__driver = webdriver.Chrome(service=Service(r\"chromedriver.exe\"), options=chrome_options)\n",
    "        self.__wait = WebDriverWait(self.__driver, 60)        \n",
    "        self.__action = ActionChains(self.__driver)\n",
    "\n",
    "    def fetch_data(self, server_id):\n",
    "        url = BASE_URL.format(server_id)\n",
    "        logger.info(f\"{url}\")\n",
    "        self.__driver.switch_to.window(\"review_details\")\n",
    "        self.__driver.get(url)\n",
    "\n",
    "        try:\n",
    "            self.data[1] = url\n",
    "            snamez = self.__driver.find_element(By.XPATH, '(//span)[24]')\n",
    "            # //div[@class=\"info\"]//div[@class=\"title\"][1]\n",
    "            server_namez = snamez.text\n",
    "            print(server_namez)\n",
    "\n",
    "            pattern = r\"discord\\.gg/[a-zA-Z0-9]+(?:\\.[a-zA-Z]+)?\"\n",
    "            links = re.findall(pattern, server_namez)\n",
    "            if links:\n",
    "                print(\"Found link(s):\")\n",
    "                print(links)\n",
    "                self.data[12] = links\n",
    "            else:\n",
    "                print(\"no links\")\n",
    "                self.data[12] = \" \"\n",
    "        except:\n",
    "            pass\n",
    "\n",
    "        resource_list = []\n",
    "        resources = self.__wait.until(\n",
    "            EC.presence_of_all_elements_located((By.XPATH, '(//ul)[3]/li')))\n",
    "        for resource in resources:\n",
    "            resource_list.append(resource.text)\n",
    "            #logger.info(f\"Resource: {resource.text}\")\n",
    "        self.data[13] = resource_list\n",
    "        logger.info(f\"Resources: {', '.join(resource_list)}\")\n",
    "\n",
    "        # player_list = []\n",
    "        # players = self.__wait.until(\n",
    "        #     EC.presence_of_all_elements_located((By.XPATH, '(//ul)[4]/li')))\n",
    "        # for player in players:\n",
    "        #     player_list.append(player.text)\n",
    "        #     logger.info(f\"Player: {player.text}\")\n",
    "        \n",
    "#         self.data[1] = url\n",
    "\n",
    "        # time.sleep(5)\n",
    "        tags = self.__wait.until(\n",
    "            EC.presence_of_all_elements_located((By.XPATH, '(//ul)[2]/li')))\n",
    "        # for index in range(len(tags)):\n",
    "        for tag in tags:\n",
    "            # key = self.__wait.until(\n",
    "            #     EC.presence_of_element_located((By.XPATH, f'(//ul)[2]/li[{index + 1}]/span[1]')))\n",
    "            # value = self.__wait.until(\n",
    "            #     EC.presence_of_element_located((By.XPATH, f'(//ul)[2]/li[{index + 1}]/span[2]')))\n",
    "            key = WebDriverWait(tag, 60).until(\n",
    "                EC.presence_of_element_located((By.XPATH, './span[1]')))\n",
    "\n",
    "            value = WebDriverWait(tag, 60).until(\n",
    "                EC.presence_of_element_located((By.XPATH, './span[2]')))\n",
    "\n",
    "            # [\"Server Name\", \"FiveM Server Link\", \"Resources Section\", \"Game type\", \"Map\", \"OneSync\", \"Language\",\n",
    "            #  \"Tags\", \"DLC level\", \"sv_purelevel\", \"Owner\", \"DiscordLink\", \"Developer\"]\n",
    "            key = key.text\n",
    "            value = value.text\n",
    "            logger.info(f\"{key}: {value}\")\n",
    "            if key == 'Game type':\n",
    "                self.data[3] = value\n",
    "            elif key == 'OneSync':\n",
    "                self.data[4] = value\n",
    "            elif key == 'Map':\n",
    "                self.data[5] = value\n",
    "            elif key == 'Language':\n",
    "                self.data[6] = value\n",
    "            elif key == 'Tags':\n",
    "                self.data[7] = value\n",
    "            elif key == 'DLC level':\n",
    "                self.data[8] = value\n",
    "            elif key == 'sv_purelevel':\n",
    "                self.data[9] = value\n",
    "            elif key == 'Owner':\n",
    "                self.data[10] = value\n",
    "            elif key == 'Developer':\n",
    "                self.data[2] = value\n",
    "            elif key == 'DiscordLink':\n",
    "                self.data[11] = value\n",
    "            # logger.info(f\"Tag: {tag.text}\")\n",
    "\n",
    "        print(\"=========================>\")\n",
    "        print(self.data[6])\n",
    "#         if \"english\" in self.data[6].lower():\n",
    "#             print(\"The language is English, now pushing data\")\n",
    "#             push_data(self.data)\n",
    "\n",
    "        push_data(self.data)\n",
    "        self.data = [\"\", \"\", \"\", \"\", \"\", \"\", \"\",\n",
    "                     \"\", \"\", \"\", \"\", \"\", \"\",\"\"]\n",
    "        self.__driver.switch_to.window(self.__driver.window_handles[0])\n",
    "\n",
    "        \n",
    "        \n",
    "    def start(self):\n",
    "        print(\"Waiting to open and load\")\n",
    "        self.__driver.get(FIVEM_URL)\n",
    "        \n",
    "        self.main_window = self.__driver.current_window_handle\n",
    "        self.__driver.execute_script(\"window.open('about:blank','review_details');\")\n",
    "\n",
    "        server_list = self.__wait.until(\n",
    "            EC.presence_of_all_elements_located((By.XPATH, '//servers-list[1]//servers-list-item/a/figure/img')))\n",
    "        titles = self.__wait.until(\n",
    "            EC.presence_of_all_elements_located((By.XPATH, '//servers-list[1]//servers-list-item/a/div[4]/strong/span')))\n",
    "        \n",
    "        print(len(server_list))\n",
    "        \n",
    "        server_ids = []\n",
    "\n",
    "        for index in range(len(server_list)):\n",
    "            # try:\n",
    "            self.data = [\"\", \"\", \"\", \"\", \"\", \"\", \"\", \"\", \"\", \"\", \"\", \"\", \"\", \"\"]\n",
    "            image_url = server_list[index].get_attribute('src')\n",
    "            logger.info(f\"{image_url}\")\n",
    "            server_id_ = image_url.split('/')[-2]\n",
    "            server_name = titles[index].text\n",
    "            server_ids.append(server_id_)\n",
    "            logger.info(f\"Server Name: {server_name}\")\n",
    "            self.data[0] = server_name\n",
    "            logger.info(f\"Server ID: {server_id_}\")\n",
    "            self.fetch_data(server_id_)\n",
    "            # except:\n",
    "            #     print(\"exception\")\n",
    "            #     pass\n",
    "\n",
    "print(\"Updated\")"
   ]
  },
  {
   "cell_type": "code",
   "execution_count": 9,
   "metadata": {
    "colab": {
     "base_uri": "https://localhost:8080/",
     "height": 373
    },
    "id": "2On-IjO-rZCO",
    "outputId": "d7ac2d88-8293-48e6-9f84-acb861d5ddc0"
   },
   "outputs": [
    {
     "name": "stdout",
     "output_type": "stream",
     "text": [
      "Waiting to open and load\n"
     ]
    },
    {
     "name": "stderr",
     "output_type": "stream",
     "text": [
      "https://servers-live.fivem.net/servers/icon/pk54ay/-1591134233.png\n",
      "Server Name: Envy Roleplay Serious Roleplay Server\n",
      "Server ID: pk54ay\n",
      "https://servers.fivem.net/servers/detail/pk54ay\n"
     ]
    },
    {
     "name": "stdout",
     "output_type": "stream",
     "text": [
      "42\n"
     ]
    },
    {
     "name": "stderr",
     "output_type": "stream",
     "text": [
      "Resources: _EDA_01, 17mov_BuilderJob, 17mov_Deliverer, 17mov_GarbageCollector, 17mov_TreasureHunter, ak4y-advancedFishing, ak4y-advancedHunting, ak4y-caseOpening, ak4y-dailyRewards, ak4y-playTimeShop, ak4y-treasurehunting, ak4y-vipSystem, an_dialogBox, av_laptop, av_music, aw3-ui, baseevents, basic-gamemode, beanmachine, bob74_ipl, boii-pawnshop, brofx_mansion_03, brofx_mansion_19, brofx_villa_21, brofx06, brother_lighthouse, busclothing, busra_animmenu, bz-carpack, bz-carsfxounds, bz-peds, casinohack, cfx_gn_cluckin_rockford, cfx_gn_collection, cfx-gabz-ammunation, cfx-gabz-aztecas, cfx-gabz-bahama, cfx-gabz-barber, cfx-gabz-bobcat, cfx-gabz-bowling, cfx-gabz-burgershot, cfx-gabz-carmeet, cfx-gabz-casino, cfx-gabz-catcafe, cfx-gabz-hayes, cfx-gabz-mapdata, cfx-gabz-paletobank, cfx-gabz-pdprops, cfx-gabz-pizzeria, cfx-gabz-ponsonbys, cfx-gabz-prison, cfx-gabz-suburban, cfx-gabz-tattoo, cfx-gabz-townhall, cfx-gabz-tuners, cfx-gabz-vagos, cfx-gabz-vbmarket, cfx-gabz-yachts, chat-theme-gtao, clubhouse_vespucci_canals_v2, Custom-Weapons, d3MBA-cocaine, d3MBA-heroin, d3MBA-lib, datacrack, debug, DLAMR, DLCiplLoader, drc_uwucafe, ed_brickmansion, EDA_BASE, envy-cleanmanor, FiniAC, FiniAP, fiv3devs_retrohouse, fiv3devs_vu, fivem-drilling, fivem-map-hipster, fivem-scenes, Glamstudio, Grove-Street-Compound, grs_rapd, gunmetas, hacking, hackingdevice, illenium-appearance, interact-sound, jensmap_whitewidow, jim-burgershot, jim-mechanic, jim-payments, jixel-cluckinbell, jixel-whitewidow, k4mb1-storage, koil-debug, kyros-weapon-pack-v4, lb-phone, LegacyFuel, lev_apartment, lightsout, lks_gldhs, loadingscreen, loaf_lib, lockpick, loq-golf, lux_vehcontrol, malibu-mansionV2, map, map4all-pillbox, mapmanager, mb-GetRichPlayer, mc9-arcade, mc9-consumables, mc9-crafting, mc9-discord-api, mc9-donations, mc9-emspack, mc9-flipcard, mc9-greenzones, mc9-lib, mc9-queue, mc9-robberies, mc9-utils, mc9-vehiclecleanup, mc9-weapons, memorygame, menuv, meta_libs, mka-lasers, monitor, NativeUI, notify, np-chat, nui_blocker, numbers, nx-menus, offstore_garage_halloween, offstore_halloween, offstore_halloween_party, offstore_halloweendecoration, ox_lib, oxmysql, Pacific_Villa, Pacific%20Bluffs, paintballgun, pdclothing, pma-voice, pNotify, PolyZone, prison, progressbar, ps-buffs, ps-dispatch, ps-hud, ps-liveries2.0, ps-mdt, ps-multijob, ps-ui, ps-zones, pug-paintball, pw_coords, qb_m_pb-arena, qb_m_pb-arena-grass, qb-10system, qb-airdrop, qb-ambulancejob, qb-apartments, qb-applications, qb-atmrobbery, qb-bahamajob, qb-beanmachine, qb-blackmarket, qb-bobcat, qb-boombox, qb-bossmenu, qb-chains, qb-chopshop, qb-cityhall, qb-commandbinding, qb-communityservice, qb-core, qb-crutches, qb-customs, qb-diving, qb-doorlock, qb-ems, qb-evidence, qb-garages, qb-gardener, qb-grandma, qb-houserobbery, qb-hudcomponets, qb-illegalscrap, qb-input, qb-interior, qb-inventory, qb-justice, qb-lock, qb-lockpick, qb-logs, qb-mechanicjob, qb-menu, qb-meth, qb-moneyui, qb-moneywash, qb-motels, qb-musicplayer, qb-nitro, qb-oxy, qb-paintball, qb-penis, qb-pings, qb-plates, qb-police, qb-policebadge, qb-powerplant, qb-radial, qb-recycle, qb-rental, qb-scoreboard, qb-shield, qb-shops, qb-skillbar, qb-spawnselector, qb-storagelockers, qb-target, qb-taskbar, qb-towjob, qb-truckrobbery, qb-tunerchip, qb-vanillaunicorn, qb-vehicleaudio, qb-vehiclefailure, qb-vehiclekeys, qb-vehicleshop, qb-weapons, qb-weathersync, qb-weedplanting, qb-xhair, qb-yachts, qs-housing, quasar_shells, radio, rahe-boosting, rahe-hackingdevice, rahe-racing, ran-minigames, rconlog, rcore_arm_wrestling, rcore_basketball, rcore_basketball_assets, rcore_bowling, rcore_casino, rcore_darts, rcore_gangs, rcore_pool, rcore_spray, rcore_spray_assets, rcore_television, rcore_tennis, rmodpack, rockford_records, rprogress, rtx_carradio, rtx_scenarios, rtx_storagewars, rtx_themepark, rtx_themepark_objects, rtx_wateractivities, rtx_waterpark, sc0tt_utils, screenshot-basic, simonsays, simple-banking, snipe-menu, spawnmanager, tv_scaleform, uj_mazebank, um-multicharacter, usko_la_fuente_blanca, var-ui, varhack, veh-hud, warmenu, wasabi_bridge, weaponpack, webpack, wk_wars2x, xsound, yarn\n",
      "Game type: Freeroam\n",
      "OneSync: enabled\n",
      "Language: English (United States)\n",
      "Tags: roleplay, rp, default, custom, serious, discord, drugs, police, realistic, onesync, gangs, gang, mafia, english, reallife, serious rp\n",
      "DLC level: 2699\n",
      "sv_pureLevel: 1\n",
      "can_review: true\n",
      "Owner: MC9_RolePlay2\n",
      "https://servers-live.fivem.net/servers/icon/jklk7k/665645979.png\n",
      "Server Name: HYPIX Serious ROLEPLAY\n",
      "Server ID: jklk7k\n",
      "https://servers.fivem.net/servers/detail/jklk7k\n"
     ]
    },
    {
     "name": "stdout",
     "output_type": "stream",
     "text": [
      "=========================>\n",
      "English (United States)\n"
     ]
    },
    {
     "name": "stderr",
     "output_type": "stream",
     "text": [
      "Resources: 1of1, 17mov_BuilderJob, 17mov_Electrician, 17mov_GarbageCollector, 17mov_TreasureHunter, 17mov_WindowCleaning, ak47_qb_drugdealerv2, ak47_qb_usabledrugs, ap-court, ap-government, armoredtruck, astudios-emerald, bankprops, baseevents, basic-gamemode, bcs_questionare, BetterFight, bit-investments, bob74_ipl, boii-weed, boii-whitewidow, brofx_mansion_10, cd_donatorshop, cd_drawtextui, cd_garage, cd_garageshell, cd_garageshell2, cd_radar, cdn-fuel, cfx_gn_ambulance_garage, cfx_gn_collection, cfx_gn_mz_mountzonah, cfx-gabz-247, cfx-gabz-ammunation, cfx-gabz-arcade, cfx-gabz-bahama, cfx-gabz-barber, cfx-gabz-binco, cfx-gabz-bobcat, cfx-gabz-bowling, cfx-gabz-burgershot, cfx-gabz-casino, cfx-gabz-catcafe, cfx-gabz-harmony, cfx-gabz-hayes, cfx-gabz-impound, cfx-gabz-mapdata, cfx-gabz-mba, cfx-gabz-mrpd, cfx-gabz-pacificbank, cfx-gabz-paletopd, cfx-gabz-pdm, cfx-gabz-pdprops, cfx-gabz-prison, cfx-gabz-sandypd, cfx-gabz-tattoo, cfx-gabz-townhall, chat, cm-notification, Coastline, core_credits, cron, DAF-OffroadDrift, dim-passhack, dynasty8, femaleclothing, FiniAC, FiniAP, fivem-map-skater, frp_emergencyv3, generic_texture_renderer_gfx, gn_tplift_mountzonah, hacking, howdy-hackminigame, Howdy-Minigame, HYPIX-Airdrop, HYPIX-Blackmarket, HYPIX-Burgershot, HYPIX-CatCafe, HYPIX-Chain, HYPIX-CL, HYPIX-consumables, HYPIX-Crafting, HYPIX-Customs, HYPIX-CustomWeapon, HYPIX-Dispatch, HYPIX-DJ, HYPIX-Engine, HYPIX-ExtraAddon, HYPIX-fishing, HYPIX-Grapel, HYPIX-GunRack, HYPIX-houserobbery, HYPIX-hunting, HYPIX-ID, HYPIX-jobgarage, HYPIX-lootareas, HYPIX-lumberjack, HYPIX-mdt, HYPIX-Meth, HYPIX-Micro, HYPIX-mining, HYPIX-MWash, HYPIX-NewWep, HYPIX-Pay, HYPIX-Pet, HYPIX-PList, HYPIX-Police, HYPIX-policejob, HYPIX-Prison, HYPIX-queue, HYPIX-Racing, HYPIX-Rental, HYPIX-Reports, HYPIX-Scenes, HYPIX-scrapyard, HYPIX-Sit, HYPIX-smugglers, HYPIX-tennis, HYPIX-TowingJob, HYPIX-TruckRobbery, HYPIX-ui, HYPIX-vehiclesales, HYPIX-vehicleshop, HYPIX-WeaponCarry, illenium-appearance, interact-sound, jg-dealerships, jg-textui, jim-mechanic, k_sexv, K4MB1-FullHousing, k4mb1shellstarter, keep-bags, keep-harmony, Laundry, lb-phone, lb-phoneprop, LC-Bahamas, loaf_lib, lockpick, ls-arcade, m-postop, mapmanager, Megapack3of3, memorygame, memorygame_2, menuv, meta_libs, mka-lasers, monitor, MusicEverywhere, nlr-clothes, nlr-clothes2, nlr-clothes3, npas-HUB-huntingstore, npas-HUB-lost, npas-HUB-oilrig, npas-HUB-uk-oil-block, okokBilling, okokChatV2, okokContract, okokDeleteVehicles, okokRequests, okokTextUI, ol-gangturf, ol-sprays, ox_lib, oxmysql, pd-safe, petshop_map, Phantom, plama_mechaniclamesa, playlolly-autonomous, playlolly-core, playlolly-hud, playlolly-mercedes-benz-eqg, playlolly-tesla-cybertruck-cyberquad, playlolly-tesla-model-3, playlolly-tesla-model-s, playlolly-tesla-model-s-plaid, playlolly-tesla-model-x, playlolly-tesla-model-x-plaid, playlolly-tesla-roadster, playlolly-tesla-roadster-sport, playlolly-tesla-semi, pma-voice, Police_Siren, PolyZone, progressbar, ps-hud, ps-zones, qb_stores, qb-ambulancejob, qb-apartments, qb-bankrobbery, qb-busjob, qb-cityhall, qb-core, qb-diving, qb-doorlock, qb-hotdogjob, qb-input, qb-interior, qb-inventory, qb-jewelery, qb-jobchat, qb-keyminigame, qb-lapraces, qb-lock, qb-lockpick, qb-management, qb-menu, qb-newsjob, qb-pawnshop, qb-powerplant, qb-radialmenu, qb-radio, qb-scrapyard, qb-shops, qb-skillbar, qb-smallresources, qb-spawn, qb-target, qb-taxijob, qb-towjob, qb-truckerjob, qb-truckrobbery, qb-vehiclefailure, qb-vehiclekeys, qb-weapons, qb-weathersync, qb-wheelfitment, qb-zones, qs-housing, rahe-boosting, rahe-hackingdevice, rcore_basketball_assets, rcore_bowling, rcore_casino, rcore_pool, rcore_spray_assets, rcore_tattoos, renzu_multicharacter, rfc_ballas_records, rob_atm, RollDice, rpemotes, rtx_club, rtx_club_mlo, rtx_tv, screenshot-basic, sd_lib, sd-bobcat, sd-cokemission, sd-oilrig, sd-oxyrun, sd-pacificbank, sd-warehouse, sd-weedrun, sd-yacht, sh-lights, skillbar, snipe-banking, snipe-menu, souda-seoul, spawnmanager, um-loginv3, var-password, var-ui, VL-AudioFIles, VL-P1, VL-Vehicles, webpack, whitewidow, xradio, xs_euphoria_male, xs_gangflagsv2-noglow, xs_h2lpack, xsound, XStudios-Male-Shoes, yarn\n",
      "Game type: Freeroam\n",
      "Map: fivem-map-skater\n",
      "OneSync: enabled\n",
      "Language: English (United States)\n",
      "Tags: roleplay, rp, police, cars, ems, jobs, drugs, custom, serious, discord, economy, custom cars, mafia, gangs, onesync, seriousrp, custom framework, new, guns, inspired, xqc, twitch, egirl, cars, wars, 173, 187, fun, established, youtube, girl, free, nop, nopi, guns, ssb, dod, streamer, staff, girl, drip, grizzley, drugs, thug, projectx, elite, classic, murda, viper, nopixle, pma, familia, premier, sob, v3, lucid, echo, district, lspd, 100, combat, wipe, fresh wipe, nopix, vlife, hypix\n",
      "Developer: Galib Mahin | Gucci\n",
      "Discord: discord.gg/hypix\n",
      "Owner: NukeXD\n",
      "Website: hypix-store.tebex.io\n",
      "DLC level: 2699\n",
      "sv_pureLevel: 1\n",
      "can_review: true\n",
      "Owner: NukeXDs\n",
      "https://servers-live.fivem.net/servers/icon/abpzk9/-2133594949.png\n",
      "Server Name: Grand Opening!! Concrete RP 18+✨\n",
      "Server ID: abpzk9\n",
      "https://servers.fivem.net/servers/detail/abpzk9\n"
     ]
    },
    {
     "name": "stdout",
     "output_type": "stream",
     "text": [
      "=========================>\n",
      "English (United States)\n",
      "✨ Grand Opening!! Concrete RP [18+] ✨ | Serious RP | 🚓 Active PD & EMS 🚓 | 🏤 Player Owned Businesses 🏤 | 🧭 Active Staff 🧭\n",
      "no links\n"
     ]
    },
    {
     "name": "stderr",
     "output_type": "stream",
     "text": [
      "Resources: 17mov_Deliverer, 17mov_GarbageCollector, 17mov_Postman, AB45-PrivateIsland, acidtrip, admincommands, advanced_vehicles, ak4y-caseOpening, animals, as_autoexotic, assets-sounds, bankprops, baseevents, basic-gamemode, bob74_ipl, boii-salvagediving, boostinghack, busclothespack, ButterFlyKnifePack, CarLabsNRSSubEMS, CarLabsNRSSubPD, casinohack, casinoUi, cayo, cd_dispatch, cd_drawtextui, cd_garage, cd_garageshell, cd_keymaster, cd_radar, cd_vehiclecontrol, cfx_ies_dp_pharmacy, cfx-gabz-247, cfx-gabz-barber, cfx-gabz-beanmachine, cfx-gabz-binco, cfx-gabz-casino, cfx-gabz-catcafe, cfx-gabz-mapdata, cfx-gabz-mrpd, cfx-gabz-pdm, cfx-gabz-pdprops, cfx-gabz-prison, cfx-gabz-scenarios, cfx-gabz-townhall, cfx-jakers-legion, Chameleon, chat, Codem-BlackHUDV2, Concrete_LSPD, Concrete_SAMR, connectqueue, CRP_Cars, CRP_CarSounds, CRPClothing00, cw-rgbpainter, datacrack, diables_hopital, dim-passhack, dogs, doors_creator, drugs_creator, dynyx-rental, effects, effects2, extragas, FiniAC, FiniAP, fiv3devs_risingsun, fivem-map-hipster, gksphone, greenzones, hackee, hacking, hackingminigame, halloween_map, HiEndRims, hotdogbat, httpmanager, illenium-appearance, interact-sound, jim-bars, jim-beanmachine, jim-catcafe, jim-mining, jim-recycle, JLRP-RadioList, k4mb1-fleecas, k4mb1shellstarter, KarambitPack, KatanaPack, kevin-bounties, kz-freebike, lambra-antiCL, lavoutesign, LegacyFuel, loaf_billing, loaf_housing, loaf_keysystem, loaf_lib, loaf_realtor, lockpick, LowriderRims, lux_vehcontrol, lv-taxi, mapmanager, Md_white_widow_cafe_V2Update_mlo, mdt, memorygame, menu_default, MenuAPI, menuv, mh-deletenonactiveplayers, mhacking, mka-lasers, monitor, ms-peds, n93metas, nano-multiuseitems, nano-smalls, nc-loadingscreens, needed_files, nh-context, npcmedic, NRPWeaponPack, ny-reload, oceangates, offstore_garage_halloween, offstore_halloween_party, okokChatV2, okokCrafting, okokDeleteVehicles, okokNotify, okokReports, OneOfOnePack, OS_JobCenter, oulsen_satmap, overhead_id, ox_doorlock, ox_lib, oxmysql, PacificBankExtendedMLO, PaletoBankExtendedMLO, paradise_beach, pd-safe, pma-voice, pmms, policesshosp, PolyZone, progressbar, ps-playergroups, ps-ui, ps-zones, pug-fishing, pug-halloween, pw_coords, qb_gas_station, qb_headbag, qb-ambulancejob, qb-apartments, qb-atms, qb-banking, qb-banktrucks, qb-blackmarket, qb-carcontrol, qb-chopshop, qb-cityhall, qb-commandbinding, qb-core, qb-customs, qb-djbooth, qb-drugs, qb-houserobbery, qb-input, qb-interior, qb-inventory, qb-jail, qb-labs, qb-lock, qb-lockpick, qb-management, qb-mechanicjob, qb-menu, qb-multijob, qb-oxyruns, qb-pawnshop, qb-policejob, qb-powerplant, qb-radialmenu, qb-radio, qb-shops, qb-skillbar, qb-smallresources, qb-smokeshops, qb-spawn, qb-stashes, qb-target, qb-towjob, qb-truckerjob, qb-vehiclefailure, qb-vehicleshop, qb-weaponbunker, qb-weapons, qb-weathersync, r14-evidence, rahe-racing, rcore_casino, rcore_casino_assets, rcore_casino_interior, rcore_guidebook, rcore_pool, Renewed-Weaponscarry, rings, rjz_bungalow_village, rm_pets, rm_petstream, robberies_creator, rpemotes, safecracker, screenshot-basic, spawnmanager, SportRims, stg_pausemenu, textUi, tgiann-skillbar, trailers, truck_logistics, trucks, ultra-keypackhack, um-multicharacter, utk_fingerprint, utk_hackdependency, var-headset, var-password, var-ui, varhack, webpack, WheelPack5, wx_txadminlogs, xsound, yarn\n",
      "Game type: Freeroam\n",
      "Map: fivem-map-hipster\n",
      "OneSync: enabled\n",
      "Language: English (United States)\n",
      "Tags: serious, roleplay, gangs, drugs\n",
      "DLC level: 2699\n",
      "sv_pureLevel: 0\n",
      "can_review: true\n",
      "Owner: N9333\n",
      "https://servers-live.fivem.net/servers/icon/yjor85/-1181639334.png\n",
      "Server Name: NEW ✘ FULL SEND ✘ RP\n",
      "Server ID: yjor85\n",
      "https://servers.fivem.net/servers/detail/yjor85\n"
     ]
    },
    {
     "name": "stdout",
     "output_type": "stream",
     "text": [
      "=========================>\n",
      "English (United States)\n"
     ]
    },
    {
     "name": "stderr",
     "output_type": "stream",
     "text": [
      "Resources: acidtrip, addon_clothing, akp, AllPeds, ambulance_brancard, anims, assets_medium_apt, assets_vehicles, assets-art, assets-edmshowroom, assets-island, assets-mazebank, assets-pacific, baseevents, bob74_ipl, boostinghack, breze_bowling_map, cayo_gas_station, cfx_gn_ambulance_garage, cfx_gn_clinic_sandy, cfx_gn_collection, cfx_gn_int_clinic, cfx_gn_medical_accessories, cfx_gn_medical_assets, cfx_gn_sandy_mapdata, cfx-gabz-247, cfx-gabz-carmeet, cfx-gabz-catcafe, cfx-gabz-impound, cfx-gabz-mapdata, cfx-gabz-mrpd, cfx-gabz-pdm, cfx-gabz-pdprops, cfx-gabz-pillbox, cfx-gabz-ponsonbys, cfx-gabz-prison, cfx-gabz-sandypd, cfx-gabz-suburban, cfx-gabz-townhall, cfx-gabz-vu, chat, Cookies, debug, delveh, destiny_weedplant, discord-screenshot, dpemotes, ems, FiniAC, FiniAP, fivem, fivem-appearance, fivem-map-hipster, fixwiring, fp-vehicleaudio, franklinhousefix, frp_advfishing, frp_advhunting, frp_ambulance, frp_ammunationped, frp_ammunationsystem, frp_apartments, frp_artgalleryheist, frp_atms, frp_badge, frp_banking, frp_bankrobbery, frp_banprison, frp_billing, frp_blackjack, frp_boatanchor, frp_builderjob, frp_buiss, frp_cameramenu, frp_carmenu, frp_casino, frp_chairsystem, frp_cityhall, frp_clothing, frp_clothing_emergency, frp_clothing_female, frp_clothing_male, frp_cmd, frp_cokescript, frp_colorpicker, frp_context, frp_cookiesweed, frp_core, frp_crafting, frp_dialog, frp_dispatch, frp_dj, frp_doorlock, frp_effects, frp_elevator, frp_firework, frp_fm, frp_fpsbooster, frp_gangmenulib, frp_gangsystemv2, frp_garages, frp_garbagecollectorjob, frp_goldpan, frp_groups, frp_gruppesechsjob, frp_gym, frp_harness, frp_heavy, frp_hookahsystem, frp_houserobbery, frp_houses, frp_idcard, frp_interior, frp_inventory, frp_jewelry, frp_lasers, frp_lockpick, frp_logs, frp_lottery, frp_management, frp_mdt, frp_mechanic, frp_mechanicjob, frp_menu, frp_metaldetecting, frp_mini, frp_moneyjob, frp_newadmin, frp_newb, frp_newjob, frp_newpaint, frp_paycheck, frp_pharm, frp_pings, frp_planeruns, frp_plates, frp_poledance, frp_police, frp_printer, frp_prisonbreak, frp_projector, frp_puzzleminer, frp_races, frp_racingv2, frp_radio, frp_recyclejob, frp_request, frp_scenes, frp_scratching, frp_sellcars, frp_shopr, frp_shops, frp_skillbar, frp_skillcheck, frp_small, frp_target, frp_taxijob, frp_towjob, frp_track, frp_treasurehunterjob, frp_tuner, frp_vehiclekeys, frp_vehiclenames, frp_vending, frp_vouchersystem, frp_vshop, frp_walkman, frp_weapons, frp_weathersync, frp_weazel, frp_wheel, frp-companions, fsd_loading, g17a, gather_data, gCard, generic_texture_renderer_gfx, hacking, helpresource, Howdy-Minigame, japrest, kaszino_rulett_standalone, lb-phone, lb-phoneprop, lbc_rockford_autos, LegacyFuel, loaf_lib, lsc, luno_phoneshop, lux_vehcontrol, lvlpack1, lvlpackmisc, map-atlas, mapmanager, mcxa, memorygame, menuv, mhacking, mk18b, Mk47, monitor, NativeUI, npas-HUB-crypt, npas-HUB-djewel, npas-HUB-huntingstore, ox_lib, oxmysql, p226a, pd_boat, pdnew, pma-voice, PolyZone, progressbar, ps-hud, publicBoatRent, qb-lock, queue, rahe-boosting, rahe-hackingdevice, rcore_arcade, rcore_bowling, rcore_guidebook, rcore_prison, rcore_prison_models_gabz, rcore_tattoos, rep_m4a1, ScarSc, screenshot-basic, selldrug, spawnmanager, t3_lockpick, varhack, vehiclefailure, wais-multicharacter, warmenu, weapon_back, webpack, webshop, weed, wk_wars2x, wnews, xsound, yarn\n",
      "Game type: Freeroam\n",
      "Map: fivem-map-hipster\n",
      "OneSync: enabled\n",
      "Language: English (United States)\n",
      "Tags: custom cars, police, ems, drugs, jobs, serious, roleplay, seriousrp, custom framework, tuner, fivem, new\n",
      "Age: 18+\n",
      "Developer: Full Send\n",
      "Discord: discord.gg/fullsend\n",
      "Microphone: Required\n",
      "Roleplay: Serious RP\n",
      "Uptime: 02h 23m\n",
      "mapname: fivem-map-hipster\n",
      "DLC level: 2699\n",
      "sv_pureLevel: 0\n",
      "can_review: true\n",
      "Owner: FullSendRP\n",
      "https://servers-live.fivem.net/servers/icon/5rmd47/-263608122.png\n",
      "Server Name: Punisher RP ⤳\n",
      "Server ID: 5rmd47\n",
      "https://servers.fivem.net/servers/detail/5rmd47\n"
     ]
    },
    {
     "name": "stdout",
     "output_type": "stream",
     "text": [
      "=========================>\n",
      "English (United States)\n"
     ]
    },
    {
     "name": "stderr",
     "output_type": "stream",
     "text": [
      "Resources: d7zmenuV2, Danger_Doors, Danger_LP, datacrack, hypnonema, iqstore_970, lockpick, mapmanager, Melix_Heros, Melix_Jobs, Melix_Status, MK_MYSQL, MK_Store, MK-AdminManager, MK-bank, MK-CarControler, MK-chat, MK-clothing, MK-Crosshair, MK-Emotes, MK-HUD, MK-Markets, MK-MDT, MK-Notify, MK-Radio, MK-scripts, MK-SkinSaver, MK-Text, MK-Vehicles, MK-Weapons, MK-WeaponsEdit, MK3_loading, MK3_police, MK3-EventsManager, Nashmi_MapsPC, pd-safe, pma-voice, PunisherCityCars, PunisherCityMaps, PunisherCitySkins, samir_970, screenshot-basic, spawnmanager, Talal_BlackMarket, ultra-keypackhack, utk_fingerprint, utk_hackdependency, vMenu, vrp, vrp_mysql, vrp_names, webpack, yarn\n",
      "Game type: MK Files V4\n",
      "OneSync: enabled\n",
      "Language: Arabic (Saudi Arabia)\n",
      "Tags: vrp\n",
      "Developer 🛠: 970\n",
      "Discord: discord.gg/pc\n",
      "Server Owner: A7med#0970\n",
      "sv_pureLevel: 0\n",
      "Owner: ahmed_970\n",
      "https://servers-live.fivem.net/servers/icon/br4qab/-1490598045.png\n",
      "Server Name: Laguna RP\n",
      "Server ID: br4qab\n",
      "https://servers.fivem.net/servers/detail/br4qab\n"
     ]
    },
    {
     "name": "stdout",
     "output_type": "stream",
     "text": [
      "=========================>\n",
      "Arabic (Saudi Arabia)\n"
     ]
    },
    {
     "name": "stderr",
     "output_type": "stream",
     "text": [
      "Resources: acidtrip, addon_clothing, akp, AllPeds, ambulance_brancard, anims, assets_medium_apt, assets_vehicles, assets-edmshowroom, assets-island, baseevents, bob74_ipl, boostinghack, breze_bowling_map, cayo_gas_station, cfx-gabz-247, cfx-gabz-carmeet, cfx-gabz-catcafe, cfx-gabz-impound, cfx-gabz-mapdata, cfx-gabz-mrpd, cfx-gabz-pdm, cfx-gabz-pdprops, cfx-gabz-ponsonbys, cfx-gabz-prison, cfx-gabz-suburban, cfx-gabz-townhall, chat, Cookies, debug, delveh, destiny_weedplant, discord-screenshot, dpemotes, eclipse-hospital, ems, FiniAC, FiniAP, fivem, fivem-appearance, fivem-map-hipster, fixwiring, fp-vehicleaudio, franklinhousefix, frp_advfishing, frp_advhunting, frp_ambulance, frp_ammunationped, frp_apartments, frp_artgalleryheist, frp_atms, frp_badge, frp_banking, frp_banprison, frp_billing, frp_blackjack, frp_boatanchor, frp_buiss, frp_cameramenu, frp_carboostingv2, frp_carmenu, frp_casino, frp_chairsystem, frp_cityhall, frp_clothing, frp_clothing_emergency, frp_clothing_female, frp_clothing_male, frp_cmd, frp_cokescript, frp_colorpicker, frp_context, frp_cookiesweed, frp_core, frp_crafting, frp_dialog, frp_dispatch, frp_dj, frp_doorlock, frp_effects, frp_elevator, frp_firework, frp_fm, frp_fpsbooster, frp_gangmenulib, frp_gangsystemv2, frp_garages, frp_garbagecollectorjob, frp_groups, frp_gym, frp_harness, frp_heavy, frp_hookahsystem, frp_houserobbery, frp_houses, frp_idcard, frp_interior, frp_inventory, frp_jewelry, frp_lasers, frp_lockpick, frp_logs, frp_lottery, frp_management, frp_mdt, frp_mechanic, frp_mechanicjob, frp_menu, frp_mini, frp_moneyjob, frp_newadmin, frp_newb, frp_newjob, frp_newpaint, frp_paycheck, frp_pharm, frp_pings, frp_plates, frp_poledance, frp_police, frp_printer, frp_prisonbreak, frp_projector, frp_puzzleminer, frp_races, frp_racingv2, frp_radio, frp_recyclejob, frp_request, frp_scenes, frp_scratching, frp_shopr, frp_shops, frp_skillbar, frp_skillcheck, frp_small, frp_target, frp_taxijob, frp_track, frp_tuner, frp_vehiclekeys, frp_vehiclenames, frp_vending, frp_vouchersystem, frp_vshop, frp_walkman, frp_weapons, frp_weathersync, frp_weazel, frp_wheel, frp-companions, fsd_loading, g17a, gather_data, gCard, generic_texture_renderer_gfx, hacking, helpresource, Howdy-Minigame, japrest, kaszino_rulett_standalone, lb-phone, lb-phoneprop, lbc_rockford_autos, LegacyFuel, loaf_lib, lsc, luno_phoneshop, lux_vehcontrol, lvlpack1, lvlpackmisc, map-atlas, mapmanager, mcxa, memorygame, menuv, mhacking, mk18b, Mk47, monitor, NativeUI, npas-HUB-crypt, npas-HUB-djewel, npas-HUB-huntingstore, ox_lib, oxmysql, p226a, pd_boat, pdnew, pma-voice, PolyZone, progressbar, ps-hud, publicBoatRent, qb-lock, queue, rahe-hackingdevice, rcore_arcade, rcore_bowling, rcore_guidebook, rcore_prison, rcore_prison_models_gabz, rcore_tattoos, rep_m4a1, rtx_tv, ScarSc, screenshot-basic, selldrug, spawnmanager, t3_lockpick, varhack, vehiclefailure, wais-multicharacter, warmenu, weapon_back, webpack, webshop, weed, wk_wars2x, wnews, xsound, yarn\n",
      "Game type: Freeroam\n",
      "Map: fivem-map-hipster\n",
      "OneSync: enabled\n",
      "Language: English (United States)\n",
      "Tags: custom cars, police, ems, drugs, jobs, serious, roleplay, seriousrp, custom framework, tuner, fivem, new\n",
      "Age: 18+\n",
      "Developer: Laguna\n",
      "Discord: discord.gg/laguna\n",
      "Microphone: Required\n",
      "Roleplay: Serious RP\n",
      "Uptime: 17h 07m\n",
      "mapname: fivem-map-hipster\n",
      "DLC level: 2699\n",
      "sv_pureLevel: 0\n",
      "can_review: true\n",
      "Owner: FullSendRP\n",
      "https://servers-live.fivem.net/servers/icon/qkzry9/-273467247.png\n",
      "Server Name: CashLife RP🎃\n",
      "Server ID: qkzry9\n",
      "https://servers.fivem.net/servers/detail/qkzry9\n"
     ]
    },
    {
     "name": "stdout",
     "output_type": "stream",
     "text": [
      "=========================>\n",
      "English (United States)\n"
     ]
    },
    {
     "name": "stderr",
     "output_type": "stream",
     "text": [
      "Resources: CarsV1, CarsV2, cashlife-admin, cashlife-bank, cashlife-carhud, cashlife-ccore, cashlife-core, cashlife-crates, cashlife-crosshair, cashlife-default, cashlife-gangcreator, cashlife-ganglb, cashlife-gangs, cashlife-inventory, cashlife-lester, cashlife-police, cashlife-queue, cashlife-scripts, cashlife-th, cashlife-wheels, ccore-multihud, cfx-gabz-pdm, chat, cuck-cars, dpemotes, essentials, gksphone, HousingShells, illenium-appearance, loaf_housing, loaf_keysystem, loaf_lib, menuv, monitor, mrpd, myDj, newfemalepack, okokReports, ox_doorlock, ox_lib, oxmysql, pdjailbreak, pdskyline, rcore_casino, rcore_casino_assets, rcore_casino_interior, Reaper, shop-mechanic, yarn\n",
      "Game type: CashLife RP\n",
      "Map: San Andreas\n",
      "OneSync: enabled\n",
      "Language: English (United States)\n",
      "Tags: 100k, serious rp, combat, 1v1, low desync, competitive, no desync, shooting, economy, doj, yourserverrp, yourserver, add-ons, deadly, gang, friendly, roleplay, custom, police, ems, mechanic, eup, unicorn, cardealer, gangs, drugs, cars, jobs, serious, whitelist, fun, realistic, serious roleplay, onesync, customcars, menace, phantomrp, ssb world, sob, devious, vicious, vvs, malicious, semi, casino, facetime, phone, 100kordie, 100k or die\n",
      "Discord: discord.gg/cashlife\n",
      "Owners: cuck\n",
      "Store: cashliferp.tebex.io\n",
      "DLC level: Los Santos Tuners\n",
      "sv_pureLevel: 0\n",
      "can_review: true\n",
      "Owner: Hin1\n",
      "https://servers-live.fivem.net/servers/icon/kkjmpr/-619824894.png\n",
      "Server Name: MEXICO CITY\n",
      "Server ID: kkjmpr\n",
      "https://servers.fivem.net/servers/detail/kkjmpr\n"
     ]
    },
    {
     "name": "stdout",
     "output_type": "stream",
     "text": [
      "=========================>\n",
      "English (United States)\n"
     ]
    },
    {
     "name": "stderr",
     "output_type": "stream",
     "text": [
      "Resources: ace_hiddendruglab, adrians%20garve%20mlo, async, Bella_unicorn, bellas_unicorn, bob74_ipl, brofx_mansion_10, brofx_mansion_14, bs_tokens, cfx-gabz-247, cfx-gabz-ammunation, cfx-gabz-barber, cfx-gabz-burgershot, cfx-gabz-catcafe, cfx-gabz-harmony, cfx-gabz-mapdata, cfx-gabz-paletobank, cfx-gabz-pdprops, cfx-gabz-pearls, cfx-gabz-pillbox, cfx-gabz-ponsonbys, cfx-gabz-prison, cfx-gabz-sandypd, cfx-gabz-suburban, cfx-minibulle3d_h2023_davis_square, cfx-minibulle3d_h2023_maze, chat, clothespack, clothespack2, clothespack3, clubhouse_harmony, clubhouse_vespucci_canals_v2, copnet, cs-hall, cs-stream, cs-ves, dpclothing, dpemotes, dt_19_mrpd, es_extended, esx_accounts, esx_ambulancejob, esx_dmvschool, esx_framework, esx_justizjob, esx_mechanicjob, esx_menu_default, esx_menu_dialog, esx_menu_list, esx_policejob, esx_taxijob, fiv3devs_thehole, FM-BincoStores, fxmigrant, grizmowe_paleto_pier, hades, halloween_ped, haunted_house, hex_bennys_luxury_docks, inventory, jsfour-idcard, k4mb1-casino, kd_towtruck, koldysek_coke_1, koldysek_coke_2, koldysek_coke-3, koldysek_meth_2, koldysek_meth_3, koldysek_weed_2, koldysek_weed_3, krz_personalmenu, lb-phone, lb-phone_prop, loaf_lib, lodstudios_gmbh_anwesen, lodstudios_madrazo_estatev2, lodstudios_photostudio, mappack, matteodesign_mcv2_hq, matteodesign_tunnel, matteodesign_tunnel2, matteodesign_tunnel3, matteodesign_tunnel4, matteodesign_tunnel5, matteodesign_tunnel6, matteodesign_tunnel7, matteodesign_tunnel8, matteodesign_tunnel9, matteodesign_tunnel10, mexicanmafia, mirror_hood, monitor, moto_casale, Narco_camper, Narco_family_cayo, Narco_groove_bunker, Narco_Hoover_Forum, Narco_Hustlers, narco_lifeinvader, narco_peds, nc_adminmenu, nc_carlift, nc_cars, nc_cars2, nc_cars4, nc_carsounds, nc_case, nc_cleanup, nc_clothshop, nc_coinshop, nc_core, nc_custom_peds, nc_dices, nc_doorlock, nc_einreise, nc_fesseln, nc_ffareworked, nc_fleecaheist, nc_foodbusiness, nc_frakcreator, nc_fraktionapp, nc_gangwar, nc_housing, nc_hud, nc_jailbreak, nc_job, nc_loadingscreen, nc_mechanic, nc_notify, nc_paketjob, nc_postcode, nc_radioapp, nc_res, nc_sitdown, nc_storage, nc_trashman, nc_tutorial, nc_vehicleshop, nc_vehmeta, nc_vipp, nc_weaponshit, nc_workstations, ndev_cinematic, np-menu, oxmysql, patamods_studioScript, patoche_gang, patoche_secret_bossroom, patoche_studio, progressBar, qua_donershot, rcore_basketball, rcore_basketball_assets, rcore_pool, rcore_spray, restaurantMenus, robbbs_indian, saltychat, saltynui, sandy_shores_bridge, screenshot-basic, skinchanger, spirit_illegal_drug_brewing, The_Secret_Cave, uni_halloween_decoration_road, uni_halloween_decoration_road_mirror_park, uni_halloween_paradeofterror_universestore, uni_halloween_universestore_farol, universestore_halloween_festival_in_the_beach, venice, web-services, webpack, xnTattoos, xsound, yarn, zs3d_underground_train_milo, zs3d_underground_train_milo2\n",
      "Game type: Roleplay\n",
      "Map: San Andreas\n",
      "OneSync: enabled\n",
      "Language: German (Germany)\n",
      "Tags: German,Deutsch,Roleplay,Life,mexicocityrp,mexicocity,Reallife,Ger,DE,esx\n",
      "DLC level: 2699\n",
      "sv_pureLevel: 1\n",
      "🎧Teamspeak: mexicocity\n",
      "📢Discord: discord.gg/mexicocity\n",
      "Owner: mexicocity\n",
      "https://servers-live.fivem.net/servers/icon/aqqrk5/1751123144.png\n",
      "Server Name: GANGSTA PARADISE\n",
      "Server ID: aqqrk5\n",
      "https://servers.fivem.net/servers/detail/aqqrk5\n"
     ]
    },
    {
     "name": "stdout",
     "output_type": "stream",
     "text": [
      "=========================>\n",
      "German (Germany)\n"
     ]
    },
    {
     "name": "stderr",
     "output_type": "stream",
     "text": [
      "Resources: abschlepper_8004, advanced_drugs_creator, advanced_vehicles, airdrop, ali_aktiv, ali_can, ali_check, ali_klinik, ali_raub, ali_safezone, ali_verarbeiter, ali_weaponhud, andicarsdonttouch, async, BakiTelli_fpsmenu, basedlagunaseca, basedmaplevalley, BCall_progress, blockz_border, bob74_ipl, brnx_hautenightclub, busclothespack, Buty_InfiniteJobs, Buty-Clothes, camorra_cs, Camorra_F2, camorra_js, camorra_vipshop, carpack3, carry, carsounds, Cayo_Perico_Bridge_V1_by_NE_NOORE, cc_aduty, CC_BuyCarwash, cc_hud, cc_jobpack, cc_moneywash, cc_namechange, cc_teamcheck, cc_xmenu, CC-AdminJail, CC-antiCL, CC-Clothing, CC-Waffencrafter, cfx_gn_collection, cfx_gn_sandy_mapdata, cfx_gn_scenario, cfx_gn_sheriff_dlc, cfx_gn_sheriff_sandyshores, cfx_prompt_Bolingbroke_Prison_Interiors, cfx-blaze-hookahv2, cfx-blaze-luxuryautosv2, cfx-gabz-247, cfx-gabz-casino, cfx-gabz-mapdata, cfx-sandypaleto-uc, ClassWheelPack, clubhouse_elysian_island, clubhouse_paleto, clubhouse_vespucci_canals_v2, Cola, core_drugs, cron, cs-hall, cs-stream, cs-ves, customradio, datacrack, discord-screenshot, doors_creator, dpclothing, dz-fishing, dz-treasurebox, es_extended, esx_addonaccount, esx_addoninventory, esx_ambulancejob, esx_armyjob, esx_barbershop, esx_basicneeds, esx_billing, esx_boat, esx_context, esx_datastore, esx_givevehicle, esx_govpaljob, esx_jobs, esx_license, esx_lscustom, esx_mechanicjob, esx_menu_default, esx_notify, esx_optionalneeds, esx_pinkpanthers, esx_policejob, esx_progressbar, esx_regierungsjob, esx_service, esx_sheriffjob, esx_skin, esx_society, esx_status, esx_strippers, esx_textui, esx_vehiclekeys, esx_vehicleshop, esx-qalle-jail, faridbang, farming_creator, ffa_tt_camorra, fib_wuerfel, flashbang, french_villa, ganjarims, gnd_mechanics, gp_banking, gp_boxing, gp_camper, gp_dailyreward, gp_death, gp_dmvschool, gp_documents, gp_drugeffect, gp_eateffect, gp_ffa, gp_fuel, gp_funk, gp_gangwar, gp_garage, gp_helpnotify, gp_identity, gp_loadingscreen, gp_multichar, gp_paintball, gp_pausemenu, GP_Progress, gp_revive, gp_salty, gp_schwarzmarkt, gp_smokeeffect, gp_spendentafel, Grappler, grs_rapd, gym, HeliCam, hex_1_house, hex_lib, hex_lsia, hex_workstation, iak_DrugFarm, id1_h_hospital, int_weed, interact-sound, inventory, ipls_resource, JD_logsV3, jobs_creator, jsfour-idcard, justicev2, k4mb1-mazebank, k4mb1-vjewel, kolja_map, lambrachip, LegacyFuel, limits, lks_gym, lockpick, lux, Machette, map, meetingpoint, Memote, mhacking, midnight_benny, minimap_cayo, molo_home, monitor, mosleynutt, mp-tuners, mpchameleon, mrhunter_legion_billboard, msk_backpack, msk_core, mx_bodydamages, mx_panicbutton, mx_sperrzone, myDj, okokChat, okokContract, okokRequests, okokTextUI, okokVehicleShop, oxmysql, PacificBluffs, Paleto_Mechanic, paletopark_sal, patochepaleto, pd-safe, pdrims, playboy, PolyZone, progressbar, qb-input, race, ramiro_black, razdvawheels, rconlog, rcore_addon_tattoos_bandidos, rcore_addon_tattoos_test, rcore_arm_wrestling, rcore_basketball, rcore_basketball_assets, rcore_cam, rcore_cam_assets, rcore_casino, rcore_casino_assets, rcore_casino_interior, rcore_infinity_activity, rcore_pool, rcore_spray, rcore_spray_assets, rcore_tattoos, rcore_television, renzu_stancer, rfc_mapping_coke, rfc_mapping_meth, rfc_mapping_weed, rfc_paleto_medical_center, rl-moonmap, rl-space-zancudo, rl-spaceshuttle-vehicle, rl-spacetp-zancudo, rm_fleecaheist, rm_paletoheist, rm_shoprobbery, roadphone, robbbs_bossvilla2, robberies_creator, rocketwheels, rtx_doortuning, rtx_gym, rtx_weaponarybunker, saltychat, screenshot-basic, sh-lights, skinchanger, skinweapon, skinweapon_assets, sl_carhud, SmartDrone, so_supportaufruf, spawnmanager, StarChase, StreetRaces, SuperMethLab, towscript, trailers, truck_logistics, trucks, truckshop_mlo, TunningSystem, tv_scaleform, uj_cayoLoader, uj_cayoPerico, ultra-keypackhack, utk_fingerprint, utk_hackdependency, vbh, vCAD_ui-fivem, vCAD-Sync, vehcontrol, vehicleDebug, webpack, weed_house, westonsmansion, wheelspack1, wizating_bendpaks, wizating_dyno, wizating_garage, wizating_laptop, ws_clothshop, ws_lifeinvader-v2, xsound, yarn\n",
      "Game type: CamorraFramework 1.1\n",
      "Map: Los Santos\n",
      "OneSync: enabled\n",
      "Language: German (Germany)\n",
      "Tags: roleplay, de, gangstaparadise, gangs, esx, gangstaparadise,esx\n",
      "JD_logs: V3.1.2\n",
      "Phone: RoadPhone\n",
      "DLC level: 2699\n",
      "sv_pureLevel: 0\n",
      "✅ToS: New Fivem guidelines safe\n",
      "🌷Farmrouten: Papier | Orangen | Tabak | Koks | und vieles mehr!\n",
      "🎙Voice: Teamspeak = gangsta-paradise\n",
      "🎧Discord: discord.gg/gangstaparadiserp\n",
      "👨👩Altersbeschränkung: Ab 18 Jahren✅\n",
      "🔐WHITELIST: Keine-WHITELIST 🔒\n",
      "Owner: SonnyBlack1337\n",
      "https://servers-live.fivem.net/servers/icon/zpxbx9/923475829.png\n",
      "Server Name: MiGhettoNYC NEW UPDATE🗽\n",
      "Server ID: zpxbx9\n",
      "https://servers.fivem.net/servers/detail/zpxbx9\n"
     ]
    },
    {
     "name": "stdout",
     "output_type": "stream",
     "text": [
      "=========================>\n",
      "German (Germany)\n"
     ]
    },
    {
     "name": "stderr",
     "output_type": "stream",
     "text": [
      "Resources: _EDA_01, 5MDevs_freesept, 5MDEVS_furnitureV4, 5MDevs_furnitureV5, 5MDevs_gstationV1, ak47_cookiesv2, ak47_garbagejob, ak47_gunjamming, ak47_hookahlounge, ak47_lasersight, ak47_prospecting, ak47_switch, ak47_usablecookiesv2, ak47_usabledrugs, async, baseevents, bb-dices, BetterFight, blips_creator, brutal_boxing, brutal_pets, Buty-Activities, Buty-Miner, cd_dispatch, cd_easytime, Chamberlain-EMSPack, Chamberlain-PolicePack, chat, cinematiccam, CRACK_4XBreakingBadLabs, CRACK_4xDrugLabsShells, CRACK_5XNikeStore, CRACK_AMMU, CRACK_AppleStore, CRACK_Billards, CRACK_BronxCommunity, CRACK_DealerShip, CRACK_Dominos_V2, CRACK_DrugBoat, CRACK_FleecaB, CRACK_FootLocker_V2, CRACK_GraffiticMechanic, CRACK_HairSaloonV2, CRACK_HellMechanic, CRACK_HiddenHideout, CRACK_HospitalsV2, CRACK_LibertyWalkInterior, CRACK_LuxuryClothingStore, CRACK_MafiaHideoutU, CRACK_MalibuMansion_V2, CRACK_McDonaldsKFCs, CRACK_ModernMansion, CRACK_NailSaloonV2, CRACK_OBlockEXT, CRACK_OBlockINT, CRACK_PearlsCasino, CRACK_PearlsRestaurent, CRACK_Redline, CRACK_SecretWeedFarm, CRACK_SportsCustomsV2, CRACK_SuperColmado, CRACK_WhiteWidowV2, CRACK_WingStopV2, CRACK_Yatch_NY, CRACK-BallasRecord2U, CRACK-BennysV2, CRACK-Big-Apartment, CRACK-Brooklyn-Houses, CRACK-Brooklyn-Mech, CRACK-BumperCars, CRACK-Casino, CRACK-Chick-Fila, CRACK-Coke, CRACK-Cookies_Tupac_TributeEdition, CRACK-CourtV2, CRACK-CyberBarV2, CRACK-EastCostums-NY, CRACK-GucciS, CRACK-HighSchool_V2, CRACK-HospitalsV2, CRACK-HotelSkyBar-NY, CRACK-HotelSkyBarLobby-NY, CRACK-House, CRACK-IceBoxV2, CRACK-Jail, CRACK-KFC-NY, CRACK-LibertyWalkExterior, CRACK-ManhatApt, CRACK-McDonaldsV1, CRACK-MidtownLoud, Crack-Minimap, CRACK-PacificBank-NY, CRACK-Plasma, CRACK-SubwayU, CRACK-TattooS, CRACK-Theater, CRACK-VespucciNYPD-V2, CRACK-WeedS, CRACK-X5247NY, cron, cs-hall, datacrack, discord_logs, DiscordRoles, dlrms_notify, doitdigital_fps, doors_creator, dpclothing, dpemotesv2, drugs_creator, EasyAdmin, es_extended, esx_addonaccount, esx_addoninventory, esx_basicneeds, esx_billing, esx_context, esx_datastore, esx_license, esx_menu_default, esx_optionalneeds, esx_progressbar, esx_repairkit, esx_society, esx_status, esx_textui, fishy_poledance, fivem-appearance, fivem-map-skater, GTA_nTeleporter, Gym-NY, Hookah, Hustlers, italian-restruant, jobs_creator, K_FRAUDATMS, K_FRAUDPROPS, K_FRAUDSHOPS, K_FRAUDV2, K4MB1-AllShellsSubPack, kq_outfitbag, kyros-weapon-pack-female, kyros-weapon-pack-police, kyros-weapon-pack-v3, kyros-weapon-pack-v4, lambra-tunerChipV2, lb-phone, lb-phone_music, lb-phone_prop, LegacyFuel, liberty_props, loaf_billing, loaf_lib, loaf_vanillaunicorn, Malibu-NY-DefinitiveUpdateU2, MC-Carmeet, MC-GeneralMechanic, MC-JerseyProjects-int, MenuAPI, menuv, messy-bodycam, meta_libs, mgnyc-assets, mgnyc-bikespawn, mgnyc-caraudio, mgnyc-carmenu, mgnyc-clothing, mgnyc-dialog, mgnyc-drugdealing, mgnyc-ems, mgnyc-extras, mgnyc-goat, mgnyc-jobcenter, mgnyc-licenseplate, mgnyc-mechanic, mgnyc-notify, mgnyc-peds, mgnyc-queue, mgnyc-snaily, mgnyc-vehicles, mHud, ModernMansion-NY, monitor, NativeUI, nh-context, nh-keyboard, NW_fishing, okokBanking, okokContract, okokNotify, okokTextUI, OT_hideintrunk, OT_weaponrepair, ox_inventory, ox_lib, oxmysql, pma-voice, pmricknybodegapack, pmricknybodegapackext, pmricknybodegaprops, PolyZone, progressbar, progressBars, ps-ui, pussycatclub, qs-housing, qtarget, rcore_arcade, rcore_basketball, rcore_basketball_assets, rcore_bowling, rcore_drunk, rcore_gangs, rcore_pool, rcore_radiocar, rcore_tennis, RealisticVehicleFailure, redutzu-ems, redutzu-mdt, rprogress, rtx_gym, rtx_neonsreloaded, rtx_tv, rtx_wateractivities, santana_petshop, screenshot-basic, scully_radio2, skillbar, spawnmanager, t-lib, taskbarskill, TrafficAdjuster, um-rodeo, um-rodeo-prop, vehicles_keys, vms_identity, vms_multichars, vms_spawnselector, wasabi_ambulance, wasabi_backpack, wasabi_boombox, wasabi_bridge, wasabi_crutch, wasabi_multijob, wasabi_police, WaveShield, webpack, WhiteWidow-NY, xdiskjockey, xmmx-letscook, xsound, yarn\n",
      "Game type: ESX Legacy\n",
      "Map: MiGhetto New York\n",
      "OneSync: enabled\n",
      "Language: English (United States)\n",
      "Tags: NYC, esx, legacy, Roleplay,esx\n",
      "Developers: Rudy, Fusion, Edvard & Snaily\n",
      "Discord: discord.gg/mgnyc\n",
      "Owners: Realityy5m\n",
      "Store: mighettonyc.tebex.io\n",
      "sv_enableNetworkedSounds: 0\n",
      "DLC level: 2612\n",
      "sv_pureLevel: 0\n",
      "can_review: true\n",
      "Owner: MiGhettoRP\n",
      "https://servers-live.fivem.net/servers/icon/4epke8/1102946638.png\n",
      "Server Name: MiGhettoRP NEW UPDATE🔥\n",
      "Server ID: 4epke8\n",
      "https://servers.fivem.net/servers/detail/4epke8\n"
     ]
    },
    {
     "name": "stdout",
     "output_type": "stream",
     "text": [
      "=========================>\n",
      "English (United States)\n"
     ]
    },
    {
     "name": "stderr",
     "output_type": "stream",
     "text": [
      "Resources: _EDA_01, 5MDEVS_furnitureV4, 5MDevs_furnitureV5, appearance, bb-dices, chat, cs-hall, drops, fuel, K4MB1-AllShellsSubPack, kyros-weapon-pack-female, kyros-weapon-pack-v4, lb-phone, lb-phone_music, lb-phoneprop, loadscreen, loaf_lib, map_mggrove, map_mighetto, map_pdstation, map_vanilla, mechanic, meta_libs, mgcars, mgclothing, mgemotes, monitor, oxdoorlock, oxlibrary, oxmysql, oxtarget, pma-sirensync, pma-voice, qs-housing, radio, rcore_arm_wrestling, rcore_bowling, rcore_casino, rcore_radiocar, rcore_tennis, rodeo, rtx_neonsreloaded, rtx_themepark, rtx_tv, Sollaris, Stellar, v-queue, vanilla, WaveShield, xsound\n",
      "OneSync: enabled\n",
      "Language: English (United States)\n",
      "Tags: 100k or die, 100k, combat, 1v1, low desync, competitive, no desync, shooting, economy, esx, add-ons, ALTf4, gang, friendly, roleplay, custom, police, ems, mechanic, 556, RZRP, RZ, gangs, drugs, cars, jobs, Mighetto, nonwhitelist, fun, Tiktok, RideOrDie, SlimeLyfe, customcars, 187, Roleplay, grizzly world, TMF, redzone, 173rp, 173, sob, sobrp, 6ix, 6ixrp, semi, phone, menace, rags, r2r, 6, egirl, girl, girls, staff, active, discord, streamer, streamer friendly\n",
      "Developers: Snaily & Edvard\n",
      "Discord: discord.gg/mgrp\n",
      "Owner: Realityy5m\n",
      "Store: mighettorp.tebex.io\n",
      "sv_enableNetworkedSounds: 0\n",
      "DLC level: 2699\n",
      "sv_pureLevel: 0\n",
      "can_review: true\n",
      "Owner: MiGhettoRP\n",
      "https://servers-live.fivem.net/servers/icon/8g3ep5/-1227698586.png\n",
      "Server Name: Trappin RP\n",
      "Server ID: 8g3ep5\n",
      "https://servers.fivem.net/servers/detail/8g3ep5\n"
     ]
    },
    {
     "name": "stdout",
     "output_type": "stream",
     "text": [
      "=========================>\n",
      "English (United States)\n"
     ]
    },
    {
     "name": "stderr",
     "output_type": "stream",
     "text": [
      "Resources: _EDA_01, 2p_tequilala, 3DMarket_car_dealerV2, ak47_cannabiscafev2, ak47_cookiesv2, ak47_hookahlounge, ak47_mcdonalds, ak47_popeyes, ak47_usablecookiesv2, as_tequilala, async, bob74_ipl, cfx-flux-hookahv2, cfx-gabz-ammunation, cfx-gabz-mapdata, cfx-gabz-mrpd, cfx-gabz-pdm, cfx-gabz-pdprops, cfx-gabz-prison, cron, cs-hall, cs-stream, discord-screenshot, EDA_BASE, es_extended, esx_addonaccount, esx_basicneeds, esx_context, esx_license, esx_menu_default, esx_menu_dialog, esx_menu_list, esx_society, esx_status, fiv3devs_bahamamamas, fiv3devs_risingsun, fiv3devs_vu, fivem-appearance, generic_texture_renderer_gfx, gksphone, gmm_ganghouse, grappler, heli, interact-sound, loaf_billing, loaf_heist, loaf_housing, loaf_keysystem, loaf_lib, loot_boxes, monitor, myDj, myEmergency, okokBanking, ox_appearance, ox_doorlock, ox_fuel, ox_inventory, ox_lib, oxmysql, patoche_bigbenny_bw, pma-voice, PolyZone, rcore_bowling, rcore_buyradio, rcore_itemradio, rcore_radiocar, renzu_controller, rtx_scenarios, rtx_tv, scaleforms, screenshot-basic, spawnmanager, threads, trappin_adminmenu, trappin_ambulance, trappin_antimoney, trappin_applestore, trappin_autoyard, trappin_bigcustoms, trappin_bikespawners, trappin_blindfold, trappin_bot, trappin_bowling_map, trappin_btkhouse, trappin_builderjob, trappin_carry, trappin_cars, trappin_chat, trappin_comserv, trappin_core, trappin_dealership, trappin_deliverjob, trappin_drugs, trappin_eastcustoms, trappin_emotes, trappin_ffa, trappin_gamble, trappin_ganghood, trappin_ganghouse1, trappin_ganghouse4, trappin_ganghouse5, trappin_gangs, trappin_garage, trappin_garbagejob, trappin_headshots, trappin_hookahlounge, trappin_identity, trappin_lib, trappin_loadingscreen, trappin_mainhospital, trappin_mechanic, trappin_menus, trappin_minerjob, trappin_minigame, trappin_minimap, trappin_multijob, trappin_npc, trappin_pawnshop, trappin_playboimansion, trappin_police, trappin_popeyes, trappin_queue, trappin_radio, trappin_reports, trappin_rob, trappin_sandyhospital, trappin_shells, trappin_stream, trappin_stripclubs, trappin_studio, trappin_supermechanic, trappin_sync, trappin_tebex, trappin_tuner, trappin_ui, trappin_vehsell, trappin_wheels, trapping_outfitbag, uj_cinemavine, webpack, wk_wars2x, xsound, yarn\n",
      "Game type: ESX Legacy\n",
      "Map: San Andreas\n",
      "OneSync: enabled\n",
      "Language: English (United States)\n",
      "Tags: la, grovestreet, 100k, gangs, police, friendly, semi serious, combat, thuglife, seriousrp, serious rp, combat, 1v1, low desync, competitive, no desync, shooting, economy, doj, wockyrp, wocky, add-ons, thug, gang, friendly, lootcrates, roleplay, custom, police, trappin, mechanic, eup, unicorn, cardealer, gangs, drugs, cars, jobs, serious, whitelist, fun, og, trappinrp, realistic, serious roleplay, onesync, customcars,100kordie, 100k or die,esx\n",
      "Developer: BongAppétit / Trase\n",
      "Discord: discord.gg/trappin\n",
      "Owners: JuanReport / Director\n",
      "Store: store.trappin.gg\n",
      "DLC level: 2699\n",
      "sv_pureLevel: 0\n",
      "can_review: true\n",
      "Owner: Legacy-Network\n",
      "https://servers-live.fivem.net/servers/icon/jo7jea/-2003707688.png\n",
      "Server Name: 18+ Deluxe RP #1 SERIOUS RP💚\n",
      "Server ID: jo7jea\n",
      "https://servers.fivem.net/servers/detail/jo7jea\n"
     ]
    },
    {
     "name": "stdout",
     "output_type": "stream",
     "text": [
      "=========================>\n",
      "English (United States)\n"
     ]
    },
    {
     "name": "stderr",
     "output_type": "stream",
     "text": [
      "Resources: 3DMarket_car_dealerV2, 3DMARKET-WareHouse, ABYSS, AK_BatmanBeyond, an_badgeSystem, ap-court, ap-government, as_autoexotic+ds, as365, assets_vehicles, av_boosting, av_laptop, av_racing, Badger_Discord_API, bankprops, baseevents, basic-gamemode, bb-3dme, bcs_questionare, beachfront2, BEANBAGSHOTGUN, bennys, BLAKE, bob74_ipl, breze_fitness, breze_innout, breze_popeyes, brofx_10, BUCKY, burgershot, camaroBB, camaroRB, casinohack, CAVE, CAVE2, CAVE3, CAVEMANROD, cdn-fuel, cfx_gn_ambulance_garage, cfx_gn_collection, cfx-gabz-247, cfx-gabz-ammunation, cfx-gabz-bobcat, cfx-gabz-casino, cfx-gabz-catcafe, cfx-gabz-fleeca, cfx-gabz-mapdata, cfx-gabz-pacificbank, cfx-gabz-pdprops, cfx-gabz-pizzeria, cfx-gabz-prison, cfx-gabz-tuners, Cfx-PablitoModz-Underground-Fight-Club, CHARLIE, chesshack, CHULO, CJ, cm-pausemenu, connectqueue, cookiez, core_evidence, cosa-mlo, cron, DARRYL, DAVID1, DEEZY1, DEEZY2, dim-passhack, dirk-core, dirk-druglabsv2, DiscordAcePerms, DOJV2, dpemotes, drc_mechanic, dv4r, dz-drone, efej, eh_cutscene, electricpumps, emeraldbar, fd-licenses, fd-tradingcards, fibinsur, FiniAC, FiniAP, fiv3devs_bahamamamas, fiv3devs_headquarters, fiv3devs_vu, fivem-appearance, fixelysian, flight-animals, flight-atmprops, flight-atmrobbery, fusti_safezone-main, gabz-sheriff, GARRETT, gazel, GEELOCK1, GEORGE, gl-prison-QB, glow_minigames, GODLY1, Grappler, gwen, h2carbon, hacking, halloween_richards_maps_pack, hedwig_sheriff, HighendLabShells, HILL1, Howdy-Minigame, HulkBusterN, HulkBusterS, Husk_Nautilus, iak_skyclub_v3, indent-engine, indent-jobs, indent-pedlocker, interact-sound, is-logger, Jakers-Pacifc-Heist, jim-catcafe, jim-consumables, jim-innout, jim-jobgarage, jim-mechanic, jim-mining, jim-payments, jim-pizzathis, jim-shops, jim-vanillaunicorn, jixel-bestbuds, jixel-cookies, jixel-whitewidow, JORDAN1, jtdcyber2, k4mb1-oilrig, k4mb1-vjewel, k4mb1shellstarter, KAREEM, kc32ducavr4, kc112kawah2, ks-carry, ks-fps, ks-knockout, ks-staffmode, LabShells, lafitness, lambra-antiCL, LASTCALL, laundry, lb-phone, lb-phone_prop, lightsout, loaf_lib, loot_boxes, lumio-pets, LuxeAnimals, lx-forcedcam, malibumansion, MANDO1, MANDO2, map4all-pawnshop, map4all-wmanifacturing, maploader, mapmanager, MARIO1, MARIO2, mChat, memorygame, menu_default, menuv, MerakiPort, merrycars, meta_libs, mhacking, mHud, mk85, mk85z, mka-lasers, MOJOE1, monitor, ms-peds, MUSIC1, nass_tebexstore, nearest-postal-1.5.3, nh-context, np-comic_store, nui_blocker, numbers, nv_DjDesk, OAK1, Ocean_Medical_Center, okokNotify, ot_weaponrepair, ox_doorlock, ox_inventory, ox_lib, oxmysql, pac, pac_os, packv2, paleto_repair_new2, PAUL, pawnshop, PAYLIX, pddogs, pfej, pk_flightschool_V2, pma-voice, PolyZone, PostMLO, postopstyles, progressbar, ps-dispatch, ps-mdt, ps-microphone, ps-objectspawner, ps-ui, ps-zones, pssj, pug-fishing, qb-admin, qb-adminmenu, qb-ambulancejob, qb-apartments, qb-assets, qb-benny, qb-bobcatheist, qb-cityhall, qb-communityservice, qb-core, qb-crypto, qb-customs, qb-dmv, qb-donovehicleshop, qb-doorlock, qb-garages, qb-idcard, qb-input, qb-interior, qb-keyminigame, qb-lock, qb-lockpick, qb-management, qb-menu, qb-metaldetecting, qb-ox_inventory, qb-pawnsystem, qb-policejob, qb-postop, qb-radialmenu, qb-recyclejob, qb-rentals, qb-scenes, qb-skillbar, qb-smallresources, qb-spawn, qb-target, qb-taxijob, qb-transfer, qb-vehiclefailure, qb-vehiclekeys, qb-vehiclesales, qb-vehicleshop, qb-vineyard, qb-weaponscarry, qb-weathersync, qp-farmer, qs-halloween, qs-housing, quasar_shells, r_pepperspray, rahe-boombox, rcore_arcade, rcore_casino, rcore_guidebook, rcore_infinity_activity, rcore_itemradio, rcore_radiocar, rcore_report, rcore_spray, rcore_spray_assets, rcore_tattoos, rcore_television, real-estate-agency_legion, redzones, Renewed-Banking, rfc_los_santos_airport_fix, rfc_los_santos_customs, rfc_lsmotors, ribbrouge, ribgrove, RICO1, RICO2, RICO3, rm_oilrigheist, rm_vangelicofinal, rtx_fireworks.pack, rtx_themepark, rtx_themepark_objects, safecracker, SAINT1, SAINT2, SALVIE, SCHMOKE6, screenshot-basic, sd-props, SIDALDO, simonsays, SIN, SIN2, SIN5, SIN7, SIN8, SIN9, SIN10, sjcop1, Skateboard, skillbar, smokey_henhouse_lore_fixed, SOSA, spawnmanager, starkmansion, Storage_weed, stylepostop, stylesestate, t1ger_gangsystem, t1ger_lib, ta103ninjah2r, TATE, taxes, ti_fabrication, ti_territories, ti_utils, tn_divo, toxic-mechanic, tv_scaleform, uj_driftzone, ult-mrpd-training, ultra-fingerprint, ultra-voltlab, um-multicharacter, uspstrans, v4sl, VAE1, VAE2, var-password, var-ui, varhack, vehcontrol, VICTOR, vinewoodfloorGarage, vinewoodfloorLSPD, vinewoodfloorMain, vinewoodfloorStairs, vinewoodfloorUG, void_backpacks, VONN, VONN2, VONN3, vrp_2step, vrp_bestbuds, vrp_clothingaddons, vrp_csounds, vrp_custom_weapons, vrp_custom_weapons-new, vrp_custom_weapons-old, vrp_deliverer, vrp_driftcrewclothes, vrp_drugs, vrp_dumpsterdiving, vrp_electrician, vrp_elevators, vrp_extras, vrp_extraseight, vrp_extrasfive, vrp_extrasfour, vrp_extrasone, vrp_extrassix, vrp_extrasthree, vrp_extrastwo, vrp_gangpack, vrp_gangpackv, vrp_garbage, vrp_gunmetas, vrp_loading, vrp_mafiapack, vrp_multijob, vrp_nearestpostal, vrp_postman, vrp_radio, vrp_radiolist, vrp_rentals, vrp_reputation, vrp_showid, vrp_treasurehunter, vrp_windowcleaning, vrp-aircraftshop, vrp-bahama, vrp-bankrobbery, vrp-caseopening, vrp-cloudnine, vrp-dices, vrp-digitalden, vrp-disabled, vrp-djbooth, vrp-emeraldbar, vrp-fitbit, vrp-handsup, vrp-houserobbery, vrp-merryweatherv2, vrp-popeyes, vrp-popupmenus, vrp-powerplant, vrp-storerobbery, vrp-truckrobbery, vrp-vehicleaudio, vrp-vehicleconfig, vrp-walkstyles, WALTER1, WALTER2, WALTER3, warehouse773, webpack, western_mbstore, western_mrpd_2545, wk_wars2x, Wolf-AntiBackdoor, wxmaps-pharmacy, WYLL, xsound, YANMA1, yarn, zdiscord, ZUKO\n",
      "OneSync: enabled\n",
      "Language: English (United States)\n",
      "Tags: roleplay, rp, police, cars, ems, jobs, custom, serious, realistic, discord, economy, lspd, mafia, esx, qbcore, qb-core\n",
      "DLC level: 2699\n",
      "sv_pureLevel: 0\n",
      "can_review: true\n",
      "Owner: Yeezus666\n",
      "https://servers-live.fivem.net/servers/icon/5rbl4a/-1720887984.png\n",
      "Server Name: Viper Roleplay 3.0\n",
      "Server ID: 5rbl4a\n",
      "https://servers.fivem.net/servers/detail/5rbl4a\n"
     ]
    },
    {
     "name": "stdout",
     "output_type": "stream",
     "text": [
      "=========================>\n",
      "English (United States)\n"
     ]
    },
    {
     "name": "stderr",
     "output_type": "stream",
     "text": [
      "Resources: __internal_amb-roxwood-interiors, __internal_amb-roxwood-map, __internal_amb-roxwood-mapdata, __internal_amb-roxwood-traffic, __internal_amb-roxwood-vehicles, 3DMARKET-WareHouse, 22transtd, 2019tacticalak47, acidtrip, addonPets, advanced_vehicles, ak4y-battlepass, amb_roxwood, ap-documents, ap-government, apartments, aps, ar15classics, b407, Badger_Discord_API, baseevents, basic-gamemode, bb-multichar, bcascar1, berettam9, better_wildlife, BigoZ_ViperMaps, billyfamasf1, birdap, blackicecz75, blackicehoneybadger, Blazeit, bob74_ipl, breze_drifttrack, brofx_mansion_03, brofx_mansion_06, brofx_mansion_07, brofx_mansion_08v1v2, brofx_mansion_10, brofx_mansion_14, brofx_villa_05, brother_pulizia_soldi, brum_allprops, bulletcustoms, bumpercar, caph1, casaisolav2, casinohack, cd_dispatch, cd_doorlock, cfx-gabz-247, cfx-gabz-altruists, cfx-gabz-ammunation, cfx-gabz-bahama, cfx-gabz-barber, cfx-gabz-binco, cfx-gabz-bobcat, cfx-gabz-burgershot, cfx-gabz-catcafe, cfx-gabz-hayes, cfx-gabz-mapdata, cfx-gabz-mba, cfx-gabz-pacificbank, cfx-gabz-pdprops, cfx-gabz-ponsonbys, cfx-gabz-prison, cfx-gabz-sandypd, cfx-gabz-scenarios, cfx-gabz-townhall, cfx-gabz-tuners, cfx-gabz-vu, cfx-kcteslap, chainap, chat, clubhouse_paleto, cluckin, codem-trade, cron, cs-hall, cs-stream, datacrack, dealership, diables_hopital, diables_irm, diables_props, diables_radio, DiscordQueue-AdaptiveCards, Dodge_Duran_RGB_Ems, DoItDigital_MLO_Assetpack, DoItDigital_Multiple_Drug_Places, DoItDigital_Recreational_Vehicles_Drug_Places, dolu_vineyard, doublebarrel, DP12, dpclothing, dpemotes, dreamworks, dust2, ebu_boattrailer, ebu_flatbedsv3, ebu_rebtrailers, elwrci, EMS-Ford-Raptor-Jakers, EMS-Ford%20Explorer-Jakers, emsfk8, emsstungun, escladebyv, esh2s, ESR1MS, ESR6S, ESV4SF, ev-hud, evo_beretta_ammunation, fbberylm762, FiniAC, FiniAP, fiv3devs_pacificbluffs, fiv3devs_risingsun-giusto, fiv3devs_thehole, fivem-map-skater, flamingoV1, fnfiveseven, gcmferraripurosangue, gcom_vag633_int, gks_ebay, gks_gotur, gks_racing, gks_rentacar, gksphone, glock18c, Glock19Gen4, gmh_bar, goldtt, grs_rapd, gsthoonitruck1, hacking, hallogrey, hallosilver, halloweenak12, HalloweenPackLeoShop, HalloweenPackLeoShopSaw, HandgunPack, Hane_Colt1911, heavycolt, heli, HelicopterHUD, hexanemaofficiel, hg_harmony_v2, HK-UMP, hk33, hk417, hologramspeed, howdy-hackminigame, hremingtonmsr, hrs_airdrop, hrs_gather, hrs_rp_pack, hunter_smokeonthewater, iak_Armitage_Games_Club, iak_Cartel_Ranch_Project_House, icedoutglock, int_vespmech, interact-sound, ithacam37, jim-payments, Juggernaut_Merc, k4mb1-casino, k4mb1-fleecas, k4mb1-mazebank, k4mb1-vjewel, k4mb1shellstarter, K9_Ped, KC_DriftPlayground, KC_MapProps, kiiya_tunershop, KINETIC, kochg3, komrad12, ks-pausemenu, kvector, LegacyFuel, LeoShopAllWeaponsPack, LeoShopAllWeaponsPackP2, LeoShopChristmasPack, LeoShopEasterPack, LeoShopWeaponsChristmas, lightout, limorover, little-seoul-triads, lockpick, lvc, m6ic, M6IC, M45A1, mac11, magpulpdr, map4all-wmanifacturing, mapmanager, MarkoMods-CHK416, MarkoMods-CTSFOMCX, MarkoMods-G36, MarkoMods-MCX, MarkoMods-RFB, MarkoMods-Vector, max_loftshellv2, MCXRattler, MCXSPEAR, md530, memorygame, menuv, meta_libs, mhacking, MiningCaveMLO, mirrorrestaurantV1V2MKZ, MK47Banshee, mka-lasers, molo_alcatraz, molotvepr12, monitor, MP5, mpa30sst, ms-peds, mwrscarh, NLAW_Addon, NSPEEDO, nui_blocker, NW_fishingGame, nx-k9, okokChatV2, okokContract, okokNotify, okokTalkToNPC, okokTextUI, ox_lib, oxmysql, PatamodsElevatorV2, patoche_ammu2, patoche_bumpercar, patoche_bumpercar_script, patoche_gang, patoche_plasmagame, patoche_plasmagame_dlc, patoche_plasmakart, Pawn_shop, PD_Citation, pdglock, pdstungun, pipe_down_cigar_bar, pitviper, PlasmaCTF, PlasmaGame, PlasmaGun, PlasmaKart, PlasmaMask, PlasmaOrbs, PlasmaSocle, pma-voice, Police-Dodge-Charger-Jakers, Police-Dodge-Demom-Jakers, Police-Ford-Raptor-Jakers, PolyZone, progressbar, progressBars, ps-dispatch, ps-mdt, ps-objectspawner, ps-ui, ps-zones, pug-fishing, purpleruger, purplescarl, qb_gas_station, qb_stores, qb-admin, qb-ambulancejob, qb-apartments, qb-atms, qb-banking, qb-cicicustom, qb-clothing, qb-commandbinding, qb-community-service, qb-core, qb-customs, qb-doorlock, qb-fitbit, qb-garages, qb-hud, qb-input, qb-interior, qb-inventory, qb-keyminigame, qb-lock, qb-lockpick, qb-management, qb-menu, qb-multijob, qb-paperscript, qb-pawnshop, qb-policejob, qb-printer, qb-prison, qb-radialmenu, qb-scoreboard, qb-shops, qb-skillbar, qb-smallresources, qb-spawn, qb-target, qb-varheist, qb-vehiclefailure, qb-vehiclekeys, qb-weapons, qb-weathersync, qs-housing, RageUI, rahe-boosting, rahe-hackingdevice, rahe-racing, rcore_airhockey, rcore_guidebook, rcore_pool, rcore_radiocar, rcore_tattoos, reload-skillbar, renaissancegrot, renaissancemp7, renaissanceremington870, Renrevo, rjz_treehouse, rmodrx7, RollDice, rsh12, RussianWeaponPack, safecracker, samuraiedge, sandviper, scorpion, scorpionevo, screenshot-basic, scully_holster, sd_lib, sh-wingsuit, sigp210, skillbar, snag_weapon_metas-main, solos-methlab, sou_s15, souevohurawb, spawnmanager, SquidGameMap, stg_gamepad, stretcher-model, stretcher-script, Super90, survivorsstrength, SVT-40, SVT-40S, tacticalm4a1, tecc9, tgiann-megaphone, tlux_bench, tmossberg500, trailers, truck_logistics, trucks, twinshiz, type56ak, uj_beanmachine, uj_cayoPerico, uj_cayotoggle, uj_mazebank, utk_fingerprint, utk_hackdependency, uzi, valorant_sky, var-headset, var-password, var-ui, varhack, VictusXMR, VinewoodHillsMansion, vineyard, viper_maps, viper_sounds, viper-aimtraining, viper-arcades, viper-artgalleryheist, viper-badges, viper-bikes, viper-bobcatheist, viper-boombox, viper-cityhall, viper-clothingItems, viper-consolecommands, viper-crafting, viper-custom, viper-deletevehicles, viper-donatordealership, viper-fleecabanks, viper-gangscript, viper-heists, viper-houserobbery, viper-hunting, viper-illegal, viper-lib, viper-loadingscreen, viper-manufacturing, viper-mba, viper-mining, viper-nowljobs, viper-oxyrun, viper-paintball, viper-rental, viper-seatbelt, viper-spikestrips, viper-storerobbery, viper-vineyard, viper-weedplanting, vipercars_additional, vipercars_business, vipercars_class_a, vipercars_class_b, vipercars_class_c, vipercars_class_d, vipercars_class_s, vipercars_class_xz, vipercars_promo, vipercars_service, viperclothing, viperpro, ViperWeapons1, ViperWeapons1of1, ViperWeaponsMain, ViperWeaponsPromo, vns-roulette, vns-slots, vns-track, vns-wheel, vomfeuercarbine, voodoo_dooballoo, voodoo_festruck, voodoo_vwfoodtruck, VSCO, vss, waltherppk, watchmen, webpack, weed_land_coffee_shop_by_malipita, wert-camera, western_oilrig, western_tunershop_2545, winchestermodel1897, wk_wars2x, workshop_mlo_v3, wscythe, xm177, xsound, xtxvxtx_mechanics_tools_weapons, yarn, zdiscord, zerio-radio\n",
      "Game type: Freeroam\n",
      "Map: fivem-map-skater\n",
      "OneSync: enabled\n",
      "Language: English (United States)\n",
      "Tags: roleplay, serious, seriousrp, rp, police, ems, discord, economy, gangs, jobs, qbcore, qb-core, custom drugs, custom drip, racing, custom racing, custom maps, exclusice maps, mlo, mlos, custom mlo, custom maps, exclusive maps, funkopops, funko, pop, phone, custom phone, iphone, appstore, tinder, groupchats, video calls\n",
      "Current Queue: Test 0\n",
      "Developer: Ciccioarmory#7050\n",
      "Reserved Slots: Test 2\n",
      "DLC level: 2699\n",
      "sv_pureLevel: 0\n",
      "can_review: true\n",
      "Owner: loudmaurice\n",
      "https://servers-live.fivem.net/servers/icon/n495yq/1783666819.png\n",
      "Server Name: REVOADA RJ ⌠#WIPOU + VIP GRÁTIS⌡🌈\n",
      "Server ID: n495yq\n",
      "https://servers.fivem.net/servers/detail/n495yq\n"
     ]
    },
    {
     "name": "stdout",
     "output_type": "stream",
     "text": [
      "=========================>\n",
      "English (United States)\n"
     ]
    },
    {
     "name": "stderr",
     "output_type": "stream",
     "text": [
      "Resources: cfx-nikit0-weapons-1, chat, core_misc, core_roubos, de_mirage, dom_module, favelaskillua, lafy, mirtin_craft_v2, mirtin_dominacao, mirtin_esc, mirtin_homes, mirtin_survival, MQCU, neons, oxmysql, painel_hospital, pma-voice, revoada_arena, revoada_arsenal, revoada_bank, revoada_call, revoada_carros, revoada_char, revoada_dealership, revoada_defuse, revoada_facs, revoada_garages, revoada_hud, revoada_interactions, revoada_inventory, revoada_jobs, revoada_mapas, revoada_mdt, revoada_module, revoada_newbox, revoada_painel, revoada_pvp, revoada_recruitment, revoada_robberies, revoada_roupas, revoada_skinshop, revoada_sound, revoada-devolution, scanner, skinweapon, smartphone, smartphone-jobs, tunning, vrp, vrp_admin, vrp_barbershop, vrp_fanho, vrp_legacyfuel, vrp_notifypush, vrp_sounds, vrp_taskbar, vrp_tattoos, vrp_tencode, vrpserver, xsound, zo_attachs\n",
      "OneSync: enabled\n",
      "Language: Portuguese (Brazil)\n",
      "Tags: br,vrp\n",
      "Desenvolvedor: Killua#0001\n",
      "Discord: discord.gg/revoadarj\n",
      "DLC level: Los Santos Tuners\n",
      "sv_pureLevel: 0\n",
      "Owner: Paulo_Ricardo\n",
      "https://servers-live.fivem.net/servers/icon/r3ma3p/-946592888.png\n",
      "Server Name: Space Roleplay »» FACS LIVRES ««😈\n",
      "Server ID: r3ma3p\n",
      "https://servers.fivem.net/servers/detail/r3ma3p\n"
     ]
    },
    {
     "name": "stdout",
     "output_type": "stream",
     "text": [
      "=========================>\n",
      "Portuguese (Brazil)\n"
     ]
    },
    {
     "name": "stderr",
     "output_type": "stream",
     "text": [
      "Resources: chat, dominacao, dynamic, extras, hud, hv-arsenal, inventory, lafy, MQCU, multar, nation_bennys, nyo_modules, others_module, oxmysql, pma-voice, polyzones, radio, residences, smartphone, space_roupas, space-arena, space-backup, space-banco, space-core, space-creator, space-dash, space-devtools, space-dismantle, space-dominate, space-doors, space-farm, space-global, space-jobs, space-logs, space-maps, space-module, space-others, space-routes, space-services, space-shop, space-status, space-vehicles, space-vehicles2, SpaceDP, SpaceHospital, SpaceMecanica, SpaceSpawn, tv, vrp, vrp_sounds, vrpserver\n",
      "OneSync: enabled\n",
      "Language: Portuguese (Brazil)\n",
      "Tags: SPACE, Roleplay, Whitelist, BR, Portugues, RP, Carros, Police, Paramedico, VRPEX, Trabalhos,vrp\n",
      "Discord: discord.gg/spacerp\n",
      "DLC level: Los Santos Tuners\n",
      "sv_pureLevel: 0\n",
      "Owner: Space_Group\n",
      "https://servers-live.fivem.net/servers/icon/x43r9m/1639510549.png\n",
      "Server Name: NEXUS ROLEPLAY OFICIAL😈\n",
      "Server ID: x43r9m\n",
      "https://servers.fivem.net/servers/detail/x43r9m\n"
     ]
    },
    {
     "name": "stdout",
     "output_type": "stream",
     "text": [
      "=========================>\n",
      "Portuguese (Brazil)\n"
     ]
    },
    {
     "name": "stderr",
     "output_type": "stream",
     "text": [
      "Resources: 4fun_conce, 4fun_dominacao, 4fun_games, 4fun_pausemenu, 4fun_roupas, agency, chat, cinematiccam, cs-hall, dynamic, eg_policia, fun_modules, helicrash, lafy, memory, monitor, MQCU, NativeUI, nexus_mapas, nexusrp_carros, notifycall, np-taskbarskill, nxgroup_connection, nxgroup_ilegal, nxgroup_inv, nxgroup_spawn, nxgroup_tempban, nxgroup_tv, nxgroup-bank, nxgroup-box, nxgroup-character, nxgroup-id, nxgroup-script, nxgroup-skin, nxgroup-survival, oxmysql, pma-voice, PolyZone, races, radio, skillbar, smartphone, smartphone-jobs, spreadst_api, target, vipsdonate, vrp, vrp_admin, vrp_animacoes, vrp_homes, vrp_policia, vrpserver\n",
      "OneSync: enabled\n",
      "Language: Portuguese (Brazil)\n",
      "Tags: vrp,vrp\n",
      "Discord: discord.gg/nexusrp\n",
      "DLC level: Los Santos Tuners\n",
      "sv_pureLevel: 0\n",
      "Owner: nexus2023\n",
      "https://servers-live.fivem.net/servers/icon/zq4ayd/-7717112.png\n",
      "Server Name: FLOW ROLEPLAY #WIPOU🌈\n",
      "Server ID: zq4ayd\n",
      "https://servers.fivem.net/servers/detail/zq4ayd\n"
     ]
    },
    {
     "name": "stdout",
     "output_type": "stream",
     "text": [
      "=========================>\n",
      "Portuguese (Brazil)\n"
     ]
    },
    {
     "name": "stderr",
     "output_type": "stream",
     "text": [
      "Resources: arena, arsenal, assault, backup, bank, barbershop, boneco, carros_flow, chat, clothes, conce, core, craft, discord-screenshot, dom_module, doorsv2, dynamic, emp_business, extras, facs, fivem-master, flow-logs, garages, groups, horas, hub, hud_flow, identity, inventory, jobs, lafy, leads, mapas_flow, mdt, mirtin_bans, mirtin_snippets, misc, MQCU, nation_bennys, notify, notify_police, notifyimage, notifypush, oxmysql, pma-voice, pontos, progressbar, races, radio_list, radio_mirtin, residences, roubos, roupas_flow, routes, safe-zone, screenshot-basic, security, setgroup, shk_dismantle, skillbar, smartphone, smartphone-jobs, sounds, spawn, survival, tattoo, testes, vini_module, vrp, vrp_business, vrp_oxmysql, vrpserver, zo_attachs\n",
      "OneSync: enabled\n",
      "Language: Portuguese (Brazil)\n",
      "Tags: brasil,rp,vrp,vrp\n",
      "Discord: discord.gg/flowrp\n",
      "Mapa: Los Santos\n",
      "DLC level: Los Santos Tuners\n",
      "sv_pureLevel: 0\n",
      "Owner: pixel_noway\n",
      "https://servers-live.fivem.net/servers/icon/99vvlm/-1388334916.png\n",
      "Server Name: FLUXO ROLEPLAY OFICIAL #WIPE🌈\n",
      "Server ID: 99vvlm\n",
      "https://servers.fivem.net/servers/detail/99vvlm\n"
     ]
    },
    {
     "name": "stdout",
     "output_type": "stream",
     "text": [
      "=========================>\n",
      "Portuguese (Brazil)\n"
     ]
    },
    {
     "name": "stderr",
     "output_type": "stream",
     "text": [
      "Resources: arena, arsenal, assault, backup, bank, barbershop, boneco, carros, chat, clothes, conce, core, craft, ctx_arma, dom_module, doorsv2, dynamic, emp_business, extras, facs, fivem-master, fluxo-logs, garages, groups, horas, hub, hud_fluxo, identity, inventory, jobs, lafy, leads, logs, mapas, mdt, mirtin_bans, mirtin_snippets, misc, MQCU, nation_bennys, notify, notify_police, notifyimage, notifypush, oxmysql, pma-voice, pontos, progressbar, races, radio_list, radio_mirtin, residences, roubos, roupas, routes, safe-zone, security, setgroup, shk_dismantle, skillbar, smartphone, smartphone-jobs, sounds, spawn, survival, tattoo, testes, trajes, vini_module, vrp, vrp_business, vrpsv, zo_attachs\n",
      "OneSync: enabled\n",
      "Language: Portuguese (Brazil)\n",
      "Tags: roleplay,rp,vrp,vrp\n",
      "Discord: discord.gg/fluxorp\n",
      "Mapa: Los Santos\n",
      "DLC level: Los Santos Tuners\n",
      "sv_pureLevel: 0\n",
      "Owner: pixel_noway\n",
      "https://servers-live.fivem.net/servers/icon/6b5ro7/1370411533.png\n",
      "Server Name: Trappin NYC NEW UPDATE🗽\n",
      "Server ID: 6b5ro7\n",
      "https://servers.fivem.net/servers/detail/6b5ro7\n"
     ]
    },
    {
     "name": "stdout",
     "output_type": "stream",
     "text": [
      "=========================>\n",
      "Portuguese (Brazil)\n"
     ]
    },
    {
     "name": "stderr",
     "output_type": "stream",
     "text": [
      "Resources: 17mov_Deliverer, 17mov_GarbageCollector, 17mov_TVEsx, ak47_cannabiscafe, ak47_chickfila, ak47_cookiesv2, ak47_dominos, ak47_hookahlounge, ak47_idcard, ak47_mcdonalds, ak47_moneywash, ak47_prospecting, ak47_taco, ak47_usablecookiesv2, ak47_wingstop, ap-court, async, av_laptop, av_music, bb-dices, Boy-black7, Boy-Black15, Boy-Black17, Boy-black19, Boy-black23, Boy-black25, BoyPed, Buty-WaterActivities, cd_carhud, cd_easytime, childmale11a, childmale12a, childmale16d, core_dispatch, cron, cs_multijob, dannys_ped, datacrack, devcore_smokev2, DK-boy, doors_creator, EDA_BASE, el_bwh, electric-skateboard, Eloisa-girl, envi-sabotage, es_extended, esx_addonaccount, esx_addoninventory, esx_basicneeds, esx_context, esx_identity, esx_menu_default, esx_menu_dialog, esx_menu_list, esx_multicharacter, esx_society, esx_status, fivem-appearance, fivem-map-skater, Girl_Casual21, gks_ebay, gks_gotur, gks_racing, gks_rentacar, gksphone, hss_props_de, HSS-247Bronx, HSS-Chick-FilaQ, HSS-CountryIsland-NY-UCM, HSS-CourtV2, HSS-GasStationQueens, HSS-GunStore-NY-CIM, HSS-Gym-NY, HSS-New247, HSS-RoadCM-NY, HSS-RoadCM-NY-2, HSS-X5247NY, interact-sound, Jordan-Boy2, k_chopshop, K_FRAUDATMS, K_FRAUDPROPS, K_FRAUDSHOPS, K_FRAUDV2, KikiBeigeGirl, liberty_props_de, loaf_billing, loaf_garage, loaf_housing, loaf_keysystem, loaf_lib, lockpick, loot_boxes, Madalena-girl, menuv, monitor, MusicEverywhere, myDj, myEmergency, myVending, nad_rockstar, okokBanking, okokBilling, OT_skills, OT_weaponrepair, ox_doorlock, ox_inventory, ox_lib, ox_target, oxmysql, pd_outfit_theft, pd-safe, pma-voice, PolyZone, radio, rcore_arcade, rcore_bowling, rcore_drunk, rcore_radiocar, rcore_spray, rcore_spray_assets, rcore_television, robberies_creator, RTX_Gym, SosaTankPed1, spawnmanager, SpeedLimiter, stancetuning, swanpedalo, TaliahPed1, trappin_adminmenu, trappin_applestoreMLO, trappin_bags, trappin_bennysMLO, trappin_bot, trappin_carmenu, trappin_catCafeMLO, trappin_chat, trappin_clothes, trappin_clothing, trappin_club77MLO, trappin_comserv, trappin_cookiesMLO, trappin_cookiesv2MLO, trappin_core, trappin_criminalBarnMLO, trappin_CTSFOMCXWEAPON, trappin_dealership, trappin_drugs, trappin_dunkinMLO, trappin_eastcustomsMLO, trappin_emotes, trappin_fleecaMLO, trappin_forestMLO, trappin_forumdriveMLO, trappin_g17WEAPON, trappin_gaminghubMLO, trappin_gangHideoutMLO, trappin_gangs, trappin_glock19, trappin_grooveMLO, trappin_hardwareStoreMLO, trappin_hillsMansionMLO, trappin_hookahV2MLO, trappin_hospitalMLO, trappin_hospitals_map, trappin_hud, trappin_hustlersUndergroundMLO, trappin_iceboxMLO, trappin_jail, trappin_kickgameMLO, trappin_laundreyMLO, trappin_lib, trappin_libertyWalk, trappin_licensecenterMLO, trappin_loadingscreen, trappin_luxuryAutosMLO, trappin_maisonetteMLO, trappin_malibuMansionMLO, trappin_mcdonaldsMLO, trappin_mechanic, trappin_mechanicv2MLO, trappin_methMLO, trappin_minigolf, trappin_minigolfMLO, trappin_mining, trappin_mp5WEAPON, trappin_mp9WEAPON, trappin_mpx, trappin_mtm4WEAPON, trappin_nikkiMLO, trappin_nypd_map, trappin_nypdcars, trappin_oneofones, trappin_P226WEAPON, trappin_pacificbankMLO, trappin_paletomechanicMLO, trappin_pets, trappin_plasmagameMLO, trappin_queue, trappin_redcircleMLO, trappin_salonMLO, trappin_secretweedMLO, trappin_security, trappin_shells, trappin_shops_map, trappin_skybarMLO, trappin_slots, trappin_starbucksMLO, trappin_storeMLO, trappin_stream, trappin_stripclub, trappin_tacobellMLO, trappin_tattooMLO, trappin_tuner, trappin_tunerMLO, trappin_uzi, trappin_vp9, trappin_warehouseMLO, trappin_weaponlaser, trappin_weapons, trappin_weazelnewsMLO, trappin_whitewidowMLO, trappin_wingstopMLO, trappin_wingwangMLO, trappin_youtoolMLO, trpnyc-carpack, tv_scaleform, ultra-keypackhack, utk_fingerprint, utk_hackdependency, wasabi_ambulance, wasabi_backpack, wasabi_boombox, wasabi_bridge, wasabi_carlock, wasabi_crutch, wasabi_evidence, wasabi_multijob, wasabi_police, WaterPed1, webpack, wheels, wheels2, windsurf, wk_wrs, x-radiolist, xsound, yarn, zm_eroticmenu, zm_lovemenu\n",
      "Game type: ESX Legacy\n",
      "Map: San Andreas\n",
      "OneSync: enabled\n",
      "Language: English (United States)\n",
      "Tags: liberty, nyc, roleplay, gangs, police, friendly, semi serious, combat, thuglife, seriousrp, serious rp, combat, 1v1, low desync, competitive, no desync, shooting, economy, doj, wockyrp, wocky, add-ons, thug, gang, friendly, lootcrates, roleplay, custom, police, trappin, mechanic, eup, unicorn, cardealer, gangs, drugs, cars, jobs, serious, whitelist, fun, og, trappinrp, realistic, serious roleplay, onesync, customcars,semi, 100k or die,esx\n",
      "Developer: Discord.gg/trase\n",
      "Discord: discord.gg/trpnyc\n",
      "DLC level: 2612\n",
      "sv_pureLevel: 0\n",
      "can_review: true\n",
      "Owner: JuanReport\n",
      "https://servers-live.fivem.net/servers/icon/yk9l85/2096107929.png\n",
      "Server Name: Disney Roleplay »» WIPE HOJE🏰\n",
      "Server ID: yk9l85\n",
      "https://servers.fivem.net/servers/detail/yk9l85\n"
     ]
    },
    {
     "name": "stdout",
     "output_type": "stream",
     "text": [
      "=========================>\n",
      "English (United States)\n"
     ]
    },
    {
     "name": "stderr",
     "output_type": "stream",
     "text": [
      "Resources: chat, dominacao, dynamic, extras, games, hud, hv-arsenal, inventory, lafy, MQCU, multar, nation_bennys, nyo_modules, others_module, oxmysql, pma-voice, polyzones, radio, residences, smartphone, space_roupas, space-arena, space-backup, space-banco, space-core, space-creator, space-dash, space-devtools, space-dismantle, space-dominate, space-doors, space-farm, space-global, space-jobs, space-logs, space-maps, space-module, space-others, space-routes, space-services, space-shop, space-status, space-vehicles, space-vehicles2, SpaceDP, SpaceHospital, SpaceMecanica, SpaceSpawn, tv, vrp, vrp_sounds, vrpserver\n",
      "OneSync: enabled\n",
      "Language: Portuguese (Brazil)\n",
      "Tags: SPACE, Roleplay, Whitelist, BR, Portugues, RP, Carros, Police, Paramedico, VRPEX, Trabalhos,vrp\n",
      "Discord: discord.gg/disneyrp\n",
      "DLC level: Los Santos Tuners\n",
      "sv_pureLevel: 0\n",
      "Owner: Space_Group\n",
      "https://servers-live.fivem.net/servers/icon/w9am8b/-105345970.png\n",
      "Server Name: BAHAMAS ROLEPLAY »» ABRIU HOJE ««🌈\n",
      "Server ID: w9am8b\n",
      "https://servers.fivem.net/servers/detail/w9am8b\n"
     ]
    },
    {
     "name": "stdout",
     "output_type": "stream",
     "text": [
      "=========================>\n",
      "Portuguese (Brazil)\n"
     ]
    },
    {
     "name": "stderr",
     "output_type": "stream",
     "text": [
      "Resources: bahamas_arena, bahamas_box, bahamas_call, bahamas_carros, bahamas_char, bahamas_facs, bahamas_hud, bahamas_interactions, bahamas_inventory, bahamas_jobs, bahamas_mapas, bahamas_mdt, bahamas_module, bahamas_recruitment, bahamas_robberies, bahamas_roupas, bahamas_skinshop, chat, christmas, core_misc, core_roubos, crz_arsenal, dom_module, dominacao, favelaskillua, furia_painel, furia_sound, lafy, mirtin_homes, mirtin_survival, MQCU, neons, oxmysql, painel_hospital, pma-voice, races, scanner, smartphone, smartphone-jobs, tunning, vrp, vrp_admin, vrp_barbershop, vrp_fanho, vrp_legacyfuel, vrp_notifypush, vrp_sounds, vrp_taskbar, vrp_tattoos, vrp_tencode, vrpserver, xsound, zo_attachs\n",
      "OneSync: enabled\n",
      "Language: Portuguese (Brazil)\n",
      "Tags: br,vrp\n",
      "Desenvolvedor: Killua#0001\n",
      "Discord: discord.gg/bahamasofc\n",
      "DLC level: Los Santos Tuners\n",
      "sv_pureLevel: 0\n",
      "Owner: Paulo_Ricardo\n",
      "https://servers-live.fivem.net/servers/icon/p4xb68/-462112059.png\n",
      "Server Name: ICON ROLEPLAY CARRO VIP + KIT INICIAL😈\n",
      "Server ID: p4xb68\n",
      "https://servers.fivem.net/servers/detail/p4xb68\n"
     ]
    },
    {
     "name": "stdout",
     "output_type": "stream",
     "text": [
      "=========================>\n",
      "Portuguese (Brazil)\n"
     ]
    },
    {
     "name": "stderr",
     "output_type": "stream",
     "text": [
      "Resources: Arena_Armas, arena_morte, Arena_muniarmas, Arena_Rotas, big_cloack, BjornJBL, casino, cayoperico, celular, chat, cl, core_connection-master, danike_antivdm, discord-screenshot, diversidades, dk, dope_bennys, dp_rev, dpn_inventory_chest, dpn_notify, eg_reward, energy_novato, eunovostodos, five_setgroup, fivem, fivem-map-hipster, fluxo_servico, gConnect, heyy_imobiliaria, hv-arsenal, hv-notify, icon_pier, imoveis, imperio_hud, loading, loaf_tv, lux-vehcontrol, map_farm, map_geral, map_interiores, mapasaopaulo, mapmanager, mengazo_basics, mengazo_panel, mengazo_whitelist, mhacking, mirtin_snippets, motosronco, MusicEverywhere, nation_barbershop, nation_concessionaria, nation_creator, nation_garages, nation_paintball, nation_skinshop, nation_tattoos, oxmysql, pack-rodas, PackVeiculos, Patachute, peds, pma-voice, radio, rcore_pool, roupas_torcidas, screenshot-basic, smartphone, smartphone-jobs, spawnmanager, TaylorinStore_LogKill, thor_transportadora, vrp, vrp_admin, vrp_bank, vrp_carregar, vrp_creative, vrp_empregos, vrp_hospital, vrp_hoverfy, vrp_itemdrop, vrp_lavagem, vrp_legacyfuel, vrp_notifycall, vrp_oxmysql, vrp_player, vrp_policia, vrp_roubobanco, vrp_roupas, vrp_trabalhos, vrp_trafico, vrp_vehmenu, vsIdentidade, wnAnuncio, ws-desmanche, xsound, zo_adminmenu, zo_attachs, zo_cars, zo_escmenu, zo_porte, zo_relacionamento\n",
      "Game type: Freeroam\n",
      "Map: fivem-map-hipster\n",
      "OneSync: enabled\n",
      "Language: Portuguese (Brazil)\n",
      "Tags: ^2 ICON ROLEPLAY^2 , Vagas, CIDADE ALTA, CarrosBR, Armas, Facções, Policia MILITAR, Primavera, PAULINHO, OLOCO , LOCO,discord https://discord.gg/u2uTMAFPhP,vrp\n",
      "Discord: discord.gg/u2uTMAFPhP\n",
      "Fundador: Daniel Ferreira,\n",
      "Mapa: TEMA PROPIO\n",
      "base: ^2 ICON ROLEPLAY CARRO VIP + KIT INICIAL^2\n",
      "DLC level: Los Santos Tuners\n",
      "sv_pureLevel: 0\n",
      "Owner: guedes22\n",
      "https://servers-live.fivem.net/servers/icon/e3xz9b/-195477001.png\n",
      "Server Name: DynastyRP 18+\n",
      "Server ID: e3xz9b\n",
      "https://servers.fivem.net/servers/detail/e3xz9b\n"
     ]
    },
    {
     "name": "stdout",
     "output_type": "stream",
     "text": [
      "=========================>\n",
      "Portuguese (Brazil)\n"
     ]
    },
    {
     "name": "stderr",
     "output_type": "stream",
     "text": [
      "Resources: Agea59_Paleto_car_dealership, ak47_qb_taco, AntiCheeseAntiCheat, aodmcpack, armboss_ped, baseevents, basic-gamemode, bb-dices, bbv-interactbutton, BCall_progress, Bikes, bob74_ipl, brightdealership, Buty_InfiniteJobs, CarPack1, CarPack2, cd_donatorshop, cd_drawtextui, cd_garage, cd_garageshell, cd_keymaster, cfx-gabz-247, cfx-gabz-ammunation, cfx-gabz-arcade, cfx-gabz-barber, cfx-gabz-beanmachine, cfx-gabz-binco, cfx-gabz-bobcat, cfx-gabz-bowling, cfx-gabz-burgershot, cfx-gabz-carmeet, cfx-gabz-casino, cfx-gabz-catcafe, cfx-gabz-davispd, cfx-gabz-diner, cfx-gabz-esbltd, cfx-gabz-harmony, cfx-gabz-haters, cfx-gabz-koi, cfx-gabz-lost, cfx-gabz-lscustoms, cfx-gabz-mapdata, cfx-gabz-marabunta, cfx-gabz-mirrorpark1, cfx-gabz-mirrorpark2, cfx-gabz-ottos, cfx-gabz-paletobank, cfx-gabz-paletocamp, cfx-gabz-paletoliquor, cfx-gabz-pdprops, cfx-gabz-pillbox, cfx-gabz-pizzeria, cfx-gabz-ponsonbys, cfx-gabz-prison, cfx-gabz-sandypd, cfx-gabz-scenarios, cfx-gabz-suburban, cfx-gabz-tattoo, cfx-gabz-townhall, cfx-gabz-weedcamp, cfx-ies-gentlemens-manor, chat, clubhouse_harmony, core_evidence, cr-blips, creativehouse, cs-boombox, cs-earthquake, custom_ped, DaedricArmor, Dc-picking, demons, devyn-backitems, dpemotes, drc_unicornV2, dyn_loading, dynasty_antilag, dynasty_apartment_shell, dynasty_arena, dynasty_artheist, dynasty_Banham_Montain_Complex, dynasty_blue_farmhouse, dynasty_chalet1086_t4, dynasty_chat, dynasty_chat-theme, dynasty_church, dynasty_cobalt, dynasty_crouch-crawl, dynasty_dragstrip3037, dynasty_drone, dynasty_editor, dynasty_elite_vinewood, dynasty_farmhouse_homestead, dynasty_fastlane3052, dynasty_flatbeds, dynasty_fleecaheist, dynasty_forgery, dynasty_fuel, dynasty_grove9102_t3, dynasty_gym, dynasty_highschool, dynasty_int_beachcon8207_t3, dynasty_k4mb1_ModernHouse6139_t4, dynasty_k4mb1_VinewoodHillsHouse2_6065_t4, dynasty_k4mb1_WestonsMansion5021_t4, dynasty_knockout, dynasty_laundry, dynasty_liaisonmansion, dynasty_littlehouse_mtGordo_t3, dynasty_littleseoul, dynasty_lks_blackhouse6150_t3, dynasty_lux7073, dynasty_madrazo, dynasty_mafia, dynasty_malibu_t4, dynasty_mansion_03_t4, dynasty_mansion_06_t4, dynasty_mansion_07_t4, dynasty_mansion_08_t4, dynasty_mansion_09_t4, dynasty_mansion_10_t4, dynasty_mansion_11_t4, dynasty_mansion_12_t4, dynasty_mansion_13_t4, dynasty_mansion_14_t4, dynasty_mansion_15_t4, dynasty_mansion_16_t4, dynasty_mansion_18_t4, dynasty_mansion_19_t4, dynasty_mansion_20_t4, dynasty_marabunta9342_t3, dynasty_mystc_house6130_t3, dynasty_pacificbluff, dynasty_pacificheist, dynasty_patoche_archihomeQ_t4, dynasty_peckerwood, dynasty_practice, dynasty_realty6189, dynasty_redlinemuscle8143, dynasty_redlinep8144, dynasty_risingsun7204, dynasty_scenes, dynasty_secret_bossroom_10091, dynasty_shoes, dynasty_shoprobbery, dynasty_statushud, dynasty_sunrise_vinewood, dynasty_taco, dynasty_taxi7295, dynasty_vangelicofinal, dynasty_vanheist, dynasty_vape, dynasty_villa_01_t4, dynasty_villa_02_t4, dynasty_villa04_t4, dynasty_villa05_t4, dynasty_villa7057_t4, dynasty_vinewood, dynasty_white_mansion7155_t4, dynasty_whitewidows7191, dynasty_zerotrust, dynasty-3dme, dynasty-beanmachine, dynasty-bobcat, dynasty-burgershot, dynasty-catcafe, dynasty-chairs, dynasty-containers, dynasty-lumberjack, dynasty-mechanic, dynasty-methcar, dynasty-mining, dynasty-miningcave, dynasty-notepad, dynasty-PacificBank, dynasty-pd-clothing, dynasty-pizzathis, dynasty-plates, dynasty-popsdiner, dynasty-queue, dynasty-recycle, dynasty-robmeter, dynasty-shops, dynasty-vending, dynasty-vjewel, dynasty-walkingstyle, dynasty-warehouse, dynasty-weapons, dynastyrimpack, ed_narcohideouts, ElectricSkateboard, Enginesounds, entitysets, eup-stream, EventCars, fiv3devs_galaxy, fivem-map-skater, FreeClothes, generic_texture_renderer_gfx, gks_racing, gks_rentacar, gksphone, glow_minigames, grappler, gutso-jewelry, hacking, hamz-panel, hostage, illenium-appearance, interact-sound, ipls_resource, JD_logs, jim-bars, jim-consumables, jim-payments, jixel-whitewidow, k4mb1shellstarter, kael-japanese, karma_cargo, karma_cooldown, karma_scripts, karma-purge, karma-ss, kevin-banktrucks, kevin-weedprocessing, kevin-weedruns, KLib, lambra-antiCL, lj-inventory, lockpick, LSIAAircraft, lumio-pets, m-Fishing, map, mapmanager, memorygame, MenuAPI, menuv, meta_libs, mhacking, minimap_cayo, mk-laundering, mobilespike, monitor, mpireboyz_poker, mpireboyz_roulette, mythic_notify, NativeUI, nc-rental, nh-context, Noir-Pilot, okokBanking, okokBilling, okokContract, okokCrafting, okokNotify, okokReports, okokRequests, okokTextUI, ox_lib, oxmysql, patoche_benny_bw, PaysoChain, petshop_map, pma-sirensync, pma-voice, Police, PolyZone, progressbar, ps-buffs, ps-dispatch, ps-hud, ps-mdt, ps-microphone, ps-multijob, ps-ui, ps-zones, qb_tk_npcrobbery, qb-ambulancejob, qb-apartments, qb-atms, qb-busjob, qb-cityhall, qb-commandbinding, qb-core, qb-crypto, qb-customs, qb-diving, qb-djbooth, qb-doorlock, qb-drugs, qb-extras, qb-fitbit, qb-garbagejob, qb-hotdogjob, qb-input, qb-interior, qb-keyminigame, qb-lapraces, qb-lock, qb-lockpick, qb-management, qb-mechanicjob, qb-menu, qb-multicharacter, qb-newsjob, qb-pawnshop, qb-policejob, qb-printer, qb-radialmenu, qb-randombox, qb-safe, qb-scoreboard, qb-scrapyard, qb-sit, qb-skillbar, qb-smallresources, qb-sna-flightschool, qb-spawn, qb-streetraces, qb-target, qb-taxijob, qb-towjob, qb-traphouse, qb-truckerjob, qb-tsunami, qb-vehiclefailure, qb-vehiclesales, qb-vehicleshop, qb-vineyard, qb-weapons, qb-weathersync, qs-housing, quasar_shells, radio, rconlog, rcore_arcade, rcore_bowling, rcore_casino, rcore_casino_assets, rcore_drunk, rcore_gangs, rcore_pool, rcore_prison, rcore_prison_models_gabz, rcore_radiocar, rcore_spray, rcore_spray_assets, rcore_tattoo, rcore_television, relisoft_tag, reload-skillbar, Renewed-Weaponscarry, richards_offstore_halloweendecoration, rm_kidnapping, RmodPack1, RmodPack2, rsd_luckywheels, rupert_ped, rz_adminextras, safecracker, screenshot-basic, skillbar, smarttaser, snipe-menu, souda-straw, spawnmanager, starchase, t0sic_loadingbar, TaxiCabs, TrainingFacility, traphouse, tv_scaleform, uj_svalka, uj_VESP, Utility, utk_fingerprint, utk_hackdependency, vehcontrol, vstancer, webpack, wedding_observatory, weddingatire, wizating_airlift, wizating_bendpaks, wizating_laptop, wizating_lostheist, wizating_trailer, wk_wars2x, xsound, yarn, YKZClothing, zerio-radio, zf_context\n",
      "Game type: Freeroam\n",
      "Map: fivem-map-skater\n",
      "OneSync: enabled\n",
      "Language: English (United States)\n",
      "Tags: rp, new players, police, ems, cars, serious, allowlist, whitelist, economy, jobs\n",
      "Discord: discord.gg/dynastyroleplay\n",
      "Tebex: dynasty-empire.tebex.io\n",
      "DLC level: 2802\n",
      "sv_pureLevel: 0\n",
      "can_review: true\n",
      "Owner: YellowBusRidin\n",
      "https://servers-live.fivem.net/servers/icon/bebjjp/2070648847.png\n",
      "Server Name: 18+ Power RP 3.0 #1 SUPER SERIOUS⚡\n",
      "Server ID: bebjjp\n",
      "https://servers.fivem.net/servers/detail/bebjjp\n"
     ]
    },
    {
     "name": "stdout",
     "output_type": "stream",
     "text": [
      "=========================>\n",
      "English (United States)\n"
     ]
    },
    {
     "name": "stderr",
     "output_type": "stream",
     "text": [
      "Resources: 3DMARKET-WareHouse062, 17mov_BuilderJob, 17mov_Deliverer, 17mov_Electrician, 17mov_FpsBooster, 17mov_GarbageCollector, 17mov_Postman, 17mov_TreasureHunter, 17mov_WindowCleaning, agerasound, ak4y-multicharacter, amg1eng, amgone, ap-court, ap-government, aq2jzgterace, aq14nisvq37vhrt, aq36hyutheta2n, aq42chedrag427, aq46forgtebv6, aq48roln72v12, aqls7raceswap, aqtoy2jzstock, ArmySoldieryachtclub, aston59v12, av_laptop, av_music, avtr, babymale185c, Badger_Discord_API, baseevents, basic-gamemode, Bayer_4CSL, bcs_questionare, BigoZ_GunShop575, BigoZ_WeedShop, bikesoundforRoy, BMWM3TOURING, bmwn55, bmws1krreng, bnr34ffeng, bob74_ipl, boii-salvagediving, boii-whitewidow, breze_mafiamansion_393, brnx_hautenightclub-623, brofx_10, brofx_mansion_03_beverly, brofx_mansion_07-449, brofx_mansion_08v1v2, brofx_mansion_11, brofx_mansion_15, brofx_mansion_16, brofx_mansion_17, brofx_mansion_19, brofx_mansion_rockford, brofx_villa05_464, brofx6, brutal_babys, BugattiMistral, bzzz_restaurantfood, capozzo-auto, cd_easytime, cdn-fuel, cfx_gn_bw_saloon, cfx_gn_cluckin_rockford, cfx-gabz-altruists, cfx-gabz-ammunation, cfx-gabz-atom, cfx-gabz-bahama, cfx-gabz-bennys, cfx-gabz-burgershot, cfx-gabz-catcafe, cfx-gabz-davispd, cfx-gabz-families, cfx-gabz-hayes, cfx-gabz-impound, cfx-gabz-mapdata, cfx-gabz-marabunta, cfx-gabz-mba, cfx-gabz-pacificbank, cfx-gabz-paletobank, cfx-gabz-paletopd, cfx-gabz-pdm, cfx-gabz-pdprops, cfx-gabz-pizzeria, cfx-gabz-prison, cfx-gabz-townhall, cfx-gabz-triads, cfx-gabz-vu, cfx-ies-bighorn-southside822, cfx-kachal-easttaxi, cfx-markz-mirrorpack, chains, chevroletlt4, chevydmaxeng, childmale12c, childmale12e, childmale13d, CL-PizzaThis, clubhouse_rockford_hills, cm-notification, cm-pausemenu, CoolBeans, core_evidence, core_pawnshop, cron, cummins5924v, CV_Ambulance, daveandbusters, dd_pack, DemonRider, devcore_smokev2_old, dip_ikea, dirk-core, dirk-druglabsv2, DiscordAcePerms, Dodge_Charger_Hellcat, dodgehemihellcat_sound, doors, dpemotes, drc_bahama, drc_galaxy, drc_maisonette, drc_mechanic, drc_mugshot, drc_unicorn, drc_uwucafe, dt_19_mrpd-761, dug_houseRefund, dvmc_motoclub_mlo, dx_polaroid, dynyx-rings, dz-drone, ecocheck, ed_brickmansion649, ed_cavehideout-4-maps-inside, ed_narcohideout, electricpumps, eliteautos623, etronems, exoticintel, f20c, f136, f430v8, fbicars, fd-licenses, fdtruck, FiniAC, FiniAP, fiv3devs_galaxy, fiv3devs_headquarters, fiv3devs_retrohouse, fivem, fivem-appearance, fivem-map-skater, flashbang, frank-the-pug, freddy, gallardov10, gang-addon, gcom_vespucci_ghide, get_interiors, ghost, Ghostface, ghostrider, gigz_aztecas_tebex, gigz_dynasty_8_471, gigz_fight_club_v2_802, gnd_mechanics, golfsound, grovestreetcustoms, Gus_k9_ped, gwagonpolice, hackerspace637, hacking, hackingminigame, hane_dperrovillas1, hane_gpub_575, harleysound, helicam, hex_bennys, hex_bennys_luxury_docks, hexanemaofficiel, hh_cmd, HighendLabShells, Howdy-Minigame, httpmanager, hydrus_mansion_majestic-199, ig_bankman, indent-adminmenu, indent-crafting, indent-engine, indent-jobs, indent-swimming, int_genstore, int_jdmhub, interact-sound, is-logger, island, J_Luxury, Jakers-Pacifc-Heist, Jakers-Paleto-Heist, jasonsavini, jdm_scenario, jim-mechanic, jim-mining, jim-payments, jim-shops, jixel-whitewidow, k4mb1_drill, K4MB1-AllShellsSubPack, k4mb1-casino, k4mb1-fleecas, k4mb1-oilrig, k4mb1-pizza755, k4mb1shellstarter, katana, kc32ducavr4, kc125harleysofttail, kevin-hunting, kgsubmarin, Knockout, KoenigseggGemera, kq_islands_props, kq_priv_islands, ktm1290r, LabShells, laferrari, lamavgineng, lamveneng, laundry772, lb-phone, lb-phone_prop, lbc_larrys, Levi_Ackerman_Urus, lg-combatlog, lg14c6vette, lg18bmwm4, lg51uruscapri, lg52musgt500v8, lg55taycan, lg57mustangtv8, lg62chironpursport, lg67koagerars, lg81hcredeye, lg88camstang, lg91timreg, lg116slsamg, lg123murcisp, license_changer, loaf_lib, lockpick, loot_boxes, LostMcCamp-180, ls_flightschool, lucifer, luckyplucker837, lumio-pets, lux_vehiclecontrol, m5soundmod, m297zonda, mafia_mansion_083, maisonette10, map4all-noodle-exchange01, map4all-office-building, map4all-office-building-script, map4all-pawnshop, map4all-pillbox, map4all-rustybrown, map4all-sadealership, map4all-ss-hospital-compatible, map4all-ss-sheriff-compatible, map4all-wmanifacturing, mapmanager, mbgls600, mChat, memorygame, menuv, mercm177, meta_libs, mf-furni-v3, mf-housing-v3, mhacking, mHud, Michy_Mandem, milko_fixes, milko_g59_warehouse768, milko_warehouse_dagr826, milko_warehouse_diamant703, MilosChickFilA696, mk5sound, mka-lasers, monitor, moon-printers, mosbaekdesign_towing_central_814, mpragsriches, mpragsrichesmetro, mprr_patches, mprr-patches-cassidy, mprr-patches-standalone, mpscripts, musv8, mythic_interiors, nagodo_food, nass_tebexstore, neo, NERF-PISTOL, NERF-RIFLE, NERF-SHOTGUN, NERF-SMG, NERF-SNIPER, nest_tequila473, nfsv8, nh-context, Nightmare, nisgtr35, NM426, NMDRKCHGR, NMEVOX, NMFORDBRONCO, NMFORDGT, NMFORDMACHE, NMLAMBOPACK, NMPORSCHEGT3, NMRX7, NMTOYOTATACOMA, no1-motel, noct_prentiss_658, nui_blocker, okokBanking, okokContract, okokDeleteVehicles, okokReports, okokTextUI, Oni, OT_skills, ot_weaponrepair, ox_doorlock, ox_inventory, ox_lib, ox_target, oxmysql, pablito_htaco827, pablito_pawnshop, PacificBluffsDealership-443, paleto_auto_repair_new, panamerawb, patoche_digitalden, patoche_secret_bossroom932, patoche_storage_free_sp, Pawnshop_685, pawnshop762, pddogs, pier-petstore-icecream, pma-voice, poledance, polf4302, police-extra, PolyZone, porsche57v10, postalmap, power_fpsBoost, power_targetOptions, powerrpsign, PowerUtils, progressbar, ps-buffs, ps-dispatch, ps-mdt, ps-microphone, ps-multijob, ps-ui, ps-zones, pug-fishing, pug-halloween, pug-paintball, pwr-1of1pack, pwr-1of1weapons, pwr-caseOpening, pwr-clothing, pwr-clothing3.0, pwr-clothing3.0-ext, pwr-combinedmaps, pwr-cscene, pwr-custompeds, pwr-customsounds, pwr-dealershipaddon, pwr-dices, pwr-disabled, pwr-donorcars, pwr-drugHarvesting, pwr-eliteweaponsV2, pwr-eliteweaponsV2.1, pwr-farming, pwr-femaleclothing3.0, pwr-jdmsfx, pwr-lawenforcment, pwr-limited, pwr-loading, pwr-mastercarpack, pwr-moses-sounds, pwr-oilrig, pwr-replaceweapons, pwr-replaceweapons2.0, pwr-safezones, pwr-showid, pwr-staffmode, pwr-union, pwr-vehicleaudio, pwr-vehiclerental, pwrwave1, qb-admin, qb-adminmenu, qb-ambulancejob, qb-apartments, qb-backitems, qb-banktrucks, qb-busjob, qb-cdwithlink, qb-cityhall, qb-clawmachine, qb-core, qb-customs, qb-devcoords, qb-digitalsystem, qb-donovehicleshop, qb-fitbit, qb-garages, qb-houserobbery, qb-idcard, qb-input, qb-interior, qb-jobgarage, qb-keyminigame, qb-lock, qb-management, qb-me, qb-menu, qb-metaldetecting, qb-ox_inventory, qb-pawnsystem, qb-playerstyles, qb-policejob, qb-radialmenu, qb-recyclejob, qb-restocking, qb-scenes, qb-skillbar, qb-smallresources, qb-spawn, qb-stashes, qb-storage, qb-taxijob, qb-towjob, qb-truckerjob, qb-vehiclefailure, qb-vehiclekeys, qb-vehiclesales, qb-vehicleshop, qb-weaponscarry, quasar_shells, r_pepperspray, r35sound, rahe-boombox, rahe-boosting, rahe-hackingdevice, rahe-racing, rconlog, rcore_arcade, rcore_buyradio, rcore_casino, rcore_guidebook, rcore_infinity_activity, rcore_pool, rcore_prison, rcore_radiocar, rcore_spray, rcore_spray_assets, rcore_television, rebel-lib, rebel-moneywash, rfc_eastcustoms, rfc_los_santos_airport_fix, rfc_los_santos_customs, rfc_lsmotors, rfc_luxury_autos_651, rfc_paleto_medical_center, rfc_redline_tuner_shop, rfc_redline_vip_showroom, rfc_taco_farmer_848, riley, rm_fleecafinal, rm_shoprobbery, rmods63, roleplayers-hub, rrpwrxtras, RTGholdenV3, runcode, rx7bpeng, s54b32, s63b44, s85b50, safecracker, screenshot-basic, scully_radio2, sh-betterMechanics, sh-wingsuit, Shape, sit, Skateboard, skillbar, skylinerb26dett, sl65amgv12, slashtires, slth_warehouse796, sns900, snviperhyc, spartan, spawnmanager, spikescript, sspwrxtras, stg_cardGame, stg-billings, superchargerdemonv8, svj19, t1ger_gangsystem, t1ger_lib, ta008mustang69, ta103ninjah2r, ta488f154, tagt3flat6, tamustanggt50, teenmale7b, teexy_flywheels-277, teexy_warehouse_single806, terminator, tgiann-skillbar, ti_fabrication, ti_mechEngineer, ti_nerf, ti_rcVehicles, ti_stream-master, ti_territories, ti_utils, ti_vehicleTuning, tod_TBT, Toyota_Supra_MKIV_Varis, travis, truckenginesounds, trump, trxpolice, tuning_pacecars, tv_scaleform, twinhuracan, uj_bandvagos_v2, uj_facility, uj_marshal, uj_marshal_ipl, uj_marshalLoader, uj_vineyard, uniq-playerHandler, usko_la_fuente_blanca, utility_lib, v-queue, venatusc1, vg_jdm_garage, VisualSettings, vms_tattooshop, vr38dettv6, warehouse773, wasabi_oxshops, webpack, western_beachhouse-4pf-694, western_dealership_2545, western_mbstore728, western_office_2545_641, western_tunershop_2545, wild_house, wk_wars2x, wrxrllyeng, xdiskjockey, xsound, xtxvxtx_frostmourne, xtxvxtx_plasma_swords, yarn, yellowjack279, zf-dumpster\n"
     ]
    },
    {
     "name": "stderr",
     "output_type": "stream",
     "text": [
      "Game type: Freeroam\n",
      "Map: fivem-map-skater\n",
      "OneSync: enabled\n",
      "Language: English (United States)\n",
      "Tags: roleplay, rp, police, drugs, gangs\n",
      "Discord: discord.gg/powerrp\n",
      "Website: powerrpfivem.com\n",
      "DLC level: 2699\n",
      "sv_pureLevel: 0\n",
      "can_review: true\n",
      "Owner: BluxCronusServers\n",
      "https://servers-live.fivem.net/servers/icon/wmpmb9/-297168839.png\n",
      "Server Name: COMPLEXO RJ »» INAUGUROU HOJE ««🌈\n",
      "Server ID: wmpmb9\n",
      "https://servers.fivem.net/servers/detail/wmpmb9\n"
     ]
    },
    {
     "name": "stdout",
     "output_type": "stream",
     "text": [
      "=========================>\n",
      "English (United States)\n"
     ]
    },
    {
     "name": "stderr",
     "output_type": "stream",
     "text": [
      "Resources: cfx-nikit0-weapons-1, changer_halloween_candys, chat, complexo_arena, complexo_arsenal, complexo_bank, complexo_call, complexo_carros, complexo_char, complexo_dealership, complexo_facs, complexo_garages, complexo_hud, complexo_interactions, complexo_inventory, complexo_jobs, complexo_mapas, complexo_mdt, complexo_module, complexo_newbox, complexo_recruitment, complexo_robberies, complexo_roupas, complexo_skinshop, core_misc, core_roubos, dom_module, dominacao, favelaskillua, furia_painel, furia_sound, fusion-devolution, intercom, lafy, mirtin_esc, mirtin_homes, mirtin_survival, MQCU, neons, oxmysql, painel_hospital, pma-voice, races, skinweapon, smartphone, smartphone-jobs, tunning, utz_halloween_candy, vrp, vrp_admin, vrp_barbershop, vrp_fanho, vrp_legacyfuel, vrp_notifypush, vrp_sounds, vrp_taskbar, vrp_tattoos, vrp_tencode, vrpserver, xsound, zo_attachs\n",
      "OneSync: enabled\n",
      "Language: Portuguese (Brazil)\n",
      "Tags: br,vrp\n",
      "Desenvolvedor: FUSIONGROUP\n",
      "Discord: discord.gg/complexorj\n",
      "DLC level: Los Santos Tuners\n",
      "sv_pureLevel: 0\n",
      "Owner: Paulo_Ricardo\n",
      "https://servers-live.fivem.net/servers/icon/npx96m/1665594974.png\n",
      "Server Name: COPACABANA RJ ⌠VIP INICIAL + CARRO VIP GRÁTIS⌡🌟\n",
      "Server ID: npx96m\n",
      "https://servers.fivem.net/servers/detail/npx96m\n"
     ]
    },
    {
     "name": "stdout",
     "output_type": "stream",
     "text": [
      "=========================>\n",
      "Portuguese (Brazil)\n"
     ]
    },
    {
     "name": "stderr",
     "output_type": "stream",
     "text": [
      "Resources: cfx-nikit0-weapons-1, changer_halloween_candys, chat, copacabana_arena, copacabana_arsenal, copacabana_bank, copacabana_call, copacabana_carros, copacabana_char, copacabana_dealership, copacabana_defuse, copacabana_facs, copacabana_garages, copacabana_hud, copacabana_interactions, copacabana_inventory, copacabana_jobs, copacabana_mapas, copacabana_mdt, copacabana_module, copacabana_newbox, copacabana_painel, copacabana_pvp, copacabana_recruitment, copacabana_robberies, copacabana_roupas, copacabana_skinshop, copacabana_sound, core_misc, core_roubos, de_mirage, dom_module, du_maps, favelaskillua, intercom, lafy, mirtin_craft_v2, mirtin_esc, mirtin_homes, mirtin_survival, MQCU, neons, oxmysql, painel_hospital, pma-voice, scanner, skinweapon, smartphone, smartphone-jobs, tunning, utz_halloween_candy, vrp, vrp_admin, vrp_barbershop, vrp_fanho, vrp_legacyfuel, vrp_notifypush, vrp_sounds, vrp_taskbar, vrp_tattoos, vrp_tencode, vrpserver, xsound, zo_attachs\n",
      "OneSync: enabled\n",
      "Language: Portuguese (Brazil)\n",
      "Tags: br,vrp\n",
      "Desenvolvedor: FUSIONGROUP\n",
      "Discord: discord.gg/copacabanarp\n",
      "DLC level: Los Santos Tuners\n",
      "sv_pureLevel: 0\n",
      "Owner: Paulo_Ricardo\n",
      "https://servers-live.fivem.net/servers/icon/8kl7a3/-221976386.png\n",
      "Server Name: SATURNORP ⮕ WIPE AGORA!\n",
      "Server ID: 8kl7a3\n",
      "https://servers.fivem.net/servers/detail/8kl7a3\n"
     ]
    },
    {
     "name": "stdout",
     "output_type": "stream",
     "text": [
      "=========================>\n",
      "Portuguese (Brazil)\n"
     ]
    },
    {
     "name": "stderr",
     "output_type": "stream",
     "text": [
      "Resources: ajnacarnival, ajnaems, ajnajobs, ajnasummeranims, arena, bank, base_exclusivos, base_veiculos, box, cfx-gabz-247, cfx-gabz-bahama, cfx-gabz-barber, cfx-gabz-bennys, cfx-gabz-binco, cfx-gabz-casino, cfx-gabz-catcafe, cfx-gabz-davispd, cfx-gabz-import, cfx-gabz-koi, cfx-gabz-mapdata, cfx-gabz-pdprops, cfx-gabz-ponsonbys, cfx-gabz-sandypd, cfx-gabz-suburban, cfx-gabz-tattoo, cfx-gabz-vbmarket, chat, dealership, dealership-vip, discord-screenshot, domination, dpn_item_v2, dynamic, emergency, escmenu, freecam, fuel, gameplay, garages, groupmanager, guetos, heyy_mdt, hoverfy, hub, hud, initial, inventory, jobs, kc-sitting, lafy, leads, logs, loja_mecs, MapasSaturnoPerson, memory, mhacking, misc, monitor, MQCU, nation_barbershop, nation_bennys, nation_creator, nation_gm, nation_skinshop, nation_tattoos, NativeUI, notify, notifyitens, notifypush, oxmysql, player, pma-voice, PoliciaSaturno, PolyZone, progressbar, radio, residences, robberys, rodas, RoupasHalloweenGarty, rpemotes, rtx_scenarios, rtx_themepark, rtx_themepark_objects, rtx_tv, saturnoingame, screenshot-basic, smartphone, smartphone-jobs, sounds, StudioCFotosGarty1, StudioCFotosGarty2, StudioCFotosGarty3, suricato_robberies, survival, tablet2, target, task_met_ext, ultra-voltlab, uni_cnh, vehcontrol, vehmenu, vrp, vrp_gostosurabug, vrp_gostosurareativacao, vrp_mapas, vrp_roupas, vrp_universe, vrpserver, wanted, WEAPON_BRICK, WEAPON_COLTXM177, WEAPON_FNFAL, WEAPON_FNSCAR, WEAPON_FROST, WEAPON_KARAMBIT, WEAPON_KATANA, weapon_kill, WEAPON_NAILGUN, WEAPON_SAUER, WEAPON_SHOES, WEAPON_THERMAL, whitelist, zo_cars\n",
      "OneSync: enabled\n",
      "Language: Portuguese (Brazil)\n",
      "Tags: vrp,br,vrpex,roleplay,LGBTQ+,vrp\n",
      "Discord: discord.gg/invite/saturnorp\n",
      "dev: Off\n",
      "DLC level: 2699\n",
      "sv_pureLevel: 0\n",
      "Owner: darklorde1612\n",
      "https://servers-live.fivem.net/servers/icon/oop8dy/-1707127882.png\n",
      "Server Name: CIDADE BELLA »» ABRIU HOJE ««\n",
      "Server ID: oop8dy\n",
      "https://servers.fivem.net/servers/detail/oop8dy\n"
     ]
    },
    {
     "name": "stdout",
     "output_type": "stream",
     "text": [
      "=========================>\n",
      "Portuguese (Brazil)\n"
     ]
    },
    {
     "name": "stderr",
     "output_type": "stream",
     "text": [
      "Resources: airssupply, ajnacarnival, ajnaems, ajnajobs, ajnasummeranims, ajnaxanims, arena, bank, barbershop, bella, bella_carros, bella_mapas, bella_peds, bella_roupas, bella-menu, cfx-gabz-mapdata, cfx-gabz-pdm, cfx-gabz-vbmarket, cfx-nikit0-weapons-1, characters, chat, chest_reward, creation, dealership, discord-screenshot, domination, dynamic, elevador_bocadefumo, elevador_mazebank, emergency, energy_novato, energy_painelorgs, freecam, fuel, gameplay, garages, heyy_mdt, hoverfy, hub, hud, inventory, jobs, lafy, logs, memory, MenuAPI, metas, misc, monitor, nation_bennys, NativeUI, notify, notifyitens, notifypush, oxmysql, pack_animacoes, player, pma-voice, PolyZone, progressbar, races, radio, residences, rewards, robberys, routes, screenshot-basic, skinshop, smartphone, smartphone-jobs, sounds, suricato_robberies, survival, target, task_met_ext, tattoos, televison, ThnAC, vehcontrol, vehmenu, venda_drogas, vrp, vrp_load, vrp_whitelist, wanted, webpack, yarn, zo_cars\n",
      "OneSync: enabled\n",
      "Language: Portuguese (Brazil)\n",
      "Tags: vrp, br sem, onesync SEM WL, foguete, lotus, complexo, cidade santa, paris, tokyo, fusion, galaxy, babilonia, cancun, complexo, nexus, brazuca, imperio, conexao pvp, hype, cidade alta,vrp\n",
      "Discord: discord.gg/cidadebella\n",
      "DLC level: Los Santos Tuners\n",
      "sv_pureLevel: 0\n",
      "Owner: serveronionrp\n",
      "https://servers-live.fivem.net/servers/icon/q8538p/-1297146424.png\n",
      "Server Name: Unity RP\n",
      "Server ID: q8538p\n",
      "https://servers.fivem.net/servers/detail/q8538p\n"
     ]
    },
    {
     "name": "stdout",
     "output_type": "stream",
     "text": [
      "=========================>\n",
      "Portuguese (Brazil)\n"
     ]
    },
    {
     "name": "stderr",
     "output_type": "stream",
     "text": [
      "Resources: ac, albin_sandersmotorcyclesv2, async, autoexotic_car, banSQL, bob74_ipl, brofx_mansion_07, brofx_mansion_10, brofx_mansion_11, brofx_villa05, case, cfx_blaine_county_city_hall, cfx-gabz-ammunation, cfx-gabz-bahama, cfx-gabz-binco, cfx-gabz-diner, cfx-gabz-lost, cfx-gabz-ottos, cfx-gabz-pacificbank, cfx-gabz-paletobank, cfx-gabz-paletopd, cfx-gabz-pdm, cfx-gabz-pdprops, cfx-gabz-ponsonbys, cfx-gabz-records, cfx-gabz-suburban, chat, cinema, cron, cv_control, dolu_altruists, dpemotes, es_admin2, es_extended, esx_accessories, esx_addons_gcphone, esx_AdvancedFuel, esx_casadepapel, esx_datastore, esx_discord_bot, esx_dmvschool, esx_identity, esx_license, esx_menu_default, esx_menu_dialog, esx_menu_list, esx_moneywash, esx_repairkit, esx_service, esx_society, esx_status, esx_tattoosShops, esx_vehiclelock, farming, fiv3devs_asgard, fiv3devs_thehole, fivenet, gcphone, generic_texture_renderer, instance, int_bullhead, int_dynasty8, InteractSound, jobs, jobs_civil, jr_postop_warehouse, jsfour-idcard, korioz, krz_handcuff, krz_personalmenu, lb-phone, lb-phoneprop, loadingscreen, loaf_lib, mapping, mapping2, mapping2372, mb_veh, new_banking, nui_handler, ocean_hospital, patoche_beach_party, pma-voice, PolyZone, progressbar, qtarget, radialmenu, resources_as_code, rsk8_veh, screenshot-basic, scui, scui_assets, serverdata, skin, skinchanger, spawnmanager, speedometer, struct_natives, teleport_point, tempui, tm_g6, uj_army_v2, uj_autoscool, uj_balisticshield, uj_bandmarabunte, uj_cayoPerico, uj_cloth_medrobe, uj_doomsday, uj_doomsday_ipl, uj_labsmoney, uj_labsstorage, uj_mafiahotel, uj_mazebank, uj_pbhosp, uj_rancho_v2, uj_sandyhosp, uj_sewer_ipl, uj_sewer_tunnels, uj_sheriff_v1, uj_svalka, uj_taxi, uj_wnews_v3, vehicle, warmenu, weapons, webpack, xdb, yarn\n",
      "Game type: RP: Life\n",
      "Map: San Andreas\n",
      "OneSync: enabled\n",
      "Language: French (France)\n",
      "Tags: rp, roleplay, life, fa, fr,esx\n",
      "Boutique: shop.unityrp.io\n",
      "Discord: discord.gg/unityrp\n",
      "DLC level: 2802\n",
      "sv_pureLevel: 0\n",
      "Owner: Korioz\n",
      "https://servers-live.fivem.net/servers/icon/pkpov5/-518873395.png\n",
      "Server Name: NARCO CITY\n",
      "Server ID: pkpov5\n",
      "https://servers.fivem.net/servers/detail/pkpov5\n"
     ]
    },
    {
     "name": "stdout",
     "output_type": "stream",
     "text": [
      "=========================>\n",
      "French (France)\n"
     ]
    },
    {
     "name": "stderr",
     "output_type": "stream",
     "text": [
      "Resources: 5iftyycar, 7thcivic, 720sGT3sc, ace_hiddendruglab, adrians%20garve%20mlo, async, bellas_unicorn, BigoZ_WeedShop, BMWm2vision, bob74_ipl, brofx_mansion_10, brofx_mansion_11, brofx_mansion_16, brp_prison_ext, bs_tokens, canis_secret_hq_bunker, cc720szacoe, cfx_gn_ambulance_garage, cfx_gn_clinic_sandy, cfx_gn_collection, cfx_gn_int_clinic, cfx_gn_medical_accessories, cfx_gn_medical_assets, cfx_gn_sandy_mapdata, cfx-gabz-247, cfx-gabz-ammunation, cfx-gabz-barber, cfx-gabz-catcafe, cfx-gabz-harmony, cfx-gabz-mapdata, cfx-gabz-paletobank, cfx-gabz-pdprops, cfx-gabz-pillbox, cfx-gabz-ponsonbys, cfx-gabz-prison, cfx-gabz-sandypd, cfx-gabz-suburban, cfx-gabz-tower, cfx-minibulle3d_h2023_davis_square, cfx-minibulle3d_h2023_maze, chat, clothespack, clothespack2, clothespack3, clubhouse_harmony, clubhouse_vespucci_canals_v2, copnet, cs-hall, cs-stream, cs-ves, discord_trollx, dpclothing, dpemotes, drers7, e63estate, es_extended, esx_accounts, esx_ambulancejob, esx_armyjob, esx_dmvschool, esx_fibjob, esx_framework, esx_justizjob, esx_mechanicjob, esx_menu_default, esx_menu_dialog, esx_menu_list, esx_policejob, esx_regierungjob, esx_sheriffjob, esx_taxijob, fdiablosv, fiv3devs_bahamamamas, fiv3devs_thehole, flamethrower, FM-BincoStores, fxmigrant, gigahorse, GODzESKYVWB, grizmowe_paleto_pier, grs_rapd, gstval, hades, halloween_ped, hane_pondcafe, haunted_house, hex_bennys_luxury_docks, hex_paleto_cardealer, HiddenClub, hookies_prentiss, hyclambo, hycsupra, inventory, jsfour-idcard, k4mb1-casino, KaliScripts_KebabX, koldysek_coke_1, koldysek_coke_2, koldysek_coke-3, koldysek_meth_2, koldysek_meth_3, koldysek_weed_2, koldysek_weed_3, Kpri_mirror_fsdqf, krz_personalmenu, lamks, lb-phone, lb-phone_prop, loaf_lib, lodstudios_gmbh_anwesen, lodstudios_madrazo_estate, lodstudios_photostudio, maiquel_mechanictool, mans22m5, mappack, mbt_evo_halloween, mexicanmafia, mig, molo_home, monitor, Narco_camper, Narco_dino_hochzeit, Narco_family_cayo, Narco_FIB_Lifeinvader, Narco_groove_bunker, narco_lifeinvader, Narco_Skydive_club, nc_adminmenu, nc_camper, nc_carlift, nc_cars, nc_cars2, nc_cars3, nc_cars4, nc_carsounds, nc_case, nc_cleanup, nc_clothshop, nc_coinshop, nc_core, nc_dices, nc_doorlock, nc_einreise, nc_fesseln, nc_ffa_allinone_map, nc_ffareworked, nc_flatbed, nc_fleecaheist, nc_foodbusiness, nc_frakcreator, nc_fraktionapp, nc_gangwar, nc_guide, nc_haustiere, nc_housing, nc_hud, nc_jailbreak, nc_jobs, nc_loadingscreen, nc_mechanic, nc_namechange, nc_notify, nc_paketjob, nc_peds, nc_postcode, nc_poster_placements, nc_radioapp, nc_shisha, nc_sitdown, nc_storage, nc_trashman, nc_tutorial, nc_vehicleshop, nc_vehmeta, nc_vipp, nc_weaponshit, nc_workstations, ndev_cinematic, normal_church, np-menu, oxmysql, oxy3n_meleepack1, oxy3n_meleepack2, patamods_studioScript, patoche_gang, patoche_gang_2, patoche_studio, progressBar, r8troll, r35ss, rcore_basketball, rcore_basketball_assets, rcore_casino, rcore_pool, rcore_spray, robbbs_indian, rr458lw, rrr8lms, saltychat, saltynui, sandy_shores_bridge, screenshot-basic, shelby6x6bronco, skinchanger, sou_trx, spirit_illegal_drug_brewing, uj_army_v2, uj_doomsday, uj_mojito, uj_mojito_ipl, uni_halloween_decoration_road, uni_halloween_decoration_road_mirror_park, uni_halloween_paradeofterror_universestore, uni_halloween_universestore_farol, universestore_halloween_festival_in_the_beach, valorant_sky, venice, web-services, webpack, ws_cannibal, ws_jason_p2, ws_jason_p8, ws_sadako, ws_shape, xnTattoos, xsound, yarn\n",
      "Game type: Roleplay\n",
      "Map: San Andreas\n",
      "OneSync: enabled\n",
      "Language: German (Germany)\n",
      "Tags: German,Deutsch,Roleplay,Life,narcocityrp,narcocity,Reallife,Ger,DE,esx\n",
      "DLC level: 2699\n",
      "sv_pureLevel: 1\n",
      "🎧Teamspeak: narcocity\n",
      "📢Discord: discord.gg/narcocity\n",
      "Owner: Wadim98\n",
      "https://servers-live.fivem.net/servers/icon/xdbm3m/1702427437.png\n",
      "Server Name: Arab Vilen RP\n",
      "Server ID: xdbm3m\n",
      "https://servers.fivem.net/servers/detail/xdbm3m\n"
     ]
    },
    {
     "name": "stdout",
     "output_type": "stream",
     "text": [
      "=========================>\n",
      "German (Germany)\n"
     ]
    },
    {
     "name": "stderr",
     "output_type": "stream",
     "text": [
      "Resources: ArabVilen_Maps, Av_Cars, Av_Loading, Av_Skins, Av-Emotes, bank-v2.pack, bashastore_arab_vilen, cf-protection, cobra_malkya_v8, d7zmenuV2, dikhlea.pack, fivem-map-hipster, hypnonema, iqstore_ArabVilen, mapmanager, Melix_Admin, Melix_Alert, Melix_Chat, Melix_Clothing, Melix_EMS, Melix_Files, Melix_Gangs, Melix_Heros, Melix_HUD, Melix_KillField, Melix_Notify, Melix_PA, Melix_PoliceSystem, Melix_Radio, Melix_Robs, Melix_Shops, Melix_SkinSaver, Melix_Spec, Melix_Weapons, MK3-FBI, Nashmi_AV, oxmysql, pma-voice, Relax_imn6, responvv4.pack, spawnmanager, Talal_BlackMarket, vMenu, vrp, vrp_mysql, WS-EUP\n",
      "Game type: Melix Files\n",
      "OneSync: enabled\n",
      "Language: Arabic (Saudi Arabia)\n",
      "Tags: RP, vRP, arab vilen, vilen, Arab, عرب فايلن,vrp\n",
      "Developers: S H B\n",
      "Discord: discord.gg/u9\n",
      "Server Owner: Bo*7MOoD, S H B, 𝐏𝐞𝐫𝐟𝐞𝐜𝐭\n",
      "Store: arabvilen.tebex.io\n",
      "DLC level: Cayo Perico Heist\n",
      "sv_pureLevel: 0\n",
      "Owner: Arab_Vilen\n",
      "https://servers-live.fivem.net/servers/icon/6q4glj/-195902947.png\n",
      "Server Name: Moon Silent RP ♡\n",
      "Server ID: 6q4glj\n",
      "https://servers.fivem.net/servers/detail/6q4glj\n"
     ]
    },
    {
     "name": "stdout",
     "output_type": "stream",
     "text": [
      "=========================>\n",
      "Arabic (Saudi Arabia)\n"
     ]
    },
    {
     "name": "stderr",
     "output_type": "stream",
     "text": [
      "Resources: BashaStore_BlackMarket_V1, bashastore_blackmarket_V4_moon-silent, BashaStore_F3lyatV1, bnat_V3, cobra_malkya_v8, cr, d7zmenuV2, fivem-map-hipster, gang_jzira_moon_silent, hypnonema, iqen_killfeed, iqstore_3dl_x2, iqstore_fbi_x5, iqstore_hajola_v1, iqstore_police_g5_MoonSilent, iqstore_wzara_g3, mapmanager, Melix_Admin, Melix_Anti, Melix_Chat, Melix_Clothing, Melix_EMS, Melix_Files, Melix_Gangs, Melix_Heros, Melix_HUD, Melix_Jobs, Melix_Loading, Melix_Notify, Melix_PA, Melix_PoliceSystem, Melix_Radio, Melix_Robs, Melix_Shops, Melix_SkinSaver, Melix_VipMenu, Melix_Weapons, MK3-EventsManager, MS-Alert, MS-Baby, MS-Emotes, MS-Stuff, MS-TDR, nashmi_MoonSilent, NashmiFitatMarkzy_v1, NashmiQaser7akem_V1, NashmiQaserBlack_v5, NashmiQasrBlack_v3, NashmiQasrBlack_v6, NashmiRespone_v13, oxmysql, PlayTime, pma-voice, Relax_imn6, spawnmanager, Talal_BlackMarket, vMenu, vrp, vrp_mysql, WS-Eup, WS-Eup2, yarn\n",
      "Game type: Moon Silent\n",
      "OneSync: enabled\n",
      "Language: Arabic (Saudi Arabia)\n",
      "Tags: vrp\n",
      "Developer: 𝐅𝐋𝐎𝐊𝐈\n",
      "Discord: Discord.gg/LLLL\n",
      "Server Owners: 𝐓𝐀𝐋𝐀𝐋\n",
      "Store: MoonSilent.store\n",
      "DLC level: Cayo Perico Heist\n",
      "sv_pureLevel: 0\n",
      "Owner: MoonSilent\n",
      "https://servers-live.fivem.net/servers/icon/7blbde/1389858937.png\n",
      "Server Name: PMA-RP\n",
      "Server ID: 7blbde\n",
      "https://servers.fivem.net/servers/detail/7blbde\n"
     ]
    },
    {
     "name": "stdout",
     "output_type": "stream",
     "text": [
      "=========================>\n",
      "Arabic (Saudi Arabia)\n"
     ]
    },
    {
     "name": "stderr",
     "output_type": "stream",
     "text": [
      "Resources: 3dme, 22gscrbpd, 68dart, 2020g900, a70, ajaxon_burton_lscv2, ajaxon_mapdata, AnchorBoat, as_hideout1, asteropers, async, aszr350, bc, Bellas_Modern_House_01, Bellas_New_Vanilla_Unicorn_-_by_Ajna_Mods, BigoZ_CarCrew, BigoZ_Mechanic, blindfold, brofx_mansion_08v1v2, brofx_mansion_13, brofx_mansion_17, brofx_mansion_18, brofx_mansion_20, burglary, c0nFi_bella_italia, car_sounds, carexporter, cars, cayo_mansion, cfx_gn_collection, cfx_gn_sandy_mapdata, cfx_gn_sandymotel, cfx_gn_von_hotel, cfx_gn_von_lobby, cfx-clubhouse-la-mesa, cfx-dons-hideout, cfx-gabz-247, cfx-gabz-ammunation, cfx-gabz-arcade, cfx-gabz-aztecas, cfx-gabz-bennys, cfx-gabz-binco, cfx-gabz-bowling, cfx-gabz-casino, cfx-gabz-catcafe, cfx-gabz-koi, cfx-gabz-lost, cfx-gabz-mapdata, cfx-gabz-mba, cfx-gabz-mrpd, cfx-gabz-ottos, cfx-gabz-paletopd, cfx-gabz-pdm, cfx-gabz-pdprops, cfx-gabz-pillbox, cfx-gabz-pizzeria, cfx-gabz-prison, cfx-gabz-records, cfx-gabz-scenarios, cfx-gabz-suburban, cfx-gabz-tattoo, cfx-gabz-townhall, cfx-gabz-tuners, cfx-k4mb1-factory, cfx-kiiya-yachtclub, cfx-lb-sandymc, cfx-markz-mirrorpack, cfx-postop-warehouse, cfx-torture-room, cfx-warehouses-usko, cfx-western-mafiamansion, cfx-western-sandyhouse, cgt, chat, clubhouse_main_street, code3boat, cont88, coquette4c, cron, cs-boombox, CyberGarageMx, cypherwb, deimos, devel1622, discordqueue, DivinedDrillPackv2, DivinedDrillPackv3, DivinedFnDances2, DivinedLoopDances, DivinedMoCap, DivinedRoleplayAnimations, DivinedSitStandAnims, doberman, dominatorgtc, ds_secret_plant, Durango, ed_ganghideout, ed_madrazomansion, ed_narcohideout, elegyrh7, emerusgtr, esx_addonaccount, esx_basicneeds, esx_billing, esx_garbagejob, esx_menu_default, esx_menu_dialog, esx_menu_list, esx_minerjob, esx_scoreboard, esx_society, esx_teleports, esx_thief, esx_vehicleshop, etrongt22prior, f8hrs, fireworks, fiv3devs_blackmarket, fiv3devs_blazeit, fivem, fivem-appearance, fivem-map-hipster, foxgt24, fwparkranger, gigz_aztecas_tebex, gn_motel_loader, gn_tplift_von, greatdane, grs_golf_club, gsxr19, GTAVRemastered, gxwrx, hane_vespuccivillas12, heli, hex_bennys, hornbills_prentiss, hydrus_mansion_beach, instance, int_ballas, InteractSound_SV, is300, isacb_villa_richman, Jakers_Containers_01, jestgpr, jr_housefr, jr_italia_house, jsfour-idcard, junior99au, kiiya_threehawkerboys, komodafr, lbperfs, lcpma-weapons, LegacyFuel, lg69patrolcharger, little-seoul-triads, mapmanager, mechanicjob, MenuAPI, MikeyGangsignsv2, mlotaio2, mmtbuffalo, monitor, mt03, mythic_progbar, NativeUI, noire19wb, noose_prompt, npwd, obs, osirisfr, oxmysql, paragonxr, passatellihycade, Pata_valentinesday, patamods_studioScript, patoche_boatdealer, patoche_studio, pd4x4, pdbmwr, pdcj, pdtrackhawk, pma-actions, pma-activities, pma-ambulance, pma-anticheat, pma-anxiety, pma-api, pma-bankrobbery, pma-banks, pma-binoculars, pma-bliphandler, pma-burglary, pma-bus, pma-businesscards, pma-carwash, pma-characterselect, pma-chopshop, pma-civjobs, pma-clothes, pma-clothes-old, pma-court, pma-crypto, pma-customweapons, pma-dealersystem, pma-dispatch, pma-doc, pma-doorlock, pma-driftscript, pma-drugruns, pma-drugs, pma-emotes, pma-events, pma-fishing, pma-fliers, pma-framework, pma-gallery, pma-gang-framework, pma-gang-rework, pma-gang-sprays, pma-garage, pma-hack, pma-heists, pma-helper, pma-helper-v2, pma-heroin, pma-holidays, pma-holster, pma-hud, pma-hunting, pma-inv, pma-joblisting, pma-jobs, pma-laptop, pma-lib, pma-loading, pma-lscustoms, pma-magic, pma-maps, pma-mba, pma-mdt, pma-megaphone, pma-menu, pma-metaldetector, pma-minigames, pma-moneytruck, pma-nitrov2, pma-notepad, pma-pawnshop, pma-pegasus, pma-police, pma-powerplant, pma-progbar, pma-projector, pma-property-manager, pma-props, pma-radialmenu, pma-radio, pma-robbery, pma-sirensync, pma-staff, pma-status, pma-stream, pma-subs, pma-supply, pma-taxi, pma-tdm, pma-tebex, pma-towjob, pma-tv, pma-utils, pma-vehicle, pma-voice, pma-weaponrepair, pma-weapons, pma-weather, pma-weedplants, pma-worker, poker, pokerasztal, PolMustang24, PolVette, PolyZone, Porsche911RWB, rcore_basketball, rcore_basketball_assets, rcore_bowling, rcore_casino, rcore_dance, rcore_dance_assets, rcore_pool, rcore_tennis, rculi, richards_maps_retro_diner, RichmanMansionMLO, Rmodgold1, Rmodgold2, rsd_seoul_base, runcode, s90, sandyhouse2, savanna_beach_house_-_by_Ajna_Mods, schlagenstr, screenshot-basic, souda-gang-mg, spawnmanager, srt, streetLabel, sunriser, t-notify, t3rmaudace, tantrum, Teleport, tlux_church, tpstafr, uj_library, usko_offce_business, usko_vestibul_busines, utk_hackdependency, VinewoodHillsMansion, wbgtx, WeazelNewsCam, webpack, wibsevero, wk_wars2x, workshop_mlo_v3_t217, yarn, ykn_sheriffsandy, zr390, zrgpr, zx6r\n",
      "Game type: Roleplay\n",
      "Map: San Andreas\n",
      "OneSync: enabled\n",
      "Language: English (United States)\n",
      "Tags: pma, pmarp, roleplay, rp, police, cars, ems, jobs, drugs, custom cars, custom, discord, serious, cops, economy, lspd, serious rp, fun, whitelist, gangs\n",
      "Discord: discord.gg/pmarp\n",
      "Streamers: pma.network\n",
      "DLC level: 2699\n",
      "sv_pureLevel: 1\n",
      "can_review: true\n",
      "Owner: chrisivey1004\n",
      "https://servers-live.fivem.net/servers/icon/p555oy/695526693.png\n",
      "Server Name: ASTRO-LIFE\n",
      "Server ID: p555oy\n",
      "https://servers.fivem.net/servers/detail/p555oy\n"
     ]
    },
    {
     "name": "stdout",
     "output_type": "stream",
     "text": [
      "=========================>\n",
      "English (United States)\n"
     ]
    },
    {
     "name": "stderr",
     "output_type": "stream",
     "text": [
      "Resources: 0xcargo, 0xdeathcause, 0xdoorremover, 0xdrones, 0xffa, 0xforgery, 0xgangwar, 0xmaxspeed, 0xpostjob, 0xproperties, 0xsystem, 0xweaponchanger, 0xyachts, AdvancedParking, AL-Headbag, AS_permission, AS_whitelist, astro_angeln, astro_animationen, astro_balls, astro_banking, astro_basics, astro_blackjack, astro_carpack, astro_darknet, astro_farming, astro_forms, astro_golf, astro_hud, astro_indica, astro_insidetrack, astro_interact, astro_inventory, astro_jetons, astro_jobs, astro_kofferraum, astro_labore, astro_legal, astro_mappack, astro_phone, astro_phonetracker, astro_poker, astro_policetracker, astro_quests, astro_raubsystem, astro_roulette, astro_slots, astro_tacho, astro_teleporter, astro_trucking, AstroMap, AstroScripts, AstroSystem, async, bi0s-cams, bi0sScripts, black_versus, breze_bowling_map, cfx-nteam-legion-square-extended, chat, CopyCoords, core_crafting, cron, d_resource_cardealer, discord-screenshot, dnz_fahrradverleih, dons_apa_22, dpclothing, dt_19_mrpd, EasyAdmin, el_bwh, EnhancedBarber, es_extended, esplugin_mysql, essentialmode, esx_addonaccount, esx_addoninventory, esx_ads, esx_advancedgarage, esx_aircraftshop, esx_ambulancejob, esx_billing, esx_boatshop, esx_datastore, esx_discord_bot, esx_extraitems, esx_gas_station, esx_johansenshop-master, esx_keys, esx_license, esx_lkwshop, esx_menu_default, esx_menu_dialog, esx_menu_list, esx_moneywash, esx_motorshop, esx_nuo_givecar, esx_plasticsurgery, esx_policejob, esx_scoreboard, esx_skin, esx_society, esx_stores, esx_townhall, esx_whitelinecars, esx-qalle-jail, female_pack, fivem, gh_vehicle-registration, HeliCam, hex_bennys, id1_h_hospital, JD_logs, jsfour-idcard, kimi_callbacks, law_exe, LegacyFuel, lls-mechanic, LoadingScreen, loaf_tv, Los_Santos_Customs, male_pack, mapmanager, marc_bahama_v3, MenuAPI, monitor, mx_tattoos, myClothesAPI, myClothesshop, myDj, myMultichar, mysql-async, NativeUI, NativeUILua_Reloaded, north_yankton, notifications, nui_doorlock, Pawn_shop, pipe_down_cigar_bar, plx_aduty, plx_progress, PolyZone, primo_system, pro_female, pro_male, radio, rcore_arcade, rcore_basketball, rcore_basketball_assets, rcore_bowling, rcore_darts, rcore_pool, rcore_tennis, rfc_luxury_autos, rpemotes, rtx_scenarios, rtx_themepark, rtx_themepark_objects, saltychat, saltynui, Sativa_System, screenshot-basic, skinchanger, spawnmanager, sqz_unijob, staxzs_skateboard, streetracing, super-headlights, tab, truck_logistics, VehicleKeyChain, VehicleTransport, vir-deathscreen-master, vSync, WaveShield, WesteundHandschelle_EngineToggle, wk_wars2x, xsound\n",
      "Game type: Astro\n",
      "Map: AstroMap\n",
      "OneSync: enabled\n",
      "Language: German (Germany)\n",
      "Tags: esx, german,esx\n",
      "DLC level: 2802\n",
      "sv_pureLevel: 0\n",
      "⚖️ Legale Farmrouten: Schutzwesten, Magazine, Schrott, Lockpicks, Waffenfarben, Aufsätze & mehr\n",
      "🎧 Teamspeak: ts.astro-life.com\n",
      "👷 Legale Nebenjobs: Truckerfahrer, Farmer, Gärtner, Müllmann, Baustellenarbeiten, Postbote & mehr\n",
      "💀 Illegale Farmrouten: Kokain, Meth, Weed und Labore\n",
      "💻 Forum: forum.astro-life.com\n",
      "🚀 Discord: discord.gg/astrolife\n",
      "Owner: PrimoAstroLife\n",
      "https://servers-live.fivem.net/servers/icon/jggpdk/2117963750.png\n",
      "Server Name: Bandit RP\n",
      "Server ID: jggpdk\n",
      "https://servers.fivem.net/servers/detail/jggpdk\n"
     ]
    },
    {
     "name": "stdout",
     "output_type": "stream",
     "text": [
      "=========================>\n",
      "German (Germany)\n"
     ]
    },
    {
     "name": "stderr",
     "output_type": "stream",
     "text": [
      "Resources: 17mov_BuilderJob, 17mov_Deliverer, 17mov_GarbageCollector, ak47_blackjack, ak47_cannabiscafev2, ak47_chicknfries, ak47_crime, ak47_donutshop, ak47_hookahlounge, ak47_idcard, ak47_macburgers, ak47_pizzashop, ak47_poker, ak47_popchicken, ak47_rulett, ak47_seafood, ak47_slots, ak47_smokingv2, ak47_taco, ak47_whitewidowv2, Alex-baby, Alia-Robinson, Angel_TwinsBabiesFree, async, av_laptop, av_music, Baby-107, Baby-BBG1, Baby-black6, Baby-girl-magic2, Baby-magic-boy, BabyBlurri1, babyfemale6, babyfemale45a, babyfemale46a, babymale30d, babymale37c, babymale37e, babymale38b, babymale54b, babymale67a, babymale67c, babymale67e, babymale68a2, BabyMale69B, babymale94b, babymale94c, babymale100d, babymale102a, babymale103a, babymale106c, babymale107a, babymale107f, babymale108a, babymale122a, bandit_adminmenu, bandit_bags, bandit_bankrobberys, bandit_barbershops, bandit_bodyguard, bandit_bot, bandit_boxing, bandit_carhud, bandit_chat, bandit_comserv, bandit_core, bandit_dailyRewards, bandit_dealership, bandit_dice, bandit_donorcars, bandit_drugs, bandit_ecocontrol, bandit_emotes, bandit_gangs, bandit_hookahlounge, bandit_hud, bandit_lasertag, bandit_lib, bandit_maps, bandit_mechanic, bandit_minigolf, bandit_mining, bandit_missions, bandit_moneywash, bandit_multicharacter, bandit_pawnshop, bandit_pets, bandit_queue, bandit_security, bandit_shells, bandit_storerobberys, bandit_stripclub, bandit_tebex, bandit_weaponModels, bandit_weapons, bandit-stream, beachusko, beachuskogula, BELITA-baby2, bob74_ipl, Boy-black7, Boy-Black15, Boy-black19, Boy-black22, Boy-black23, Boy-black25, breze_bowling_map, breze_carauction, breze_mafia, breze_popeyes, breze_tunershop, breze_wingstop, brnx_supermechanic, brofx_mansion_07, Carol-baby, cd_easytime, cfx_gn_ambulance_garage, cfx_gn_collection, cfx_gn_medical_accessories, cfx_gn_mz_mountzonah, cfx-gabz-ammunation, cfx-gabz-catcafe, cfx-gabz-davispd, cfx-gabz-hayesauto, cfx-gabz-mapdata, cfx-gabz-mirrorpark1, cfx-gabz-mirrorpark2, cfx-gabz-pdm, cfx-gabz-pdprops, cfx-gabz-pillbox, childmale11a, childmale12a, childmale16d, Chris-baby, coochiemaps, cron, cs-hall, Daphiny-Baby, delperroclubhouse, devcore_smokev2, DK-boy, Dorinha-baby, dpclothing, drc_houserobbery, drc_uwucafe, EDA_01, EDA_BASE, el_bwh, Eloisa-girl, es_extended, ESTEBAN-baby2, esx_addonaccount, esx_addoninventory, esx_basicneeds, esx_identity, esx_menu_default, esx_menu_dialog, esx_menu_list, esx_scoreboard, esx_society, esx_status, fg_sandyms, fiv3devs_bahamamamas, fivem-appearance, FM-MooreClub, Gina-baby, Girl_Casual21, Girl-Casual-B3, gks_ebay, gks_gotur, gks_racing, gks_rentacar, gksphone, GoKarts, Grappler, int_mphouse01, interact-sound, ivy, JasianaBabyPed1, Jaylen-baby, Jaylen-baby2, JMoneyNT01, Jonas-baby2, Jordan-Boy2, July-baby, Junior-baby, K_FRAUDATMS, K_FRAUDPROPS, K_FRAUDSHOPS, K_FRAUDV2, Karts, kidped, kidpeds, KikiBeigeGirl, KikiBrownGirl, KikiGreyToddler, KikiPinkToddler, kq_driftsmoke, kq_engineswaps, Kyaire-baby, Leda-baby, Leila-baby, Lena-baby, Lena2-baby, loaf_billing, loaf_garage, loaf_housing, loaf_jewelheist, loaf_keysystem, loaf_lib, loot_boxes, Luan-baby, Lucy-Belle, Luiz-baby, Madalena-girl, Magno-boy, Maik-Boy, Maysa-baby, Michy_Mandem, MilosWalmart, MJ-boy, monitor, mrpd, myDj, Nielso-baby, Nikki-baby, notepad, oe-carmenu, okokBanking, okokBilling, ox_doorlock, ox_inventory, ox_lib, ox_target, oxmysql, patoche_beachgame, pd_outfit_theft, Peachy-baby, PinkBear, pma-voice, PolyZone, ps-ui, qs-dispatch, r_pepperspray, radio, rcore_arcade, rcore_arm_wrestling, rcore_basketball, rcore_basketball_assets, rcore_bowling, rcore_drunk, rcore_lunapark, rcore_lunapark_assets, rcore_pool, rcore_prison, rcore_prison_models_gabz, rcore_radiocar, rcore_spray, rcore_spray_assets, rcore_tennis, rm_trainheist, Robert-Boy, rtx_tv, SATODEONPREMADE, SatoKianiPremade, screenshot-basic, sharp-spawnselect, skateboard, SleepOrSex, SosaTankPed1, souda-seoul, souda-straw, spawnmanager, TaliahPed1, tgm_apple_store, Toby-baby, TooleyPed, vp9, wasabi_ambulance, wasabi_boombox, wasabi_bridge, wasabi_crutch, wasabi_fishing, wasabi_multijob, wasabi_police, WaterPed1, webpack, xsound, yarn, YESSENIA-girl134\n",
      "Game type: ESX Legacy\n",
      "Map: San Andreas\n",
      "OneSync: enabled\n",
      "Language: English (United States)\n",
      "Tags: esx\n",
      "Developer: discord.gg/trase\n",
      "Discord: discord.gg/bandit\n",
      "Owner: Director, JuanReports\n",
      "Store: banditrp.vip\n",
      "Uptime: 00h 29m\n",
      "DLC level: 2802\n",
      "sv_pureLevel: 0\n",
      "Client scripts allowed: Yes\n",
      "can_review: true\n",
      "Owner: Legacy-Network\n",
      "https://servers-live.fivem.net/servers/icon/qkj43z/1002579238.png\n",
      "Server Name: ←▬⌠Empire RP⌡▬⌠Grand Opening⌡▬⌠Serious RP⌡▬→🔫\n",
      "Server ID: qkj43z\n",
      "https://servers.fivem.net/servers/detail/qkj43z\n"
     ]
    },
    {
     "name": "stdout",
     "output_type": "stream",
     "text": [
      "=========================>\n",
      "English (United States)\n"
     ]
    },
    {
     "name": "stderr",
     "output_type": "stream",
     "text": [
      "Resources: _EDA_01, 17mov_BuilderJob, 17mov_Deliverer, 17mov_Electrician, 17mov_GarbageCollector, 17mov_GruppeSechs, 17mov_Postman, 17mov_TreasureHunter, 17mov_WindowCleaning, 710-rosin, ak47, ak47_qb_cookiesv2, ak47_qb_drugdealerv2, ak47_qb_hookahlounge, ak47_qb_usablecookiesv2, Altruist's%20Secret%20Shrine, ap-court, assets-paintshop, atmRob, baseevents, basic-gamemode, baton, bbv-paintshop, bcs_questionare, bob74_ipl, Browns-WigsnBundles, busclothespack, bz-ems, bz-fw, bz-gameplay-basics, carsfxounds, cfx-flux-hookahv2, cfx-gabz-247, cfx-gabz-atom, cfx-gabz-bahama, cfx-gabz-burgershot, cfx-gabz-carmeet, cfx-gabz-casino, cfx-gabz-catcafe, cfx-gabz-families, cfx-gabz-firedept, cfx-gabz-impound, cfx-gabz-mapdata, cfx-gabz-mba, cfx-gabz-mbadlc1, cfx-gabz-pdm, cfx-gabz-pdprops, cfx-gabz-prison, cfx-gabz-sandypd, cfx-gabz-townhall, chat, colt, datacrack, debug, Desert_Mansion, devyn-backitems, diables_hopital, diables_props, DoItDigital_100_Weapon_pack, DoItDigital_Interiors, DoItDigital_MLO_Assetpack, DoItDigital_Multiple_Drug_Places, doors_creator, drc_houserobbery, drc_uwucafe, drugs_creator, duxstin_drug, dvd_coke_lab, EDA_BASE, empire-loading, EmpireLAsign, examine-veh, ez_shrine_heist, farming_creator, FiniAC, FiniAP, fiv3devs_risingsun, fiv3devs_vu, fivem-appearance, GlamStudio, glock, grs_rapd, hackgame, hane_pondcafe, hex_bennys_luxury_docks, howdy-hackminigame, Howdy-Minigame, iak_skyclub_v3, interact-sound, J_AutosYard, JD_logs, jim-shops, K_FRAUDATMS, K_FRAUDPROPS, K_FRAUDSHOPS, K_FRAUDV2, k4mb1shellstarter, K9, killstore, killstore-assets, knockoutscript, lation_weed, laundry, lb-phone, lb-phone_music, lb-phone_prop, ln_papers, loaf_lib, lockpick, ls_image_placer, luger, lvc, m-PondCoffee, m4, Mansion_09_Malibu, Mansion_30_Penthouse_GC, mapmanager, mc9_rc_warehouse, mc9-abgm, mc9-apartment, mc9-arcade, mc9-basicjobs, mc9-burgershot, mc9-cases, mc9-clothingbag, mc9-communityservice, mc9-consumables, mc9-crafting, mc9-discord-api, mc9-donations, mc9-emspack, mc9-fingerprint, mc9-firejob, mc9-flipcard, mc9-greenzones, mc9-hud, mc9-jobcrafting, mc9-lib, mc9-logs, mc9-lsd, mc9-moneywash, mc9-musicbooth, mc9-occasions, mc9-pets, mc9-policepack, mc9-props, mc9-queue, mc9-recyclingcenter, mc9-robberies, mc9-theme, mc9-upnatoms, mc9-utils, mc9-vehiclecleanup, mc9-vehiclepack, mc9-vehicleshops, mc9-vehiclesounds, mc9-vehiclesounds2, mc9-weaponpack, memorygame, menu_default, menuv, meta_libs, mhacking, MikeyGangsigns, MilosCookiesv2, mka-lasers, mmo-elevators, monitor, mp5, nc-rental, newguns, nh-context, notes, nx-blips, nx-menus, okokReports, ox_lib, oxmysql, Pata_BabyProps, PataBabyScript, pd-safe, playboy-mansion-v2, pma-voice, policebadge, PolyZone, polyzonehelper, progressbar, prompt, Props, Prospecting, ps-dispatch, ps-fuel, ps-mdt, ps-ui, ps-zones, pug-fishing, pumpshotgun, qb_bandana, qb-adminmenu, qb-ambulancejob, qb-atms, qb-banking, qb-cityhall, qb-coke, qb-core, qb-customs, qb-dices, qb-diving, qb-doorlock, qb-gangs, qb-garages, qb-garbagejob, qb-grandmas, qb-input, qb-interior, qb-inventory, qb-justice, qb-keyminigame, qb-lockpick, qb-management, qb-menu, qb-multicharacter, qb-multijob, qb-oxyruns, qb-policejob, qb-radialmenu, qb-radio, qb-scenes, qb-scrapyard, qb-skillbar, qb-spawn, qb-target, qb-taskbarskill, qb-tunerchip, qb-vehiclefailure, qb-vehiclekeys, qb-vehicletuning, qb-warehouse, qb-weapons, qb-weathersync, qb-wrs, qs-housing, r_pepperspray, RageUI, rahe-boosting, rahe-hackingdevice, rahe-racing, randol_gravedigging, rb-airdrop, rcore_beerpong, rcore_camping, rcore_camping_assets, rcore_darts, rcore_gangs, rcore_pool, rcore_prison, rcore_radiocar, rcore_spray, rcore_spray_assets, rcore_stickers, rcore_television, rcore_tennis, rfc_redline_tuner_shop, rfc_redline_vip_showroom, robberies_creator, rockford_records, rpemotes, rtx_scenarios, rtx_themepark, rtx_themepark_objects, rtx_wateractivities, rtx_waterpark, safecracker, sawnoff, scratchcards, screenshot-basic, screwdriver, scully_mba, sd-creator, sh-k9, shops_creator, shrine_addon, shrineheistped, skillbar, Smart%20Taser, SmartFires, SmartHose, smithwesson, spawnmanager, squid-game-level1, taser, tec9, tgiann-fallouthacker, tv_scaleform, ultra-keypackhack, uniq-taxi, urp_interact, urp-methruns, urp-pawnshop, urp-utils, utk_fingerprint, utk_hackdependency, uzi, veh-hud, vivum-billing, warmenu, webpack, Weed_Land_Coffee_Shop, xsound, yarn, zerio-proximityprompt\n",
      "Game type: Freeroam\n",
      "OneSync: enabled\n",
      "Language: English (United States)\n",
      "Tags: qbcore, fun, rp, fivem\n",
      "DiscordLink: discord.gg/empirerp\n",
      "DLC level: 2699\n",
      "sv_pureLevel: 0\n",
      "can_review: true\n",
      "Owner: MC9_RolePlay3\n",
      "https://servers-live.fivem.net/servers/icon/4pyg5q/-958357224.png\n",
      "Server Name: ←▬⌠NEW⌡▬⌠FAMILIA 3.8⌡▬⌠#1 SERIOUS RP⌡→\n",
      "Server ID: 4pyg5q\n",
      "https://servers.fivem.net/servers/detail/4pyg5q\n"
     ]
    },
    {
     "name": "stdout",
     "output_type": "stream",
     "text": [
      "=========================>\n",
      "English (United States)\n"
     ]
    },
    {
     "name": "stderr",
     "output_type": "stream",
     "text": [
      "Resources: acidtrip, ambulance_brancard, anims, ArenaAPI, assets_burgershot, assets_medium_apt, assets_schotten, assets_vehicles, assets-art, assets-edmshowroom, assets-island, assets-mazebank, assets-pacific, baseevents, blackmarket-mlo, bmachine, boatdealer, bob74_ipl, boostinghack, breze_bowling_map, brofx_mansion_03, brofx_mansion_14, brofx_mansion_20, brofx_mansion06, cafe_russo, caravan, carfixchr, cfx_gn_ambulance_garage, cfx_gn_clinic_sandy, cfx_gn_collection, cfx_gn_int_clinic, cfx_gn_medical_accessories, cfx_gn_medical_assets, cfx_gn_sandy_mapdata, cfx-gabz-247, cfx-gabz-arcade, cfx-gabz-catcafe, cfx-gabz-impound, cfx-gabz-mapdata, cfx-gabz-mrpd, cfx-gabz-pdm, cfx-gabz-pdprops, cfx-gabz-pillbox, cfx-gabz-prison, cfx-gabz-records, cfx-gabz-sandypd, cfx-gabz-studio, cfx-gabz-tuners, cfx-gabz-vu, chat, coke, Cookies, cop-cars, debug, delveh, destiny_weedplant, discord-screenshot, dpemotes, drugtable, ed_pawnstar, ems, FiniAC, FiniAP, fiv3devs_bahamamamas, fivem, fivem-appearance, fivem-map-hipster, fixwiring, FN-509, fp-vehicleaudio, franklinhousefix, frp_advfishing, frp_advhunting, frp_ambulance, frp_apartments, frp_artgalleryheist, frp_atmrobbery, frp_atms, frp_badge, frp_banking, frp_bankrobbery, frp_banktruck, frp_billing, frp_blackjack, frp_blindfold, frp_boatanchor, frp_boatdealer, frp_bobcat, frp_boxlooting, frp_builderjob, frp_buiss, frp_busjob, frp_cameramenu, frp_carboostingv2, frp_carmenu, frp_carradio, frp_casino, frp_chairsystem, frp_cityhall, frp_cleaningjob, frp_clothing, frp_clothing_emergency, frp_clothing_female, frp_clothing_male, frp_cmd, frp_cokerun, frp_colorpicker, frp_context, frp_cookiesweed, frp_core, frp_crafting, frp_delivererjob, frp_dialog, frp_dispatch, frp_dj, frp_doorlock, frp_effects, frp_electricianjob, frp_elevator, frp_escortrun, frp_farming, frp_fm, frp_fpsbooster, frp_gangmenulib, frp_gangsystem, frp_gangsystemv2, frp_garages, frp_garbagecollectorjob, frp_goldpan, frp_gravelooting, frp_groups, frp_gruppesechsjob, frp_gunheist, frp_gym, frp_harness, frp_heavy, frp_houserobbery, frp_houses, frp_idcard, frp_interior, frp_inventory, frp_jewelry, frp_lasers, frp_lockpick, frp_logs, frp_lottery, frp_lumberjackjob, frp_management, frp_mdt, frp_mechanic, frp_mechanicjob, frp_menu, frp_metaldetecting, frp_methrun, frp_mini, frp_moneyjob, frp_newadmin, frp_newb, frp_newblackmarket, frp_newhud, frp_newjob, frp_newpaint, frp_oilrig, frp_oilriglib, frp_oxyruns, frp_paintballv2, frp_paycheck, frp_pharm, frp_pings, frp_planeruns, frp_plates, frp_playtimeshop, frp_poledance, frp_police, frp_pool, frp_postmanjob, frp_powerplant, frp_printer, frp_prisonbreak, frp_prisonguardjob, frp_projector, frp_puzzleminer, frp_races, frp_racingv2, frp_radio, frp_recyclejob, frp_request, frp_rollerskating, frp_scenes, frp_scrapyard, frp_scratching, frp_select, frp_sellcars, frp_shopr, frp_shops, frp_skillbar, frp_skillcheck, frp_skills, frp_small, frp_storage, frp_target, frp_taxijob, frp_towjob, frp_track, frp_treasurehunterjob, frp_tuner, frp_vehiclekeys, frp_vehiclenames, frp_vouchersystem, frp_vr, frp_vshop, frp_walkman, frp_weapons, frp_weathersync, frp_weazel, frp_wheel, frp_windowcleaningjob, frp-companions, frp-pokemontcg, frp-skateboard, g17a, gather_data, gCard, generic_texture_renderer_gfx, Grove-Street-Compound, hacking, helpresource, Howdy-Minigame, hud-compass, japrest, jr_chr, kaszino_rulett_standalone, lb-phone, lb-phoneprop, lbc_rockford_autos, LegacyFuel, Loadingscreen, loaf_lib, lostmc-clubhouse, lsc, luno_phoneshop, lux_vehcontrol, lvlpack1, lvlpack2, lvlpack3, lvlpack4, lvlpack5, lvlpack6, lvlpack7, lvlpack8, lvlpack9, lvlpack10, lvlpack11, lvlpack12, lvlpack13, lvlpack14, lvlpack15, lvlpack16, lvlpack17, lvlpack18, lvlpack19, lvlpack20, lvlpack21, lvlpack22, lvlpack23, lvlpack24, lvlpack25, lvlpackmisc, map-atlas, mapmanager, memorygame, menuv, meth, mhacking, Mk47, monitor, NativeUI, npas-custom_weapons, npas-custom_weapons_melee, npas-custom_weapons_old, npas-custom_weapons_thrown, npas-gunmetas, npas-HUB-casinomisc, npas-HUB-comic-store, npas-HUB-crypt, npas-HUB-djewel, npas-HUB-huntingstore, npas-HUB-lmansion, npas-HUB-oilrig, npas-HUB-townhall, ox_lib, oxmysql, pd_boat, pdnew, pma-voice, pokerasztal, PokerJS, PolyZone, progressbar, publicBoatRent, qb-lock, queue, rahe-hackingdevice, ranch-mlo, rcore_arcade, rcore_arenajoinhandler, rcore_basketball, rcore_basketball_assets, rcore_beerpong, rcore_bowling, rcore_derby, rcore_guidebook, rcore_prison, rcore_prison_models_gabz, rcore_spray, rcore_spray_assets, rcore_tattoos, rcore_tennis, rep_m4a1, ScarSc, screenshot-basic, selldrug, sound, spawnmanager, t3_lockpick, tacoshop, varhack, vehiclefailure, warmenu, weapon_back, webpack, webshop, weed, western_marina_2545, wk_wars2x, wnews, wxmaps-pharmacy, xsound, yarn\n",
      "Game type: Freeroam\n",
      "Map: fivem-map-hipster\n",
      "OneSync: enabled\n",
      "Language: English (United States)\n",
      "Tags: roleplay, rp, police, cars, ems, jobs, drugs, custom, serious, discord, economy, custom cars, mafia, gangs, onesync, seriousrp, custom framework, new, guns, inspired, xqc, twitch, egirl, cars, wars, 173, 187, fun, established, youtube, girl, free, nop, nopi, guns, gang, ssb, dod, streamer, staff, girl, drip, drugs, grizzley, thug, projectx, elite, classic, murda, viper, nopixle, pma, familia, premier, sob, v3, lucid, echo, district, lspd, 100, combat, wipe, fresh wipe, nopix\n",
      "Age: 18+\n",
      "Developer: Levelup Gaming\n",
      "Discord: discord.gg/familiapurple\n",
      "Microphone: Required\n",
      "Roleplay: Serious RP\n",
      "Uptime: 02h 28m\n",
      "Website: familiarp.com\n",
      "mapname: fivem-map-hipster\n",
      "DLC level: 2699\n",
      "sv_pureLevel: 0\n",
      "can_review: true\n",
      "Owner: familianetwork\n",
      "https://servers-live.fivem.net/servers/icon/evgyp3/1734276509.png\n",
      "Server Name: CIDADE SANTA ROLEPLAY #WIPE HOJE\n",
      "Server ID: evgyp3\n",
      "https://servers.fivem.net/servers/detail/evgyp3\n"
     ]
    },
    {
     "name": "stdout",
     "output_type": "stream",
     "text": [
      "=========================>\n",
      "English (United States)\n"
     ]
    },
    {
     "name": "stderr",
     "output_type": "stream",
     "text": [
      "Resources: admin, anims, arena, async, bank, barbershop, battleroyale, calladmin, cfx-freedmanh-hospital, cfx-nikit0-pier, cfx-nikit0-pier-paleto, cfx-nikit0-weapons-1, cfx-vanilla, chat, cloakroom, clothes, crafting, dealership, dk, doors, dynamic, empty, engine, farmer, garages, hovers, hub, hud, interactions, inventory, keyboard, lafy, lib, likizao_ac, likizao_ban, lscustoms, maps, maps-santa, mdt, monitor, notify, oxmysql, painel, party, peds, player, pma-voice, PolyZone, promoter_score, race, register, request, safezone, santa_radio, screenshot-basic, showme, skinshop, skinweapon, smartphone, spawn, survival, talknpc, target, tattooshop, tencode, vehs, vipvehicle, vrp, wall, warsystem\n",
      "Game type: Santa Group\n",
      "Map: Santa Group\n",
      "OneSync: enabled\n",
      "Language: Portuguese (Brazil)\n",
      "Tags: Cidade Santa SantaGroup RP, Roleplay, brasil, ROLEWAR,vrp\n",
      "Whitelist: DIRETAMENTE IN-GAME - BASTA CONECTAR\n",
      "DLC level: 2802\n",
      "sv_pureLevel: 0\n",
      "Owner: serveronionrp\n",
      "https://servers-live.fivem.net/servers/icon/8qvyrb/733293228.png\n"
     ]
    },
    {
     "name": "stdout",
     "output_type": "stream",
     "text": [
      "=========================>\n",
      "Portuguese (Brazil)\n"
     ]
    },
    {
     "name": "stderr",
     "output_type": "stream",
     "text": [
      "Server Name: CIDADE NOBRE ROLEPLAY #WIPE AGORA\n",
      "Server ID: 8qvyrb\n",
      "https://servers.fivem.net/servers/detail/8qvyrb\n",
      "Resources: admin, anims, arena, async, b2k-gifts, bank, barbershop, battleroyale, calladmin, cfx-freedmanh-hospital, cfx-nikit0-pier, cfx-nikit0-pier-paleto, cfx-nikit0-weapons-1, cfx-vanilla, chat, cloakroom, clothes, crafting, dealership, dk, doors, dynamic, empty, engine, farmer, garages, hovers, hub, hud, interactions, inventory, keyboard, lafy, lib, likizao_ac, likizao_ban, lscustoms, maps, maps-nobre, mdt, monitor, notify, oxmysql, painel, party, peds, player, pma-voice, PolyZone, promoter_score, race, register, request, safezone, santa_radio, screenshot-basic, showme, skinshop, skinweapon, smartphone, spawn, survival, talknpc, target, tattooshop, tencode, under-halloween, utility_halloween, utility_lib, vehs, vipvehicle, vrp, wall, warsystem\n",
      "Game type: Santa Group\n",
      "Map: Santa Group\n",
      "OneSync: enabled\n",
      "Language: Portuguese (Brazil)\n",
      "Tags: Cidade Nobre SantaGroup RP, Roleplay, brasil,vrp\n",
      "Whitelist: DIRETAMENTE IN-GAME - BASTA CONECTAR\n",
      "DLC level: 2802\n",
      "sv_pureLevel: 0\n",
      "Owner: serveronionrp\n",
      "https://servers-live.fivem.net/servers/icon/23o7lr/-1809062001.png\n",
      "Server Name: BAIXADA SP ⌠CARRO VIP + VIP INICIAL GRÁTIS⌡🌈\n",
      "Server ID: 23o7lr\n",
      "https://servers.fivem.net/servers/detail/23o7lr\n"
     ]
    },
    {
     "name": "stdout",
     "output_type": "stream",
     "text": [
      "=========================>\n",
      "Portuguese (Brazil)\n"
     ]
    },
    {
     "name": "stderr",
     "output_type": "stream",
     "text": [
      "Resources: baixada_arena, baixada_arsenal, baixada_bank, baixada_call, baixada_carros, baixada_char, baixada_dealership, baixada_defuse, baixada_facs, baixada_garages, baixada_hud, baixada_interactions, baixada_inventory, baixada_jobs, baixada_mapas, baixada_mdt, baixada_module, baixada_pvp, baixada_recruitment, baixada_robberies, baixada_roupas, baixada_skinshop, cfx-nikit0-weapons-1, chat, christmas, combo_race, complexo_newbox, core_misc, core_roubos, de_mirage, dom_module, dominacao, du_maps, favelaskillua, furia_painel, furia_sound, lafy, mirtin_craft_v2, mirtin_esc, mirtin_homes, mirtin_survival, MQCU, neons, oxmysql, painel_hospital, pma-voice, scanner, skinweapon, smartphone, smartphone-jobs, tunning, vrp, vrp_admin, vrp_barbershop, vrp_fanho, vrp_legacyfuel, vrp_notifypush, vrp_sounds, vrp_taskbar, vrp_tattoos, vrp_tencode, vrpserver, xsound, zo_attachs\n",
      "OneSync: enabled\n",
      "Language: Portuguese (Brazil)\n",
      "Tags: br,vrp\n",
      "Desenvolvedor: Killua#0001\n",
      "Discord: discord.gg/baixadasp\n",
      "DLC level: Los Santos Tuners\n",
      "sv_pureLevel: 0\n",
      "Owner: Paulo_Ricardo\n",
      "https://servers-live.fivem.net/servers/icon/x63aoe/-710309901.png\n",
      "Server Name: The Hills LA🌴\n",
      "Server ID: x63aoe\n",
      "https://servers.fivem.net/servers/detail/x63aoe\n"
     ]
    },
    {
     "name": "stdout",
     "output_type": "stream",
     "text": [
      "=========================>\n",
      "Portuguese (Brazil)\n"
     ]
    },
    {
     "name": "stderr",
     "output_type": "stream",
     "text": [
      "Resources: 03cobra, 5MDEVS_furnitureV3Loaded, 5MDEVS_furnitureV4, 5MDevs_luxemanor, 5MDevs_V1usable, 23Escvs, 23tundratrd, 86b64, 88ss30s, 300c, 812gts, 2019zr1SC, A1CT5, ak47_anklemonitor, ak47_cannabiscafev2, ak47_cardealer, ak47_iclothingv2, ak47_lasersight, ak47_smokingv2, ak47_whitewidowv2, AlfaGiulia21, awcustomhell, awjusta6, Badger_Discord_API, banshee87, baseevents, BCall_progress, benihana, Better-AD, bigbennyblackwhite, blips_creator, bmwm4csl, boostlam, brnx_hautenightclub, brutal_banking, brutal_gym, brutal_pets, brzcus, bt-polyzone, btracky, Buty_InfiniteJobs, c63s2023, ccm3, cd_drawtextui, cd_easytime, cd_vehiclecontrol, cfx-gabz-247, cfx-gabz-binco, cfx-gabz-firedept, cfx-gabz-mapdata, cfx-gabz-pdm, charger23d, chargerf8, chat, chevy, cinematiccam, core_crafting, core_dispatch, core_mdw, crazynova, cron, cs_radio, cumminschevyjd, Custom_clothing, datacrack, demod_e92bagged, DemonCharger21SCV3, devcore_smokev2, DiscordAcePerms, Dodge_MoparV2, doitdigital_50_weapons_insane_pack, DoItDigital_Interiors, DoItDigital_MLO_Assetpack, DoItDigital_Multiple_Drug_Places, DoItDigital_Recreational_Vehicles_Drug_Places, DoItDigital_Warehouse_Hidden_Drug_Places, dons_apple, doors_creator, dpclothing, drugs_creator, dt_19_mrpd, dx_hud, EasyAdmin, ed, EDA_01, EDA_BASE, es_extended, esx_addonaccount, esx_addoninventory, esx_adminplus, esx_basicneeds, esx_context, esx_garbagejob, esx_license, esx_menu_default, esx_menu_dialog, esx_menu_list, esx_multicharacter, esx_repairkit, esx_society, esx_status, esx_vehicleshop, esx-qalle-jail, EUK-CarLock, fivem-appearance, FM-AmmunationPub, FM-MooreClub, forgi_fg, FurnishedStashhousesShells, fusti_carwash, guns, hellcat15, HighendLabShells, highschool, hunter_bank_bom, hyccully, iceboxv2, ikx3awake, inside-moneywash, instance, JD_logs, jobs_creator, K_FRAUDATMS, K_FRAUDPROPS, K_FRAUDSHOPS, K_FRAUDV2, k_sexv, K4MB1-ClassicHousing, K4MB1-MansionHousing, K4MB1-VinewoodHousing, kgjoker, Knockout, kq_carlift, kq_driftsmoke, kq_outfitbag, kq_wheeldamage, LabShells, laundry, lb-phone, lb-phone_music, lb-phone_prop, lbwkevo, lg14c6vettena, liam-identity, loaf_billing, loaf_garage, loaf_housing, loaf_keysystem, loaf_lib, loaf_offsetfinder, loaf_realtor, loaf_tv, lp780r, m3topspec, m3vor, max_creationspack8, MenuAPI, monitor, mrhunter_legion_billboard, mstbc, mythic_notify, NativeUI, nh-context, nh-keyboard, NihanEMSPack, NihanLSPDPack, NisSkyR34RB, NW_fishing, okokNotify, okokReports, OT_hideintrunk, OT_taxi, OT_weaponrepair, ox_fuel, ox_inventory, ox_lib, oxmysql, Pata_BabyProps, Pata_BedroomProps, Pata_LaundryProps, Pata_LivingroomProps, Pata_NurseryProps, PataBabyScript, patoche_dealer_weapon, pe-basicloading, perms, pma-voice, pNotify, pntmcardi, PoloGRedeye, PolyZone, qtarget, rcore_basketball, rcore_basketball_assets, rcore_bowling, rcore_drunk, rcore_gangs, rcore_pool, rcore_radiocar, rcore_spray, rcore_spray_assets, rcore_tennis, RedeyeSuperstockSCV22, rfc_eastcostums_fivem, rob_atm, rprogress, RTGq8, rtx_scenarios, rtx_themepark, rtx_themepark_objects, s500trx, sc_chat, screenshot-basic, sendit_dragstrip_v2, serpeg8, sh-idcard, sharp-spawnselect, shops_creator, skeexsNotify, slashtires, SleepOrSex, soundcarpack, sounds, spawnmanager, srtday201, ss5rb, Superior-Hospital, sxchop, tfg_givecar, thehills_clothing, thehills_mechanic, thehills-cars, thehills-compacted, thehills-dice, thehills-DJ, thehills-emotemenu, thehills-pedmenu, thehills-scoreboard, thunder_mechanicsto, tihulu_bowling, tk_oblockballas, TrafficAdjuster, upf80, v-queue, vanzch06, vanzdmus, vanzforg, wasabi_ambulance, wasabi_backpack, wasabi_bridge, wasabi_crutch, wasabi_evidence, wasabi_multijob, wasabi_police, WaveShield, white_widow_cannabis_cafe, x99-vehstance, xradio, xsound, YBNMilosRecordStudiov2, zerks_carding, zm_mcdonalds_mlo\n",
      "Game type: ESX Legacy\n",
      "Map: San Andreas\n",
      "OneSync: enabled\n",
      "Language: English (United States)\n",
      "Tags: seriousrp, serious rp, combat, 1v1, low desync, esx, famous, ssb, adin ross, district10, semi-serious, roleplay, zooyork, Hoodrp, thepalmsla, Streamer, theheights, gang, gangrp, semi, 100k, thehills, ybn, d10, cityofhouston, mechanic, economy, shooting, jobs, drugs, whitelist, nonwhitelist, girl, egirl, la,esx\n",
      "Discord: discord.gg/thehills\n",
      "JD_logs: V2.1.7.12b\n",
      "Owner: Top Rackxzz\n",
      "Website: thehills.tebex.io\n",
      "DLC level: 2612\n",
      "sv_pureLevel: 0\n",
      "can_review: true\n",
      "Owner: TopRacks\n"
     ]
    },
    {
     "name": "stdout",
     "output_type": "stream",
     "text": [
      "=========================>\n",
      "English (United States)\n"
     ]
    }
   ],
   "source": [
    "if __name__ == \"__main__\":\n",
    "    bot = FiveMScraper()\n",
    "    bot.start()"
   ]
  },
  {
   "cell_type": "code",
   "execution_count": null,
   "metadata": {},
   "outputs": [],
   "source": []
  },
  {
   "cell_type": "code",
   "execution_count": 5,
   "metadata": {},
   "outputs": [],
   "source": [
    "lines = {'Readme', 'How to write text files in Python'}"
   ]
  },
  {
   "cell_type": "code",
   "execution_count": 7,
   "metadata": {},
   "outputs": [],
   "source": [
    "with open('setLinks.txt', 'w') as f:\n",
    "    for line in lines:\n",
    "        f.write(line)\n",
    "        f.write('\\n')"
   ]
  },
  {
   "cell_type": "code",
   "execution_count": null,
   "metadata": {},
   "outputs": [],
   "source": []
  },
  {
   "cell_type": "code",
   "execution_count": null,
   "metadata": {},
   "outputs": [],
   "source": []
  },
  {
   "cell_type": "code",
   "execution_count": null,
   "metadata": {},
   "outputs": [],
   "source": []
  }
 ],
 "metadata": {
  "colab": {
   "provenance": []
  },
  "kernelspec": {
   "display_name": "Python 3 (ipykernel)",
   "language": "python",
   "name": "python3"
  },
  "language_info": {
   "codemirror_mode": {
    "name": "ipython",
    "version": 3
   },
   "file_extension": ".py",
   "mimetype": "text/x-python",
   "name": "python",
   "nbconvert_exporter": "python",
   "pygments_lexer": "ipython3",
   "version": "3.11.4"
  }
 },
 "nbformat": 4,
 "nbformat_minor": 1
}
